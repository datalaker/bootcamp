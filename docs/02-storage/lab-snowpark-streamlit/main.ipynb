{
 "cells": [
  {
   "cell_type": "code",
   "execution_count": null,
   "metadata": {},
   "outputs": [],
   "source": [
    "!pip install streamlit"
   ]
  },
  {
   "cell_type": "markdown",
   "metadata": {},
   "source": [
    "Via GUI, get the **Environment Data Atlas**."
   ]
  },
  {
   "cell_type": "markdown",
   "metadata": {},
   "source": [
    "In particular, we will analyze data in schema ENVIRONMENT from tables EDGARED2019, WBWDI2019Jan, and UNENVDB2018."
   ]
  },
  {
   "cell_type": "code",
   "execution_count": null,
   "metadata": {},
   "outputs": [],
   "source": [
    "from snowflake.snowpark.session import Session\n",
    "from snowflake.snowpark.functions import avg, sum, col,lit\n",
    "import streamlit as st\n",
    "import pandas as pd"
   ]
  },
  {
   "cell_type": "code",
   "execution_count": 6,
   "metadata": {},
   "outputs": [],
   "source": [
    "# Create Session object\n",
    "def create_session_object():\n",
    "   connection_parameters = {\n",
    "      \"account\": \"\",\n",
    "      \"user\": \"\",\n",
    "      \"password\": \"\",\n",
    "      \"role\": \"ACCOUNTADMIN\",\n",
    "      \"warehouse\": \"COMPUTE_WH\",\n",
    "      \"database\": \"ENVIRONMENT_DATA_ATLAS\",\n",
    "      \"schema\": \"PUBLIC\"\n",
    "   }\n",
    "   session = Session.builder.configs(connection_parameters).create()\n",
    "   print(session.sql('select current_warehouse(), current_database(), current_schema()').collect())\n",
    "   return session"
   ]
  },
  {
   "cell_type": "markdown",
   "metadata": {},
   "source": [
    "Create three Snowpark DataFrames to load data from tables EDGARED2019, WBWDI2019Jan, and UNENVDB2018 from schema ENVIRONMENT"
   ]
  },
  {
   "cell_type": "code",
   "execution_count": 7,
   "metadata": {},
   "outputs": [
    {
     "name": "stderr",
     "output_type": "stream",
     "text": [
      "2022-08-05 14:54:48.738 INFO    snowflake.connector.connection: Snowflake Connector for Python Version: 2.7.11, Python Version: 3.8.13, Platform: macOS-10.16-x86_64-i386-64bit\n",
      "2022-08-05 14:54:48.748 INFO    snowflake.connector.connection: This connection is in OCSP Fail Open Mode. TLS Certificates would be checked for validity and revocation status. Any other Certificate Revocation related exceptions or OCSP Responder failures would be disregarded in favor of connectivity.\n",
      "2022-08-05 14:54:48.750 INFO    snowflake.connector.connection: Setting use_openssl_only mode to False\n",
      "2022-08-05 14:54:51.514 INFO    snowflake.snowpark.session: Snowpark Session information: \n",
      "\"version\" : 0.8.0,\n",
      "\"python.version\" : 3.8.13,\n",
      "\"python.connector.version\" : 2.7.11,\n",
      "\"python.connector.session.id\" : 135057072137,\n",
      "\"os.name\" : Darwin\n",
      "\n",
      "2022-08-05 14:54:51.524 INFO    snowflake.connector.cursor: query: [select current_warehouse(), current_database(), current_schema()]\n",
      "2022-08-05 14:54:51.948 INFO    snowflake.connector.cursor: query execution done\n"
     ]
    },
    {
     "name": "stdout",
     "output_type": "stream",
     "text": [
      "[Row(CURRENT_WAREHOUSE()='COMPUTE_WH', CURRENT_DATABASE()='ENVIRONMENT_DATA_ATLAS', CURRENT_SCHEMA()=None)]\n"
     ]
    }
   ],
   "source": [
    "session = create_session_object()"
   ]
  },
  {
   "cell_type": "code",
   "execution_count": 8,
   "metadata": {},
   "outputs": [
    {
     "name": "stderr",
     "output_type": "stream",
     "text": [
      "2022-08-05 14:55:27.322 INFO    snowflake.connector.cursor: query: [SELECT  *  FROM ( SELECT  *  FROM ( SELECT  *  FROM (ENVIRONMENT.EDGARED2019)) W...]\n",
      "2022-08-05 14:55:29.056 INFO    snowflake.connector.cursor: query execution done\n",
      "2022-08-05 14:55:29.059 INFO    snowflake.connector.cursor: query: [SELECT  *  FROM ( SELECT \"Location Name\", sum(\"$16\") AS \"Total CO2 Emissions\" FR...]\n",
      "2022-08-05 14:55:29.584 INFO    snowflake.connector.cursor: query execution done\n",
      "2022-08-05 14:55:29.585 INFO    snowflake.connector.cursor: query: [SELECT  *  FROM ( SELECT  *  FROM (ENVIRONMENT.\"WBWDI2019Jan\")) WHERE (\"Series N...]\n",
      "2022-08-05 14:55:31.012 INFO    snowflake.connector.cursor: query execution done\n",
      "2022-08-05 14:55:31.014 INFO    snowflake.connector.cursor: query: [SELECT \"Country Name\", sum(\"$61\") AS \"Total Share of Forest Land\" FROM ( SELECT ...]\n",
      "2022-08-05 14:55:31.410 INFO    snowflake.connector.cursor: query execution done\n",
      "2022-08-05 14:55:31.412 INFO    snowflake.connector.cursor: query: [SELECT  *  FROM ( SELECT  *  FROM (ENVIRONMENT.UNENVDB2018)) WHERE (\"Variable Na...]\n",
      "2022-08-05 14:55:32.439 INFO    snowflake.connector.cursor: query execution done\n",
      "2022-08-05 14:55:32.442 INFO    snowflake.connector.cursor: query: [SELECT \"Location Name\", sum(\"$12\") AS \"Total Municipal Waste\" FROM ( SELECT NULL...]\n",
      "2022-08-05 14:55:32.808 INFO    snowflake.connector.cursor: query execution done\n"
     ]
    }
   ],
   "source": [
    "# CO2 Emissions by Country\n",
    "snow_df_co2 = session.table(\"ENVIRONMENT.EDGARED2019\").filter(col('Indicator Name') == 'Fossil CO2 Emissions').filter(col('Type Name') == 'All Type')\n",
    "snow_df_co2 = snow_df_co2.group_by('Location Name').agg(sum('$16').alias(\"Total CO2 Emissions\")).filter(col('Location Name') != 'World').sort('Location Name')\n",
    "\n",
    "# Forest Occupied Land Area by Country\n",
    "snow_df_land = session.table(\"ENVIRONMENT.\\\"WBWDI2019Jan\\\"\").filter(col('Series Name') == 'Forest area (% of land area)')\n",
    "snow_df_land = snow_df_land.group_by('Country Name').agg(sum('$61').alias(\"Total Share of Forest Land\")).sort('Country Name')\n",
    "\n",
    "# Total Municipal Waste by Country\n",
    "snow_df_waste = session.table(\"ENVIRONMENT.UNENVDB2018\").filter(col('Variable Name') == 'Municipal waste collected')\n",
    "snow_df_waste = snow_df_waste.group_by('Location Name').agg(sum('$12').alias(\"Total Municipal Waste\")).sort('Location Name')"
   ]
  },
  {
   "cell_type": "markdown",
   "metadata": {},
   "source": [
    "More importantly, note that at this point nothing is executed on the server because of lazy evaluation–which reduces the amount of data exchanged between Snowflake and the client/application."
   ]
  },
  {
   "cell_type": "code",
   "execution_count": 9,
   "metadata": {},
   "outputs": [
    {
     "name": "stderr",
     "output_type": "stream",
     "text": [
      "2022-08-05 14:56:53.227 INFO    snowflake.connector.cursor: query: [SELECT  *  FROM ( SELECT  *  FROM ( SELECT \"Location Name\", sum(\"$16\") AS \"Total...]\n",
      "2022-08-05 14:56:55.744 INFO    snowflake.connector.cursor: query execution done\n",
      "2022-08-05 14:56:55.839 INFO    snowflake.connector.cursor: query: [SELECT  *  FROM ( SELECT \"Country Name\", sum(\"$61\") AS \"Total Share of Forest La...]\n",
      "2022-08-05 14:56:59.398 INFO    snowflake.connector.cursor: query execution done\n",
      "2022-08-05 14:56:59.405 INFO    snowflake.connector.cursor: query: [SELECT  *  FROM ( SELECT \"Location Name\", sum(\"$12\") AS \"Total Municipal Waste\" ...]\n",
      "2022-08-05 14:57:01.467 INFO    snowflake.connector.cursor: query execution done\n"
     ]
    }
   ],
   "source": [
    "# Convert Snowpark DataFrames to Pandas DataFrames for Streamlit\n",
    "pd_df_co2 = snow_df_co2.to_pandas()\n",
    "pd_df_land = snow_df_land.to_pandas()\n",
    "pd_df_waste = snow_df_waste.to_pandas()"
   ]
  },
  {
   "cell_type": "code",
   "execution_count": 10,
   "metadata": {},
   "outputs": [
    {
     "name": "stdout",
     "output_type": "stream",
     "text": [
      "Writing my_snowpark_streamlit_app.py\n"
     ]
    }
   ],
   "source": [
    "%%writefile my_snowpark_streamlit_app.py\n",
    "#!/usr/bin/env python\n",
    "\n",
    "# Snowpark\n",
    "from snowflake.snowpark.session import Session\n",
    "from snowflake.snowpark.functions import avg, sum, col,lit\n",
    "\n",
    "import os\n",
    "from dotenv import load_dotenv\n",
    "load_dotenv()\n",
    "PASS = os.getenv('PASS')\n",
    "\n",
    "#Streamlit\n",
    "import streamlit as st\n",
    "\n",
    "st.set_page_config(\n",
    "     page_title=\"Environment Data Atlas\",\n",
    "     page_icon=\"🧊\",\n",
    "     layout=\"wide\",\n",
    "     initial_sidebar_state=\"expanded\",\n",
    "     menu_items={\n",
    "         'Get Help': 'https://developers.snowflake.com',\n",
    "         'About': \"This is an *extremely* cool app powered by Snowpark for Python, Streamlit, and Snowflake Data Marketplace\"\n",
    "     }\n",
    " )\n",
    "\n",
    "# Misc\n",
    "import pandas as pd\n",
    "\n",
    "# Create Session object\n",
    "def create_session_object():\n",
    "    connection_parameters = {\n",
    "        \"account\": \"\",\n",
    "        \"user\": \"\",\n",
    "        \"password\": PASS,\n",
    "        \"role\": \"ACCOUNTADMIN\",\n",
    "        \"warehouse\": \"COMPUTE_WH\",\n",
    "        \"database\": \"ENVIRONMENT_DATA_ATLAS\",\n",
    "        \"schema\": \"PUBLIC\"\n",
    "    }\n",
    "    session = Session.builder.configs(connection_parameters).create()\n",
    "    print(session.sql('select current_warehouse(), current_database(), current_schema()').collect())\n",
    "    return session\n",
    "  \n",
    "# Create Snowpark DataFrames that loads data from Knoema: Environmental Data Atlas\n",
    "def load_data(session):\n",
    "    # CO2 Emissions by Country\n",
    "    snow_df_co2 = session.table(\"ENVIRONMENT.EDGARED2019\").filter(col('Indicator Name') == 'Fossil CO2 Emissions').filter(col('Type Name') == 'All Type')\n",
    "    snow_df_co2 = snow_df_co2.group_by('Location Name').agg(sum('$16').alias(\"Total CO2 Emissions\")).filter(col('Location Name') != 'World').sort('Location Name')\n",
    "    \n",
    "    # Forest Occupied Land Area by Country\n",
    "    snow_df_land = session.table(\"ENVIRONMENT.\\\"WBWDI2019Jan\\\"\").filter(col('Series Name') == 'Forest area (% of land area)')\n",
    "    snow_df_land = snow_df_land.group_by('Country Name').agg(sum('$61').alias(\"Total Share of Forest Land\")).sort('Country Name')\n",
    "    \n",
    "    # Total Municipal Waste by Country\n",
    "    snow_df_waste = session.table(\"ENVIRONMENT.UNENVDB2018\").filter(col('Variable Name') == 'Municipal waste collected')\n",
    "    snow_df_waste = snow_df_waste.group_by('Location Name').agg(sum('$12').alias(\"Total Municipal Waste\")).sort('Location Name')\n",
    "    \n",
    "    # Convert Snowpark DataFrames to Pandas DataFrames for Streamlit\n",
    "    pd_df_co2  = snow_df_co2.to_pandas()\n",
    "    pd_df_land = snow_df_land.to_pandas() \n",
    "    pd_df_waste = snow_df_waste.to_pandas()\n",
    "    \n",
    "    # Add header and a subheader\n",
    "    st.header(\"Knoema: Environment Data Atlas\")\n",
    "    st.subheader(\"Powered by Snowpark for Python and Snowflake Data Marketplace | Made with Streamlit\")\n",
    "    \n",
    "    # Use columns to display the three dataframes side-by-side along with their headers\n",
    "    col1, col2, col3 = st.columns(3)\n",
    "    with st.container():\n",
    "        with col1:\n",
    "            st.subheader('CO2 Emissions by Country')\n",
    "            st.dataframe(pd_df_co2)\n",
    "        with col2:\n",
    "            st.subheader('Forest Occupied Land Area by Country')\n",
    "            st.dataframe(pd_df_land)\n",
    "        with col3:\n",
    "            st.subheader('Total Municipal Waste by Country')\n",
    "            st.dataframe(pd_df_waste)\n",
    "    \n",
    "    # Display an interactive chart to visualize CO2 Emissions by Top N Countries\n",
    "    with st.container():\n",
    "        st.subheader('CO2 Emissions by Top N Countries')\n",
    "        with st.expander(\"\"):\n",
    "            emissions_threshold = st.number_input(label='Emissions Threshold',min_value=5000, value=20000, step=5000)\n",
    "            pd_df_co2_top_n = snow_df_co2.filter(col('Total CO2 Emissions') > emissions_threshold).to_pandas()\n",
    "            st.bar_chart(data=pd_df_co2_top_n.set_index('Location Name'), width=850, height=500, use_container_width=True)\n",
    "\n",
    "if __name__ == \"__main__\":\n",
    "    session = create_session_object()\n",
    "    load_data(session)"
   ]
  },
  {
   "cell_type": "code",
   "execution_count": 12,
   "metadata": {},
   "outputs": [
    {
     "name": "stdout",
     "output_type": "stream",
     "text": [
      "2022-08-05 15:05:38.475 WARNING matplotlib: Missing colon in file '/Users/sparshagarwal/.matplotlib/matplotlibrc', line 3 ('\\x18')\n",
      "2022-08-05 15:05:38.475 WARNING matplotlib: Missing colon in file '/Users/sparshagarwal/.matplotlib/matplotlibrc', line 4 ('`\\x1b\\x1b\\x1b\\x1b\\x1b\\x1b')\n",
      "\u001b[0m\n",
      "\u001b[34m\u001b[1m  You can now view your Streamlit app in your browser.\u001b[0m\n",
      "\u001b[0m\n",
      "\u001b[34m  Local URL: \u001b[0m\u001b[1mhttp://localhost:8501\u001b[0m\n",
      "\u001b[34m  Network URL: \u001b[0m\u001b[1mhttp://192.168.43.157:8501\u001b[0m\n",
      "\u001b[0m\n",
      "\u001b[34m\u001b[1m  For better performance, install the Watchdog module:\u001b[0m\n",
      "\n",
      "  $ xcode-select --install\n",
      "  $ pip install watchdog\n",
      "            \u001b[0m\n",
      "2022-08-05 15:05:47.039 Snowflake Connector for Python Version: 2.7.11, Python Version: 3.8.13, Platform: macOS-10.16-x86_64-i386-64bit\n",
      "2022-08-05 15:05:47.040 This connection is in OCSP Fail Open Mode. TLS Certificates would be checked for validity and revocation status. Any other Certificate Revocation related exceptions or OCSP Responder failures would be disregarded in favor of connectivity.\n",
      "2022-08-05 15:05:49.390 Snowpark Session information: \n",
      "\"version\" : 0.8.0,\n",
      "\"python.version\" : 3.8.13,\n",
      "\"python.connector.version\" : 2.7.11,\n",
      "\"python.connector.session.id\" : 135057055765,\n",
      "\"os.name\" : Darwin\n",
      "\n",
      "2022-08-05 15:05:49.395 query: [select current_warehouse(), current_database(), current_schema()]\n",
      "2022-08-05 15:05:49.781 query execution done\n",
      "[Row(CURRENT_WAREHOUSE()='COMPUTE_WH', CURRENT_DATABASE()='ENVIRONMENT_DATA_ATLAS', CURRENT_SCHEMA()=None)]\n",
      "2022-08-05 15:05:49.783 query: [SELECT  *  FROM ( SELECT  *  FROM ( SELECT  *  FROM (ENVIRONMENT.EDGARED2019)) W...]\n",
      "2022-08-05 15:05:50.185 query execution done\n",
      "2022-08-05 15:05:50.187 query: [SELECT  *  FROM ( SELECT \"Location Name\", sum(\"$16\") AS \"Total CO2 Emissions\" FR...]\n",
      "2022-08-05 15:05:50.538 query execution done\n",
      "2022-08-05 15:05:50.539 query: [SELECT  *  FROM ( SELECT  *  FROM (ENVIRONMENT.\"WBWDI2019Jan\")) WHERE (\"Series N...]\n",
      "2022-08-05 15:05:51.544 query execution done\n",
      "2022-08-05 15:05:51.548 query: [SELECT \"Country Name\", sum(\"$61\") AS \"Total Share of Forest Land\" FROM ( SELECT ...]\n",
      "2022-08-05 15:05:51.934 query execution done\n",
      "2022-08-05 15:05:51.936 query: [SELECT  *  FROM ( SELECT  *  FROM (ENVIRONMENT.UNENVDB2018)) WHERE (\"Variable Na...]\n",
      "2022-08-05 15:05:52.355 query execution done\n",
      "2022-08-05 15:05:52.356 query: [SELECT \"Location Name\", sum(\"$12\") AS \"Total Municipal Waste\" FROM ( SELECT NULL...]\n",
      "2022-08-05 15:05:52.801 query execution done\n",
      "2022-08-05 15:05:52.802 query: [SELECT  *  FROM ( SELECT  *  FROM ( SELECT \"Location Name\", sum(\"$16\") AS \"Total...]\n",
      "2022-08-05 15:05:53.276 query execution done\n",
      "2022-08-05 15:05:53.292 query: [SELECT  *  FROM ( SELECT \"Country Name\", sum(\"$61\") AS \"Total Share of Forest La...]\n",
      "2022-08-05 15:05:53.770 query execution done\n",
      "2022-08-05 15:05:53.775 query: [SELECT  *  FROM ( SELECT \"Location Name\", sum(\"$12\") AS \"Total Municipal Waste\" ...]\n",
      "2022-08-05 15:05:54.538 query execution done\n",
      "2022-08-05 15:05:54.775 query: [SELECT  *  FROM ( SELECT  *  FROM ( SELECT  *  FROM ( SELECT \"Location Name\", su...]\n",
      "2022-08-05 15:05:56.721 query execution done\n",
      "2022-08-05 15:06:19.440 Snowflake Connector for Python Version: 2.7.11, Python Version: 3.8.13, Platform: macOS-10.16-x86_64-i386-64bit\n",
      "2022-08-05 15:06:19.440 This connection is in OCSP Fail Open Mode. TLS Certificates would be checked for validity and revocation status. Any other Certificate Revocation related exceptions or OCSP Responder failures would be disregarded in favor of connectivity.\n",
      "2022-08-05 15:06:21.418 Snowpark Session information: \n",
      "\"version\" : 0.8.0,\n",
      "\"python.version\" : 3.8.13,\n",
      "\"python.connector.version\" : 2.7.11,\n",
      "\"python.connector.session.id\" : 135057059865,\n",
      "\"os.name\" : Darwin\n",
      "\n",
      "2022-08-05 15:06:21.419 query: [select current_warehouse(), current_database(), current_schema()]\n",
      "2022-08-05 15:06:21.797 query execution done\n",
      "[Row(CURRENT_WAREHOUSE()='COMPUTE_WH', CURRENT_DATABASE()='ENVIRONMENT_DATA_ATLAS', CURRENT_SCHEMA()=None)]\n",
      "2022-08-05 15:06:21.798 query: [SELECT  *  FROM ( SELECT  *  FROM ( SELECT  *  FROM (ENVIRONMENT.EDGARED2019)) W...]\n",
      "2022-08-05 15:06:23.144 query execution done\n",
      "2022-08-05 15:06:23.146 query: [SELECT  *  FROM ( SELECT \"Location Name\", sum(\"$16\") AS \"Total CO2 Emissions\" FR...]\n",
      "2022-08-05 15:06:23.483 query execution done\n",
      "2022-08-05 15:06:23.484 query: [SELECT  *  FROM ( SELECT  *  FROM (ENVIRONMENT.\"WBWDI2019Jan\")) WHERE (\"Series N...]\n",
      "2022-08-05 15:06:24.544 query execution done\n",
      "2022-08-05 15:06:24.545 query: [SELECT \"Country Name\", sum(\"$61\") AS \"Total Share of Forest Land\" FROM ( SELECT ...]\n",
      "2022-08-05 15:06:24.914 query execution done\n",
      "2022-08-05 15:06:24.916 query: [SELECT  *  FROM ( SELECT  *  FROM (ENVIRONMENT.UNENVDB2018)) WHERE (\"Variable Na...]\n",
      "2022-08-05 15:06:25.412 query execution done\n",
      "2022-08-05 15:06:25.413 query: [SELECT \"Location Name\", sum(\"$12\") AS \"Total Municipal Waste\" FROM ( SELECT NULL...]\n",
      "2022-08-05 15:06:25.781 query execution done\n",
      "2022-08-05 15:06:25.782 query: [SELECT  *  FROM ( SELECT  *  FROM ( SELECT \"Location Name\", sum(\"$16\") AS \"Total...]\n",
      "2022-08-05 15:06:26.233 query execution done\n",
      "2022-08-05 15:06:26.238 query: [SELECT  *  FROM ( SELECT \"Country Name\", sum(\"$61\") AS \"Total Share of Forest La...]\n",
      "2022-08-05 15:06:26.867 query execution done\n",
      "2022-08-05 15:06:26.872 query: [SELECT  *  FROM ( SELECT \"Location Name\", sum(\"$12\") AS \"Total Municipal Waste\" ...]\n",
      "2022-08-05 15:06:27.310 query execution done\n",
      "2022-08-05 15:06:27.329 query: [SELECT  *  FROM ( SELECT  *  FROM ( SELECT  *  FROM ( SELECT \"Location Name\", su...]\n",
      "2022-08-05 15:06:29.048 query execution done\n",
      "2022-08-05 15:06:59.923 Snowflake Connector for Python Version: 2.7.11, Python Version: 3.8.13, Platform: macOS-10.16-x86_64-i386-64bit\n",
      "2022-08-05 15:06:59.924 This connection is in OCSP Fail Open Mode. TLS Certificates would be checked for validity and revocation status. Any other Certificate Revocation related exceptions or OCSP Responder failures would be disregarded in favor of connectivity.\n",
      "2022-08-05 15:07:01.842 Snowpark Session information: \n",
      "\"version\" : 0.8.0,\n",
      "\"python.version\" : 3.8.13,\n",
      "\"python.connector.version\" : 2.7.11,\n",
      "\"python.connector.session.id\" : 135057059869,\n",
      "\"os.name\" : Darwin\n",
      "\n",
      "2022-08-05 15:07:01.842 query: [select current_warehouse(), current_database(), current_schema()]\n",
      "2022-08-05 15:07:02.267 query execution done\n",
      "[Row(CURRENT_WAREHOUSE()='COMPUTE_WH', CURRENT_DATABASE()='ENVIRONMENT_DATA_ATLAS', CURRENT_SCHEMA()=None)]\n",
      "2022-08-05 15:07:02.268 query: [SELECT  *  FROM ( SELECT  *  FROM ( SELECT  *  FROM (ENVIRONMENT.EDGARED2019)) W...]\n",
      "2022-08-05 15:07:02.693 query execution done\n",
      "2022-08-05 15:07:02.693 query: [SELECT  *  FROM ( SELECT \"Location Name\", sum(\"$16\") AS \"Total CO2 Emissions\" FR...]\n",
      "2022-08-05 15:07:03.065 query execution done\n",
      "2022-08-05 15:07:03.066 query: [SELECT  *  FROM ( SELECT  *  FROM (ENVIRONMENT.\"WBWDI2019Jan\")) WHERE (\"Series N...]\n",
      "2022-08-05 15:07:03.554 query execution done\n",
      "2022-08-05 15:07:03.557 query: [SELECT \"Country Name\", sum(\"$61\") AS \"Total Share of Forest Land\" FROM ( SELECT ...]\n",
      "2022-08-05 15:07:03.930 query execution done\n",
      "2022-08-05 15:07:03.931 query: [SELECT  *  FROM ( SELECT  *  FROM (ENVIRONMENT.UNENVDB2018)) WHERE (\"Variable Na...]\n",
      "2022-08-05 15:07:04.389 query execution done\n",
      "2022-08-05 15:07:04.391 query: [SELECT \"Location Name\", sum(\"$12\") AS \"Total Municipal Waste\" FROM ( SELECT NULL...]\n",
      "2022-08-05 15:07:04.800 query execution done\n",
      "2022-08-05 15:07:04.801 query: [SELECT  *  FROM ( SELECT  *  FROM ( SELECT \"Location Name\", sum(\"$16\") AS \"Total...]\n",
      "2022-08-05 15:07:05.260 query execution done\n",
      "2022-08-05 15:07:05.264 query: [SELECT  *  FROM ( SELECT \"Country Name\", sum(\"$61\") AS \"Total Share of Forest La...]\n",
      "2022-08-05 15:07:05.752 query execution done\n",
      "2022-08-05 15:07:05.756 query: [SELECT  *  FROM ( SELECT \"Location Name\", sum(\"$12\") AS \"Total Municipal Waste\" ...]\n",
      "2022-08-05 15:07:06.175 query execution done\n",
      "2022-08-05 15:07:06.192 query: [SELECT  *  FROM ( SELECT  *  FROM ( SELECT  *  FROM ( SELECT \"Location Name\", su...]\n",
      "2022-08-05 15:07:07.239 query execution done\n",
      "/Users/sparshagarwal/anaconda3/envs/env-snow/lib/python3.8/site-packages/altair/utils/core.py:219: UserWarning: I don't know how to infer vegalite type from 'empty'.  Defaulting to nominal.\n",
      "  warnings.warn(\n",
      "2022-08-05 15:07:15.997 Snowflake Connector for Python Version: 2.7.11, Python Version: 3.8.13, Platform: macOS-10.16-x86_64-i386-64bit\n",
      "2022-08-05 15:07:15.997 This connection is in OCSP Fail Open Mode. TLS Certificates would be checked for validity and revocation status. Any other Certificate Revocation related exceptions or OCSP Responder failures would be disregarded in favor of connectivity.\n",
      "2022-08-05 15:07:17.869 Snowpark Session information: \n",
      "\"version\" : 0.8.0,\n",
      "\"python.version\" : 3.8.13,\n",
      "\"python.connector.version\" : 2.7.11,\n",
      "\"python.connector.session.id\" : 135057055769,\n",
      "\"os.name\" : Darwin\n",
      "\n",
      "2022-08-05 15:07:17.869 query: [select current_warehouse(), current_database(), current_schema()]\n",
      "2022-08-05 15:07:18.272 query execution done\n",
      "[Row(CURRENT_WAREHOUSE()='COMPUTE_WH', CURRENT_DATABASE()='ENVIRONMENT_DATA_ATLAS', CURRENT_SCHEMA()=None)]\n",
      "2022-08-05 15:07:18.273 query: [SELECT  *  FROM ( SELECT  *  FROM ( SELECT  *  FROM (ENVIRONMENT.EDGARED2019)) W...]\n",
      "2022-08-05 15:07:18.725 query execution done\n",
      "2022-08-05 15:07:18.726 query: [SELECT  *  FROM ( SELECT \"Location Name\", sum(\"$16\") AS \"Total CO2 Emissions\" FR...]\n",
      "2022-08-05 15:07:19.150 query execution done\n",
      "2022-08-05 15:07:19.151 query: [SELECT  *  FROM ( SELECT  *  FROM (ENVIRONMENT.\"WBWDI2019Jan\")) WHERE (\"Series N...]\n",
      "2022-08-05 15:07:20.442 query execution done\n",
      "2022-08-05 15:07:20.443 query: [SELECT \"Country Name\", sum(\"$61\") AS \"Total Share of Forest Land\" FROM ( SELECT ...]\n",
      "2022-08-05 15:07:20.812 query execution done\n",
      "2022-08-05 15:07:20.812 query: [SELECT  *  FROM ( SELECT  *  FROM (ENVIRONMENT.UNENVDB2018)) WHERE (\"Variable Na...]\n",
      "2022-08-05 15:07:21.240 query execution done\n",
      "2022-08-05 15:07:21.242 query: [SELECT \"Location Name\", sum(\"$12\") AS \"Total Municipal Waste\" FROM ( SELECT NULL...]\n",
      "2022-08-05 15:07:21.877 query execution done\n",
      "2022-08-05 15:07:21.878 query: [SELECT  *  FROM ( SELECT  *  FROM ( SELECT \"Location Name\", sum(\"$16\") AS \"Total...]\n",
      "2022-08-05 15:07:22.296 query execution done\n",
      "2022-08-05 15:07:22.301 query: [SELECT  *  FROM ( SELECT \"Country Name\", sum(\"$61\") AS \"Total Share of Forest La...]\n",
      "2022-08-05 15:07:22.751 query execution done\n",
      "2022-08-05 15:07:22.756 query: [SELECT  *  FROM ( SELECT \"Location Name\", sum(\"$12\") AS \"Total Municipal Waste\" ...]\n",
      "2022-08-05 15:07:23.175 query execution done\n",
      "2022-08-05 15:07:23.198 query: [SELECT  *  FROM ( SELECT  *  FROM ( SELECT  *  FROM ( SELECT \"Location Name\", su...]\n",
      "2022-08-05 15:07:24.383 query execution done\n",
      "^C\n",
      "\u001b[34m  Stopping...\u001b[0m\n"
     ]
    }
   ],
   "source": [
    "!streamlit run my_snowpark_streamlit_app.py"
   ]
  },
  {
   "cell_type": "code",
   "execution_count": null,
   "metadata": {},
   "outputs": [],
   "source": []
  }
 ],
 "metadata": {
  "kernelspec": {
   "display_name": "Python 3.8.13 ('env-snow')",
   "language": "python",
   "name": "python3"
  },
  "language_info": {
   "codemirror_mode": {
    "name": "ipython",
    "version": 3
   },
   "file_extension": ".py",
   "mimetype": "text/x-python",
   "name": "python",
   "nbconvert_exporter": "python",
   "pygments_lexer": "ipython3",
   "version": "3.8.13 (default, Mar 28 2022, 06:16:26) \n[Clang 12.0.0 ]"
  },
  "orig_nbformat": 4,
  "vscode": {
   "interpreter": {
    "hash": "56a1ac3adb378e653a21dff9ebdc18cce0787fb994608cdea40d0604c77313fd"
   }
  }
 },
 "nbformat": 4,
 "nbformat_minor": 2
}
