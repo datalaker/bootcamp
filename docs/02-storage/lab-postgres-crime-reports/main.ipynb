{
 "cells": [
  {
   "cell_type": "code",
   "execution_count": 1,
   "metadata": {},
   "outputs": [],
   "source": [
    "import psycopg2"
   ]
  },
  {
   "cell_type": "code",
   "execution_count": null,
   "metadata": {},
   "outputs": [],
   "source": [
    "HOST = \"\"\n",
    "USER = \"\"\n",
    "PASSWORD = \"\"\n",
    "DATABASE = \"\"\n",
    "SCHEMA = \"\""
   ]
  },
  {
   "cell_type": "code",
   "execution_count": 2,
   "metadata": {},
   "outputs": [],
   "source": [
    "conn = psycopg2.connect(dbname=DATABASE, user=USER, password=PASSWORD)\n",
    "cur = conn.cursor()\n",
    "cur.execute(f'CREATE SCHEMA {SCHEMA};')"
   ]
  },
  {
   "cell_type": "markdown",
   "metadata": {},
   "source": [
    "## Exploring the Dataset File"
   ]
  },
  {
   "cell_type": "markdown",
   "metadata": {},
   "source": [
    "I opened the file `boston.csv` and extracted the header (column names) and first data rows. "
   ]
  },
  {
   "cell_type": "code",
   "execution_count": 3,
   "metadata": {},
   "outputs": [],
   "source": [
    "import csv\n",
    "with open('boston.csv', 'r') as f:\n",
    "    reader = csv.reader(f)\n",
    "    col_headers = next(reader)\n",
    "    first_row = next(reader)"
   ]
  },
  {
   "cell_type": "markdown",
   "metadata": {},
   "source": [
    "I created the function `get_col_value_set()` to produce a Python set that contains all the distinct values in a given column. `get_col_value_set` accepts 2 inputs: the filename (`csv_filename`) and index of the desired column (`col_index`). I then used `get_col_value_set` to calculate the number of distinct values per column of the dataset. "
   ]
  },
  {
   "cell_type": "code",
   "execution_count": 4,
   "metadata": {},
   "outputs": [
    {
     "name": "stdout",
     "output_type": "stream",
     "text": [
      "incident_number 298329\n",
      "offense_code 219\n",
      "description 239\n",
      "date 1177\n",
      "day_of_the_week 7\n",
      "lat 18177\n",
      "long 18177\n",
      "\n",
      "\n",
      "['incident_number', 'offense_code', 'description', 'date', 'day_of_the_week', 'lat', 'long']\n",
      "['1', '619', 'LARCENY ALL OTHERS', '2018-09-02', 'Sunday', '42.35779134', '-71.13937053']\n"
     ]
    }
   ],
   "source": [
    "def get_col_value_set(csv_filename, col_index):\n",
    "    import csv\n",
    "    with open(csv_filename, 'r') as f:\n",
    "        next(f) # skip the header\n",
    "        reader = csv.reader(f)\n",
    "        \n",
    "        distinct_values = set()\n",
    "        for row in reader:\n",
    "            distinct_values.add(row[col_index])\n",
    "    \n",
    "    return distinct_values\n",
    "\n",
    "for index in range(len(col_headers)):\n",
    "    distinct_values = get_col_value_set('boston.csv', index)\n",
    "    print(col_headers[index], len(distinct_values))\n",
    "\n",
    "print('\\n')\n",
    "print(col_headers)\n",
    "print(first_row)\n",
    "    "
   ]
  },
  {
   "cell_type": "markdown",
   "metadata": {},
   "source": [
    "From the results shown above, values in `incident_number` and `offense_code` columns can be represented using the data type `integer`, while those in `lat` and `long` columns can be expressed as `decimal`. Columns `description` and `day_of_the_week` show string values. The data type `varchar(n)` can be used to represent the values in the `description` column, but I need to specify the maximum number of characters `n`. \n",
    "\n",
    "I determined the maximum length of string values in the column `description`  to be `58` as shown below. Thus, `n` could be any number larger than `58`. \n",
    "\n",
    "Due to the small number of distinct values in the `day_of_the_week` column, I decided to use the *enumerated* data type. Lastly, for the column `date`, I used the data type `date`. Please see the PostgreSQL documentation on [data types](https://www.postgresql.org/docs/9.5/datatype.html) for more information. "
   ]
  },
  {
   "cell_type": "code",
   "execution_count": 5,
   "metadata": {},
   "outputs": [
    {
     "name": "stdout",
     "output_type": "stream",
     "text": [
      "58\n"
     ]
    }
   ],
   "source": [
    "col_values = get_col_value_set('boston.csv', 2)\n",
    "max_len = 0\n",
    "for value in col_values:\n",
    "    max_len = max(max_len, len(value))\n",
    "\n",
    "print(max_len)"
   ]
  },
  {
   "cell_type": "markdown",
   "metadata": {},
   "source": [
    "## Creating the Table with Appropriate Data Types"
   ]
  },
  {
   "cell_type": "markdown",
   "metadata": {},
   "source": [
    "Before creating the table, I first created the data type `DAY_ENUM` to define the 7 distinct values found in the column `day_of_the_week`. I then created the table `boston_crimes` using the following data types:\n",
    "\n",
    "* `incident_number` - `INTEGER`\n",
    "* `offense_code` - `INTEGER`\n",
    "* `description` - `VARCHAR(100)`\n",
    "* `date` - `DATE`\n",
    "* `day_of_the_week` - `DAY_ENUM`\n",
    "* `lat` - `DECIMAL`\n",
    "* `long` - `DECIMAL`"
   ]
  },
  {
   "cell_type": "code",
   "execution_count": 6,
   "metadata": {},
   "outputs": [],
   "source": [
    "cur.execute('''\n",
    "    CREATE TYPE DAY_ENUM AS ENUM (\n",
    "        'Monday', 'Tuesday', 'Wednesday', 'Thursday', 'Friday', 'Saturday', 'Sunday');\n",
    "''')\n",
    "\n",
    "cur.execute(f'''\n",
    "    CREATE TABLE {SCHEMA}.boston_crimes (\n",
    "        incident_number INTEGER PRIMARY KEY, \n",
    "        offense_code INTEGER, \n",
    "        description VARCHAR(100), \n",
    "        date DATE, \n",
    "        day_of_the_week DAY_ENUM, \n",
    "        lat DECIMAL, \n",
    "        long DECIMAL);\n",
    "''')"
   ]
  },
  {
   "cell_type": "markdown",
   "metadata": {},
   "source": [
    "## Loading of Data into the Table"
   ]
  },
  {
   "cell_type": "markdown",
   "metadata": {},
   "source": [
    "I now loaded the data from `boston.csv` into the table `boston_crimes` which is under schema `crimes`. I printed the first row of the table and the number of rows to check if the loading of data is successful. I also observed that the computed number of rows (`298329`) is the same as the number of distinct values previously calculated in the column `incident_number`. This also proves the successful loading of information from `boston.csv` to table `boston_crimes`. "
   ]
  },
  {
   "cell_type": "code",
   "execution_count": 7,
   "metadata": {},
   "outputs": [
    {
     "name": "stdout",
     "output_type": "stream",
     "text": [
      "(1, 619, 'LARCENY ALL OTHERS', datetime.date(2018, 9, 2), 'Sunday', Decimal('42.35779134'), Decimal('-71.13937053'))\n",
      "298329\n"
     ]
    }
   ],
   "source": [
    "with open('boston.csv', 'r') as f:\n",
    "    cur.copy_expert('COPY crimes.boston_crimes FROM STDIN WITH CSV HEADER;', f)\n",
    "cur.execute('SELECT * FROM crimes.boston_crimes;')\n",
    "data = cur.fetchall()\n",
    "print(data[0])\n",
    "print(len(data))"
   ]
  },
  {
   "cell_type": "markdown",
   "metadata": {},
   "source": [
    "## Creating User Groups with Appropriate Privileges"
   ]
  },
  {
   "cell_type": "markdown",
   "metadata": {},
   "source": [
    "Before creating the user groups, I made sure that there are no privileges inherited from the `public` group and on the `public` schema following the [least privilege principle](https://www.upguard.com/blog/principle-of-least-privilege). "
   ]
  },
  {
   "cell_type": "code",
   "execution_count": 8,
   "metadata": {},
   "outputs": [],
   "source": [
    "cur.execute('REVOKE ALL ON SCHEMA public FROM public;')\n",
    "cur.execute(f'REVOKE ALL ON DATABASE {DATABASE} FROM public;')"
   ]
  },
  {
   "cell_type": "markdown",
   "metadata": {},
   "source": [
    "I created 2 user groups: `readonly` and `readwrite`. For both groups, I granted the following privileges:\n",
    "\n",
    "* Connection to the `crime_db` database\n",
    "* Usage of the `crimes` schema\n",
    "* Selection of data from all tables in schema `crimes`\n",
    "\n",
    "For specific privileges, only the `readwrite` group can insert, delete, and update data in all tables in schema `crimes`. "
   ]
  },
  {
   "cell_type": "code",
   "execution_count": 9,
   "metadata": {},
   "outputs": [],
   "source": [
    "cur.execute('CREATE GROUP readonly NOLOGIN;')\n",
    "cur.execute(f'GRANT CONNECT ON DATABASE {DATABASE} TO readonly;')\n",
    "cur.execute('GRANT USAGE ON SCHEMA crimes TO readonly;')\n",
    "cur.execute('GRANT SELECT ON ALL TABLES IN SCHEMA crimes TO readonly;')\n",
    "\n",
    "cur.execute('CREATE GROUP readwrite NOLOGIN;')\n",
    "cur.execute(f'GRANT CONNECT ON DATABASE {DATABASE} TO readwrite;')\n",
    "cur.execute('GRANT USAGE ON SCHEMA crimes TO readwrite;')\n",
    "cur.execute('GRANT SELECT, INSERT, DELETE, UPDATE ON ALL TABLES IN SCHEMA crimes TO readwrite;')"
   ]
  },
  {
   "cell_type": "markdown",
   "metadata": {},
   "source": [
    "## Creating User for each Group"
   ]
  },
  {
   "cell_type": "markdown",
   "metadata": {},
   "source": [
    "I created users `data_analyst` and `data_scientist` and assigned them to `readonly` and `readwrite` groups, respectively. "
   ]
  },
  {
   "cell_type": "code",
   "execution_count": 10,
   "metadata": {},
   "outputs": [],
   "source": [
    "cur.execute(\"CREATE USER data_analyst WITH PASSWORD 'secret1';\")\n",
    "cur.execute('GRANT readonly TO data_analyst;')\n",
    "\n",
    "cur.execute(\"CREATE USER data_scientist WITH PASSWORD 'secret2';\")\n",
    "cur.execute('GRANT readwrite TO data_scientist;')\n",
    "\n",
    "conn.commit()\n",
    "conn.close()"
   ]
  },
  {
   "cell_type": "markdown",
   "metadata": {},
   "source": [
    "## Testing the Database"
   ]
  },
  {
   "cell_type": "markdown",
   "metadata": {},
   "source": [
    "I used SQL queries to check if correct objects were created and that users and groups have the right privileges. First, I queried the [pg_roles](https://www.postgresql.org/docs/10/view-pg-roles.html) view to give information about the following database roles: `postgres`, `readonly`, `readwrite`, `data_analyst`, and `data_scientist` (the column `rolname`). The results show the following:\n",
    "\n",
    "* Only the role `postgres` has superuser privileges (`rolsuper`), can create more roles (`rolcreaterole`), can create databases (`rolcreatedb`), and can log in (`rolcanlogin`).\n",
    "* As user groups, roles `readonly` and `readwrite` has no superuser privileges, can't create more roles and databases, and can't log in. \n",
    "* Both `data_analyst` and `data_scientist` can only log in. "
   ]
  },
  {
   "cell_type": "code",
   "execution_count": 11,
   "metadata": {},
   "outputs": [
    {
     "data": {
      "text/plain": [
       "[('postgres', True, True, True, True),\n",
       " ('readonly', False, False, False, False),\n",
       " ('readwrite', False, False, False, False),\n",
       " ('data_analyst', False, False, False, True),\n",
       " ('data_scientist', False, False, False, True)]"
      ]
     },
     "execution_count": 11,
     "metadata": {},
     "output_type": "execute_result"
    }
   ],
   "source": [
    "conn2 = psycopg2.connect(dbname=DATABASE, user=USER, password=PASSWORD)\n",
    "cur2 = conn2.cursor()\n",
    "\n",
    "cur2.execute(\"\"\" \n",
    "    SELECT\n",
    "        rolname,\n",
    "        rolsuper,\n",
    "        rolcreaterole,\n",
    "        rolcreatedb,\n",
    "        rolcanlogin\n",
    "    FROM pg_roles\n",
    "    WHERE rolname IN ('postgres', 'readonly', 'readwrite', 'data_analyst', 'data_scientist');\n",
    "\"\"\")\n",
    "cur2.fetchall()"
   ]
  },
  {
   "cell_type": "markdown",
   "metadata": {},
   "source": [
    "I also SQL-queried the [table_privileges](https://www.postgresql.org/docs/9.1/infoschema-table-privileges.html) view to identify all privileges granted on tables or views to enabled roles. The results of the SQL query show that the `readonly` group can only select data from the table `boston_crimes` under schema `crimes` in database `crime_db`.  On the other hand, aside from selecting data, the `readwrite` group can also insert, update, and delete information in the `boston_crimes` table. "
   ]
  },
  {
   "cell_type": "code",
   "execution_count": 12,
   "metadata": {},
   "outputs": [
    {
     "data": {
      "text/plain": [
       "[('postgres', 'readonly', 'crime_db', 'crimes', 'boston_crimes', 'SELECT'),\n",
       " ('postgres', 'readwrite', 'crime_db', 'crimes', 'boston_crimes', 'INSERT'),\n",
       " ('postgres', 'readwrite', 'crime_db', 'crimes', 'boston_crimes', 'SELECT'),\n",
       " ('postgres', 'readwrite', 'crime_db', 'crimes', 'boston_crimes', 'UPDATE'),\n",
       " ('postgres', 'readwrite', 'crime_db', 'crimes', 'boston_crimes', 'DELETE')]"
      ]
     },
     "execution_count": 12,
     "metadata": {},
     "output_type": "execute_result"
    }
   ],
   "source": [
    "cur2.execute(\"\"\"\n",
    "    SELECT \n",
    "        grantor,\n",
    "        grantee,\n",
    "        table_catalog,\n",
    "        table_schema,\n",
    "        table_name,\n",
    "        privilege_type\n",
    "    FROM information_schema.table_privileges\n",
    "    WHERE grantee IN ('readonly', 'readwrite');\n",
    "\"\"\")\n",
    "cur2.fetchall()"
   ]
  },
  {
   "cell_type": "markdown",
   "metadata": {},
   "source": [
    "# Conclusion"
   ]
  },
  {
   "cell_type": "markdown",
   "metadata": {},
   "source": [
    "In this project, I built a database using PostgreSQL and created a table with proper data types for storing the information from a CSV file. I also created user groups with appropriate privileges. I created users and assigned them to these groups. Lastly, I verified if the privileges of user groups were set correctly. "
   ]
  }
 ],
 "metadata": {
  "kernelspec": {
   "display_name": "Python 3.9.10 64-bit",
   "language": "python",
   "name": "python3"
  },
  "language_info": {
   "codemirror_mode": {
    "name": "ipython",
    "version": 3
   },
   "file_extension": ".py",
   "mimetype": "text/x-python",
   "name": "python",
   "nbconvert_exporter": "python",
   "pygments_lexer": "ipython3",
   "version": "3.9.10"
  },
  "vscode": {
   "interpreter": {
    "hash": "aee8b7b246df8f9039afb4144a1f6fd8d2ca17a180786b69acc140d282b71a49"
   }
  }
 },
 "nbformat": 4,
 "nbformat_minor": 2
}
