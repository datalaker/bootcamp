{
 "cells": [
  {
   "attachments": {},
   "cell_type": "markdown",
   "metadata": {},
   "source": [
    "## Setup"
   ]
  },
  {
   "cell_type": "code",
   "execution_count": null,
   "metadata": {},
   "outputs": [],
   "source": [
    "#install lib\n",
    "!pip install -qq delta-lake-reader"
   ]
  },
  {
   "cell_type": "code",
   "execution_count": 5,
   "metadata": {},
   "outputs": [],
   "source": [
    "#s3 path, enter your own path here\n",
    "S3_PATH = \"s3://wysde2-test/sparsh/read-s3-delta-in-python\""
   ]
  },
  {
   "cell_type": "code",
   "execution_count": 6,
   "metadata": {},
   "outputs": [
    {
     "name": "stdout",
     "output_type": "stream",
     "text": [
      "read-s3-delta-in-py 100%[===================>]   4.53K  --.-KB/s    in 0s      \n",
      "Archive:  read-s3-delta-in-python.zip\n",
      "   creating: data/\n",
      "   creating: data/_delta_log/\n",
      " extracting: data/_delta_log/.s3-optimization-2  \n",
      "  inflating: data/_delta_log/00000000000000000000.json  \n",
      " extracting: data/_delta_log/.s3-optimization-0  \n",
      " extracting: data/_delta_log/.s3-optimization-1  \n",
      "  inflating: data/_delta_log/00000000000000000000.crc  \n",
      "  inflating: data/part-00000-493c3c61-b0e6-4bf2-871c-8a0a4f8aa73d-c000.snappy.parquet  \n",
      "upload: data/_delta_log/.s3-optimization-2 to s3://wysde2-test/sparsh/read-s3-delta-in-python/_delta_log/.s3-optimization-2\n",
      "upload: data/_delta_log/.s3-optimization-0 to s3://wysde2-test/sparsh/read-s3-delta-in-python/_delta_log/.s3-optimization-0\n",
      "upload: data/_delta_log/.s3-optimization-1 to s3://wysde2-test/sparsh/read-s3-delta-in-python/_delta_log/.s3-optimization-1\n",
      "upload: data/part-00000-493c3c61-b0e6-4bf2-871c-8a0a4f8aa73d-c000.snappy.parquet to s3://wysde2-test/sparsh/read-s3-delta-in-python/part-00000-493c3c61-b0e6-4bf2-871c-8a0a4f8aa73d-c000.snappy.parquet\n",
      "upload: data/_delta_log/00000000000000000000.crc to s3://wysde2-test/sparsh/read-s3-delta-in-python/_delta_log/00000000000000000000.crc\n",
      "upload: data/_delta_log/00000000000000000000.json to s3://wysde2-test/sparsh/read-s3-delta-in-python/_delta_log/00000000000000000000.json\n"
     ]
    }
   ],
   "source": [
    "#download sample data and upload to s3\n",
    "!wget -q --show-progress https://github.com/datalaker/assets/releases/download/data-v1/read-s3-delta-in-python.zip\n",
    "!unzip read-s3-delta-in-python.zip\n",
    "!aws s3 sync data {S3_PATH}\n",
    "!rm -r data\n",
    "!rm -rf read-s3-delta-in-python.zip"
   ]
  },
  {
   "cell_type": "code",
   "execution_count": 10,
   "metadata": {},
   "outputs": [],
   "source": [
    "#imports\n",
    "import s3fs\n",
    "from deltalake import DeltaTable\n",
    "import pyarrow.dataset as ds"
   ]
  },
  {
   "attachments": {},
   "cell_type": "markdown",
   "metadata": {},
   "source": [
    "## Read"
   ]
  },
  {
   "attachments": {},
   "cell_type": "markdown",
   "metadata": {},
   "source": [
    "### Standard read"
   ]
  },
  {
   "attachments": {},
   "cell_type": "markdown",
   "metadata": {},
   "source": [
    "To read delta tables:\n",
    "\n",
    "- Use s3fs (python file interface with S3)\n",
    "- Convert the delta table last version into pandas, by default the reader provides the last version of the data"
   ]
  },
  {
   "cell_type": "code",
   "execution_count": null,
   "metadata": {},
   "outputs": [],
   "source": [
    "fs = s3fs.S3FileSystem()\n",
    "\n",
    "delta_table = DeltaTable(S3_PATH, file_system=fs)"
   ]
  },
  {
   "cell_type": "code",
   "execution_count": 8,
   "metadata": {},
   "outputs": [
    {
     "data": {
      "text/html": [
       "<div>\n",
       "<style scoped>\n",
       "    .dataframe tbody tr th:only-of-type {\n",
       "        vertical-align: middle;\n",
       "    }\n",
       "\n",
       "    .dataframe tbody tr th {\n",
       "        vertical-align: top;\n",
       "    }\n",
       "\n",
       "    .dataframe thead th {\n",
       "        text-align: right;\n",
       "    }\n",
       "</style>\n",
       "<table border=\"1\" class=\"dataframe\">\n",
       "  <thead>\n",
       "    <tr style=\"text-align: right;\">\n",
       "      <th></th>\n",
       "      <th>visit_id</th>\n",
       "      <th>client_id</th>\n",
       "      <th>therapist_id</th>\n",
       "      <th>service_id</th>\n",
       "      <th>visit_ts</th>\n",
       "      <th>month</th>\n",
       "    </tr>\n",
       "  </thead>\n",
       "  <tbody>\n",
       "    <tr>\n",
       "      <th>0</th>\n",
       "      <td>0</td>\n",
       "      <td>830-11-8837</td>\n",
       "      <td>150-60-1665</td>\n",
       "      <td>3</td>\n",
       "      <td>2022-05-21 09:34:39</td>\n",
       "      <td>5.0</td>\n",
       "    </tr>\n",
       "    <tr>\n",
       "      <th>1</th>\n",
       "      <td>1</td>\n",
       "      <td>None</td>\n",
       "      <td>150-60-1665</td>\n",
       "      <td>1</td>\n",
       "      <td>2022-02-11 23:51:36</td>\n",
       "      <td>2.0</td>\n",
       "    </tr>\n",
       "    <tr>\n",
       "      <th>2</th>\n",
       "      <td>2</td>\n",
       "      <td>154-64-9693</td>\n",
       "      <td>030-45-1969</td>\n",
       "      <td>0</td>\n",
       "      <td>2022-03-23 15:21:37</td>\n",
       "      <td>3.0</td>\n",
       "    </tr>\n",
       "    <tr>\n",
       "      <th>3</th>\n",
       "      <td>3</td>\n",
       "      <td>148-49-3184</td>\n",
       "      <td>030-45-1969</td>\n",
       "      <td>1</td>\n",
       "      <td>2022-03-09 17:27:23</td>\n",
       "      <td>3.0</td>\n",
       "    </tr>\n",
       "    <tr>\n",
       "      <th>4</th>\n",
       "      <td>4</td>\n",
       "      <td>148-49-3184</td>\n",
       "      <td>150-60-1665</td>\n",
       "      <td>3</td>\n",
       "      <td>NaT</td>\n",
       "      <td>NaN</td>\n",
       "    </tr>\n",
       "    <tr>\n",
       "      <th>5</th>\n",
       "      <td>5</td>\n",
       "      <td>594-87-8512</td>\n",
       "      <td>280-65-5827</td>\n",
       "      <td>2</td>\n",
       "      <td>2022-02-09 17:14:50</td>\n",
       "      <td>2.0</td>\n",
       "    </tr>\n",
       "    <tr>\n",
       "      <th>6</th>\n",
       "      <td>6</td>\n",
       "      <td>None</td>\n",
       "      <td>150-60-1665</td>\n",
       "      <td>4</td>\n",
       "      <td>2022-01-08 07:19:43</td>\n",
       "      <td>1.0</td>\n",
       "    </tr>\n",
       "    <tr>\n",
       "      <th>7</th>\n",
       "      <td>7</td>\n",
       "      <td>431-25-4334</td>\n",
       "      <td>150-60-1665</td>\n",
       "      <td>3</td>\n",
       "      <td>2022-03-03 04:27:57</td>\n",
       "      <td>3.0</td>\n",
       "    </tr>\n",
       "    <tr>\n",
       "      <th>8</th>\n",
       "      <td>8</td>\n",
       "      <td>038-37-7264</td>\n",
       "      <td>030-45-1969</td>\n",
       "      <td>4</td>\n",
       "      <td>2022-01-20 21:52:59</td>\n",
       "      <td>1.0</td>\n",
       "    </tr>\n",
       "    <tr>\n",
       "      <th>9</th>\n",
       "      <td>9</td>\n",
       "      <td>898-73-3339</td>\n",
       "      <td>280-65-5827</td>\n",
       "      <td>1</td>\n",
       "      <td>2022-04-25 16:04:39</td>\n",
       "      <td>4.0</td>\n",
       "    </tr>\n",
       "    <tr>\n",
       "      <th>10</th>\n",
       "      <td>10</td>\n",
       "      <td>488-22-2850</td>\n",
       "      <td>030-45-1969</td>\n",
       "      <td>1</td>\n",
       "      <td>2022-02-16 05:26:48</td>\n",
       "      <td>2.0</td>\n",
       "    </tr>\n",
       "  </tbody>\n",
       "</table>\n",
       "</div>"
      ],
      "text/plain": [
       "    visit_id    client_id therapist_id  service_id            visit_ts  month\n",
       "0          0  830-11-8837  150-60-1665           3 2022-05-21 09:34:39    5.0\n",
       "1          1         None  150-60-1665           1 2022-02-11 23:51:36    2.0\n",
       "2          2  154-64-9693  030-45-1969           0 2022-03-23 15:21:37    3.0\n",
       "3          3  148-49-3184  030-45-1969           1 2022-03-09 17:27:23    3.0\n",
       "4          4  148-49-3184  150-60-1665           3                 NaT    NaN\n",
       "5          5  594-87-8512  280-65-5827           2 2022-02-09 17:14:50    2.0\n",
       "6          6         None  150-60-1665           4 2022-01-08 07:19:43    1.0\n",
       "7          7  431-25-4334  150-60-1665           3 2022-03-03 04:27:57    3.0\n",
       "8          8  038-37-7264  030-45-1969           4 2022-01-20 21:52:59    1.0\n",
       "9          9  898-73-3339  280-65-5827           1 2022-04-25 16:04:39    4.0\n",
       "10        10  488-22-2850  030-45-1969           1 2022-02-16 05:26:48    2.0"
      ]
     },
     "execution_count": 8,
     "metadata": {},
     "output_type": "execute_result"
    }
   ],
   "source": [
    "df = delta_table.to_pandas()\n",
    "df"
   ]
  },
  {
   "attachments": {},
   "cell_type": "markdown",
   "metadata": {},
   "source": [
    "### Time travel"
   ]
  },
  {
   "cell_type": "code",
   "execution_count": null,
   "metadata": {},
   "outputs": [],
   "source": [
    "delta_table_version_1 = delta_table.as_version(1)\n",
    "delta_table_version_2 = delta_table.as_version(2)\n",
    "\n",
    "df_1 = delta_table_version_1.to_pandas()\n",
    "df_2 = delta_table_version_2.to_pandas()"
   ]
  },
  {
   "attachments": {},
   "cell_type": "markdown",
   "metadata": {},
   "source": [
    "### Predicate Pushdown, Partition Pruning & Columnar file formats\n",
    "\n",
    "Since the resulting `DeltaTable` is based on the `pyarrow.DataSet`, you get many cool features for free.\n",
    "\n",
    "The `DeltaTable.to_table` is inherited from `pyarrow.Dataset.to_table`. This means that you can include arguments like `filter`, which will do partition pruning and predicate pushdown. If you have a partitioned dataset, partition pruning can potentially reduce the data needed to be downloaded substantially. The predicate pushdown will not have any effect on the amount of data downloaded, but will reduce the dataset size when loaded into memory.\n",
    "\n",
    "Further more, since the underlying parquet file format is columnar, you can select a subset of columns to be read from the files. This can be done by passing a list of column names to `to_table`."
   ]
  },
  {
   "cell_type": "code",
   "execution_count": 11,
   "metadata": {},
   "outputs": [
    {
     "data": {
      "text/html": [
       "<div>\n",
       "<style scoped>\n",
       "    .dataframe tbody tr th:only-of-type {\n",
       "        vertical-align: middle;\n",
       "    }\n",
       "\n",
       "    .dataframe tbody tr th {\n",
       "        vertical-align: top;\n",
       "    }\n",
       "\n",
       "    .dataframe thead th {\n",
       "        text-align: right;\n",
       "    }\n",
       "</style>\n",
       "<table border=\"1\" class=\"dataframe\">\n",
       "  <thead>\n",
       "    <tr style=\"text-align: right;\">\n",
       "      <th></th>\n",
       "      <th>visit_id</th>\n",
       "      <th>client_id</th>\n",
       "      <th>therapist_id</th>\n",
       "      <th>service_id</th>\n",
       "      <th>visit_ts</th>\n",
       "      <th>month</th>\n",
       "    </tr>\n",
       "  </thead>\n",
       "  <tbody>\n",
       "    <tr>\n",
       "      <th>0</th>\n",
       "      <td>0</td>\n",
       "      <td>830-11-8837</td>\n",
       "      <td>150-60-1665</td>\n",
       "      <td>3</td>\n",
       "      <td>2022-05-21 09:34:39</td>\n",
       "      <td>5.0</td>\n",
       "    </tr>\n",
       "    <tr>\n",
       "      <th>1</th>\n",
       "      <td>4</td>\n",
       "      <td>148-49-3184</td>\n",
       "      <td>150-60-1665</td>\n",
       "      <td>3</td>\n",
       "      <td>NaT</td>\n",
       "      <td>NaN</td>\n",
       "    </tr>\n",
       "    <tr>\n",
       "      <th>2</th>\n",
       "      <td>7</td>\n",
       "      <td>431-25-4334</td>\n",
       "      <td>150-60-1665</td>\n",
       "      <td>3</td>\n",
       "      <td>2022-03-03 04:27:57</td>\n",
       "      <td>3.0</td>\n",
       "    </tr>\n",
       "  </tbody>\n",
       "</table>\n",
       "</div>"
      ],
      "text/plain": [
       "   visit_id    client_id therapist_id  service_id            visit_ts  month\n",
       "0         0  830-11-8837  150-60-1665           3 2022-05-21 09:34:39    5.0\n",
       "1         4  148-49-3184  150-60-1665           3                 NaT    NaN\n",
       "2         7  431-25-4334  150-60-1665           3 2022-03-03 04:27:57    3.0"
      ]
     },
     "execution_count": 11,
     "metadata": {},
     "output_type": "execute_result"
    }
   ],
   "source": [
    "delta_table_filtered = delta_table.to_table(filter=ds.field(\"service_id\")==3)\n",
    "\n",
    "df_filtered = delta_table_filtered.to_pandas()\n",
    "df_filtered"
   ]
  },
  {
   "cell_type": "code",
   "execution_count": null,
   "metadata": {},
   "outputs": [],
   "source": []
  }
 ],
 "metadata": {
  "kernelspec": {
   "display_name": "env-spacy",
   "language": "python",
   "name": "python3"
  },
  "language_info": {
   "codemirror_mode": {
    "name": "ipython",
    "version": 3
   },
   "file_extension": ".py",
   "mimetype": "text/x-python",
   "name": "python",
   "nbconvert_exporter": "python",
   "pygments_lexer": "ipython3",
   "version": "3.9.7"
  },
  "orig_nbformat": 4
 },
 "nbformat": 4,
 "nbformat_minor": 2
}
