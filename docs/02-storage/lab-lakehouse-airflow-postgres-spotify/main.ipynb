{
 "cells": [
  {
   "cell_type": "code",
   "execution_count": null,
   "metadata": {},
   "outputs": [],
   "source": [
    "!git clone https://github.com/RecoHut-Datasets/spotify.git"
   ]
  },
  {
   "attachments": {},
   "cell_type": "markdown",
   "metadata": {},
   "source": [
    "## Setup"
   ]
  },
  {
   "cell_type": "code",
   "execution_count": 2,
   "metadata": {},
   "outputs": [],
   "source": [
    "import boto3\n",
    "import json\n",
    "\n",
    "def get_secret(secret_name, region_name=\"us-east-1\"):\n",
    "    session = boto3.session.Session()\n",
    "    client = session.client(\n",
    "        service_name='secretsmanager',\n",
    "        region_name=region_name)\n",
    "    get_secret_value_response = client.get_secret_value(SecretId=secret_name)\n",
    "    get_secret_value_response = json.loads(get_secret_value_response['SecretString'])\n",
    "    return get_secret_value_response\n",
    "\n",
    "creds = get_secret(\"wysde\")\n",
    "USERNAME = creds[\"RDS_POSTGRES_USERNAME\"]\n",
    "PASSWORD = creds[\"RDS_POSTGRES_PASSWORD\"]\n",
    "HOST = creds[\"RDS_POSTGRES_HOST\"]\n",
    "DATABASE = 'sparsh'\n",
    "\n",
    "conn_str = 'postgresql://{0}:{1}@{2}/{3}'.format(USERNAME, PASSWORD, HOST, DATABASE)\n",
    "\n",
    "%config SqlMagic.autopandas=True\n",
    "%config SqlMagic.displaycon=False\n",
    "%config SqlMagic.feedback=False\n",
    "%config SqlMagic.displaylimit=5\n",
    "%reload_ext sql\n",
    "%sql {conn_str}"
   ]
  },
  {
   "cell_type": "code",
   "execution_count": 3,
   "metadata": {},
   "outputs": [],
   "source": [
    "SCHEMA = \"spotify\""
   ]
  },
  {
   "cell_type": "code",
   "execution_count": 5,
   "metadata": {},
   "outputs": [
    {
     "data": {
      "text/html": [
       "<div>\n",
       "<style scoped>\n",
       "    .dataframe tbody tr th:only-of-type {\n",
       "        vertical-align: middle;\n",
       "    }\n",
       "\n",
       "    .dataframe tbody tr th {\n",
       "        vertical-align: top;\n",
       "    }\n",
       "\n",
       "    .dataframe thead th {\n",
       "        text-align: right;\n",
       "    }\n",
       "</style>\n",
       "<table border=\"1\" class=\"dataframe\">\n",
       "  <thead>\n",
       "    <tr style=\"text-align: right;\">\n",
       "      <th></th>\n",
       "    </tr>\n",
       "  </thead>\n",
       "  <tbody>\n",
       "  </tbody>\n",
       "</table>\n",
       "</div>"
      ],
      "text/plain": [
       "Empty DataFrame\n",
       "Columns: []\n",
       "Index: []"
      ]
     },
     "execution_count": 5,
     "metadata": {},
     "output_type": "execute_result"
    }
   ],
   "source": [
    "%sql CREATE SCHEMA IF NOT EXISTS {SCHEMA}\n",
    "%sql SET SEARCH_PATH={SCHEMA}"
   ]
  },
  {
   "attachments": {},
   "cell_type": "markdown",
   "metadata": {},
   "source": [
    "## Data Extraction"
   ]
  },
  {
   "cell_type": "code",
   "execution_count": null,
   "metadata": {},
   "outputs": [],
   "source": [
    "\"\"\"\n",
    "requirements: requests-html==0.9.0\n",
    "runtime: python-3.6\n",
    "\n",
    "How to use:\n",
    "1. Download these spotify pages as html source from your browser: albums (https://open.spotify.com/collection/albums),\n",
    "   artists (https://open.spotify.com/collection/artists) and songs (https://open.spotify.com/collection/tracks)\n",
    "   to the relevant directories (scroll all the pages in advance).\n",
    "2. Enter your local paths to the pages under the constant values (ARTISTS_PAGE_PATH, ALBUMS_PAGE_PATH, SONGS_PAGE_PATH).\n",
    "3. Run the script.\n",
    "\"\"\"\n",
    "import csv\n",
    "from typing import Set, Tuple, List\n",
    "\n",
    "from requests_html import HTML\n",
    "\n",
    "ARTISTS_PAGE_PATH = 'artists/Your Library - Artists.html'\n",
    "ALBUMS_PAGE_PATH = 'albums/Your Library - Albums.html'\n",
    "SONGS_PAGE_PATH = 'songs/Your Library - Songs.html'\n",
    "\n",
    "ARTISTS_OUTPUT_FILE = 'artists.csv'\n",
    "ALBUMS_OUTPUT_FILE = 'albums.csv'\n",
    "SONGS_OUTPUT_FILE = 'songs.csv'\n",
    "\n",
    "\n",
    "class TooManyFlags(Exception):\n",
    "    pass\n",
    "\n",
    "\n",
    "class SpotifyPagesParser:\n",
    "\n",
    "    def __init__(self):\n",
    "        self.artists_page_content = self._read_file(ARTISTS_PAGE_PATH)\n",
    "        self.albums_page_content = self._read_file(ALBUMS_PAGE_PATH)\n",
    "        self.songs_page_content = self._read_file(SONGS_PAGE_PATH)\n",
    "\n",
    "    @staticmethod\n",
    "    def _read_file(file_path: str) -> None or str:\n",
    "        \"\"\"\n",
    "        Ignore not existing files\n",
    "        :param file_path: path to the html file\n",
    "        :return: page content\n",
    "        \"\"\"\n",
    "        try:\n",
    "            with open(file_path, 'r', encoding='utf-8') as file:\n",
    "                return file.read()\n",
    "        except FileNotFoundError:\n",
    "            print(f'The file \"{file_path}\" does not exists. This page will be ignored.')\n",
    "\n",
    "    def artists_page(self) -> Set[str]:\n",
    "        \"\"\"\n",
    "        Parse page with artists\n",
    "        :return: set of artist names on the page\n",
    "        \"\"\"\n",
    "        page = self.artists_page_content\n",
    "\n",
    "        if not page:\n",
    "            return set()\n",
    "\n",
    "        html = HTML(html=page)\n",
    "        # Parsing\n",
    "        content = html.find('section.contentSpacing', first=True)\n",
    "        artist_names = content.find('span')\n",
    "\n",
    "        return {artist_name.text for artist_name in artist_names}\n",
    "\n",
    "    def albums_page(self, get_albums: bool=False) -> Set[str] or Set[Tuple[str, str]]:\n",
    "        \"\"\"\n",
    "        Parse page with albums\n",
    "        :param get_albums: a flag for parsing not only artist names, but also their albums\n",
    "        :return: set of artist names on the page, or set of tuple {(artist_1, his_album_1), (..)..},\n",
    "        if get_albums flag is True\n",
    "        \"\"\"\n",
    "        page = self.albums_page_content\n",
    "\n",
    "        if not page:\n",
    "            return set()\n",
    "\n",
    "        html = HTML(html=page)\n",
    "        # Parsing\n",
    "        content = html.find('section.contentSpacing', first=True)\n",
    "        artists_and_albums = content.find('span > a')\n",
    "        artist_names = (item for item in artists_and_albums if '/artist/' in str(item.links))\n",
    "\n",
    "        if get_albums:\n",
    "            album_names = (item for item in artists_and_albums if '/album/' in str(item.links))\n",
    "            return {(artist_name.text, album_name.text) for artist_name, album_name in zip(artist_names, album_names)}\n",
    "\n",
    "        return {artist_name.text for artist_name in artist_names}\n",
    "\n",
    "    def songs_page(self, get_songs: bool=False, get_albums: bool=False) -> \\\n",
    "            Set[str] or Set[Tuple[str, str]] or Set[Tuple[str, str, str]]:\n",
    "        \"\"\"\n",
    "        Parse page with songs\n",
    "        :param get_songs: a flag for parsing not only artist names, but also their albums\n",
    "        :param get_albums: a flag for parsing not only artist names, their albums, but also their songs\n",
    "        :return: set of artist names on the page, or {(artist_1, his_album_1), (..)..}, if the get_albums flag is True,\n",
    "        or {(artist_1, his_album_1, song_in_the_album_1), (..)..}, if the get_songs flag is True\n",
    "        \"\"\"\n",
    "        page = self.songs_page_content\n",
    "\n",
    "        if not page:\n",
    "            return set()\n",
    "\n",
    "        if sum([get_songs, get_albums]) > 1:\n",
    "            raise TooManyFlags('The flags \"get_songs\" and \"get_albums\" can not be identified simultaneously')\n",
    "\n",
    "        html = HTML(html=page)\n",
    "        # Parsing\n",
    "        content = html.find('section.tracklist-container', first=True)\n",
    "        artist_and_album_names = tuple(\n",
    "            (artist.text, album.text)\n",
    "            for artist, album in zip(\n",
    "                content.find('a.tracklist-row__artist-name-link'),\n",
    "                content.find('a.tracklist-row__album-name-link')\n",
    "            ))\n",
    "        artist_names = tuple(artist for artist, album in artist_and_album_names)\n",
    "\n",
    "        if get_albums:\n",
    "            album_names = tuple(album for artist, album in artist_and_album_names)\n",
    "            return {(artist_name, album_name) for artist_name, album_name in zip(artist_names, album_names)}\n",
    "\n",
    "        if get_songs:\n",
    "            song_names = content.find('div.tracklist-name')\n",
    "            album_names = tuple(album for artist, album in artist_and_album_names)\n",
    "            return {(artist_name, album_name, song_name.text)\n",
    "                    for artist_name, album_name, song_name in zip(artist_names, album_names, song_names)}\n",
    "\n",
    "        return {artist_name for artist_name in artist_names}\n",
    "\n",
    "    def get_artist_names(self) -> list:\n",
    "        \"\"\"\n",
    "        :return: a sorted list of artist names e.g. ['Anathema', 'David Gilmour', ...]\n",
    "        \"\"\"\n",
    "        return sorted(self.artists_page() | self.albums_page() | self.songs_page())\n",
    "\n",
    "    def get_artist_album_names(self) -> list:\n",
    "        \"\"\"\n",
    "        :return: a sorted list of artist names and their albums\n",
    "        e.g. [('Anathema', 'Judgement'), ('David Gilmour', 'On An Island'), ...]\n",
    "        \"\"\"\n",
    "        return sorted(self.albums_page(get_albums=True) | self.songs_page(get_albums=True))\n",
    "\n",
    "    def get_artist_album_song_names(self) -> list:\n",
    "        \"\"\"\n",
    "        :return: a sorted list of artist names, their albums and songs\n",
    "        e.g. [('Anathema', 'Judgement', 'Anyone, Anywhere'),\n",
    "              ('David Gilmour', 'On An Island', 'A Pocketful Of Stones'), ...]\n",
    "        \"\"\"\n",
    "        return sorted(self.songs_page(get_songs=True))\n",
    "\n",
    "    @staticmethod\n",
    "    def save_to_file(path: str, headers: List[str], data: List[str] or List[Tuple]) -> None:\n",
    "        \"\"\"\n",
    "        :param path: e.g. 'some/path/artists.csv'\n",
    "        :param headers: e.g. ['Artist', 'Album', 'Song']\n",
    "        :param data: e.g ['Anathema', 'David Gilmour', ...]\n",
    "        or [('Anathema', 'Judgement'), ('David Gilmour', 'On An Island'), ...]\n",
    "        :return: None\n",
    "        \"\"\"\n",
    "        if data:\n",
    "            with open(path, 'w+', encoding='utf-8') as file:\n",
    "                csv_out = csv.writer(file)\n",
    "                csv_out.writerow(headers)\n",
    "                for el in data:\n",
    "                    if isinstance(el, str):\n",
    "                        el = [el]\n",
    "                    csv_out.writerow(el)\n",
    "\n",
    "    def save_all(self) -> None:\n",
    "        self.save_to_file(path=ARTISTS_OUTPUT_FILE, headers=['Artist'], data=self.get_artist_names())\n",
    "        self.save_to_file(path=ALBUMS_OUTPUT_FILE, headers=['Artist', 'Album'], data=self.get_artist_album_names())\n",
    "        self.save_to_file(path=SONGS_OUTPUT_FILE, headers=['Artist', 'Album', 'Song'],\n",
    "                          data=self.get_artist_album_song_names())\n",
    "\n",
    "\n",
    "if __name__ == '__main__':\n",
    "    spotify = SpotifyPagesParser()\n",
    "    spotify.save_all()"
   ]
  },
  {
   "attachments": {},
   "cell_type": "markdown",
   "metadata": {},
   "source": [
    "## Create empty tables in Redshift"
   ]
  },
  {
   "cell_type": "code",
   "execution_count": 11,
   "metadata": {},
   "outputs": [
    {
     "data": {
      "text/html": [
       "<div>\n",
       "<style scoped>\n",
       "    .dataframe tbody tr th:only-of-type {\n",
       "        vertical-align: middle;\n",
       "    }\n",
       "\n",
       "    .dataframe tbody tr th {\n",
       "        vertical-align: top;\n",
       "    }\n",
       "\n",
       "    .dataframe thead th {\n",
       "        text-align: right;\n",
       "    }\n",
       "</style>\n",
       "<table border=\"1\" class=\"dataframe\">\n",
       "  <thead>\n",
       "    <tr style=\"text-align: right;\">\n",
       "      <th></th>\n",
       "    </tr>\n",
       "  </thead>\n",
       "  <tbody>\n",
       "  </tbody>\n",
       "</table>\n",
       "</div>"
      ],
      "text/plain": [
       "Empty DataFrame\n",
       "Columns: []\n",
       "Index: []"
      ]
     },
     "execution_count": 11,
     "metadata": {},
     "output_type": "execute_result"
    }
   ],
   "source": [
    "%%sql\n",
    "\n",
    "DROP TABLE IF EXISTS track;\n",
    "CREATE TABLE track\n",
    "(\n",
    "    uri integer NOT NULL PRIMARY KEY,\n",
    "    song varchar(30),\n",
    "    popularity numeric(2,2),\n",
    "    artist varchar(30),\n",
    "    energy numeric(2,2),\n",
    "    acousticness numeric(2,2),\n",
    "    speechiness numeric(2,2),\n",
    "    tempo numeric(10,2),\n",
    "    duration char(10),\n",
    "    release_date varchar(30),\n",
    "    album varchar(30)\n",
    ");\n",
    "\n",
    "DROP TABLE IF EXISTS artist;\n",
    "CREATE TABLE artist\n",
    "(\n",
    "    artist_id integer NOT NULL PRIMARY KEY,\n",
    "    name varchar(100),\n",
    "    followers integer,\n",
    "    popularity numeric(2,2),\n",
    "    genre varchar(30)\n",
    ");\n",
    "\n",
    "DROP TABLE IF EXISTS album;\n",
    "CREATE TABLE album\n",
    "(\n",
    "    album_id integer NOT NULL PRIMARY KEY,\n",
    "    name varchar(100),\n",
    "    popularity numeric(2,2),\n",
    "    number_tracks integer\n",
    ");"
   ]
  },
  {
   "attachments": {},
   "cell_type": "markdown",
   "metadata": {},
   "source": [
    "## Create Staging Tables"
   ]
  },
  {
   "cell_type": "code",
   "execution_count": 12,
   "metadata": {},
   "outputs": [
    {
     "data": {
      "text/html": [
       "<div>\n",
       "<style scoped>\n",
       "    .dataframe tbody tr th:only-of-type {\n",
       "        vertical-align: middle;\n",
       "    }\n",
       "\n",
       "    .dataframe tbody tr th {\n",
       "        vertical-align: top;\n",
       "    }\n",
       "\n",
       "    .dataframe thead th {\n",
       "        text-align: right;\n",
       "    }\n",
       "</style>\n",
       "<table border=\"1\" class=\"dataframe\">\n",
       "  <thead>\n",
       "    <tr style=\"text-align: right;\">\n",
       "      <th></th>\n",
       "    </tr>\n",
       "  </thead>\n",
       "  <tbody>\n",
       "  </tbody>\n",
       "</table>\n",
       "</div>"
      ],
      "text/plain": [
       "Empty DataFrame\n",
       "Columns: []\n",
       "Index: []"
      ]
     },
     "execution_count": 12,
     "metadata": {},
     "output_type": "execute_result"
    }
   ],
   "source": [
    "%%sql\n",
    "\n",
    "CREATE TABLE track_staging\n",
    "(\n",
    "    uri integer NOT NULL PRIMARY KEY,\n",
    "    song varchar(30),\n",
    "    popularity numeric(2,2),\n",
    "    artist varchar(30),\n",
    "    energy numeric(2,2),\n",
    "    acousticness numeric(2,2),\n",
    "    speechiness numeric(2,2),\n",
    "    tempo numeric(10,2),\n",
    "    duration char(10),\n",
    "    release_date varchar(30),\n",
    "    album varchar(30)\n",
    ");\n",
    "\n",
    "CREATE TABLE artist_staging\n",
    "(\n",
    "    artist_id integer NOT NULL PRIMARY KEY,\n",
    "    name varchar(100),\n",
    "    followers integer,\n",
    "    popularity numeric(2,2),\n",
    "    genre varchar(30)\n",
    ");\n",
    "\n",
    "CREATE TABLE album_staging\n",
    "(\n",
    "    album_id integer NOT NULL PRIMARY KEY,\n",
    "    name varchar(100),\n",
    "    popularity numeric(2,2),\n",
    "    number_tracks integer\n",
    ");"
   ]
  },
  {
   "attachments": {},
   "cell_type": "markdown",
   "metadata": {},
   "source": [
    "## Truncate Staging Tables"
   ]
  },
  {
   "attachments": {},
   "cell_type": "markdown",
   "metadata": {},
   "source": [
    "if table exists then truncate the past data"
   ]
  },
  {
   "cell_type": "code",
   "execution_count": 13,
   "metadata": {},
   "outputs": [
    {
     "data": {
      "text/html": [
       "<div>\n",
       "<style scoped>\n",
       "    .dataframe tbody tr th:only-of-type {\n",
       "        vertical-align: middle;\n",
       "    }\n",
       "\n",
       "    .dataframe tbody tr th {\n",
       "        vertical-align: top;\n",
       "    }\n",
       "\n",
       "    .dataframe thead th {\n",
       "        text-align: right;\n",
       "    }\n",
       "</style>\n",
       "<table border=\"1\" class=\"dataframe\">\n",
       "  <thead>\n",
       "    <tr style=\"text-align: right;\">\n",
       "      <th></th>\n",
       "    </tr>\n",
       "  </thead>\n",
       "  <tbody>\n",
       "  </tbody>\n",
       "</table>\n",
       "</div>"
      ],
      "text/plain": [
       "Empty DataFrame\n",
       "Columns: []\n",
       "Index: []"
      ]
     },
     "execution_count": 13,
     "metadata": {},
     "output_type": "execute_result"
    }
   ],
   "source": [
    "%%sql\n",
    "\n",
    "TRUNCATE TABLE track_staging;\n",
    "TRUNCATE TABLE artist_staging;\n",
    "TRUNCATE TABLE album_staging;"
   ]
  },
  {
   "attachments": {},
   "cell_type": "markdown",
   "metadata": {},
   "source": [
    "## Merge Staging"
   ]
  },
  {
   "cell_type": "code",
   "execution_count": null,
   "metadata": {},
   "outputs": [],
   "source": [
    "%%sql\n",
    "\n",
    "DELETE FROM spotify_table.track;\n",
    "\n",
    "INSERT INTO spotify_table.track\n",
    "SELECT\n",
    "    uri,\n",
    "    song,\n",
    "    popularity,\n",
    "    artist,\n",
    "    energy,\n",
    "    acousticness,\n",
    "    speechiness,\n",
    "    tempo,\n",
    "    duration,\n",
    "    release_date,\n",
    "    album\n",
    "FROM spotify_table.track_staging;\n",
    "\n",
    "DELETE FROM spotify_table.artist;\n",
    "\n",
    "INSERT INTO spotify_table.artist\n",
    "SELECT\n",
    "    artist_id,\n",
    "    name,\n",
    "    followers,\n",
    "    popularity,\n",
    "    genre\n",
    "FROM spotify_table.artist_staging;\n",
    "\n",
    "DELETE FROM spotify_table.album;\n",
    "\n",
    "INSERT INTO spotify_table.album\n",
    "SELECT\n",
    "    album_id,\n",
    "    name,\n",
    "    popularity,\n",
    "    number_tracks\n",
    "FROM spotify_table.album_staging;"
   ]
  },
  {
   "attachments": {},
   "cell_type": "markdown",
   "metadata": {},
   "source": [
    "## Drop Staging Tables"
   ]
  },
  {
   "cell_type": "code",
   "execution_count": null,
   "metadata": {},
   "outputs": [],
   "source": [
    "%%sql\n",
    "\n",
    "DROP TABLE IF EXISTS track_staging;\n",
    "DROP TABLE IF EXISTS artist_staging;\n",
    "DROP TABLE IF EXISTS album_staging;"
   ]
  },
  {
   "attachments": {},
   "cell_type": "markdown",
   "metadata": {},
   "source": [
    "## SQL Value Check"
   ]
  },
  {
   "cell_type": "code",
   "execution_count": null,
   "metadata": {},
   "outputs": [],
   "source": [
    "%sql SELECT COUNT(*) FROM track"
   ]
  },
  {
   "cell_type": "code",
   "execution_count": null,
   "metadata": {},
   "outputs": [],
   "source": [
    "%sql SELECT COUNT(*) FROM artist"
   ]
  },
  {
   "cell_type": "code",
   "execution_count": null,
   "metadata": {},
   "outputs": [],
   "source": [
    "%sql SELECT COUNT(*) FROM album"
   ]
  },
  {
   "attachments": {},
   "cell_type": "markdown",
   "metadata": {},
   "source": [
    "## Unload aggregated data from Redshift to S3 bucket"
   ]
  },
  {
   "cell_type": "code",
   "execution_count": null,
   "metadata": {},
   "outputs": [],
   "source": [
    "S3_UNLOAD_PATH = \"\"\n",
    "REDSHIFT_UNLOAD_IAM_ROLE = \"\""
   ]
  },
  {
   "cell_type": "code",
   "execution_count": null,
   "metadata": {},
   "outputs": [],
   "source": [
    "%%sql\n",
    "query=  \"\"\"\n",
    "        SELECT *\n",
    "        FROM spotify_table.track AS s\n",
    "        LEFT JOIN spotify_table.artist AS art ON art.name = s.artist\n",
    "        LEFT JOIN spotify_table.album AS alb ON alb.name = s.album;\n",
    "        \"\"\"\n",
    "        \n",
    "UNLOAD (query)\n",
    "TO {S3_UNLOAD_PATH}\n",
    "IAM_ROLE {REDSHIFT_UNLOAD_IAM_ROLE}\n",
    "PARQUET PARTITION BY (catgroup, catname) CLEANPATH;"
   ]
  },
  {
   "attachments": {},
   "cell_type": "markdown",
   "metadata": {},
   "source": [
    "## Use Glue to retrieve metadata in S3 and Athena to query data for analysis"
   ]
  },
  {
   "cell_type": "code",
   "execution_count": null,
   "metadata": {},
   "outputs": [],
   "source": [
    "S3_BUCKET = \"\"\n",
    "S3_UNLOAD_PATH = \"\"\n",
    "GLUE_CRAWLER_IAM_ROLE = \"\"\n",
    "GLUE_DATABASE = \"\"\n",
    "\n",
    "Athena_result = \"\"\n",
    "Athena_output = \"\""
   ]
  },
  {
   "cell_type": "code",
   "execution_count": null,
   "metadata": {},
   "outputs": [],
   "source": [
    "!aws glue delete-database --name {GLUE_DATABASE} || echo \"Database {GLUE_DATABASE} not found.\""
   ]
  },
  {
   "cell_type": "code",
   "execution_count": null,
   "metadata": {},
   "outputs": [],
   "source": [
    "!aws glue create-database --database-input '{\"Name\": \"song_db\", \"Description\": \"data unloaded from Redshift\"}'"
   ]
  },
  {
   "attachments": {},
   "cell_type": "markdown",
   "metadata": {},
   "source": [
    "Task: Create the glue crawler and set the target path as S3_UNLOAD_PATH. Then run the crawler"
   ]
  },
  {
   "cell_type": "code",
   "execution_count": null,
   "metadata": {},
   "outputs": [],
   "source": [
    "#list out the table names and output as a tabular format (not necessary but good check)\n",
    "!aws glue get-tables --database-name {GLUE_DATABASE} --query 'TableList[].Name' --output table"
   ]
  },
  {
   "attachments": {},
   "cell_type": "markdown",
   "metadata": {},
   "source": [
    "Task: Query athena with the following query:\n",
    "\n",
    "```sql\n",
    "SELECT *\n",
    "FROM song\n",
    "WHERE artist = '???'\n",
    "ORDER BY realease_time\n",
    "LIMIT 10;\n",
    "```"
   ]
  }
 ],
 "metadata": {
  "kernelspec": {
   "display_name": "env-spacy",
   "language": "python",
   "name": "python3"
  },
  "language_info": {
   "codemirror_mode": {
    "name": "ipython",
    "version": 3
   },
   "file_extension": ".py",
   "mimetype": "text/x-python",
   "name": "python",
   "nbconvert_exporter": "python",
   "pygments_lexer": "ipython3",
   "version": "3.9.7"
  },
  "orig_nbformat": 4,
  "vscode": {
   "interpreter": {
    "hash": "343191058819caea96d5cde1bd3b1a75b4807623ce2cda0e1c8499e39ac847e3"
   }
  }
 },
 "nbformat": 4,
 "nbformat_minor": 2
}
