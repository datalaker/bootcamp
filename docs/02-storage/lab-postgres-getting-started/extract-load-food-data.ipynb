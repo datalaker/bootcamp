{
 "cells": [
  {
   "cell_type": "code",
   "execution_count": null,
   "metadata": {},
   "outputs": [],
   "source": [
    "!pip install openfoodfacts"
   ]
  },
  {
   "cell_type": "code",
   "execution_count": 10,
   "metadata": {},
   "outputs": [],
   "source": [
    "import pandas as pd\n",
    "import openfoodfacts\n",
    "from collections import Counter\n",
    "import boto3\n",
    "import json\n",
    "import sys\n",
    "import psycopg2"
   ]
  },
  {
   "attachments": {},
   "cell_type": "markdown",
   "metadata": {},
   "source": [
    "## Extract"
   ]
  },
  {
   "cell_type": "code",
   "execution_count": 4,
   "metadata": {},
   "outputs": [
    {
     "data": {
      "text/html": [
       "<div>\n",
       "<style scoped>\n",
       "    .dataframe tbody tr th:only-of-type {\n",
       "        vertical-align: middle;\n",
       "    }\n",
       "\n",
       "    .dataframe tbody tr th {\n",
       "        vertical-align: top;\n",
       "    }\n",
       "\n",
       "    .dataframe thead th {\n",
       "        text-align: right;\n",
       "    }\n",
       "</style>\n",
       "<table border=\"1\" class=\"dataframe\">\n",
       "  <thead>\n",
       "    <tr style=\"text-align: right;\">\n",
       "      <th></th>\n",
       "      <th>id</th>\n",
       "      <th>categories_hierarchy</th>\n",
       "      <th>generic_name</th>\n",
       "      <th>nutriscore_score</th>\n",
       "      <th>quantity</th>\n",
       "      <th>origins</th>\n",
       "      <th>Allergens</th>\n",
       "    </tr>\n",
       "  </thead>\n",
       "  <tbody>\n",
       "    <tr>\n",
       "      <th>0</th>\n",
       "      <td>737628064502</td>\n",
       "      <td>[en:plant-based-foods-and-beverages, en:plant-...</td>\n",
       "      <td>Rice Noodles</td>\n",
       "      <td>4</td>\n",
       "      <td>155 g</td>\n",
       "      <td>Thailand</td>\n",
       "      <td>None</td>\n",
       "    </tr>\n",
       "    <tr>\n",
       "      <th>1</th>\n",
       "      <td>3017620422003</td>\n",
       "      <td>[en:Petit-déjeuners, en:Produits à tartiner, e...</td>\n",
       "      <td>None</td>\n",
       "      <td>26</td>\n",
       "      <td>400 g</td>\n",
       "      <td></td>\n",
       "      <td>None</td>\n",
       "    </tr>\n",
       "    <tr>\n",
       "      <th>2</th>\n",
       "      <td>5449000131805</td>\n",
       "      <td>[en:beverages, en:carbonated-drinks, en:artifi...</td>\n",
       "      <td>Boisson rafraîchissante aux extraits végétaux,...</td>\n",
       "      <td>1</td>\n",
       "      <td>330 ml</td>\n",
       "      <td></td>\n",
       "      <td>None</td>\n",
       "    </tr>\n",
       "    <tr>\n",
       "      <th>3</th>\n",
       "      <td>3175680011534</td>\n",
       "      <td>[en:snacks, en:breakfasts, en:sweet-snacks, en...</td>\n",
       "      <td>None</td>\n",
       "      <td>9</td>\n",
       "      <td>230 g</td>\n",
       "      <td>France,European Union,Non European Union</td>\n",
       "      <td>None</td>\n",
       "    </tr>\n",
       "    <tr>\n",
       "      <th>4</th>\n",
       "      <td>8000500310427</td>\n",
       "      <td>[en:snacks, en:sweet-snacks, en:biscuits-and-c...</td>\n",
       "      <td>None</td>\n",
       "      <td>25</td>\n",
       "      <td>304g</td>\n",
       "      <td></td>\n",
       "      <td>None</td>\n",
       "    </tr>\n",
       "  </tbody>\n",
       "</table>\n",
       "</div>"
      ],
      "text/plain": [
       "              id                               categories_hierarchy  \\\n",
       "0   737628064502  [en:plant-based-foods-and-beverages, en:plant-...   \n",
       "1  3017620422003  [en:Petit-déjeuners, en:Produits à tartiner, e...   \n",
       "2  5449000131805  [en:beverages, en:carbonated-drinks, en:artifi...   \n",
       "3  3175680011534  [en:snacks, en:breakfasts, en:sweet-snacks, en...   \n",
       "4  8000500310427  [en:snacks, en:sweet-snacks, en:biscuits-and-c...   \n",
       "\n",
       "                                        generic_name nutriscore_score  \\\n",
       "0                                       Rice Noodles                4   \n",
       "1                                               None               26   \n",
       "2  Boisson rafraîchissante aux extraits végétaux,...                1   \n",
       "3                                               None                9   \n",
       "4                                               None               25   \n",
       "\n",
       "  quantity                                   origins Allergens  \n",
       "0    155 g                                  Thailand      None  \n",
       "1    400 g                                                None  \n",
       "2   330 ml                                                None  \n",
       "3    230 g  France,European Union,Non European Union      None  \n",
       "4     304g                                                None  "
      ]
     },
     "execution_count": 4,
     "metadata": {},
     "output_type": "execute_result"
    }
   ],
   "source": [
    "# Read data from openfoodfacts and create df\n",
    "ids = [737628064502,3017620422003,5449000131805,3175680011534,8000500310427,3228857000166,3229820782560,5410188031072,5010477348630,3068320114453,3088543506255,3033490506629,7622210476104,5000112611878,3228021170022,5411188119098,3073781115345,3252210390014,20724696,8076809513753,87157239,7622300441937,5053990156009,20916435]\n",
    "ids = [str(x) for x in ids]\n",
    "\n",
    "categories = [\"id\", \"categories_hierarchy\", \"generic_name\", \"nutriscore_score\", \"quantity\", \"origins\", \"Allergens\"]\n",
    "\n",
    "df = pd.DataFrame(columns=categories)\n",
    "\n",
    "for product_id in ids:\n",
    "    product = openfoodfacts.products.get_product(product_id)\n",
    "    values = list( map(product.get(\"product\").get, categories) )\n",
    "    df.loc[len(df)] = values\n",
    "    \n",
    "df.head()"
   ]
  },
  {
   "cell_type": "code",
   "execution_count": 5,
   "metadata": {},
   "outputs": [
    {
     "data": {
      "text/html": [
       "<div>\n",
       "<style scoped>\n",
       "    .dataframe tbody tr th:only-of-type {\n",
       "        vertical-align: middle;\n",
       "    }\n",
       "\n",
       "    .dataframe tbody tr th {\n",
       "        vertical-align: top;\n",
       "    }\n",
       "\n",
       "    .dataframe thead th {\n",
       "        text-align: right;\n",
       "    }\n",
       "</style>\n",
       "<table border=\"1\" class=\"dataframe\">\n",
       "  <thead>\n",
       "    <tr style=\"text-align: right;\">\n",
       "      <th></th>\n",
       "      <th>category</th>\n",
       "      <th>amount</th>\n",
       "    </tr>\n",
       "  </thead>\n",
       "  <tbody>\n",
       "    <tr>\n",
       "      <th>0</th>\n",
       "      <td>en:plant-based-foods-and-beverages</td>\n",
       "      <td>8</td>\n",
       "    </tr>\n",
       "    <tr>\n",
       "      <th>1</th>\n",
       "      <td>en:plant-based-foods</td>\n",
       "      <td>7</td>\n",
       "    </tr>\n",
       "    <tr>\n",
       "      <th>2</th>\n",
       "      <td>en:cereals-and-potatoes</td>\n",
       "      <td>4</td>\n",
       "    </tr>\n",
       "    <tr>\n",
       "      <th>3</th>\n",
       "      <td>en:cereals-and-their-products</td>\n",
       "      <td>3</td>\n",
       "    </tr>\n",
       "    <tr>\n",
       "      <th>4</th>\n",
       "      <td>en:pastas</td>\n",
       "      <td>1</td>\n",
       "    </tr>\n",
       "  </tbody>\n",
       "</table>\n",
       "</div>"
      ],
      "text/plain": [
       "                             category  amount\n",
       "0  en:plant-based-foods-and-beverages       8\n",
       "1                en:plant-based-foods       7\n",
       "2             en:cereals-and-potatoes       4\n",
       "3       en:cereals-and-their-products       3\n",
       "4                           en:pastas       1"
      ]
     },
     "execution_count": 5,
     "metadata": {},
     "output_type": "execute_result"
    }
   ],
   "source": [
    "# Create new DF with splitted categories and counter \n",
    "category_counter = Counter(df['categories_hierarchy'].explode())\n",
    "category_counter_df= pd.DataFrame.from_dict(category_counter, orient='index').reset_index().rename(columns={\"index\": \"category\", 0: \"amount\"})\n",
    "category_counter_df.head()"
   ]
  },
  {
   "cell_type": "code",
   "execution_count": 6,
   "metadata": {},
   "outputs": [
    {
     "data": {
      "text/html": [
       "<div>\n",
       "<style scoped>\n",
       "    .dataframe tbody tr th:only-of-type {\n",
       "        vertical-align: middle;\n",
       "    }\n",
       "\n",
       "    .dataframe tbody tr th {\n",
       "        vertical-align: top;\n",
       "    }\n",
       "\n",
       "    .dataframe thead th {\n",
       "        text-align: right;\n",
       "    }\n",
       "</style>\n",
       "<table border=\"1\" class=\"dataframe\">\n",
       "  <thead>\n",
       "    <tr style=\"text-align: right;\">\n",
       "      <th></th>\n",
       "      <th>generic_name</th>\n",
       "      <th>min_nutr_score</th>\n",
       "      <th>max_nutr_score</th>\n",
       "      <th>amount</th>\n",
       "    </tr>\n",
       "  </thead>\n",
       "  <tbody>\n",
       "    <tr>\n",
       "      <th>0</th>\n",
       "      <td>de:Kekse mit Nuss-Nugat-Creme-Füllung</td>\n",
       "      <td>25</td>\n",
       "      <td>25</td>\n",
       "      <td>1</td>\n",
       "    </tr>\n",
       "    <tr>\n",
       "      <th>1</th>\n",
       "      <td>en:Biscuit-snack-with-chocolate-filling</td>\n",
       "      <td>9</td>\n",
       "      <td>9</td>\n",
       "      <td>1</td>\n",
       "    </tr>\n",
       "    <tr>\n",
       "      <th>2</th>\n",
       "      <td>en:Groceries</td>\n",
       "      <td>13</td>\n",
       "      <td>18</td>\n",
       "      <td>2</td>\n",
       "    </tr>\n",
       "    <tr>\n",
       "      <th>3</th>\n",
       "      <td>en:Mandeln</td>\n",
       "      <td>-3</td>\n",
       "      <td>-3</td>\n",
       "      <td>1</td>\n",
       "    </tr>\n",
       "    <tr>\n",
       "      <th>4</th>\n",
       "      <td>en:Nüsse</td>\n",
       "      <td>-3</td>\n",
       "      <td>-3</td>\n",
       "      <td>1</td>\n",
       "    </tr>\n",
       "  </tbody>\n",
       "</table>\n",
       "</div>"
      ],
      "text/plain": [
       "                              generic_name  min_nutr_score  max_nutr_score  \\\n",
       "0    de:Kekse mit Nuss-Nugat-Creme-Füllung              25              25   \n",
       "1  en:Biscuit-snack-with-chocolate-filling               9               9   \n",
       "2                             en:Groceries              13              18   \n",
       "3                               en:Mandeln              -3              -3   \n",
       "4                                 en:Nüsse              -3              -3   \n",
       "\n",
       "   amount  \n",
       "0       1  \n",
       "1       1  \n",
       "2       2  \n",
       "3       1  \n",
       "4       1  "
      ]
     },
     "execution_count": 6,
     "metadata": {},
     "output_type": "execute_result"
    }
   ],
   "source": [
    "# Find and Add min and max to new DF\n",
    "aggr_df = df.explode(\"categories_hierarchy\").groupby(\"categories_hierarchy\").agg({\"nutriscore_score\": ['min', 'max']}).xs('nutriscore_score', axis=1, drop_level=True).reset_index()\n",
    "result_df = aggr_df.rename(columns={\"categories_hierarchy\": \"category\", \"min\": \"minimum\", \"max\": \"maximum\"}).merge(category_counter_df, on=\"category\")\n",
    "result_df = result_df.rename(columns={\"category\": \"generic_name\", \"minimum\":\"min_nutr_score\", \"maximum\":\"max_nutr_score\"})\n",
    "result_df.head()"
   ]
  },
  {
   "cell_type": "code",
   "execution_count": 21,
   "metadata": {},
   "outputs": [],
   "source": [
    "result_df.to_csv(\"data/food_data.csv\", index=False)"
   ]
  },
  {
   "attachments": {},
   "cell_type": "markdown",
   "metadata": {},
   "source": [
    "## Load into Postgres"
   ]
  },
  {
   "cell_type": "code",
   "execution_count": 8,
   "metadata": {},
   "outputs": [],
   "source": [
    "def get_secret(secret_name, region_name=\"us-east-1\"):\n",
    "    session = boto3.session.Session()\n",
    "    client = session.client(\n",
    "        service_name='secretsmanager',\n",
    "        region_name=region_name)\n",
    "    get_secret_value_response = client.get_secret_value(SecretId=secret_name)\n",
    "    get_secret_value_response = json.loads(get_secret_value_response['SecretString'])\n",
    "    return get_secret_value_response"
   ]
  },
  {
   "cell_type": "code",
   "execution_count": 9,
   "metadata": {},
   "outputs": [],
   "source": [
    "creds = get_secret(\"wysde\")\n",
    "USERNAME = creds[\"RDS_POSTGRES_USERNAME\"]\n",
    "PASSWORD = creds[\"RDS_POSTGRES_PASSWORD\"]\n",
    "HOST = creds[\"RDS_POSTGRES_HOST\"]\n",
    "DATABASE = 'sparsh'\n",
    "\n",
    "conn_str = 'postgresql://{0}:{1}@{2}/{3}'.format(USERNAME, PASSWORD, HOST, DATABASE)"
   ]
  },
  {
   "cell_type": "code",
   "execution_count": 23,
   "metadata": {},
   "outputs": [],
   "source": [
    "TABLE_NAME = \"food_data\""
   ]
  },
  {
   "cell_type": "code",
   "execution_count": 26,
   "metadata": {},
   "outputs": [],
   "source": [
    "def connect(conn_str):\n",
    "    \"\"\" Connect to the PostgreSQL database server \"\"\"\n",
    "    conn = None\n",
    "    try:\n",
    "        print('Connecting to the PostgreSQL database...')\n",
    "        conn = psycopg2.connect(conn_str)\n",
    "    except (Exception, psycopg2.DatabaseError) as error:\n",
    "        print(error)\n",
    "        sys.exit(1)\n",
    "    print(\"Connection successful\")\n",
    "    return conn"
   ]
  },
  {
   "cell_type": "code",
   "execution_count": 41,
   "metadata": {},
   "outputs": [
    {
     "name": "stdout",
     "output_type": "stream",
     "text": [
      "Connecting to the PostgreSQL database...\n",
      "Connection successful\n"
     ]
    }
   ],
   "source": [
    "conn = connect(conn_str)"
   ]
  },
  {
   "cell_type": "code",
   "execution_count": 24,
   "metadata": {},
   "outputs": [
    {
     "data": {
      "text/html": [
       "<div>\n",
       "<style scoped>\n",
       "    .dataframe tbody tr th:only-of-type {\n",
       "        vertical-align: middle;\n",
       "    }\n",
       "\n",
       "    .dataframe tbody tr th {\n",
       "        vertical-align: top;\n",
       "    }\n",
       "\n",
       "    .dataframe thead th {\n",
       "        text-align: right;\n",
       "    }\n",
       "</style>\n",
       "<table border=\"1\" class=\"dataframe\">\n",
       "  <thead>\n",
       "    <tr style=\"text-align: right;\">\n",
       "      <th></th>\n",
       "      <th>generic_name</th>\n",
       "      <th>min_nutr_score</th>\n",
       "      <th>max_nutr_score</th>\n",
       "      <th>amount</th>\n",
       "    </tr>\n",
       "  </thead>\n",
       "  <tbody>\n",
       "    <tr>\n",
       "      <th>0</th>\n",
       "      <td>de:Kekse mit Nuss-Nugat-Creme-Füllung</td>\n",
       "      <td>25</td>\n",
       "      <td>25</td>\n",
       "      <td>1</td>\n",
       "    </tr>\n",
       "    <tr>\n",
       "      <th>1</th>\n",
       "      <td>en:Biscuit-snack-with-chocolate-filling</td>\n",
       "      <td>9</td>\n",
       "      <td>9</td>\n",
       "      <td>1</td>\n",
       "    </tr>\n",
       "    <tr>\n",
       "      <th>2</th>\n",
       "      <td>en:Groceries</td>\n",
       "      <td>13</td>\n",
       "      <td>18</td>\n",
       "      <td>2</td>\n",
       "    </tr>\n",
       "    <tr>\n",
       "      <th>3</th>\n",
       "      <td>en:Mandeln</td>\n",
       "      <td>-3</td>\n",
       "      <td>-3</td>\n",
       "      <td>1</td>\n",
       "    </tr>\n",
       "    <tr>\n",
       "      <th>4</th>\n",
       "      <td>en:Nüsse</td>\n",
       "      <td>-3</td>\n",
       "      <td>-3</td>\n",
       "      <td>1</td>\n",
       "    </tr>\n",
       "    <tr>\n",
       "      <th>...</th>\n",
       "      <td>...</td>\n",
       "      <td>...</td>\n",
       "      <td>...</td>\n",
       "      <td>...</td>\n",
       "    </tr>\n",
       "    <tr>\n",
       "      <th>124</th>\n",
       "      <td>en:wholemeal-breads</td>\n",
       "      <td>-2</td>\n",
       "      <td>-2</td>\n",
       "      <td>1</td>\n",
       "    </tr>\n",
       "    <tr>\n",
       "      <th>125</th>\n",
       "      <td>en:wholemeal-sliced-breads</td>\n",
       "      <td>-2</td>\n",
       "      <td>-2</td>\n",
       "      <td>1</td>\n",
       "    </tr>\n",
       "    <tr>\n",
       "      <th>126</th>\n",
       "      <td>fr:Alimentaire</td>\n",
       "      <td>20</td>\n",
       "      <td>20</td>\n",
       "      <td>1</td>\n",
       "    </tr>\n",
       "    <tr>\n",
       "      <th>127</th>\n",
       "      <td>fr:fromages-blancs</td>\n",
       "      <td>-2</td>\n",
       "      <td>-2</td>\n",
       "      <td>1</td>\n",
       "    </tr>\n",
       "    <tr>\n",
       "      <th>128</th>\n",
       "      <td>fr:fromages-blancs-natures</td>\n",
       "      <td>-2</td>\n",
       "      <td>-2</td>\n",
       "      <td>1</td>\n",
       "    </tr>\n",
       "  </tbody>\n",
       "</table>\n",
       "<p>129 rows × 4 columns</p>\n",
       "</div>"
      ],
      "text/plain": [
       "                                generic_name  min_nutr_score  max_nutr_score  \\\n",
       "0      de:Kekse mit Nuss-Nugat-Creme-Füllung              25              25   \n",
       "1    en:Biscuit-snack-with-chocolate-filling               9               9   \n",
       "2                               en:Groceries              13              18   \n",
       "3                                 en:Mandeln              -3              -3   \n",
       "4                                   en:Nüsse              -3              -3   \n",
       "..                                       ...             ...             ...   \n",
       "124                      en:wholemeal-breads              -2              -2   \n",
       "125               en:wholemeal-sliced-breads              -2              -2   \n",
       "126                           fr:Alimentaire              20              20   \n",
       "127                       fr:fromages-blancs              -2              -2   \n",
       "128               fr:fromages-blancs-natures              -2              -2   \n",
       "\n",
       "     amount  \n",
       "0         1  \n",
       "1         1  \n",
       "2         2  \n",
       "3         1  \n",
       "4         1  \n",
       "..      ...  \n",
       "124       1  \n",
       "125       1  \n",
       "126       1  \n",
       "127       1  \n",
       "128       1  \n",
       "\n",
       "[129 rows x 4 columns]"
      ]
     },
     "execution_count": 24,
     "metadata": {},
     "output_type": "execute_result"
    }
   ],
   "source": [
    "df = pd.read_csv(f\"./data/{TABLE_NAME}.csv\")\n",
    "df"
   ]
  },
  {
   "cell_type": "code",
   "execution_count": 35,
   "metadata": {},
   "outputs": [
    {
     "name": "stdout",
     "output_type": "stream",
     "text": [
      "\n",
      "CREATE TABLE food_data (\n",
      "\tgeneric_name TEXT, \n",
      "\tmin_nutr_score BIGINT, \n",
      "\tmax_nutr_score BIGINT, \n",
      "\tamount BIGINT\n",
      ")\n",
      "\n",
      "\n"
     ]
    }
   ],
   "source": [
    "ddl_query = pd.io.sql.get_schema(df, name=TABLE_NAME, con=conn_str)\n",
    "print(ddl_query)"
   ]
  },
  {
   "cell_type": "code",
   "execution_count": 37,
   "metadata": {},
   "outputs": [],
   "source": [
    "with conn.cursor() as curs:\n",
    "    curs.execute(ddl_query)"
   ]
  },
  {
   "cell_type": "code",
   "execution_count": 15,
   "metadata": {},
   "outputs": [],
   "source": [
    "def write_data_to_db(connection, table, filename):\n",
    "    cursor = connection.cursor()\n",
    "    with open(filename, 'r') as f:\n",
    "        next(f)\n",
    "        cursor.copy_from(f, table, sep=',')\n",
    "\n",
    "    connection.commit()\n",
    "    cursor.close()"
   ]
  },
  {
   "cell_type": "code",
   "execution_count": 38,
   "metadata": {},
   "outputs": [],
   "source": [
    "write_data_to_db(conn, table=TABLE_NAME, filename=f\"data/{TABLE_NAME}.csv\")"
   ]
  },
  {
   "cell_type": "code",
   "execution_count": 46,
   "metadata": {},
   "outputs": [
    {
     "name": "stdout",
     "output_type": "stream",
     "text": [
      "[('de:Kekse mit Nuss-Nugat-Creme-Füllung', 25, 25, 1), ('en:Biscuit-snack-with-chocolate-filling', 9, 9, 1), ('en:Groceries', 13, 18, 2), ('en:Mandeln', -3, -3, 1), ('en:Nüsse', -3, -3, 1), ('en:Nüsse und Nussprodukte', -3, -3, 1), ('en:Petit-déjeuners', 26, 26, 1), ('en:Pflanzliche Lebensmittel', -3, -3, 1), ('en:Pflanzliche Lebensmittel und Getränke', -3, -3, 1), ('en:Produits à tartiner', 26, 26, 1)]\n"
     ]
    }
   ],
   "source": [
    "with conn.cursor() as curs:\n",
    "    curs.execute(f\"SELECT * FROM {TABLE_NAME} LIMIT 10\")\n",
    "    print(curs.fetchall())"
   ]
  },
  {
   "cell_type": "code",
   "execution_count": null,
   "metadata": {},
   "outputs": [],
   "source": []
  }
 ],
 "metadata": {
  "kernelspec": {
   "display_name": "env-spacy",
   "language": "python",
   "name": "python3"
  },
  "language_info": {
   "codemirror_mode": {
    "name": "ipython",
    "version": 3
   },
   "file_extension": ".py",
   "mimetype": "text/x-python",
   "name": "python",
   "nbconvert_exporter": "python",
   "pygments_lexer": "ipython3",
   "version": "3.9.7"
  },
  "orig_nbformat": 4,
  "vscode": {
   "interpreter": {
    "hash": "343191058819caea96d5cde1bd3b1a75b4807623ce2cda0e1c8499e39ac847e3"
   }
  }
 },
 "nbformat": 4,
 "nbformat_minor": 2
}
