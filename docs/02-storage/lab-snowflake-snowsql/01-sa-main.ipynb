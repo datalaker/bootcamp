{
 "cells": [
  {
   "attachments": {},
   "cell_type": "markdown",
   "metadata": {},
   "source": [
    "## Before loading csv"
   ]
  },
  {
   "cell_type": "code",
   "execution_count": null,
   "metadata": {
    "vscode": {
     "languageId": "sql"
    }
   },
   "outputs": [],
   "source": [
    "CREATE OR REPLACE SCHEMA ECOMMERCE;"
   ]
  },
  {
   "cell_type": "code",
   "execution_count": null,
   "metadata": {
    "vscode": {
     "languageId": "sql"
    }
   },
   "outputs": [],
   "source": [
    "CREATE FILE FORMAT ECOMMERCECSVFORMAT \n",
    "COMPRESSION = 'AUTO' \n",
    "FIELD_DELIMITER = ',' \n",
    "RECORD_DELIMITER = '\\n' \n",
    "SKIP_HEADER = 1 \n",
    "FIELD_OPTIONALLY_ENCLOSED_BY = 'NONE' \n",
    "TRIM_SPACE = FALSE \n",
    "TIMESTAMP_FORMAT = 'MM/DD/YYYY HH:MI'\n",
    "ERROR_ON_COLUMN_COUNT_MISMATCH = TRUE \n",
    "ESCAPE = 'NONE' \n",
    "ESCAPE_UNENCLOSED_FIELD = '\\134'\n",
    "NULL_IF = ('\\\\N');"
   ]
  },
  {
   "cell_type": "code",
   "execution_count": null,
   "metadata": {
    "vscode": {
     "languageId": "sql"
    }
   },
   "outputs": [],
   "source": [
    "create or replace TABLE DATA (\n",
    "\tINVOICENO VARCHAR(38),\n",
    "\tSTOCKCODE VARCHAR(38),\n",
    "\tDESCRIPTION VARCHAR(60),\n",
    "\tQUANTITY NUMBER(38,0),\n",
    "\tINVOICEDATE TIMESTAMP,\n",
    "\tUNITPRICE NUMBER(38,0),\n",
    "\tCUSTOMERID VARCHAR(10),\n",
    "\tCOUNTRY VARCHAR(20)\n",
    ");"
   ]
  },
  {
   "attachments": {},
   "cell_type": "markdown",
   "metadata": {},
   "source": [
    "## Load with SnowSQL"
   ]
  },
  {
   "attachments": {},
   "cell_type": "markdown",
   "metadata": {},
   "source": [
    "Use https://docs.snowflake.com/en/user-guide/connecting.html#logging-in-using-snowsql to install SnowSQL"
   ]
  },
  {
   "cell_type": "code",
   "execution_count": 2,
   "metadata": {
    "vscode": {
     "languageId": "sql"
    }
   },
   "outputs": [
    {
     "name": "stdout",
     "output_type": "stream",
     "text": [
      "Version: 1.2.23\n",
      "\u001b[0m\u001b[0m"
     ]
    }
   ],
   "source": [
    "!snowsql -v"
   ]
  },
  {
   "cell_type": "code",
   "execution_count": null,
   "metadata": {
    "vscode": {
     "languageId": "sql"
    }
   },
   "outputs": [],
   "source": [
    "!snowsql -a ueysmdr-wk00690 -u sparsh -w compute_wh -d sparsh;"
   ]
  },
  {
   "cell_type": "code",
   "execution_count": null,
   "metadata": {
    "vscode": {
     "languageId": "sql"
    }
   },
   "outputs": [],
   "source": [
    "-- select the schema\n",
    "use schema ECOMMERCE;"
   ]
  },
  {
   "cell_type": "code",
   "execution_count": null,
   "metadata": {
    "vscode": {
     "languageId": "sql"
    }
   },
   "outputs": [],
   "source": [
    "-- create stage use the file format\n",
    "create stage my_upload file_format = ECOMMERCECSVFORMAT;\n",
    "\n",
    "-- Do this in case you don't have a format specified\n",
    "-- create stage\n",
    "-- create stage my_upload FILE_Format = (TYPE = CSV skip_header = 1);"
   ]
  },
  {
   "cell_type": "code",
   "execution_count": null,
   "metadata": {
    "vscode": {
     "languageId": "sql"
    }
   },
   "outputs": [],
   "source": [
    "-- stage file | linux/mac put file syntax\n",
    "put file://data/upload.csv @my_upload auto_compress=true;"
   ]
  },
  {
   "cell_type": "code",
   "execution_count": null,
   "metadata": {
    "vscode": {
     "languageId": "sql"
    }
   },
   "outputs": [],
   "source": [
    "-- describe the stage to check parameters\n",
    "DESCRIBE STAGE my_upload;"
   ]
  },
  {
   "cell_type": "code",
   "execution_count": null,
   "metadata": {
    "vscode": {
     "languageId": "sql"
    }
   },
   "outputs": [],
   "source": [
    "-- validate before copy with 2 rows\n",
    "copy into DATA from @my_upload validation_mode = 'RETURN_2_ROWS';"
   ]
  },
  {
   "cell_type": "code",
   "execution_count": null,
   "metadata": {
    "vscode": {
     "languageId": "sql"
    }
   },
   "outputs": [],
   "source": [
    "--copy staged file into table\n",
    "copy into DATA from @my_upload on_error = CONTINUE;"
   ]
  },
  {
   "cell_type": "code",
   "execution_count": null,
   "metadata": {
    "vscode": {
     "languageId": "sql"
    }
   },
   "outputs": [],
   "source": [
    "-- remove staged files, because copy always copies everything\n",
    "remove @my_upload;"
   ]
  },
  {
   "cell_type": "code",
   "execution_count": null,
   "metadata": {
    "vscode": {
     "languageId": "sql"
    }
   },
   "outputs": [],
   "source": [
    "-- see your table is populated now\n",
    "SHOW TABLES;"
   ]
  },
  {
   "cell_type": "code",
   "execution_count": null,
   "metadata": {
    "vscode": {
     "languageId": "sql"
    }
   },
   "outputs": [],
   "source": [
    "-- alter timestamp format\n",
    "alter session set timestamp_input_format='MM/DD/YYYY HH24:MI';"
   ]
  },
  {
   "attachments": {},
   "cell_type": "markdown",
   "metadata": {},
   "source": [
    "## Split Table"
   ]
  },
  {
   "cell_type": "code",
   "execution_count": null,
   "metadata": {
    "vscode": {
     "languageId": "sql"
    }
   },
   "outputs": [],
   "source": [
    "CREATE OR REPLACE TABLE INVOICES AS (SELECT DISTINCT CUSTOMERID, COUNTRY, INVOICEDATE, INVOICENO\n",
    "FROM DATA);"
   ]
  },
  {
   "cell_type": "code",
   "execution_count": null,
   "metadata": {
    "vscode": {
     "languageId": "sql"
    }
   },
   "outputs": [],
   "source": [
    "-- expected n rows 25905\n",
    "SELECT COUNT(*) FROM INVOICES;"
   ]
  },
  {
   "cell_type": "code",
   "execution_count": null,
   "metadata": {
    "vscode": {
     "languageId": "sql"
    }
   },
   "outputs": [],
   "source": [
    "CREATE OR REPLACE TABLE ITEMS AS ( SELECT STOCKCODE, DESCRIPTION, UNITPRICE,QUANTITY, INVOICENO\n",
    "FROM DATA);"
   ]
  },
  {
   "cell_type": "code",
   "execution_count": null,
   "metadata": {
    "vscode": {
     "languageId": "sql"
    }
   },
   "outputs": [],
   "source": [
    "-- expected n rows 537113\n",
    "SELECT COUNT(*) FROM ITEMS;"
   ]
  },
  {
   "attachments": {},
   "cell_type": "markdown",
   "metadata": {},
   "source": [
    "## Visualize"
   ]
  },
  {
   "cell_type": "code",
   "execution_count": null,
   "metadata": {
    "vscode": {
     "languageId": "sql"
    }
   },
   "outputs": [],
   "source": [
    "-- INVOICES TABLE\n",
    "SELECT COUNT(DISTINCT COUNTRY) AS NUMBER_COUNTRIES FROM INVOICES;"
   ]
  },
  {
   "cell_type": "code",
   "execution_count": null,
   "metadata": {
    "vscode": {
     "languageId": "sql"
    }
   },
   "outputs": [],
   "source": [
    "-- TOP 2-10 countries with most clients\n",
    "SELECT COUNTRY, \n",
    "       COUNT(DISTINCT CUSTOMERID) AS N_CLIENTS   \n",
    "FROM INVOICES\n",
    "-- REMOVE UK AS IT HAS TOO MANY CLIENTS COMPARED TO OTHER COUNTRIES\n",
    "WHERE UPPER(COUNTRY) NOT LIKE 'UNITED%'\n",
    "GROUP BY COUNTRY\n",
    "ORDER BY N_CLIENTS DESC\n",
    "LIMIT 10;"
   ]
  },
  {
   "cell_type": "code",
   "execution_count": null,
   "metadata": {
    "vscode": {
     "languageId": "sql"
    }
   },
   "outputs": [],
   "source": [
    "-- TOP clinets with most invoices\n",
    "SELECT CUSTOMERID, COUNT(DISTINCT INVOICENO) AS N_ORDERS\n",
    "FROM INVOICES\n",
    "GROUP BY COUNTRY, CUSTOMERID\n",
    "ORDER BY N_ORDERS DESC\n",
    "LIMIT 10;"
   ]
  },
  {
   "cell_type": "code",
   "execution_count": null,
   "metadata": {
    "vscode": {
     "languageId": "sql"
    }
   },
   "outputs": [],
   "source": [
    "-- Most ordered items\n",
    "SELECT STOCKCODE,DESCRIPTION,SUM(QUANTITY) AS TOTAL_QUANTITY\n",
    "FROM ITEMS\n",
    "GROUP BY STOCKCODE, DESCRIPTION\n",
    "ORDER BY TOTAL_QUANTITY DESC\n",
    "LIMIT 10;"
   ]
  },
  {
   "cell_type": "code",
   "execution_count": null,
   "metadata": {
    "vscode": {
     "languageId": "sql"
    }
   },
   "outputs": [],
   "source": [
    "-- ITEMS TABLE\n",
    "SELECT STOCKCODE, COUNT(DISTINCT INVOICENO)\n",
    "FROM ITEMS\n",
    "GROUP BY STOCKCODE;"
   ]
  },
  {
   "cell_type": "code",
   "execution_count": null,
   "metadata": {
    "vscode": {
     "languageId": "sql"
    }
   },
   "outputs": [],
   "source": [
    "-- Overview of unit prices\n",
    "WITH TEMP AS (\n",
    "    SELECT DESCRIPTION, UNITPRICE\n",
    "    FROM ITEMS\n",
    "    GROUP BY STOCKCODE, DESCRIPTION, UNITPRICE\n",
    "    ORDER BY UNITPRICE DESC)\n",
    "SELECT COUNT(*), \n",
    "       AVG(UNITPRICE),\n",
    "       MIN(UNITPRICE),\n",
    "       MAX(UNITPRICE)\n",
    "FROM TEMP;"
   ]
  },
  {
   "cell_type": "code",
   "execution_count": null,
   "metadata": {
    "vscode": {
     "languageId": "sql"
    }
   },
   "outputs": [],
   "source": [
    "--  Which customers bought a WHITE METAL LANTERN?\n",
    "SELECT DISTINCT INVOICES.CUSTOMERID\n",
    "FROM ITEMS\n",
    "JOIN INVOICES ON ITEMS.INVOICENO=INVOICES.INVOICENO\n",
    "WHERE ITEMS.DESCRIPTION = 'WHITE METAL LANTERN' \n",
    "AND INVOICES.CUSTOMERID IS NOT NULL;"
   ]
  },
  {
   "cell_type": "code",
   "execution_count": null,
   "metadata": {
    "vscode": {
     "languageId": "sql"
    }
   },
   "outputs": [],
   "source": [
    "-- Which ITEMS are the most revenue generating per country outside of UK?\n",
    "SELECT ITEMS.DESCRIPTION, AVG(ITEMS.UNITPRICE) * SUM(ITEMS.QUANTITY) AS TOTAL_REVENUE, INVOICES.COUNTRY\n",
    "FROM ITEMS\n",
    "JOIN INVOICES ON ITEMS.INVOICENO=INVOICES.INVOICENO\n",
    "WHERE UPPER(INVOICES.COUNTRY) NOT LIKE 'UNITED%'\n",
    "GROUP BY ITEMS.DESCRIPTION, INVOICES.COUNTRY\n",
    "ORDER BY TOTAL_REVENUE DESC, INVOICES.COUNTRY, ITEMS.DESCRIPTION;"
   ]
  },
  {
   "cell_type": "code",
   "execution_count": null,
   "metadata": {
    "vscode": {
     "languageId": "sql"
    }
   },
   "outputs": [],
   "source": [
    "SELECT STOCKCODE,DESCRIPTION,SUM(QUANTITY) AS TOTAL_QUANTITY\n",
    "FROM ITEMS\n",
    "GROUP BY STOCKCODE, DESCRIPTION\n",
    "ORDER BY TOTAL_QUANTITY DESC\n",
    "LIMIT 10;"
   ]
  },
  {
   "attachments": {},
   "cell_type": "markdown",
   "metadata": {},
   "source": [
    "## Import Task"
   ]
  },
  {
   "cell_type": "code",
   "execution_count": null,
   "metadata": {
    "vscode": {
     "languageId": "sql"
    }
   },
   "outputs": [],
   "source": [
    "list @my_upload;"
   ]
  },
  {
   "cell_type": "code",
   "execution_count": null,
   "metadata": {
    "vscode": {
     "languageId": "sql"
    }
   },
   "outputs": [],
   "source": [
    "remove @my_upload;"
   ]
  },
  {
   "cell_type": "code",
   "execution_count": null,
   "metadata": {
    "vscode": {
     "languageId": "sql"
    }
   },
   "outputs": [],
   "source": [
    "create or replace TABLE DATA (\n",
    "\tINVOICENO VARCHAR(38),\n",
    "\tSTOCKCODE VARCHAR(38),\n",
    "\tDESCRIPTION VARCHAR(60),\n",
    "\tQUANTITY NUMBER(38,0),\n",
    "\tINVOICEDATE TIMESTAMP,\n",
    "\tUNITPRICE NUMBER(38,0),\n",
    "\tCUSTOMERID VARCHAR(10),\n",
    "\tCOUNTRY VARCHAR(20)\n",
    ");"
   ]
  },
  {
   "cell_type": "code",
   "execution_count": null,
   "metadata": {
    "vscode": {
     "languageId": "sql"
    }
   },
   "outputs": [],
   "source": [
    "create or replace task import_from_stage\n",
    "\twarehouse=COMPUTE_WH\n",
    "\tschedule='1 MINUTE'\n",
    "\tas copy into DATA from @my_upload\n",
    "              ;"
   ]
  },
  {
   "cell_type": "code",
   "execution_count": null,
   "metadata": {
    "vscode": {
     "languageId": "sql"
    }
   },
   "outputs": [],
   "source": [
    "-- create a dependent task on the first one\n",
    "create or replace task clean_stage\n",
    "\twarehouse=COMPUTE_WH\n",
    "\tafter import_from_stage\n",
    "\tas remove @my_upload\n",
    "              ;"
   ]
  },
  {
   "cell_type": "code",
   "execution_count": null,
   "metadata": {
    "vscode": {
     "languageId": "sql"
    }
   },
   "outputs": [],
   "source": [
    "-- RESUME to let it run / SUSPEND (default) to stop it\n",
    "ALTER TASK clean_stage RESUME;\n",
    "ALTER TASK import_from_stage RESUME;\n",
    "\n",
    "-- A child task cannot be altered unless the parent has been, and the task has to be in suspended state inorder for it to be dropped.\n",
    "ALTER TASK CLEAN_STAGE SUSPEND;\n",
    "ALTER TASK IMPORT_FROM_STAGE SUSPEND;\n",
    "DROP TASK IF EXISTS CLEAN_STAGE;\n",
    "DROP TASK IF EXISTS IMPORT_FROM_STAGE;"
   ]
  },
  {
   "cell_type": "code",
   "execution_count": null,
   "metadata": {
    "vscode": {
     "languageId": "sql"
    }
   },
   "outputs": [],
   "source": [
    "create or replace task SPLIT_TABLE_AUTOMATIC\n",
    "\twarehouse=COMPUTE_WH\n",
    "\tschedule='1 MINUTE'\n",
    "\tas CREATE OR REPLACE TABLE INVOICES AS( SELECT DISTINCT CUSTOMERID, COUNTRY, INVOICEDATE, INVOICENO\n",
    "               FROM DATA\n",
    "              );"
   ]
  },
  {
   "cell_type": "code",
   "execution_count": null,
   "metadata": {
    "vscode": {
     "languageId": "sql"
    }
   },
   "outputs": [],
   "source": [
    "-- create a dependent task on the first one\n",
    "create or replace task SPLIT_TABLE_AUTOMATIC_SECOND\n",
    "\twarehouse=COMPUTE_WH\n",
    "\tafter SPLIT_TABLE_AUTOMATIC\n",
    "\tas CREATE OR REPLACE TABLE ITEMS AS ( SELECT STOCKCODE, DESCRIPTION, UNITPRICE,QUANTITY, INVOICENO\n",
    "               FROM DATA\n",
    "              );"
   ]
  },
  {
   "cell_type": "code",
   "execution_count": null,
   "metadata": {
    "vscode": {
     "languageId": "sql"
    }
   },
   "outputs": [],
   "source": [
    "-- RESUME to let it run / SUSPEND (default) to stop it\n",
    "ALTER TASK SPLIT_TABLE_AUTOMATIC RESUME;\n",
    "ALTER TASK SPLIT_TABLE_AUTOMATIC SUSPEND;\n",
    "ALTER TASK SPLIT_TABLE_AUTOMATIC_SECOND RESUME;\n",
    "ALTER TASK SPLIT_TABLE_AUTOMATIC_SECOND SUSPEND;"
   ]
  },
  {
   "attachments": {},
   "cell_type": "markdown",
   "metadata": {},
   "source": [
    "## S3 Integration"
   ]
  },
  {
   "attachments": {},
   "cell_type": "markdown",
   "metadata": {},
   "source": [
    "Use https://docs.snowflake.com/en/user-guide/data-load-s3-config-storage-integration.html to create IAM role"
   ]
  },
  {
   "cell_type": "code",
   "execution_count": null,
   "metadata": {
    "vscode": {
     "languageId": "sql"
    }
   },
   "outputs": [],
   "source": [
    "CREATE STORAGE INTEGRATION s3_storage_integration\n",
    "  TYPE = EXTERNAL_STAGE\n",
    "  STORAGE_PROVIDER = 'S3'\n",
    "  ENABLED = TRUE\n",
    "  STORAGE_AWS_ROLE_ARN = 'arn:aws:iam::684199068947:role/snowflake_role'\n",
    "  STORAGE_ALLOWED_LOCATIONS = ('s3://wysde-assets/labs/lab-185-snowflake-snowsql/staging/');"
   ]
  },
  {
   "cell_type": "code",
   "execution_count": null,
   "metadata": {
    "vscode": {
     "languageId": "sql"
    }
   },
   "outputs": [],
   "source": [
    "DESC INTEGRATION s3_storage_integration"
   ]
  },
  {
   "cell_type": "code",
   "execution_count": null,
   "metadata": {
    "vscode": {
     "languageId": "sql"
    }
   },
   "outputs": [],
   "source": [
    "create or replace stage s3stage\n",
    "  url = 's3://wysde-assets/labs/lab-185-snowflake-snowsql/staging/'\n",
    "  file_format = ECOMMERCECSVFORMAT\n",
    "  storage_integration = s3_storage_integration;"
   ]
  },
  {
   "cell_type": "code",
   "execution_count": null,
   "metadata": {
    "vscode": {
     "languageId": "sql"
    }
   },
   "outputs": [],
   "source": [
    "create or replace TABLE S3TABLE (\n",
    "\tINVOICENO VARCHAR(38),\n",
    "\tSTOCKCODE VARCHAR(38),\n",
    "\tDESCRIPTION VARCHAR(60),\n",
    "\tQUANTITY NUMBER(38,0),\n",
    "\tINVOICEDATE TIMESTAMP,\n",
    "\tUNITPRICE NUMBER(38,0),\n",
    "\tCUSTOMERID VARCHAR(10),\n",
    "\tCOUNTRY VARCHAR(20)\n",
    ");"
   ]
  },
  {
   "cell_type": "code",
   "execution_count": 8,
   "metadata": {
    "vscode": {
     "languageId": "sql"
    }
   },
   "outputs": [],
   "source": [
    "!aws s3 cp data/upload.csv s3://wysde-assets/labs/lab-185-snowflake-snowsql/staging/"
   ]
  },
  {
   "cell_type": "code",
   "execution_count": null,
   "metadata": {
    "vscode": {
     "languageId": "sql"
    }
   },
   "outputs": [],
   "source": [
    "copy into s3table from @s3stage;"
   ]
  },
  {
   "cell_type": "code",
   "execution_count": null,
   "metadata": {
    "vscode": {
     "languageId": "sql"
    }
   },
   "outputs": [],
   "source": [
    "show tables;"
   ]
  },
  {
   "attachments": {},
   "cell_type": "markdown",
   "metadata": {},
   "source": [
    "## S3 Pipe"
   ]
  },
  {
   "cell_type": "code",
   "execution_count": null,
   "metadata": {
    "vscode": {
     "languageId": "sql"
    }
   },
   "outputs": [],
   "source": [
    "create or replace TABLE S3TABLE (\n",
    "\tINVOICENO VARCHAR(38),\n",
    "\tSTOCKCODE VARCHAR(38),\n",
    "\tDESCRIPTION VARCHAR(60),\n",
    "\tQUANTITY NUMBER(38,0),\n",
    "\tINVOICEDATE TIMESTAMP,\n",
    "\tUNITPRICE NUMBER(38,0),\n",
    "\tCUSTOMERID VARCHAR(10),\n",
    "\tCOUNTRY VARCHAR(20)\n",
    ");"
   ]
  },
  {
   "cell_type": "code",
   "execution_count": null,
   "metadata": {
    "vscode": {
     "languageId": "sql"
    }
   },
   "outputs": [],
   "source": [
    "show TABLES;"
   ]
  },
  {
   "cell_type": "code",
   "execution_count": null,
   "metadata": {
    "vscode": {
     "languageId": "sql"
    }
   },
   "outputs": [],
   "source": [
    "create or replace pipe S3_pipe auto_ingest=true\n",
    "as copy into S3table   \n",
    "from @s3stage;"
   ]
  },
  {
   "cell_type": "code",
   "execution_count": null,
   "metadata": {
    "vscode": {
     "languageId": "sql"
    }
   },
   "outputs": [],
   "source": [
    "show pipes"
   ]
  },
  {
   "cell_type": "code",
   "execution_count": null,
   "metadata": {
    "vscode": {
     "languageId": "sql"
    }
   },
   "outputs": [],
   "source": [
    "select system$pipe_status('s3_pipe');"
   ]
  }
 ],
 "metadata": {
  "kernelspec": {
   "display_name": "env-spacy",
   "language": "python",
   "name": "python3"
  },
  "language_info": {
   "codemirror_mode": {
    "name": "ipython",
    "version": 3
   },
   "file_extension": ".py",
   "mimetype": "text/x-python",
   "name": "python",
   "nbconvert_exporter": "python",
   "pygments_lexer": "ipython3",
   "version": "3.9.7 (default, Sep 16 2021, 08:50:36) \n[Clang 10.0.0 ]"
  },
  "orig_nbformat": 4,
  "vscode": {
   "interpreter": {
    "hash": "343191058819caea96d5cde1bd3b1a75b4807623ce2cda0e1c8499e39ac847e3"
   }
  }
 },
 "nbformat": 4,
 "nbformat_minor": 2
}
