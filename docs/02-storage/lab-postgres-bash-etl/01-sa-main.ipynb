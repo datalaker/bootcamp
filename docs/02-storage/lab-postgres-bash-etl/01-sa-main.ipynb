{
 "cells": [
  {
   "attachments": {},
   "cell_type": "markdown",
   "metadata": {},
   "source": [
    "## Extracting data using `cut` command"
   ]
  },
  {
   "attachments": {},
   "cell_type": "markdown",
   "metadata": {},
   "source": [
    "We can extract a specific column/field from a delimited text file, by mentioning\n",
    "\n",
    "-   the delimiter using the `-d` option, or\n",
    "-   the field number using the `-f` option."
   ]
  },
  {
   "cell_type": "code",
   "execution_count": 1,
   "metadata": {},
   "outputs": [
    {
     "name": "stdout",
     "output_type": "stream",
     "text": [
      "root:x:0:0:root:/root:/bin/bash\n",
      "daemon:x:1:1:daemon:/usr/sbin:/usr/sbin/nologin\n",
      "bin:x:2:2:bin:/bin:/usr/sbin/nologin\n",
      "sys:x:3:3:sys:/dev:/usr/sbin/nologin\n",
      "sync:x:4:65534:sync:/bin:/bin/sync\n",
      "games:x:5:60:games:/usr/games:/usr/sbin/nologin\n",
      "man:x:6:12:man:/var/cache/man:/usr/sbin/nologin\n",
      "lp:x:7:7:lp:/var/spool/lpd:/usr/sbin/nologin\n",
      "mail:x:8:8:mail:/var/mail:/usr/sbin/nologin\n",
      "news:x:9:9:news:/var/spool/news:/usr/sbin/nologin\n"
     ]
    }
   ],
   "source": [
    "!head data/passwd"
   ]
  },
  {
   "cell_type": "code",
   "execution_count": 4,
   "metadata": {},
   "outputs": [
    {
     "name": "stdout",
     "output_type": "stream",
     "text": [
      "root\n",
      "daemon\n",
      "bin\n",
      "sys\n",
      "sync\n",
      "games\n",
      "man\n",
      "lp\n",
      "mail\n",
      "news\n",
      "uucp\n",
      "proxy\n",
      "www-data\n",
      "backup\n",
      "list\n",
      "irc\n",
      "gnats\n",
      "nobody\n",
      "_apt\n",
      "messagebus\n",
      "theia\n",
      "mongodb\n",
      "ntp\n",
      "cassandra\n",
      "postgres\n"
     ]
    }
   ],
   "source": [
    "!cut -d\":\" -f1 data/passwd"
   ]
  },
  {
   "cell_type": "code",
   "execution_count": 5,
   "metadata": {},
   "outputs": [
    {
     "name": "stdout",
     "output_type": "stream",
     "text": [
      "root:0:/root\n",
      "daemon:1:/usr/sbin\n",
      "bin:2:/bin\n",
      "sys:3:/dev\n",
      "sync:4:/bin\n",
      "games:5:/usr/games\n",
      "man:6:/var/cache/man\n",
      "lp:7:/var/spool/lpd\n",
      "mail:8:/var/mail\n",
      "news:9:/var/spool/news\n",
      "uucp:10:/var/spool/uucp\n",
      "proxy:13:/bin\n",
      "www-data:33:/var/www\n",
      "backup:34:/var/backups\n",
      "list:38:/var/list\n",
      "irc:39:/var/run/ircd\n",
      "gnats:41:/var/lib/gnats\n",
      "nobody:65534:/nonexistent\n",
      "_apt:100:/nonexistent\n",
      "messagebus:101:/nonexistent\n",
      "theia:1000:/home/theia\n",
      "mongodb:102:/var/lib/mongodb\n",
      "ntp:103:/nonexistent\n",
      "cassandra:104:/var/lib/cassandra\n",
      "postgres:105:/var/lib/postgresql\n"
     ]
    }
   ],
   "source": [
    "!cut -d\":\"  -f1,3,6  data/passwd"
   ]
  },
  {
   "cell_type": "code",
   "execution_count": 6,
   "metadata": {},
   "outputs": [
    {
     "name": "stdout",
     "output_type": "stream",
     "text": [
      "0:0:root:/root\n",
      "1:1:daemon:/usr/sbin\n",
      "2:2:bin:/bin\n",
      "3:3:sys:/dev\n",
      "4:65534:sync:/bin\n",
      "5:60:games:/usr/games\n",
      "6:12:man:/var/cache/man\n",
      "7:7:lp:/var/spool/lpd\n",
      "8:8:mail:/var/mail\n",
      "9:9:news:/var/spool/news\n",
      "10:10:uucp:/var/spool/uucp\n",
      "13:13:proxy:/bin\n",
      "33:33:www-data:/var/www\n",
      "34:34:backup:/var/backups\n",
      "38:38:Mailing List Manager:/var/list\n",
      "39:39:ircd:/var/run/ircd\n",
      "41:41:Gnats Bug-Reporting System (admin):/var/lib/gnats\n",
      "65534:65534:nobody:/nonexistent\n",
      "100:65534::/nonexistent\n",
      "101:102::/nonexistent\n",
      "1000:1000:,,,:/home/theia\n",
      "102:106::/var/lib/mongodb\n",
      "103:107::/nonexistent\n",
      "104:108:Cassandra database,,,:/var/lib/cassandra\n",
      "105:109:PostgreSQL administrator,,,:/var/lib/postgresql\n"
     ]
    }
   ],
   "source": [
    "!cut -d\":\"  -f3-6  data/passwd"
   ]
  },
  {
   "attachments": {},
   "cell_type": "markdown",
   "metadata": {},
   "source": [
    "## Transforming data using `tr`"
   ]
  },
  {
   "attachments": {},
   "cell_type": "markdown",
   "metadata": {},
   "source": [
    "`tr` is a filter command used to translate, squeeze, and/or delete characters."
   ]
  },
  {
   "attachments": {},
   "cell_type": "markdown",
   "metadata": {},
   "source": [
    "### Translate from one character set to another"
   ]
  },
  {
   "attachments": {},
   "cell_type": "markdown",
   "metadata": {},
   "source": [
    "The command below translates all lower case alphabets to upper case."
   ]
  },
  {
   "cell_type": "code",
   "execution_count": 7,
   "metadata": {},
   "outputs": [
    {
     "name": "stdout",
     "output_type": "stream",
     "text": [
      "SHELL SCRIPTING\n"
     ]
    }
   ],
   "source": [
    "!echo \"Shell Scripting\"  | tr \"[a-z]\"  \"[A-Z]\""
   ]
  },
  {
   "attachments": {},
   "cell_type": "markdown",
   "metadata": {},
   "source": [
    "You could also use the pre-defined character sets also for this purpose:"
   ]
  },
  {
   "cell_type": "code",
   "execution_count": 8,
   "metadata": {},
   "outputs": [
    {
     "name": "stdout",
     "output_type": "stream",
     "text": [
      "SHELL SCRIPTING\n"
     ]
    }
   ],
   "source": [
    "!echo \"Shell Scripting\"  | tr \"[:lower:]\"  \"[:upper:]\""
   ]
  },
  {
   "attachments": {},
   "cell_type": "markdown",
   "metadata": {},
   "source": [
    "### Squeeze repeating occurrences of characters"
   ]
  },
  {
   "attachments": {},
   "cell_type": "markdown",
   "metadata": {},
   "source": [
    "The `-s` option replaces a sequence of a repeated characters with a single occurrence of that character."
   ]
  },
  {
   "attachments": {},
   "cell_type": "markdown",
   "metadata": {},
   "source": [
    "The command below replaces repeat occurrences of 'space' in the output of `ps` command with one 'space':"
   ]
  },
  {
   "cell_type": "code",
   "execution_count": 9,
   "metadata": {},
   "outputs": [
    {
     "name": "stdout",
     "output_type": "stream",
     "text": [
      "  PID TTY           TIME CMD\n"
     ]
    }
   ],
   "source": [
    "!ps"
   ]
  },
  {
   "cell_type": "code",
   "execution_count": 11,
   "metadata": {},
   "outputs": [
    {
     "name": "stdout",
     "output_type": "stream",
     "text": [
      " PID TTY TIME CMD\n",
      "56445 ttys000 0:00.45 /bin/zsh -c ps | tr -s \" \"\n",
      "56447 ttys000 0:00.00 tr -s \n"
     ]
    }
   ],
   "source": [
    "!ps | tr -s \" \""
   ]
  },
  {
   "attachments": {},
   "cell_type": "markdown",
   "metadata": {},
   "source": [
    "### Delete characters"
   ]
  },
  {
   "attachments": {},
   "cell_type": "markdown",
   "metadata": {},
   "source": [
    "We can delete specified characters using the `-d ` option."
   ]
  },
  {
   "attachments": {},
   "cell_type": "markdown",
   "metadata": {},
   "source": [
    "The command below deletes all digits:"
   ]
  },
  {
   "cell_type": "code",
   "execution_count": 12,
   "metadata": {},
   "outputs": [
    {
     "name": "stdout",
     "output_type": "stream",
     "text": [
      "My login pin is \n"
     ]
    }
   ],
   "source": [
    "!echo \"My login pin is 5634\"  | tr -d \"[:digit:]\""
   ]
  },
  {
   "attachments": {},
   "cell_type": "markdown",
   "metadata": {},
   "source": [
    "## Loading data into PostgreSQL database"
   ]
  },
  {
   "attachments": {},
   "cell_type": "markdown",
   "metadata": {},
   "source": [
    "In this exercise we will create a table called '**users**' in the PostgreSQL database. This table will hold the user account information.\n",
    "\n",
    "The table 'users' will have the following columns:\n",
    "\n",
    "1.  uname\n",
    "2.  uid\n",
    "3.  home"
   ]
  },
  {
   "attachments": {},
   "cell_type": "markdown",
   "metadata": {},
   "source": [
    "### Connect to the database server"
   ]
  },
  {
   "attachments": {},
   "cell_type": "markdown",
   "metadata": {},
   "source": [
    "Run the command below to login to PostgreSQL server"
   ]
  },
  {
   "cell_type": "code",
   "execution_count": null,
   "metadata": {},
   "outputs": [],
   "source": [
    "!psql --host=database-1.cy8ltogyfgas.us-east-1.rds.amazonaws.com --port=5432 --username=postgres --password"
   ]
  },
  {
   "attachments": {},
   "cell_type": "markdown",
   "metadata": {},
   "source": [
    "You will get the psql prompt: 'postgres=#'"
   ]
  },
  {
   "attachments": {},
   "cell_type": "markdown",
   "metadata": {},
   "source": [
    "### Connect to a database"
   ]
  },
  {
   "attachments": {},
   "cell_type": "markdown",
   "metadata": {},
   "source": [
    "We will use a database called **postgres** which is already available by default.\n",
    "\n",
    "To connect to this database, run the following command at the 'postgres=#' prompt."
   ]
  },
  {
   "cell_type": "code",
   "execution_count": null,
   "metadata": {
    "vscode": {
     "languageId": "sql"
    }
   },
   "outputs": [],
   "source": [
    "\\c template1"
   ]
  },
  {
   "attachments": {},
   "cell_type": "markdown",
   "metadata": {},
   "source": [
    "You will get the following message:\n",
    "\n",
    "`You are now connected to database \"postgres\" as user \"postgres\".`"
   ]
  },
  {
   "attachments": {},
   "cell_type": "markdown",
   "metadata": {},
   "source": [
    "### Create the table"
   ]
  },
  {
   "attachments": {},
   "cell_type": "markdown",
   "metadata": {},
   "source": [
    "Run the following statement at the 'postgres=#' prompt:"
   ]
  },
  {
   "cell_type": "code",
   "execution_count": null,
   "metadata": {
    "vscode": {
     "languageId": "sql"
    }
   },
   "outputs": [],
   "source": [
    "create table users(username varchar(50),userid int,homedirectory varchar(100));"
   ]
  },
  {
   "attachments": {},
   "cell_type": "markdown",
   "metadata": {},
   "source": [
    "If the table is created successfully, you will get the message below.\n",
    "\n",
    "`CREATE TABLE`"
   ]
  },
  {
   "attachments": {},
   "cell_type": "markdown",
   "metadata": {},
   "source": [
    "In this exercise, we will create a shell script which does the following.\n",
    "\n",
    "-   Extract the user name, user id, and home directory path of each user account defined in the data/passwd file.\n",
    "-   Save the data into a comma separated (CSV) format.\n",
    "-   Load the data in the csv file into a table in PostgreSQL database."
   ]
  },
  {
   "attachments": {},
   "cell_type": "markdown",
   "metadata": {},
   "source": [
    "### Extract required user information from `data/passwd`"
   ]
  },
  {
   "attachments": {},
   "cell_type": "markdown",
   "metadata": {},
   "source": [
    "In this step, we will extract user name (field 1), user id (field 3), and home directory path (field 6) using the cut command."
   ]
  },
  {
   "cell_type": "code",
   "execution_count": 13,
   "metadata": {},
   "outputs": [],
   "source": [
    "!cut -d\":\" -f1,3,6 data/passwd > data/extracted-data.txt"
   ]
  },
  {
   "cell_type": "code",
   "execution_count": 16,
   "metadata": {},
   "outputs": [
    {
     "name": "stdout",
     "output_type": "stream",
     "text": [
      "root:0:/root\n",
      "daemon:1:/usr/sbin\n",
      "bin:2:/bin\n",
      "sys:3:/dev\n",
      "sync:4:/bin\n"
     ]
    }
   ],
   "source": [
    "!head -5 data/extracted-data.txt"
   ]
  },
  {
   "attachments": {},
   "cell_type": "markdown",
   "metadata": {},
   "source": [
    "### Transform the data into CSV format"
   ]
  },
  {
   "attachments": {},
   "cell_type": "markdown",
   "metadata": {},
   "source": [
    "The extracted columns are separated by the original “:” delimiter.\n",
    "\n",
    "We need to convert this into a “,” delimited file."
   ]
  },
  {
   "cell_type": "code",
   "execution_count": 17,
   "metadata": {},
   "outputs": [],
   "source": [
    "!tr \":\" \",\" < data/extracted-data.txt > data/transformed-data.csv"
   ]
  },
  {
   "cell_type": "code",
   "execution_count": 19,
   "metadata": {},
   "outputs": [
    {
     "name": "stdout",
     "output_type": "stream",
     "text": [
      "root,0,/root\n",
      "daemon,1,/usr/sbin\n",
      "bin,2,/bin\n",
      "sys,3,/dev\n",
      "sync,4,/bin\n"
     ]
    }
   ],
   "source": [
    "!head -5 data/transformed-data.csv"
   ]
  },
  {
   "attachments": {},
   "cell_type": "markdown",
   "metadata": {},
   "source": [
    "### Load the data into the table ‘users’ in PostgreSQL"
   ]
  },
  {
   "attachments": {},
   "cell_type": "markdown",
   "metadata": {},
   "source": [
    "To load data from a shell script, we will use the psql client utility in a non-interactive manner."
   ]
  },
  {
   "attachments": {},
   "cell_type": "markdown",
   "metadata": {},
   "source": [
    "This is done by sending the database commands through a command pipeline to psql with the help of echo command."
   ]
  },
  {
   "cell_type": "code",
   "execution_count": null,
   "metadata": {},
   "outputs": [],
   "source": [
    "!echo \"\\c postgres;\\COPY users FROM '/content/data/transformed-data.csv' DELIMITERS ',' CSV;\" | psql --host=database-1.cy8ltogyfgas.us-east-1.rds.amazonaws.com --username=postgres"
   ]
  },
  {
   "attachments": {},
   "cell_type": "markdown",
   "metadata": {},
   "source": [
    "Run the command below to verify that the table users is populated with the data"
   ]
  },
  {
   "cell_type": "code",
   "execution_count": null,
   "metadata": {},
   "outputs": [],
   "source": [
    "!echo '\\c postgres; \\\\SELECT * from users;' | psql --host=database-1.cy8ltogyfgas.us-east-1.rds.amazonaws.com --username=postgres"
   ]
  }
 ],
 "metadata": {
  "kernelspec": {
   "display_name": "env-spacy",
   "language": "python",
   "name": "python3"
  },
  "language_info": {
   "codemirror_mode": {
    "name": "ipython",
    "version": 3
   },
   "file_extension": ".py",
   "mimetype": "text/x-python",
   "name": "python",
   "nbconvert_exporter": "python",
   "pygments_lexer": "ipython3",
   "version": "3.9.7"
  },
  "orig_nbformat": 4,
  "vscode": {
   "interpreter": {
    "hash": "343191058819caea96d5cde1bd3b1a75b4807623ce2cda0e1c8499e39ac847e3"
   }
  }
 },
 "nbformat": 4,
 "nbformat_minor": 2
}
