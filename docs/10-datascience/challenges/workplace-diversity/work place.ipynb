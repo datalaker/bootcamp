{
 "cells": [
  {
   "cell_type": "code",
   "execution_count": 89,
   "metadata": {},
   "outputs": [],
   "source": [
    "import numpy as np\n",
    "import pandas as pd\n",
    "import scipy.stats as aa\n",
    "from sklearn.preprocessing import LabelEncoder\n",
    "from sklearn.cross_validation import train_test_split\n",
    "from sklearn.metrics import mean_squared_error,mean_absolute_error,r2_score\n",
    "from sklearn.feature_selection import chi2\n",
    "import xgboost as xgb\n",
    "import matplotlib.pyplot as plt\n"
   ]
  },
  {
   "cell_type": "markdown",
   "metadata": {},
   "source": [
    "# Answer question 1¶\n",
    "In the company there are 6 levels (described below). Identify, for each employee, her corresponding level.\n",
    "\n",
    "Individual Contributors (IC) - they don't manage anyone\n",
    "Middle Managers (MM) - they are the direct bosses of IC\n",
    "Directors (D) - they are the direct bosses of MM\n",
    "VP - D direct bosses\n",
    "Executives (E) - VP direct bosses\n",
    "CEO - The direct boss of E."
   ]
  },
  {
   "cell_type": "code",
   "execution_count": 90,
   "metadata": {},
   "outputs": [
    {
     "data": {
      "text/html": [
       "<div>\n",
       "<style scoped>\n",
       "    .dataframe tbody tr th:only-of-type {\n",
       "        vertical-align: middle;\n",
       "    }\n",
       "\n",
       "    .dataframe tbody tr th {\n",
       "        vertical-align: top;\n",
       "    }\n",
       "\n",
       "    .dataframe thead th {\n",
       "        text-align: right;\n",
       "    }\n",
       "</style>\n",
       "<table border=\"1\" class=\"dataframe\">\n",
       "  <thead>\n",
       "    <tr style=\"text-align: right;\">\n",
       "      <th></th>\n",
       "      <th>boss_id</th>\n",
       "      <th>dept</th>\n",
       "      <th>level</th>\n",
       "    </tr>\n",
       "    <tr>\n",
       "      <th>employee_id</th>\n",
       "      <th></th>\n",
       "      <th></th>\n",
       "      <th></th>\n",
       "    </tr>\n",
       "  </thead>\n",
       "  <tbody>\n",
       "    <tr>\n",
       "      <th>46456</th>\n",
       "      <td>175361.0</td>\n",
       "      <td>sales</td>\n",
       "      <td>None</td>\n",
       "    </tr>\n",
       "    <tr>\n",
       "      <th>104708</th>\n",
       "      <td>29733.0</td>\n",
       "      <td>HR</td>\n",
       "      <td>None</td>\n",
       "    </tr>\n",
       "    <tr>\n",
       "      <th>120853</th>\n",
       "      <td>41991.0</td>\n",
       "      <td>sales</td>\n",
       "      <td>None</td>\n",
       "    </tr>\n",
       "    <tr>\n",
       "      <th>142630</th>\n",
       "      <td>171266.0</td>\n",
       "      <td>HR</td>\n",
       "      <td>None</td>\n",
       "    </tr>\n",
       "    <tr>\n",
       "      <th>72711</th>\n",
       "      <td>198240.0</td>\n",
       "      <td>sales</td>\n",
       "      <td>None</td>\n",
       "    </tr>\n",
       "  </tbody>\n",
       "</table>\n",
       "</div>"
      ],
      "text/plain": [
       "              boss_id   dept level\n",
       "employee_id                       \n",
       "46456        175361.0  sales  None\n",
       "104708        29733.0     HR  None\n",
       "120853        41991.0  sales  None\n",
       "142630       171266.0     HR  None\n",
       "72711        198240.0  sales  None"
      ]
     },
     "execution_count": 90,
     "metadata": {},
     "output_type": "execute_result"
    }
   ],
   "source": [
    "hierarchy = pd.read_csv(\"company_hierarchy.csv\",index_col='employee_id')\n",
    "hierarchy['level'] = None\n",
    "hierarchy.loc[hierarchy.dept == 'CEO','level'] = 'CEO'\n",
    "hierarchy.head(5)"
   ]
  },
  {
   "cell_type": "code",
   "execution_count": 91,
   "metadata": {},
   "outputs": [
    {
     "data": {
      "text/html": [
       "<div>\n",
       "<style scoped>\n",
       "    .dataframe tbody tr th:only-of-type {\n",
       "        vertical-align: middle;\n",
       "    }\n",
       "\n",
       "    .dataframe tbody tr th {\n",
       "        vertical-align: top;\n",
       "    }\n",
       "\n",
       "    .dataframe thead th {\n",
       "        text-align: right;\n",
       "    }\n",
       "</style>\n",
       "<table border=\"1\" class=\"dataframe\">\n",
       "  <thead>\n",
       "    <tr style=\"text-align: right;\">\n",
       "      <th></th>\n",
       "      <th>boss_id</th>\n",
       "      <th>dept</th>\n",
       "      <th>level</th>\n",
       "    </tr>\n",
       "    <tr>\n",
       "      <th>employee_id</th>\n",
       "      <th></th>\n",
       "      <th></th>\n",
       "      <th></th>\n",
       "    </tr>\n",
       "  </thead>\n",
       "  <tbody>\n",
       "    <tr>\n",
       "      <th>46456</th>\n",
       "      <td>175361</td>\n",
       "      <td>sales</td>\n",
       "      <td>IC</td>\n",
       "    </tr>\n",
       "    <tr>\n",
       "      <th>104708</th>\n",
       "      <td>29733</td>\n",
       "      <td>HR</td>\n",
       "      <td>IC</td>\n",
       "    </tr>\n",
       "    <tr>\n",
       "      <th>120853</th>\n",
       "      <td>41991</td>\n",
       "      <td>sales</td>\n",
       "      <td>IC</td>\n",
       "    </tr>\n",
       "    <tr>\n",
       "      <th>142630</th>\n",
       "      <td>171266</td>\n",
       "      <td>HR</td>\n",
       "      <td>MM</td>\n",
       "    </tr>\n",
       "    <tr>\n",
       "      <th>72711</th>\n",
       "      <td>198240</td>\n",
       "      <td>sales</td>\n",
       "      <td>IC</td>\n",
       "    </tr>\n",
       "  </tbody>\n",
       "</table>\n",
       "</div>"
      ],
      "text/plain": [
       "             boss_id   dept level\n",
       "employee_id                      \n",
       "46456         175361  sales    IC\n",
       "104708         29733     HR    IC\n",
       "120853         41991  sales    IC\n",
       "142630        171266     HR    MM\n",
       "72711         198240  sales    IC"
      ]
     },
     "execution_count": 91,
     "metadata": {},
     "output_type": "execute_result"
    }
   ],
   "source": [
    "hierarchy.boss_id.value_counts()\n",
    "hierarchy.loc[hierarchy.level == 'CEO','boss_id'] = -1\n",
    "hierarchy['boss_id'] = hierarchy.boss_id.astype(int)\n",
    "\n",
    "#set the level for each employee\n",
    "\n",
    "def setlevel(boss_level,level):\n",
    "    boss_ids = hierarchy.loc[hierarchy.level == boss_level,:].index\n",
    "    is_suborinate = np.in1d(hierarchy.boss_id,boss_ids)\n",
    "    hierarchy.loc[is_suborinate,'level']= level\n",
    "setlevel('CEO','E')\n",
    "setlevel('E','VP')\n",
    "setlevel('VP','D')\n",
    "setlevel('D','MM')\n",
    "setlevel('MM','IC')\n",
    "hierarchy.head(5)"
   ]
  },
  {
   "cell_type": "code",
   "execution_count": 92,
   "metadata": {},
   "outputs": [
    {
     "data": {
      "text/plain": [
       "IC     9000\n",
       "MM      800\n",
       "D       160\n",
       "VP       35\n",
       "E         4\n",
       "CEO       1\n",
       "Name: level, dtype: int64"
      ]
     },
     "execution_count": 92,
     "metadata": {},
     "output_type": "execute_result"
    }
   ],
   "source": [
    "hierarchy.level.value_counts()"
   ]
  },
  {
   "cell_type": "markdown",
   "metadata": {},
   "source": [
    "# Answer question 2\n",
    "How many people each employee manages? You should have a table with employee ids and the number of people managed. Consider that if John directly manages 2 people and these two people manage 5 people each, then we conclude that John manages 12 people."
   ]
  },
  {
   "cell_type": "code",
   "execution_count": 93,
   "metadata": {},
   "outputs": [
    {
     "data": {
      "text/html": [
       "<div>\n",
       "<style scoped>\n",
       "    .dataframe tbody tr th:only-of-type {\n",
       "        vertical-align: middle;\n",
       "    }\n",
       "\n",
       "    .dataframe tbody tr th {\n",
       "        vertical-align: top;\n",
       "    }\n",
       "\n",
       "    .dataframe thead th {\n",
       "        text-align: right;\n",
       "    }\n",
       "</style>\n",
       "<table border=\"1\" class=\"dataframe\">\n",
       "  <thead>\n",
       "    <tr style=\"text-align: right;\">\n",
       "      <th></th>\n",
       "      <th>boss_id</th>\n",
       "      <th>dept</th>\n",
       "      <th>level</th>\n",
       "      <th>subordinates</th>\n",
       "    </tr>\n",
       "    <tr>\n",
       "      <th>employee_id</th>\n",
       "      <th></th>\n",
       "      <th></th>\n",
       "      <th></th>\n",
       "      <th></th>\n",
       "    </tr>\n",
       "  </thead>\n",
       "  <tbody>\n",
       "    <tr>\n",
       "      <th>46456</th>\n",
       "      <td>175361</td>\n",
       "      <td>sales</td>\n",
       "      <td>IC</td>\n",
       "      <td>0</td>\n",
       "    </tr>\n",
       "    <tr>\n",
       "      <th>104708</th>\n",
       "      <td>29733</td>\n",
       "      <td>HR</td>\n",
       "      <td>IC</td>\n",
       "      <td>0</td>\n",
       "    </tr>\n",
       "    <tr>\n",
       "      <th>120853</th>\n",
       "      <td>41991</td>\n",
       "      <td>sales</td>\n",
       "      <td>IC</td>\n",
       "      <td>0</td>\n",
       "    </tr>\n",
       "    <tr>\n",
       "      <th>142630</th>\n",
       "      <td>171266</td>\n",
       "      <td>HR</td>\n",
       "      <td>MM</td>\n",
       "      <td>16</td>\n",
       "    </tr>\n",
       "    <tr>\n",
       "      <th>72711</th>\n",
       "      <td>198240</td>\n",
       "      <td>sales</td>\n",
       "      <td>IC</td>\n",
       "      <td>0</td>\n",
       "    </tr>\n",
       "  </tbody>\n",
       "</table>\n",
       "</div>"
      ],
      "text/plain": [
       "             boss_id   dept level  subordinates\n",
       "employee_id                                    \n",
       "46456         175361  sales    IC             0\n",
       "104708         29733     HR    IC             0\n",
       "120853         41991  sales    IC             0\n",
       "142630        171266     HR    MM            16\n",
       "72711         198240  sales    IC             0"
      ]
     },
     "execution_count": 93,
     "metadata": {},
     "output_type": "execute_result"
    }
   ],
   "source": [
    "hierarchy['subordinates'] = 0\n",
    "\n",
    "def count_subs(s):\n",
    "    num_direct_subs = s.shape[0]\n",
    "    num_indirect_subs = s.sum()\n",
    "    return num_direct_subs+num_indirect_subs\n",
    "\n",
    "def caculate_subordinates(sub_level):\n",
    "    num_subs = hierarchy.loc[hierarchy.level == sub_level,:].groupby('boss_id')['subordinates'].agg(count_subs)\n",
    "    hierarchy.loc[num_subs.index,'subordinates'] = num_subs\n",
    "    \n",
    "caculate_subordinates('IC')\n",
    "caculate_subordinates('MM')\n",
    "caculate_subordinates('D')\n",
    "caculate_subordinates('VP')\n",
    "caculate_subordinates('E')\n",
    "\n",
    "hierarchy.head(5)\n"
   ]
  },
  {
   "cell_type": "code",
   "execution_count": 94,
   "metadata": {},
   "outputs": [
    {
     "data": {
      "text/plain": [
       "employee_id\n",
       "61554    9999\n",
       "Name: subordinates, dtype: int64"
      ]
     },
     "execution_count": 94,
     "metadata": {},
     "output_type": "execute_result"
    }
   ],
   "source": [
    "hierarchy.loc[hierarchy.level == 'CEO','subordinates']"
   ]
  },
  {
   "cell_type": "code",
   "execution_count": 95,
   "metadata": {},
   "outputs": [
    {
     "data": {
      "text/plain": [
       "10000"
      ]
     },
     "execution_count": 95,
     "metadata": {},
     "output_type": "execute_result"
    }
   ],
   "source": [
    "hierarchy.shape[0]"
   ]
  },
  {
   "cell_type": "markdown",
   "metadata": {},
   "source": [
    "# Answer question 3¶\n",
    "Build a model to predict the salary of each employee."
   ]
  },
  {
   "cell_type": "code",
   "execution_count": 96,
   "metadata": {},
   "outputs": [
    {
     "data": {
      "text/html": [
       "<div>\n",
       "<style scoped>\n",
       "    .dataframe tbody tr th:only-of-type {\n",
       "        vertical-align: middle;\n",
       "    }\n",
       "\n",
       "    .dataframe tbody tr th {\n",
       "        vertical-align: top;\n",
       "    }\n",
       "\n",
       "    .dataframe thead th {\n",
       "        text-align: right;\n",
       "    }\n",
       "</style>\n",
       "<table border=\"1\" class=\"dataframe\">\n",
       "  <thead>\n",
       "    <tr style=\"text-align: right;\">\n",
       "      <th></th>\n",
       "      <th>signing_bonus</th>\n",
       "      <th>salary</th>\n",
       "      <th>degree_level</th>\n",
       "      <th>sex</th>\n",
       "      <th>yrs_experience</th>\n",
       "      <th>boss_id</th>\n",
       "      <th>dept</th>\n",
       "      <th>level</th>\n",
       "      <th>subordinates</th>\n",
       "    </tr>\n",
       "    <tr>\n",
       "      <th>employee_id</th>\n",
       "      <th></th>\n",
       "      <th></th>\n",
       "      <th></th>\n",
       "      <th></th>\n",
       "      <th></th>\n",
       "      <th></th>\n",
       "      <th></th>\n",
       "      <th></th>\n",
       "      <th></th>\n",
       "    </tr>\n",
       "  </thead>\n",
       "  <tbody>\n",
       "    <tr>\n",
       "      <th>138719</th>\n",
       "      <td>0</td>\n",
       "      <td>273000.0</td>\n",
       "      <td>Master</td>\n",
       "      <td>M</td>\n",
       "      <td>2</td>\n",
       "      <td>43602</td>\n",
       "      <td>engineering</td>\n",
       "      <td>IC</td>\n",
       "      <td>0</td>\n",
       "    </tr>\n",
       "    <tr>\n",
       "      <th>3192</th>\n",
       "      <td>0</td>\n",
       "      <td>301000.0</td>\n",
       "      <td>Bachelor</td>\n",
       "      <td>F</td>\n",
       "      <td>1</td>\n",
       "      <td>87847</td>\n",
       "      <td>sales</td>\n",
       "      <td>IC</td>\n",
       "      <td>0</td>\n",
       "    </tr>\n",
       "    <tr>\n",
       "      <th>114657</th>\n",
       "      <td>0</td>\n",
       "      <td>261000.0</td>\n",
       "      <td>Master</td>\n",
       "      <td>F</td>\n",
       "      <td>2</td>\n",
       "      <td>180854</td>\n",
       "      <td>sales</td>\n",
       "      <td>IC</td>\n",
       "      <td>0</td>\n",
       "    </tr>\n",
       "    <tr>\n",
       "      <th>29039</th>\n",
       "      <td>0</td>\n",
       "      <td>86000.0</td>\n",
       "      <td>High_School</td>\n",
       "      <td>F</td>\n",
       "      <td>4</td>\n",
       "      <td>88370</td>\n",
       "      <td>HR</td>\n",
       "      <td>IC</td>\n",
       "      <td>0</td>\n",
       "    </tr>\n",
       "    <tr>\n",
       "      <th>118607</th>\n",
       "      <td>0</td>\n",
       "      <td>126000.0</td>\n",
       "      <td>Bachelor</td>\n",
       "      <td>F</td>\n",
       "      <td>3</td>\n",
       "      <td>23565</td>\n",
       "      <td>sales</td>\n",
       "      <td>IC</td>\n",
       "      <td>0</td>\n",
       "    </tr>\n",
       "    <tr>\n",
       "      <th>91334</th>\n",
       "      <td>0</td>\n",
       "      <td>221000.0</td>\n",
       "      <td>PhD</td>\n",
       "      <td>F</td>\n",
       "      <td>2</td>\n",
       "      <td>62990</td>\n",
       "      <td>sales</td>\n",
       "      <td>IC</td>\n",
       "      <td>0</td>\n",
       "    </tr>\n",
       "    <tr>\n",
       "      <th>101901</th>\n",
       "      <td>1</td>\n",
       "      <td>194000.0</td>\n",
       "      <td>PhD</td>\n",
       "      <td>M</td>\n",
       "      <td>12</td>\n",
       "      <td>7558</td>\n",
       "      <td>engineering</td>\n",
       "      <td>MM</td>\n",
       "      <td>6</td>\n",
       "    </tr>\n",
       "    <tr>\n",
       "      <th>171111</th>\n",
       "      <td>1</td>\n",
       "      <td>119000.0</td>\n",
       "      <td>Master</td>\n",
       "      <td>F</td>\n",
       "      <td>1</td>\n",
       "      <td>30468</td>\n",
       "      <td>engineering</td>\n",
       "      <td>IC</td>\n",
       "      <td>0</td>\n",
       "    </tr>\n",
       "    <tr>\n",
       "      <th>23443</th>\n",
       "      <td>1</td>\n",
       "      <td>217000.0</td>\n",
       "      <td>PhD</td>\n",
       "      <td>M</td>\n",
       "      <td>8</td>\n",
       "      <td>130585</td>\n",
       "      <td>sales</td>\n",
       "      <td>IC</td>\n",
       "      <td>0</td>\n",
       "    </tr>\n",
       "    <tr>\n",
       "      <th>24195</th>\n",
       "      <td>0</td>\n",
       "      <td>230000.0</td>\n",
       "      <td>Master</td>\n",
       "      <td>M</td>\n",
       "      <td>4</td>\n",
       "      <td>1050</td>\n",
       "      <td>engineering</td>\n",
       "      <td>IC</td>\n",
       "      <td>0</td>\n",
       "    </tr>\n",
       "  </tbody>\n",
       "</table>\n",
       "</div>"
      ],
      "text/plain": [
       "             signing_bonus    salary degree_level sex  yrs_experience  \\\n",
       "employee_id                                                             \n",
       "138719                   0  273000.0       Master   M               2   \n",
       "3192                     0  301000.0     Bachelor   F               1   \n",
       "114657                   0  261000.0       Master   F               2   \n",
       "29039                    0   86000.0  High_School   F               4   \n",
       "118607                   0  126000.0     Bachelor   F               3   \n",
       "91334                    0  221000.0          PhD   F               2   \n",
       "101901                   1  194000.0          PhD   M              12   \n",
       "171111                   1  119000.0       Master   F               1   \n",
       "23443                    1  217000.0          PhD   M               8   \n",
       "24195                    0  230000.0       Master   M               4   \n",
       "\n",
       "             boss_id         dept level  subordinates  \n",
       "employee_id                                            \n",
       "138719         43602  engineering    IC             0  \n",
       "3192           87847        sales    IC             0  \n",
       "114657        180854        sales    IC             0  \n",
       "29039          88370           HR    IC             0  \n",
       "118607         23565        sales    IC             0  \n",
       "91334          62990        sales    IC             0  \n",
       "101901          7558  engineering    MM             6  \n",
       "171111         30468  engineering    IC             0  \n",
       "23443         130585        sales    IC             0  \n",
       "24195           1050  engineering    IC             0  "
      ]
     },
     "execution_count": 96,
     "metadata": {},
     "output_type": "execute_result"
    }
   ],
   "source": [
    "employee = pd.read_csv('employee.csv',index_col = 'employee_id')\n",
    "employee = employee.join(hierarchy)\n",
    "employee.head(10)"
   ]
  },
  {
   "cell_type": "code",
   "execution_count": 97,
   "metadata": {
    "collapsed": true
   },
   "outputs": [],
   "source": [
    "employee.salary =employee.salary / 1000\n",
    "employee.to_csv(\"all_employees.csv\",index_label=\"employee_id\")"
   ]
  },
  {
   "cell_type": "code",
   "execution_count": 117,
   "metadata": {},
   "outputs": [
    {
     "data": {
      "text/html": [
       "<div>\n",
       "<style scoped>\n",
       "    .dataframe tbody tr th:only-of-type {\n",
       "        vertical-align: middle;\n",
       "    }\n",
       "\n",
       "    .dataframe tbody tr th {\n",
       "        vertical-align: top;\n",
       "    }\n",
       "\n",
       "    .dataframe thead th {\n",
       "        text-align: right;\n",
       "    }\n",
       "</style>\n",
       "<table border=\"1\" class=\"dataframe\">\n",
       "  <thead>\n",
       "    <tr style=\"text-align: right;\">\n",
       "      <th></th>\n",
       "      <th>signing_bonus</th>\n",
       "      <th>salary</th>\n",
       "      <th>yrs_experience</th>\n",
       "      <th>level</th>\n",
       "      <th>subordinates</th>\n",
       "      <th>is_Male</th>\n",
       "      <th>degree</th>\n",
       "      <th>dept_HR</th>\n",
       "      <th>dept_engineering</th>\n",
       "      <th>dept_marketing</th>\n",
       "      <th>dept_sales</th>\n",
       "    </tr>\n",
       "    <tr>\n",
       "      <th>employee_id</th>\n",
       "      <th></th>\n",
       "      <th></th>\n",
       "      <th></th>\n",
       "      <th></th>\n",
       "      <th></th>\n",
       "      <th></th>\n",
       "      <th></th>\n",
       "      <th></th>\n",
       "      <th></th>\n",
       "      <th></th>\n",
       "      <th></th>\n",
       "    </tr>\n",
       "  </thead>\n",
       "  <tbody>\n",
       "    <tr>\n",
       "      <th>138719</th>\n",
       "      <td>0</td>\n",
       "      <td>273.0</td>\n",
       "      <td>2</td>\n",
       "      <td>1</td>\n",
       "      <td>0</td>\n",
       "      <td>1</td>\n",
       "      <td>3</td>\n",
       "      <td>0</td>\n",
       "      <td>1</td>\n",
       "      <td>0</td>\n",
       "      <td>0</td>\n",
       "    </tr>\n",
       "    <tr>\n",
       "      <th>3192</th>\n",
       "      <td>0</td>\n",
       "      <td>301.0</td>\n",
       "      <td>1</td>\n",
       "      <td>1</td>\n",
       "      <td>0</td>\n",
       "      <td>0</td>\n",
       "      <td>2</td>\n",
       "      <td>0</td>\n",
       "      <td>0</td>\n",
       "      <td>0</td>\n",
       "      <td>1</td>\n",
       "    </tr>\n",
       "    <tr>\n",
       "      <th>114657</th>\n",
       "      <td>0</td>\n",
       "      <td>261.0</td>\n",
       "      <td>2</td>\n",
       "      <td>1</td>\n",
       "      <td>0</td>\n",
       "      <td>0</td>\n",
       "      <td>3</td>\n",
       "      <td>0</td>\n",
       "      <td>0</td>\n",
       "      <td>0</td>\n",
       "      <td>1</td>\n",
       "    </tr>\n",
       "    <tr>\n",
       "      <th>29039</th>\n",
       "      <td>0</td>\n",
       "      <td>86.0</td>\n",
       "      <td>4</td>\n",
       "      <td>1</td>\n",
       "      <td>0</td>\n",
       "      <td>0</td>\n",
       "      <td>1</td>\n",
       "      <td>1</td>\n",
       "      <td>0</td>\n",
       "      <td>0</td>\n",
       "      <td>0</td>\n",
       "    </tr>\n",
       "    <tr>\n",
       "      <th>118607</th>\n",
       "      <td>0</td>\n",
       "      <td>126.0</td>\n",
       "      <td>3</td>\n",
       "      <td>1</td>\n",
       "      <td>0</td>\n",
       "      <td>0</td>\n",
       "      <td>2</td>\n",
       "      <td>0</td>\n",
       "      <td>0</td>\n",
       "      <td>0</td>\n",
       "      <td>1</td>\n",
       "    </tr>\n",
       "    <tr>\n",
       "      <th>91334</th>\n",
       "      <td>0</td>\n",
       "      <td>221.0</td>\n",
       "      <td>2</td>\n",
       "      <td>1</td>\n",
       "      <td>0</td>\n",
       "      <td>0</td>\n",
       "      <td>4</td>\n",
       "      <td>0</td>\n",
       "      <td>0</td>\n",
       "      <td>0</td>\n",
       "      <td>1</td>\n",
       "    </tr>\n",
       "    <tr>\n",
       "      <th>101901</th>\n",
       "      <td>1</td>\n",
       "      <td>194.0</td>\n",
       "      <td>12</td>\n",
       "      <td>2</td>\n",
       "      <td>6</td>\n",
       "      <td>1</td>\n",
       "      <td>4</td>\n",
       "      <td>0</td>\n",
       "      <td>1</td>\n",
       "      <td>0</td>\n",
       "      <td>0</td>\n",
       "    </tr>\n",
       "    <tr>\n",
       "      <th>171111</th>\n",
       "      <td>1</td>\n",
       "      <td>119.0</td>\n",
       "      <td>1</td>\n",
       "      <td>1</td>\n",
       "      <td>0</td>\n",
       "      <td>0</td>\n",
       "      <td>3</td>\n",
       "      <td>0</td>\n",
       "      <td>1</td>\n",
       "      <td>0</td>\n",
       "      <td>0</td>\n",
       "    </tr>\n",
       "    <tr>\n",
       "      <th>23443</th>\n",
       "      <td>1</td>\n",
       "      <td>217.0</td>\n",
       "      <td>8</td>\n",
       "      <td>1</td>\n",
       "      <td>0</td>\n",
       "      <td>1</td>\n",
       "      <td>4</td>\n",
       "      <td>0</td>\n",
       "      <td>0</td>\n",
       "      <td>0</td>\n",
       "      <td>1</td>\n",
       "    </tr>\n",
       "    <tr>\n",
       "      <th>24195</th>\n",
       "      <td>0</td>\n",
       "      <td>230.0</td>\n",
       "      <td>4</td>\n",
       "      <td>1</td>\n",
       "      <td>0</td>\n",
       "      <td>1</td>\n",
       "      <td>3</td>\n",
       "      <td>0</td>\n",
       "      <td>1</td>\n",
       "      <td>0</td>\n",
       "      <td>0</td>\n",
       "    </tr>\n",
       "  </tbody>\n",
       "</table>\n",
       "</div>"
      ],
      "text/plain": [
       "             signing_bonus  salary  yrs_experience  level  subordinates  \\\n",
       "employee_id                                                               \n",
       "138719                   0   273.0               2      1             0   \n",
       "3192                     0   301.0               1      1             0   \n",
       "114657                   0   261.0               2      1             0   \n",
       "29039                    0    86.0               4      1             0   \n",
       "118607                   0   126.0               3      1             0   \n",
       "91334                    0   221.0               2      1             0   \n",
       "101901                   1   194.0              12      2             6   \n",
       "171111                   1   119.0               1      1             0   \n",
       "23443                    1   217.0               8      1             0   \n",
       "24195                    0   230.0               4      1             0   \n",
       "\n",
       "             is_Male  degree  dept_HR  dept_engineering  dept_marketing  \\\n",
       "employee_id                                                               \n",
       "138719             1       3        0                 1               0   \n",
       "3192               0       2        0                 0               0   \n",
       "114657             0       3        0                 0               0   \n",
       "29039              0       1        1                 0               0   \n",
       "118607             0       2        0                 0               0   \n",
       "91334              0       4        0                 0               0   \n",
       "101901             1       4        0                 1               0   \n",
       "171111             0       3        0                 1               0   \n",
       "23443              1       4        0                 0               0   \n",
       "24195              1       3        0                 1               0   \n",
       "\n",
       "             dept_sales  \n",
       "employee_id              \n",
       "138719                0  \n",
       "3192                  1  \n",
       "114657                1  \n",
       "29039                 0  \n",
       "118607                1  \n",
       "91334                 1  \n",
       "101901                0  \n",
       "171111                0  \n",
       "23443                 1  \n",
       "24195                 0  "
      ]
     },
     "execution_count": 117,
     "metadata": {},
     "output_type": "execute_result"
    }
   ],
   "source": [
    "X = employee.copy()\n",
    "X['is_Male'] = (X.sex == 'M').astype(int)\n",
    "del X['sex']\n",
    "\n",
    "degrees = ['High_School','Bachelor','Master','PhD']\n",
    "levels = ['IC','MM','D','VP','E','CEO']\n",
    "degree_dict = {}\n",
    "level_dict = {}\n",
    "for i,degree in enumerate(degrees):\n",
    "    degree_dict[degree] = i+1\n",
    "for i, level in enumerate(levels):\n",
    "    level_dict[level] = i+1\n",
    "    \n",
    "X['degree'] = X['degree_level'].map(degree_dict)\n",
    "\n",
    "del X['degree_level']\n",
    "del X['boss_id']\n",
    "\n",
    "X['level'] = X['level'].map(level_dict)\n",
    "X = pd.get_dummies(X)\n",
    "del X['dept_CEO']\n",
    "\n",
    "X.head(10)\n"
   ]
  },
  {
   "cell_type": "code",
   "execution_count": 118,
   "metadata": {},
   "outputs": [
    {
     "data": {
      "image/png": "[encoded data removed]",
      "text/plain": [
       "<matplotlib.figure.Figure at 0x1a159df668>"
      ]
     },
     "metadata": {},
     "output_type": "display_data"
    }
   ],
   "source": [
    "X.salary.hist(bins = 50)\n",
    "plt.show()"
   ]
  },
  {
   "cell_type": "code",
   "execution_count": 119,
   "metadata": {
    "collapsed": true
   },
   "outputs": [],
   "source": [
    "X.salary = np.log(X.salary)"
   ]
  },
  {
   "cell_type": "code",
   "execution_count": 120,
   "metadata": {},
   "outputs": [
    {
     "data": {
      "image/png": "[encoded data removed]",
      "text/plain": [
       "<matplotlib.figure.Figure at 0x1a0bcf8fd0>"
      ]
     },
     "metadata": {},
     "output_type": "display_data"
    }
   ],
   "source": [
    "X.salary.hist(bins = 50)\n",
    "plt.show()"
   ]
  },
  {
   "cell_type": "code",
   "execution_count": 121,
   "metadata": {},
   "outputs": [
    {
     "data": {
      "text/html": [
       "<div>\n",
       "<style scoped>\n",
       "    .dataframe tbody tr th:only-of-type {\n",
       "        vertical-align: middle;\n",
       "    }\n",
       "\n",
       "    .dataframe tbody tr th {\n",
       "        vertical-align: top;\n",
       "    }\n",
       "\n",
       "    .dataframe thead th {\n",
       "        text-align: right;\n",
       "    }\n",
       "</style>\n",
       "<table border=\"1\" class=\"dataframe\">\n",
       "  <thead>\n",
       "    <tr style=\"text-align: right;\">\n",
       "      <th></th>\n",
       "      <th>count</th>\n",
       "      <th>mean</th>\n",
       "    </tr>\n",
       "    <tr>\n",
       "      <th>level</th>\n",
       "      <th></th>\n",
       "      <th></th>\n",
       "    </tr>\n",
       "  </thead>\n",
       "  <tbody>\n",
       "    <tr>\n",
       "      <th>1</th>\n",
       "      <td>9000</td>\n",
       "      <td>5.112835</td>\n",
       "    </tr>\n",
       "    <tr>\n",
       "      <th>2</th>\n",
       "      <td>800</td>\n",
       "      <td>5.136089</td>\n",
       "    </tr>\n",
       "    <tr>\n",
       "      <th>3</th>\n",
       "      <td>160</td>\n",
       "      <td>5.256181</td>\n",
       "    </tr>\n",
       "    <tr>\n",
       "      <th>4</th>\n",
       "      <td>35</td>\n",
       "      <td>5.496709</td>\n",
       "    </tr>\n",
       "    <tr>\n",
       "      <th>5</th>\n",
       "      <td>4</td>\n",
       "      <td>6.327854</td>\n",
       "    </tr>\n",
       "    <tr>\n",
       "      <th>6</th>\n",
       "      <td>1</td>\n",
       "      <td>6.551080</td>\n",
       "    </tr>\n",
       "  </tbody>\n",
       "</table>\n",
       "</div>"
      ],
      "text/plain": [
       "       count      mean\n",
       "level                 \n",
       "1       9000  5.112835\n",
       "2        800  5.136089\n",
       "3        160  5.256181\n",
       "4         35  5.496709\n",
       "5          4  6.327854\n",
       "6          1  6.551080"
      ]
     },
     "execution_count": 121,
     "metadata": {},
     "output_type": "execute_result"
    }
   ],
   "source": [
    "X.groupby('level').salary.agg(['count','mean'])"
   ]
  },
  {
   "cell_type": "code",
   "execution_count": 122,
   "metadata": {
    "collapsed": true
   },
   "outputs": [],
   "source": [
    "#Remove the CEO data\n",
    "X = X.loc[X.level != 6]"
   ]
  },
  {
   "cell_type": "code",
   "execution_count": 123,
   "metadata": {
    "collapsed": true
   },
   "outputs": [],
   "source": [
    "y = X.salary\n",
    "del X['salary']"
   ]
  },
  {
   "cell_type": "code",
   "execution_count": 124,
   "metadata": {
    "collapsed": true
   },
   "outputs": [],
   "source": [
    "X_train,X_test,y_train,y_test = train_test_split(X,y,test_size = 0.3,random_state = 999)\n",
    "# no validation matrix needed since we will use 5-folder cross_validation"
   ]
  },
  {
   "cell_type": "code",
   "execution_count": 125,
   "metadata": {},
   "outputs": [
    {
     "data": {
      "text/plain": [
       "1    6321\n",
       "2     541\n",
       "3     110\n",
       "4      25\n",
       "5       2\n",
       "Name: level, dtype: int64"
      ]
     },
     "execution_count": 125,
     "metadata": {},
     "output_type": "execute_result"
    }
   ],
   "source": [
    "X_train.level.value_counts()"
   ]
  },
  {
   "cell_type": "code",
   "execution_count": 126,
   "metadata": {},
   "outputs": [
    {
     "data": {
      "text/plain": [
       "1    2679\n",
       "2     259\n",
       "3      50\n",
       "4      10\n",
       "5       2\n",
       "Name: level, dtype: int64"
      ]
     },
     "execution_count": 126,
     "metadata": {},
     "output_type": "execute_result"
    }
   ],
   "source": [
    "X_test.level.value_counts()"
   ]
  },
  {
   "cell_type": "code",
   "execution_count": 127,
   "metadata": {},
   "outputs": [],
   "source": [
    "train_matrix = xgb.DMatrix(X_train,y_train)\n",
    "test_matrix = xgb.DMatrix(X_test,y_test)\n"
   ]
  },
  {
   "cell_type": "code",
   "execution_count": 128,
   "metadata": {},
   "outputs": [
    {
     "name": "stdout",
     "output_type": "stream",
     "text": [
      "[0]\ttrain-rmse:4.18682+0.00266679\ttest-rmse:4.18676+0.0102356\n",
      "[1]\ttrain-rmse:3.77297+0.00252939\ttest-rmse:3.77276+0.00998854\n",
      "[2]\ttrain-rmse:3.40045+0.00238197\ttest-rmse:3.40006+0.00968435\n",
      "[3]\ttrain-rmse:3.06539+0.00238432\ttest-rmse:3.06506+0.00923855\n",
      "[4]\ttrain-rmse:2.76422+0.00223854\ttest-rmse:2.76391+0.00903457\n",
      "[5]\ttrain-rmse:2.49405+0.00240693\ttest-rmse:2.49373+0.00869328\n",
      "[6]\ttrain-rmse:2.25133+0.00210432\ttest-rmse:2.25104+0.00828693\n",
      "[7]\ttrain-rmse:2.03369+0.00183935\ttest-rmse:2.03342+0.00813511\n",
      "[8]\ttrain-rmse:1.83846+0.00172684\ttest-rmse:1.8381+0.00783532\n",
      "[9]\ttrain-rmse:1.6635+0.00169229\ttest-rmse:1.66317+0.00776763\n",
      "[10]\ttrain-rmse:1.50677+0.00156961\ttest-rmse:1.5065+0.00766204\n",
      "[11]\ttrain-rmse:1.367+0.00164051\ttest-rmse:1.36674+0.00778122\n",
      "[12]\ttrain-rmse:1.24223+0.00179103\ttest-rmse:1.24201+0.00769205\n",
      "[13]\ttrain-rmse:1.13114+0.00156768\ttest-rmse:1.13089+0.00756197\n",
      "[14]\ttrain-rmse:1.03228+0.00157431\ttest-rmse:1.03215+0.00749936\n",
      "[15]\ttrain-rmse:0.944805+0.001508\ttest-rmse:0.944652+0.00745214\n",
      "[16]\ttrain-rmse:0.867362+0.00157378\ttest-rmse:0.867273+0.0075482\n",
      "[17]\ttrain-rmse:0.799071+0.00152976\ttest-rmse:0.799082+0.00759927\n",
      "[18]\ttrain-rmse:0.738913+0.00151848\ttest-rmse:0.73914+0.00772054\n",
      "[19]\ttrain-rmse:0.686215+0.00160436\ttest-rmse:0.686633+0.00771729\n",
      "[20]\ttrain-rmse:0.640557+0.001795\ttest-rmse:0.641266+0.00765455\n",
      "[21]\ttrain-rmse:0.600797+0.00203768\ttest-rmse:0.60175+0.00752748\n",
      "[22]\ttrain-rmse:0.566251+0.00214734\ttest-rmse:0.567626+0.0079076\n",
      "[23]\ttrain-rmse:0.536694+0.00217993\ttest-rmse:0.538631+0.00805086\n",
      "[24]\ttrain-rmse:0.511664+0.00225331\ttest-rmse:0.514002+0.00830834\n",
      "[25]\ttrain-rmse:0.490204+0.00250765\ttest-rmse:0.493041+0.00829085\n",
      "[26]\ttrain-rmse:0.472111+0.0026301\ttest-rmse:0.475421+0.00848096\n",
      "[27]\ttrain-rmse:0.456919+0.00258326\ttest-rmse:0.460683+0.00874535\n",
      "[28]\ttrain-rmse:0.444096+0.00273011\ttest-rmse:0.448305+0.00886975\n",
      "[29]\ttrain-rmse:0.433397+0.00282846\ttest-rmse:0.438117+0.00891885\n",
      "[30]\ttrain-rmse:0.42438+0.00284123\ttest-rmse:0.429582+0.00910134\n",
      "[31]\ttrain-rmse:0.416875+0.00291284\ttest-rmse:0.422531+0.00932105\n",
      "[32]\ttrain-rmse:0.410758+0.00296147\ttest-rmse:0.416847+0.00944305\n",
      "[33]\ttrain-rmse:0.405553+0.00295756\ttest-rmse:0.412126+0.0095275\n",
      "[34]\ttrain-rmse:0.401286+0.00298127\ttest-rmse:0.408357+0.00968182\n",
      "[35]\ttrain-rmse:0.397657+0.00311409\ttest-rmse:0.405268+0.00977452\n",
      "[36]\ttrain-rmse:0.394678+0.00317893\ttest-rmse:0.402743+0.00997711\n",
      "[37]\ttrain-rmse:0.392182+0.00305439\ttest-rmse:0.400829+0.0100228\n",
      "[38]\ttrain-rmse:0.390123+0.00307251\ttest-rmse:0.399176+0.0100607\n",
      "[39]\ttrain-rmse:0.388214+0.00309034\ttest-rmse:0.397866+0.0101816\n",
      "[40]\ttrain-rmse:0.386736+0.0031071\ttest-rmse:0.396804+0.0102184\n",
      "[41]\ttrain-rmse:0.385533+0.00318624\ttest-rmse:0.395911+0.0103421\n",
      "[42]\ttrain-rmse:0.384403+0.00321584\ttest-rmse:0.395292+0.010248\n",
      "[43]\ttrain-rmse:0.383537+0.00314546\ttest-rmse:0.394725+0.010384\n",
      "[44]\ttrain-rmse:0.382687+0.00318947\ttest-rmse:0.394256+0.0104072\n",
      "[45]\ttrain-rmse:0.382008+0.00307349\ttest-rmse:0.393922+0.0104863\n",
      "[46]\ttrain-rmse:0.38152+0.00298343\ttest-rmse:0.393711+0.0104641\n",
      "[47]\ttrain-rmse:0.380983+0.0029924\ttest-rmse:0.393564+0.0105318\n",
      "[48]\ttrain-rmse:0.38029+0.00296279\ttest-rmse:0.393558+0.0106636\n",
      "[49]\ttrain-rmse:0.379841+0.00286453\ttest-rmse:0.393456+0.0106737\n",
      "[50]\ttrain-rmse:0.379516+0.00292286\ttest-rmse:0.393458+0.0108162\n",
      "[51]\ttrain-rmse:0.379029+0.0028695\ttest-rmse:0.393403+0.0108364\n",
      "[52]\ttrain-rmse:0.378662+0.00281824\ttest-rmse:0.393363+0.010745\n",
      "[53]\ttrain-rmse:0.378179+0.00285333\ttest-rmse:0.393444+0.0108649\n",
      "[54]\ttrain-rmse:0.377814+0.00286254\ttest-rmse:0.393507+0.0109535\n",
      "[55]\ttrain-rmse:0.377578+0.00291674\ttest-rmse:0.393513+0.0109572\n",
      "[56]\ttrain-rmse:0.377346+0.00289698\ttest-rmse:0.393556+0.0109774\n",
      "[57]\ttrain-rmse:0.376965+0.00300052\ttest-rmse:0.393627+0.0111014\n",
      "[58]\ttrain-rmse:0.376716+0.00299453\ttest-rmse:0.393758+0.0110605\n",
      "[59]\ttrain-rmse:0.376252+0.00304126\ttest-rmse:0.393927+0.0111002\n",
      "[60]\ttrain-rmse:0.375963+0.00304822\ttest-rmse:0.39403+0.0110838\n",
      "[61]\ttrain-rmse:0.375655+0.00301358\ttest-rmse:0.394095+0.0110877\n",
      "[62]\ttrain-rmse:0.375322+0.00295798\ttest-rmse:0.394202+0.0111416\n",
      "[63]\ttrain-rmse:0.375064+0.00297778\ttest-rmse:0.394319+0.011198\n",
      "[64]\ttrain-rmse:0.374781+0.00303149\ttest-rmse:0.394369+0.011194\n",
      "[65]\ttrain-rmse:0.374521+0.0030097\ttest-rmse:0.39444+0.0112144\n",
      "[66]\ttrain-rmse:0.374248+0.00301045\ttest-rmse:0.39462+0.0111873\n",
      "[67]\ttrain-rmse:0.374006+0.00296375\ttest-rmse:0.394752+0.0112511\n",
      "[68]\ttrain-rmse:0.373777+0.00296105\ttest-rmse:0.394806+0.01132\n",
      "[69]\ttrain-rmse:0.373544+0.00289212\ttest-rmse:0.395013+0.0113122\n",
      "[70]\ttrain-rmse:0.373323+0.00289905\ttest-rmse:0.395131+0.0113479\n",
      "[71]\ttrain-rmse:0.373032+0.00287573\ttest-rmse:0.395205+0.0113759\n",
      "[72]\ttrain-rmse:0.372746+0.00289797\ttest-rmse:0.395261+0.0112996\n",
      "[73]\ttrain-rmse:0.372521+0.00284999\ttest-rmse:0.395362+0.0113859\n",
      "[74]\ttrain-rmse:0.372304+0.00289247\ttest-rmse:0.395475+0.0114957\n",
      "[75]\ttrain-rmse:0.372042+0.00292229\ttest-rmse:0.395568+0.0114589\n",
      "[76]\ttrain-rmse:0.371839+0.00293802\ttest-rmse:0.395663+0.0114934\n",
      "[77]\ttrain-rmse:0.371593+0.00291932\ttest-rmse:0.395777+0.0115413\n",
      "[78]\ttrain-rmse:0.371312+0.00291431\ttest-rmse:0.395956+0.0115935\n",
      "[79]\ttrain-rmse:0.371094+0.00290519\ttest-rmse:0.396139+0.0116021\n",
      "[80]\ttrain-rmse:0.37087+0.00288779\ttest-rmse:0.396305+0.0115476\n",
      "[81]\ttrain-rmse:0.370728+0.00290386\ttest-rmse:0.39641+0.011622\n"
     ]
    }
   ],
   "source": [
    "params = {}\n",
    "params['silent'] = 1\n",
    "params['objective'] = 'reg:linear'\n",
    "params['eval_metric'] = 'rmse'\n",
    "params[\"num_rounds\"] = 300\n",
    "params[\"early_stopping_rounds\"] = 30\n",
    "# params['min_child_weight'] = 2\n",
    "# params['max_depth'] = 6\n",
    "params['eta'] = 0.1\n",
    "params[\"subsample\"] = 0.8\n",
    "params[\"colsample_bytree\"] = 0.8\n",
    "\n",
    "# If verbose_eval is True then the evaluation metric on the validation set is printed at each boosting stage.\n",
    "cv_results = xgb.cv(params,train_matrix,\n",
    "                    num_boost_round = params[\"num_rounds\"],\n",
    "                    nfold = params.get('nfold',5),\n",
    "                    metrics = params['eval_metric'],\n",
    "                    early_stopping_rounds = params[\"early_stopping_rounds\"],\n",
    "                    verbose_eval = True, \n",
    "                    seed = 999)"
   ]
  },
  {
   "cell_type": "raw",
   "metadata": {},
   "source": []
  },
  {
   "cell_type": "code",
   "execution_count": 129,
   "metadata": {},
   "outputs": [
    {
     "data": {
      "text/plain": [
       "53"
      ]
     },
     "execution_count": 129,
     "metadata": {},
     "output_type": "execute_result"
    }
   ],
   "source": [
    "n_best_trees = cv_results.shape[0]\n",
    "n_best_trees"
   ]
  },
  {
   "cell_type": "code",
   "execution_count": 130,
   "metadata": {},
   "outputs": [
    {
     "name": "stdout",
     "output_type": "stream",
     "text": [
      "[0]\ttrain-rmse:4.18652\n",
      "[1]\ttrain-rmse:3.77153\n",
      "[2]\ttrain-rmse:3.39879\n",
      "[3]\ttrain-rmse:3.06371\n",
      "[4]\ttrain-rmse:2.76249\n",
      "[5]\ttrain-rmse:2.49301\n",
      "[6]\ttrain-rmse:2.24989\n",
      "[7]\ttrain-rmse:2.03247\n",
      "[8]\ttrain-rmse:1.83694\n",
      "[9]\ttrain-rmse:1.66218\n",
      "[10]\ttrain-rmse:1.50629\n",
      "[11]\ttrain-rmse:1.36654\n",
      "[12]\ttrain-rmse:1.2421\n",
      "[13]\ttrain-rmse:1.13081\n",
      "[14]\ttrain-rmse:1.03201\n",
      "[15]\ttrain-rmse:0.944448\n",
      "[16]\ttrain-rmse:0.866969\n",
      "[17]\ttrain-rmse:0.798524\n",
      "[18]\ttrain-rmse:0.73798\n",
      "[19]\ttrain-rmse:0.685468\n",
      "[20]\ttrain-rmse:0.63999\n",
      "[21]\ttrain-rmse:0.600317\n",
      "[22]\ttrain-rmse:0.566054\n",
      "[23]\ttrain-rmse:0.536896\n",
      "[24]\ttrain-rmse:0.511979\n",
      "[25]\ttrain-rmse:0.490369\n",
      "[26]\ttrain-rmse:0.472139\n",
      "[27]\ttrain-rmse:0.456674\n",
      "[28]\ttrain-rmse:0.444029\n",
      "[29]\ttrain-rmse:0.433289\n",
      "[30]\ttrain-rmse:0.424315\n",
      "[31]\ttrain-rmse:0.4169\n",
      "[32]\ttrain-rmse:0.410877\n",
      "[33]\ttrain-rmse:0.405871\n",
      "[34]\ttrain-rmse:0.401706\n",
      "[35]\ttrain-rmse:0.398229\n",
      "[36]\ttrain-rmse:0.39533\n",
      "[37]\ttrain-rmse:0.393113\n",
      "[38]\ttrain-rmse:0.391029\n",
      "[39]\ttrain-rmse:0.389519\n",
      "[40]\ttrain-rmse:0.388057\n",
      "[41]\ttrain-rmse:0.386904\n",
      "[42]\ttrain-rmse:0.385946\n",
      "[43]\ttrain-rmse:0.385157\n",
      "[44]\ttrain-rmse:0.384369\n",
      "[45]\ttrain-rmse:0.383538\n",
      "[46]\ttrain-rmse:0.382801\n",
      "[47]\ttrain-rmse:0.382252\n",
      "[48]\ttrain-rmse:0.381629\n",
      "[49]\ttrain-rmse:0.381326\n",
      "[50]\ttrain-rmse:0.381103\n",
      "[51]\ttrain-rmse:0.380747\n",
      "[52]\ttrain-rmse:0.380301\n"
     ]
    }
   ],
   "source": [
    "#train on all training data\n",
    "watchlist = [(train_matrix,'train')]\n",
    "bst = xgb.train(params,train_matrix,n_best_trees,watchlist)"
   ]
  },
  {
   "cell_type": "code",
   "execution_count": 131,
   "metadata": {},
   "outputs": [
    {
     "data": {
      "text/plain": [
       "0.39447751306388984"
      ]
     },
     "execution_count": 131,
     "metadata": {},
     "output_type": "execute_result"
    }
   ],
   "source": [
    "y_predict = bst.predict(test_matrix,ntree_limit = n_best_trees)\n",
    "np.sqrt(mean_squared_error(y_test,y_predict))\n"
   ]
  },
  {
   "cell_type": "code",
   "execution_count": 132,
   "metadata": {},
   "outputs": [
    {
     "data": {
      "image/png": "[encoded data removed]",
      "text/plain": [
       "<matplotlib.figure.Figure at 0x1a0b60d940>"
      ]
     },
     "metadata": {},
     "output_type": "display_data"
    }
   ],
   "source": [
    "(y_test-y_predict).hist(bins=60)\n",
    "plt.show()"
   ]
  },
  {
   "cell_type": "code",
   "execution_count": 133,
   "metadata": {
    "collapsed": true
   },
   "outputs": [],
   "source": [
    "bst.save_model('gbt.model')"
   ]
  },
  {
   "cell_type": "code",
   "execution_count": 134,
   "metadata": {},
   "outputs": [
    {
     "data": {
      "image/png": "[encoded data removed]",
      "text/plain": [
       "<matplotlib.figure.Figure at 0x1a16955358>"
      ]
     },
     "metadata": {},
     "output_type": "display_data"
    }
   ],
   "source": [
    "xgb.plot_importance(bst)\n",
    "plt.show()"
   ]
  },
  {
   "cell_type": "markdown",
   "metadata": {},
   "source": [
    "\n",
    "from above plot of feature importance, we can see the main factors impacting salaries includes:\n",
    "\n",
    "\"years of experience\". this is fair, more experienced deserve high salary\n",
    "'n_subordinates'. #subordinates has some relationship with level. higher level, more subordinates, more salary"
   ]
  },
  {
   "cell_type": "markdown",
   "metadata": {},
   "source": [
    "evaluate the model on whole data set"
   ]
  },
  {
   "cell_type": "markdown",
   "metadata": {},
   "source": [
    "# Residual Analysis"
   ]
  },
  {
   "cell_type": "code",
   "execution_count": 135,
   "metadata": {
    "collapsed": true
   },
   "outputs": [],
   "source": [
    "whole_Matrix = xgb.DMatrix(X)\n",
    "whole_predict = bst.predict(whole_Matrix,ntree_limit = n_best_trees)"
   ]
  },
  {
   "cell_type": "code",
   "execution_count": 136,
   "metadata": {
    "collapsed": true
   },
   "outputs": [],
   "source": [
    "predictResult =pd.DataFrame({'y_pred':np.exp(whole_predict),'y_true':np.exp(y)})\n",
    "predictResult['bias'] = predictResult.y_true-predictResult.y_pred"
   ]
  },
  {
   "cell_type": "code",
   "execution_count": 137,
   "metadata": {},
   "outputs": [
    {
     "data": {
      "text/html": [
       "<div>\n",
       "<style scoped>\n",
       "    .dataframe tbody tr th:only-of-type {\n",
       "        vertical-align: middle;\n",
       "    }\n",
       "\n",
       "    .dataframe tbody tr th {\n",
       "        vertical-align: top;\n",
       "    }\n",
       "\n",
       "    .dataframe thead th {\n",
       "        text-align: right;\n",
       "    }\n",
       "</style>\n",
       "<table border=\"1\" class=\"dataframe\">\n",
       "  <thead>\n",
       "    <tr style=\"text-align: right;\">\n",
       "      <th></th>\n",
       "      <th>y_pred</th>\n",
       "      <th>y_true</th>\n",
       "      <th>bias</th>\n",
       "      <th>signing_bonus</th>\n",
       "      <th>degree_level</th>\n",
       "      <th>sex</th>\n",
       "      <th>yrs_experience</th>\n",
       "      <th>boss_id</th>\n",
       "      <th>dept</th>\n",
       "      <th>level</th>\n",
       "      <th>subordinates</th>\n",
       "    </tr>\n",
       "    <tr>\n",
       "      <th>employee_id</th>\n",
       "      <th></th>\n",
       "      <th></th>\n",
       "      <th></th>\n",
       "      <th></th>\n",
       "      <th></th>\n",
       "      <th></th>\n",
       "      <th></th>\n",
       "      <th></th>\n",
       "      <th></th>\n",
       "      <th></th>\n",
       "      <th></th>\n",
       "    </tr>\n",
       "  </thead>\n",
       "  <tbody>\n",
       "    <tr>\n",
       "      <th>138719</th>\n",
       "      <td>221.656158</td>\n",
       "      <td>273.0</td>\n",
       "      <td>51.343842</td>\n",
       "      <td>0</td>\n",
       "      <td>Master</td>\n",
       "      <td>M</td>\n",
       "      <td>2</td>\n",
       "      <td>43602</td>\n",
       "      <td>engineering</td>\n",
       "      <td>IC</td>\n",
       "      <td>0</td>\n",
       "    </tr>\n",
       "    <tr>\n",
       "      <th>3192</th>\n",
       "      <td>169.760071</td>\n",
       "      <td>301.0</td>\n",
       "      <td>131.239929</td>\n",
       "      <td>0</td>\n",
       "      <td>Bachelor</td>\n",
       "      <td>F</td>\n",
       "      <td>1</td>\n",
       "      <td>87847</td>\n",
       "      <td>sales</td>\n",
       "      <td>IC</td>\n",
       "      <td>0</td>\n",
       "    </tr>\n",
       "    <tr>\n",
       "      <th>114657</th>\n",
       "      <td>172.098343</td>\n",
       "      <td>261.0</td>\n",
       "      <td>88.901657</td>\n",
       "      <td>0</td>\n",
       "      <td>Master</td>\n",
       "      <td>F</td>\n",
       "      <td>2</td>\n",
       "      <td>180854</td>\n",
       "      <td>sales</td>\n",
       "      <td>IC</td>\n",
       "      <td>0</td>\n",
       "    </tr>\n",
       "    <tr>\n",
       "      <th>29039</th>\n",
       "      <td>80.985832</td>\n",
       "      <td>86.0</td>\n",
       "      <td>5.014168</td>\n",
       "      <td>0</td>\n",
       "      <td>High_School</td>\n",
       "      <td>F</td>\n",
       "      <td>4</td>\n",
       "      <td>88370</td>\n",
       "      <td>HR</td>\n",
       "      <td>IC</td>\n",
       "      <td>0</td>\n",
       "    </tr>\n",
       "    <tr>\n",
       "      <th>118607</th>\n",
       "      <td>171.906006</td>\n",
       "      <td>126.0</td>\n",
       "      <td>-45.906006</td>\n",
       "      <td>0</td>\n",
       "      <td>Bachelor</td>\n",
       "      <td>F</td>\n",
       "      <td>3</td>\n",
       "      <td>23565</td>\n",
       "      <td>sales</td>\n",
       "      <td>IC</td>\n",
       "      <td>0</td>\n",
       "    </tr>\n",
       "    <tr>\n",
       "      <th>91334</th>\n",
       "      <td>175.032532</td>\n",
       "      <td>221.0</td>\n",
       "      <td>45.967468</td>\n",
       "      <td>0</td>\n",
       "      <td>PhD</td>\n",
       "      <td>F</td>\n",
       "      <td>2</td>\n",
       "      <td>62990</td>\n",
       "      <td>sales</td>\n",
       "      <td>IC</td>\n",
       "      <td>0</td>\n",
       "    </tr>\n",
       "    <tr>\n",
       "      <th>101901</th>\n",
       "      <td>203.985901</td>\n",
       "      <td>194.0</td>\n",
       "      <td>-9.985901</td>\n",
       "      <td>1</td>\n",
       "      <td>PhD</td>\n",
       "      <td>M</td>\n",
       "      <td>12</td>\n",
       "      <td>7558</td>\n",
       "      <td>engineering</td>\n",
       "      <td>MM</td>\n",
       "      <td>6</td>\n",
       "    </tr>\n",
       "    <tr>\n",
       "      <th>171111</th>\n",
       "      <td>225.506668</td>\n",
       "      <td>119.0</td>\n",
       "      <td>-106.506668</td>\n",
       "      <td>1</td>\n",
       "      <td>Master</td>\n",
       "      <td>F</td>\n",
       "      <td>1</td>\n",
       "      <td>30468</td>\n",
       "      <td>engineering</td>\n",
       "      <td>IC</td>\n",
       "      <td>0</td>\n",
       "    </tr>\n",
       "    <tr>\n",
       "      <th>23443</th>\n",
       "      <td>172.356781</td>\n",
       "      <td>217.0</td>\n",
       "      <td>44.643219</td>\n",
       "      <td>1</td>\n",
       "      <td>PhD</td>\n",
       "      <td>M</td>\n",
       "      <td>8</td>\n",
       "      <td>130585</td>\n",
       "      <td>sales</td>\n",
       "      <td>IC</td>\n",
       "      <td>0</td>\n",
       "    </tr>\n",
       "    <tr>\n",
       "      <th>24195</th>\n",
       "      <td>224.019623</td>\n",
       "      <td>230.0</td>\n",
       "      <td>5.980377</td>\n",
       "      <td>0</td>\n",
       "      <td>Master</td>\n",
       "      <td>M</td>\n",
       "      <td>4</td>\n",
       "      <td>1050</td>\n",
       "      <td>engineering</td>\n",
       "      <td>IC</td>\n",
       "      <td>0</td>\n",
       "    </tr>\n",
       "  </tbody>\n",
       "</table>\n",
       "</div>"
      ],
      "text/plain": [
       "                 y_pred  y_true        bias  signing_bonus degree_level sex  \\\n",
       "employee_id                                                                   \n",
       "138719       221.656158   273.0   51.343842              0       Master   M   \n",
       "3192         169.760071   301.0  131.239929              0     Bachelor   F   \n",
       "114657       172.098343   261.0   88.901657              0       Master   F   \n",
       "29039         80.985832    86.0    5.014168              0  High_School   F   \n",
       "118607       171.906006   126.0  -45.906006              0     Bachelor   F   \n",
       "91334        175.032532   221.0   45.967468              0          PhD   F   \n",
       "101901       203.985901   194.0   -9.985901              1          PhD   M   \n",
       "171111       225.506668   119.0 -106.506668              1       Master   F   \n",
       "23443        172.356781   217.0   44.643219              1          PhD   M   \n",
       "24195        224.019623   230.0    5.980377              0       Master   M   \n",
       "\n",
       "             yrs_experience  boss_id         dept level  subordinates  \n",
       "employee_id                                                            \n",
       "138719                    2    43602  engineering    IC             0  \n",
       "3192                      1    87847        sales    IC             0  \n",
       "114657                    2   180854        sales    IC             0  \n",
       "29039                     4    88370           HR    IC             0  \n",
       "118607                    3    23565        sales    IC             0  \n",
       "91334                     2    62990        sales    IC             0  \n",
       "101901                   12     7558  engineering    MM             6  \n",
       "171111                    1    30468  engineering    IC             0  \n",
       "23443                     8   130585        sales    IC             0  \n",
       "24195                     4     1050  engineering    IC             0  "
      ]
     },
     "execution_count": 137,
     "metadata": {},
     "output_type": "execute_result"
    }
   ],
   "source": [
    "predictResult = predictResult.join(employee)\n",
    "del predictResult['salary']\n",
    "predictResult.head(10)"
   ]
  },
  {
   "cell_type": "code",
   "execution_count": 138,
   "metadata": {},
   "outputs": [
    {
     "data": {
      "image/png": "[encoded data removed]",
      "text/plain": [
       "<matplotlib.figure.Figure at 0x1a0c3ad8d0>"
      ]
     },
     "metadata": {},
     "output_type": "display_data"
    }
   ],
   "source": [
    "predictResult.bias.hist(bins = 60)\n",
    "plt.show()"
   ]
  },
  {
   "cell_type": "markdown",
   "metadata": {},
   "source": [
    "distribution is normal, so this is acceptable"
   ]
  },
  {
   "cell_type": "code",
   "execution_count": 139,
   "metadata": {},
   "outputs": [
    {
     "data": {
      "image/png": "[encoded data removed]",
      "text/plain": [
       "<matplotlib.figure.Figure at 0x1a15c57940>"
      ]
     },
     "metadata": {},
     "output_type": "display_data"
    }
   ],
   "source": [
    "plt.scatter(predictResult.y_true,predictResult.bias)\n",
    "plt.xlabel('true salary')\n",
    "plt.ylabel('bias')\n",
    "plt.show()"
   ]
  },
  {
   "cell_type": "markdown",
   "metadata": {},
   "source": [
    "\n",
    "from above plot, we can see that, employee with high salary are more likely to be overpaid."
   ]
  },
  {
   "cell_type": "markdown",
   "metadata": {},
   "source": [
    "Do the chi2 analysis to see which factor will influence the bias"
   ]
  },
  {
   "cell_type": "code",
   "execution_count": 140,
   "metadata": {},
   "outputs": [
    {
     "data": {
      "text/html": [
       "<div>\n",
       "<style scoped>\n",
       "    .dataframe tbody tr th:only-of-type {\n",
       "        vertical-align: middle;\n",
       "    }\n",
       "\n",
       "    .dataframe tbody tr th {\n",
       "        vertical-align: top;\n",
       "    }\n",
       "\n",
       "    .dataframe thead th {\n",
       "        text-align: right;\n",
       "    }\n",
       "</style>\n",
       "<table border=\"1\" class=\"dataframe\">\n",
       "  <thead>\n",
       "    <tr style=\"text-align: right;\">\n",
       "      <th></th>\n",
       "      <th>score</th>\n",
       "      <th>pvalue</th>\n",
       "    </tr>\n",
       "  </thead>\n",
       "  <tbody>\n",
       "    <tr>\n",
       "      <th>subordinates</th>\n",
       "      <td>3511.375418</td>\n",
       "      <td>0.000000</td>\n",
       "    </tr>\n",
       "    <tr>\n",
       "      <th>dept</th>\n",
       "      <td>18.873285</td>\n",
       "      <td>0.000014</td>\n",
       "    </tr>\n",
       "    <tr>\n",
       "      <th>signing_bonus</th>\n",
       "      <td>1.732290</td>\n",
       "      <td>0.188119</td>\n",
       "    </tr>\n",
       "    <tr>\n",
       "      <th>is_male</th>\n",
       "      <td>0.722912</td>\n",
       "      <td>0.395190</td>\n",
       "    </tr>\n",
       "    <tr>\n",
       "      <th>degree_level</th>\n",
       "      <td>0.621964</td>\n",
       "      <td>0.430318</td>\n",
       "    </tr>\n",
       "    <tr>\n",
       "      <th>yrs_experience</th>\n",
       "      <td>0.364303</td>\n",
       "      <td>0.546126</td>\n",
       "    </tr>\n",
       "    <tr>\n",
       "      <th>level</th>\n",
       "      <td>0.294576</td>\n",
       "      <td>0.587303</td>\n",
       "    </tr>\n",
       "  </tbody>\n",
       "</table>\n",
       "</div>"
      ],
      "text/plain": [
       "                      score    pvalue\n",
       "subordinates    3511.375418  0.000000\n",
       "dept              18.873285  0.000014\n",
       "signing_bonus      1.732290  0.188119\n",
       "is_male            0.722912  0.395190\n",
       "degree_level       0.621964  0.430318\n",
       "yrs_experience     0.364303  0.546126\n",
       "level              0.294576  0.587303"
      ]
     },
     "execution_count": 140,
     "metadata": {},
     "output_type": "execute_result"
    }
   ],
   "source": [
    "def chisquare_test_on_bias():\n",
    "    X = predictResult.copy()\n",
    "    del X['y_pred']\n",
    "    del X['y_true']\n",
    "    del X['boss_id']\n",
    "\n",
    "    X['degree_level'] = X.degree_level.map(degree_dict)\n",
    "    X['level'] = X.level.map(level_dict)\n",
    "\n",
    "    X['is_male'] = (X.sex == 'M').astype(int)\n",
    "    del X['sex']\n",
    "\n",
    "    dept_lb_encoder = LabelEncoder()\n",
    "    X['dept'] = dept_lb_encoder.fit_transform(X.dept)\n",
    "    \n",
    "    y = (X.bias > 0)\n",
    "    del X['bias']\n",
    "    \n",
    "    scores,pvalues = chi2(X,y)\n",
    "    return pd.DataFrame({'score': scores, 'pvalue': pvalues},index = X.columns).sort_values(by='pvalue')\n",
    "chisquare_test_on_bias()"
   ]
  },
  {
   "cell_type": "code",
   "execution_count": 141,
   "metadata": {},
   "outputs": [
    {
     "data": {
      "text/html": [
       "<div>\n",
       "<style scoped>\n",
       "    .dataframe tbody tr th:only-of-type {\n",
       "        vertical-align: middle;\n",
       "    }\n",
       "\n",
       "    .dataframe tbody tr th {\n",
       "        vertical-align: top;\n",
       "    }\n",
       "\n",
       "    .dataframe thead th {\n",
       "        text-align: right;\n",
       "    }\n",
       "</style>\n",
       "<table border=\"1\" class=\"dataframe\">\n",
       "  <thead>\n",
       "    <tr style=\"text-align: right;\">\n",
       "      <th></th>\n",
       "      <th>score</th>\n",
       "      <th>p_value</th>\n",
       "    </tr>\n",
       "  </thead>\n",
       "  <tbody>\n",
       "    <tr>\n",
       "      <th>subordinates</th>\n",
       "      <td>3511.375418</td>\n",
       "      <td>0.000000</td>\n",
       "    </tr>\n",
       "    <tr>\n",
       "      <th>dept</th>\n",
       "      <td>18.873285</td>\n",
       "      <td>0.000014</td>\n",
       "    </tr>\n",
       "    <tr>\n",
       "      <th>signing_bonus</th>\n",
       "      <td>1.732290</td>\n",
       "      <td>0.188119</td>\n",
       "    </tr>\n",
       "    <tr>\n",
       "      <th>is_male</th>\n",
       "      <td>0.722912</td>\n",
       "      <td>0.395190</td>\n",
       "    </tr>\n",
       "    <tr>\n",
       "      <th>degree_level</th>\n",
       "      <td>0.621964</td>\n",
       "      <td>0.430318</td>\n",
       "    </tr>\n",
       "    <tr>\n",
       "      <th>yrs_experience</th>\n",
       "      <td>0.364303</td>\n",
       "      <td>0.546126</td>\n",
       "    </tr>\n",
       "    <tr>\n",
       "      <th>level</th>\n",
       "      <td>0.294576</td>\n",
       "      <td>0.587303</td>\n",
       "    </tr>\n",
       "  </tbody>\n",
       "</table>\n",
       "</div>"
      ],
      "text/plain": [
       "                      score   p_value\n",
       "subordinates    3511.375418  0.000000\n",
       "dept              18.873285  0.000014\n",
       "signing_bonus      1.732290  0.188119\n",
       "is_male            0.722912  0.395190\n",
       "degree_level       0.621964  0.430318\n",
       "yrs_experience     0.364303  0.546126\n",
       "level              0.294576  0.587303"
      ]
     },
     "execution_count": 141,
     "metadata": {},
     "output_type": "execute_result"
    }
   ],
   "source": [
    "def chi2_test_on_bias():\n",
    "    X = predictResult.copy()\n",
    "    y = (X.bias>0)\n",
    "    X['degree_level']= X['degree_level'].map(degree_dict)\n",
    "    X['level'] = X['level'].map(level_dict)\n",
    "    X.dept = LabelEncoder().fit_transform(X.dept)\n",
    "    X['is_male'] = (X.sex == 'M').astype(int)\n",
    "    \n",
    "    del X['y_pred']\n",
    "    del X['y_true']\n",
    "    del X['bias']\n",
    "    del X['sex']\n",
    "    del X['boss_id']\n",
    "    \n",
    "    score,p_value = chi2(X,y)\n",
    "    #return X.head(10)\n",
    "    return pd.DataFrame({'score':score,'p_value':p_value},index = X.columns).sort_values(by = 'p_value',ascending = True)\n",
    "\n",
    "chi2_test_on_bias()"
   ]
  },
  {
   "cell_type": "markdown",
   "metadata": {},
   "source": [
    "if we set threshold as 0.1, n_subordinates, department, are four factors impacting whether the employee is overpaid or underpaid."
   ]
  },
  {
   "cell_type": "code",
   "execution_count": 142,
   "metadata": {},
   "outputs": [
    {
     "data": {
      "image/png": "[encoded data removed]",
      "text/plain": [
       "<matplotlib.figure.Figure at 0x1a0c84d940>"
      ]
     },
     "metadata": {},
     "output_type": "display_data"
    }
   ],
   "source": [
    "plt.scatter(predictResult.subordinates,predictResult.bias)\n",
    "plt.xlabel('num_of_subordinates')\n",
    "plt.ylabel('bias')\n",
    "plt.show()"
   ]
  },
  {
   "cell_type": "markdown",
   "metadata": {},
   "source": [
    "Thus from above plot, we can see that, more subordinates (i.e., higher level), more positive bias, means more likely to be overpaid."
   ]
  },
  {
   "cell_type": "code",
   "execution_count": 143,
   "metadata": {},
   "outputs": [
    {
     "data": {
      "image/png": "[encoded data removed]",
      "text/plain": [
       "<matplotlib.figure.Figure at 0x1a0c856be0>"
      ]
     },
     "metadata": {},
     "output_type": "display_data"
    }
   ],
   "source": [
    "plt.scatter(predictResult.dept,predictResult.bias)\n",
    "plt.xlabel('department')\n",
    "plt.ylabel('bias')\n",
    "plt.show()"
   ]
  },
  {
   "cell_type": "code",
   "execution_count": 144,
   "metadata": {},
   "outputs": [
    {
     "data": {
      "image/png": "[encoded data removed]",
      "text/plain": [
       "<matplotlib.figure.Figure at 0x1a162e3390>"
      ]
     },
     "metadata": {},
     "output_type": "display_data"
    }
   ],
   "source": [
    "plt.scatter(predictResult.level,predictResult.bias)\n",
    "plt.xlabel('level')\n",
    "plt.ylabel('bias')\n",
    "plt.show()"
   ]
  },
  {
   "cell_type": "code",
   "execution_count": null,
   "metadata": {
    "collapsed": true
   },
   "outputs": [],
   "source": []
  }
 ],
 "metadata": {
  "kernelspec": {
   "display_name": "Python 3",
   "language": "python",
   "name": "python3"
  },
  "language_info": {
   "codemirror_mode": {
    "name": "ipython",
    "version": 3
   },
   "file_extension": ".py",
   "mimetype": "text/x-python",
   "name": "python",
   "nbconvert_exporter": "python",
   "pygments_lexer": "ipython3",
   "version": "3.6.3"
  }
 },
 "nbformat": 4,
 "nbformat_minor": 2
}
