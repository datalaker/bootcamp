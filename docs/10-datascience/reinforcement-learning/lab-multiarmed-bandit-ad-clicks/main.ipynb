{
 "cells": [
  {
   "attachments": {},
   "cell_type": "markdown",
   "metadata": {},
   "source": [
    "# Multi-Armed Bandits\n",
    "\n",
    "Evaluate multiple system changes while maximizing business metrics"
   ]
  },
  {
   "cell_type": "code",
   "execution_count": null,
   "metadata": {},
   "outputs": [],
   "source": [
    "import numpy as np\n",
    "import scipy\n",
    "import scipy.stats\n",
    "import matplotlib as mpl\n",
    "import matplotlib.pyplot as plt"
   ]
  },
  {
   "cell_type": "code",
   "execution_count": 15,
   "metadata": {},
   "outputs": [],
   "source": [
    "arrow_props = {\n",
    "    \"width\": 1,\n",
    "    \"color\": \"blue\",\n",
    "    \"headwidth\": 5,\n",
    "    \"headlength\": 7,\n",
    "}"
   ]
  },
  {
   "cell_type": "code",
   "execution_count": 28,
   "metadata": {},
   "outputs": [],
   "source": [
    "def horizontal_line(y_0, clr=None):\n",
    "    if clr is None:\n",
    "        clr = \"grey\"\n",
    "    c = plt.axis()\n",
    "    plt.autoscale(False)\n",
    "    plt.plot([c[0], c[1]], [y_0, y_0], \"--\", linewidth=1, color=clr)"
   ]
  },
  {
   "attachments": {},
   "cell_type": "markdown",
   "metadata": {},
   "source": [
    "## Epsilon-greedy: Account for the impact of evaluation on business metrics"
   ]
  },
  {
   "attachments": {},
   "cell_type": "markdown",
   "metadata": {},
   "source": [
    "### A/B testing as a baseline"
   ]
  },
  {
   "attachments": {},
   "cell_type": "markdown",
   "metadata": {},
   "source": [
    "Let's say the probability of a false positive stay below 0.05 and the probability of false negative stay below 0.20.\n",
    "\n",
    "These limits---0.05 and 0.20---became standard values long ago in practical experiment design. They are convenient because, as probabilities, they are unitless---that is, they don't reference any domain-specific quantities like CTR, dollars of revenue, etc.---and so may be applied across experiments from a broad range of fields. Additionally, the standardization of these probability limits makes it easier to communicate results from one experimenter to another, as all experimenters build an intuition for the quality of results that is implied by 0.05 and 0.20.\n",
    "\n",
    "When optimizing an engineered system, we want to increase a business metric, like CTR. An A/B test would increase CTR by\n",
    "\n",
    "1.  Determining via experiment whether version A of your click model has a better or worse CTR than version B does, then\n",
    "2.  Running the better version from now on\n",
    "\n",
    "Step 2 produces a high CTR---the maximum of A's CTR and B's CTR. We won't change that.\n",
    "\n",
    "Taking a measurement of version A or B (in step 1) means exposing real users to it and getting or losing their clicks, so what you choose to measure has real impact on your bottom line. Knowing that, let's modify step 1 so that during the experiment we more often measure whichever version (A or B) has a higher CTR. Our goal is to take as many measurements of the better version as we can while still taking *enough* measurements of the worse version to be sure it's worse.\n",
    "\n",
    "To get started, let's create a simulation of the ad-selection system. We'll call the current version of the click model A (as usual) and simulate it so that the system produces a CTR of 0.005 (one half of 1%). According to the stats reported by LinkedIn (<http://mng.bz/gRzE>) for 2019, a CTR of 0.0050 for banner ads is a bit below the average of 0.0060 (0.60%). Knowing that, we propose a new click model, B, that we hope is better. For the purpose of presentation, we'll simulate the system with B so that it produces a CTR of 0.0070, above the industry average. See the following listing for the Python code that implements the simulation."
   ]
  },
  {
   "cell_type": "code",
   "execution_count": 2,
   "metadata": {},
   "outputs": [],
   "source": [
    "# Simulate measurement of click on an ad\n",
    "def measure_click(ctr):\n",
    "    return 1 if np.random.uniform(0,1) < ctr else 0\n",
    "\n",
    "def measure_a():\n",
    "    return measure_click(ctr=0.0050)\n",
    "\n",
    "def measure_b():\n",
    "    return measure_click(ctr=0.0070)"
   ]
  },
  {
   "attachments": {},
   "cell_type": "markdown",
   "metadata": {},
   "source": [
    "The function measure_click() returns the value 1 to simulate the event \"the user clicked on the ad\" or the value 0 to simulate \"the user didn't click on the ad.\" It returns 1 with probability ctr. The expectation of measure_click(ctr) is the value ctr---that is, if we could take the average of infinitely many return values of measure_click(ctr), that average would be ctr. As such, the expected value of measure_A() is .0050 and the expected value of measure_B() is .0070. Or we could say, \"The expected CTR of version A is .0050\" (and similarly for B).\n",
    "\n",
    "Next, let's simulate an A/B test following the steps:\n",
    "\n",
    "1.  Run a pilot study to measure sd_1_delta, which we'll abbreviate as sd_1 here.\n",
    "2.  Define a practical significance level, prac_sig.\n",
    "3.  Calculate the number of individual measurements to take, num_ind.\n",
    "\n",
    "An individual measurement consists of displaying a single ad and recording whether it was clicked on. See the following listing for the A/B test design. Let's take prac_sig = 0.001. Given that 0.0050 is our current CTR, an improvement of 0.001 would mean 20% more revenue per day."
   ]
  },
  {
   "cell_type": "code",
   "execution_count": 3,
   "metadata": {},
   "outputs": [],
   "source": [
    "# Design an A/B test\n",
    "def design_ab_test():\n",
    "    def pilot_study(num_pilot_measurements):\n",
    "        clicked_pre_a = np.array([measure_a() for _ in range(num_pilot_measurements)])\n",
    "        clicked_pre_b = np.array([measure_b() for _ in range(num_pilot_measurements)])\n",
    "        sd_1 = np.sqrt( clicked_pre_a.std()**2 + clicked_pre_b.std()**2 )  \n",
    "        return sd_1\n",
    "    \n",
    "    sd_1 = pilot_study(1000)\n",
    "    prac_sig = 0.001    \n",
    "    num_ind = (2.48 * sd_1 / prac_sig) ** 2\n",
    "    return int(num_ind)"
   ]
  },
  {
   "attachments": {},
   "cell_type": "markdown",
   "metadata": {},
   "source": [
    "The design of an A/B test comes down to the prescription of how many individual measurements to take. For this scenario, we need:"
   ]
  },
  {
   "cell_type": "code",
   "execution_count": 4,
   "metadata": {},
   "outputs": [
    {
     "data": {
      "text/plain": [
       "91561"
      ]
     },
     "execution_count": 4,
     "metadata": {},
     "output_type": "execute_result"
    }
   ],
   "source": [
    "np.random.seed(17)\n",
    "design_ab_test()"
   ]
  },
  {
   "attachments": {},
   "cell_type": "markdown",
   "metadata": {},
   "source": [
    "This produces num_ind = 91561, nearly 100,000, individual measurements. If you don't work in online advertising, that might seem like a lot of measurements, but consider that if 0.5% of 100,000 users clicked on an ad, your site would earn only $500. Since CTRs are small, you need to show lots of ads to sustain a business."
   ]
  },
  {
   "attachments": {},
   "cell_type": "markdown",
   "metadata": {},
   "source": [
    "Simulating the A/B test is straightforward: For each individual measurement, we'll randomize between A and B. See below listing for the code. The randomization is taken care of by the condition `np.random.uniform(0,1) < 0.5`, where a random number chosen with uniform probability between 0 and 1 is less than 0.5 with probability 0.5. In other words, choose A half the time and choose B half the time."
   ]
  },
  {
   "cell_type": "code",
   "execution_count": 5,
   "metadata": {},
   "outputs": [],
   "source": [
    "# Simulate a run of an A/B test\n",
    "def run_ab_test(num_ind):\n",
    "    clicked_a = []\n",
    "    clicked_b = []\n",
    "    for n in range(num_ind):\n",
    "        # Randomize between A and B.\n",
    "        if np.random.uniform(0,1) < 0.5:\n",
    "            clicked = measure_a()\n",
    "            clicked_a.append(clicked)\n",
    "        else:\n",
    "            clicked = measure_b()\n",
    "            clicked_b.append(clicked)\n",
    "\n",
    "    clicked_a = np.array(clicked_a)\n",
    "    clicked_b = np.array(clicked_b)\n",
    "    \n",
    "    return clicked_a, clicked_b"
   ]
  },
  {
   "attachments": {},
   "cell_type": "markdown",
   "metadata": {},
   "source": [
    "To complete the experiment, we would run an analysis like below, where we compute the z score from the logged data, clicked_a and clicked_b."
   ]
  },
  {
   "cell_type": "code",
   "execution_count": 6,
   "metadata": {},
   "outputs": [],
   "source": [
    "# Analyze the A/B test data\n",
    "def analyze_a_b_test(clicked_a, clicked_b):   \n",
    "    mean_a = clicked_a.mean()\n",
    "    mean_b = clicked_b.mean()\n",
    "    std_a = clicked_a.std()\n",
    "    std_b = clicked_b.std()\n",
    "    m = mean_b - mean_a\n",
    "    se = np.sqrt((std_a**2 + std_b**2) / num_ind)\n",
    "    z = m / se\n",
    "    \n",
    "    return z"
   ]
  },
  {
   "cell_type": "code",
   "execution_count": 7,
   "metadata": {},
   "outputs": [
    {
     "name": "stdout",
     "output_type": "stream",
     "text": [
      "91561 2.954555022088617\n"
     ]
    }
   ],
   "source": [
    "np.random.seed(17)\n",
    "num_ind = design_ab_test()\n",
    "clicked_A, clicked_B = run_ab_test(num_ind)\n",
    "z = analyze_a_b_test(clicked_A, clicked_B)\n",
    "print(num_ind, z)"
   ]
  },
  {
   "attachments": {},
   "cell_type": "markdown",
   "metadata": {},
   "source": [
    "This yields z = 2.95. Since z > 1.64, we would accept the change and replace model A with model B.\n",
    "\n",
    "Before the A/B test ran, the production system used model A, which produced a CTR of 0.0050. After the A/B test completed, the system would have used B, which produces CTR = 0.0070. During the A/B test, however, the system was randomizing between A and B, using each version half of the time. The CTR achieved by the system during the A/B test is, thus, just the average of A's and B's CTRs, or (0.0050 + 0.0070)/2 = 0.0060.\n",
    "\n",
    "We couldn't have known B was better than A until after we ran the A/B test, but now that we know, we can look back and say that if we had run B instead of running an A/B test, we could have earned CTR = 0.0070 instead of the A/B test's CTR = 0.0060. The term used in multi-armed bandit literature to describe this lost opportunity is *regret*. We say that the A/B test produced a regret of:\n",
    "\n",
    "```\n",
    "CTR of model B - CTR of the A/B test = 0.0070 - 0.0060 = 0.0010\n",
    "```\n",
    "\n",
    "We missed out on 0.0010 CTR by running the A/B test instead of running model B.\n",
    "\n",
    "Let's delve deeper to understand how the CTR evolves while the A/B test is running. Listing below runs the A/B test again but instruments it to count the number of ads displayed and the number of ads that are clicked on. clicked_a and clicked_b have been removed in favor of counting the number of ads and clicks for A and B separately."
   ]
  },
  {
   "cell_type": "code",
   "execution_count": 8,
   "metadata": {},
   "outputs": [],
   "source": [
    "# Trace the CTR as the A/B test runs\n",
    "def ab_test(num_ind):\n",
    "    sum_clicks = 0.0\n",
    "    num_ads = 0.0\n",
    "    sum_a = 0.0\n",
    "    num_a = 0\n",
    "    sum_b = 0.0\n",
    "    num_b = 0\n",
    "\n",
    "    ctr_vs_n = []\n",
    "    ctr_a = []\n",
    "    ctr_b = []\n",
    "    for n in range(num_ind):\n",
    "        if np.random.uniform(0,1) < 0.5:\n",
    "            clicked = measure_a()\n",
    "            sum_a += clicked\n",
    "            num_a += 1\n",
    "        else:\n",
    "            clicked = measure_b()\n",
    "            sum_b += clicked\n",
    "            num_b += 1\n",
    "        sum_clicks += clicked\n",
    "        num_ads += 1\n",
    "        if num_a > 0 and num_b > 0:\n",
    "            ctr_a.append(sum_a/num_a)\n",
    "            ctr_b.append(sum_b/num_b)\n",
    "            ctr_vs_n.append(sum_clicks/num_ads)            \n",
    "    \n",
    "    return ctr_vs_n, ctr_a, ctr_b"
   ]
  },
  {
   "cell_type": "code",
   "execution_count": 9,
   "metadata": {},
   "outputs": [],
   "source": [
    "np.random.seed(17)\n",
    "ctr_vs_n, ctr_a, ctr_b = ab_test(num_ind)"
   ]
  },
  {
   "cell_type": "code",
   "execution_count": 10,
   "metadata": {},
   "outputs": [
    {
     "data": {
      "image/png": "[encoded data removed]",
      "text/plain": [
       "<Figure size 432x288 with 1 Axes>"
      ]
     },
     "metadata": {
      "needs_background": "light"
     },
     "output_type": "display_data"
    }
   ],
   "source": [
    "plt.plot(ctr_vs_n, '--', color=\"blue\");\n",
    "plt.xlabel('n, index to individual measurement')\n",
    "plt.ylabel('CTR up through n');\n",
    "plt.show()"
   ]
  },
  {
   "attachments": {},
   "cell_type": "markdown",
   "metadata": {},
   "source": [
    "The trace of CTR in the above figure fluctuates wildly initially---when fewer samples are included in it---then settles down to a final value of about 0.0058, which is close to the expected value of 0.0060. Running ab_test() 100 times produces final CTR values with mean 0.0060 and standard deviation 0.0002. Figure below shows the mean and standard deviation of all 100 traces."
   ]
  },
  {
   "cell_type": "code",
   "execution_count": 11,
   "metadata": {},
   "outputs": [],
   "source": [
    "def run_multi(trace_fn, num=100):\n",
    "    traces = []\n",
    "    n = 1e99\n",
    "    for _ in range(num):\n",
    "        trace = trace_fn()\n",
    "        n = min(n, len(trace))\n",
    "        traces.append(trace)\n",
    "\n",
    "    traces_aligned = []\n",
    "    for t in traces:\n",
    "        traces_aligned.append(t[-n:])\n",
    "    traces = np.array(traces_aligned)\n",
    "\n",
    "    means = traces.mean(axis=0)\n",
    "    stds = traces.std(axis=0)\n",
    "    \n",
    "    return means, stds"
   ]
  },
  {
   "cell_type": "code",
   "execution_count": 12,
   "metadata": {},
   "outputs": [
    {
     "name": "stdout",
     "output_type": "stream",
     "text": [
      "0.00602418060091087 0.00026882061258969557\n"
     ]
    }
   ],
   "source": [
    "np.random.seed(17)\n",
    "means_ab, stds_ab = run_multi(lambda: ab_test(num_ind)[0], 100)\n",
    "print(means_ab[-1], stds_ab[-1])"
   ]
  },
  {
   "cell_type": "code",
   "execution_count": 14,
   "metadata": {},
   "outputs": [
    {
     "data": {
      "image/png": "[encoded data removed]",
      "text/plain": [
       "<Figure size 432x288 with 1 Axes>"
      ]
     },
     "metadata": {
      "needs_background": "light"
     },
     "output_type": "display_data"
    }
   ],
   "source": [
    "n = np.arange(len(means_ab))[::100]\n",
    "plt.fill_between(n,\n",
    "                 (means_ab-stds_ab/2)[::100],\n",
    "                 (means_ab+stds_ab/2)[::100],\n",
    "                 color=\"grey\", alpha=.75, linewidth=1)\n",
    "\n",
    "plt.plot(n, means_ab[::100], '-', color=\"blue\")\n",
    "c = plt.axis()\n",
    "plt.xlabel('n, index to individual measurement')\n",
    "plt.ylabel('CTR up through n');\n",
    "plt.axis([c[0], c[1], .0040, .0080]);\n",
    "plt.show()"
   ]
  },
  {
   "attachments": {},
   "cell_type": "markdown",
   "metadata": {},
   "source": [
    "The second and third outputs for ab_test()---ctr_a and ctr_b---trace the CTR up through measurement n for A and B separately. For example, ctr_a traces the CTR only for ads selected using click model A, and similarly for ctr_b. These two traces, plotted in figure below, let us see how each version's CTR measurement evolves over time and how they compare."
   ]
  },
  {
   "cell_type": "code",
   "execution_count": 16,
   "metadata": {},
   "outputs": [
    {
     "name": "stdout",
     "output_type": "stream",
     "text": [
      "0.0051003727195448895 0.006085547918217241\n"
     ]
    },
    {
     "data": {
      "image/png": "[encoded data removed]",
      "text/plain": [
       "<Figure size 432x288 with 1 Axes>"
      ]
     },
     "metadata": {
      "needs_background": "light"
     },
     "output_type": "display_data"
    }
   ],
   "source": [
    "plt.plot(ctr_a, '-', color=\"blue\");\n",
    "plt.plot(ctr_b, '--', color=\"green\");\n",
    "print(ctr_a[-1], ctr_b[-1])\n",
    "plt.xlabel('n, index to individual measurement')\n",
    "plt.ylabel('CTR up through n');\n",
    "plt.legend(['CTR A', 'CTR B'])\n",
    "plt.annotate(\"CTR A > CTR B\", xy=[10000, .0080],\n",
    "             xytext=[50000, .015],\n",
    "             arrowprops=arrow_props\n",
    "            )\n",
    "plt.annotate(\"CTR A < CTR B\", xy=[80000, .0070],\n",
    "             xytext=[70000, .010],\n",
    "             arrowprops=arrow_props\n",
    "            )\n",
    "plt.show()"
   ]
  },
  {
   "attachments": {},
   "cell_type": "markdown",
   "metadata": {},
   "source": [
    "If I were running this A/B test and monitoring CTR A and CTR B, I might be tempted to stop around n = 100.000 or so. Seeing B consistently outperform A would make me want to accept B so that the system would earn B's CTR of 0.0070, rather than the blended CTR of 0.0050. But I know stopping an A/B test early generates false positives.\n",
    "\n",
    "This tension between wanting to capitalize on the higher-performing B version as soon as possible and the desire to avoid a false-positive acceptance can be resolved by modifying A/B testing's randomization procedure to preferentially choose the better of A and B. This proposal is the epsilon-greedy algorithm, and it is one solution to the multi-armed bandit problem."
   ]
  },
  {
   "cell_type": "markdown",
   "metadata": {},
   "source": [
    "### 3.1.2\tThe epsilon-greedy algorithm"
   ]
  },
  {
   "attachments": {},
   "cell_type": "markdown",
   "metadata": {},
   "source": [
    "Instead of choosing between A and B with equal probability, p(A) = p(B) = 0.5, epsilon-greedy assigns a higher probability to whichever version, A or B, has produced a higher CTR so far.\n",
    "\n",
    "Epsilon-greedy works like this: With probability 1-epsilon, use whichever version has a higher CTR so far. Otherwise, with probability epsilon, act like an A/B test and just choose between A and B with equal probability.\n",
    "\n",
    "To convert A/B test logic to epsilon-greedy logic.\n",
    "\n",
    "Notice that if we set epsilon = 1, then the first branch is never executed because np.random.uniform(0,1) is never less than 1 - epsilon = 0. Similarly, if we set epsilon = 0, the second branch is never executed. The value of epsilon determines how strongly epsilon-greedy's randomization is biased toward the higher-CTR version of the system. In addition, epsilon is a parameter of the epsilon-greedy algorithm, not a parameter of the system itself. To make that distinction clear, we refer to epsilon as a metaparameter."
   ]
  },
  {
   "cell_type": "code",
   "execution_count": 17,
   "metadata": {},
   "outputs": [],
   "source": [
    "# The epsilon-greedy algorithm\n",
    "def epsilon_greedy(num_ind, epsilon):\n",
    "    sum_clicks = 0.0\n",
    "    num_ads = 0.0\n",
    "    sum_a = 0.0\n",
    "    num_a = 0\n",
    "    sum_b = 0.0\n",
    "    num_b = 0\n",
    "    ctr_vs_n = []\n",
    "    used_b = []\n",
    "    for _ in range(int(num_ind)):\n",
    "        select = \"Randomize\"\n",
    "        if np.random.uniform(0,1) < 1-epsilon:\n",
    "            ctr_a = sum_a/num_a if num_a>0 else 0\n",
    "            ctr_b = sum_b/num_b if num_b>0 else 0\n",
    "            if ctr_a > ctr_b:\n",
    "                select = \"A\"\n",
    "            elif ctr_b > ctr_a:\n",
    "                select = \"B\"\n",
    "            # else, if they're equal, randomize\n",
    "            \n",
    "        if select == \"Randomize\":\n",
    "            if np.random.uniform(0,1) < 0.5:\n",
    "                select = \"A\"\n",
    "            else:\n",
    "                select = \"B\"\n",
    "                \n",
    "        if select == \"A\":\n",
    "            clicked = measure_a()\n",
    "            sum_a += clicked\n",
    "            num_a += 1\n",
    "            used_b.append(False)\n",
    "        else:\n",
    "            clicked = measure_b()\n",
    "            sum_b += clicked\n",
    "            num_b += 1\n",
    "            used_b.append(True)\n",
    "        sum_clicks += clicked\n",
    "        num_ads += 1\n",
    "        \n",
    "        ctr_vs_n.append(sum_clicks / num_ads)\n",
    "    \n",
    "    return ctr_vs_n, used_b"
   ]
  },
  {
   "cell_type": "code",
   "execution_count": 18,
   "metadata": {},
   "outputs": [
    {
     "name": "stdout",
     "output_type": "stream",
     "text": [
      "0.007164622492109086\n"
     ]
    }
   ],
   "source": [
    "np.random.seed(17)\n",
    "ctr_eps_greedy = epsilon_greedy(num_ind=num_ind, epsilon=0.1)[0]\n",
    "print(ctr_eps_greedy[-1])"
   ]
  },
  {
   "attachments": {},
   "cell_type": "markdown",
   "metadata": {},
   "source": [
    "As shown, epsilon_greedy() computes summary statistics---ctr_a and ctr_b---and uses them to make a better decision about which version, A or B, to use for each individual measurement. In this way, epsilon-greedy is adaptive (i.e., it modifies its decisions based on the data it has seen so far). In contrast, A/B testing does not adapt to the data. It always randomizes between A and B equally."
   ]
  },
  {
   "cell_type": "code",
   "execution_count": 19,
   "metadata": {},
   "outputs": [
    {
     "data": {
      "image/png": "[encoded data removed]",
      "text/plain": [
       "<Figure size 432x288 with 1 Axes>"
      ]
     },
     "metadata": {
      "needs_background": "light"
     },
     "output_type": "display_data"
    }
   ],
   "source": [
    "plt.plot(ctr_vs_n, '-', color=\"blue\");\n",
    "plt.plot(ctr_eps_greedy, '--', color=\"green\");\n",
    "plt.xlabel('n, index to individual measurement')\n",
    "plt.ylabel('CTR up through n');\n",
    "plt.legend(['A/B test', 'epsilon-greedy'])\n",
    "plt.show()"
   ]
  },
  {
   "attachments": {},
   "cell_type": "markdown",
   "metadata": {},
   "source": [
    "The epsilon-greedy algorithm achieves a higher CTR (about .0067) than an A/B test (about .0058) by using whichever version—A or B—has better realized performance 90% of the time and only 10% of time randomly choosing between A and B."
   ]
  },
  {
   "cell_type": "code",
   "execution_count": 20,
   "metadata": {},
   "outputs": [
    {
     "name": "stdout",
     "output_type": "stream",
     "text": [
      "0.006726444665305099 0.0004502734349471643\n"
     ]
    }
   ],
   "source": [
    "np.random.seed(17)\n",
    "means_eg, stds_eg = run_multi(lambda: epsilon_greedy(num_ind, .1)[0], 100)\n",
    "print(means_eg[-1], stds_eg[-1])"
   ]
  },
  {
   "attachments": {},
   "cell_type": "markdown",
   "metadata": {},
   "source": [
    "Figure below shows 100 runs of ab_test() compared to 100 runs of epsilon_greedy(): epsilon_greedy() consistently achieves higher CTR. The final, mean CTR of epsilon_greedy() is 0.0068, which is close to the maximum of 0.0070, the CTR of B."
   ]
  },
  {
   "cell_type": "code",
   "execution_count": 21,
   "metadata": {},
   "outputs": [
    {
     "data": {
      "image/png": "[encoded data removed]",
      "text/plain": [
       "<Figure size 432x288 with 1 Axes>"
      ]
     },
     "metadata": {
      "needs_background": "light"
     },
     "output_type": "display_data"
    }
   ],
   "source": [
    "means_eg_tr = means_eg[-len(means_ab):]\n",
    "stds_eg_tr = stds_eg[-len(stds_ab):]\n",
    "n = np.arange(len(means_ab))[::100]\n",
    "\n",
    "plt.fill_between(n,\n",
    "                 (means_ab-stds_ab/2)[::100],\n",
    "                 (means_ab+stds_ab/2)[::100],\n",
    "                 color=\"grey\", alpha=.75, linewidth=1)\n",
    "plt.plot(n, means_ab[::100], '--', color=\"blue\")\n",
    "\n",
    "plt.fill_between(n,\n",
    "                 (means_eg_tr-stds_eg_tr/2)[::100],\n",
    "                 (means_eg_tr+stds_eg_tr/2)[::100],\n",
    "                 color=\"green\", alpha=.75, linewidth=1)\n",
    "plt.plot(n, means_eg_tr[::100], '-', color=\"green\")\n",
    "\n",
    "\n",
    "\n",
    "c = plt.axis()\n",
    "plt.xlabel('n, index to individual measurement')\n",
    "plt.ylabel('CTR up through n');\n",
    "plt.legend(['A/B test','epsilon-greedy'])\n",
    "plt.axis([c[0], c[1], .0040, .0080]);\n",
    "plt.show()"
   ]
  },
  {
   "attachments": {},
   "cell_type": "markdown",
   "metadata": {},
   "source": [
    "Figure below compares the percentage of the 100 runs in which B is selected for measurement to that in which A is selected."
   ]
  },
  {
   "cell_type": "code",
   "execution_count": 22,
   "metadata": {},
   "outputs": [],
   "source": [
    "def run_multi_selection_rates(selected_fn, num=100):\n",
    "    selected = []\n",
    "    for _ in range(num):\n",
    "        selected.append(selected_fn())\n",
    "\n",
    "    selected = np.array(selected)\n",
    "    indices = np.unique(selected)\n",
    "    rate_selected = []\n",
    "    for i in indices:\n",
    "        chis = selected==i\n",
    "        rate_selected.append(chis.mean(axis=0))\n",
    "    rate_selected = np.array(rate_selected)\n",
    "    \n",
    "    return indices, rate_selected"
   ]
  },
  {
   "cell_type": "code",
   "execution_count": 23,
   "metadata": {},
   "outputs": [
    {
     "name": "stdout",
     "output_type": "stream",
     "text": [
      "[False  True]\n"
     ]
    }
   ],
   "source": [
    "indices, rate_selected = run_multi_selection_rates(lambda: epsilon_greedy(num_ind, .1)[-1], 100)\n",
    "print(indices)"
   ]
  },
  {
   "cell_type": "code",
   "execution_count": 24,
   "metadata": {},
   "outputs": [
    {
     "data": {
      "image/png": "[encoded data removed]",
      "text/plain": [
       "<Figure size 432x288 with 1 Axes>"
      ]
     },
     "metadata": {
      "needs_background": "light"
     },
     "output_type": "display_data"
    }
   ],
   "source": [
    "n = np.arange(rate_selected.shape[1])\n",
    "plt.plot(n[::10], 100*rate_selected[0,:][::10], '.', color=\"green\");\n",
    "plt.plot(n[::10], 100*rate_selected[1,:][::10], '.', color=\"grey\");\n",
    "plt.legend(['A selected', 'B selected'], markerscale=3)\n",
    "plt.ylabel('Percentage of runs')\n",
    "plt.xlabel('n, index to individual measurement')\n",
    "plt.show()"
   ]
  },
  {
   "attachments": {},
   "cell_type": "markdown",
   "metadata": {},
   "source": [
    "### Deciding when to stop"
   ]
  },
  {
   "attachments": {},
   "cell_type": "markdown",
   "metadata": {},
   "source": [
    "In our formulation of the epsilon-greedy algorithm so far, there is no prescription to stop exploring. In the preceding simulations, we chose num_ind, the number of measurements, using A/B test design so that we could compare A/B testing to epsilon-greedy. But if you chose to use epsilon-greedy in practice, there would be no natural point at which you'd make an acceptance/rejection decision. The A/B test-designed num_ind value doesn't apply here, because it was chosen to limit false positives and negatives. Instead, the goal with epsilon-greedy is to maximize a business metric, like CTR.\n",
    "\n",
    "We can get epsilon-greedy to stop with a slight modification to the algorithm:"
   ]
  },
  {
   "cell_type": "code",
   "execution_count": 25,
   "metadata": {},
   "outputs": [],
   "source": [
    "# Epsilon-greedy with decaying epsilon\n",
    "def epsilon_greedy_decay():\n",
    "    bm_max = 0.01\n",
    "    prac_sig = 0.001\n",
    "    c = 5\n",
    "    \n",
    "    epsilon_0 = 2*c*(bm_max/prac_sig)**2\n",
    "    epsilon_stop = 0.01\n",
    "    \n",
    "    sum_clicks = 0.0\n",
    "    num_ads = 0.0\n",
    "    sum_a = 0.0\n",
    "    num_a = 0\n",
    "    sum_b = 0.0\n",
    "    num_b = 0\n",
    "    ctr_vs_n = []\n",
    "    epsilons = []\n",
    "    \n",
    "    n = 0\n",
    "    selected = None\n",
    "    while True:\n",
    "        epsilon = min(1.0, epsilon_0 / (1.0 + n))\n",
    "        epsilons.append(epsilon)\n",
    "        if epsilon < epsilon_stop:\n",
    "            break\n",
    "        select = \"Randomize\"\n",
    "        if np.random.uniform(0,1) < 1-epsilon:\n",
    "            ctr_a = sum_a/num_a if num_a>0 else 0\n",
    "            ctr_b = sum_b/num_b if num_b>0 else 0\n",
    "            if ctr_a > ctr_b:\n",
    "                select = \"A\"\n",
    "                selected = \"A\"\n",
    "            elif ctr_b > ctr_a:\n",
    "                select = \"B\"\n",
    "                selected = \"B\"\n",
    "        if select == \"Randomize\":\n",
    "            if np.random.uniform(0,1) < 0.5:\n",
    "                select = \"A\"\n",
    "            else:\n",
    "                select = \"B\"\n",
    "\n",
    "        if select == \"A\":\n",
    "            clicked = measure_a()\n",
    "            sum_a += clicked\n",
    "            num_a += 1\n",
    "        else:\n",
    "            clicked = measure_b()\n",
    "            sum_b += clicked\n",
    "            num_b += 1\n",
    "        sum_clicks += clicked\n",
    "        num_ads += 1\n",
    "        \n",
    "        ctr_vs_n.append(sum_clicks / num_ads)\n",
    "        n += 1\n",
    "\n",
    "    if selected == \"B\":\n",
    "        accept_reject = \"Accept\"\n",
    "    else:\n",
    "        accept_reject = \"Reject\"\n",
    "    return ctr_vs_n, epsilons, accept_reject"
   ]
  },
  {
   "cell_type": "code",
   "execution_count": 26,
   "metadata": {},
   "outputs": [
    {
     "name": "stdout",
     "output_type": "stream",
     "text": [
      "100000 0.00714 Accept\n"
     ]
    }
   ],
   "source": [
    "np.random.seed(17)\n",
    "ctr_eps_greedy_decay, epsilons, accept_reject = epsilon_greedy_decay()\n",
    "print(len(ctr_eps_greedy_decay), ctr_eps_greedy_decay[-1], accept_reject)"
   ]
  },
  {
   "cell_type": "code",
   "execution_count": 29,
   "metadata": {},
   "outputs": [
    {
     "data": {
      "image/png": "[encoded data removed]",
      "text/plain": [
       "<Figure size 432x288 with 1 Axes>"
      ]
     },
     "metadata": {
      "needs_background": "light"
     },
     "output_type": "display_data"
    },
    {
     "data": {
      "text/plain": [
       "0.00999990000099999"
      ]
     },
     "execution_count": 29,
     "metadata": {},
     "output_type": "execute_result"
    }
   ],
   "source": [
    "plt.semilogy(epsilons, '--', color=\"blue\");\n",
    "plt.xlabel('n, index to individual measurement')\n",
    "plt.ylabel('epsilon used at n');\n",
    "horizontal_line(.01)\n",
    "plt.show()\n",
    "epsilons[-1]"
   ]
  },
  {
   "attachments": {},
   "cell_type": "markdown",
   "metadata": {},
   "source": [
    "## Evaluate multiple system changes simultaneously"
   ]
  },
  {
   "cell_type": "code",
   "execution_count": 30,
   "metadata": {},
   "outputs": [],
   "source": [
    "def run_multi_ragged(trace_fn, num=100):\n",
    "    finals = []\n",
    "    for _ in range(num):\n",
    "        trace = trace_fn()\n",
    "        finals.append(trace[-1])\n",
    "    finals = np.array(finals)\n",
    "    mean = finals.mean()\n",
    "    std = finals.std()\n",
    "    \n",
    "    return mean, std"
   ]
  },
  {
   "cell_type": "code",
   "execution_count": 31,
   "metadata": {},
   "outputs": [
    {
     "name": "stdout",
     "output_type": "stream",
     "text": [
      "0.96 0.19595917942265423\n"
     ]
    }
   ],
   "source": [
    "np.random.seed(17)\n",
    "mean_selected, std_selected = run_multi_ragged(lambda: [int(epsilon_greedy_decay()[-1] == \"Accept\")], 100)\n",
    "print(mean_selected, std_selected)"
   ]
  },
  {
   "cell_type": "code",
   "execution_count": 32,
   "metadata": {},
   "outputs": [],
   "source": [
    "def epsilon_greedy_decay_compare(num_ind):\n",
    "    # Run for N measurements ignoring epsilon_stop\n",
    "    \n",
    "    bm_max = 0.01\n",
    "    prac_sig = 0.001\n",
    "    \n",
    "    epsilon_0 = 2*5*(bm_max/prac_sig)**2\n",
    "    \n",
    "    sum_clicks = 0.0\n",
    "    num_ads = 0.0\n",
    "    sum_a = 0.0\n",
    "    num_a = 0\n",
    "    sum_b = 0.0\n",
    "    num_b = 0\n",
    "    ctr_vs_n = []\n",
    "    epsilons = []\n",
    "    \n",
    "    selected = None\n",
    "    for n in range(num_ind):\n",
    "        epsilon = min(1.0, epsilon_0 / (1.0 + n))\n",
    "        epsilons.append(epsilon)\n",
    "        select = \"Randomize\"\n",
    "        if np.random.uniform(0,1) < 1-epsilon:\n",
    "            ctr_a = sum_a/num_a if num_a>0 else 0\n",
    "            ctr_b = sum_b/num_b if num_b>0 else 0\n",
    "            if ctr_a > ctr_b:\n",
    "                select = \"A\"\n",
    "                selected = \"A\"\n",
    "            elif ctr_b > ctr_a:\n",
    "                select = \"B\"\n",
    "                selected = \"B\"\n",
    "            \n",
    "            # else, if they're equal, randomize\n",
    "            \n",
    "        if select == \"Randomize\":\n",
    "            if np.random.uniform(0,1) < 0.5:\n",
    "                select = \"A\"\n",
    "            else:\n",
    "                select = \"B\"\n",
    "                \n",
    "        if select == \"A\":\n",
    "            clicked = measure_a()\n",
    "            sum_a += clicked\n",
    "            num_a += 1\n",
    "        else:\n",
    "            clicked = measure_b()\n",
    "            sum_b += clicked\n",
    "            num_b += 1\n",
    "        sum_clicks += clicked\n",
    "        num_ads += 1\n",
    "        \n",
    "        ctr_vs_n.append(sum_clicks / num_ads)\n",
    "\n",
    "    if selected == \"B\":\n",
    "        accept_reject = \"Accept\"\n",
    "    else:\n",
    "        accept_reject = \"Reject\"\n",
    "    return ctr_vs_n, epsilons, accept_reject"
   ]
  },
  {
   "cell_type": "code",
   "execution_count": 33,
   "metadata": {},
   "outputs": [
    {
     "name": "stdout",
     "output_type": "stream",
     "text": [
      "0.006793394567556058 0.0005296632156451808\n"
     ]
    }
   ],
   "source": [
    "np.random.seed(17)\n",
    "means_eg_dc, stds_eg_dc = run_multi(lambda: epsilon_greedy_decay_compare(num_ind)[0], 100)\n",
    "print(means_eg_dc[-1], stds_eg_dc[-1])"
   ]
  },
  {
   "cell_type": "code",
   "execution_count": 34,
   "metadata": {},
   "outputs": [
    {
     "name": "stdout",
     "output_type": "stream",
     "text": [
      "[0.95] [0.21794495]\n"
     ]
    }
   ],
   "source": [
    "np.random.seed(17)\n",
    "mean_selected, std_selected = run_multi(lambda: [int(epsilon_greedy_decay_compare(num_ind)[-1]==\"Accept\")], 100)\n",
    "print(mean_selected, std_selected)"
   ]
  },
  {
   "cell_type": "code",
   "execution_count": 35,
   "metadata": {},
   "outputs": [],
   "source": [
    "# Simulate several click models\n",
    "def measure_arm(i_arm):\n",
    "    return measure_click(ctr=.005 + i_arm*.002)"
   ]
  },
  {
   "cell_type": "code",
   "execution_count": 36,
   "metadata": {},
   "outputs": [],
   "source": [
    "# Epsilon-greedy with four arms\n",
    "def epsilon_greedy_decay_multi():\n",
    "    bm_max = 0.01\n",
    "    prac_sig = 0.001\n",
    "    k = 4\n",
    "    c = 5\n",
    "    \n",
    "    epsilon_0 = k*c*(bm_max/prac_sig)**2\n",
    "    epsilon_stop = 0.01\n",
    "    \n",
    "    sum_clicks = 0.0\n",
    "    num_ads = 0.0\n",
    "    sum_arm = [0.0]*k\n",
    "    num_arm = [0.0]*k\n",
    "    ctr_vs_n = []\n",
    "    \n",
    "    n = 0\n",
    "    arms_selected = []\n",
    "    while True:\n",
    "        epsilon = min(1.0, epsilon_0 / (1.0 + n))\n",
    "        if epsilon < epsilon_stop:\n",
    "            break\n",
    "        i_selected = None\n",
    "        if np.random.uniform(0,1) < 1-epsilon:\n",
    "            max_ctr = None\n",
    "            for i in range(k):\n",
    "                if num_arm[i] > 0:\n",
    "                    ctr_arm = sum_arm[i] / num_arm[i]\n",
    "                else:\n",
    "                    ctr_arm = 0\n",
    "                # break ties by randomizing\n",
    "                ctr_arm += 1e-9 * np.random.normal()\n",
    "                if max_ctr is None or ctr_arm > max_ctr:\n",
    "                    max_ctr = ctr_arm\n",
    "                    i_selected = i\n",
    "            i_best_arm = i_selected\n",
    "        else:\n",
    "            i_selected = np.random.randint(k)\n",
    "                \n",
    "        arms_selected.append(i_selected)\n",
    "        clicked = measure_arm(i_selected)\n",
    "        sum_arm[i_selected] += clicked \n",
    "        num_arm[i_selected] += 1\n",
    "        sum_clicks += clicked\n",
    "        num_ads += 1\n",
    "        \n",
    "        ctr_vs_n.append(sum_clicks / num_ads)\n",
    "        n += 1\n",
    "\n",
    "    return ctr_vs_n, arms_selected"
   ]
  },
  {
   "cell_type": "code",
   "execution_count": 37,
   "metadata": {},
   "outputs": [
    {
     "name": "stdout",
     "output_type": "stream",
     "text": [
      "200000 0.01075 3\n"
     ]
    }
   ],
   "source": [
    "np.random.seed(17)\n",
    "ctr_epsilon_greedy_decay_multi, arms_selected = epsilon_greedy_decay_multi()\n",
    "print(len(ctr_epsilon_greedy_decay_multi), ctr_epsilon_greedy_decay_multi[-1], arms_selected[-1])"
   ]
  },
  {
   "cell_type": "code",
   "execution_count": 38,
   "metadata": {},
   "outputs": [
    {
     "name": "stdout",
     "output_type": "stream",
     "text": [
      "0.010468999999999992 0.0007421738340847109\n"
     ]
    }
   ],
   "source": [
    "np.random.seed(17)\n",
    "mean_egd, std_egd  = run_multi(lambda: epsilon_greedy_decay_multi()[0], 100)\n",
    "print(mean_egd[-1], std_egd[-1])"
   ]
  },
  {
   "cell_type": "code",
   "execution_count": 39,
   "metadata": {},
   "outputs": [
    {
     "name": "stdout",
     "output_type": "stream",
     "text": [
      "[0.81] [0.3923009]\n"
     ]
    }
   ],
   "source": [
    "np.random.seed(17)\n",
    "mean_selected, std_selected = run_multi(lambda: [int(epsilon_greedy_decay_multi()[-1][-1] == 3)], 100)\n",
    "print(mean_selected, std_selected)"
   ]
  },
  {
   "cell_type": "code",
   "execution_count": 40,
   "metadata": {},
   "outputs": [
    {
     "data": {
      "image/png": "[encoded data removed]",
      "text/plain": [
       "<Figure size 432x288 with 1 Axes>"
      ]
     },
     "metadata": {
      "needs_background": "light"
     },
     "output_type": "display_data"
    }
   ],
   "source": [
    "plt.plot(ctr_epsilon_greedy_decay_multi, '--', color=\"blue\");\n",
    "plt.xlabel('n, index to individual measurement')\n",
    "plt.ylabel('CTR up through n');\n",
    "plt.show()"
   ]
  },
  {
   "cell_type": "code",
   "execution_count": 41,
   "metadata": {},
   "outputs": [
    {
     "name": "stdout",
     "output_type": "stream",
     "text": [
      "[False  True]\n"
     ]
    }
   ],
   "source": [
    "indices_multi, rate_selected_multi = run_multi_selection_rates(lambda: epsilon_greedy_decay_multi()[-1], 100)\n",
    "print(indices)"
   ]
  },
  {
   "cell_type": "code",
   "execution_count": 44,
   "metadata": {},
   "outputs": [
    {
     "data": {
      "image/png": "[encoded data removed]",
      "text/plain": [
       "<Figure size 432x288 with 1 Axes>"
      ]
     },
     "metadata": {
      "needs_background": "light"
     },
     "output_type": "display_data"
    }
   ],
   "source": [
    "n = np.arange(rate_selected_multi.shape[1])[::10]\n",
    "legend = []\n",
    "colors = [\"blue\", \"green\", \"grey\", \"magenta\"]\n",
    "for i in range(4):\n",
    "    plt.plot(n, 100*rate_selected_multi[i,::10], '.', color=colors[i]);\n",
    "    legend.append(f'Arm {i} selected')\n",
    "plt.legend(legend, markerscale=3)\n",
    "plt.ylabel('Percentage of runs')\n",
    "plt.xlabel('n, index to individual measurement')\n",
    "\n",
    "plt.show()"
   ]
  },
  {
   "attachments": {},
   "cell_type": "markdown",
   "metadata": {},
   "source": [
    "## Thompson Sampling: A more efficient bandit algorithm"
   ]
  },
  {
   "attachments": {},
   "cell_type": "markdown",
   "metadata": {},
   "source": [
    "Epsilon greedy is simple to implement, has optimal asymptotic regret, and does a good job of demonstrating the crux of the solution to the multi-armed bandit problem: the need to trade off exploration with exploitation.\n",
    "\n",
    "But we can do better. With a little effort, we can construct an MAB algorithm that produces higher CTR while it runs, stops sooner, and doesn't have a system-dependent metaparameter like c.\n",
    "\n",
    "Thompson sampling calculates the probability that each click model (each arm) will be the best one, call it pbest(arm). The rule of Thompson sampling is that when it's time to take an individual measurement, you randomize over the arms such that the probability of measuring an arm is equal to the probability that it is the best arm.\n",
    "\n",
    "This rule is a *randomized probability matching* rule. The choice of arm to measure is randomized (so that we explore), but better-seeming arms get run more often (so we also exploit). This is an elegant way to effect the exploration-exploitation tradeoff. Estimation of the probability that an arm is the best, pbest(arm), is the core calculation of Thompson sampling."
   ]
  },
  {
   "attachments": {},
   "cell_type": "markdown",
   "metadata": {},
   "source": [
    "### Estimating the probability that an arm is the best"
   ]
  },
  {
   "cell_type": "code",
   "execution_count": 45,
   "metadata": {},
   "outputs": [],
   "source": [
    "I_clicked = np.array([0,0,1,0,1,1,0,0,1,0])"
   ]
  },
  {
   "cell_type": "code",
   "execution_count": 46,
   "metadata": {},
   "outputs": [
    {
     "name": "stdout",
     "output_type": "stream",
     "text": [
      "0.4\n"
     ]
    }
   ],
   "source": [
    "ctr = I_clicked.mean()\n",
    "print(ctr)"
   ]
  },
  {
   "cell_type": "code",
   "execution_count": 47,
   "metadata": {},
   "outputs": [
    {
     "name": "stdout",
     "output_type": "stream",
     "text": [
      "0.15491933384829668\n"
     ]
    }
   ],
   "source": [
    "se = I_clicked.std() / np.sqrt(len(I_clicked))\n",
    "print(se)"
   ]
  },
  {
   "cell_type": "code",
   "execution_count": 48,
   "metadata": {},
   "outputs": [],
   "source": [
    "# Generate a bootstrap sample from a data set\n",
    "def bootstrap_sample(data):\n",
    "    n = len(data)\n",
    "    return data[np.random.randint(n, size=(n,))]"
   ]
  },
  {
   "cell_type": "code",
   "execution_count": 49,
   "metadata": {},
   "outputs": [
    {
     "name": "stdout",
     "output_type": "stream",
     "text": [
      "[0 0 0 0 0 0 1 0 1 0]\n",
      "[0 0 0 1 1 0 0 0 0 0]\n",
      "[0 1 0 0 1 0 0 1 0 0]\n"
     ]
    }
   ],
   "source": [
    "np.random.seed(17)\n",
    "print(bootstrap_sample(I_clicked))\n",
    "print(bootstrap_sample(I_clicked))\n",
    "print(bootstrap_sample(I_clicked))"
   ]
  },
  {
   "cell_type": "code",
   "execution_count": 50,
   "metadata": {},
   "outputs": [],
   "source": [
    "def replicate_means(data, num_replications):\n",
    "    means = []\n",
    "    for _ in range(num_replications):\n",
    "        means.append(bootstrap_sample(data).mean())\n",
    "    return np.array(means)"
   ]
  },
  {
   "cell_type": "code",
   "execution_count": 51,
   "metadata": {},
   "outputs": [
    {
     "name": "stdout",
     "output_type": "stream",
     "text": [
      "0.39829999999999993\n",
      "0.15055600286936419\n"
     ]
    }
   ],
   "source": [
    "np.random.seed(17)\n",
    "ctrs = replicate_means(I_clicked, 1000)\n",
    "print(ctrs.mean())\n",
    "print(ctrs.std())"
   ]
  },
  {
   "cell_type": "code",
   "execution_count": 52,
   "metadata": {},
   "outputs": [
    {
     "data": {
      "image/png": "[encoded data removed]",
      "text/plain": [
       "<Figure size 432x288 with 1 Axes>"
      ]
     },
     "metadata": {
      "needs_background": "light"
     },
     "output_type": "display_data"
    }
   ],
   "source": [
    "np.random.seed(17)\n",
    "plt.hist(replicate_means(I_clicked, 1000), 25, color=\"blue\");\n",
    "plt.xlabel('CTR')\n",
    "plt.show()"
   ]
  },
  {
   "cell_type": "markdown",
   "metadata": {},
   "source": [
    "#### WORKING WITH FEW INDIVIDUAL MEASUREMENTS"
   ]
  },
  {
   "cell_type": "code",
   "execution_count": 53,
   "metadata": {},
   "outputs": [
    {
     "name": "stderr",
     "output_type": "stream",
     "text": [
      "<ipython-input-53-75c7b5dff7e6>:14: UserWarning: FixedFormatter should only be used together with FixedLocator\n",
      "  ax.set_yticklabels([\"\"]*len(locs))\n"
     ]
    },
    {
     "data": {
      "image/png": "[encoded data removed]",
      "text/plain": [
       "<Figure size 432x288 with 4 Axes>"
      ]
     },
     "metadata": {
      "needs_background": "light"
     },
     "output_type": "display_data"
    }
   ],
   "source": [
    "np.random.seed(17)\n",
    "fig, axs = plt.subplots(2, 2)\n",
    "i_axs = [(0,0), (0,1), (1,0), (1,1)]\n",
    "letters = [\"a\", \"b\", \"c\", \"d\"]\n",
    "num_measurements = 10\n",
    "for i, i_ax in enumerate(i_axs):\n",
    "    ax = axs[i_ax]\n",
    "    ax.hist(replicate_means(np.random.binomial(n=1, p=.4, size=(int(num_measurements+.5),)),\n",
    "                            10000), 25, color=\"blue\");\n",
    "    for label in ax.get_xticklabels():\n",
    "        label.set_fontsize(7)\n",
    "    \n",
    "    locs = ax.get_yticks()\n",
    "    ax.set_yticklabels([\"\"]*len(locs))\n",
    "    num_measurements *= 10\n",
    "    c = ax.axis()\n",
    "    ax.text(.1*c[0] + .90*c[1], .1*c[2] + .9*c[3], f\"({letters[i]})\", fontsize=7)\n",
    "\n",
    "plt.show()"
   ]
  },
  {
   "cell_type": "markdown",
   "metadata": {},
   "source": [
    "#### PROBABILITY OF BEING THE BEST ARM"
   ]
  },
  {
   "cell_type": "code",
   "execution_count": 54,
   "metadata": {},
   "outputs": [],
   "source": [
    "np.random.seed(17)\n",
    "I_clicked_1 = np.array([measure_click(ctr=.005) for _ in range(10000)])\n",
    "I_clicked_2 = np.array([measure_click(ctr=.007) for _ in range(10000)])"
   ]
  },
  {
   "cell_type": "code",
   "execution_count": 55,
   "metadata": {},
   "outputs": [
    {
     "name": "stdout",
     "output_type": "stream",
     "text": [
      "0.0042\n",
      "0.0057\n"
     ]
    }
   ],
   "source": [
    "print(I_clicked_1.mean())\n",
    "print(I_clicked_2.mean())"
   ]
  },
  {
   "cell_type": "code",
   "execution_count": 56,
   "metadata": {},
   "outputs": [
    {
     "data": {
      "image/png": "[encoded data removed]",
      "text/plain": [
       "<Figure size 432x288 with 1 Axes>"
      ]
     },
     "metadata": {
      "needs_background": "light"
     },
     "output_type": "display_data"
    }
   ],
   "source": [
    "plt.hist(replicate_means(I_clicked_1, 1000), 10, color=\"blue\", alpha=.75)\n",
    "plt.hist(replicate_means(I_clicked_2, 1000), 10, color=\"green\", alpha=.75);\n",
    "plt.legend(['Arm 1', 'Arm 2'])\n",
    "plt.xlabel('CTR')\n",
    "plt.show()"
   ]
  },
  {
   "cell_type": "code",
   "execution_count": 57,
   "metadata": {},
   "outputs": [],
   "source": [
    "# Estimate the probability of each arm being the better arm\n",
    "def estimate_pbest(I_clicked_1, I_clicked_2):\n",
    "    counts = [0, 0]\n",
    "    num_samples = 100\n",
    "    for _ in range(num_samples):\n",
    "        ctr_1 = bootstrap_sample(I_clicked_1).mean()\n",
    "        ctr_2 = bootstrap_sample(I_clicked_2).mean()\n",
    "        if ctr_1 > ctr_2:\n",
    "            counts[0] += 1\n",
    "        elif ctr_2 > ctr_1:\n",
    "            counts[1] += 1\n",
    "        else:\n",
    "            pass\n",
    "            \n",
    "    p_best = np.array(counts)/num_samples\n",
    "    return p_best"
   ]
  },
  {
   "cell_type": "code",
   "execution_count": 58,
   "metadata": {},
   "outputs": [
    {
     "data": {
      "text/plain": [
       "array([0.04, 0.95])"
      ]
     },
     "execution_count": 58,
     "metadata": {},
     "output_type": "execute_result"
    }
   ],
   "source": [
    "np.random.seed(17)\n",
    "estimate_pbest(I_clicked_1, I_clicked_2)"
   ]
  },
  {
   "cell_type": "code",
   "execution_count": 59,
   "metadata": {},
   "outputs": [],
   "source": [
    "# Estimate the probability that each arm is best\n",
    "def estimate_pbest(I_clickeds):\n",
    "    counts = [0] * len(I_clickeds)\n",
    "    num_samples = 100\n",
    "    for _ in range(num_samples):\n",
    "        ctrs = [bootstrap_sample(I_clicked).mean() for I_clicked in I_clickeds]\n",
    "        ctrs = np.array(ctrs)\n",
    "        i = np.where(ctrs == ctrs.max())[0]\n",
    "        if len(i)==1:\n",
    "            counts[i[0]] += 1\n",
    "            \n",
    "    return np.array(counts)/num_samples"
   ]
  },
  {
   "cell_type": "code",
   "execution_count": 60,
   "metadata": {},
   "outputs": [
    {
     "data": {
      "text/plain": [
       "array([0.  , 0.  , 0.04, 0.94])"
      ]
     },
     "execution_count": 60,
     "metadata": {},
     "output_type": "execute_result"
    }
   ],
   "source": [
    "np.random.seed(17)\n",
    "I_clickeds = [None]*4\n",
    "I_clickeds[0] = np.array([measure_click(ctr=.003) for _ in range(10000)])\n",
    "I_clickeds[1] = np.array([measure_click(ctr=.005) for _ in range(10000)])\n",
    "I_clickeds[2] = np.array([measure_click(ctr=.007) for _ in range(10000)])\n",
    "I_clickeds[3] = np.array([measure_click(ctr=.009) for _ in range(10000)])\n",
    "estimate_pbest(I_clickeds)"
   ]
  },
  {
   "attachments": {},
   "cell_type": "markdown",
   "metadata": {},
   "source": [
    "### Randomized Probability Matching"
   ]
  },
  {
   "cell_type": "code",
   "execution_count": 61,
   "metadata": {},
   "outputs": [],
   "source": [
    "# Randomized probability matching\n",
    "def rpm_select_arm(I_clickeds):\n",
    "    ctrs = [bootstrap_sample(I_clicked).mean() for I_clicked in I_clickeds]\n",
    "    ctrs = np.array(ctrs)\n",
    "    i = np.where(ctrs == ctrs.max())[0]\n",
    "    if len(i)!=1:\n",
    "        return np.random.randint(len(I_clickeds))\n",
    "    return i[0]"
   ]
  },
  {
   "cell_type": "code",
   "execution_count": 62,
   "metadata": {},
   "outputs": [
    {
     "data": {
      "text/plain": [
       "2"
      ]
     },
     "execution_count": 62,
     "metadata": {},
     "output_type": "execute_result"
    }
   ],
   "source": [
    "rpm_select_arm(I_clickeds)"
   ]
  },
  {
   "cell_type": "markdown",
   "metadata": {},
   "source": [
    "#### ONLINE BOOTSTRAP"
   ]
  },
  {
   "cell_type": "code",
   "execution_count": 63,
   "metadata": {},
   "outputs": [],
   "source": [
    "# Online Bootstrap\n",
    "class OnlineBootstrap:\n",
    "    def __init__(self, num_bs_means):\n",
    "        self._sums = np.zeros(shape=(num_bs_means,))\n",
    "        self._n = np.zeros(shape=(num_bs_means,))\n",
    "        self._count = 0\n",
    "        \n",
    "    def append(self, clicked):\n",
    "        i = np.where(np.random.randint(2, size=(len(self._n,))) == 0)[0]\n",
    "        self._sums[i] += clicked\n",
    "        self._n[i] += 1\n",
    "        self._count += 1\n",
    "\n",
    "    def CTR_estimate(self):\n",
    "        i = np.random.randint(len(self._n))\n",
    "        if self._n[i] == 0:\n",
    "            return np.inf\n",
    "        return self._sums[i] / self._n[i]\n",
    "    \n",
    "    def count(self):\n",
    "        return self._count"
   ]
  },
  {
   "cell_type": "code",
   "execution_count": 64,
   "metadata": {},
   "outputs": [],
   "source": [
    "# Randomized probability matching with the online bootstrap\n",
    "def rpm_select_arm_ob(obs):\n",
    "    ctrs = [ob.CTR_estimate() for ob in obs]\n",
    "    ctrs = np.array(ctrs)\n",
    "    i = np.where(ctrs == ctrs.max())[0]\n",
    "    return np.random.choice(i)"
   ]
  },
  {
   "cell_type": "code",
   "execution_count": 65,
   "metadata": {},
   "outputs": [],
   "source": [
    "# Estimate p_best with the online bootstrap\n",
    "def estimate_pbest_ob(obs):\n",
    "    counts = [0] * len(obs)\n",
    "    num_samples = 100\n",
    "    for _ in range(num_samples):\n",
    "        ctrs = [ob.CTR_estimate() for ob in obs]\n",
    "        ctrs = np.array(ctrs)\n",
    "        i = np.where(ctrs == ctrs.max())[0]\n",
    "        if len(i)==1:\n",
    "            counts[i[0]] += 1\n",
    "            \n",
    "    return np.array(counts)/num_samples"
   ]
  },
  {
   "attachments": {},
   "cell_type": "markdown",
   "metadata": {},
   "source": [
    "### The complete algorithm"
   ]
  },
  {
   "cell_type": "code",
   "execution_count": 66,
   "metadata": {},
   "outputs": [],
   "source": [
    "# Thompson sampling\n",
    "def thompson_sampling():\n",
    "    k = 4\n",
    "    num_bs_means = 100\n",
    "    p_stop = 0.95\n",
    "    smallest_sum_difference = 1\n",
    "    prac_sig = 0.001\n",
    "\n",
    "    min_samples_per_arm = smallest_sum_difference / prac_sig\n",
    "    \n",
    "    obs = [OnlineBootstrap(num_bs_means) for _ in range(k)]\n",
    "    sum_clicks = 0.0\n",
    "    num_ads = 0.0\n",
    "    ctr_vs_n = []\n",
    "\n",
    "    n = 0\n",
    "    while True:\n",
    "        num_samples_per_arm = [ob.count() for ob in obs]\n",
    "        i_too_few = np.where(np.array(num_samples_per_arm) < min_samples_per_arm)[0]\n",
    "        if len(i_too_few) > 0:\n",
    "            i_selected = np.random.choice(i_too_few)\n",
    "        else:\n",
    "            i_selected = rpm_select_arm_ob(obs)\n",
    "        i_clicked = measure_arm(i_selected)\n",
    "        obs[i_selected].append(i_clicked)\n",
    "        sum_clicks += i_clicked\n",
    "        num_ads += 1\n",
    "        ctr_vs_n.append(sum_clicks / num_ads)\n",
    "\n",
    "        n += 1\n",
    "        if len(i_too_few) == 0 and n % 100 == 0:\n",
    "            p_bests = estimate_pbest_ob(obs)\n",
    "            i_best_arm = np.where(p_bests == p_bests.max())[0]\n",
    "            if len(i_best_arm) == 1 and p_bests.max() >= p_stop:\n",
    "                break\n",
    "                \n",
    "    return ctr_vs_n, i_best_arm        \n",
    "    "
   ]
  },
  {
   "cell_type": "code",
   "execution_count": 67,
   "metadata": {},
   "outputs": [
    {
     "name": "stdout",
     "output_type": "stream",
     "text": [
      "6800 0.00926470588235294 [3]\n"
     ]
    }
   ],
   "source": [
    "np.random.seed(17)\n",
    "ctr_ts, i_best_arm = thompson_sampling()\n",
    "print(len(ctr_ts), ctr_ts[-1], i_best_arm)"
   ]
  },
  {
   "cell_type": "code",
   "execution_count": 68,
   "metadata": {},
   "outputs": [
    {
     "name": "stdout",
     "output_type": "stream",
     "text": [
      "[[0.96]] [[0.19595918]]\n"
     ]
    }
   ],
   "source": [
    "np.random.seed(17)\n",
    "mean_selected, std_selected = run_multi(lambda: [thompson_sampling()[1]==3], 100)\n",
    "print(mean_selected, std_selected)"
   ]
  },
  {
   "cell_type": "code",
   "execution_count": 69,
   "metadata": {},
   "outputs": [],
   "source": [
    "def run_multi_count(trace_fn, num=100):\n",
    "    nums = []\n",
    "    for _ in range(num):\n",
    "        trace = trace_fn()\n",
    "        nums.append(len(trace))\n",
    "\n",
    "    nums = np.array(nums)\n",
    "    \n",
    "    return nums.mean(), nums.max()"
   ]
  },
  {
   "cell_type": "code",
   "execution_count": 70,
   "metadata": {},
   "outputs": [
    {
     "name": "stdout",
     "output_type": "stream",
     "text": [
      "20616.0 103500\n"
     ]
    }
   ],
   "source": [
    "np.random.seed(17)\n",
    "nums_mean, nums_max = run_multi_count(lambda: thompson_sampling()[0], 100)\n",
    "print(nums_mean, nums_max)"
   ]
  },
  {
   "cell_type": "code",
   "execution_count": 71,
   "metadata": {},
   "outputs": [],
   "source": [
    "def thompson_sampling_compare():\n",
    "    k = 4\n",
    "    num_bs_means = 100\n",
    "    p_stop = 0.95\n",
    "    smallest_sum_difference = 1\n",
    "    prac_sig = 0.001\n",
    "\n",
    "    min_samples_per_arm = smallest_sum_difference / prac_sig\n",
    "    \n",
    "    obs = [OnlineBootstrap(num_bs_means) for _ in range(k)]\n",
    "    sum_clicks = 0.0\n",
    "    num_ads = 0.0\n",
    "    ctr_vs_n = []\n",
    "\n",
    "    n = 0\n",
    "    accepted = False\n",
    "    for _ in range(200000):\n",
    "        if accepted:\n",
    "            i_selected = i_best_arm\n",
    "        else:\n",
    "            num_samples_per_arm = [ob.count() for ob in obs]\n",
    "            i_too_few = np.where(np.array(num_samples_per_arm) < min_samples_per_arm)[0]\n",
    "            if len(i_too_few) > 0:\n",
    "                i_selected = np.random.choice(i_too_few)\n",
    "            else:\n",
    "                i_selected = rpm_select_arm_ob(obs)\n",
    "                \n",
    "        i_clicked = measure_arm(i_selected)\n",
    "        obs[i_selected].append(i_clicked)\n",
    "        sum_clicks += i_clicked\n",
    "        num_ads += 1\n",
    "        ctr_vs_n.append(sum_clicks / num_ads)\n",
    "\n",
    "        n += 1\n",
    "        if not accepted and len(i_too_few) == 0 and n % 100 == 0:\n",
    "            p_bests = estimate_pbest_ob(obs)\n",
    "            i_best_arm = np.where(p_bests == p_bests.max())[0]\n",
    "            if len(i_best_arm) == 1 and p_bests.max() >= p_stop:\n",
    "                i_best_arm = i_best_arm[0]\n",
    "                accepted = True\n",
    "                \n",
    "    return ctr_vs_n, i_best_arm"
   ]
  },
  {
   "cell_type": "code",
   "execution_count": 72,
   "metadata": {},
   "outputs": [],
   "source": [
    "np.random.seed(17)\n",
    "mean_ts_compare, std_ts_compare = run_multi(lambda: thompson_sampling_compare()[0], 100)\n",
    "print(mean_ts_compare[-1], std_ts_compare[-1])"
   ]
  },
  {
   "cell_type": "code",
   "execution_count": null,
   "metadata": {},
   "outputs": [],
   "source": [
    "mean_egd_tr = mean_egd\n",
    "std_egd_tr = std_egd\n",
    "\n",
    "means_ts_tr = mean_ts_compare\n",
    "stds_ts_tr = std_ts_compare\n",
    "\n",
    "n = np.arange(len(mean_egd_tr))[::100]\n",
    "\n",
    "plt.fill_between(n,\n",
    "                 (mean_egd_tr-std_egd_tr/2)[::100],\n",
    "                 (mean_egd_tr+std_egd_tr/2)[::100],\n",
    "                 color=\"green\", alpha=.75, linewidth=1)\n",
    "plt.plot(n, mean_egd_tr[::100], '--', color=\"green\")\n",
    "\n",
    "nts = np.arange(len(means_ts_tr))[::100]  # TODO\n",
    "plt.fill_between(nts,\n",
    "                 (means_ts_tr-stds_ts_tr/2)[::100],\n",
    "                 (means_ts_tr+stds_ts_tr/2)[::100],\n",
    "                 color=\"grey\", alpha=.75, linewidth=1)\n",
    "plt.plot(nts, means_ts_tr[::100], '-', color=\"blue\")\n",
    "\n",
    "c = plt.axis()\n",
    "plt.xlabel('n, index to individual measurement')\n",
    "plt.ylabel('CTR up through n');\n",
    "plt.legend(['epsilon-greedy', 'Thompson sampling'], loc='lower right')\n",
    "plt.axis([c[0], c[1], .007, .011]);\n",
    "\n",
    "plt.show()"
   ]
  },
  {
   "attachments": {},
   "cell_type": "markdown",
   "metadata": {},
   "source": [
    "## Summary"
   ]
  },
  {
   "attachments": {},
   "cell_type": "markdown",
   "metadata": {},
   "source": [
    "-   Multi-armed bandit algorithms reduce the cost of experimental optimization by trading off business metric improvement (exploitation) with evaluation of system versions (exploration).\n",
    "\n",
    "-   Epsilon-greedy is an MAB algorithm that is simple to implement and has optimal asymptotic regret but requires the engineer to tune a system-specific metaparameter.\n",
    "\n",
    "-   MAB algorithms make it easy to evaluate multiple versions---also called *arms*---simultaneously.\n",
    "\n",
    "-   Thompson sampling produces better business metrics during operation than epsilon-greedy and has no system-dependent metaparameter to tune."
   ]
  }
 ],
 "metadata": {
  "kernelspec": {
   "display_name": "env-spacy",
   "language": "python",
   "name": "python3"
  },
  "language_info": {
   "codemirror_mode": {
    "name": "ipython",
    "version": 3
   },
   "file_extension": ".py",
   "mimetype": "text/x-python",
   "name": "python",
   "nbconvert_exporter": "python",
   "pygments_lexer": "ipython3",
   "version": "3.9.7"
  },
  "vscode": {
   "interpreter": {
    "hash": "343191058819caea96d5cde1bd3b1a75b4807623ce2cda0e1c8499e39ac847e3"
   }
  }
 },
 "nbformat": 4,
 "nbformat_minor": 2
}
