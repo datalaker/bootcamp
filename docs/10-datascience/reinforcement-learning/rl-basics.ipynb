{
  "cells": [
    {
      "cell_type": "markdown",
      "metadata": {
        "id": "U_iFAN-MxTto"
      },
      "source": [
        "# Introduction to Reinforcement Learning (Playground)\n",
        "> Learn RL Q-learning by simulating a discrete and continuous toy environment manually as well as with Gym library\n",
        "\n",
        "- toc: true\n",
        "- badges: true\n",
        "- comments: true\n",
        "- categories: [RL, Gym, Playground, Concept, QLearning]\n",
        "- image:"
      ]
    },
    {
      "cell_type": "markdown",
      "metadata": {
        "id": "FTSs3Y8Lv5_w"
      },
      "source": [
        "## Introduction"
      ]
    },
    {
      "cell_type": "markdown",
      "metadata": {
        "id": "fh1c5II-xTts"
      },
      "source": [
        "| |  |\n",
        "| :-: | -:|\n",
        "| Vision | Build reinforcement learning based recommender agents that can learn and adjust behavior in real-time|\n",
        "| Mission | To achieve big, we have to start small and this tutorial is one step towards our vision. Our mission is to learn Q-learning policy based method. |\n",
        "| Scope | Policy-based RL methods, Playground |\n",
        "| Task | Maximize the reward in discrete environment, Learn continuous reward policy to maximize reward in continuous environment|\n",
        "| Data | Simulation |\n",
        "| Tool | Gym, Colab, Python, OpenCV |\n",
        "| Technique | Q-learning policy in discrete and continuous environments |\n",
        "| Process | 1) Design a simple 2-D board-based discrete environment, 2) Train RL agent using Randomwalk as well as Q-policy with Bellman, 3) Increase the environment complexity by adding more variables/contraints, 4) Setup Gym Cartpole environment, 5) Train RL agent on Cartpole continuous environment  |\n",
        "| Takeaway | RL has potential to be used in recommender systems |\n",
        "| Credit | [Microsoft, Dmitry](https://github.com/microsoft/ML-For-Beginners/tree/main/8-Reinforcement) |"
      ]
    },
    {
      "cell_type": "markdown",
      "metadata": {
        "id": "KtxNqfHhvmbb"
      },
      "source": [
        "### Overview"
      ]
    },
    {
      "cell_type": "markdown",
      "metadata": {
        "id": "6SMJShY-vplY"
      },
      "source": [
        "We will train machine learning algorithms that will help Peter:\n",
        "\n",
        "- **Explore** the surrounding area and build an optimal navigation map\n",
        "- **Learn** how to use a skateboard and balance on it, in order to move around faster.\n",
        "\n",
        "> [Peter and the Wolf](https://en.wikipedia.org/wiki/Peter_and_the_Wolf) is a musical fairy tale written by a Russian composer Sergei Prokofiev. It is a story about young pioneer Peter, who bravely goes out of his house to the forest clearing to chase the wolf."
      ]
    },
    {
      "attachments": {},
      "cell_type": "markdown",
      "metadata": {},
      "source": [
        "![1](https://user-images.githubusercontent.com/62965911/224305123-a63b509c-d239-4c9a-bc0a-37bbe6816fca.png)\n"
      ]
    },
    {
      "cell_type": "markdown",
      "metadata": {
        "id": "KG0w_lLOvzy5"
      },
      "source": [
        "### Background\n",
        "\n",
        "Instead of looking for existing game data, **Reinforcement Learning** (RL) is based on the idea of *making the computer play* many times and observing the result. Thus, to apply Reinforcement Learning, we need two things:\n",
        "\n",
        "- **An environment** and **a simulator** which allow us to play a game many times. This simulator would define all the game rules as well as possible states and actions.\n",
        "- **A reward function**, which would tell us how well we did during each move or game.\n",
        "\n",
        "The main difference between other types of machine learning and RL is that in RL we typically do not know whether we win or lose until we finish the game. Thus, we cannot say whether a certain move alone is good or not - we only receive a reward at the end of the game. And our goal is to design algorithms that will allow us to train a model under uncertain conditions. We will learn about one RL algorithm called **Q-learning**.\n",
        "\n",
        "Reinforcement learning involves three important concepts: the agent, some states, and a set of actions per state. By executing an action in a specified state, the agent is given a reward. Again imagine the computer game Super Mario. You are Mario, you are in a game level, standing next to a cliff edge. Above you is a coin. You being Mario, in a game level, at a specific position ... that's your state. Moving one step to the right (an action) will take you over the edge, and that would give you a low numerical score. However, pressing the jump button would let score a point and you would stay alive. That's a positive outcome and that should award you a positive numerical score.\n",
        "\n",
        "By using reinforcement learning and a simulator (the game), you can learn how to play the game to maximize the reward which is staying alive and scoring as many points as possible."
      ]
    },
    {
      "cell_type": "markdown",
      "metadata": {
        "id": "o-7EMawPwCAP"
      },
      "source": [
        "### Environment setup"
      ]
    },
    {
      "cell_type": "code",
      "execution_count": null,
      "metadata": {
        "id": "yvW2bwhJlmSe"
      },
      "outputs": [],
      "source": [
        "!wget https://github.com/recohut/reco-static/raw/master/media/images/ms8rl/images.zip\n",
        "!unzip images.zip"
      ]
    },
    {
      "cell_type": "code",
      "execution_count": null,
      "metadata": {
        "id": "XpJ-EiqpwFIg"
      },
      "outputs": [],
      "source": [
        "import matplotlib.pyplot as plt\n",
        "import numpy as np\n",
        "import cv2\n",
        "import random\n",
        "import math"
      ]
    },
    {
      "cell_type": "markdown",
      "metadata": {
        "id": "B3b7vlXdjkEQ"
      },
      "source": [
        "## Section 1\n",
        "\n",
        "In this section, we will learn how to apply Reinforcement learning to a problem of path finding. The setting is inspired by [Peter and the Wolf](https://en.wikipedia.org/wiki/Peter_and_the_Wolf) musical fairy tale by Russian composer [Sergei Prokofiev](https://en.wikipedia.org/wiki/Sergei_Prokofiev). It is a story about young pioneer Peter, who bravely goes out of his house to the forest clearing to chase the wolf. We will train machine learning algorithms that will help Peter to explore the surroinding area and build an optimal navigation map."
      ]
    },
    {
      "attachments": {},
      "cell_type": "markdown",
      "metadata": {},
      "source": [
        "![2](https://user-images.githubusercontent.com/62965911/224305168-025c1a66-92a8-4b78-8824-80bd9b58cf70.png)"
      ]
    },
    {
      "cell_type": "markdown",
      "metadata": {
        "id": "5NdtWJ5Ivb6P"
      },
      "source": [
        "Peter and his friends need to escape the hungry wolf! Image by [Jen Looper](https://twitter.com/jenlooper)"
      ]
    },
    {
      "cell_type": "markdown",
      "metadata": {
        "id": "GPdkzWlIwQm5"
      },
      "source": [
        "### Basic helper functions"
      ]
    },
    {
      "cell_type": "code",
      "execution_count": null,
      "metadata": {
        "id": "MCIxnOM6wPeT"
      },
      "outputs": [],
      "source": [
        "def clip(min,max,x):\n",
        "    if x<min:\n",
        "        return min\n",
        "    if x>max:\n",
        "        return max\n",
        "    return x\n",
        "\n",
        "def imload(fname,size):\n",
        "    img = cv2.imread(fname)\n",
        "    img = cv2.cvtColor(img,cv2.COLOR_BGR2RGB)\n",
        "    img = cv2.resize(img,(size,size),interpolation=cv2.INTER_LANCZOS4)\n",
        "    img = img / np.max(img)\n",
        "    return img\n",
        "\n",
        "def draw_line(dx,dy,size=50):\n",
        "    p=np.ones((size-2,size-2,3))\n",
        "    if dx==0:\n",
        "        dx=0.001\n",
        "    m = (size-2)//2\n",
        "    l = math.sqrt(dx*dx+dy*dy)*(size-4)/2\n",
        "    a = math.atan(dy/dx)\n",
        "    cv2.line(p,(int(m-l*math.cos(a)),int(m-l*math.sin(a))),(int(m+l*math.cos(a)),int(m+l*math.sin(a))),(0,0,0),1)\n",
        "    s = -1 if dx<0 else 1\n",
        "    cv2.circle(p,(int(m+s*l*math.cos(a)),int(m+s*l*math.sin(a))),3,0)\n",
        "    return p   \n",
        "\n",
        "def probs(v):\n",
        "    v = v-v.min()\n",
        "    if (v.sum()>0):\n",
        "        v = v/v.sum()\n",
        "    return v"
      ]
    },
    {
      "cell_type": "markdown",
      "metadata": {
        "id": "mIfDdsvsqNCd"
      },
      "source": [
        "### The Environment\n",
        "\n",
        "For simplicity, let's consider Peter's world to be a square board of size `width` x `height`. Each cell in this board can either be:\n",
        "* **ground**, on which Peter and other creatures can walk\n",
        "* **water**, on which you obviously cannot walk\n",
        "* **a tree** or **grass** - a place where you cat take some rest\n",
        "* **an apple**, which represents something Peter would be glad to find in order to feed himself\n",
        "* **a wolf**, which is dangerous and should be avoided"
      ]
    },
    {
      "cell_type": "markdown",
      "metadata": {
        "id": "JxjhQ-N4wTwp"
      },
      "source": [
        "### Creating `Board` environment"
      ]
    },
    {
      "cell_type": "code",
      "execution_count": 14,
      "metadata": {
        "id": "ZhINF4jNCYmO"
      },
      "outputs": [],
      "source": [
        "class Board:\n",
        "    class Cell:\n",
        "        empty = 0\n",
        "        water = 1\n",
        "        wolf = 2\n",
        "        tree = 3\n",
        "        apple = 4\n",
        "    def __init__(self,width,height,size=50):\n",
        "        self.width = width\n",
        "        self.height = height\n",
        "        self.size = size+2\n",
        "        self.matrix = np.zeros((width,height))\n",
        "        self.grid_color = (0.6,0.6,0.6)\n",
        "        self.background_color = (1.0,1.0,1.0)\n",
        "        self.grid_thickness = 1\n",
        "        self.grid_line_type = cv2.LINE_AA\n",
        "        self.pics = {\n",
        "            \"wolf\" : imload('images/wolf.png',size-4),\n",
        "            \"apple\" : imload('images/apple.png',size-4),\n",
        "            \"human\" : imload('images/human.png',size-4)\n",
        "        }\n",
        "        self.human = (0,0)\n",
        "        self.frame_no = 0\n",
        "\n",
        "    def randomize(self,water_size=5, num_water=3, num_wolves=1, num_trees=5, num_apples=3,seed=None):\n",
        "        if seed:\n",
        "            random.seed(seed)\n",
        "        for _ in range(num_water):\n",
        "            x = random.randint(0,self.width-1)\n",
        "            y = random.randint(0,self.height-1)\n",
        "            for _ in range(water_size):\n",
        "                self.matrix[x,y] = Board.Cell.water\n",
        "                x = clip(0,self.width-1,x+random.randint(-1,1))\n",
        "                y = clip(0,self.height-1,y+random.randint(-1,1))\n",
        "        for _ in range(num_trees):\n",
        "            while True:\n",
        "                x = random.randint(0,self.width-1)\n",
        "                y = random.randint(0,self.height-1)\n",
        "                if self.matrix[x,y]==Board.Cell.empty:\n",
        "                    self.matrix[x,y] = Board.Cell.tree # tree\n",
        "                    break\n",
        "        for _ in range(num_wolves):\n",
        "            while True:\n",
        "                x = random.randint(0,self.width-1)\n",
        "                y = random.randint(0,self.height-1)\n",
        "                if self.matrix[x,y]==Board.Cell.empty:\n",
        "                    self.matrix[x,y] = Board.Cell.wolf # wolf\n",
        "                    break\n",
        "        for _ in range(num_apples):\n",
        "            while True:\n",
        "                x = random.randint(0,self.width-1)\n",
        "                y = random.randint(0,self.height-1)\n",
        "                if self.matrix[x,y]==Board.Cell.empty:\n",
        "                    self.matrix[x,y] = Board.Cell.apple\n",
        "                    break\n",
        "\n",
        "    def at(self,pos=None):\n",
        "        if pos:\n",
        "            return self.matrix[pos[0],pos[1]]\n",
        "        else:\n",
        "            return self.matrix[self.human[0],self.human[1]]\n",
        "\n",
        "    def is_valid(self,pos):\n",
        "        return pos[0]>=0 and pos[0]<self.width and pos[1]>=0 and pos[1] < self.height\n",
        "\n",
        "    def move_pos(self, pos, dpos):\n",
        "        return (pos[0] + dpos[0], pos[1] + dpos[1])\n",
        "\n",
        "    def move(self,dpos,check_correctness=True):\n",
        "        new_pos = self.move_pos(self.human,dpos)\n",
        "        if self.is_valid(new_pos) or not check_correctness:\n",
        "            self.human = new_pos\n",
        "\n",
        "    def random_pos(self):\n",
        "        x = random.randint(0,self.width-1)\n",
        "        y = random.randint(0,self.height-1)\n",
        "        return (x,y)\n",
        "\n",
        "    def random_start(self):\n",
        "        while True:\n",
        "            pos = self.random_pos()\n",
        "            if self.at(pos) == Board.Cell.empty:\n",
        "                self.human = pos\n",
        "                break\n",
        "\n",
        "\n",
        "    def image(self,Q=None):\n",
        "        img = np.zeros((self.height*self.size+1,self.width*self.size+1,3))\n",
        "        img[:,:,:] = self.background_color\n",
        "        # Draw water\n",
        "        for x in range(self.width):\n",
        "            for y in range(self.height):\n",
        "                if (x,y) == self.human:\n",
        "                    ov = self.pics['human']\n",
        "                    img[self.size*y+2:self.size*y+ov.shape[0]+2,self.size*x+2:self.size*x+2+ov.shape[1],:] = np.minimum(ov,1.0)\n",
        "                    continue\n",
        "                if self.matrix[x,y] == Board.Cell.water:\n",
        "                    img[self.size*y:self.size*(y+1),self.size*x:self.size*(x+1),:] = (0,0,1.0)\n",
        "                if self.matrix[x,y] == Board.Cell.wolf:\n",
        "                    ov = self.pics['wolf']\n",
        "                    img[self.size*y+2:self.size*y+ov.shape[0]+2,self.size*x+2:self.size*x+2+ov.shape[1],:] = np.minimum(ov,1.0)\n",
        "                if self.matrix[x,y] == Board.Cell.apple: # apple\n",
        "                    ov = self.pics['apple']\n",
        "                    img[self.size*y+2:self.size*y+ov.shape[0]+2,self.size*x+2:self.size*x+2+ov.shape[1],:] = np.minimum(ov,1.0)\n",
        "                if self.matrix[x,y] == Board.Cell.tree: # tree\n",
        "                    img[self.size*y:self.size*(y+1),self.size*x:self.size*(x+1),:] = (0,1.0,0)\n",
        "                if self.matrix[x,y] == Board.Cell.empty and Q is not None:\n",
        "                    p = probs(Q[x,y])\n",
        "                    dx,dy = 0,0\n",
        "                    for i,(ddx,ddy) in enumerate([(-1,0),(1,0),(0,-1),(0,1)]):\n",
        "                        dx += ddx*p[i]\n",
        "                        dy += ddy*p[i]\n",
        "                        l = draw_line(dx,dy,self.size)\n",
        "                        img[self.size*y+2:self.size*y+l.shape[0]+2,self.size*x+2:self.size*x+2+l.shape[1],:] = l\n",
        "\n",
        "        # Draw grid\n",
        "        for i in range(self.height+1):\n",
        "            img[:,i*self.size] = 0.3\n",
        "            #cv2.line(img,(0,i*self.size),(self.width*self.size,i*self.size), self.grid_color, self.grid_thickness,lineType=self.grid_line_type)\n",
        "        for j in range(self.width+1):\n",
        "            img[j*self.size,:] = 0.3\n",
        "            #cv2.line(img,(j*self.size,0),(j*self.size,self.height*self.size), self.grid_color, self.grid_thickness,lineType=self.grid_line_type)\n",
        "        return img\n",
        "\n",
        "    def plot(self,Q=None):\n",
        "        plt.figure(figsize=(11,6))\n",
        "        plt.imshow(self.image(Q),interpolation='hanning')\n",
        "\n",
        "    def saveimage(self,filename,Q=None):\n",
        "        cv2.imwrite(filename,255*self.image(Q)[...,::-1])\n",
        "\n",
        "    def walk(self,policy,save_to=None,start=None):\n",
        "        n = 0\n",
        "        if start:\n",
        "            self.human = start\n",
        "        else:\n",
        "            self.random_start()\n",
        "\n",
        "        while True:\n",
        "            if save_to:\n",
        "                self.saveimage(save_to.format(self.frame_no))\n",
        "                self.frame_no+=1\n",
        "            if self.at() == Board.Cell.apple:\n",
        "                return n # success!\n",
        "            if self.at() in [Board.Cell.wolf, Board.Cell.water]:\n",
        "                return -1 # eaten by wolf or drowned\n",
        "            while True:\n",
        "                a = policy(self)\n",
        "                new_pos = self.move_pos(self.human,a)\n",
        "                if self.is_valid(new_pos) and self.at(new_pos)!=Board.Cell.water:\n",
        "                    self.move(a) # do the actual move\n",
        "                    break\n",
        "            n+=1"
      ]
    },
    {
      "cell_type": "markdown",
      "metadata": {
        "id": "VLNTBzV9jkEX"
      },
      "source": [
        "Let's now create a random board and see how it looks:"
      ]
    },
    {
      "cell_type": "code",
      "execution_count": null,
      "metadata": {
        "colab": {
          "base_uri": "https://localhost:8080/",
          "height": 378
        },
        "id": "zBWRzsdejkEY",
        "outputId": "54d9c446-770d-40d9-fc2f-514bd61434a4"
      },
      "outputs": [],
      "source": [
        "width, height = 8,8\n",
        "m = Board(width,height)\n",
        "m.randomize(seed=13)\n",
        "m.plot()"
      ]
    },
    {
      "attachments": {},
      "cell_type": "markdown",
      "metadata": {},
      "source": [
        "![3](https://user-images.githubusercontent.com/62965911/224305174-0de09ffe-66a6-4dae-aff0-3658db0bc9e0.png)"
      ]
    },
    {
      "cell_type": "markdown",
      "metadata": {
        "id": "QCnF08TMjkEa"
      },
      "source": [
        "### Actions and Policy\n",
        "\n",
        "In our example, Peter's goal would be to find an apple, while avoiding the wolf and other obstacles. To do this, he can essentially walk around until he finds an apple. Therefore, at any position he can chose between one of the following actions: up, down, left and right. We will define those actions as a dictionary, and map them to pairs of corresponding coordinate changes. For example, moving right (`R`) would correspond to a pair `(1,0)`."
      ]
    },
    {
      "cell_type": "code",
      "execution_count": 16,
      "metadata": {
        "id": "QgjSRrEcjkEb"
      },
      "outputs": [],
      "source": [
        "actions = { \"U\" : (0,-1), \"D\" : (0,1), \"L\" : (-1,0), \"R\" : (1,0) }\n",
        "action_idx = { a : i for i,a in enumerate(actions.keys()) }"
      ]
    },
    {
      "cell_type": "markdown",
      "metadata": {
        "id": "hkFJeg3RjkEd"
      },
      "source": [
        "The strategy of our agent (Peter) is defined by a so-called **policy**. Let's consider the simplest policy called **random walk**."
      ]
    },
    {
      "cell_type": "markdown",
      "metadata": {
        "id": "pDl_6XWgqIfc"
      },
      "source": [
        "### Random walk\n",
        "\n",
        "Let's first solve our problem by implementing a random walk strategy."
      ]
    },
    {
      "cell_type": "code",
      "execution_count": 17,
      "metadata": {
        "colab": {
          "base_uri": "https://localhost:8080/"
        },
        "id": "zpycj37QjkEd",
        "outputId": "4ca47030-d79a-47ca-ce43-1239802fe7b5",
        "tags": []
      },
      "outputs": [
        {
          "data": {
            "text/plain": [
              "18"
            ]
          },
          "execution_count": 17,
          "metadata": {
            "tags": []
          },
          "output_type": "execute_result"
        }
      ],
      "source": [
        "def random_policy(m):\n",
        "    return random.choice(list(actions))\n",
        "\n",
        "def walk(m,policy,start_position=None):\n",
        "    n = 0 # number of steps\n",
        "    # set initial position\n",
        "    if start_position:\n",
        "        m.human = start_position \n",
        "    else:\n",
        "        m.random_start()\n",
        "    while True:\n",
        "        if m.at() == Board.Cell.apple:\n",
        "            return n # success!\n",
        "        if m.at() in [Board.Cell.wolf, Board.Cell.water]:\n",
        "            return -1 # eaten by wolf or drowned\n",
        "        while True:\n",
        "            a = actions[policy(m)]\n",
        "            new_pos = m.move_pos(m.human,a)\n",
        "            if m.is_valid(new_pos) and m.at(new_pos)!=Board.Cell.water:\n",
        "                m.move(a) # do the actual move\n",
        "                break\n",
        "        n+=1\n",
        "\n",
        "walk(m,random_policy)"
      ]
    },
    {
      "cell_type": "markdown",
      "metadata": {
        "id": "X5j0t1ckjkEf"
      },
      "source": [
        "Let's run random walk experiment several times and see the average number of steps taken:"
      ]
    },
    {
      "cell_type": "code",
      "execution_count": 18,
      "metadata": {
        "colab": {
          "base_uri": "https://localhost:8080/"
        },
        "id": "WQRd5UD5jkEf",
        "outputId": "7dd6d449-749c-4598-a07e-14bcfbc0bfc1"
      },
      "outputs": [
        {
          "name": "stdout",
          "output_type": "stream",
          "text": [
            "Average path length = 32.87096774193548, eaten by wolf: 7 times\n"
          ]
        }
      ],
      "source": [
        "def print_statistics(policy):\n",
        "    s,w,n = 0,0,0\n",
        "    for _ in range(100):\n",
        "        z = walk(m,policy)\n",
        "        if z<0:\n",
        "            w+=1\n",
        "        else:\n",
        "            s += z\n",
        "            n += 1\n",
        "    print(f\"Average path length = {s/n}, eaten by wolf: {w} times\")\n",
        "\n",
        "print_statistics(random_policy)"
      ]
    },
    {
      "cell_type": "code",
      "execution_count": null,
      "metadata": {
        "colab": {
          "base_uri": "https://localhost:8080/",
          "height": 433
        },
        "id": "S6G_1vde1-vF",
        "outputId": "dd50097e-5d46-426b-e5db-9c5b70e38b7f"
      },
      "outputs": [],
      "source": [
        "from IPython.display import Image\n",
        "Image(open('images/random_walk.gif','rb').read())"
      ]
    },
    {
      "attachments": {},
      "cell_type": "markdown",
      "metadata": {},
      "source": [
        "![4](https://user-images.githubusercontent.com/62965911/224305175-2ab63d36-dd98-49f8-9a3e-1ad244e0a239.png)"
      ]
    },
    {
      "cell_type": "markdown",
      "metadata": {
        "id": "LOUyie9kjkEg"
      },
      "source": [
        "### Reward Function\n",
        "\n",
        "To make our policy more intelligent, we need to understand which moves are \"better\" than others.\n",
        "\n"
      ]
    },
    {
      "cell_type": "code",
      "execution_count": 19,
      "metadata": {
        "id": "7JUe6SsUjkEg"
      },
      "outputs": [],
      "source": [
        "move_reward = -0.1\n",
        "goal_reward = 10\n",
        "end_reward = -10\n",
        "\n",
        "def reward(m,pos=None):\n",
        "    pos = pos or m.human\n",
        "    if not m.is_valid(pos):\n",
        "        return end_reward\n",
        "    x = m.at(pos)\n",
        "    if x==Board.Cell.water or x == Board.Cell.wolf:\n",
        "        return end_reward\n",
        "    if x==Board.Cell.apple:\n",
        "        return goal_reward\n",
        "    return move_reward"
      ]
    },
    {
      "cell_type": "markdown",
      "metadata": {
        "id": "nGp5RMaLjkEh"
      },
      "source": [
        "### Q-Learning\n",
        "\n",
        "Build a Q-Table, or multi-dimensional array. Since our board has dimensions `width` x `height`, we can represent Q-Table by a numpy array with shape `width` x `height` x `len(actions)`:"
      ]
    },
    {
      "cell_type": "code",
      "execution_count": 20,
      "metadata": {
        "id": "USWH9c0AjkEh"
      },
      "outputs": [],
      "source": [
        "Q = np.ones((width,height,len(actions)),dtype=np.float)*1.0/len(actions)"
      ]
    },
    {
      "cell_type": "markdown",
      "metadata": {
        "id": "4ettSq3VjkEi"
      },
      "source": [
        "Pass the Q-Table to the plot function in order to visualize the table on the board:"
      ]
    },
    {
      "cell_type": "code",
      "execution_count": null,
      "metadata": {
        "colab": {
          "base_uri": "https://localhost:8080/",
          "height": 378
        },
        "id": "16tqn0OvjkEi",
        "outputId": "37013049-c7e9-4d1d-ab6c-24475202199d"
      },
      "outputs": [],
      "source": [
        "m.plot(Q)"
      ]
    },
    {
      "attachments": {},
      "cell_type": "markdown",
      "metadata": {},
      "source": [
        "![5](https://user-images.githubusercontent.com/62965911/224305182-a17152e5-477b-4442-b1e2-00f58389fc4b.png)"
      ]
    },
    {
      "cell_type": "markdown",
      "metadata": {
        "id": "evws9q19sVvF"
      },
      "source": [
        "In the center of each cell there is an \"arrow\" that indicates the preferred direction of movement. Since all directions are equal, a dot is displayed.\n",
        "\n",
        "Now we need to run the simulation, explore our environment, and learn a better distribution of Q-Table values, which will allow us to find the path to the apple much faster."
      ]
    },
    {
      "cell_type": "markdown",
      "metadata": {
        "id": "lhQsmbx5jkEi"
      },
      "source": [
        "### Essence of Q-Learning: Bellman Equation and  Learning Algorithm\n",
        "\n",
        "Let's now write a pseudo-code for our leaning algorithm:\n",
        "\n",
        "* Initialize Q-Table Q with equal numbers for all states and actions\n",
        "* Set learning rate $\\alpha\\leftarrow 1$\n",
        "* Repeat simulation many times\n",
        "   1. Start at random position\n",
        "   1. Repeat\n",
        "        1. Select an action $a$ at state $s$\n",
        "        2. Exectute action by moving to a new state $s'$\n",
        "        3. If we encounter end-of-game condition, or total reward is too small - exit simulation  \n",
        "        4. Compute reward $r$ at the new state\n",
        "        5. Update Q-Function according to Bellman equation: $Q(s,a)\\leftarrow (1-\\alpha)Q(s,a)+\\alpha(r+\\gamma\\max_{a'}Q(s',a'))$\n",
        "        6. $s\\leftarrow s'$\n",
        "        7. Update total reward and decrease $\\alpha$."
      ]
    },
    {
      "cell_type": "markdown",
      "metadata": {
        "id": "WF1fEh4Hws9F"
      },
      "source": [
        "### Exploit vs. Explore\n",
        "\n",
        "The best approach is to balance between exploration and exploitation. As we learn more about our environment, we would be more likely to follow the optimal route, however, choosing the unexplored path once in a while."
      ]
    },
    {
      "cell_type": "markdown",
      "metadata": {
        "id": "d3WOMk4hwvOc"
      },
      "source": [
        "### Python Implementation\n",
        "\n",
        "Now we are ready to implement the learning algorithm. Before that, we also need some function that will convert arbitrary numbers in the Q-Table into a vector of probabilities for corresponding actions:"
      ]
    },
    {
      "cell_type": "code",
      "execution_count": 22,
      "metadata": {
        "id": "7IR4kLtBjkEj"
      },
      "outputs": [],
      "source": [
        "def probs(v,eps=1e-4):\n",
        "    v = v-v.min()+eps\n",
        "    v = v/v.sum()\n",
        "    return v"
      ]
    },
    {
      "cell_type": "markdown",
      "metadata": {
        "id": "6usMtFQvjkEj"
      },
      "source": [
        "We add a small amount of `eps` to the original vector in order to avoid division by 0 in the initial case, when all components of the vector are identical.\n",
        "\n",
        "The actual learning algorithm we will run for 10000 experiments, also called **epochs**: "
      ]
    },
    {
      "cell_type": "code",
      "execution_count": 23,
      "metadata": {
        "colab": {
          "base_uri": "https://localhost:8080/"
        },
        "id": "HZ4XcabCjkEk",
        "outputId": "2618f33f-c04e-46f2-bb59-c2f1c6e036a0"
      },
      "outputs": [
        {
          "name": "stdout",
          "output_type": "stream",
          "text": [
            "Epoch = 9999 0 steps\r"
          ]
        }
      ],
      "source": [
        "from IPython.display import clear_output\n",
        "\n",
        "lpath = []\n",
        "\n",
        "for epoch in range(10000):\n",
        "    clear_output(wait=True)\n",
        "    print(f\"Epoch = {epoch}\",end='')\n",
        "\n",
        "    # Pick initial point\n",
        "    m.random_start()\n",
        "    \n",
        "    # Start travelling\n",
        "    n=0\n",
        "    cum_reward = 0\n",
        "    while True:\n",
        "        x,y = m.human\n",
        "        v = probs(Q[x,y])\n",
        "        a = random.choices(list(actions),weights=v)[0]\n",
        "        dpos = actions[a]\n",
        "        m.move(dpos,check_correctness=False) # we allow player to move outside the board, which terminates episode\n",
        "        r = reward(m)\n",
        "        cum_reward += r\n",
        "        if r==end_reward or cum_reward < -1000:\n",
        "            print(f\" {n} steps\",end='\\r')\n",
        "            lpath.append(n)\n",
        "            break\n",
        "        alpha = np.exp(-n / 3000)\n",
        "        gamma = 0.5\n",
        "        ai = action_idx[a]\n",
        "        Q[x,y,ai] = (1 - alpha) * Q[x,y,ai] + alpha * (r + gamma * Q[x+dpos[0], y+dpos[1]].max())\n",
        "        n+=1"
      ]
    },
    {
      "cell_type": "markdown",
      "metadata": {
        "id": "sCkoL3jQjkEk"
      },
      "source": [
        "After executing this algorithm, the Q-Table should be updated with values that define the attractiveness of different actions at each step. Visualize the table here:"
      ]
    },
    {
      "cell_type": "code",
      "execution_count": null,
      "metadata": {
        "colab": {
          "base_uri": "https://localhost:8080/",
          "height": 378
        },
        "id": "6GiDSyoajkEl",
        "outputId": "2233e4d9-741d-4c2d-e9fc-61352bfed3b0"
      },
      "outputs": [],
      "source": [
        "m.plot(Q)"
      ]
    },
    {
      "attachments": {},
      "cell_type": "markdown",
      "metadata": {},
      "source": [
        "![6](https://user-images.githubusercontent.com/62965911/224305189-aa03ed20-e184-4d98-86ba-4e06fc3a6f9c.png)"
      ]
    },
    {
      "cell_type": "markdown",
      "metadata": {
        "id": "QzcMSc9ZjkEl"
      },
      "source": [
        "### Checking the Policy\n",
        "\n",
        "Since Q-Table lists the \"attractiveness\" of each action at each state, it is quite easy to use it to define the efficient navigation in our world. In the simplest case, we can just select the action corresponding to the highest Q-Table value:"
      ]
    },
    {
      "cell_type": "code",
      "execution_count": 25,
      "metadata": {
        "colab": {
          "base_uri": "https://localhost:8080/"
        },
        "id": "MerDWi1-jkEl",
        "outputId": "b914e69c-242b-4bad-8ebd-40c439b8cbfe"
      },
      "outputs": [
        {
          "data": {
            "text/plain": [
              "2"
            ]
          },
          "execution_count": 25,
          "metadata": {
            "tags": []
          },
          "output_type": "execute_result"
        }
      ],
      "source": [
        "def qpolicy_strict(m):\n",
        "        x,y = m.human\n",
        "        v = probs(Q[x,y])\n",
        "        a = list(actions)[np.argmax(v)]\n",
        "        return a\n",
        "\n",
        "walk(m,qpolicy_strict)"
      ]
    },
    {
      "cell_type": "markdown",
      "metadata": {
        "id": "5UDtIiMPjkEm"
      },
      "source": [
        "If you try the code above several times, you may notice that sometimes it just \"hangs\", and you need to press the STOP button in the notebook to interrupt it. \n",
        "\n",
        "> **Task 1:** Modify the `walk` function to limit the maximum length of path by a certain number of steps (say, 100), and watch the code above return this value from time to time.\n",
        "\n",
        "> **Task 2:** Modify the `walk` function so that it does not go back to the places where is has already been previously. This will prevent `walk` from looping, however, the agent can still end up being \"trapped\" in a location from which it is unable to escape. "
      ]
    },
    {
      "cell_type": "code",
      "execution_count": 26,
      "metadata": {
        "colab": {
          "base_uri": "https://localhost:8080/"
        },
        "id": "6n1K3lv5jkEm",
        "outputId": "68c45f4a-fdfe-40c8-cce6-59c8f0107660"
      },
      "outputs": [
        {
          "name": "stdout",
          "output_type": "stream",
          "text": [
            "Average path length = 3.45, eaten by wolf: 0 times\n"
          ]
        }
      ],
      "source": [
        "def qpolicy(m):\n",
        "        x,y = m.human\n",
        "        v = probs(Q[x,y])\n",
        "        a = random.choices(list(actions),weights=v)[0]\n",
        "        return a\n",
        "\n",
        "print_statistics(qpolicy)"
      ]
    },
    {
      "cell_type": "markdown",
      "metadata": {
        "id": "blDX_QH5jkEn"
      },
      "source": [
        "### Investigating the Learning Process"
      ]
    },
    {
      "cell_type": "code",
      "execution_count": 27,
      "metadata": {
        "colab": {
          "base_uri": "https://localhost:8080/",
          "height": 282
        },
        "id": "MnUwchoFjkEn",
        "outputId": "a7d04c66-bd3c-4efe-cd1c-947eead2ca40"
      },
      "outputs": [
        {
          "data": {
            "text/plain": [
              "[<matplotlib.lines.Line2D at 0x7f95090412d0>]"
            ]
          },
          "execution_count": 27,
          "metadata": {
            "tags": []
          },
          "output_type": "execute_result"
        },
        {
          "data": {
            "image/png": "[encoded data removed]",
            "text/plain": [
              "<Figure size 432x288 with 1 Axes>"
            ]
          },
          "metadata": {
            "needs_background": "light",
            "tags": []
          },
          "output_type": "display_data"
        }
      ],
      "source": [
        "plt.plot(lpath)"
      ]
    },
    {
      "cell_type": "markdown",
      "metadata": {
        "id": "4NIAwaSDjkEn"
      },
      "source": [
        "What we see here is that at first the average path length increased. This is probably due to the fact that when we know nothing about the environment - we are likely to get trapped into bad states, water or wolf. As we learn more and start using this knowledge, we can explore the environment for longer, but we still do not know well where apples are.\n",
        "\n",
        "Once we learn enough, it becomes easier for the agent to achieve the goal, and the path length starts to decrease. However, we are still open to exploration, so we often diverge away from the best path, and explore new options, making the path longer than optimal.\n",
        "\n",
        "What we also observe on this graph, is that at some point the length increased abruptly. This indicates stochastic nature of the process, and that we can at some point \"spoil\" the Q-Table coefficients, by overwriting them with new values. This ideally should be minimized by decreasing learning rate (i.e. towards the end of training we only adjust Q-Table values by a small value).\n",
        "\n",
        "Overall, it is important to remember that the success and quality of the learning process significantly depends on parameters, such as leaning rate, learning rate decay and discount factor. Those are often called **hyperparameters**, to distinguish them from **parameters** which we optimize during training (eg. Q-Table coefficients). The process of finding best hyperparameter values is called **hyperparameter optimization**, and it deserves a separate topic."
      ]
    },
    {
      "cell_type": "markdown",
      "metadata": {
        "id": "kMd3CzpjjkEo"
      },
      "source": [
        "### Exercise\n",
        "#### A More Realistic Peter and the Wolf World\n",
        "\n",
        "In our situation, Peter was able to move around almost without getting tired or hungry. In a more realistic world, he has to sit down and rest from time to time, and also to feed himself. Let's make our world more realistic by implementing the following rules:\n",
        "\n",
        "1. By moving from one place to another, Peter loses **energy** and gains some **fatigue**.\n",
        "2. Peter can gain more energy by eating apples.\n",
        "3. Peter can get rid of fatigue by resting under the tree or on the grass (i.e. walking into a board location with a tree or grass - green field)\n",
        "4. Peter needs to find and kill the wolf\n",
        "5. In order to kill the wolf, Peter needs to have certain levels of energy and fatigue, otherwise he loses the battle.\n",
        "\n",
        "Modify the reward function above according to the rules of the game, run the reinforcement learning algorithm to learn the best strategy for winning the game, and compare the results of random walk with your algorithm in terms of number of games won and lost.\n",
        "\n",
        "\n",
        "> **Note**: You may need to adjust hyperparameters to make it work, especially the number of epochs. Because the success of the game (fighting the wolf) is a rare event, you can expect much longer training time.\n",
        "\n"
      ]
    },
    {
      "cell_type": "markdown",
      "metadata": {
        "id": "_EfnTPdholDN"
      },
      "source": [
        "## Section 2"
      ]
    },
    {
      "cell_type": "markdown",
      "metadata": {
        "id": "YXIH5_BGozIG"
      },
      "source": [
        "Let's implement the above exercise."
      ]
    },
    {
      "cell_type": "code",
      "execution_count": null,
      "metadata": {
        "colab": {
          "base_uri": "https://localhost:8080/",
          "height": 378
        },
        "id": "ucnJOnt0ozIM",
        "outputId": "feb90774-61dd-4b5d-ff7a-f1e74039b40a"
      },
      "outputs": [],
      "source": [
        "width, height = 8,8\n",
        "m = Board(width,height)\n",
        "m.randomize(seed=13)\n",
        "m.plot()"
      ]
    },
    {
      "attachments": {},
      "cell_type": "markdown",
      "metadata": {},
      "source": [
        "![7](https://user-images.githubusercontent.com/62965911/224305190-e43db422-9e56-4df1-87e3-426fa30bbb49.png)"
      ]
    },
    {
      "cell_type": "code",
      "execution_count": 29,
      "metadata": {
        "id": "7vlMUy6uozIO"
      },
      "outputs": [],
      "source": [
        "actions = { \"U\" : (0,-1), \"D\" : (0,1), \"L\" : (-1,0), \"R\" : (1,0) }\n",
        "action_idx = { a : i for i,a in enumerate(actions.keys()) }"
      ]
    },
    {
      "cell_type": "markdown",
      "metadata": {
        "id": "xIfsGRZ8ozIO"
      },
      "source": [
        "### Defining state\n",
        "\n",
        "In our new game rules, we need to keep track of energy and fatigue at each board state. Thus we will create an object `state` that will carry all required information about current problem state, including state of the board, current levels of energy and fatigue, and whether we can win the wolf while at terminal state:"
      ]
    },
    {
      "cell_type": "code",
      "execution_count": 30,
      "metadata": {
        "id": "QJJnXKllozIP"
      },
      "outputs": [],
      "source": [
        "class state:\n",
        "    def __init__(self,board,energy=10,fatigue=0,init=True):\n",
        "        self.board = board\n",
        "        self.energy = energy\n",
        "        self.fatigue = fatigue\n",
        "        self.dead = False\n",
        "        if init:\n",
        "            self.board.random_start()\n",
        "        self.update()\n",
        "\n",
        "    def at(self):\n",
        "        return self.board.at()\n",
        "\n",
        "    def update(self):\n",
        "        if self.at() == Board.Cell.water:\n",
        "            self.dead = True\n",
        "            return\n",
        "        if self.at() == Board.Cell.tree:\n",
        "            self.fatigue = 0\n",
        "        if self.at() == Board.Cell.apple:\n",
        "            self.energy = 10\n",
        "\n",
        "    def move(self,a):\n",
        "        self.board.move(a)\n",
        "        self.energy -= 1\n",
        "        self.fatigue += 1\n",
        "        self.update()\n",
        "\n",
        "    def is_winning(self):\n",
        "        return self.energy > self.fatigue"
      ]
    },
    {
      "cell_type": "markdown",
      "metadata": {
        "id": "3sxKhMjQozIQ"
      },
      "source": [
        "Let's try to solve the problem using random walk and see if we succeed:"
      ]
    },
    {
      "cell_type": "code",
      "execution_count": 31,
      "metadata": {
        "colab": {
          "base_uri": "https://localhost:8080/"
        },
        "id": "E4cH6LjfozIR",
        "outputId": "c3269034-1283-4178-ff8d-2286021c8a02",
        "tags": []
      },
      "outputs": [
        {
          "data": {
            "text/plain": [
              "0"
            ]
          },
          "execution_count": 31,
          "metadata": {
            "tags": []
          },
          "output_type": "execute_result"
        }
      ],
      "source": [
        "def random_policy(state):\n",
        "    return random.choice(list(actions))\n",
        "\n",
        "def walk(board,policy):\n",
        "    n = 0 # number of steps\n",
        "    s = state(board)\n",
        "    while True:\n",
        "        if s.at() == Board.Cell.wolf:\n",
        "            if s.is_winning():\n",
        "                return n # success!\n",
        "            else:\n",
        "                return -n # failure!\n",
        "        if s.at() == Board.Cell.water:\n",
        "            return 0 # died\n",
        "        a = actions[policy(m)]\n",
        "        s.move(a)\n",
        "        n+=1\n",
        "\n",
        "walk(m,random_policy)"
      ]
    },
    {
      "cell_type": "code",
      "execution_count": 32,
      "metadata": {
        "colab": {
          "base_uri": "https://localhost:8080/"
        },
        "id": "y8AAEPvcozIS",
        "outputId": "77035353-86b4-441c-a704-afd955886c05"
      },
      "outputs": [
        {
          "name": "stdout",
          "output_type": "stream",
          "text": [
            "Killed by wolf = 5, won: 1 times, drown: 94 times\n"
          ]
        }
      ],
      "source": [
        "def print_statistics(policy):\n",
        "    s,w,n = 0,0,0\n",
        "    for _ in range(100):\n",
        "        z = walk(m,policy)\n",
        "        if z<0:\n",
        "            w+=1\n",
        "        elif z==0:\n",
        "            n+=1\n",
        "        else:\n",
        "            s+=1\n",
        "    print(f\"Killed by wolf = {w}, won: {s} times, drown: {n} times\")\n",
        "\n",
        "print_statistics(random_policy)"
      ]
    },
    {
      "cell_type": "markdown",
      "metadata": {
        "id": "ZEgFPeLAozIS"
      },
      "source": [
        "### Reward Function\n"
      ]
    },
    {
      "cell_type": "code",
      "execution_count": 33,
      "metadata": {
        "id": "Me5f2_5kozIT"
      },
      "outputs": [],
      "source": [
        "def reward(s):\n",
        "    r = s.energy-s.fatigue\n",
        "    if s.at()==Board.Cell.wolf:\n",
        "        return 100 if s.is_winning() else -100\n",
        "    if s.at()==Board.Cell.water:\n",
        "        return -100\n",
        "    return r"
      ]
    },
    {
      "cell_type": "markdown",
      "metadata": {
        "id": "_8fq4SxoozIU"
      },
      "source": [
        "### Q-Learning algorithm\n",
        "\n",
        "The actual learning algorithm stays pretty much unchanged, we will use `state` instead of just board position."
      ]
    },
    {
      "cell_type": "code",
      "execution_count": 34,
      "metadata": {
        "id": "ow7pamUeozIU"
      },
      "outputs": [],
      "source": [
        "Q = np.ones((width,height,len(actions)),dtype=np.float)*1.0/len(actions)"
      ]
    },
    {
      "cell_type": "code",
      "execution_count": 35,
      "metadata": {
        "id": "_NU7h54NozIU"
      },
      "outputs": [],
      "source": [
        "def probs(v,eps=1e-4):\n",
        "    v = v-v.min()+eps\n",
        "    v = v/v.sum()\n",
        "    return v"
      ]
    },
    {
      "cell_type": "code",
      "execution_count": 36,
      "metadata": {
        "colab": {
          "base_uri": "https://localhost:8080/"
        },
        "id": "4dhfa2ZRozIV",
        "outputId": "77d8e8e2-f64d-47e7-f5ab-4e9ded7ad8bc"
      },
      "outputs": [
        {
          "name": "stdout",
          "output_type": "stream",
          "text": [
            "Epoch = 9999 48 steps\r"
          ]
        }
      ],
      "source": [
        "from IPython.display import clear_output\n",
        "\n",
        "lpath = []\n",
        "\n",
        "for epoch in range(10000):\n",
        "    clear_output(wait=True)\n",
        "    print(f\"Epoch = {epoch}\",end='')\n",
        "\n",
        "    # Pick initial point\n",
        "    s = state(m)\n",
        "    \n",
        "    # Start travelling\n",
        "    n=0\n",
        "    cum_reward = 0\n",
        "    while True:\n",
        "        x,y = s.board.human\n",
        "        v = probs(Q[x,y])\n",
        "        while True:\n",
        "            a = random.choices(list(actions),weights=v)[0]\n",
        "            dpos = actions[a]\n",
        "            if s.board.is_valid(s.board.move_pos(s.board.human,dpos)):\n",
        "                break \n",
        "        s.move(dpos)\n",
        "        r = reward(s)\n",
        "        if abs(r)==100: # end of game\n",
        "            print(f\" {n} steps\",end='\\r')\n",
        "            lpath.append(n)\n",
        "            break\n",
        "        alpha = np.exp(-n / 3000)\n",
        "        gamma = 0.5\n",
        "        ai = action_idx[a]\n",
        "        Q[x,y,ai] = (1 - alpha) * Q[x,y,ai] + alpha * (r + gamma * Q[x+dpos[0], y+dpos[1]].max())\n",
        "        n+=1"
      ]
    },
    {
      "cell_type": "code",
      "execution_count": null,
      "metadata": {
        "colab": {
          "base_uri": "https://localhost:8080/",
          "height": 378
        },
        "id": "wGi_eDOZozIW",
        "outputId": "d2760985-fcfa-456c-b5d5-693269dff4d0"
      },
      "outputs": [],
      "source": [
        "m.plot(Q)"
      ]
    },
    {
      "attachments": {},
      "cell_type": "markdown",
      "metadata": {},
      "source": [
        "![8](https://user-images.githubusercontent.com/62965911/224305193-84aed922-a19f-4823-851f-409db6367b3e.png)"
      ]
    },
    {
      "cell_type": "markdown",
      "metadata": {
        "id": "25dRA0QBozIZ"
      },
      "source": [
        "### Results\n",
        "\n",
        "Let's see if we were successful training Peter to fight the wolf!"
      ]
    },
    {
      "cell_type": "code",
      "execution_count": 38,
      "metadata": {
        "colab": {
          "base_uri": "https://localhost:8080/"
        },
        "id": "LLOPmQjjozIZ",
        "outputId": "be4c2453-fa71-4c4f-8811-b1959c91997d"
      },
      "outputs": [
        {
          "name": "stdout",
          "output_type": "stream",
          "text": [
            "Killed by wolf = 1, won: 9 times, drown: 90 times\n"
          ]
        }
      ],
      "source": [
        "def qpolicy(m):\n",
        "        x,y = m.human\n",
        "        v = probs(Q[x,y])\n",
        "        a = random.choices(list(actions),weights=v)[0]\n",
        "        return a\n",
        "\n",
        "print_statistics(qpolicy)"
      ]
    },
    {
      "cell_type": "markdown",
      "metadata": {
        "id": "wEZgpUidozIa"
      },
      "source": [
        "We now see much less cases of drowning, but Peter is still not always able to kill the wolf. Try to experiment and see if you can improve this result by playing with hyperparameters."
      ]
    },
    {
      "cell_type": "code",
      "execution_count": 39,
      "metadata": {
        "colab": {
          "base_uri": "https://localhost:8080/",
          "height": 282
        },
        "id": "_Re70UjcozIa",
        "outputId": "b366c062-c685-4334-9ca3-eb9350aeed2f"
      },
      "outputs": [
        {
          "data": {
            "text/plain": [
              "[<matplotlib.lines.Line2D at 0x7f9508f2aa10>]"
            ]
          },
          "execution_count": 39,
          "metadata": {
            "tags": []
          },
          "output_type": "execute_result"
        },
        {
          "data": {
            "image/png": "[encoded data removed]",
            "text/plain": [
              "<Figure size 432x288 with 1 Axes>"
            ]
          },
          "metadata": {
            "needs_background": "light",
            "tags": []
          },
          "output_type": "display_data"
        }
      ],
      "source": [
        "plt.plot(lpath)"
      ]
    },
    {
      "cell_type": "markdown",
      "metadata": {
        "id": "lkf6gIILss62"
      },
      "source": [
        "## Section 3"
      ]
    },
    {
      "cell_type": "markdown",
      "metadata": {
        "id": "df-3tGBlozIb"
      },
      "source": [
        "In this section, we will apply the same principles of Q-Learning to a problem with continuous state, i.e. a state that is given by one or more real numbers. We will deal with the following problem:\n",
        "\n",
        "Problem: If Peter wants to escape from the wolf, he needs to be able to move faster. We will see how Peter can learn to skate, in particular, to keep balance, using Q-Learning."
      ]
    },
    {
      "attachments": {},
      "cell_type": "markdown",
      "metadata": {},
      "source": [
        "![9](https://user-images.githubusercontent.com/62965911/224305197-80e43838-c7d1-4c02-996b-ea3bdd8604e2.png)"
      ]
    },
    {
      "cell_type": "markdown",
      "metadata": {
        "id": "kmIQwHJasy0U"
      },
      "source": [
        "> Note: We will use a simplified version of balancing known as a CartPole problem. In the cartpole world, we have a horizontal slider that can move left or right, and the goal is to balance a vertical pole on top of the slider."
      ]
    },
    {
      "cell_type": "markdown",
      "metadata": {
        "id": "M4cl98EatNIl"
      },
      "source": [
        "### OpenAI Gym\n",
        "In previous sections, the rules of the game and the state were given by the Board class which we defined ourselves. Here we will use a special simulation environment, which will simulate the physics behind the balancing pole. One of the most popular simulation environments for training reinforcement learning algorithms is called a Gym, which is maintained by OpenAI. By using this gym we can create difference environments from a cartpole simulation to Atari games."
      ]
    },
    {
      "cell_type": "code",
      "execution_count": null,
      "metadata": {
        "id": "JH115T2htBqT"
      },
      "outputs": [],
      "source": [
        "!apt-get install -y xvfb x11-utils\n",
        "\n",
        "!pip install pyvirtualdisplay==0.2.* \\\n",
        "             PyOpenGL==3.1.* \\\n",
        "             PyOpenGL-accelerate==3.1.*\n",
        "\n",
        "!pip install gym"
      ]
    },
    {
      "cell_type": "code",
      "execution_count": 44,
      "metadata": {
        "id": "LSvVZV2ytdbs"
      },
      "outputs": [],
      "source": [
        "import pyvirtualdisplay\n",
        "\n",
        "_display = pyvirtualdisplay.Display(visible=False,  # use False with Xvfb\n",
        "                                    size=(1400, 900))\n",
        "_ = _display.start()"
      ]
    },
    {
      "cell_type": "markdown",
      "metadata": {
        "id": "uyQ2VxqquNoZ"
      },
      "source": [
        "### CartPole Skating\n",
        "\n",
        "> **Problem**: If Peter wants to escape from the wolf, he needs to be able to move faster than him. We will see how Peter can learn to skate, in particular, to keep balance, using Q-Learning.\n",
        "\n",
        "First, let's install the gym and import required libraries:"
      ]
    },
    {
      "cell_type": "code",
      "execution_count": 45,
      "metadata": {
        "id": "XCWZjoGiuNoc"
      },
      "outputs": [],
      "source": [
        "import sys\n",
        "import gym\n",
        "import matplotlib.pyplot as plt\n",
        "import numpy as np\n",
        "import random"
      ]
    },
    {
      "cell_type": "markdown",
      "metadata": {
        "id": "R5K2-a4WuNof"
      },
      "source": [
        "### Create a cartpole environment"
      ]
    },
    {
      "cell_type": "code",
      "execution_count": 46,
      "metadata": {
        "colab": {
          "base_uri": "https://localhost:8080/"
        },
        "id": "MO3OiR-juNof",
        "outputId": "91b488c1-ce38-4850-972c-fcfc82d67fe1"
      },
      "outputs": [
        {
          "name": "stdout",
          "output_type": "stream",
          "text": [
            "Discrete(2)\n",
            "Box(-3.4028234663852886e+38, 3.4028234663852886e+38, (4,), float32)\n",
            "1\n"
          ]
        }
      ],
      "source": [
        "env = gym.make(\"CartPole-v1\")\n",
        "print(env.action_space)\n",
        "print(env.observation_space)\n",
        "print(env.action_space.sample())"
      ]
    },
    {
      "cell_type": "code",
      "execution_count": null,
      "metadata": {
        "colab": {
          "base_uri": "https://localhost:8080/",
          "height": 417
        },
        "id": "WSo-Gun_12Wq",
        "outputId": "bd9d3e24-6daa-4017-89f4-6c6f6e10565a"
      },
      "outputs": [],
      "source": [
        "from IPython.display import Image\n",
        "Image(open('images/cartpole-nobalance.gif','rb').read())"
      ]
    },
    {
      "attachments": {},
      "cell_type": "markdown",
      "metadata": {},
      "source": [
        "![10](https://user-images.githubusercontent.com/62965911/224305201-4fb37363-1cec-4599-a215-fcb6a164dfb6.png)"
      ]
    },
    {
      "cell_type": "markdown",
      "metadata": {
        "id": "oXSYrv5fuNog"
      },
      "source": [
        "To see how the environment works, let's run a short simulation for 100 steps."
      ]
    },
    {
      "cell_type": "code",
      "execution_count": 47,
      "metadata": {
        "colab": {
          "base_uri": "https://localhost:8080/"
        },
        "id": "m-9-6ZSpuNoh",
        "outputId": "23931c92-6b18-463f-8354-a4e0838f40c9"
      },
      "outputs": [
        {
          "name": "stderr",
          "output_type": "stream",
          "text": [
            "/usr/local/lib/python3.7/dist-packages/gym/logger.py:30: UserWarning: \u001b[33mWARN: You are calling 'step()' even though this environment has already returned done = True. You should always call 'reset()' once you receive 'done = True' -- any further steps are undefined behavior.\u001b[0m\n",
            "  warnings.warn(colorize('%s: %s'%('WARN', msg % args), 'yellow'))\n"
          ]
        }
      ],
      "source": [
        "env.reset()\n",
        "\n",
        "for i in range(100):\n",
        "   env.render()\n",
        "   env.step(env.action_space.sample())\n",
        "env.close()"
      ]
    },
    {
      "cell_type": "markdown",
      "metadata": {
        "id": "S0j7KKYtuNoi"
      },
      "source": [
        "During simulation, we need to get observations in order to decide how to act. In fact, `step` function returns us back current observations, reward function, and the `done` flag that indicates whether it makes sense to continue the simulation or not:"
      ]
    },
    {
      "cell_type": "code",
      "execution_count": 48,
      "metadata": {
        "colab": {
          "base_uri": "https://localhost:8080/"
        },
        "id": "Q3DzNjN8uNoj",
        "outputId": "5a7a7536-0c25-4810-9658-9658fea4e5bf"
      },
      "outputs": [
        {
          "name": "stdout",
          "output_type": "stream",
          "text": [
            "[ 0.00220021  0.22944733 -0.01140885 -0.26823641] -> 1.0\n",
            "[ 0.00678916  0.03449004 -0.01677358  0.02082636] -> 1.0\n",
            "[ 0.00747896 -0.16038739 -0.01635705  0.30817019] -> 1.0\n",
            "[ 0.00427121 -0.3552725  -0.01019365  0.59564999] -> 1.0\n",
            "[-0.00283424 -0.55025032  0.00171935  0.88510464] -> 1.0\n",
            "[-0.01383925 -0.35515175  0.01942144  0.59296271] -> 1.0\n",
            "[-0.02094228 -0.16030698  0.0312807   0.30646021] -> 1.0\n",
            "[-0.02414842  0.03435559  0.0374099   0.02380424] -> 1.0\n",
            "[-0.02346131 -0.16128233  0.03788599  0.32805174] -> 1.0\n",
            "[-0.02668696 -0.35692259  0.04444702  0.63243736] -> 1.0\n",
            "[-0.03382541 -0.55263553  0.05709577  0.93877995] -> 1.0\n",
            "[-0.04487812 -0.74847881  0.07587137  1.24884322] -> 1.0\n",
            "[-0.05984769 -0.55440705  0.10084823  0.98085784] -> 1.0\n",
            "[-0.07093584 -0.36077073  0.12046539  0.72147828] -> 1.0\n",
            "[-0.07815125 -0.55733493  0.13489496  1.04951899] -> 1.0\n",
            "[-0.08929795 -0.36423521  0.15588534  0.80203969] -> 1.0\n",
            "[-0.09658265 -0.17155524  0.17192613  0.56216916] -> 1.0\n",
            "[-0.10001376 -0.36861978  0.18316951  0.90370564] -> 1.0\n",
            "[-0.10738615 -0.56568675  0.20124363  1.24791231] -> 1.0\n",
            "[-0.11869989 -0.76273776  0.22620187  1.59629079] -> 1.0\n"
          ]
        }
      ],
      "source": [
        "env.reset()\n",
        "\n",
        "done = False\n",
        "while not done:\n",
        "   env.render()\n",
        "   obs, rew, done, info = env.step(env.action_space.sample())\n",
        "   print(f\"{obs} -> {rew}\")\n",
        "env.close()"
      ]
    },
    {
      "cell_type": "markdown",
      "metadata": {
        "id": "AGgds2pLuNol"
      },
      "source": [
        "We can get min and max value of those numbers:"
      ]
    },
    {
      "cell_type": "code",
      "execution_count": 49,
      "metadata": {
        "colab": {
          "base_uri": "https://localhost:8080/"
        },
        "id": "v7mpurQGuNom",
        "outputId": "66b80ac4-1730-4ebb-ab97-52d895d72bab"
      },
      "outputs": [
        {
          "name": "stdout",
          "output_type": "stream",
          "text": [
            "[-4.8000002e+00 -3.4028235e+38 -4.1887903e-01 -3.4028235e+38]\n",
            "[4.8000002e+00 3.4028235e+38 4.1887903e-01 3.4028235e+38]\n"
          ]
        }
      ],
      "source": [
        "print(env.observation_space.low)\n",
        "print(env.observation_space.high)"
      ]
    },
    {
      "cell_type": "markdown",
      "metadata": {
        "id": "Q58CGRuuuNon"
      },
      "source": [
        "### State Discretization"
      ]
    },
    {
      "cell_type": "code",
      "execution_count": 50,
      "metadata": {
        "id": "RFkszuoUuNoo"
      },
      "outputs": [],
      "source": [
        "def discretize(x):\n",
        "    return tuple((x/np.array([0.25, 0.25, 0.01, 0.1])).astype(np.int))"
      ]
    },
    {
      "cell_type": "markdown",
      "metadata": {
        "id": "5-lE7kD0uNoo"
      },
      "source": [
        "Let's also explore other discretization method using bins:"
      ]
    },
    {
      "cell_type": "code",
      "execution_count": 51,
      "metadata": {
        "colab": {
          "base_uri": "https://localhost:8080/"
        },
        "id": "utuRsW2EuNop",
        "outputId": "eaa6fce3-b12b-49a8-c7d2-893bbfed484a"
      },
      "outputs": [
        {
          "name": "stdout",
          "output_type": "stream",
          "text": [
            "Sample bins for interval (-5,5) with 10 bins\n",
            " [-5. -4. -3. -2. -1.  0.  1.  2.  3.  4.  5.]\n"
          ]
        }
      ],
      "source": [
        "def create_bins(i,num):\n",
        "    return np.arange(num+1)*(i[1]-i[0])/num+i[0]\n",
        "\n",
        "print(\"Sample bins for interval (-5,5) with 10 bins\\n\",create_bins((-5,5),10))\n",
        "\n",
        "ints = [(-5,5),(-2,2),(-0.5,0.5),(-2,2)] # intervals of values for each parameter\n",
        "nbins = [20,20,10,10] # number of bins for each parameter\n",
        "bins = [create_bins(ints[i],nbins[i]) for i in range(4)]\n",
        "\n",
        "def discretize_bins(x):\n",
        "    return tuple(np.digitize(x[i],bins[i]) for i in range(4))"
      ]
    },
    {
      "cell_type": "markdown",
      "metadata": {
        "id": "azWPrudJuNop"
      },
      "source": [
        "Let's now run a short simulation and observe those discrete environment values."
      ]
    },
    {
      "cell_type": "code",
      "execution_count": 52,
      "metadata": {
        "colab": {
          "base_uri": "https://localhost:8080/"
        },
        "id": "7WF03T_kuNoq",
        "outputId": "4f285684-4d4c-4b1d-f819-4a60029a8fdf"
      },
      "outputs": [
        {
          "name": "stdout",
          "output_type": "stream",
          "text": [
            "(0, 0, -1, -3)\n",
            "(0, 1, -1, -6)\n",
            "(0, 2, -3, -9)\n",
            "(0, 3, -4, -12)\n",
            "(0, 3, -7, -15)\n",
            "(0, 4, -10, -18)\n",
            "(0, 3, -14, -15)\n",
            "(0, 4, -17, -19)\n",
            "(0, 3, -21, -16)\n"
          ]
        }
      ],
      "source": [
        "env.reset()\n",
        "\n",
        "done = False\n",
        "while not done:\n",
        "   #env.render()\n",
        "   obs, rew, done, info = env.step(env.action_space.sample())\n",
        "   #print(discretize_bins(obs))\n",
        "   print(discretize(obs))\n",
        "env.close()"
      ]
    },
    {
      "cell_type": "markdown",
      "metadata": {
        "id": "c0VxfarVuNoq"
      },
      "source": [
        "### Q-Table Structure"
      ]
    },
    {
      "cell_type": "code",
      "execution_count": 53,
      "metadata": {
        "id": "JEP_MAaruNoq"
      },
      "outputs": [],
      "source": [
        "Q = {}\n",
        "actions = (0,1)\n",
        "\n",
        "def qvalues(state):\n",
        "    return [Q.get((state,a),0) for a in actions]"
      ]
    },
    {
      "cell_type": "markdown",
      "metadata": {
        "id": "uGnBdkfjuNor"
      },
      "source": [
        "### Let's Start Q-Learning!"
      ]
    },
    {
      "cell_type": "code",
      "execution_count": 54,
      "metadata": {
        "id": "SMlCWSK2uNor"
      },
      "outputs": [],
      "source": [
        "# hyperparameters\n",
        "alpha = 0.3\n",
        "gamma = 0.9\n",
        "epsilon = 0.90"
      ]
    },
    {
      "cell_type": "code",
      "execution_count": 55,
      "metadata": {
        "colab": {
          "base_uri": "https://localhost:8080/"
        },
        "id": "1bDVZ5sDuNor",
        "outputId": "24bc34fb-d2c9-4382-f84b-74e590e2fb9a"
      },
      "outputs": [
        {
          "name": "stdout",
          "output_type": "stream",
          "text": [
            "0: 36.0, alpha=0.3, epsilon=0.9\n",
            "5000: 95.7114, alpha=0.3, epsilon=0.9\n",
            "10000: 143.0132, alpha=0.3, epsilon=0.9\n",
            "15000: 162.9334, alpha=0.3, epsilon=0.9\n",
            "20000: 182.181, alpha=0.3, epsilon=0.9\n",
            "25000: 193.3598, alpha=0.3, epsilon=0.9\n",
            "30000: 213.3228, alpha=0.3, epsilon=0.9\n",
            "35000: 223.3262, alpha=0.3, epsilon=0.9\n",
            "40000: 238.8152, alpha=0.3, epsilon=0.9\n",
            "45000: 247.5302, alpha=0.3, epsilon=0.9\n",
            "50000: 275.7824, alpha=0.3, epsilon=0.9\n",
            "55000: 281.1164, alpha=0.3, epsilon=0.9\n",
            "60000: 307.8212, alpha=0.3, epsilon=0.9\n",
            "65000: 293.3144, alpha=0.3, epsilon=0.9\n",
            "70000: 302.5454, alpha=0.3, epsilon=0.9\n",
            "75000: 294.7994, alpha=0.3, epsilon=0.9\n",
            "80000: 296.515, alpha=0.3, epsilon=0.9\n",
            "85000: 304.9482, alpha=0.3, epsilon=0.9\n",
            "90000: 304.2536, alpha=0.3, epsilon=0.9\n",
            "95000: 314.6624, alpha=0.3, epsilon=0.9\n"
          ]
        }
      ],
      "source": [
        "def probs(v,eps=1e-4):\n",
        "    v = v-v.min()+eps\n",
        "    v = v/v.sum()\n",
        "    return v\n",
        "\n",
        "Qmax = 0\n",
        "cum_rewards = []\n",
        "rewards = []\n",
        "for epoch in range(100000):\n",
        "    obs = env.reset()\n",
        "    done = False\n",
        "    cum_reward=0\n",
        "    # == do the simulation ==\n",
        "    while not done:\n",
        "        s = discretize(obs)\n",
        "        if random.random()<epsilon:\n",
        "            # exploitation - chose the action according to Q-Table probabilities\n",
        "            v = probs(np.array(qvalues(s)))\n",
        "            a = random.choices(actions,weights=v)[0]\n",
        "        else:\n",
        "            # exploration - randomly chose the action\n",
        "            a = np.random.randint(env.action_space.n)\n",
        "\n",
        "        obs, rew, done, info = env.step(a)\n",
        "        cum_reward+=rew\n",
        "        ns = discretize(obs)\n",
        "        Q[(s,a)] = (1 - alpha) * Q.get((s,a),0) + alpha * (rew + gamma * max(qvalues(ns)))\n",
        "    cum_rewards.append(cum_reward)\n",
        "    rewards.append(cum_reward)\n",
        "    # == Periodically print results and calculate average reward ==\n",
        "    if epoch%5000==0:\n",
        "        print(f\"{epoch}: {np.average(cum_rewards)}, alpha={alpha}, epsilon={epsilon}\")\n",
        "        if np.average(cum_rewards) > Qmax:\n",
        "            Qmax = np.average(cum_rewards)\n",
        "            Qbest = Q\n",
        "        cum_rewards=[]"
      ]
    },
    {
      "cell_type": "markdown",
      "metadata": {
        "id": "ZMEBfBeJuNot"
      },
      "source": [
        "### Plotting Training Progress"
      ]
    },
    {
      "cell_type": "code",
      "execution_count": 56,
      "metadata": {
        "colab": {
          "base_uri": "https://localhost:8080/",
          "height": 282
        },
        "id": "0WcrMLqSuNot",
        "outputId": "8de083da-53d9-4a29-cda8-2a564396df5a"
      },
      "outputs": [
        {
          "data": {
            "text/plain": [
              "[<matplotlib.lines.Line2D at 0x7f94f97e0b50>]"
            ]
          },
          "execution_count": 56,
          "metadata": {
            "tags": []
          },
          "output_type": "execute_result"
        },
        {
          "data": {
            "image/png": "[encoded data removed]",
            "text/plain": [
              "<Figure size 432x288 with 1 Axes>"
            ]
          },
          "metadata": {
            "needs_background": "light",
            "tags": []
          },
          "output_type": "display_data"
        }
      ],
      "source": [
        "plt.plot(rewards)"
      ]
    },
    {
      "cell_type": "markdown",
      "metadata": {
        "id": "2wiNZcfBuNou"
      },
      "source": [
        "From this graph, it is not possible to tell anything, because due to the nature of stochastic training process the length of training sessions varies greatly. To make more sense of this graph, we can calculate **running average** over series of experiments, let's say 100. This can be done conveniently using `np.convolve`:"
      ]
    },
    {
      "cell_type": "code",
      "execution_count": 57,
      "metadata": {
        "colab": {
          "base_uri": "https://localhost:8080/",
          "height": 285
        },
        "id": "MhuXZ33xuNov",
        "outputId": "ebf51aa6-5e79-41f3-d72f-c93b1fd3db0c"
      },
      "outputs": [
        {
          "data": {
            "text/plain": [
              "[<matplotlib.lines.Line2D at 0x7f94f9755d10>]"
            ]
          },
          "execution_count": 57,
          "metadata": {
            "tags": []
          },
          "output_type": "execute_result"
        },
        {
          "data": {
            "image/png": "[encoded data removed]",
            "text/plain": [
              "<Figure size 432x288 with 1 Axes>"
            ]
          },
          "metadata": {
            "needs_background": "light",
            "tags": []
          },
          "output_type": "display_data"
        }
      ],
      "source": [
        "def running_average(x,window):\n",
        "    return np.convolve(x,np.ones(window)/window,mode='valid')\n",
        "\n",
        "plt.plot(running_average(rewards,100))"
      ]
    },
    {
      "cell_type": "markdown",
      "metadata": {
        "id": "CsEpGxlPuNow"
      },
      "source": [
        "### Varying Hyperparameters and Seeing the Result in Action\n",
        "\n",
        "Now it would be interesting to actually see how the trained model behaves. Let's run the simulation, and we will be following the same action selection strategy as during training: sampling according to the probability distribution in Q-Table: "
      ]
    },
    {
      "cell_type": "code",
      "execution_count": 58,
      "metadata": {
        "id": "cQ_1zQN6uNox"
      },
      "outputs": [],
      "source": [
        "obs = env.reset()\n",
        "done = False\n",
        "while not done:\n",
        "   s = discretize(obs)\n",
        "   env.render()\n",
        "   v = probs(np.array(qvalues(s)))\n",
        "   a = random.choices(actions,weights=v)[0]\n",
        "   obs,_,done,_ = env.step(a)\n",
        "env.close()"
      ]
    },
    {
      "cell_type": "markdown",
      "metadata": {
        "id": "yYNA9-4nuNox"
      },
      "source": [
        "### Saving result to an animated GIF\n",
        "\n",
        "If you want to impress your friends, you may want to send them the animated GIF picture of the balancing pole. To do this, we can invoke `env.render` to produce an image frame, and then save those to animated GIF using PIL library:"
      ]
    },
    {
      "cell_type": "code",
      "execution_count": 59,
      "metadata": {
        "colab": {
          "base_uri": "https://localhost:8080/"
        },
        "id": "jCcqOkjwuNoy",
        "outputId": "14a8ecac-dedf-457a-a014-93a7ade61ec6"
      },
      "outputs": [
        {
          "name": "stdout",
          "output_type": "stream",
          "text": [
            "363\n"
          ]
        }
      ],
      "source": [
        "from PIL import Image\n",
        "obs = env.reset()\n",
        "done = False\n",
        "i=0\n",
        "ims = []\n",
        "while not done:\n",
        "   s = discretize(obs)\n",
        "   img=env.render(mode='rgb_array')\n",
        "   ims.append(Image.fromarray(img))\n",
        "   v = probs(np.array([Qbest.get((s,a),0) for a in actions]))\n",
        "   a = random.choices(actions,weights=v)[0]\n",
        "   obs,_,done,_ = env.step(a)\n",
        "   i+=1\n",
        "env.close()\n",
        "ims[0].save('images/cartpole-balance.gif',save_all=True,append_images=ims[1::2],loop=0,duration=5)\n",
        "print(i)"
      ]
    },
    {
      "cell_type": "code",
      "execution_count": null,
      "metadata": {
        "colab": {
          "base_uri": "https://localhost:8080/",
          "height": 417
        },
        "id": "1zy5x_Et1fYI",
        "outputId": "eb3adc6f-b805-4cb2-c856-34bafd90f59e"
      },
      "outputs": [],
      "source": [
        "from IPython.display import Image\n",
        "Image(open('images/cartpole-balance.gif','rb').read())"
      ]
    },
    {
      "attachments": {},
      "cell_type": "markdown",
      "metadata": {},
      "source": [
        "![11](https://user-images.githubusercontent.com/62965911/224305202-b0f48ad3-71a5-4f56-88e9-3f7fb1cbb42e.png)"
      ]
    }
  ],
  "metadata": {
    "colab": {
      "authorship_tag": "ABX9TyN3kAptehBxZp98XN4CPabY",
      "mount_file_id": "1NnDFlwcw7FNGhD1eKGx3DaZ1g0FhFGoq",
      "name": "2021-07-19-rl-basics.ipynb",
      "provenance": []
    },
    "kernelspec": {
      "display_name": "Python 3",
      "name": "python3"
    },
    "language_info": {
      "name": "python"
    }
  },
  "nbformat": 4,
  "nbformat_minor": 0
}
