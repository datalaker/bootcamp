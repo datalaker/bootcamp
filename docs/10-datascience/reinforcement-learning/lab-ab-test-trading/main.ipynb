{
 "cells": [
  {
   "attachments": {},
   "cell_type": "markdown",
   "metadata": {},
   "source": [
    "# Comparing Trading Cost by A/B Test"
   ]
  },
  {
   "attachments": {},
   "cell_type": "markdown",
   "metadata": {},
   "source": [
    "### Imports"
   ]
  },
  {
   "cell_type": "code",
   "execution_count": 2,
   "metadata": {},
   "outputs": [],
   "source": [
    "import numpy as np\n",
    "import scipy\n",
    "import scipy.stats\n",
    "import matplotlib as mpl\n",
    "import matplotlib.pyplot as plt"
   ]
  },
  {
   "attachments": {},
   "cell_type": "markdown",
   "metadata": {},
   "source": [
    "## Running an ad hoc experiment"
   ]
  },
  {
   "attachments": {},
   "cell_type": "markdown",
   "metadata": {},
   "source": [
    "To understand A/B testing, we need to first understand the problems it solves. One way to do that is to, for a moment, ignore A/B testing methods and, instead, proceed simply and intuitively and see what problems we run into. Specifically, let's reconfigure a trading system and see if that reduces trading costs.\n",
    "\n",
    "Imagine you're a quant, and you're developing an agency trading system. The system takes in customer orders like \"Buy 1,000 shares of AAPL stock over the next hour,\" and after buying the shares on behalf of the customer, it reports the cost of executing the trade. Customers, of course, prefer lower costs, so you use execution cost as your business metric. Your job as a quant is to find ways to modify the trading system that result in lower execution cost.\n",
    "\n",
    "A simple change you can make to the system is to buy the shares on a different exchange. An *exchange* is a third-party service that facilitates anonymous trading between any two trading systems. Your system sends trading commands to the exchange's server. A command might be \"Buy 100 shares of AAPL right now.\" If, for example, it sends that command ten times over the course of an hour, it will have purchased 1,000 shares of AAPL stock for one of your customers.\n",
    "\n",
    "At present, your system trades on an exchange run by a company called ASDAQ (version A of your system). You suspect it might be cheaper to trade on the exchange BYSE (version B of your system). You'll measure execution cost on each exchange and compare to see if your suspicion is correct."
   ]
  },
  {
   "attachments": {},
   "cell_type": "markdown",
   "metadata": {},
   "source": [
    "### Simulate the trading system"
   ]
  },
  {
   "cell_type": "code",
   "execution_count": 3,
   "metadata": {},
   "outputs": [],
   "source": [
    "def trading_system(exchange):\n",
    "    if exchange == \"ASDAQ\":\n",
    "        execution_cost = 12\n",
    "    elif exchange == \"BYSE\":\n",
    "        execution_cost = 10\n",
    "    execution_cost += np.random.normal()\n",
    "    return execution_cost"
   ]
  },
  {
   "attachments": {},
   "cell_type": "markdown",
   "metadata": {},
   "source": [
    "### Compare execution costs"
   ]
  },
  {
   "cell_type": "code",
   "execution_count": 4,
   "metadata": {},
   "outputs": [
    {
     "name": "stdout",
     "output_type": "stream",
     "text": [
      "12.27626589002132\n",
      "8.145371921193496\n"
     ]
    }
   ],
   "source": [
    "np.random.seed(17)\n",
    "print(trading_system(\"ASDAQ\"))\n",
    "print(trading_system(\"BYSE\"))"
   ]
  },
  {
   "cell_type": "code",
   "execution_count": 5,
   "metadata": {},
   "outputs": [
    {
     "name": "stdout",
     "output_type": "stream",
     "text": [
      "12.079428443806204\n",
      "12.190202357414222\n"
     ]
    }
   ],
   "source": [
    "np.random.seed(18)\n",
    "print(trading_system(\"ASDAQ\"))\n",
    "print(trading_system(\"BYSE\"))"
   ]
  },
  {
   "attachments": {},
   "cell_type": "markdown",
   "metadata": {},
   "source": [
    "### Variation"
   ]
  },
  {
   "cell_type": "code",
   "execution_count": 6,
   "metadata": {},
   "outputs": [
    {
     "data": {
      "image/png": "[encoded data removed]",
      "text/plain": [
       "<Figure size 432x288 with 1 Axes>"
      ]
     },
     "metadata": {
      "needs_background": "light"
     },
     "output_type": "display_data"
    }
   ],
   "source": [
    "np.random.seed(17)\n",
    "a = np.array([trading_system(\"ASDAQ\") for _ in range(1000)])\n",
    "b = np.array([trading_system(\"BYSE\") for _ in range(1000)])\n",
    "plt.hist(a, 25, color=\"green\")\n",
    "plt.hist(b, 25, color=\"blue\")\n",
    "plt.legend([\"ASDAQ\", \"BYSE\"])\n",
    "plt.xlabel(\"execution cost (mips)\")\n",
    "plt.show()"
   ]
  },
  {
   "attachments": {},
   "cell_type": "markdown",
   "metadata": {},
   "source": [
    "This sort of variation from measurement to measurement is typical, and it makes your decision about which exchange to use unreliable. A/B testing uses a technique called *replication* - averaging over multiple measurements - to increase the reliability of your decision. To get a feel for how this works, let's take an average over 100 measurements:"
   ]
  },
  {
   "cell_type": "code",
   "execution_count": 7,
   "metadata": {},
   "outputs": [
    {
     "name": "stdout",
     "output_type": "stream",
     "text": [
      "12.111509794247766\n",
      "10.008382946497413\n"
     ]
    }
   ],
   "source": [
    "np.random.seed(17)\n",
    "print(np.array([trading_system(\"ASDAQ\") for _ in range(100)]).mean())\n",
    "print(np.array([trading_system(\"BYSE\") for _ in range(100)]).mean())"
   ]
  },
  {
   "attachments": {},
   "cell_type": "markdown",
   "metadata": {},
   "source": [
    "### Bias"
   ]
  },
  {
   "attachments": {},
   "cell_type": "markdown",
   "metadata": {},
   "source": [
    "Since you need to take many measurements, you'll need to do a little planning to get them all done. You'll take all the BYSE measurements in the morning, go get lunch, then take the ASDAQ measurements in the afternoon. What you aren't aware of is the fact that all trading---regardless of exchange---is cheaper in the afternoon (for reasons that have to do with natural market dynamics). The following listing simulates this effect; let's call it the *time-of-day effect*."
   ]
  },
  {
   "cell_type": "code",
   "execution_count": 8,
   "metadata": {},
   "outputs": [],
   "source": [
    "#  A simulator that accounts for time of day\n",
    "def trading_system_tod(exchange, time_of_day):\n",
    "    if time_of_day == \"morning\":\n",
    "        bias = 2.5\n",
    "    elif time_of_day == \"afternoon\":\n",
    "        bias = 0\n",
    "    return bias + trading_system(exchange)"
   ]
  },
  {
   "cell_type": "code",
   "execution_count": 9,
   "metadata": {},
   "outputs": [
    {
     "name": "stdout",
     "output_type": "stream",
     "text": [
      "12.505928091007245\n",
      "12.061048269372224\n"
     ]
    }
   ],
   "source": [
    "print(np.array([trading_system_tod(\"BYSE\", \"morning\") for _ in range(1000)]).mean())\n",
    "print(np.array([trading_system_tod(\"ASDAQ\", \"afternoon\") for _ in range(1000)]).mean())"
   ]
  },
  {
   "attachments": {},
   "cell_type": "markdown",
   "metadata": {},
   "source": [
    "If we were unaware of the time-of-day effect, we would conclude from this measurement that ASDAQ’s trading costs were lower than BYSE’s. This is the opposite result of the previous section, and it is wrong. Also, it persists. If you rerun this measurement, you’ll usually get the result that ASDAQ is cheaper.\n",
    "\n",
    "This incorrect result comes from applying the time-of-day bias differently—and consistently—to ASDAQ than to BYSE. When a bias is applied differently and consistently (to the two versions of the system being compared) like this, it’s called confounder bias. Confounder bias can lead to incorrect decisions about whether to make changes to your system.\n",
    "\n",
    "A simple trick to remove confounder bias is randomization. You still run your experiment in both morning and afternoon, as you planned, but every time your system makes a trade, it should flip a coin. If the coin comes up heads, send the orders to ASDAQ. If it comes up tails, send them to BYSE. You’ll find that about half of your ASDAQ orders happen in the morning and half happen in the afternoon. The same will hold true for BYSE. The following listing shows how to do this explicitly."
   ]
  },
  {
   "cell_type": "code",
   "execution_count": 10,
   "metadata": {},
   "outputs": [],
   "source": [
    "# A randomized measurement\n",
    "def randomized_measurement():\n",
    "    asdaq_measurement = []\n",
    "    byse_measurement = []\n",
    "    for tod in [\"morning\", \"afternoon\"]:\n",
    "        for _ in range(100):\n",
    "            if np.random.randint(2) == 0:\n",
    "                asdaq_measurement.append(trading_system_tod(\"ASDAQ\", tod))\n",
    "            else:\n",
    "                byse_measurement.append(trading_system_tod(\"BYSE\", tod))\n",
    "    return (np.array(asdaq_measurement).mean(), \n",
    "            np.array(byse_measurement).mean())"
   ]
  },
  {
   "cell_type": "code",
   "execution_count": 11,
   "metadata": {},
   "outputs": [
    {
     "data": {
      "text/plain": [
       "(13.39588870623852, 11.259639285763223)"
      ]
     },
     "execution_count": 11,
     "metadata": {},
     "output_type": "execute_result"
    }
   ],
   "source": [
    "np.random.seed(17)\n",
    "randomized_measurement()"
   ]
  },
  {
   "attachments": {},
   "cell_type": "markdown",
   "metadata": {},
   "source": [
    "These measurements show that ASDAQ is more expensive than BYSE, which is correct. If you run randomized_measurement() again, you’ll find that ASDAQ is more expensive. Randomization removed the time-of-day bias from your measurement.\n",
    "\n",
    "The amazing thing is that you don’t have to know about the time-of-day effect to remove it from your measurements. Put another way, the randomization logic (i.e., flipping a coin) does not use any information about the biases in your system. Randomization removes all confounder biases without you having to know they even exist. But beware, they do exist, and if you don’t randomize, you’ll often end up making bad decisions about how to improve your trading system.\n",
    "\n",
    "Variation and bias are the two problems that experiments aim to solve. Variation causes measurements to be sometimes too high and sometimes too low, although on average they’ll be correct. Bias causes measurements to be consistently too high or too low, no matter how many measurements you average over.\n",
    "\n",
    "A/B testing uses replication to reduce variation and randomization to remove bias."
   ]
  },
  {
   "attachments": {},
   "cell_type": "markdown",
   "metadata": {},
   "source": [
    "## Take a precise measurement"
   ]
  },
  {
   "attachments": {},
   "cell_type": "markdown",
   "metadata": {},
   "source": [
    "### Mitigate measurement variation with replication"
   ]
  },
  {
   "cell_type": "code",
   "execution_count": 12,
   "metadata": {},
   "outputs": [],
   "source": [
    "# Aggregate measurement\n",
    "def aggregate_measurement(exchange, num_individual_measurements):\n",
    "    individual_measurements = np.array(\n",
    "        [trading_system(exchange) for _ in range(num_individual_measurements)]\n",
    "    )\n",
    "    return individual_measurements.mean()"
   ]
  },
  {
   "cell_type": "code",
   "execution_count": 13,
   "metadata": {},
   "outputs": [
    {
     "name": "stdout",
     "output_type": "stream",
     "text": [
      "(7.941655880462077, 16.14289667197706, 0.0, 290.85)\n"
     ]
    },
    {
     "data": {
      "image/png": "[encoded data removed]",
      "text/plain": [
       "<Figure size 432x288 with 1 Axes>"
      ]
     },
     "metadata": {
      "needs_background": "light"
     },
     "output_type": "display_data"
    }
   ],
   "source": [
    "plt.hist(np.array([trading_system(\"ASDAQ\") for _ in range(1000)]), color=\"green\")\n",
    "plt.hist(np.array([aggregate_measurement(\"ASDAQ\", 3) for _ in range(1000)]), color=\"blue\")\n",
    "plt.xlabel(\"execution cost (mps)\")\n",
    "print(plt.axis())\n",
    "plt.legend([\"individual\", \"aggregate of 3\"])\n",
    "plt.show()"
   ]
  },
  {
   "cell_type": "code",
   "execution_count": 14,
   "metadata": {},
   "outputs": [
    {
     "data": {
      "image/png": "[encoded data removed]",
      "text/plain": [
       "<Figure size 432x288 with 1 Axes>"
      ]
     },
     "metadata": {
      "needs_background": "light"
     },
     "output_type": "display_data"
    }
   ],
   "source": [
    "color_1 = \"#444444\"\n",
    "color_2 = \"#777777\"\n",
    "color_3 = \"#AAAAAA\"\n",
    "color_4 = \"#DDDDDD\"\n",
    "\n",
    "plt.hist(np.array([trading_system(\"ASDAQ\") for _ in range(1000)]), color=color_1)\n",
    "plt.hist(np.array([aggregate_measurement(\"ASDAQ\", 3) for _ in range(1000)]), color=color_2)\n",
    "plt.hist(np.array([aggregate_measurement(\"ASDAQ\", 30) for _ in range(1000)]), color=color_3)\n",
    "plt.hist(np.array([aggregate_measurement(\"ASDAQ\", 300) for _ in range(1000)]), color=color_4)\n",
    "plt.xlabel(\"execution cost (mps)\")\n",
    "plt.legend([\"individual\", \"aggregate of 3\", \"aggregate of 30\", \"aggregate of 300\"])\n",
    "plt.show()"
   ]
  },
  {
   "cell_type": "code",
   "execution_count": 15,
   "metadata": {},
   "outputs": [],
   "source": [
    "# Aggregate measurement with SE\n",
    "def aggregate_measurement_with_se(exchange, num_individual_measurements):\n",
    "    individual_measurements = np.array(\n",
    "        [trading_system(exchange) for _ in range(num_individual_measurements)]\n",
    "    )\n",
    "    aggregate_measurement = individual_measurements.mean()\n",
    "    sd_1 = individual_measurements.std()\n",
    "    se = sd_1 / np.sqrt(num_individual_measurements)\n",
    "    return aggregate_measurement, se"
   ]
  },
  {
   "cell_type": "code",
   "execution_count": 16,
   "metadata": {},
   "outputs": [
    {
     "name": "stdout",
     "output_type": "stream",
     "text": [
      "(12.000257642551059, 0.060254756364981225)\n",
      "(10.051095649188758, 0.05714189794415452)\n"
     ]
    }
   ],
   "source": [
    "np.random.seed(17)\n",
    "print(aggregate_measurement_with_se(\"ASDAQ\", 300))\n",
    "print(aggregate_measurement_with_se(\"BYSE\", 300))"
   ]
  },
  {
   "cell_type": "code",
   "execution_count": null,
   "metadata": {},
   "outputs": [],
   "source": []
  }
 ],
 "metadata": {
  "kernelspec": {
   "display_name": "env-spacy",
   "language": "python",
   "name": "python3"
  },
  "language_info": {
   "codemirror_mode": {
    "name": "ipython",
    "version": 3
   },
   "file_extension": ".py",
   "mimetype": "text/x-python",
   "name": "python",
   "nbconvert_exporter": "python",
   "pygments_lexer": "ipython3",
   "version": "3.9.7"
  },
  "orig_nbformat": 4,
  "vscode": {
   "interpreter": {
    "hash": "343191058819caea96d5cde1bd3b1a75b4807623ce2cda0e1c8499e39ac847e3"
   }
  }
 },
 "nbformat": 4,
 "nbformat_minor": 2
}
