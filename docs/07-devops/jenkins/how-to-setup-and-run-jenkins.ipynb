{
  "cells": [
    {
      "cell_type": "markdown",
      "metadata": {
        "id": "V9SYHOEILWHU"
      },
      "source": [
        "# How to Setup and Run Jenkins\n",
        "> Jenkins is a specialised tool that is designed to provide software teams from all sorts of backgrounds with the necessary capabilities to build and refine their source code in the best possible way.\n",
        "\n",
        "- toc: true\n",
        "- badges: false\n",
        "- comments: true\n",
        "- categories: [CICD, MLOps]\n",
        "- image:"
      ]
    },
    {
      "cell_type": "markdown",
      "metadata": {
        "id": "J_XyA4zOAg4y"
      },
      "source": [
        "## Introduction\n",
        "\n",
        "Duration: 5\n",
        "\n",
        "### What you'll learn?\n",
        "\n",
        "Setup a Jenkins server to run the cicd pipelines\n",
        "\n",
        "### Why is this important?\n",
        "\n",
        "Important part of MLOps\n",
        "\n",
        "### How it will work?\n",
        "\n",
        "1. Go to Play-with-docker site\n",
        "2. Pull the Jenkins docker\n",
        "3. Run the container\n",
        "4. Access Jenkins GUI and install plugins\n",
        "5. Create a pipeline\n",
        "6. Trigger the pipeline by pushing to git\n",
        "\n",
        "### Who is this for?\n",
        "\n",
        "1. People who are new to MLOps\n",
        "2. People willing to improve CICD skills\n",
        "\n",
        "<!---------------------------->\n",
        "\n",
        "## Login to PWD\n",
        "\n",
        "Duration: 5\n",
        "\n",
        "We will use *Play with docker* for this tutorial. \n",
        "\n",
        "### Sign-in\n",
        "\n",
        "Go to [this](https://labs.play-with-docker.com/) link and login. The landing page will look like this:\n",
        "\n"
      ]
    },
    {
      "attachments": {},
      "cell_type": "markdown",
      "metadata": {},
      "source": [
        "![1](https://user-images.githubusercontent.com/62965911/224310437-983854a3-b210-4549-963a-7b174c4eb318.png)"
      ]
    },
    {
      "cell_type": "markdown",
      "metadata": {
        "id": "UYzQSPQbAlq8"
      },
      "source": [
        "### Create an instance\n",
        "\n",
        "Click on *ADD NEW INSTANCE*. After clicking, it will look like this:\n",
        "\n"
      ]
    },
    {
      "attachments": {},
      "cell_type": "markdown",
      "metadata": {},
      "source": [
        "![2](https://user-images.githubusercontent.com/62965911/224310450-9c6988ac-a912-4bc7-80dd-46cdfed97b87.png)"
      ]
    },
    {
      "cell_type": "markdown",
      "metadata": {
        "id": "BbSM-O1PAqVM"
      },
      "source": [
        "## Run Jenkins docker\n",
        "\n",
        "Duration: 2\n",
        "\n",
        "`docker run -p 8080:8080 -p 50000:50000 -d -v jenkins_home:/var/jenkins_home jenkins/jenkins:lts`"
      ]
    },
    {
      "attachments": {},
      "cell_type": "markdown",
      "metadata": {},
      "source": [
        "![3](https://user-images.githubusercontent.com/62965911/224310458-c34fc518-dd3d-45f4-b5fd-6ef7116e9e9c.png)"
      ]
    },
    {
      "cell_type": "markdown",
      "metadata": {
        "id": "7Acrd9JeAwnQ"
      },
      "source": [
        "## Get Jenkins password\n",
        "\n",
        "Duration: 2\n",
        "\n",
        "Run `docker logs <container name>` and get the password\n",
        "\n"
      ]
    },
    {
      "attachments": {},
      "cell_type": "markdown",
      "metadata": {},
      "source": [
        "![4](https://user-images.githubusercontent.com/62965911/224310478-841a716b-8733-40a2-8d78-6290d7ee993b.png)"
      ]
    },
    {
      "cell_type": "markdown",
      "metadata": {
        "id": "_CCtF64WA1Lo"
      },
      "source": [
        "## Access Jenkins GUI\n",
        "\n",
        "Duration: 2\n",
        "\n",
        "Go to `localhost:8080` and paste the copied password\n",
        "\n"
      ]
    },
    {
      "attachments": {},
      "cell_type": "markdown",
      "metadata": {},
      "source": [
        "![5](https://user-images.githubusercontent.com/62965911/224310482-8751d3bf-c490-44e1-9e26-3064c28ac56d.png)"
      ]
    },
    {
      "cell_type": "markdown",
      "metadata": {
        "id": "ASjnyIk3A5fB"
      },
      "source": [
        "## Install the plugins\n",
        "\n",
        "Duration: 2\n",
        "\n",
        "Select *Install suggested plugins* option\n",
        "\n"
      ]
    },
    {
      "attachments": {},
      "cell_type": "markdown",
      "metadata": {},
      "source": [
        "![6](https://user-images.githubusercontent.com/62965911/224310487-7d92e5df-83e6-48c8-ac4a-c619da72de45.png)"
      ]
    },
    {
      "cell_type": "markdown",
      "metadata": {
        "id": "sxps2tj3A-Jy"
      },
      "source": [
        "Note down the Jenkin URL: [http://ip172-18-0-30-c1d37qhbqvp000f2mu60-8080.direct.labs.play-with-docker.com/](http://ip172-18-0-30-c1d37qhbqvp000f2mu60-8080.direct.labs.play-with-docker.com/)\n",
        "\n",
        "<!---------------------------->\n",
        "\n",
        "## Jenkins project types\n",
        "\n",
        "Duration: 2"
      ]
    },
    {
      "attachments": {},
      "cell_type": "markdown",
      "metadata": {},
      "source": [
        "![7](https://user-images.githubusercontent.com/62965911/224310490-65bd7392-8ca2-44c9-88de-c87dae84a7c9.png)"
      ]
    },
    {
      "cell_type": "markdown",
      "metadata": {
        "id": "MXyxRR3xBDuC"
      },
      "source": [
        "## Add global credentials\n",
        "\n",
        "Duration: 2"
      ]
    },
    {
      "attachments": {},
      "cell_type": "markdown",
      "metadata": {},
      "source": [
        "![8](https://user-images.githubusercontent.com/62965911/224310493-78c25a20-1c9d-42d4-bb63-db240de54806.png)"
      ]
    },
    {
      "cell_type": "markdown",
      "metadata": {
        "id": "Ae3XZ7vkBIpT"
      },
      "source": [
        "## Create a new Jenkins job\n",
        "\n",
        "Duration: 2\n",
        "\n",
        "Create a new job, name it and select multi-branch as type. Repo might be [https://gitlab.com/nanuchi/techworld-js-docker-demo-app/-/tree/jenkins-multi-input](https://gitlab.com/nanuchi/techworld-js-docker-demo-app/-/tree/jenkins-multi-input)\n",
        "\n",
        "<!---------------------------->\n",
        "\n",
        "## Add git address and credentials\n",
        "\n",
        "Duration: 2\n",
        "\n"
      ]
    },
    {
      "attachments": {},
      "cell_type": "markdown",
      "metadata": {},
      "source": [
        "![9](https://user-images.githubusercontent.com/62965911/224310496-67cf79a4-a2dd-4d7a-829a-e7cebdebf457.png)"
      ]
    },
    {
      "cell_type": "markdown",
      "metadata": {
        "id": "1ZzWMkcaBOJ0"
      },
      "source": [
        "## Understand Pipeline format in Jenkinsfile\n",
        "\n",
        "Duration: 2"
      ]
    },
    {
      "attachments": {},
      "cell_type": "markdown",
      "metadata": {},
      "source": [
        "![10](https://user-images.githubusercontent.com/62965911/224310504-669b0682-0f8c-4a36-afac-4cc857082b97.png)"
      ]
    },
    {
      "attachments": {},
      "cell_type": "markdown",
      "metadata": {},
      "source": [
        "![11](https://user-images.githubusercontent.com/62965911/224310515-1d2d7b65-2938-4411-8d6d-d32d6034dbf0.png)"
      ]
    },
    {
      "cell_type": "markdown",
      "metadata": {
        "id": "FWaVuv9tBYKA"
      },
      "source": [
        "## Create Jenkinsfile\n",
        "\n",
        "Duration: 2\n",
        "\n",
        "```groovy\n",
        "pipeline {\n",
        "    agent none\n",
        "    stages {\n",
        "        stage('Select micro services') {\n",
        "            input {\n",
        "                message \"Select all micro services to deploy\"\n",
        "                ok \"All selected!\"\n",
        "                parameters {\n",
        "                    choice(name: 'MS1', choices: ['1.1.0', '1.2.0', '1.3.0'], description: 'input ms')\n",
        "                    choice(name: 'MS2', choices: ['1.1.0', '1.2.0', '1.3.0'], description: 'input ms')\n",
        "                    choice(name: 'MS3', choices: ['1.1.0', '1.2.0', '1.3.0'], description: 'input ms')\n",
        "                    choice(name: 'MS4', choices: ['1.1.0', '1.2.0', '1.3.0'], description: 'input ms')\n",
        "                }\n",
        "            }\n",
        "            steps {\n",
        "                script {   \n",
        "                    echo \"Hello, ${MS1}. Hello, ${MS2}. Hello, ${MS3}. Hello, ${MS4}\"\n",
        "                    MS1_TO_DEPLOY = MS1\n",
        "                    MS2_TO_DEPLOY = MS2\n",
        "                    env.MS3_TO_DEPLOY = MS3\n",
        "                    env.MS4_TO_DEPLOY = MS4      \n",
        "                }\n",
        "            }\n",
        "        }\n",
        "        stage('Select single service') {\n",
        "            input {\n",
        "                message \"Select single micro services to deploy?\"\n",
        "                parameters {\n",
        "                    choice(name: 'MS5', choices: ['1.1.0', '1.2.0', '1.3.0'], description: 'second param with single option')   \n",
        "                }\n",
        "            }\n",
        "            steps {\n",
        "                script {\n",
        "                    echo \"Hello, ${MS5}.\"  \n",
        "                    env.MS5_TO_DEPLOY = MS5\n",
        "                    echo \"${MS1_TO_DEPLOY}\"\n",
        "                    echo \"${MS4_TO_DEPLOY}\"\n",
        "                    echo \"${MS5_TO_DEPLOY}\"  \n",
        "                }\n",
        "            }\n",
        "        }\n",
        "    }\n",
        "}\n",
        "```\n",
        "\n",
        "<!---------------------------->\n",
        "\n",
        "## Trigger the pipeline job\n",
        "\n",
        "Duration: 2\n",
        "\n",
        "Pipeline can be triggered either by 1) Push notifications, or 2) Polling.\n",
        "\n"
      ]
    },
    {
      "attachments": {},
      "cell_type": "markdown",
      "metadata": {},
      "source": [
        "![12](https://user-images.githubusercontent.com/62965911/224310519-0b8cef50-cd51-4868-a448-ce8f3526ff03.png)"
      ]
    },
    {
      "cell_type": "markdown",
      "metadata": {
        "id": "xVTRz5DaBcz8"
      },
      "source": [
        "## Check out the pipeline\n",
        "\n",
        "Duration: 2\n",
        "\n"
      ]
    },
    {
      "attachments": {},
      "cell_type": "markdown",
      "metadata": {},
      "source": [
        "![13](https://user-images.githubusercontent.com/62965911/224310523-1b6c96ac-869a-4a53-9ee9-4c87477624a4.png)"
      ]
    },
    {
      "cell_type": "markdown",
      "metadata": {
        "id": "vBx-YNNGAZdY"
      },
      "source": [
        "## Conclusion\n",
        "\n",
        "Duration: 2\n",
        "\n",
        "Congratulations!\n",
        "\n",
        "### What we've covered\n",
        "\n",
        "How to setup a Jenkins server to automatically run the CICD pipelines\n",
        "\n",
        "### Links & references\n",
        "\n",
        "1. [Jenkins Pipeline Tutorial for Beginners 1/4](https://youtu.be/pMO26j2OUME)\n",
        "2. [Jenkins Pipeline Tutorial for Beginners 2/4](https://youtu.be/tuxO7ZXplRE)\n",
        "3. [Jenkins Pipeline Tutorial for Beginners 3/4](https://youtu.be/MY1w7sWW5ms)\n",
        "4. [Jenkins Pipeline Tutorial for Beginners 4/4](https://youtu.be/CmwTPxdx24Y)\n",
        "5. [Complete Jenkins Pipeline Tutorial | Jenkinsfile explained](https://youtu.be/7KCS70sCoK0)"
      ]
    }
  ],
  "metadata": {
    "colab": {
      "authorship_tag": "ABX9TyOW46jv+/feTqZu8tCRp2qO",
      "name": "2021-07-27-how-to-setup-and-run-jenkins.ipynb",
      "provenance": []
    },
    "kernelspec": {
      "display_name": "Python 3",
      "name": "python3"
    },
    "language_info": {
      "name": "python"
    }
  },
  "nbformat": 4,
  "nbformat_minor": 0
}
