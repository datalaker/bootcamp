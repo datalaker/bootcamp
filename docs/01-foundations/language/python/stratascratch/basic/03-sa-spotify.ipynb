{
 "cells": [
  {
   "cell_type": "code",
   "execution_count": 1,
   "metadata": {},
   "outputs": [],
   "source": [
    "%run 00-init.ipynb"
   ]
  },
  {
   "attachments": {},
   "cell_type": "markdown",
   "metadata": {},
   "source": [
    "### Artist ranking"
   ]
  },
  {
   "attachments": {},
   "cell_type": "markdown",
   "metadata": {},
   "source": [
    "Find how many times each artist appeared on the Spotify ranking list\n",
    "Output the artist name along with the corresponding number of occurrences.\n",
    "Order records by the number of occurrences in descending order."
   ]
  },
  {
   "cell_type": "code",
   "execution_count": 3,
   "metadata": {},
   "outputs": [
    {
     "data": {
      "text/html": [
       "<div>\n",
       "<style scoped>\n",
       "    .dataframe tbody tr th:only-of-type {\n",
       "        vertical-align: middle;\n",
       "    }\n",
       "\n",
       "    .dataframe tbody tr th {\n",
       "        vertical-align: top;\n",
       "    }\n",
       "\n",
       "    .dataframe thead th {\n",
       "        text-align: right;\n",
       "    }\n",
       "</style>\n",
       "<table border=\"1\" class=\"dataframe\">\n",
       "  <thead>\n",
       "    <tr style=\"text-align: right;\">\n",
       "      <th></th>\n",
       "      <th>id</th>\n",
       "      <th>position</th>\n",
       "      <th>trackname</th>\n",
       "      <th>artist</th>\n",
       "      <th>streams</th>\n",
       "      <th>url</th>\n",
       "      <th>date</th>\n",
       "      <th>region</th>\n",
       "    </tr>\n",
       "  </thead>\n",
       "  <tbody>\n",
       "    <tr>\n",
       "      <th>0</th>\n",
       "      <td>303651</td>\n",
       "      <td>52</td>\n",
       "      <td>Heart Won't Forget</td>\n",
       "      <td>Matoma</td>\n",
       "      <td>28047</td>\n",
       "      <td>https://open.spotify.com/track/2of2DM5LqTh7ohm...</td>\n",
       "      <td>2017-02-04 00:00:00</td>\n",
       "      <td>no</td>\n",
       "    </tr>\n",
       "    <tr>\n",
       "      <th>1</th>\n",
       "      <td>85559</td>\n",
       "      <td>160</td>\n",
       "      <td>Someone In The Crowd - From \"La La Land\" Sound...</td>\n",
       "      <td>Emma Stone</td>\n",
       "      <td>17134</td>\n",
       "      <td>https://open.spotify.com/track/7xE4vKvjqUTtHyJ...</td>\n",
       "      <td>2017-02-26 00:00:00</td>\n",
       "      <td>fr</td>\n",
       "    </tr>\n",
       "    <tr>\n",
       "      <th>2</th>\n",
       "      <td>1046089</td>\n",
       "      <td>175</td>\n",
       "      <td>The Greatest</td>\n",
       "      <td>Sia</td>\n",
       "      <td>10060</td>\n",
       "      <td>https://open.spotify.com/track/7xHWNBFm6ObGEQP...</td>\n",
       "      <td>2017-03-06 00:00:00</td>\n",
       "      <td>cl</td>\n",
       "    </tr>\n",
       "    <tr>\n",
       "      <th>3</th>\n",
       "      <td>350824</td>\n",
       "      <td>25</td>\n",
       "      <td>Unforgettable</td>\n",
       "      <td>French Montana</td>\n",
       "      <td>46603</td>\n",
       "      <td>https://open.spotify.com/track/3B54sVLJ402zGa6...</td>\n",
       "      <td>2017-10-01 00:00:00</td>\n",
       "      <td>no</td>\n",
       "    </tr>\n",
       "    <tr>\n",
       "      <th>4</th>\n",
       "      <td>776822</td>\n",
       "      <td>1</td>\n",
       "      <td>Bad and Boujee (feat. Lil Uzi Vert)</td>\n",
       "      <td>Migos</td>\n",
       "      <td>1823391</td>\n",
       "      <td>https://open.spotify.com/track/4Km5HrUvYTaSUfi...</td>\n",
       "      <td>2017-01-27 00:00:00</td>\n",
       "      <td>us</td>\n",
       "    </tr>\n",
       "  </tbody>\n",
       "</table>\n",
       "</div>"
      ],
      "text/plain": [
       "        id  position                                          trackname  \\\n",
       "0   303651        52                                 Heart Won't Forget   \n",
       "1    85559       160  Someone In The Crowd - From \"La La Land\" Sound...   \n",
       "2  1046089       175                                       The Greatest   \n",
       "3   350824        25                                      Unforgettable   \n",
       "4   776822         1                Bad and Boujee (feat. Lil Uzi Vert)   \n",
       "\n",
       "           artist  streams                                                url  \\\n",
       "0          Matoma    28047  https://open.spotify.com/track/2of2DM5LqTh7ohm...   \n",
       "1      Emma Stone    17134  https://open.spotify.com/track/7xE4vKvjqUTtHyJ...   \n",
       "2             Sia    10060  https://open.spotify.com/track/7xHWNBFm6ObGEQP...   \n",
       "3  French Montana    46603  https://open.spotify.com/track/3B54sVLJ402zGa6...   \n",
       "4           Migos  1823391  https://open.spotify.com/track/4Km5HrUvYTaSUfi...   \n",
       "\n",
       "                  date region  \n",
       "0  2017-02-04 00:00:00     no  \n",
       "1  2017-02-26 00:00:00     fr  \n",
       "2  2017-03-06 00:00:00     cl  \n",
       "3  2017-10-01 00:00:00     no  \n",
       "4  2017-01-27 00:00:00     us  "
      ]
     },
     "execution_count": 3,
     "metadata": {},
     "output_type": "execute_result"
    }
   ],
   "source": [
    "spotify_ranking = read_csv('spotify_ranking')\n",
    "spotify_ranking.head()"
   ]
  },
  {
   "cell_type": "code",
   "execution_count": 4,
   "metadata": {},
   "outputs": [
    {
     "data": {
      "text/html": [
       "<div>\n",
       "<style scoped>\n",
       "    .dataframe tbody tr th:only-of-type {\n",
       "        vertical-align: middle;\n",
       "    }\n",
       "\n",
       "    .dataframe tbody tr th {\n",
       "        vertical-align: top;\n",
       "    }\n",
       "\n",
       "    .dataframe thead th {\n",
       "        text-align: right;\n",
       "    }\n",
       "</style>\n",
       "<table border=\"1\" class=\"dataframe\">\n",
       "  <thead>\n",
       "    <tr style=\"text-align: right;\">\n",
       "      <th></th>\n",
       "      <th>artist</th>\n",
       "      <th>n_occurences</th>\n",
       "    </tr>\n",
       "  </thead>\n",
       "  <tbody>\n",
       "    <tr>\n",
       "      <th>37</th>\n",
       "      <td>Kendrick Lamar</td>\n",
       "      <td>9</td>\n",
       "    </tr>\n",
       "    <tr>\n",
       "      <th>18</th>\n",
       "      <td>Ed Sheeran</td>\n",
       "      <td>5</td>\n",
       "    </tr>\n",
       "    <tr>\n",
       "      <th>64</th>\n",
       "      <td>Sia</td>\n",
       "      <td>2</td>\n",
       "    </tr>\n",
       "    <tr>\n",
       "      <th>45</th>\n",
       "      <td>Manuel Turizo</td>\n",
       "      <td>2</td>\n",
       "    </tr>\n",
       "    <tr>\n",
       "      <th>49</th>\n",
       "      <td>Matoma</td>\n",
       "      <td>2</td>\n",
       "    </tr>\n",
       "  </tbody>\n",
       "</table>\n",
       "</div>"
      ],
      "text/plain": [
       "            artist  n_occurences\n",
       "37  Kendrick Lamar             9\n",
       "18      Ed Sheeran             5\n",
       "64             Sia             2\n",
       "45   Manuel Turizo             2\n",
       "49          Matoma             2"
      ]
     },
     "execution_count": 4,
     "metadata": {},
     "output_type": "execute_result"
    }
   ],
   "source": [
    "result = spotify_ranking.groupby(['artist']).size().to_frame('n_occurences').reset_index().sort_values('n_occurences', ascending = False)\n",
    "result.head()"
   ]
  },
  {
   "attachments": {},
   "cell_type": "markdown",
   "metadata": {},
   "source": [
    "### Top Ranked Songs"
   ]
  },
  {
   "attachments": {},
   "cell_type": "markdown",
   "metadata": {},
   "source": [
    "Find songs that have ranked in the top position. Output the track name and the number of times it ranked at the top. Sort your records by the number of times the song was in the top position in descending order."
   ]
  },
  {
   "cell_type": "code",
   "execution_count": 5,
   "metadata": {},
   "outputs": [
    {
     "data": {
      "text/html": [
       "<div>\n",
       "<style scoped>\n",
       "    .dataframe tbody tr th:only-of-type {\n",
       "        vertical-align: middle;\n",
       "    }\n",
       "\n",
       "    .dataframe tbody tr th {\n",
       "        vertical-align: top;\n",
       "    }\n",
       "\n",
       "    .dataframe thead th {\n",
       "        text-align: right;\n",
       "    }\n",
       "</style>\n",
       "<table border=\"1\" class=\"dataframe\">\n",
       "  <thead>\n",
       "    <tr style=\"text-align: right;\">\n",
       "      <th></th>\n",
       "      <th>trackname</th>\n",
       "      <th>times_top1</th>\n",
       "    </tr>\n",
       "  </thead>\n",
       "  <tbody>\n",
       "    <tr>\n",
       "      <th>1</th>\n",
       "      <td>HUMBLE.</td>\n",
       "      <td>7</td>\n",
       "    </tr>\n",
       "    <tr>\n",
       "      <th>0</th>\n",
       "      <td>Bad and Boujee (feat. Lil Uzi Vert)</td>\n",
       "      <td>1</td>\n",
       "    </tr>\n",
       "    <tr>\n",
       "      <th>2</th>\n",
       "      <td>Look What You Made Me Do</td>\n",
       "      <td>1</td>\n",
       "    </tr>\n",
       "  </tbody>\n",
       "</table>\n",
       "</div>"
      ],
      "text/plain": [
       "                             trackname  times_top1\n",
       "1                              HUMBLE.           7\n",
       "0  Bad and Boujee (feat. Lil Uzi Vert)           1\n",
       "2             Look What You Made Me Do           1"
      ]
     },
     "execution_count": 5,
     "metadata": {},
     "output_type": "execute_result"
    }
   ],
   "source": [
    "position = spotify_ranking[spotify_ranking['position'] == 1]\n",
    "result = position.groupby(['trackname']).size().to_frame('times_top1').reset_index().sort_values('times_top1', ascending = False)\n",
    "result.head()"
   ]
  },
  {
   "attachments": {},
   "cell_type": "markdown",
   "metadata": {},
   "source": [
    "### Find the top 10 ranked songs in 2010"
   ]
  },
  {
   "attachments": {},
   "cell_type": "markdown",
   "metadata": {},
   "source": [
    "What were the top 100 ranked songs in 2010?\n",
    "Output the rank, group name, and song name but do not show the same song twice.\n",
    "Sort the result based on the year_rank in ascending order."
   ]
  },
  {
   "cell_type": "code",
   "execution_count": 11,
   "metadata": {},
   "outputs": [
    {
     "data": {
      "text/html": [
       "<div>\n",
       "<style scoped>\n",
       "    .dataframe tbody tr th:only-of-type {\n",
       "        vertical-align: middle;\n",
       "    }\n",
       "\n",
       "    .dataframe tbody tr th {\n",
       "        vertical-align: top;\n",
       "    }\n",
       "\n",
       "    .dataframe thead th {\n",
       "        text-align: right;\n",
       "    }\n",
       "</style>\n",
       "<table border=\"1\" class=\"dataframe\">\n",
       "  <thead>\n",
       "    <tr style=\"text-align: right;\">\n",
       "      <th></th>\n",
       "      <th>year</th>\n",
       "      <th>year_rank</th>\n",
       "      <th>group_name</th>\n",
       "      <th>artist</th>\n",
       "      <th>song_name</th>\n",
       "      <th>id</th>\n",
       "    </tr>\n",
       "  </thead>\n",
       "  <tbody>\n",
       "    <tr>\n",
       "      <th>0</th>\n",
       "      <td>2010</td>\n",
       "      <td>80</td>\n",
       "      <td>KEVIN RUDOLF FEAT. BIRDMAN, JAY SEAN, AND LIL ...</td>\n",
       "      <td>BIRDMAN</td>\n",
       "      <td>I Made It (Cash Money Heroes)</td>\n",
       "      <td>6029</td>\n",
       "    </tr>\n",
       "    <tr>\n",
       "      <th>1</th>\n",
       "      <td>2010</td>\n",
       "      <td>80</td>\n",
       "      <td>KEVIN RUDOLF FEAT. BIRDMAN, JAY SEAN, AND LIL ...</td>\n",
       "      <td>JAY SEAN</td>\n",
       "      <td>I Made It (Cash Money Heroes)</td>\n",
       "      <td>6030</td>\n",
       "    </tr>\n",
       "    <tr>\n",
       "      <th>2</th>\n",
       "      <td>2010</td>\n",
       "      <td>80</td>\n",
       "      <td>KEVIN RUDOLF FEAT. BIRDMAN, JAY SEAN, AND LIL ...</td>\n",
       "      <td>AND LIL WAYNE</td>\n",
       "      <td>I Made It (Cash Money Heroes)</td>\n",
       "      <td>6031</td>\n",
       "    </tr>\n",
       "    <tr>\n",
       "      <th>3</th>\n",
       "      <td>2010</td>\n",
       "      <td>81</td>\n",
       "      <td>SUGARLAND</td>\n",
       "      <td>SUGARLAND</td>\n",
       "      <td>Stuck Like Glue</td>\n",
       "      <td>6032</td>\n",
       "    </tr>\n",
       "    <tr>\n",
       "      <th>4</th>\n",
       "      <td>2010</td>\n",
       "      <td>82</td>\n",
       "      <td>USHER FEAT. PLIES</td>\n",
       "      <td>USHER</td>\n",
       "      <td>Hey Daddy (Daddy's Home)</td>\n",
       "      <td>6033</td>\n",
       "    </tr>\n",
       "  </tbody>\n",
       "</table>\n",
       "</div>"
      ],
      "text/plain": [
       "   year  year_rank                                         group_name  \\\n",
       "0  2010         80  KEVIN RUDOLF FEAT. BIRDMAN, JAY SEAN, AND LIL ...   \n",
       "1  2010         80  KEVIN RUDOLF FEAT. BIRDMAN, JAY SEAN, AND LIL ...   \n",
       "2  2010         80  KEVIN RUDOLF FEAT. BIRDMAN, JAY SEAN, AND LIL ...   \n",
       "3  2010         81                                          SUGARLAND   \n",
       "4  2010         82                                  USHER FEAT. PLIES   \n",
       "\n",
       "          artist                      song_name    id  \n",
       "0        BIRDMAN  I Made It (Cash Money Heroes)  6029  \n",
       "1       JAY SEAN  I Made It (Cash Money Heroes)  6030  \n",
       "2  AND LIL WAYNE  I Made It (Cash Money Heroes)  6031  \n",
       "3      SUGARLAND                Stuck Like Glue  6032  \n",
       "4          USHER       Hey Daddy (Daddy's Home)  6033  "
      ]
     },
     "execution_count": 11,
     "metadata": {},
     "output_type": "execute_result"
    }
   ],
   "source": [
    "spotify_billboard = read_csv('spotify_billboard')\n",
    "spotify_billboard.head()"
   ]
  },
  {
   "cell_type": "code",
   "execution_count": 17,
   "metadata": {},
   "outputs": [
    {
     "data": {
      "text/html": [
       "<div>\n",
       "<style scoped>\n",
       "    .dataframe tbody tr th:only-of-type {\n",
       "        vertical-align: middle;\n",
       "    }\n",
       "\n",
       "    .dataframe tbody tr th {\n",
       "        vertical-align: top;\n",
       "    }\n",
       "\n",
       "    .dataframe thead th {\n",
       "        text-align: right;\n",
       "    }\n",
       "</style>\n",
       "<table border=\"1\" class=\"dataframe\">\n",
       "  <thead>\n",
       "    <tr style=\"text-align: right;\">\n",
       "      <th></th>\n",
       "      <th>year_rank</th>\n",
       "      <th>group_name</th>\n",
       "      <th>song_name</th>\n",
       "    </tr>\n",
       "  </thead>\n",
       "  <tbody>\n",
       "    <tr>\n",
       "      <th>0</th>\n",
       "      <td>80</td>\n",
       "      <td>KEVIN RUDOLF FEAT. BIRDMAN, JAY SEAN, AND LIL ...</td>\n",
       "      <td>I Made It (Cash Money Heroes)</td>\n",
       "    </tr>\n",
       "    <tr>\n",
       "      <th>3</th>\n",
       "      <td>81</td>\n",
       "      <td>SUGARLAND</td>\n",
       "      <td>Stuck Like Glue</td>\n",
       "    </tr>\n",
       "    <tr>\n",
       "      <th>4</th>\n",
       "      <td>82</td>\n",
       "      <td>USHER FEAT. PLIES</td>\n",
       "      <td>Hey Daddy (Daddy's Home)</td>\n",
       "    </tr>\n",
       "    <tr>\n",
       "      <th>6</th>\n",
       "      <td>83</td>\n",
       "      <td>USHER</td>\n",
       "      <td>There Goes My Baby</td>\n",
       "    </tr>\n",
       "    <tr>\n",
       "      <th>7</th>\n",
       "      <td>84</td>\n",
       "      <td>TAYLOR SWIFT</td>\n",
       "      <td>Today Was A Fairytale</td>\n",
       "    </tr>\n",
       "  </tbody>\n",
       "</table>\n",
       "</div>"
      ],
      "text/plain": [
       "   year_rank                                         group_name  \\\n",
       "0         80  KEVIN RUDOLF FEAT. BIRDMAN, JAY SEAN, AND LIL ...   \n",
       "3         81                                          SUGARLAND   \n",
       "4         82                                  USHER FEAT. PLIES   \n",
       "6         83                                              USHER   \n",
       "7         84                                       TAYLOR SWIFT   \n",
       "\n",
       "                       song_name  \n",
       "0  I Made It (Cash Money Heroes)  \n",
       "3                Stuck Like Glue  \n",
       "4       Hey Daddy (Daddy's Home)  \n",
       "6             There Goes My Baby  \n",
       "7          Today Was A Fairytale  "
      ]
     },
     "execution_count": 17,
     "metadata": {},
     "output_type": "execute_result"
    }
   ],
   "source": [
    "spotify_billboard.year_rank = spotify_billboard.year_rank.astype('int')\n",
    "spotify_billboard.year = spotify_billboard.year.astype('int')\n",
    "spotify_billboard.id = spotify_billboard.id.astype('int')\n",
    "conditions = spotify_billboard[(spotify_billboard['year'] == 2010) & (spotify_billboard['year_rank'].between(1,100))]\n",
    "result = conditions[['year_rank','group_name','song_name']].drop_duplicates()\n",
    "result.head()"
   ]
  },
  {
   "cell_type": "code",
   "execution_count": null,
   "metadata": {},
   "outputs": [],
   "source": []
  }
 ],
 "metadata": {
  "kernelspec": {
   "display_name": "env-spacy",
   "language": "python",
   "name": "python3"
  },
  "language_info": {
   "codemirror_mode": {
    "name": "ipython",
    "version": 3
   },
   "file_extension": ".py",
   "mimetype": "text/x-python",
   "name": "python",
   "nbconvert_exporter": "python",
   "pygments_lexer": "ipython3",
   "version": "3.9.7"
  },
  "orig_nbformat": 4,
  "vscode": {
   "interpreter": {
    "hash": "343191058819caea96d5cde1bd3b1a75b4807623ce2cda0e1c8499e39ac847e3"
   }
  }
 },
 "nbformat": 4,
 "nbformat_minor": 2
}
