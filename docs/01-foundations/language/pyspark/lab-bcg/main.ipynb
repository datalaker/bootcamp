{
 "cells": [
  {
   "cell_type": "code",
   "execution_count": 1,
   "id": "59a1c370",
   "metadata": {},
   "outputs": [],
   "source": [
    "from pyspark.sql import SparkSession\n",
    "from pyspark.sql.functions import desc,count,row_number,col\n",
    "from pyspark.sql.window import Window"
   ]
  },
  {
   "cell_type": "code",
   "execution_count": 2,
   "id": "88987b7e",
   "metadata": {},
   "outputs": [],
   "source": [
    "spark = SparkSession.builder.master('local').appName(\"Spark DataFrame\").getOrCreate()"
   ]
  },
  {
   "cell_type": "code",
   "execution_count": 3,
   "id": "57e6bf1f",
   "metadata": {},
   "outputs": [
    {
     "name": "stdout",
     "output_type": "stream",
     "text": [
      "root\n",
      " |-- CRASH_ID: integer (nullable = true)\n",
      " |-- UNIT_NBR: integer (nullable = true)\n",
      " |-- PRSN_NBR: integer (nullable = true)\n",
      " |-- PRSN_TYPE_ID: string (nullable = true)\n",
      " |-- PRSN_OCCPNT_POS_ID: string (nullable = true)\n",
      " |-- PRSN_INJRY_SEV_ID: string (nullable = true)\n",
      " |-- PRSN_AGE: string (nullable = true)\n",
      " |-- PRSN_ETHNICITY_ID: string (nullable = true)\n",
      " |-- PRSN_GNDR_ID: string (nullable = true)\n",
      " |-- PRSN_EJCT_ID: string (nullable = true)\n",
      " |-- PRSN_REST_ID: string (nullable = true)\n",
      " |-- PRSN_AIRBAG_ID: string (nullable = true)\n",
      " |-- PRSN_HELMET_ID: string (nullable = true)\n",
      " |-- PRSN_SOL_FL: string (nullable = true)\n",
      " |-- PRSN_ALC_SPEC_TYPE_ID: string (nullable = true)\n",
      " |-- PRSN_ALC_RSLT_ID: string (nullable = true)\n",
      " |-- PRSN_BAC_TEST_RSLT: string (nullable = true)\n",
      " |-- PRSN_DRG_SPEC_TYPE_ID: string (nullable = true)\n",
      " |-- PRSN_DRG_RSLT_ID: string (nullable = true)\n",
      " |-- DRVR_DRG_CAT_1_ID: string (nullable = true)\n",
      " |-- PRSN_DEATH_TIME: timestamp (nullable = true)\n",
      " |-- INCAP_INJRY_CNT: integer (nullable = true)\n",
      " |-- NONINCAP_INJRY_CNT: integer (nullable = true)\n",
      " |-- POSS_INJRY_CNT: integer (nullable = true)\n",
      " |-- NON_INJRY_CNT: integer (nullable = true)\n",
      " |-- UNKN_INJRY_CNT: integer (nullable = true)\n",
      " |-- TOT_INJRY_CNT: integer (nullable = true)\n",
      " |-- DEATH_CNT: integer (nullable = true)\n",
      " |-- DRVR_LIC_TYPE_ID: string (nullable = true)\n",
      " |-- DRVR_LIC_STATE_ID: string (nullable = true)\n",
      " |-- DRVR_LIC_CLS_ID: string (nullable = true)\n",
      " |-- DRVR_ZIP: string (nullable = true)\n",
      "\n"
     ]
    }
   ],
   "source": [
    "df_person = spark.read.options(inferSchema='True', header='True', delimiter=',').csv(\"./data/Primary_Person_use.csv\")\n",
    "df_person.printSchema()"
   ]
  },
  {
   "cell_type": "markdown",
   "id": "799a808a",
   "metadata": {},
   "source": [
    "# Analysis 1"
   ]
  },
  {
   "attachments": {},
   "cell_type": "markdown",
   "id": "1f06e282",
   "metadata": {},
   "source": [
    "Find the number of crashes (accidents) in which number of persons killed are male?"
   ]
  },
  {
   "cell_type": "code",
   "execution_count": 172,
   "id": "0741ed8c",
   "metadata": {},
   "outputs": [
    {
     "data": {
      "text/plain": [
       "96782"
      ]
     },
     "execution_count": 172,
     "metadata": {},
     "output_type": "execute_result"
    }
   ],
   "source": [
    "df_person.filter(col(\"PRSN_GNDR_ID\")==\"MALE\").count()"
   ]
  },
  {
   "cell_type": "markdown",
   "id": "daf8236d",
   "metadata": {},
   "source": [
    "# Analysis 2"
   ]
  },
  {
   "attachments": {},
   "cell_type": "markdown",
   "id": "d267397d",
   "metadata": {},
   "source": [
    "How many two wheelers are booked for crashes?"
   ]
  },
  {
   "cell_type": "code",
   "execution_count": 173,
   "id": "8622674d",
   "metadata": {},
   "outputs": [
    {
     "data": {
      "text/plain": [
       "911"
      ]
     },
     "execution_count": 173,
     "metadata": {},
     "output_type": "execute_result"
    }
   ],
   "source": [
    "df_person.select(\"PRSN_HELMET_ID\").filter(~col(\"PRSN_HELMET_ID\").isin([\"NOT APPLICABLE\"])).count()"
   ]
  },
  {
   "cell_type": "markdown",
   "id": "26f65686",
   "metadata": {},
   "source": [
    "# Analysis 3"
   ]
  },
  {
   "attachments": {},
   "cell_type": "markdown",
   "id": "14e421a4",
   "metadata": {},
   "source": [
    "Which state has highest number of accidents in which females are involved?"
   ]
  },
  {
   "cell_type": "code",
   "execution_count": 4,
   "id": "4ee4250f",
   "metadata": {},
   "outputs": [
    {
     "name": "stdout",
     "output_type": "stream",
     "text": [
      "root\n",
      " |-- CRASH_ID: integer (nullable = true)\n",
      " |-- UNIT_NBR: integer (nullable = true)\n",
      " |-- UNIT_DESC_ID: string (nullable = true)\n",
      " |-- VEH_PARKED_FL: string (nullable = true)\n",
      " |-- VEH_HNR_FL: string (nullable = true)\n",
      " |-- VEH_LIC_STATE_ID: string (nullable = true)\n",
      " |-- VIN: string (nullable = true)\n",
      " |-- VEH_MOD_YEAR: string (nullable = true)\n",
      " |-- VEH_COLOR_ID: string (nullable = true)\n",
      " |-- VEH_MAKE_ID: string (nullable = true)\n",
      " |-- VEH_MOD_ID: string (nullable = true)\n",
      " |-- VEH_BODY_STYL_ID: string (nullable = true)\n",
      " |-- EMER_RESPNDR_FL: string (nullable = true)\n",
      " |-- OWNR_ZIP: string (nullable = true)\n",
      " |-- FIN_RESP_PROOF_ID: string (nullable = true)\n",
      " |-- FIN_RESP_TYPE_ID: string (nullable = true)\n",
      " |-- VEH_DMAG_AREA_1_ID: string (nullable = true)\n",
      " |-- VEH_DMAG_SCL_1_ID: string (nullable = true)\n",
      " |-- FORCE_DIR_1_ID: string (nullable = true)\n",
      " |-- VEH_DMAG_AREA_2_ID: string (nullable = true)\n",
      " |-- VEH_DMAG_SCL_2_ID: string (nullable = true)\n",
      " |-- FORCE_DIR_2_ID: string (nullable = true)\n",
      " |-- VEH_INVENTORIED_FL: string (nullable = true)\n",
      " |-- VEH_TRANSP_NAME: string (nullable = true)\n",
      " |-- VEH_TRANSP_DEST: string (nullable = true)\n",
      " |-- CONTRIB_FACTR_1_ID: string (nullable = true)\n",
      " |-- CONTRIB_FACTR_2_ID: string (nullable = true)\n",
      " |-- CONTRIB_FACTR_P1_ID: string (nullable = true)\n",
      " |-- VEH_TRVL_DIR_ID: string (nullable = true)\n",
      " |-- FIRST_HARM_EVT_INV_ID: string (nullable = true)\n",
      " |-- INCAP_INJRY_CNT: integer (nullable = true)\n",
      " |-- NONINCAP_INJRY_CNT: integer (nullable = true)\n",
      " |-- POSS_INJRY_CNT: integer (nullable = true)\n",
      " |-- NON_INJRY_CNT: integer (nullable = true)\n",
      " |-- UNKN_INJRY_CNT: integer (nullable = true)\n",
      " |-- TOT_INJRY_CNT: integer (nullable = true)\n",
      " |-- DEATH_CNT: integer (nullable = true)\n",
      "\n"
     ]
    }
   ],
   "source": [
    "df_unit = spark.read.options(inferSchema='True',header='True', delimiter=',').csv(\"./data/Units_use.csv\")\n",
    "df_unit.printSchema()"
   ]
  },
  {
   "cell_type": "code",
   "execution_count": 5,
   "id": "07b94424",
   "metadata": {},
   "outputs": [
    {
     "name": "stdout",
     "output_type": "stream",
     "text": [
      "Row(VEH_LIC_STATE_ID='TX', count=127640)\n"
     ]
    }
   ],
   "source": [
    "df2 = df_unit.join(df_person, \"CRASH_ID\",\"inner\").select(\"CRASH_ID\",\"PRSN_GNDR_ID\",\"VEH_LIC_STATE_ID\").filter(col(\"PRSN_GNDR_ID\")==\"FEMALE\").groupby(\"VEH_LIC_STATE_ID\").count()\n",
    "df2 = df2.sort(col('count').desc())\n",
    "print(df2.take(1)[0])"
   ]
  },
  {
   "cell_type": "markdown",
   "id": "4c167e6b",
   "metadata": {},
   "source": [
    "# Analysis 4"
   ]
  },
  {
   "attachments": {},
   "cell_type": "markdown",
   "id": "1c1803f6",
   "metadata": {},
   "source": [
    "Which are the Top 5th to 15th VEH_MAKE_IDs that contribute to a largest number of injuries including death?"
   ]
  },
  {
   "cell_type": "code",
   "execution_count": 6,
   "id": "3fd62a90",
   "metadata": {},
   "outputs": [
    {
     "name": "stdout",
     "output_type": "stream",
     "text": [
      "BLUE BIRD\n",
      "NORTH AMERICAN BUS\n",
      "NORTH AMERICAN BUS\n",
      "LINCOLN\n",
      "CHEVROLET\n",
      "VAN HOOL\n",
      "VAN HOOL\n",
      "MAZDA\n",
      "MCI (LES AUTO BUS)\n",
      "MCI (LES AUTO BUS)\n",
      "NISSAN\n"
     ]
    }
   ],
   "source": [
    "df4 = df_unit.withColumn(\"Total_Injuries_death\",col(\"TOT_INJRY_CNT\")+col(\"DEATH_CNT\")).select(\"VEH_MAKE_ID\",\"TOT_INJRY_CNT\",\"DEATH_CNT\",\"Total_Injuries_death\").orderBy('Total_Injuries_death', ascending=False)\n",
    "for i, data in enumerate(df4.collect()):\n",
    "    if i>=5 and i<=15:\n",
    "        print(data[0])"
   ]
  },
  {
   "cell_type": "markdown",
   "id": "96b09f09",
   "metadata": {},
   "source": [
    "# Analysis 5"
   ]
  },
  {
   "attachments": {},
   "cell_type": "markdown",
   "id": "b2bb56d4",
   "metadata": {},
   "source": [
    "For all the body styles involved in crashes, mention the top ethnic user group of each unique body style?"
   ]
  },
  {
   "cell_type": "code",
   "execution_count": 180,
   "id": "1b33e4fd",
   "metadata": {},
   "outputs": [
    {
     "name": "stdout",
     "output_type": "stream",
     "text": [
      "+---------------------------------+-----------------+-----------+\n",
      "|VEH_BODY_STYL_ID                 |PRSN_ETHNICITY_ID|num_crashes|\n",
      "+---------------------------------+-----------------+-----------+\n",
      "|AMBULANCE                        |WHITE            |97         |\n",
      "|BUS                              |HISPANIC         |391        |\n",
      "|FARM EQUIPMENT                   |WHITE            |63         |\n",
      "|FIRE TRUCK                       |WHITE            |112        |\n",
      "|MOTORCYCLE                       |WHITE            |848        |\n",
      "|NA                               |WHITE            |5693       |\n",
      "|NEV-NEIGHBORHOOD ELECTRIC VEHICLE|WHITE            |10         |\n",
      "|NOT REPORTED                     |HISPANIC         |2          |\n",
      "|OTHER  (EXPLAIN IN NARRATIVE)    |WHITE            |459        |\n",
      "|PASSENGER CAR, 2-DOOR            |WHITE            |9877       |\n",
      "|PASSENGER CAR, 4-DOOR            |WHITE            |58312      |\n",
      "|PICKUP                           |WHITE            |38609      |\n",
      "|POLICE CAR/TRUCK                 |WHITE            |366        |\n",
      "|POLICE MOTORCYCLE                |HISPANIC         |3          |\n",
      "|SPORT UTILITY VEHICLE            |WHITE            |33902      |\n",
      "|TRUCK                            |WHITE            |4204       |\n",
      "|TRUCK TRACTOR                    |WHITE            |5815       |\n",
      "|UNKNOWN                          |WHITE            |1178       |\n",
      "|VAN                              |WHITE            |5291       |\n",
      "|YELLOW SCHOOL BUS                |WHITE            |264        |\n",
      "+---------------------------------+-----------------+-----------+\n",
      "\n"
     ]
    }
   ],
   "source": [
    "df2 = df_unit.join(df_person, \"CRASH_ID\",\"inner\")\\\n",
    "    .select(\"CRASH_ID\",\"VEH_BODY_STYL_ID\",\"PRSN_ETHNICITY_ID\")\\\n",
    "    .groupby(\"VEH_BODY_STYL_ID\",\"PRSN_ETHNICITY_ID\").agg(count(\"PRSN_ETHNICITY_ID\").alias(\"num_crashes\"))\n",
    "\n",
    "win = Window.partitionBy(\"VEH_BODY_STYL_ID\").orderBy(desc(\"num_crashes\"))\n",
    "df2 = df2.select(\"*\", row_number().over(win).alias(\"RowNum\")).filter(col(\"RowNum\")==1).drop(\"RowNum\")\n",
    "df2.show(20, False)"
   ]
  },
  {
   "cell_type": "markdown",
   "id": "43f71c7b",
   "metadata": {},
   "source": [
    "# Analysis 6"
   ]
  },
  {
   "attachments": {},
   "cell_type": "markdown",
   "id": "a9c2fbcc",
   "metadata": {},
   "source": [
    "Among the crashed cars, what are the Top 5 Zip Codes with highest number crashes with alcohols as the contributing factor to a crash (Use Driver Zip Code)?"
   ]
  },
  {
   "cell_type": "code",
   "execution_count": 181,
   "id": "02f7e17e",
   "metadata": {},
   "outputs": [
    {
     "name": "stdout",
     "output_type": "stream",
     "text": [
      "+--------+------------------------------------+\n",
      "|DRVR_ZIP|Highest_number_crashes_with_alcohols|\n",
      "+--------+------------------------------------+\n",
      "|   78521|                                  78|\n",
      "|   76010|                                  77|\n",
      "|   75067|                                  70|\n",
      "|   78753|                                  61|\n",
      "|   78741|                                  57|\n",
      "+--------+------------------------------------+\n",
      "\n"
     ]
    }
   ],
   "source": [
    "filter_string = [\"ALCOHOL\",\"DRINKING\"]\n",
    "df6 = df_unit.join(df_person, \"CRASH_ID\",\"inner\"). \\\n",
    "    where(col(\"CONTRIB_FACTR_1_ID\").rlike('|'.join(filter_string)) | col(\"CONTRIB_FACTR_2_ID\").rlike('|'.join(filter_string))). \\\n",
    "    groupby(\"DRVR_ZIP\").count().orderBy(col(\"count\").desc()).filter(col(\"DRVR_ZIP\") != \"null\").limit(5)\n",
    "df6 = df6.withColumnRenamed(\"count\",\"Highest_number_crashes_with_alcohols\")\n",
    "df6.show()"
   ]
  },
  {
   "cell_type": "markdown",
   "id": "9f492438",
   "metadata": {},
   "source": [
    "# Analysis 7"
   ]
  },
  {
   "attachments": {},
   "cell_type": "markdown",
   "id": "1383864e",
   "metadata": {},
   "source": [
    "Count of Distinct Crash IDs where No Damaged Property was observed and Damage Level (VEH_DMAG_SCL~) is above 4 and car avails Insurance"
   ]
  },
  {
   "cell_type": "code",
   "execution_count": 7,
   "id": "a1bf068a",
   "metadata": {},
   "outputs": [
    {
     "name": "stdout",
     "output_type": "stream",
     "text": [
      "root\n",
      " |-- CRASH_ID: integer (nullable = true)\n",
      " |-- DAMAGED_PROPERTY: string (nullable = true)\n",
      "\n"
     ]
    }
   ],
   "source": [
    "df_damage = spark.read.options(inferSchema='True',header='True', delimiter=',').csv(\"./data/Damages_use.csv\")\n",
    "df_damage.printSchema()"
   ]
  },
  {
   "cell_type": "code",
   "execution_count": 9,
   "id": "bb0ca031",
   "metadata": {},
   "outputs": [
    {
     "name": "stdout",
     "output_type": "stream",
     "text": [
      "+--------+----------------+--------+-------------+-------------+----------+----------------+-----------------+------------+------------+-----------+--------------+--------------------+---------------+--------+-----------------+--------------------+--------------------+-----------------+--------------+------------------+-----------------+--------------+------------------+--------------------+--------------------+--------------------+------------------+-------------------+---------------+---------------------+---------------+------------------+--------------+-------------+--------------+-------------+---------+\n",
      "|CRASH_ID|DAMAGED_PROPERTY|UNIT_NBR| UNIT_DESC_ID|VEH_PARKED_FL|VEH_HNR_FL|VEH_LIC_STATE_ID|              VIN|VEH_MOD_YEAR|VEH_COLOR_ID|VEH_MAKE_ID|    VEH_MOD_ID|    VEH_BODY_STYL_ID|EMER_RESPNDR_FL|OWNR_ZIP|FIN_RESP_PROOF_ID|    FIN_RESP_TYPE_ID|  VEH_DMAG_AREA_1_ID|VEH_DMAG_SCL_1_ID|FORCE_DIR_1_ID|VEH_DMAG_AREA_2_ID|VEH_DMAG_SCL_2_ID|FORCE_DIR_2_ID|VEH_INVENTORIED_FL|     VEH_TRANSP_NAME|     VEH_TRANSP_DEST|  CONTRIB_FACTR_1_ID|CONTRIB_FACTR_2_ID|CONTRIB_FACTR_P1_ID|VEH_TRVL_DIR_ID|FIRST_HARM_EVT_INV_ID|INCAP_INJRY_CNT|NONINCAP_INJRY_CNT|POSS_INJRY_CNT|NON_INJRY_CNT|UNKN_INJRY_CNT|TOT_INJRY_CNT|DEATH_CNT|\n",
      "+--------+----------------+--------+-------------+-------------+----------+----------------+-----------------+------------+------------+-----------+--------------+--------------------+---------------+--------+-----------------+--------------------+--------------------+-----------------+--------------+------------------+-----------------+--------------+------------------+--------------------+--------------------+--------------------+------------------+-------------------+---------------+---------------------+---------------+------------------+--------------+-------------+--------------+-------------+---------+\n",
      "|14844642|            NONE|       1|MOTOR VEHICLE|            N|         N|              TX|KMHFG4JGXDA298237|          NA|         RED|    HYUNDAI|         AZERA|PASSENGER CAR, 4-...|              N|   76549|                1|PROOF OF LIABILIT...|FRONT END DAMAGE ...|        DAMAGED 3|            12|                NA|               NA|            NA|                 N|            TOW KING|            TOW KING|                NONE|                NA|                 NA|          NORTH|                    Y|              0|                 0|             0|            1|             0|            0|        0|\n",
      "|14844642|            NONE|       2|MOTOR VEHICLE|            N|         N|              TX|KNDJN2A22E7717936|          NA|         GRN|        KIA|          SOUL|SPORT UTILITY VEH...|              N|   76179|                1|PROOF OF LIABILIT...|BACK END DAMAGE D...|        DAMAGED 3|             6|                NA|               NA|            NA|                 N|          DRIVEN OFF|           BY DRIVER|                NONE|                NA|                 NA|          NORTH|                    Y|              0|                 0|             0|            1|             0|            0|        0|\n",
      "|14845535|            NONE|       1|MOTOR VEHICLE|            N|         N|              TX|1FTRX17L3YKA04133|        2000|         TAN|       FORD|          F150|              PICKUP|              N|   77083|                1|PROOF OF LIABILIT...|FRONT END DAMAGE ...|        DAMAGED 2|            12|                NA|               NA|            NA|                 N|    IMPERIAL WRECKER|14635 MINETTA HOU...|FAILED TO CONTROL...|                NA|                 NA|          SOUTH|                    Y|              0|                 0|             0|            1|             0|            0|        0|\n",
      "|14845535|            NONE|       2|MOTOR VEHICLE|            N|         N|              TX|2T1BU4EE3AC409576|          NA|         RED|     TOYOTA|       COROLLA|PASSENGER CAR, 4-...|              N|   77083|                1|PROOF OF LIABILIT...|BACK END DAMAGE C...|        DAMAGED 2|             6|                NA|               NA|            NA|                 N|       LONG'S TOWING|9520 KIRKWOOD DRI...|                NONE|                NA|                 NA|          SOUTH|                    Y|              0|                 0|             0|            2|             0|            0|        0|\n",
      "|14859733|            NONE|       1|MOTOR VEHICLE|            N|         N|              TX|5XXGR4A62DG180682|          NA|         BLU|        KIA|        OPTIMA|PASSENGER CAR, 4-...|              N|   78744|                1|PROOF OF LIABILIT...|FRONT END (LEFT) ...|        DAMAGED 2|            12|                NA|               NA|            NA|                 N|                null|                null|                  NA|                NA| DRIVER INATTENTION|        UNKNOWN|                    Y|              0|                 0|             0|            1|             0|            0|        0|\n",
      "|14859733|            NONE|       2|MOTOR VEHICLE|            N|         N|              TX|1J4GX48S74C297788|        2004|         BLU|       JEEP|GRAND CHEROKEE|SPORT UTILITY VEH...|              N|   78702|                1|PROOF OF LIABILIT...|FRONT END (LEFT) ...|        DAMAGED 2|            12|                NA|               NA|            NA|                 N|             HARPERS|  201 RALPH ABLANDEO|                  NA|                NA| DRIVER INATTENTION|        UNKNOWN|                    Y|              0|                 0|             0|            1|             0|            0|        0|\n",
      "|14861933|            NONE|       1|MOTOR VEHICLE|            N|         N|              TX|2T2ZK1BA4BC062941|          NA|         WHI|      LEXUS|        LS 400|PASSENGER CAR, 4-...|              N|   77388|                1|PROOF OF LIABILIT...|FRONT END DAMAGE ...|DAMAGED 1 MINIMUM|            12|                NA|               NA|            NA|                 N|DRIVEN FROM SCENE...|   DRIVEN FROM SCENE|                NONE|                NA|                 NA|          SOUTH|                    Y|              0|                 0|             0|            1|             0|            0|        0|\n",
      "|14861933|            NONE|       2|MOTOR VEHICLE|            N|         N|              TX|19UYA42481A034479|        2001|         GLD|      ACURA|            CL|PASSENGER CAR, 4-...|              N|   77014|                1|PROOF OF LIABILIT...|LEFT FRONT QUARTE...|DAMAGED 1 MINIMUM|             9|                NA|               NA|            NA|                 N|DRIVEN FROM SCENE...|   DRIVEN FROM SCENE|FAILED TO YIELD R...|                NA|                 NA|           EAST|                    Y|              0|                 0|             0|            1|             0|            0|        0|\n",
      "|14870169|            NONE|       1|MOTOR VEHICLE|            N|         N|              TX|WA1VMAFE5ED013775|          NA|         BLK|       AUDI|            Q7|SPORT UTILITY VEH...|              N|   60048|                1|PROOF OF LIABILIT...|DISTRIBUTED LEFT ...|        DAMAGED 5|             9|                NA|               NA|            NA|                 N|         DRIVEN AWAY|           BY DRIVER|  TURNED WHEN UNSAFE|                NA|                 NA|           WEST|                    Y|              0|                 0|             1|            0|             0|            1|        0|\n",
      "|14877741|            NONE|       1|MOTOR VEHICLE|            N|         N|              TX|2FAFP73W64X160346|        2004|         RED|       FORD|CROWN VICTORIA|PASSENGER CAR, 4-...|              N|   75402|                1|PROOF OF LIABILIT...|FRONT END (RIGHT)...|        DAMAGED 3|             1|                NA|               NA|            NA|                 N|      PETTYS WRECKER|5110 I-30, GREENV...|FAILED TO YIELD R...|DRIVER INATTENTION|                 NA|           WEST|                    Y|              0|                 0|             0|            1|             0|            0|        0|\n",
      "|14877741|            NONE|       2|MOTOR VEHICLE|            N|         N|              TX|KNAFU5A2XB5322921|          NA|         WHI|        KIA|         FORTE|PASSENGER CAR, 4-...|              N|   75135|                1|PROOF OF LIABILIT...|LEFT SIDE DAMAGE ...|        DAMAGED 3|             8|                NA|               NA|            NA|                 N|  RELEASED TO DRIVER|                null|                NONE|                NA|                 NA|          SOUTH|                    Y|              0|                 0|             0|            1|             0|            0|        0|\n",
      "|14880750|            NONE|       1|MOTOR VEHICLE|            N|         N|              TX|1FTRE14W85HA03217|        2005|         WHI|       FORD| ECONOLINE VAN|                 VAN|              N|   77072|                1|PROOF OF LIABILIT...|FRONT END (LEFT) ...|DAMAGED 1 MINIMUM|            NA|                NA|               NA|            NA|                 N|       LONG'S TOWING|9520 KIRKWOOD DRI...|FAILED TO YIELD R...|                NA|                 NA|           WEST|                    Y|              0|                 0|             0|            1|             0|            0|        0|\n",
      "|14880750|            NONE|       2|MOTOR VEHICLE|            N|         N|              TX|1NXBR32E95Z362395|        2005|         WHI|     TOYOTA|       COROLLA|PASSENGER CAR, 4-...|              N|   77083|                1|PROOF OF LIABILIT...|FRONT END (RIGHT)...|DAMAGED 1 MINIMUM|            NA|                NA|               NA|            NA|                 N|DRIVEN FROM SCENE...|   DRIVEN FROM SCENE|                NONE|                NA|                 NA|          NORTH|                    Y|              0|                 0|             0|            2|             0|            0|        0|\n",
      "|14882428|            NONE|       1|MOTOR VEHICLE|            N|         N|              TX|1C3EL46J05N641247|        2005|         SIL|   CHRYSLER|       SEBRING|PASSENGER CAR, 4-...|              N|   77083|                1|PROOF OF LIABILIT...|DISTRIBUTED RIGHT...|DAMAGED 1 MINIMUM|            NA|                NA|               NA|            NA|                 N|              DRIVER|       PARKING SPACE|CHANGED LANE WHEN...|                NA|                 NA|           WEST|                    Y|              0|                 0|             0|            1|             0|            0|        0|\n",
      "|14882428|            NONE|       2|MOTOR VEHICLE|            N|         N|              TX|JHLRD68432C013822|        2002|         SIL|      HONDA|          CR-V|SPORT UTILITY VEH...|              N|   77072|                1|PROOF OF LIABILIT...|DISTRIBUTED LEFT ...|DAMAGED 1 MINIMUM|            NA|                NA|               NA|            NA|                 N|              DRIVER|       PARKING SPACE|                NONE|                NA|                 NA|           WEST|                    Y|              0|                 0|             0|            1|             0|            0|        0|\n",
      "|14882436|            NONE|       1|MOTOR VEHICLE|            N|         N|              TX|2FAFP71W63X107440|        2003|         WHI|       FORD|     CROWN VIC|PASSENGER CAR, 4-...|              N|   77449|                1|PROOF OF LIABILIT...|LEFT FRONT QUARTE...|        DAMAGED 3|            NA|                NA|               NA|            NA|                 N|       LEFT AT SCENE|LEFT ON SCENE OFF...|                NONE|                NA|                 NA|          NORTH|                    Y|              0|                 0|             0|            1|             0|            0|        0|\n",
      "|14882436|            NONE|       2|MOTOR VEHICLE|            N|         N|              OK|4T1BF1FK0CU024782|          NA|         BLU|     TOYOTA|         CAMRY|PASSENGER CAR, 4-...|              N|   77433|                1|PROOF OF LIABILIT...|RIGHT FRONT QUART...|        DAMAGED 4|            NA|                NA|               NA|            NA|                 N|NORTH STATE 6 TOW...|17623 F.M. 529 HO...|FAILED TO YIELD R...|                NA|                 NA|          SOUTH|                    Y|              0|                 0|             0|            1|             0|            0|        0|\n",
      "|14885406|            NONE|       1|MOTOR VEHICLE|            N|         N|              TX|1G8AL52FX32138617|          NA|         BLK|     SATURN|           ION|PASSENGER CAR, 4-...|              N|   77088|                1|PROOF OF LIABILIT...|FRONT END (LEFT) ...|        DAMAGED 4|            11|                NA|               NA|            NA|                 Y|    CAR KING WRECKER|     5675 W. TIDWELL|                  NA|                NA| DRIVER INATTENTION|      NORTHWEST|                    Y|              0|                 1|             0|            0|             0|            1|        0|\n",
      "|14885557|            NONE|       1|MOTOR VEHICLE|            N|         N|              TX|3N1AB7APXFY216961|          NA|         BLK|     NISSAN|        SENTRA|PASSENGER CAR, 4-...|              N|   77429|                1|PROOF OF LIABILIT...|FRONT END DAMAGE ...|        DAMAGED 3|            12|                NA|               NA|            NA|                 N|     CHAMPOINS POINT|12639-B VETERANS ...|FAILED TO YIELD R...|                NA|                 NA|           WEST|                    Y|              0|                 0|             0|            1|             0|            0|        0|\n",
      "|14891475|            NONE|       1|MOTOR VEHICLE|            N|         N|              TX|3VWD17AJ2EM247505|          NA|         SIL| VOLKSWAGEN|         JETTA|PASSENGER CAR, 4-...|              N|   75402|                1|PROOF OF LIABILIT...|FRONT END DAMAGE ...|        DAMAGED 2|             1|                NA|               NA|            NA|                 N|RELEASED TO OWNER...|                null|FAILED TO CONTROL...|DRIVER INATTENTION|                 NA|           WEST|                    Y|              0|                 0|             0|            1|             0|            0|        0|\n",
      "+--------+----------------+--------+-------------+-------------+----------+----------------+-----------------+------------+------------+-----------+--------------+--------------------+---------------+--------+-----------------+--------------------+--------------------+-----------------+--------------+------------------+-----------------+--------------+------------------+--------------------+--------------------+--------------------+------------------+-------------------+---------------+---------------------+---------------+------------------+--------------+-------------+--------------+-------------+---------+\n",
      "only showing top 20 rows\n",
      "\n"
     ]
    },
    {
     "data": {
      "text/plain": [
       "None"
      ]
     },
     "metadata": {},
     "output_type": "display_data"
    }
   ],
   "source": [
    "df7 = df_damage.join(df_unit, on=[\"CRASH_ID\"], how='inner'). \\\n",
    "    where(((df_unit.VEH_DMAG_SCL_1_ID > \"DAMAGED 4\")) | ((df_unit.VEH_DMAG_SCL_2_ID > \"DAMAGED 4\"))). \\\n",
    "    where(df_damage.DAMAGED_PROPERTY == \"NONE\"). \\\n",
    "    where(df_unit.FIN_RESP_TYPE_ID == \"PROOF OF LIABILITY INSURANCE\")\n",
    "display(df7.show())"
   ]
  },
  {
   "cell_type": "markdown",
   "id": "044ab93f",
   "metadata": {},
   "source": [
    "# Analysis 8"
   ]
  },
  {
   "attachments": {},
   "cell_type": "markdown",
   "id": "9eab9480",
   "metadata": {},
   "source": [
    "Determine the Top 5 Vehicle Makes where drivers are charged with speeding related offences, has licensed Drivers, used top 10 used vehicle colours and has car licensed with the Top 25 states with highest number of offences (to be deduced from the data)"
   ]
  },
  {
   "cell_type": "code",
   "execution_count": 10,
   "id": "7a6239d4",
   "metadata": {},
   "outputs": [
    {
     "name": "stdout",
     "output_type": "stream",
     "text": [
      "root\n",
      " |-- CRASH_ID: integer (nullable = true)\n",
      " |-- UNIT_NBR: integer (nullable = true)\n",
      " |-- PRSN_NBR: integer (nullable = true)\n",
      " |-- CHARGE: string (nullable = true)\n",
      " |-- CITATION_NBR: string (nullable = true)\n",
      "\n"
     ]
    }
   ],
   "source": [
    "df_charge = spark.read.options(inferSchema = 'True',header = 'True', delimiter = ',').csv(\"./data/Charges_use.csv\")\n",
    "df_charge.printSchema()"
   ]
  },
  {
   "cell_type": "code",
   "execution_count": 11,
   "id": "d46fc674",
   "metadata": {},
   "outputs": [],
   "source": [
    "top_25_state_list_df = df_unit.groupby(\"VEH_LIC_STATE_ID\").count().orderBy(col(\"count\").desc()). \\\n",
    "    filter(col(\"VEH_LIC_STATE_ID\").cast('int').isNull()).limit(25)\n",
    "top_25_state_list = top_25_state_list_df.select(\"VEH_LIC_STATE_ID\").rdd.flatMap(lambda x: x).collect()\n",
    "\n",
    "top_10_used_vehicle_colors_df = df_unit.groupby(\"VEH_COLOR_ID\").count().orderBy(col(\"count\").desc()). \\\n",
    "    where(col(\"VEH_COLOR_ID\").cast('int').isNull()). \\\n",
    "    where(col(\"VEH_COLOR_ID\") != \"NA\").limit(10)\n",
    "\n",
    "top_10_used_vehicle_colors = top_10_used_vehicle_colors_df.select(\"VEH_COLOR_ID\").rdd.flatMap(lambda x: x).collect()"
   ]
  },
  {
   "cell_type": "code",
   "execution_count": 184,
   "id": "d13d3f04",
   "metadata": {},
   "outputs": [
    {
     "name": "stdout",
     "output_type": "stream",
     "text": [
      "+-----------+--------------------------+\n",
      "|VEH_MAKE_ID|Highest_number_of_offences|\n",
      "+-----------+--------------------------+\n",
      "|       FORD|                     19205|\n",
      "|  CHEVROLET|                     16860|\n",
      "|     TOYOTA|                     11822|\n",
      "|      DODGE|                      7935|\n",
      "|     NISSAN|                      7332|\n",
      "+-----------+--------------------------+\n",
      "\n"
     ]
    }
   ],
   "source": [
    "df8 = df_charge.join(df_person, 'CRASH_ID','inner'). \\\n",
    "    join(df_unit, 'CRASH_ID', 'inner'). \\\n",
    "    filter(df_charge.CHARGE.contains(\"SPEED\")). \\\n",
    "    filter(df_person.DRVR_LIC_TYPE_ID.isin([\"DRIVER LICENSE\", \"COMMERCIAL DRIVER LIC.\"])). \\\n",
    "    filter(df_unit.VEH_COLOR_ID.isin(top_10_used_vehicle_colors)). \\\n",
    "    filter(df_unit.VEH_LIC_STATE_ID.isin(top_25_state_list)). \\\n",
    "    groupby(\"VEH_MAKE_ID\").count(). \\\n",
    "    orderBy(col(\"count\").desc()).withColumnRenamed(\"count\",\"Highest_number_of_offences\").limit(5)\n",
    "df8.show()"
   ]
  },
  {
   "cell_type": "code",
   "execution_count": null,
   "id": "20b4c6e7",
   "metadata": {},
   "outputs": [],
   "source": []
  }
 ],
 "metadata": {
  "kernelspec": {
   "display_name": "env-spacy",
   "language": "python",
   "name": "python3"
  },
  "language_info": {
   "codemirror_mode": {
    "name": "ipython",
    "version": 3
   },
   "file_extension": ".py",
   "mimetype": "text/x-python",
   "name": "python",
   "nbconvert_exporter": "python",
   "pygments_lexer": "ipython3",
   "version": "3.9.7"
  },
  "vscode": {
   "interpreter": {
    "hash": "343191058819caea96d5cde1bd3b1a75b4807623ce2cda0e1c8499e39ac847e3"
   }
  }
 },
 "nbformat": 4,
 "nbformat_minor": 5
}
