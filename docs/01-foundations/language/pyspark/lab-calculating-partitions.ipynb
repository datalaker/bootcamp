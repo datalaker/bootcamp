{
 "cells": [
  {
   "cell_type": "code",
   "execution_count": null,
   "metadata": {},
   "outputs": [],
   "source": [
    "from pyspark.sql import SparkSession\n",
    "\n",
    "spark = SparkSession.builder.appName(\"challenge\").getOrCreate()\n",
    "sqlContext = SparkSession(spark)\n",
    "spark.sparkContext.setLogLevel(\"ERROR\")"
   ]
  },
  {
   "attachments": {},
   "cell_type": "markdown",
   "metadata": {},
   "source": [
    "## Example 1"
   ]
  },
  {
   "attachments": {},
   "cell_type": "markdown",
   "metadata": {},
   "source": [
    "We have _a single huge CSV file of 2647733632 bytes_ size (approx. 2.5 GB). Lets estimate the partition count with default Spark configuration."
   ]
  },
  {
   "cell_type": "code",
   "execution_count": 5,
   "metadata": {},
   "outputs": [],
   "source": [
    "def num_partitions(file_size, num_of_files, spark):\n",
    "    # Check the default partition size\n",
    "    partition_size = int(spark.conf.get(\"spark.sql.files.maxPartitionBytes\").replace(\"b\",\"\"))\n",
    "    print(f\"Partition Size: {partition_size} in bytes and {int(partition_size) / 1024 / 1024} in MB\")\n",
    "    # Check the default open Cost in Bytes\n",
    "    open_cost_size = int(spark.conf.get(\"spark.sql.files.openCostInBytes\").replace(\"b\",\"\"))\n",
    "    print(f\"Open Cost Size: {open_cost_size} in bytes and {int(open_cost_size) / 1024 / 1024} in MB\")\n",
    "    # Default parallelism\n",
    "    parallelism = int(spark.sparkContext.defaultParallelism)\n",
    "    print(f\"Default Parallelism: {parallelism}\")\n",
    "    # Total Actual File Size in Bytes\n",
    "    total_file_size = file_size * num_of_files\n",
    "    print(f\"Total File size on disk: {total_file_size} in bytes and {total_file_size / 1024 /1024} in MB\")\n",
    "    # Padded file size for Spark read\n",
    "    padded_file_size = total_file_size + (num_of_files * open_cost_size)\n",
    "    print(f\"Total padded file size: {padded_file_size} in bytes and {padded_file_size / 1024 /1024} in MB\")\n",
    "    # Number of Bytes per Core\n",
    "    bytes_per_core = padded_file_size / parallelism\n",
    "    print(f\"Bytes per Core: {bytes_per_core} in bytes and {bytes_per_core / 1024 /1024} in MB\")\n",
    "    # Max Split Bytes\n",
    "    max_bytes_per_split = min(partition_size, max(open_cost_size, bytes_per_core))\n",
    "    print(f\"Max bytes per Partition: {max_bytes_per_split} in bytes and {max_bytes_per_split / 1024 /1024} in MB\")\n",
    "    # Total number of Partitions\n",
    "    num_of_partitions = padded_file_size / max_bytes_per_split\n",
    "    print(f\"Approx number of partitions: {num_of_partitions}\")"
   ]
  },
  {
   "cell_type": "code",
   "execution_count": 6,
   "metadata": {},
   "outputs": [
    {
     "name": "stdout",
     "output_type": "stream",
     "text": [
      "Partition Size: 134217728 in bytes and 128.0 in MB\n",
      "Open Cost Size: 4194304 in bytes and 4.0 in MB\n",
      "Default Parallelism: 4\n",
      "Total File size on disk: 2647733632 in bytes and 2525.0755615234375 in MB\n",
      "Total padded file size: 2651927936 in bytes and 2529.0755615234375 in MB\n",
      "Bytes per Core: 662981984.0 in bytes and 632.2688903808594 in MB\n",
      "Max bytes per Partition: 134217728 in bytes and 128.0 in MB\n",
      "Approx number of partitions: 19.758402824401855\n"
     ]
    }
   ],
   "source": [
    "num_partitions(file_size=2647733632, num_of_files=1, spark=spark)"
   ]
  },
  {
   "attachments": {},
   "cell_type": "markdown",
   "metadata": {},
   "source": [
    "## Example 2"
   ]
  },
  {
   "attachments": {},
   "cell_type": "markdown",
   "metadata": {},
   "source": [
    "Consider a folder with _41300 tiny parquet files_ with average size of 7777 bytes per file approx. 7.7 KB. We can use our designed function now to predict the number of partitions for us."
   ]
  },
  {
   "cell_type": "code",
   "execution_count": 8,
   "metadata": {},
   "outputs": [
    {
     "name": "stdout",
     "output_type": "stream",
     "text": [
      "Partition Size: 134217728 in bytes and 128.0 in MB\n",
      "Open Cost Size: 4194304 in bytes and 4.0 in MB\n",
      "Default Parallelism: 4\n",
      "Total File size on disk: 321190100 in bytes and 306.3107490539551 in MB\n",
      "Total padded file size: 173545945300 in bytes and 165506.31074905396 in MB\n",
      "Bytes per Core: 43386486325.0 in bytes and 41376.57768726349 in MB\n",
      "Max bytes per Partition: 134217728 in bytes and 128.0 in MB\n",
      "Approx number of partitions: 1293.018052726984\n"
     ]
    }
   ],
   "source": [
    "# Calculate the number of partitions as per our logic for tiny files\n",
    "num_partitions(7777, 41300, spark)"
   ]
  },
  {
   "cell_type": "code",
   "execution_count": null,
   "metadata": {},
   "outputs": [],
   "source": []
  }
 ],
 "metadata": {
  "kernelspec": {
   "display_name": "env-spacy",
   "language": "python",
   "name": "python3"
  },
  "language_info": {
   "codemirror_mode": {
    "name": "ipython",
    "version": 3
   },
   "file_extension": ".py",
   "mimetype": "text/x-python",
   "name": "python",
   "nbconvert_exporter": "python",
   "pygments_lexer": "ipython3",
   "version": "3.9.7"
  },
  "orig_nbformat": 4
 },
 "nbformat": 4,
 "nbformat_minor": 2
}
