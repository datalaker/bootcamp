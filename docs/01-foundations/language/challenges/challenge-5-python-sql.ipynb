{
 "cells": [
  {
   "attachments": {},
   "cell_type": "markdown",
   "metadata": {},
   "source": [
    "The attached csv files contain a simulated dataset of a certain legal services program. The core services of this program include a) providing two types of legal services to a particular population in immigration custody, and b) providing legal representation to a subset of the people seen in (a).  \n",
    "\n",
    "You have been provided two tables with the following information:  \n",
    "\n",
    "* **Demographics** – identifying information on every person who received services from the program within a given timeframe \n",
    "\n",
    "    * Columns include: id_number, first_name, last_name, gender, birth, nationality  \n",
    "\n",
    "    * ID numbers serve as the primary key in this table, and serve as the foreign key to the event log table.  \n",
    "\n",
    "* **Event Log** – represents all services performed in the program.  \n",
    "\n",
    "    * Columns include: id_number, provider, region, facility, event_category, event_type, event_reason, event_mode, and event_date.  \n",
    "\n",
    "    * There are two “event categories” – in-custody events and representation events. You will find that in-custody services and legal representation will have different information contained in the “event type,” “event reason,” and “event mode” fields. The “event date” field will always represent the date service was rendered. \n",
    "\n",
    "    * In-custody events represent the two types of legal services performed in custody. There are two “event types” for detained events – TYPE 1 and TYPE 2.  \n",
    "\n",
    "        * TYPE 1 can happen in the individual or group setting (represented by the “event mode” field).  \n",
    "\n",
    "        * TYPE 2 always happens in the individual setting. \n",
    "\n",
    "    * Representation events track open & closure of legal case representation by the program’s legal service providers. \n",
    "\n",
    "        * A case is opened with a “representation initiated” in the event type field. \n",
    "\n",
    "        * A case is closed with a “representation ended” in the event type field. \n",
    "\n",
    "        * Representation can be initiated in custody or after release. This is marked by “IN CUSTODY” or “RELEASED” in the “event reason” field, respectively.  \n",
    "\n",
    "        * Representation can happen directly through one of three service modes: A, B, or C. This is denoted in the “event mode” field.  \n",
    "\n",
    "        * Cases can be closed for a variety of reasons. The reason for closure is entered under the “event reason” field.  \n",
    "\n",
    "\n",
    "With the given tables, please provide code for the following:\n",
    "\n",
    "**1. SQL:** Create a reference table that summarizes each client’s case initiated information and current case status. Clients who received services in custody but never had representation may be omitted from this reference table. (est. 20-40 minutes) \n",
    "\n",
    "* The table should have the following columns: ID number, date first initiated, first initiated reason, first initiated provider, most recent provider, first initiated mode, most recent mode, case status, close date, close reason \n",
    "\n",
    "* You’ll derive the following columns from the first representation event for each client: date first initiated, first initiated provider, first initiated mode, first initiated reason \n",
    "\n",
    "* You’ll derive the following columns from the most recent representation event for each client: most recent provider, most recent mode, current case status, close date (if applicable), close reason (if applicable).  \n",
    "\n",
    "    * A case status is “Open” if the most recent representation event is a “representation initiated” event.  \n",
    "\n",
    "    * A case status is “Closed” if the most recent representation event is a “representation ended” event.  \n",
    "\n",
    "    * A case may be opened & closed multiple times (i.e. a person’s event log may have a “case closed” event in their history, but have a current open case). *\n",
    "\n",
    "**2. Python:** Please provide a Python function that calculates each of the following:\n",
    "\n",
    "* Given a dataframe containing the demographics data, return the number of unique nationalities. (est. 5-10 minutes) \n",
    "\n",
    "* Given a dataframe of the event log data and a date, return how many cases were open on that date. Please state any assumptions you’ve made as part of your answer. (est. 20-30 minutes) "
   ]
  },
  {
   "cell_type": "code",
   "execution_count": 4,
   "metadata": {},
   "outputs": [],
   "source": [
    "import pandas as pd\n",
    "import sqlite3"
   ]
  },
  {
   "cell_type": "code",
   "execution_count": 2,
   "metadata": {},
   "outputs": [
    {
     "data": {
      "text/html": [
       "<div>\n",
       "<style scoped>\n",
       "    .dataframe tbody tr th:only-of-type {\n",
       "        vertical-align: middle;\n",
       "    }\n",
       "\n",
       "    .dataframe tbody tr th {\n",
       "        vertical-align: top;\n",
       "    }\n",
       "\n",
       "    .dataframe thead th {\n",
       "        text-align: right;\n",
       "    }\n",
       "</style>\n",
       "<table border=\"1\" class=\"dataframe\">\n",
       "  <thead>\n",
       "    <tr style=\"text-align: right;\">\n",
       "      <th></th>\n",
       "      <th>id_number</th>\n",
       "      <th>provider</th>\n",
       "      <th>region</th>\n",
       "      <th>facility</th>\n",
       "      <th>event_category</th>\n",
       "      <th>event_type</th>\n",
       "      <th>event_reason</th>\n",
       "      <th>event_mode</th>\n",
       "      <th>event_date</th>\n",
       "    </tr>\n",
       "  </thead>\n",
       "  <tbody>\n",
       "    <tr>\n",
       "      <th>0</th>\n",
       "      <td>888000491</td>\n",
       "      <td>DDD</td>\n",
       "      <td>b</td>\n",
       "      <td>L</td>\n",
       "      <td>in-custody event</td>\n",
       "      <td>TYPE1</td>\n",
       "      <td>NaN</td>\n",
       "      <td>group</td>\n",
       "      <td>2020-05-08</td>\n",
       "    </tr>\n",
       "    <tr>\n",
       "      <th>1</th>\n",
       "      <td>888000491</td>\n",
       "      <td>DDD</td>\n",
       "      <td>b</td>\n",
       "      <td>L</td>\n",
       "      <td>in-custody event</td>\n",
       "      <td>TYPE2</td>\n",
       "      <td>NaN</td>\n",
       "      <td>individual</td>\n",
       "      <td>2020-05-08</td>\n",
       "    </tr>\n",
       "    <tr>\n",
       "      <th>2</th>\n",
       "      <td>888001056</td>\n",
       "      <td>GGG</td>\n",
       "      <td>d</td>\n",
       "      <td>K</td>\n",
       "      <td>in-custody event</td>\n",
       "      <td>TYPE1</td>\n",
       "      <td>NaN</td>\n",
       "      <td>group</td>\n",
       "      <td>2020-04-18</td>\n",
       "    </tr>\n",
       "    <tr>\n",
       "      <th>3</th>\n",
       "      <td>888001328</td>\n",
       "      <td>GGG</td>\n",
       "      <td>d</td>\n",
       "      <td>H</td>\n",
       "      <td>in-custody event</td>\n",
       "      <td>TYPE1</td>\n",
       "      <td>NaN</td>\n",
       "      <td>group</td>\n",
       "      <td>2020-03-13</td>\n",
       "    </tr>\n",
       "    <tr>\n",
       "      <th>4</th>\n",
       "      <td>888001328</td>\n",
       "      <td>GGG</td>\n",
       "      <td>d</td>\n",
       "      <td>H</td>\n",
       "      <td>in-custody event</td>\n",
       "      <td>TYPE2</td>\n",
       "      <td>NaN</td>\n",
       "      <td>individual</td>\n",
       "      <td>2020-03-13</td>\n",
       "    </tr>\n",
       "  </tbody>\n",
       "</table>\n",
       "</div>"
      ],
      "text/plain": [
       "   id_number provider region facility    event_category event_type   \n",
       "0  888000491      DDD      b        L  in-custody event      TYPE1  \\\n",
       "1  888000491      DDD      b        L  in-custody event      TYPE2   \n",
       "2  888001056      GGG      d        K  in-custody event      TYPE1   \n",
       "3  888001328      GGG      d        H  in-custody event      TYPE1   \n",
       "4  888001328      GGG      d        H  in-custody event      TYPE2   \n",
       "\n",
       "  event_reason  event_mode  event_date  \n",
       "0          NaN       group  2020-05-08  \n",
       "1          NaN  individual  2020-05-08  \n",
       "2          NaN       group  2020-04-18  \n",
       "3          NaN       group  2020-03-13  \n",
       "4          NaN  individual  2020-03-13  "
      ]
     },
     "execution_count": 2,
     "metadata": {},
     "output_type": "execute_result"
    }
   ],
   "source": [
    "event_log = pd.read_csv('https://github.com/datalaker/assets/files/10905599/acj_event_log.csv')\n",
    "event_log.head()"
   ]
  },
  {
   "cell_type": "code",
   "execution_count": 9,
   "metadata": {},
   "outputs": [
    {
     "data": {
      "text/html": [
       "<div>\n",
       "<style scoped>\n",
       "    .dataframe tbody tr th:only-of-type {\n",
       "        vertical-align: middle;\n",
       "    }\n",
       "\n",
       "    .dataframe tbody tr th {\n",
       "        vertical-align: top;\n",
       "    }\n",
       "\n",
       "    .dataframe thead th {\n",
       "        text-align: right;\n",
       "    }\n",
       "</style>\n",
       "<table border=\"1\" class=\"dataframe\">\n",
       "  <thead>\n",
       "    <tr style=\"text-align: right;\">\n",
       "      <th></th>\n",
       "      <th>id_number</th>\n",
       "      <th>first_name</th>\n",
       "      <th>last_name</th>\n",
       "      <th>gender</th>\n",
       "      <th>birth</th>\n",
       "      <th>nationality</th>\n",
       "    </tr>\n",
       "  </thead>\n",
       "  <tbody>\n",
       "    <tr>\n",
       "      <th>0</th>\n",
       "      <td>888350661</td>\n",
       "      <td>First</td>\n",
       "      <td>Last</td>\n",
       "      <td>Other</td>\n",
       "      <td>2015-01-08</td>\n",
       "      <td>Haiti</td>\n",
       "    </tr>\n",
       "    <tr>\n",
       "      <th>1</th>\n",
       "      <td>888198842</td>\n",
       "      <td>First</td>\n",
       "      <td>Last</td>\n",
       "      <td>Male</td>\n",
       "      <td>2013-05-30</td>\n",
       "      <td>Armenia</td>\n",
       "    </tr>\n",
       "    <tr>\n",
       "      <th>2</th>\n",
       "      <td>888391282</td>\n",
       "      <td>First</td>\n",
       "      <td>Last</td>\n",
       "      <td>Female</td>\n",
       "      <td>2005-07-20</td>\n",
       "      <td>Uzbekistan</td>\n",
       "    </tr>\n",
       "    <tr>\n",
       "      <th>3</th>\n",
       "      <td>888336161</td>\n",
       "      <td>First</td>\n",
       "      <td>Last</td>\n",
       "      <td>Female</td>\n",
       "      <td>2018-10-20</td>\n",
       "      <td>India</td>\n",
       "    </tr>\n",
       "    <tr>\n",
       "      <th>4</th>\n",
       "      <td>888908064</td>\n",
       "      <td>First</td>\n",
       "      <td>Last</td>\n",
       "      <td>Male</td>\n",
       "      <td>2012-10-10</td>\n",
       "      <td>Bolivia</td>\n",
       "    </tr>\n",
       "  </tbody>\n",
       "</table>\n",
       "</div>"
      ],
      "text/plain": [
       "   id_number first_name last_name  gender       birth nationality\n",
       "0  888350661      First      Last   Other  2015-01-08       Haiti\n",
       "1  888198842      First      Last    Male  2013-05-30     Armenia\n",
       "2  888391282      First      Last  Female  2005-07-20  Uzbekistan\n",
       "3  888336161      First      Last  Female  2018-10-20       India\n",
       "4  888908064      First      Last    Male  2012-10-10     Bolivia"
      ]
     },
     "execution_count": 9,
     "metadata": {},
     "output_type": "execute_result"
    }
   ],
   "source": [
    "demographics = pd.read_csv('https://github.com/datalaker/assets/files/10905598/acj_demographics.csv')\n",
    "demographics.head()"
   ]
  },
  {
   "attachments": {},
   "cell_type": "markdown",
   "metadata": {},
   "source": [
    "## SQL"
   ]
  },
  {
   "cell_type": "code",
   "execution_count": 5,
   "metadata": {},
   "outputs": [
    {
     "data": {
      "text/plain": [
       "2065"
      ]
     },
     "execution_count": 5,
     "metadata": {},
     "output_type": "execute_result"
    }
   ],
   "source": [
    "#connect to a database\n",
    "conn = sqlite3.connect(\"event_log.db\") #if the db does not exist, this creates a db file in the current directory\n",
    "\n",
    "#store your table in the database\n",
    "event_log.to_sql('event_log', conn)"
   ]
  },
  {
   "cell_type": "code",
   "execution_count": 6,
   "metadata": {},
   "outputs": [],
   "source": [
    "%load_ext sql\n",
    "%sql sqlite:///event_log.db"
   ]
  },
  {
   "cell_type": "code",
   "execution_count": 8,
   "metadata": {},
   "outputs": [
    {
     "name": "stdout",
     "output_type": "stream",
     "text": [
      " * sqlite:///event_log.db\n",
      "Done.\n"
     ]
    },
    {
     "data": {
      "text/html": [
       "<table>\n",
       "    <tr>\n",
       "        <th>index</th>\n",
       "        <th>id_number</th>\n",
       "        <th>provider</th>\n",
       "        <th>region</th>\n",
       "        <th>facility</th>\n",
       "        <th>event_category</th>\n",
       "        <th>event_type</th>\n",
       "        <th>event_reason</th>\n",
       "        <th>event_mode</th>\n",
       "        <th>event_date</th>\n",
       "    </tr>\n",
       "    <tr>\n",
       "        <td>0</td>\n",
       "        <td>888000491</td>\n",
       "        <td>DDD</td>\n",
       "        <td>b</td>\n",
       "        <td>L</td>\n",
       "        <td>in-custody event</td>\n",
       "        <td>TYPE1</td>\n",
       "        <td>None</td>\n",
       "        <td>group</td>\n",
       "        <td>2020-05-08</td>\n",
       "    </tr>\n",
       "    <tr>\n",
       "        <td>2</td>\n",
       "        <td>888001056</td>\n",
       "        <td>GGG</td>\n",
       "        <td>d</td>\n",
       "        <td>K</td>\n",
       "        <td>in-custody event</td>\n",
       "        <td>TYPE1</td>\n",
       "        <td>None</td>\n",
       "        <td>group</td>\n",
       "        <td>2020-04-18</td>\n",
       "    </tr>\n",
       "    <tr>\n",
       "        <td>3</td>\n",
       "        <td>888001328</td>\n",
       "        <td>GGG</td>\n",
       "        <td>d</td>\n",
       "        <td>H</td>\n",
       "        <td>in-custody event</td>\n",
       "        <td>TYPE1</td>\n",
       "        <td>None</td>\n",
       "        <td>group</td>\n",
       "        <td>2020-03-13</td>\n",
       "    </tr>\n",
       "    <tr>\n",
       "        <td>5</td>\n",
       "        <td>888001365</td>\n",
       "        <td>III</td>\n",
       "        <td>b</td>\n",
       "        <td>F</td>\n",
       "        <td>in-custody event</td>\n",
       "        <td>TYPE1</td>\n",
       "        <td>None</td>\n",
       "        <td>group</td>\n",
       "        <td>2020-04-29</td>\n",
       "    </tr>\n",
       "    <tr>\n",
       "        <td>6</td>\n",
       "        <td>888002920</td>\n",
       "        <td>CCC</td>\n",
       "        <td>b</td>\n",
       "        <td>X</td>\n",
       "        <td>in-custody event</td>\n",
       "        <td>TYPE1</td>\n",
       "        <td>None</td>\n",
       "        <td>group</td>\n",
       "        <td>2020-04-04</td>\n",
       "    </tr>\n",
       "</table>"
      ],
      "text/plain": [
       "[(0, 888000491, 'DDD', 'b', 'L', 'in-custody event', 'TYPE1', None, 'group', '2020-05-08'),\n",
       " (2, 888001056, 'GGG', 'd', 'K', 'in-custody event', 'TYPE1', None, 'group', '2020-04-18'),\n",
       " (3, 888001328, 'GGG', 'd', 'H', 'in-custody event', 'TYPE1', None, 'group', '2020-03-13'),\n",
       " (5, 888001365, 'III', 'b', 'F', 'in-custody event', 'TYPE1', None, 'group', '2020-04-29'),\n",
       " (6, 888002920, 'CCC', 'b', 'X', 'in-custody event', 'TYPE1', None, 'group', '2020-04-04')]"
      ]
     },
     "execution_count": 8,
     "metadata": {},
     "output_type": "execute_result"
    }
   ],
   "source": [
    "%%sql\n",
    "SELECT *\n",
    "from event_log\n",
    "GROUP BY id_number\n",
    "LIMIT 5"
   ]
  },
  {
   "attachments": {},
   "cell_type": "markdown",
   "metadata": {},
   "source": [
    "## Python"
   ]
  },
  {
   "cell_type": "code",
   "execution_count": 10,
   "metadata": {},
   "outputs": [
    {
     "data": {
      "text/plain": [
       "17"
      ]
     },
     "execution_count": 10,
     "metadata": {},
     "output_type": "execute_result"
    }
   ],
   "source": [
    "demographics['nationality'].nunique()"
   ]
  },
  {
   "cell_type": "code",
   "execution_count": 11,
   "metadata": {},
   "outputs": [],
   "source": [
    "def num_open_cases(df, date):\n",
    "    \n",
    "    filtered_date = df.loc[(df['event_date'] == f'{date}')]\n",
    "    open_cases = filtered_date.loc[(filtered_date['event_type'] == 'representation initiated')]\n",
    "    print(open_cases.shape[0])"
   ]
  },
  {
   "cell_type": "code",
   "execution_count": 12,
   "metadata": {},
   "outputs": [
    {
     "name": "stdout",
     "output_type": "stream",
     "text": [
      "1\n"
     ]
    }
   ],
   "source": [
    "# assumption - open cases are in 'representation initiated' as it also states here 'A case is opened with a “representation initiated” in the event type field\n",
    "num_open_cases(event_log, '2020-05-12')"
   ]
  },
  {
   "attachments": {},
   "cell_type": "markdown",
   "metadata": {},
   "source": [
    "## Cleanup"
   ]
  },
  {
   "cell_type": "code",
   "execution_count": 13,
   "metadata": {},
   "outputs": [],
   "source": [
    "!rm -rf event_log.db"
   ]
  },
  {
   "cell_type": "code",
   "execution_count": null,
   "metadata": {},
   "outputs": [],
   "source": []
  }
 ],
 "metadata": {
  "kernelspec": {
   "display_name": "env-spacy",
   "language": "python",
   "name": "python3"
  },
  "language_info": {
   "codemirror_mode": {
    "name": "ipython",
    "version": 3
   },
   "file_extension": ".py",
   "mimetype": "text/x-python",
   "name": "python",
   "nbconvert_exporter": "python",
   "pygments_lexer": "ipython3",
   "version": "3.9.7"
  },
  "orig_nbformat": 4,
  "vscode": {
   "interpreter": {
    "hash": "343191058819caea96d5cde1bd3b1a75b4807623ce2cda0e1c8499e39ac847e3"
   }
  }
 },
 "nbformat": 4,
 "nbformat_minor": 2
}
