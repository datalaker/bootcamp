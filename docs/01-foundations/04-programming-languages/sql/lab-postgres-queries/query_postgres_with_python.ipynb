{
  "cells": [
    {
      "cell_type": "code",
      "execution_count": null,
      "metadata": {
        "id": "MJyJPRNj8mPb"
      },
      "outputs": [],
      "source": [
        "%%capture\n",
        "pip install psycopg2-binary python-dotenv"
      ]
    },
    {
      "cell_type": "code",
      "execution_count": null,
      "metadata": {
        "colab": {
          "base_uri": "https://localhost:8080/"
        },
        "id": "xtS5Dk1al63f",
        "outputId": "8f06bac4-8b9a-4880-fb6b-dd2434676959"
      },
      "outputs": [],
      "source": [
        "%%writefile .env\n",
        "CONN1=postgresql://<user>:<pass>@<endpoint>:5432/postgres\n",
        "CONN2=postgresql://<user>:<pass>@<endpoint>:5432/mydb"
      ]
    },
    {
      "cell_type": "code",
      "execution_count": null,
      "metadata": {
        "id": "SdbAcTI6lWl2"
      },
      "outputs": [],
      "source": [
        "import os\n",
        "\n",
        "from dotenv import load_dotenv\n",
        "load_dotenv()\n",
        "\n",
        "from sqlalchemy import create_engine\n",
        "import pandas as pd"
      ]
    },
    {
      "cell_type": "code",
      "execution_count": null,
      "metadata": {
        "id": "vzpkBRNDmPbx"
      },
      "outputs": [],
      "source": [
        "engine = create_engine(os.getenv('CONN1'))"
      ]
    },
    {
      "cell_type": "code",
      "execution_count": null,
      "metadata": {
        "id": "tTyRFTaZrV5B"
      },
      "outputs": [],
      "source": [
        "engine.execute('SELECT datname FROM pg_database;').fetchall()"
      ]
    },
    {
      "cell_type": "code",
      "execution_count": null,
      "metadata": {
        "id": "5u87jePJp9LX"
      },
      "outputs": [],
      "source": [
        "conn = engine.connect()\n",
        "\n",
        "try: \n",
        "    conn.execution_options(isolation_level=\"AUTOCOMMIT\").execute(\"CREATE DATABASE mydb\")\n",
        "except Exception as e:\n",
        "    print(e)\n",
        "finally:\n",
        "    conn.close()"
      ]
    },
    {
      "cell_type": "markdown",
      "metadata": {
        "id": "j1KaqiTCp08n"
      },
      "source": [
        "Create Table for students which includes below columns\n",
        "\n",
        "- student_id <br>\n",
        "- name <br>\n",
        "- age <br>\n",
        "- gender <br>\n",
        "- subject <br>\n",
        "- marks"
      ]
    },
    {
      "cell_type": "code",
      "execution_count": null,
      "metadata": {
        "id": "_aOybb8Dy5SE"
      },
      "outputs": [],
      "source": [
        "engine = create_engine(os.getenv('CONN2'))"
      ]
    },
    {
      "cell_type": "code",
      "execution_count": null,
      "metadata": {
        "id": "DLuHfJIOr8sE"
      },
      "outputs": [],
      "source": [
        "conn = engine.connect()\n",
        "\n",
        "try: \n",
        "    conn.execute(\"CREATE TABLE IF NOT EXISTS students (student_id int, name varchar,\\\n",
        "    age int, gender varchar, subject varchar, marks int);\")\n",
        "except Exception as e: \n",
        "    print(\"Error: Issue creating table\")\n",
        "    print(e)\n",
        "finally:\n",
        "    conn.close()"
      ]
    },
    {
      "cell_type": "markdown",
      "metadata": {
        "id": "7Yv3n375sJAf"
      },
      "source": [
        "Insert the following two rows in the table:\n",
        "- First Row:  1, \"Raj\", 23, \"Male\", \"Python\", 85\n",
        "- Second Row: 2, \"Priya\", 22, \"Female\", \"Python\", 86"
      ]
    },
    {
      "cell_type": "code",
      "execution_count": null,
      "metadata": {
        "id": "JyOcGiyjsQcB"
      },
      "outputs": [],
      "source": [
        "conn = engine.connect()\n",
        "\n",
        "try: \n",
        "    conn.execute(\"INSERT INTO students (student_id, name, age, gender, subject, marks) \\\n",
        "                 VALUES (%s, %s, %s, %s, %s, %s)\", \\\n",
        "                 (1, \"Raj\", 23, \"Male\", \"Python\", 85))\n",
        "    conn.execute(\"INSERT INTO students (student_id, name, age, gender, subject, marks) \\\n",
        "                  VALUES (%s, %s, %s, %s, %s, %s)\",\n",
        "                  ( 2, \"Priya\", 22, \"Female\", \"Python\", 86))\n",
        "except Exception as e: \n",
        "    print(\"Error: Inserting Rows\")\n",
        "    print (e)\n",
        "finally:\n",
        "    conn.close()"
      ]
    },
    {
      "cell_type": "code",
      "execution_count": null,
      "metadata": {
        "colab": {
          "base_uri": "https://localhost:8080/"
        },
        "id": "loc4yrScsfIL",
        "outputId": "fcac181b-4107-4de7-ab9b-7f50b4968b75"
      },
      "outputs": [],
      "source": [
        "conn = engine.connect()\n",
        "\n",
        "try: \n",
        "    result = conn.execute(\"SELECT * FROM students;\")\n",
        "except Exception as e: \n",
        "    print(\"Error: select *\")\n",
        "    print(e)\n",
        "\n",
        "row = result.fetchone()\n",
        "while row:\n",
        "    print(row)\n",
        "    row = result.fetchone()"
      ]
    },
    {
      "cell_type": "code",
      "execution_count": null,
      "metadata": {
        "colab": {
          "base_uri": "https://localhost:8080/",
          "height": 112
        },
        "id": "12O6kjuOwtUA",
        "outputId": "36055a34-0df5-49ad-853f-86f8334cce26"
      },
      "outputs": [],
      "source": [
        "conn = engine.connect()\n",
        "pd.read_sql(\"SELECT * FROM students\", con=conn)"
      ]
    },
    {
      "cell_type": "code",
      "execution_count": null,
      "metadata": {
        "colab": {
          "base_uri": "https://localhost:8080/"
        },
        "id": "uQu7wgcUspuk",
        "outputId": "37096126-75d8-4072-fb67-662475006aa0"
      },
      "outputs": [],
      "source": [
        "!wget -q --show-progress https://github.com/RecoHut-Datasets/retail_general/raw/main/sample_superstore.csv"
      ]
    },
    {
      "cell_type": "code",
      "execution_count": null,
      "metadata": {
        "colab": {
          "base_uri": "https://localhost:8080/"
        },
        "id": "P_wK1IxRwXMi",
        "outputId": "8e643805-5e42-496d-9bd8-80c2ab58f594"
      },
      "outputs": [],
      "source": [
        "!head sample_superstore.csv"
      ]
    },
    {
      "cell_type": "code",
      "execution_count": null,
      "metadata": {
        "colab": {
          "base_uri": "https://localhost:8080/",
          "height": 956
        },
        "id": "hUeH5i_uwpi-",
        "outputId": "86a2191d-77ec-41ee-815c-651d23c3f077"
      },
      "outputs": [],
      "source": [
        "data = pd.read_csv('sample_superstore.csv')\n",
        "data"
      ]
    },
    {
      "cell_type": "code",
      "execution_count": null,
      "metadata": {
        "id": "L3YTh28awZny"
      },
      "outputs": [],
      "source": [
        "data.to_sql('superstore',\n",
        "            con=engine,\n",
        "            if_exists='replace',\n",
        "            index=False,\n",
        "            method='multi')"
      ]
    },
    {
      "cell_type": "code",
      "execution_count": null,
      "metadata": {
        "colab": {
          "base_uri": "https://localhost:8080/",
          "height": 896
        },
        "id": "BCM0vHaKxHI_",
        "outputId": "12fef5c0-4b63-4a39-8848-0873913e0668"
      },
      "outputs": [],
      "source": [
        "conn = engine.connect()\n",
        "pd.read_sql(\"SELECT * FROM superstore LIMIT 10\", con=conn)"
      ]
    },
    {
      "cell_type": "markdown",
      "metadata": {
        "id": "Z8Y5K1Ovzpkx"
      },
      "source": [
        "---"
      ]
    },
    {
      "cell_type": "code",
      "execution_count": null,
      "metadata": {
        "id": "UfeLeHPixd9e"
      },
      "outputs": [],
      "source": [
        "query = \"\"\"\n",
        "CREATE TABLE Music (\n",
        "    Artist VARCHAR(20) NOT NULL, \n",
        "    SongTitle VARCHAR(30) NOT NULL,\n",
        "    AlbumTitle VARCHAR(25),\n",
        "    Year INT,\n",
        "    Price FLOAT,\n",
        "    Genre VARCHAR(10),\n",
        "    CriticRating FLOAT,\n",
        "    Tags TEXT,\n",
        "    PRIMARY KEY(Artist, SongTitle)\n",
        ");\n",
        "\"\"\"\n",
        "\n",
        "conn = engine.connect()\n",
        "\n",
        "try: \n",
        "    result = conn.execute(query)\n",
        "except Exception as e: \n",
        "    print(e)"
      ]
    },
    {
      "cell_type": "code",
      "execution_count": null,
      "metadata": {
        "id": "3XAeX2kG0Xkw"
      },
      "outputs": [],
      "source": [
        "query = \"\"\"\n",
        "INSERT INTO Music \n",
        "    (Artist, SongTitle, AlbumTitle, \n",
        "    Year, Price, Genre, CriticRating, \n",
        "    Tags)\n",
        "VALUES(\n",
        "    'No One You Know', 'Call Me Today', 'Somewhat Famous',\n",
        "    2015, 2.14, 'Country', 7.8,\n",
        "    '{\"Composers\": [\"Smith\", \"Jones\", \"Davis\"],\"LengthInSeconds\": 214}'\n",
        ");\n",
        "INSERT INTO Music \n",
        "    (Artist, SongTitle, AlbumTitle, \n",
        "    Price, Genre, CriticRating)\n",
        "VALUES(\n",
        "    'No One You Know', 'My Dog Spot', 'Hey Now',\n",
        "    1.98, 'Country', 8.4\n",
        ");\n",
        "INSERT INTO Music \n",
        "    (Artist, SongTitle, AlbumTitle, \n",
        "    Price, Genre)\n",
        "VALUES(\n",
        "    'The Acme Band', 'Look Out, World', 'The Buck Starts Here',\n",
        "    0.99, 'Rock'\n",
        ");\n",
        "INSERT INTO Music \n",
        "    (Artist, SongTitle, AlbumTitle, \n",
        "    Price, Genre, \n",
        "    Tags)\n",
        "VALUES(\n",
        "    'The Acme Band', 'Still In Love', 'The Buck Starts Here',\n",
        "    2.47, 'Rock', \n",
        "    '{\"radioStationsPlaying\": [\"KHCR\", \"KBQX\", \"WTNR\", \"WJJH\"], \"tourDates\": { \"Seattle\": \"20150625\", \"Cleveland\": \"20150630\"}, \"rotation\": Heavy}'\n",
        ");\n",
        "\"\"\"\n",
        "\n",
        "conn = engine.connect()\n",
        "\n",
        "try: \n",
        "    result = conn.execute(query)\n",
        "except Exception as e: \n",
        "    print(e)"
      ]
    },
    {
      "cell_type": "code",
      "execution_count": null,
      "metadata": {
        "colab": {
          "base_uri": "https://localhost:8080/",
          "height": 288
        },
        "id": "d9pvM01v2nvV",
        "outputId": "8ffdd853-0b20-4f4b-9090-27bf9af18dd6"
      },
      "outputs": [],
      "source": [
        "query = \"\"\"\n",
        "SELECT * FROM Music;\n",
        "\"\"\"\n",
        "\n",
        "conn = engine.connect()\n",
        "pd.read_sql(query, conn)"
      ]
    },
    {
      "cell_type": "code",
      "execution_count": null,
      "metadata": {
        "colab": {
          "base_uri": "https://localhost:8080/",
          "height": 156
        },
        "id": "U5BvDE1H1-R2",
        "outputId": "4b658eb7-aaa2-415c-efcf-b09070f6a09a"
      },
      "outputs": [],
      "source": [
        "query = \"\"\"\n",
        "SELECT * FROM Music\n",
        "WHERE Artist='No One You Know';\n",
        "\"\"\"\n",
        "\n",
        "conn = engine.connect()\n",
        "pd.read_sql(query, conn)"
      ]
    },
    {
      "cell_type": "code",
      "execution_count": null,
      "metadata": {
        "colab": {
          "base_uri": "https://localhost:8080/",
          "height": 125
        },
        "id": "VH5LczZT2XAS",
        "outputId": "62efab60-8a06-4da3-e3e6-12d8e58f33ff"
      },
      "outputs": [],
      "source": [
        "query = \"\"\"\n",
        "SELECT * FROM Music\n",
        "WHERE Artist='No One You Know' AND SongTitle LIKE 'Call%%';\n",
        "\"\"\"\n",
        "\n",
        "conn = engine.connect()\n",
        "pd.read_sql(query, conn)"
      ]
    },
    {
      "cell_type": "code",
      "execution_count": null,
      "metadata": {
        "colab": {
          "base_uri": "https://localhost:8080/",
          "height": 125
        },
        "id": "jEiXeTZk2XXl",
        "outputId": "325f737a-8e16-4c0a-b145-37e8caf16b06"
      },
      "outputs": [],
      "source": [
        "query = \"\"\"\n",
        "SELECT * FROM Music\n",
        "WHERE Artist='No One You Know' AND SongTitle LIKE '%%Today%%'\n",
        "AND Price > 1.00;\n",
        "\"\"\"\n",
        "\n",
        "conn = engine.connect()\n",
        "pd.read_sql(query, conn)"
      ]
    },
    {
      "cell_type": "code",
      "execution_count": null,
      "metadata": {
        "id": "r55tg5LW15IR"
      },
      "outputs": [],
      "source": [
        "query = \"\"\"\n",
        "UPDATE Music\n",
        "SET Genre = 'Disco'\n",
        "WHERE Artist = 'The Acme Band' AND SongTitle = 'Still In Love';\n",
        "\"\"\"\n",
        "\n",
        "conn = engine.connect()\n",
        "\n",
        "try: \n",
        "    conn.execute(query)\n",
        "except Exception as e: \n",
        "    print(e)"
      ]
    },
    {
      "cell_type": "code",
      "execution_count": null,
      "metadata": {
        "colab": {
          "base_uri": "https://localhost:8080/",
          "height": 288
        },
        "id": "-HFvRTM73On_",
        "outputId": "02ddd6e3-aaf8-40d9-bf7a-cf2a5070a592"
      },
      "outputs": [],
      "source": [
        "query = \"\"\"\n",
        "SELECT * FROM Music;\n",
        "\"\"\"\n",
        "\n",
        "conn = engine.connect()\n",
        "pd.read_sql(query, conn)"
      ]
    },
    {
      "cell_type": "code",
      "execution_count": null,
      "metadata": {
        "id": "4UFJYPZn3Wq6"
      },
      "outputs": [],
      "source": [
        "query = \"\"\"\n",
        "DELETE FROM Music\n",
        "WHERE Artist = 'The Acme Band' AND SongTitle = 'Look Out, World';\n",
        "\"\"\"\n",
        "\n",
        "conn = engine.connect()\n",
        "\n",
        "try: \n",
        "    conn.execute(query)\n",
        "except Exception as e: \n",
        "    print(e)"
      ]
    },
    {
      "cell_type": "code",
      "execution_count": null,
      "metadata": {
        "colab": {
          "base_uri": "https://localhost:8080/",
          "height": 240
        },
        "id": "IMHyxzq85zyy",
        "outputId": "c1572f89-6aa3-4394-fe30-bc60acea4964"
      },
      "outputs": [],
      "source": [
        "query = \"\"\"\n",
        "SELECT * FROM Music;\n",
        "\"\"\"\n",
        "\n",
        "conn = engine.connect()\n",
        "pd.read_sql(query, conn)"
      ]
    },
    {
      "cell_type": "code",
      "execution_count": null,
      "metadata": {
        "id": "GTdSz0d1546D"
      },
      "outputs": [],
      "source": [
        "query = \"\"\"\n",
        "DROP TABLE Music;\n",
        "\"\"\"\n",
        "\n",
        "conn = engine.connect()\n",
        "\n",
        "try: \n",
        "    conn.execute(query)\n",
        "except Exception as e: \n",
        "    print(e)"
      ]
    },
    {
      "cell_type": "markdown",
      "metadata": {
        "id": "N-MRLL226P3i"
      },
      "source": [
        "---"
      ]
    }
  ],
  "metadata": {
    "colab": {
      "collapsed_sections": [],
      "name": "Data Engineering - Lab - Query Postgres with Python",
      "provenance": [],
      "toc_visible": true
    },
    "kernelspec": {
      "display_name": "Python 3",
      "name": "python3"
    },
    "language_info": {
      "name": "python"
    }
  },
  "nbformat": 4,
  "nbformat_minor": 0
}
