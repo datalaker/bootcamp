{
 "cells": [
  {
   "cell_type": "code",
   "execution_count": 1,
   "metadata": {},
   "outputs": [],
   "source": [
    "import os\n",
    "import mysql.connector\n",
    "import pandas as pd\n",
    "import sqlalchemy\n",
    "\n",
    "from dotenv import load_dotenv\n",
    "load_dotenv()\n",
    "\n",
    "USERNAME = os.getenv('USER1')\n",
    "PASSWORD = os.getenv('PASSWORD1')\n",
    "HOST = os.getenv('HOST1')\n",
    "DATABASE = os.getenv('DATABASE1')\n",
    "\n",
    "conn_str = 'mysql+mysqlconnector://{0}:{1}@{2}/{3}'.format(USERNAME, PASSWORD, HOST, DATABASE)\n",
    "\n",
    "conn = sqlalchemy.create_engine(conn_str)\n",
    "\n",
    "%config SqlMagic.autopandas=True\n",
    "%config SqlMagic.displaycon=False\n",
    "%config SqlMagic.feedback=False\n",
    "%reload_ext sql\n",
    "%sql {conn_str}"
   ]
  },
  {
   "attachments": {},
   "cell_type": "markdown",
   "metadata": {},
   "source": [
    "## Input Table"
   ]
  },
  {
   "cell_type": "code",
   "execution_count": 2,
   "metadata": {},
   "outputs": [
    {
     "data": {
      "text/html": [
       "<div>\n",
       "<style scoped>\n",
       "    .dataframe tbody tr th:only-of-type {\n",
       "        vertical-align: middle;\n",
       "    }\n",
       "\n",
       "    .dataframe tbody tr th {\n",
       "        vertical-align: top;\n",
       "    }\n",
       "\n",
       "    .dataframe thead th {\n",
       "        text-align: right;\n",
       "    }\n",
       "</style>\n",
       "<table border=\"1\" class=\"dataframe\">\n",
       "  <thead>\n",
       "    <tr style=\"text-align: right;\">\n",
       "      <th></th>\n",
       "      <th>incidnt_num</th>\n",
       "      <th>category</th>\n",
       "      <th>descript</th>\n",
       "      <th>day_of_week</th>\n",
       "      <th>date</th>\n",
       "      <th>time</th>\n",
       "      <th>pd_district</th>\n",
       "      <th>resolution</th>\n",
       "      <th>address</th>\n",
       "      <th>lon</th>\n",
       "      <th>lat</th>\n",
       "      <th>location</th>\n",
       "      <th>id</th>\n",
       "    </tr>\n",
       "  </thead>\n",
       "  <tbody>\n",
       "    <tr>\n",
       "      <th>0</th>\n",
       "      <td>140099416.0</td>\n",
       "      <td>VEHICLE THEFT</td>\n",
       "      <td>STOLEN AND RECOVERED VEHICLE</td>\n",
       "      <td>Friday</td>\n",
       "      <td>2014-01-31 08:00:00</td>\n",
       "      <td>17:00</td>\n",
       "      <td>INGLESIDE</td>\n",
       "      <td>NONE</td>\n",
       "      <td>0 Block of GARRISON AV</td>\n",
       "      <td>-122.413624</td>\n",
       "      <td>37.709726</td>\n",
       "      <td>\"(37.709725805163</td>\n",
       "      <td>-122</td>\n",
       "    </tr>\n",
       "    <tr>\n",
       "      <th>1</th>\n",
       "      <td>140092426.0</td>\n",
       "      <td>ASSAULT</td>\n",
       "      <td>BATTERY</td>\n",
       "      <td>Friday</td>\n",
       "      <td>2014-01-31 08:00:00</td>\n",
       "      <td>17:45</td>\n",
       "      <td>TARAVAL</td>\n",
       "      <td>\"ARREST</td>\n",
       "      <td>CITED\"</td>\n",
       "      <td>100.000000</td>\n",
       "      <td>-122.473706</td>\n",
       "      <td>37.7154876086057</td>\n",
       "      <td>0</td>\n",
       "    </tr>\n",
       "    <tr>\n",
       "      <th>2</th>\n",
       "      <td>140092410.0</td>\n",
       "      <td>SUSPICIOUS OCC</td>\n",
       "      <td>SUSPICIOUS OCCURRENCE</td>\n",
       "      <td>Friday</td>\n",
       "      <td>2014-01-31 08:00:00</td>\n",
       "      <td>15:30</td>\n",
       "      <td>PARK</td>\n",
       "      <td>NONE</td>\n",
       "      <td>0 Block of CASTRO ST</td>\n",
       "      <td>-122.435719</td>\n",
       "      <td>37.768689</td>\n",
       "      <td>\"(37.7686887134351</td>\n",
       "      <td>-122</td>\n",
       "    </tr>\n",
       "  </tbody>\n",
       "</table>\n",
       "</div>"
      ],
      "text/plain": [
       "   incidnt_num        category                      descript day_of_week  \\\n",
       "0  140099416.0   VEHICLE THEFT  STOLEN AND RECOVERED VEHICLE      Friday   \n",
       "1  140092426.0         ASSAULT                       BATTERY      Friday   \n",
       "2  140092410.0  SUSPICIOUS OCC         SUSPICIOUS OCCURRENCE      Friday   \n",
       "\n",
       "                 date   time pd_district resolution                 address  \\\n",
       "0 2014-01-31 08:00:00  17:00   INGLESIDE       NONE  0 Block of GARRISON AV   \n",
       "1 2014-01-31 08:00:00  17:45     TARAVAL    \"ARREST                  CITED\"   \n",
       "2 2014-01-31 08:00:00  15:30        PARK       NONE    0 Block of CASTRO ST   \n",
       "\n",
       "          lon         lat            location   id  \n",
       "0 -122.413624   37.709726   \"(37.709725805163 -122  \n",
       "1  100.000000 -122.473706    37.7154876086057    0  \n",
       "2 -122.435719   37.768689  \"(37.7686887134351 -122  "
      ]
     },
     "execution_count": 2,
     "metadata": {},
     "output_type": "execute_result"
    }
   ],
   "source": [
    "%%sql\n",
    "SELECT *\n",
    "FROM sf\n",
    "LIMIT 3"
   ]
  },
  {
   "attachments": {},
   "cell_type": "markdown",
   "metadata": {},
   "source": [
    "## Expected Output"
   ]
  },
  {
   "attachments": {},
   "cell_type": "markdown",
   "metadata": {},
   "source": [
    "![](expected_output.jpg)"
   ]
  },
  {
   "attachments": {},
   "cell_type": "markdown",
   "metadata": {},
   "source": [
    "## Solution"
   ]
  },
  {
   "attachments": {},
   "cell_type": "markdown",
   "metadata": {},
   "source": [
    "Write your solution here..."
   ]
  },
  {
   "cell_type": "code",
   "execution_count": null,
   "metadata": {
    "vscode": {
     "languageId": "sql"
    }
   },
   "outputs": [],
   "source": [
    "%%sql\n"
   ]
  }
 ],
 "metadata": {
  "kernelspec": {
   "display_name": "env-spacy",
   "language": "python",
   "name": "python3"
  },
  "language_info": {
   "codemirror_mode": {
    "name": "ipython",
    "version": 3
   },
   "file_extension": ".py",
   "mimetype": "text/x-python",
   "name": "python",
   "nbconvert_exporter": "python",
   "pygments_lexer": "ipython3",
   "version": "3.9.7"
  },
  "orig_nbformat": 4,
  "vscode": {
   "interpreter": {
    "hash": "343191058819caea96d5cde1bd3b1a75b4807623ce2cda0e1c8499e39ac847e3"
   }
  }
 },
 "nbformat": 4,
 "nbformat_minor": 2
}
