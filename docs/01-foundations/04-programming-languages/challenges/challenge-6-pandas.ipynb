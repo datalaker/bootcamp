{
 "cells": [
  {
   "attachments": {},
   "cell_type": "markdown",
   "metadata": {},
   "source": [
    "1. Load the dataset into memory\n",
    "1. Inspect and clean the data set. Questions to investigate include:\n",
    "    - Are there any duplicate rows?\n",
    "    - Are there any rows missing?\n",
    "    - Are values missing?\n",
    "    - Are there any invalid values such as a negative time?\n",
    "1. Filter out events that occurred before 2020-01-01 00:00:00.\n",
    "1. Group the events by user and event.\n",
    "1. For each group, calculate:\n",
    "    - the number of events that occurred\n",
    "    - the average time difference between consecutive events.\n",
    "1. Store the result in a new CSV file with the following format:\n",
    "    ```\n",
    "    user, event, number_of_events, average_time_difference\n",
    "    ```"
   ]
  },
  {
   "cell_type": "code",
   "execution_count": 6,
   "metadata": {},
   "outputs": [
    {
     "name": "stdout",
     "output_type": "stream",
     "text": [
      "Overwriting sample.csv\n"
     ]
    }
   ],
   "source": [
    "%%writefile sample.csv\n",
    "user,event,datetime\n",
    "11,Corporate events,2019-03-01 14:54:31\n",
    "88,Team building event,2020-05-14 22:22:47\n",
    "187,Conference,2020-08-13 21:16:20\n",
    "123,Corporate events,2021-11-02 15:12:48\n",
    "101,Networking event,2019-10-24 23:18:32\n",
    "187,Conference,2020-08-13 21:16:20\n",
    "147,Team building event,2019-01-26 18:35:34\n",
    "79,Trade show,2021-06-11 18:54:42\n",
    "95,Networking event,2020-06-25 12:11:10\n",
    "192,Trade show,2017-07-16 18:30:05\n",
    "79,Trade show,2021-06-11 18:54:42\n",
    "156,Workshop,2021-01-01 07:53:11"
   ]
  },
  {
   "cell_type": "code",
   "execution_count": 16,
   "metadata": {},
   "outputs": [],
   "source": [
    "import pandas as pd\n",
    "import numpy as np"
   ]
  },
  {
   "cell_type": "code",
   "execution_count": 7,
   "metadata": {},
   "outputs": [
    {
     "data": {
      "text/html": [
       "<div>\n",
       "<style scoped>\n",
       "    .dataframe tbody tr th:only-of-type {\n",
       "        vertical-align: middle;\n",
       "    }\n",
       "\n",
       "    .dataframe tbody tr th {\n",
       "        vertical-align: top;\n",
       "    }\n",
       "\n",
       "    .dataframe thead th {\n",
       "        text-align: right;\n",
       "    }\n",
       "</style>\n",
       "<table border=\"1\" class=\"dataframe\">\n",
       "  <thead>\n",
       "    <tr style=\"text-align: right;\">\n",
       "      <th></th>\n",
       "      <th>user</th>\n",
       "      <th>event</th>\n",
       "      <th>datetime</th>\n",
       "    </tr>\n",
       "  </thead>\n",
       "  <tbody>\n",
       "    <tr>\n",
       "      <th>0</th>\n",
       "      <td>11</td>\n",
       "      <td>Corporate events</td>\n",
       "      <td>2019-03-01 14:54:31</td>\n",
       "    </tr>\n",
       "    <tr>\n",
       "      <th>1</th>\n",
       "      <td>88</td>\n",
       "      <td>Team building event</td>\n",
       "      <td>2020-05-14 22:22:47</td>\n",
       "    </tr>\n",
       "    <tr>\n",
       "      <th>2</th>\n",
       "      <td>187</td>\n",
       "      <td>Conference</td>\n",
       "      <td>2020-08-13 21:16:20</td>\n",
       "    </tr>\n",
       "    <tr>\n",
       "      <th>3</th>\n",
       "      <td>123</td>\n",
       "      <td>Corporate events</td>\n",
       "      <td>2021-11-02 15:12:48</td>\n",
       "    </tr>\n",
       "    <tr>\n",
       "      <th>4</th>\n",
       "      <td>101</td>\n",
       "      <td>Networking event</td>\n",
       "      <td>2019-10-24 23:18:32</td>\n",
       "    </tr>\n",
       "    <tr>\n",
       "      <th>5</th>\n",
       "      <td>187</td>\n",
       "      <td>Conference</td>\n",
       "      <td>2020-08-13 21:16:20</td>\n",
       "    </tr>\n",
       "    <tr>\n",
       "      <th>6</th>\n",
       "      <td>147</td>\n",
       "      <td>Team building event</td>\n",
       "      <td>2019-01-26 18:35:34</td>\n",
       "    </tr>\n",
       "    <tr>\n",
       "      <th>7</th>\n",
       "      <td>79</td>\n",
       "      <td>Trade show</td>\n",
       "      <td>2021-06-11 18:54:42</td>\n",
       "    </tr>\n",
       "    <tr>\n",
       "      <th>8</th>\n",
       "      <td>95</td>\n",
       "      <td>Networking event</td>\n",
       "      <td>2020-06-25 12:11:10</td>\n",
       "    </tr>\n",
       "    <tr>\n",
       "      <th>9</th>\n",
       "      <td>192</td>\n",
       "      <td>Trade show</td>\n",
       "      <td>2017-07-16 18:30:05</td>\n",
       "    </tr>\n",
       "    <tr>\n",
       "      <th>10</th>\n",
       "      <td>79</td>\n",
       "      <td>Trade show</td>\n",
       "      <td>2021-06-11 18:54:42</td>\n",
       "    </tr>\n",
       "    <tr>\n",
       "      <th>11</th>\n",
       "      <td>156</td>\n",
       "      <td>Workshop</td>\n",
       "      <td>2021-01-01 07:53:11</td>\n",
       "    </tr>\n",
       "  </tbody>\n",
       "</table>\n",
       "</div>"
      ],
      "text/plain": [
       "    user                event            datetime\n",
       "0     11     Corporate events 2019-03-01 14:54:31\n",
       "1     88  Team building event 2020-05-14 22:22:47\n",
       "2    187           Conference 2020-08-13 21:16:20\n",
       "3    123     Corporate events 2021-11-02 15:12:48\n",
       "4    101     Networking event 2019-10-24 23:18:32\n",
       "5    187           Conference 2020-08-13 21:16:20\n",
       "6    147  Team building event 2019-01-26 18:35:34\n",
       "7     79           Trade show 2021-06-11 18:54:42\n",
       "8     95     Networking event 2020-06-25 12:11:10\n",
       "9    192           Trade show 2017-07-16 18:30:05\n",
       "10    79           Trade show 2021-06-11 18:54:42\n",
       "11   156             Workshop 2021-01-01 07:53:11"
      ]
     },
     "execution_count": 7,
     "metadata": {},
     "output_type": "execute_result"
    }
   ],
   "source": [
    "df = pd.read_csv('sample.csv', parse_dates=['datetime'])\n",
    "df"
   ]
  },
  {
   "cell_type": "code",
   "execution_count": 8,
   "metadata": {},
   "outputs": [
    {
     "name": "stdout",
     "output_type": "stream",
     "text": [
      "<class 'pandas.core.frame.DataFrame'>\n",
      "RangeIndex: 12 entries, 0 to 11\n",
      "Data columns (total 3 columns):\n",
      " #   Column    Non-Null Count  Dtype         \n",
      "---  ------    --------------  -----         \n",
      " 0   user      12 non-null     int64         \n",
      " 1   event     12 non-null     object        \n",
      " 2   datetime  12 non-null     datetime64[ns]\n",
      "dtypes: datetime64[ns](1), int64(1), object(1)\n",
      "memory usage: 416.0+ bytes\n"
     ]
    }
   ],
   "source": [
    "df.info()   ## To inspect table structure and data type"
   ]
  },
  {
   "cell_type": "code",
   "execution_count": 9,
   "metadata": {},
   "outputs": [
    {
     "name": "stdout",
     "output_type": "stream",
     "text": [
      "Duplicate Rows :\n"
     ]
    },
    {
     "data": {
      "text/html": [
       "<div>\n",
       "<style scoped>\n",
       "    .dataframe tbody tr th:only-of-type {\n",
       "        vertical-align: middle;\n",
       "    }\n",
       "\n",
       "    .dataframe tbody tr th {\n",
       "        vertical-align: top;\n",
       "    }\n",
       "\n",
       "    .dataframe thead th {\n",
       "        text-align: right;\n",
       "    }\n",
       "</style>\n",
       "<table border=\"1\" class=\"dataframe\">\n",
       "  <thead>\n",
       "    <tr style=\"text-align: right;\">\n",
       "      <th></th>\n",
       "      <th>user</th>\n",
       "      <th>event</th>\n",
       "      <th>datetime</th>\n",
       "    </tr>\n",
       "  </thead>\n",
       "  <tbody>\n",
       "    <tr>\n",
       "      <th>5</th>\n",
       "      <td>187</td>\n",
       "      <td>Conference</td>\n",
       "      <td>2020-08-13 21:16:20</td>\n",
       "    </tr>\n",
       "    <tr>\n",
       "      <th>10</th>\n",
       "      <td>79</td>\n",
       "      <td>Trade show</td>\n",
       "      <td>2021-06-11 18:54:42</td>\n",
       "    </tr>\n",
       "  </tbody>\n",
       "</table>\n",
       "</div>"
      ],
      "text/plain": [
       "    user       event            datetime\n",
       "5    187  Conference 2020-08-13 21:16:20\n",
       "10    79  Trade show 2021-06-11 18:54:42"
      ]
     },
     "execution_count": 9,
     "metadata": {},
     "output_type": "execute_result"
    }
   ],
   "source": [
    "## Are the any duplicate rows?\n",
    "\n",
    "duplicate = df[df.duplicated()]\n",
    "\n",
    "print(\"Duplicate Rows :\")\n",
    " \n",
    "# Print the resultant Dataframe\n",
    "duplicate"
   ]
  },
  {
   "cell_type": "code",
   "execution_count": 10,
   "metadata": {},
   "outputs": [
    {
     "data": {
      "text/plain": [
       "user                 int64\n",
       "event               object\n",
       "datetime    datetime64[ns]\n",
       "dtype: object"
      ]
     },
     "execution_count": 10,
     "metadata": {},
     "output_type": "execute_result"
    }
   ],
   "source": [
    "df.dtypes"
   ]
  },
  {
   "cell_type": "code",
   "execution_count": 13,
   "metadata": {},
   "outputs": [
    {
     "data": {
      "text/plain": [
       "user        False\n",
       "event       False\n",
       "datetime    False\n",
       "dtype: bool"
      ]
     },
     "execution_count": 13,
     "metadata": {},
     "output_type": "execute_result"
    }
   ],
   "source": [
    "df.isnull().any()\n",
    "\n",
    "##Missing values are present in the event column"
   ]
  },
  {
   "cell_type": "code",
   "execution_count": 14,
   "metadata": {},
   "outputs": [
    {
     "name": "stdout",
     "output_type": "stream",
     "text": [
      " \n",
      "show the boolean Dataframe : \n",
      "\n",
      "      user  event  datetime\n",
      "0   False  False     False\n",
      "1   False  False     False\n",
      "2   False  False     False\n",
      "3   False  False     False\n",
      "4   False  False     False\n",
      "5   False  False     False\n",
      "6   False  False     False\n",
      "7   False  False     False\n",
      "8   False  False     False\n",
      "9   False  False     False\n",
      "10  False  False     False\n",
      "11  False  False     False\n",
      " \n",
      "Count total NaN in a DataFrame : \n",
      "\n",
      " 0\n"
     ]
    }
   ],
   "source": [
    "print(\" \\nshow the boolean Dataframe : \\n\\n\", df.isnull())\n",
    "  \n",
    "# Count total NaN in a DataFrame\n",
    "print(\" \\nCount total NaN in a DataFrame : \\n\\n\",\n",
    "       df.isnull().sum().sum())"
   ]
  },
  {
   "cell_type": "code",
   "execution_count": 17,
   "metadata": {},
   "outputs": [
    {
     "name": "stdout",
     "output_type": "stream",
     "text": [
      "        col  isnegative\n",
      "0      user       False\n",
      "1     event       False\n",
      "2  datetime       False\n"
     ]
    }
   ],
   "source": [
    "## Are there any invalid values such as a negative time?\n",
    "## How can I check for negative values in pandas dataframe which contains different data types?\n",
    "\n",
    "s = df.select_dtypes(np.number).lt(0).any()\\\n",
    "      .reindex(df.columns, fill_value=False)\\\n",
    "      .rename_axis(\"col\").reset_index(name='isnegative')\n",
    "\n",
    "print(s)"
   ]
  },
  {
   "cell_type": "code",
   "execution_count": 18,
   "metadata": {},
   "outputs": [
    {
     "data": {
      "text/html": [
       "<div>\n",
       "<style scoped>\n",
       "    .dataframe tbody tr th:only-of-type {\n",
       "        vertical-align: middle;\n",
       "    }\n",
       "\n",
       "    .dataframe tbody tr th {\n",
       "        vertical-align: top;\n",
       "    }\n",
       "\n",
       "    .dataframe thead th {\n",
       "        text-align: right;\n",
       "    }\n",
       "</style>\n",
       "<table border=\"1\" class=\"dataframe\">\n",
       "  <thead>\n",
       "    <tr style=\"text-align: right;\">\n",
       "      <th></th>\n",
       "      <th>user</th>\n",
       "      <th>event</th>\n",
       "      <th>datetime</th>\n",
       "    </tr>\n",
       "  </thead>\n",
       "  <tbody>\n",
       "    <tr>\n",
       "      <th>0</th>\n",
       "      <td>11</td>\n",
       "      <td>Corporate events</td>\n",
       "      <td>2019-03-01 14:54:31</td>\n",
       "    </tr>\n",
       "    <tr>\n",
       "      <th>1</th>\n",
       "      <td>88</td>\n",
       "      <td>Team building event</td>\n",
       "      <td>2020-05-14 22:22:47</td>\n",
       "    </tr>\n",
       "    <tr>\n",
       "      <th>2</th>\n",
       "      <td>187</td>\n",
       "      <td>Conference</td>\n",
       "      <td>2020-08-13 21:16:20</td>\n",
       "    </tr>\n",
       "    <tr>\n",
       "      <th>3</th>\n",
       "      <td>123</td>\n",
       "      <td>Corporate events</td>\n",
       "      <td>2021-11-02 15:12:48</td>\n",
       "    </tr>\n",
       "    <tr>\n",
       "      <th>4</th>\n",
       "      <td>101</td>\n",
       "      <td>Networking event</td>\n",
       "      <td>2019-10-24 23:18:32</td>\n",
       "    </tr>\n",
       "    <tr>\n",
       "      <th>5</th>\n",
       "      <td>187</td>\n",
       "      <td>Conference</td>\n",
       "      <td>2020-08-13 21:16:20</td>\n",
       "    </tr>\n",
       "    <tr>\n",
       "      <th>6</th>\n",
       "      <td>147</td>\n",
       "      <td>Team building event</td>\n",
       "      <td>2019-01-26 18:35:34</td>\n",
       "    </tr>\n",
       "    <tr>\n",
       "      <th>7</th>\n",
       "      <td>79</td>\n",
       "      <td>Trade show</td>\n",
       "      <td>2021-06-11 18:54:42</td>\n",
       "    </tr>\n",
       "    <tr>\n",
       "      <th>8</th>\n",
       "      <td>95</td>\n",
       "      <td>Networking event</td>\n",
       "      <td>2020-06-25 12:11:10</td>\n",
       "    </tr>\n",
       "    <tr>\n",
       "      <th>9</th>\n",
       "      <td>192</td>\n",
       "      <td>Trade show</td>\n",
       "      <td>2017-07-16 18:30:05</td>\n",
       "    </tr>\n",
       "    <tr>\n",
       "      <th>10</th>\n",
       "      <td>79</td>\n",
       "      <td>Trade show</td>\n",
       "      <td>2021-06-11 18:54:42</td>\n",
       "    </tr>\n",
       "    <tr>\n",
       "      <th>11</th>\n",
       "      <td>156</td>\n",
       "      <td>Workshop</td>\n",
       "      <td>2021-01-01 07:53:11</td>\n",
       "    </tr>\n",
       "  </tbody>\n",
       "</table>\n",
       "</div>"
      ],
      "text/plain": [
       "    user                event            datetime\n",
       "0     11     Corporate events 2019-03-01 14:54:31\n",
       "1     88  Team building event 2020-05-14 22:22:47\n",
       "2    187           Conference 2020-08-13 21:16:20\n",
       "3    123     Corporate events 2021-11-02 15:12:48\n",
       "4    101     Networking event 2019-10-24 23:18:32\n",
       "5    187           Conference 2020-08-13 21:16:20\n",
       "6    147  Team building event 2019-01-26 18:35:34\n",
       "7     79           Trade show 2021-06-11 18:54:42\n",
       "8     95     Networking event 2020-06-25 12:11:10\n",
       "9    192           Trade show 2017-07-16 18:30:05\n",
       "10    79           Trade show 2021-06-11 18:54:42\n",
       "11   156             Workshop 2021-01-01 07:53:11"
      ]
     },
     "execution_count": 18,
     "metadata": {},
     "output_type": "execute_result"
    }
   ],
   "source": [
    "## Replace bad charater...\n",
    "\n",
    "df.replace(to_replace=r'^ba.$', value='new',regex=True)"
   ]
  },
  {
   "cell_type": "code",
   "execution_count": 19,
   "metadata": {},
   "outputs": [
    {
     "data": {
      "text/plain": [
       "False"
      ]
     },
     "execution_count": 19,
     "metadata": {},
     "output_type": "execute_result"
    }
   ],
   "source": [
    "##Check for NaN Values in datetime column\n",
    "\n",
    "df['datetime'].isnull().values.any()"
   ]
  },
  {
   "cell_type": "code",
   "execution_count": 20,
   "metadata": {},
   "outputs": [
    {
     "name": "stdout",
     "output_type": "stream",
     "text": [
      "     user  event  datetime\n",
      "0   False   True     False\n",
      "1   False   True     False\n",
      "2   False  False     False\n",
      "3   False   True     False\n",
      "4   False   True     False\n",
      "5   False  False     False\n",
      "6   False   True     False\n",
      "7   False   True     False\n",
      "8   False   True     False\n",
      "9   False   True     False\n",
      "10  False   True     False\n",
      "11  False  False     False\n"
     ]
    }
   ],
   "source": [
    "# Check for invalid values\n",
    "invalid_mask = df.applymap(lambda x: isinstance(x, str) and not x.isalnum())\n",
    "print (invalid_mask)"
   ]
  },
  {
   "cell_type": "code",
   "execution_count": 21,
   "metadata": {},
   "outputs": [
    {
     "name": "stdout",
     "output_type": "stream",
     "text": [
      "     user  event  datetime\n",
      "0   False  False     False\n",
      "1   False  False     False\n",
      "2   False  False     False\n",
      "3   False  False     False\n",
      "4   False  False     False\n",
      "5   False  False     False\n",
      "6   False  False     False\n",
      "7   False  False     False\n",
      "8   False  False     False\n",
      "9   False  False     False\n",
      "10  False  False     False\n",
      "11  False  False     False\n"
     ]
    }
   ],
   "source": [
    "# Check for missing values\n",
    "mask = df.isna()\n",
    "print (mask)"
   ]
  },
  {
   "cell_type": "code",
   "execution_count": 22,
   "metadata": {},
   "outputs": [
    {
     "name": "stdout",
     "output_type": "stream",
     "text": [
      "     user  event  datetime\n",
      "0   False   True     False\n",
      "1   False   True     False\n",
      "2   False  False     False\n",
      "3   False   True     False\n",
      "4   False   True     False\n",
      "5   False  False     False\n",
      "6   False   True     False\n",
      "7   False   True     False\n",
      "8   False   True     False\n",
      "9   False   True     False\n",
      "10  False   True     False\n",
      "11  False  False     False\n"
     ]
    }
   ],
   "source": [
    "## Combine the two masks\n",
    "bad_values_mask = mask | invalid_mask\n",
    "print (bad_values_mask)"
   ]
  },
  {
   "cell_type": "code",
   "execution_count": 23,
   "metadata": {},
   "outputs": [
    {
     "data": {
      "text/html": [
       "<div>\n",
       "<style scoped>\n",
       "    .dataframe tbody tr th:only-of-type {\n",
       "        vertical-align: middle;\n",
       "    }\n",
       "\n",
       "    .dataframe tbody tr th {\n",
       "        vertical-align: top;\n",
       "    }\n",
       "\n",
       "    .dataframe thead th {\n",
       "        text-align: right;\n",
       "    }\n",
       "</style>\n",
       "<table border=\"1\" class=\"dataframe\">\n",
       "  <thead>\n",
       "    <tr style=\"text-align: right;\">\n",
       "      <th></th>\n",
       "      <th>user</th>\n",
       "      <th>event</th>\n",
       "      <th>datetime</th>\n",
       "    </tr>\n",
       "  </thead>\n",
       "  <tbody>\n",
       "    <tr>\n",
       "      <th>0</th>\n",
       "      <td>11</td>\n",
       "      <td>Corporate events</td>\n",
       "      <td>2019-03-01 14:54:31</td>\n",
       "    </tr>\n",
       "    <tr>\n",
       "      <th>4</th>\n",
       "      <td>101</td>\n",
       "      <td>Networking event</td>\n",
       "      <td>2019-10-24 23:18:32</td>\n",
       "    </tr>\n",
       "    <tr>\n",
       "      <th>6</th>\n",
       "      <td>147</td>\n",
       "      <td>Team building event</td>\n",
       "      <td>2019-01-26 18:35:34</td>\n",
       "    </tr>\n",
       "    <tr>\n",
       "      <th>9</th>\n",
       "      <td>192</td>\n",
       "      <td>Trade show</td>\n",
       "      <td>2017-07-16 18:30:05</td>\n",
       "    </tr>\n",
       "  </tbody>\n",
       "</table>\n",
       "</div>"
      ],
      "text/plain": [
       "   user                event            datetime\n",
       "0    11     Corporate events 2019-03-01 14:54:31\n",
       "4   101     Networking event 2019-10-24 23:18:32\n",
       "6   147  Team building event 2019-01-26 18:35:34\n",
       "9   192           Trade show 2017-07-16 18:30:05"
      ]
     },
     "execution_count": 23,
     "metadata": {},
     "output_type": "execute_result"
    }
   ],
   "source": [
    "##Filter out events that occurred before 2020-01-01 00:00:00.\n",
    "df[df['datetime']<'2020']"
   ]
  },
  {
   "cell_type": "code",
   "execution_count": 24,
   "metadata": {},
   "outputs": [
    {
     "name": "stdout",
     "output_type": "stream",
     "text": [
      "<pandas.core.groupby.generic.DataFrameGroupBy object at 0x7f984e5b3850>\n"
     ]
    }
   ],
   "source": [
    "#Group the events by user and event.\n",
    "event_grp=df.groupby(['user','event'])\n",
    "print (event_grp)"
   ]
  },
  {
   "cell_type": "code",
   "execution_count": 25,
   "metadata": {},
   "outputs": [
    {
     "data": {
      "text/plain": [
       "user  event              \n",
       "11    Corporate events       1\n",
       "79    Trade show             2\n",
       "88    Team building event    1\n",
       "95    Networking event       1\n",
       "101   Networking event       1\n",
       "123   Corporate events       1\n",
       "147   Team building event    1\n",
       "156   Workshop               1\n",
       "187   Conference             2\n",
       "192   Trade show             1\n",
       "Name: count, dtype: int64"
      ]
     },
     "execution_count": 25,
     "metadata": {},
     "output_type": "execute_result"
    }
   ],
   "source": [
    "##the number of events that occurred\n",
    "df.groupby('user')['event'].value_counts()"
   ]
  },
  {
   "cell_type": "code",
   "execution_count": 27,
   "metadata": {},
   "outputs": [
    {
     "data": {
      "text/html": [
       "<div>\n",
       "<style scoped>\n",
       "    .dataframe tbody tr th:only-of-type {\n",
       "        vertical-align: middle;\n",
       "    }\n",
       "\n",
       "    .dataframe tbody tr th {\n",
       "        vertical-align: top;\n",
       "    }\n",
       "\n",
       "    .dataframe thead th {\n",
       "        text-align: right;\n",
       "    }\n",
       "</style>\n",
       "<table border=\"1\" class=\"dataframe\">\n",
       "  <thead>\n",
       "    <tr style=\"text-align: right;\">\n",
       "      <th></th>\n",
       "      <th>user</th>\n",
       "      <th>event</th>\n",
       "      <th>datetime</th>\n",
       "    </tr>\n",
       "  </thead>\n",
       "  <tbody>\n",
       "    <tr>\n",
       "      <th>0</th>\n",
       "      <td>11</td>\n",
       "      <td>Corporate events</td>\n",
       "      <td>2019-03-01 14:54:31</td>\n",
       "    </tr>\n",
       "    <tr>\n",
       "      <th>1</th>\n",
       "      <td>88</td>\n",
       "      <td>Team building event</td>\n",
       "      <td>2020-05-14 22:22:47</td>\n",
       "    </tr>\n",
       "    <tr>\n",
       "      <th>2</th>\n",
       "      <td>187</td>\n",
       "      <td>Conference</td>\n",
       "      <td>2020-08-13 21:16:20</td>\n",
       "    </tr>\n",
       "    <tr>\n",
       "      <th>3</th>\n",
       "      <td>123</td>\n",
       "      <td>Corporate events</td>\n",
       "      <td>2021-11-02 15:12:48</td>\n",
       "    </tr>\n",
       "    <tr>\n",
       "      <th>4</th>\n",
       "      <td>101</td>\n",
       "      <td>Networking event</td>\n",
       "      <td>2019-10-24 23:18:32</td>\n",
       "    </tr>\n",
       "    <tr>\n",
       "      <th>5</th>\n",
       "      <td>187</td>\n",
       "      <td>Conference</td>\n",
       "      <td>2020-08-13 21:16:20</td>\n",
       "    </tr>\n",
       "    <tr>\n",
       "      <th>6</th>\n",
       "      <td>147</td>\n",
       "      <td>Team building event</td>\n",
       "      <td>2019-01-26 18:35:34</td>\n",
       "    </tr>\n",
       "    <tr>\n",
       "      <th>7</th>\n",
       "      <td>79</td>\n",
       "      <td>Trade show</td>\n",
       "      <td>2021-06-11 18:54:42</td>\n",
       "    </tr>\n",
       "    <tr>\n",
       "      <th>8</th>\n",
       "      <td>95</td>\n",
       "      <td>Networking event</td>\n",
       "      <td>2020-06-25 12:11:10</td>\n",
       "    </tr>\n",
       "    <tr>\n",
       "      <th>9</th>\n",
       "      <td>192</td>\n",
       "      <td>Trade show</td>\n",
       "      <td>2017-07-16 18:30:05</td>\n",
       "    </tr>\n",
       "    <tr>\n",
       "      <th>10</th>\n",
       "      <td>79</td>\n",
       "      <td>Trade show</td>\n",
       "      <td>2021-06-11 18:54:42</td>\n",
       "    </tr>\n",
       "    <tr>\n",
       "      <th>11</th>\n",
       "      <td>156</td>\n",
       "      <td>Workshop</td>\n",
       "      <td>2021-01-01 07:53:11</td>\n",
       "    </tr>\n",
       "  </tbody>\n",
       "</table>\n",
       "</div>"
      ],
      "text/plain": [
       "    user                event            datetime\n",
       "0     11     Corporate events 2019-03-01 14:54:31\n",
       "1     88  Team building event 2020-05-14 22:22:47\n",
       "2    187           Conference 2020-08-13 21:16:20\n",
       "3    123     Corporate events 2021-11-02 15:12:48\n",
       "4    101     Networking event 2019-10-24 23:18:32\n",
       "5    187           Conference 2020-08-13 21:16:20\n",
       "6    147  Team building event 2019-01-26 18:35:34\n",
       "7     79           Trade show 2021-06-11 18:54:42\n",
       "8     95     Networking event 2020-06-25 12:11:10\n",
       "9    192           Trade show 2017-07-16 18:30:05\n",
       "10    79           Trade show 2021-06-11 18:54:42\n",
       "11   156             Workshop 2021-01-01 07:53:11"
      ]
     },
     "execution_count": 27,
     "metadata": {},
     "output_type": "execute_result"
    }
   ],
   "source": [
    "#changing the datatype of datetime column\n",
    "df['datetime'] = pd.to_datetime(df['datetime'], errors='coerce')\n",
    "\n",
    "df.dropna(inplace=True)\n",
    "df"
   ]
  },
  {
   "cell_type": "code",
   "execution_count": 28,
   "metadata": {},
   "outputs": [
    {
     "data": {
      "text/html": [
       "<div>\n",
       "<style scoped>\n",
       "    .dataframe tbody tr th:only-of-type {\n",
       "        vertical-align: middle;\n",
       "    }\n",
       "\n",
       "    .dataframe tbody tr th {\n",
       "        vertical-align: top;\n",
       "    }\n",
       "\n",
       "    .dataframe thead th {\n",
       "        text-align: right;\n",
       "    }\n",
       "</style>\n",
       "<table border=\"1\" class=\"dataframe\">\n",
       "  <thead>\n",
       "    <tr style=\"text-align: right;\">\n",
       "      <th></th>\n",
       "      <th>user</th>\n",
       "      <th>event</th>\n",
       "      <th>datetime</th>\n",
       "    </tr>\n",
       "  </thead>\n",
       "  <tbody>\n",
       "    <tr>\n",
       "      <th>0</th>\n",
       "      <td>11</td>\n",
       "      <td>Corporate events</td>\n",
       "      <td>2019-03-01 14:54:31</td>\n",
       "    </tr>\n",
       "    <tr>\n",
       "      <th>7</th>\n",
       "      <td>79</td>\n",
       "      <td>Trade show</td>\n",
       "      <td>2021-06-11 18:54:42</td>\n",
       "    </tr>\n",
       "    <tr>\n",
       "      <th>10</th>\n",
       "      <td>79</td>\n",
       "      <td>Trade show</td>\n",
       "      <td>2021-06-11 18:54:42</td>\n",
       "    </tr>\n",
       "    <tr>\n",
       "      <th>1</th>\n",
       "      <td>88</td>\n",
       "      <td>Team building event</td>\n",
       "      <td>2020-05-14 22:22:47</td>\n",
       "    </tr>\n",
       "    <tr>\n",
       "      <th>8</th>\n",
       "      <td>95</td>\n",
       "      <td>Networking event</td>\n",
       "      <td>2020-06-25 12:11:10</td>\n",
       "    </tr>\n",
       "    <tr>\n",
       "      <th>4</th>\n",
       "      <td>101</td>\n",
       "      <td>Networking event</td>\n",
       "      <td>2019-10-24 23:18:32</td>\n",
       "    </tr>\n",
       "    <tr>\n",
       "      <th>3</th>\n",
       "      <td>123</td>\n",
       "      <td>Corporate events</td>\n",
       "      <td>2021-11-02 15:12:48</td>\n",
       "    </tr>\n",
       "    <tr>\n",
       "      <th>6</th>\n",
       "      <td>147</td>\n",
       "      <td>Team building event</td>\n",
       "      <td>2019-01-26 18:35:34</td>\n",
       "    </tr>\n",
       "    <tr>\n",
       "      <th>11</th>\n",
       "      <td>156</td>\n",
       "      <td>Workshop</td>\n",
       "      <td>2021-01-01 07:53:11</td>\n",
       "    </tr>\n",
       "    <tr>\n",
       "      <th>2</th>\n",
       "      <td>187</td>\n",
       "      <td>Conference</td>\n",
       "      <td>2020-08-13 21:16:20</td>\n",
       "    </tr>\n",
       "    <tr>\n",
       "      <th>5</th>\n",
       "      <td>187</td>\n",
       "      <td>Conference</td>\n",
       "      <td>2020-08-13 21:16:20</td>\n",
       "    </tr>\n",
       "    <tr>\n",
       "      <th>9</th>\n",
       "      <td>192</td>\n",
       "      <td>Trade show</td>\n",
       "      <td>2017-07-16 18:30:05</td>\n",
       "    </tr>\n",
       "  </tbody>\n",
       "</table>\n",
       "</div>"
      ],
      "text/plain": [
       "    user                event            datetime\n",
       "0     11     Corporate events 2019-03-01 14:54:31\n",
       "7     79           Trade show 2021-06-11 18:54:42\n",
       "10    79           Trade show 2021-06-11 18:54:42\n",
       "1     88  Team building event 2020-05-14 22:22:47\n",
       "8     95     Networking event 2020-06-25 12:11:10\n",
       "4    101     Networking event 2019-10-24 23:18:32\n",
       "3    123     Corporate events 2021-11-02 15:12:48\n",
       "6    147  Team building event 2019-01-26 18:35:34\n",
       "11   156             Workshop 2021-01-01 07:53:11\n",
       "2    187           Conference 2020-08-13 21:16:20\n",
       "5    187           Conference 2020-08-13 21:16:20\n",
       "9    192           Trade show 2017-07-16 18:30:05"
      ]
     },
     "execution_count": 28,
     "metadata": {},
     "output_type": "execute_result"
    }
   ],
   "source": [
    "#sort by user and date\n",
    "df.sort_values(by=['user', 'datetime'], inplace=True)\n",
    "df"
   ]
  },
  {
   "cell_type": "code",
   "execution_count": 29,
   "metadata": {},
   "outputs": [
    {
     "data": {
      "text/html": [
       "<div>\n",
       "<style scoped>\n",
       "    .dataframe tbody tr th:only-of-type {\n",
       "        vertical-align: middle;\n",
       "    }\n",
       "\n",
       "    .dataframe tbody tr th {\n",
       "        vertical-align: top;\n",
       "    }\n",
       "\n",
       "    .dataframe thead th {\n",
       "        text-align: right;\n",
       "    }\n",
       "</style>\n",
       "<table border=\"1\" class=\"dataframe\">\n",
       "  <thead>\n",
       "    <tr style=\"text-align: right;\">\n",
       "      <th></th>\n",
       "      <th>user</th>\n",
       "      <th>avg_time_bet_con_event</th>\n",
       "    </tr>\n",
       "  </thead>\n",
       "  <tbody>\n",
       "    <tr>\n",
       "      <th>0</th>\n",
       "      <td>11</td>\n",
       "      <td>NaN</td>\n",
       "    </tr>\n",
       "    <tr>\n",
       "      <th>1</th>\n",
       "      <td>79</td>\n",
       "      <td>0.0</td>\n",
       "    </tr>\n",
       "    <tr>\n",
       "      <th>2</th>\n",
       "      <td>88</td>\n",
       "      <td>NaN</td>\n",
       "    </tr>\n",
       "    <tr>\n",
       "      <th>3</th>\n",
       "      <td>95</td>\n",
       "      <td>NaN</td>\n",
       "    </tr>\n",
       "    <tr>\n",
       "      <th>4</th>\n",
       "      <td>101</td>\n",
       "      <td>NaN</td>\n",
       "    </tr>\n",
       "    <tr>\n",
       "      <th>5</th>\n",
       "      <td>123</td>\n",
       "      <td>NaN</td>\n",
       "    </tr>\n",
       "    <tr>\n",
       "      <th>6</th>\n",
       "      <td>147</td>\n",
       "      <td>NaN</td>\n",
       "    </tr>\n",
       "    <tr>\n",
       "      <th>7</th>\n",
       "      <td>156</td>\n",
       "      <td>NaN</td>\n",
       "    </tr>\n",
       "    <tr>\n",
       "      <th>8</th>\n",
       "      <td>187</td>\n",
       "      <td>0.0</td>\n",
       "    </tr>\n",
       "    <tr>\n",
       "      <th>9</th>\n",
       "      <td>192</td>\n",
       "      <td>NaN</td>\n",
       "    </tr>\n",
       "  </tbody>\n",
       "</table>\n",
       "</div>"
      ],
      "text/plain": [
       "   user  avg_time_bet_con_event\n",
       "0    11                     NaN\n",
       "1    79                     0.0\n",
       "2    88                     NaN\n",
       "3    95                     NaN\n",
       "4   101                     NaN\n",
       "5   123                     NaN\n",
       "6   147                     NaN\n",
       "7   156                     NaN\n",
       "8   187                     0.0\n",
       "9   192                     NaN"
      ]
     },
     "execution_count": 29,
     "metadata": {},
     "output_type": "execute_result"
    }
   ],
   "source": [
    "users = list(df['user'].unique())\n",
    "\n",
    "avg_time_diff = []\n",
    "\n",
    "for user in users:\n",
    "    user_df = df[df['user'] == user]\n",
    "    mean_time = user_df['datetime'].diff().dt.total_seconds().mean()\n",
    "    avg_time_diff.append(mean_time)\n",
    "    \n",
    "\n",
    "avg_time = pd.DataFrame({'user':users, 'avg_time_bet_con_event':avg_time_diff})\n",
    "\n",
    "avg_time"
   ]
  },
  {
   "cell_type": "code",
   "execution_count": null,
   "metadata": {},
   "outputs": [],
   "source": []
  }
 ],
 "metadata": {
  "kernelspec": {
   "display_name": "env-spacy",
   "language": "python",
   "name": "python3"
  },
  "language_info": {
   "codemirror_mode": {
    "name": "ipython",
    "version": 3
   },
   "file_extension": ".py",
   "mimetype": "text/x-python",
   "name": "python",
   "nbconvert_exporter": "python",
   "pygments_lexer": "ipython3",
   "version": "3.9.7"
  },
  "orig_nbformat": 4,
  "vscode": {
   "interpreter": {
    "hash": "343191058819caea96d5cde1bd3b1a75b4807623ce2cda0e1c8499e39ac847e3"
   }
  }
 },
 "nbformat": 4,
 "nbformat_minor": 2
}
