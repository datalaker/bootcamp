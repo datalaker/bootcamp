{
  "nbformat": 4,
  "nbformat_minor": 0,
  "metadata": {
    "colab": {
      "provenance": []
    },
    "kernelspec": {
      "name": "python3",
      "display_name": "Python 3"
    },
    "language_info": {
      "name": "python"
    }
  },
  "cells": [
    {
      "cell_type": "markdown",
      "source": [
        "## Setup"
      ],
      "metadata": {
        "id": "xhMwsc6aB_wG"
      }
    },
    {
      "cell_type": "code",
      "source": [
        "%%writefile requirements.txt\n",
        "pycoingecko\n",
        "plotly\n",
        "mplfinance\n",
        "nbformat\n",
        "randomuser"
      ],
      "metadata": {
        "id": "43bGnAsSB_Bp",
        "colab": {
          "base_uri": "https://localhost:8080/"
        },
        "outputId": "e24d4b55-626b-43b3-9261-eee256d985a5"
      },
      "execution_count": null,
      "outputs": [
        {
          "output_type": "stream",
          "name": "stdout",
          "text": [
            "Writing requirements.txt\n"
          ]
        }
      ]
    },
    {
      "cell_type": "code",
      "source": [
        "%%capture\n",
        "!pip install -r requirements.txt"
      ],
      "metadata": {
        "id": "XoB-pnPcB-_d"
      },
      "execution_count": null,
      "outputs": []
    },
    {
      "cell_type": "code",
      "source": [
        "import pandas as pd\n",
        "import numpy as np\n",
        "import matplotlib.pyplot as plt\n",
        "import datetime"
      ],
      "metadata": {
        "id": "Xc1wvie3CEeg"
      },
      "execution_count": null,
      "outputs": []
    },
    {
      "cell_type": "code",
      "source": [
        "import plotly.graph_objects as go\n",
        "from plotly.offline import plot\n",
        "from pycoingecko import CoinGeckoAPI\n",
        "from mplfinance.original_flavor import candlestick2_ohlc\n",
        "from randomuser import RandomUser"
      ],
      "metadata": {
        "id": "z3JHzTaBUuqM"
      },
      "execution_count": null,
      "outputs": []
    },
    {
      "cell_type": "markdown",
      "source": [
        "## Basics"
      ],
      "metadata": {
        "id": "J04T2OOh_O7K"
      }
    },
    {
      "cell_type": "markdown",
      "source": [
        "### Prints"
      ],
      "metadata": {
        "id": "Y7LwySUjVy6F"
      }
    },
    {
      "cell_type": "code",
      "source": [
        "print('Hello World!')"
      ],
      "metadata": {
        "colab": {
          "base_uri": "https://localhost:8080/"
        },
        "id": "Wi5CybfoV1QT",
        "outputId": "e6033853-2549-4008-9bff-910ce9f27fba"
      },
      "execution_count": null,
      "outputs": [
        {
          "output_type": "stream",
          "name": "stdout",
          "text": [
            "Hello World!\n"
          ]
        }
      ]
    },
    {
      "cell_type": "code",
      "source": [
        "print(\"Hello World!\")"
      ],
      "metadata": {
        "colab": {
          "base_uri": "https://localhost:8080/"
        },
        "id": "BC12fGpqV5bo",
        "outputId": "3b0fe382-fec4-4c89-c4c9-3f7c10ee3198"
      },
      "execution_count": null,
      "outputs": [
        {
          "output_type": "stream",
          "name": "stdout",
          "text": [
            "Hello World!\n"
          ]
        }
      ]
    },
    {
      "cell_type": "code",
      "source": [
        "x = \"Hello\"\n",
        "y = \"World\"\n",
        "\n",
        "print(x, y, \"!\")"
      ],
      "metadata": {
        "colab": {
          "base_uri": "https://localhost:8080/"
        },
        "id": "QL3t3ILIV7_1",
        "outputId": "bfe00d99-b032-4ffc-8dd7-3adaa9cc3b9d"
      },
      "execution_count": null,
      "outputs": [
        {
          "output_type": "stream",
          "name": "stdout",
          "text": [
            "Hello World !\n"
          ]
        }
      ]
    },
    {
      "cell_type": "code",
      "source": [
        "print(x + \" \" + y + \"!\")"
      ],
      "metadata": {
        "colab": {
          "base_uri": "https://localhost:8080/"
        },
        "id": "kivCm07pWWbP",
        "outputId": "60e7e886-14ed-4f9e-dbb3-f721808bbc79"
      },
      "execution_count": null,
      "outputs": [
        {
          "output_type": "stream",
          "name": "stdout",
          "text": [
            "Hello World!\n"
          ]
        }
      ]
    },
    {
      "cell_type": "code",
      "source": [
        "print(f\"{x} {y}!\")"
      ],
      "metadata": {
        "colab": {
          "base_uri": "https://localhost:8080/"
        },
        "id": "E4aggEukWiTh",
        "outputId": "1ba6dcea-b539-4394-a788-8b60a7ab36ec"
      },
      "execution_count": null,
      "outputs": [
        {
          "output_type": "stream",
          "name": "stdout",
          "text": [
            "Hello World!\n"
          ]
        }
      ]
    },
    {
      "cell_type": "code",
      "source": [
        "print(\"{} {}!\".format(x, y))"
      ],
      "metadata": {
        "colab": {
          "base_uri": "https://localhost:8080/"
        },
        "id": "M0qFTQlnXk_2",
        "outputId": "ce82539d-2cb0-445c-e2c8-8fb0b390aff0"
      },
      "execution_count": null,
      "outputs": [
        {
          "output_type": "stream",
          "name": "stdout",
          "text": [
            "Hello World!\n"
          ]
        }
      ]
    },
    {
      "cell_type": "code",
      "source": [
        "print(\"{1} {0}!\".format(x, y))"
      ],
      "metadata": {
        "colab": {
          "base_uri": "https://localhost:8080/"
        },
        "id": "N9exQqexYIhr",
        "outputId": "d157847f-312f-4844-fc29-6004ebe4e507"
      },
      "execution_count": null,
      "outputs": [
        {
          "output_type": "stream",
          "name": "stdout",
          "text": [
            "World Hello!\n"
          ]
        }
      ]
    },
    {
      "cell_type": "markdown",
      "source": [
        "### Tuple"
      ],
      "metadata": {
        "id": "h58lhfk-kyia"
      }
    },
    {
      "cell_type": "code",
      "source": [
        "tuple1 = (\"disco\", 10, 1.2)\n",
        "tuple1"
      ],
      "metadata": {
        "colab": {
          "base_uri": "https://localhost:8080/"
        },
        "id": "FY-bssLVk1hY",
        "outputId": "1f26a9e3-528f-4df7-831b-58eae11d8ae5"
      },
      "execution_count": null,
      "outputs": [
        {
          "output_type": "execute_result",
          "data": {
            "text/plain": [
              "('disco', 10, 1.2)"
            ]
          },
          "metadata": {},
          "execution_count": 14
        }
      ]
    },
    {
      "cell_type": "code",
      "source": [
        "type(tuple1)"
      ],
      "metadata": {
        "colab": {
          "base_uri": "https://localhost:8080/"
        },
        "id": "7ThtHlPllCOK",
        "outputId": "e04202c1-1b84-4860-f998-a3e7e0d3e424"
      },
      "execution_count": null,
      "outputs": [
        {
          "output_type": "execute_result",
          "data": {
            "text/plain": [
              "tuple"
            ]
          },
          "metadata": {},
          "execution_count": 15
        }
      ]
    },
    {
      "cell_type": "code",
      "source": [
        "print(tuple1[0])\n",
        "print(tuple1[1])\n",
        "print(tuple1[2])"
      ],
      "metadata": {
        "colab": {
          "base_uri": "https://localhost:8080/"
        },
        "id": "s1inDz47lOk1",
        "outputId": "21f0ac49-391b-485c-f83e-2b3606fb77a6"
      },
      "execution_count": null,
      "outputs": [
        {
          "output_type": "stream",
          "name": "stdout",
          "text": [
            "disco\n",
            "10\n",
            "1.2\n"
          ]
        }
      ]
    },
    {
      "cell_type": "markdown",
      "source": [
        "Q: Print data type of each element of the tuple"
      ],
      "metadata": {
        "id": "BDJszwrClRbT"
      }
    },
    {
      "cell_type": "code",
      "source": [
        "tuple2 = (\"mars\", 1034, 190.2)\n",
        "tuple2"
      ],
      "metadata": {
        "colab": {
          "base_uri": "https://localhost:8080/"
        },
        "id": "5pzzivjUlXsN",
        "outputId": "b447c21e-375b-4e7b-9498-3bf5d2c814ea"
      },
      "execution_count": null,
      "outputs": [
        {
          "output_type": "execute_result",
          "data": {
            "text/plain": [
              "('mars', 1034, 190.2)"
            ]
          },
          "metadata": {},
          "execution_count": 21
        }
      ]
    },
    {
      "cell_type": "code",
      "source": [
        "print(type(tuple2[0]))\n",
        "print(type(tuple2[1]))\n",
        "print(type(tuple2[2]))"
      ],
      "metadata": {
        "colab": {
          "base_uri": "https://localhost:8080/"
        },
        "id": "KrJLCSXqleq2",
        "outputId": "ce0ce32e-0270-4073-fef0-9ea34f845949"
      },
      "execution_count": null,
      "outputs": [
        {
          "output_type": "stream",
          "name": "stdout",
          "text": [
            "<class 'str'>\n",
            "<class 'int'>\n",
            "<class 'float'>\n"
          ]
        }
      ]
    },
    {
      "cell_type": "code",
      "source": [
        "tuple2[-1]"
      ],
      "metadata": {
        "colab": {
          "base_uri": "https://localhost:8080/"
        },
        "id": "TmzcMMMvmAni",
        "outputId": "daeff5c9-1175-4725-d208-d6622c2a0157"
      },
      "execution_count": null,
      "outputs": [
        {
          "output_type": "execute_result",
          "data": {
            "text/plain": [
              "190.2"
            ]
          },
          "metadata": {},
          "execution_count": 23
        }
      ]
    },
    {
      "cell_type": "code",
      "source": [
        "tuple3 = tuple2 + (\"hard rock\", 10)\n",
        "tuple3"
      ],
      "metadata": {
        "colab": {
          "base_uri": "https://localhost:8080/"
        },
        "id": "GA0BQhF5mMfA",
        "outputId": "1fd085f0-6835-4f49-fd4f-5687cef68949"
      },
      "execution_count": null,
      "outputs": [
        {
          "output_type": "execute_result",
          "data": {
            "text/plain": [
              "('mars', 1034, 190.2, 'hard rock', 10)"
            ]
          },
          "metadata": {},
          "execution_count": 24
        }
      ]
    },
    {
      "cell_type": "code",
      "source": [
        "len(tuple3)"
      ],
      "metadata": {
        "colab": {
          "base_uri": "https://localhost:8080/"
        },
        "id": "LaNxAQTOmfV0",
        "outputId": "276bd7c1-d695-45ae-cc57-b320d1409b98"
      },
      "execution_count": null,
      "outputs": [
        {
          "output_type": "execute_result",
          "data": {
            "text/plain": [
              "5"
            ]
          },
          "metadata": {},
          "execution_count": 25
        }
      ]
    },
    {
      "cell_type": "code",
      "source": [
        "Ratings = (0, 9, 6, 5, 10, 8, 9, 6, 2)\n",
        "RatingsSorted = sorted(Ratings)\n",
        "RatingsSorted"
      ],
      "metadata": {
        "colab": {
          "base_uri": "https://localhost:8080/"
        },
        "id": "5W2EfNnzmjmS",
        "outputId": "57692803-f3bd-41c3-8041-e76da788461d"
      },
      "execution_count": null,
      "outputs": [
        {
          "output_type": "execute_result",
          "data": {
            "text/plain": [
              "[0, 2, 5, 6, 6, 8, 9, 9, 10]"
            ]
          },
          "metadata": {},
          "execution_count": 26
        }
      ]
    },
    {
      "cell_type": "code",
      "source": [
        "Ratings[3:5]"
      ],
      "metadata": {
        "colab": {
          "base_uri": "https://localhost:8080/"
        },
        "id": "O3gcYHBum9V7",
        "outputId": "979b2ec2-6a43-4a36-e49f-bd3946f23074"
      },
      "execution_count": null,
      "outputs": [
        {
          "output_type": "execute_result",
          "data": {
            "text/plain": [
              "(5, 10)"
            ]
          },
          "metadata": {},
          "execution_count": 27
        }
      ]
    },
    {
      "cell_type": "code",
      "source": [
        "tuple3.index(190.2)"
      ],
      "metadata": {
        "colab": {
          "base_uri": "https://localhost:8080/"
        },
        "id": "Uk8uFemTnBWy",
        "outputId": "4dcde073-84e5-493a-b507-577e78389e83"
      },
      "execution_count": null,
      "outputs": [
        {
          "output_type": "execute_result",
          "data": {
            "text/plain": [
              "2"
            ]
          },
          "metadata": {},
          "execution_count": 28
        }
      ]
    },
    {
      "cell_type": "markdown",
      "source": [
        "### Lists"
      ],
      "metadata": {
        "id": "feH-I00LN2a6"
      }
    },
    {
      "cell_type": "markdown",
      "source": [
        "Perform list operations in Python, including indexing, list manipulation, and copy/clone list"
      ],
      "metadata": {
        "id": "tgrZqGERN4Xg"
      }
    },
    {
      "cell_type": "markdown",
      "source": [
        "#### Indexing"
      ],
      "metadata": {
        "id": "bpb-1u6TOIrX"
      }
    },
    {
      "cell_type": "markdown",
      "source": [
        "We are going to take a look at lists in Python. A list is a sequenced collection of different objects such as integers, strings, and even other lists as well. The address of each element within a list is called an <b>index</b>. An index is used to access and refer to items within a list."
      ],
      "metadata": {
        "id": "9grXhU2YOL8z"
      }
    },
    {
      "cell_type": "code",
      "execution_count": null,
      "metadata": {
        "colab": {
          "base_uri": "https://localhost:8080/"
        },
        "id": "uTluPspK_KbB",
        "outputId": "2534bf08-3afb-473d-d46b-30616dcf8d19"
      },
      "outputs": [
        {
          "output_type": "execute_result",
          "data": {
            "text/plain": [
              "['Michael Jackson', 10.1, 1982]"
            ]
          },
          "metadata": {},
          "execution_count": 16
        }
      ],
      "source": [
        "L = [\"Michael Jackson\", 10.1, 1982]\n",
        "L"
      ]
    },
    {
      "cell_type": "code",
      "source": [
        "type(L)"
      ],
      "metadata": {
        "colab": {
          "base_uri": "https://localhost:8080/"
        },
        "id": "iZxE4egRlF8Y",
        "outputId": "f51adea6-70c5-4295-abb3-923511f57db8"
      },
      "execution_count": null,
      "outputs": [
        {
          "output_type": "execute_result",
          "data": {
            "text/plain": [
              "list"
            ]
          },
          "metadata": {},
          "execution_count": 17
        }
      ]
    },
    {
      "cell_type": "code",
      "source": [
        "# Print the elements on each index\n",
        "\n",
        "print(L[0])\n",
        "print(L[-3])\n",
        "print(L[1])\n",
        "print(L[-2])\n",
        "print(L[2])\n",
        "print(L[-1])"
      ],
      "metadata": {
        "colab": {
          "base_uri": "https://localhost:8080/"
        },
        "id": "bjaOefVFOKxn",
        "outputId": "1d4ff737-7e09-4214-8307-bf947e032433"
      },
      "execution_count": null,
      "outputs": [
        {
          "output_type": "stream",
          "name": "stdout",
          "text": [
            "Michael Jackson\n",
            "Michael Jackson\n",
            "10.1\n",
            "10.1\n",
            "1982\n",
            "1982\n"
          ]
        }
      ]
    },
    {
      "cell_type": "markdown",
      "source": [
        "#### List content"
      ],
      "metadata": {
        "id": "kHeXvr3CQTrz"
      }
    },
    {
      "cell_type": "markdown",
      "source": [
        "Lists can contain strings, floats, and integers. We can nest other lists, and we can also nest tuples and other data structures. The same indexing conventions apply for nesting."
      ],
      "metadata": {
        "id": "0F_L90KnQVjA"
      }
    },
    {
      "cell_type": "code",
      "source": [
        "[\"Michael Jackson\", 10.1, 1982, [1, 2], (\"A\", 1)]"
      ],
      "metadata": {
        "colab": {
          "base_uri": "https://localhost:8080/"
        },
        "id": "tHhQ_WQYQeyd",
        "outputId": "aeb1102b-0a50-48c6-b044-5f94d99acbb6"
      },
      "execution_count": null,
      "outputs": [
        {
          "output_type": "execute_result",
          "data": {
            "text/plain": [
              "['Michael Jackson', 10.1, 1982, [1, 2], ('A', 1)]"
            ]
          },
          "metadata": {},
          "execution_count": 26
        }
      ]
    },
    {
      "cell_type": "markdown",
      "source": [
        "#### List operations"
      ],
      "metadata": {
        "id": "yA-TAIQPQnHu"
      }
    },
    {
      "cell_type": "code",
      "source": [
        "L = [\"Michael Jackson\", 10.1,1982,\"MJ\",1]\n",
        "L"
      ],
      "metadata": {
        "colab": {
          "base_uri": "https://localhost:8080/"
        },
        "id": "wCKFgx5fQqwp",
        "outputId": "7a80e823-0779-4879-9fa2-969ef00aa3a5"
      },
      "execution_count": null,
      "outputs": [
        {
          "output_type": "execute_result",
          "data": {
            "text/plain": [
              "['Michael Jackson', 10.1, 1982, 'MJ', 1]"
            ]
          },
          "metadata": {},
          "execution_count": 27
        }
      ]
    },
    {
      "cell_type": "code",
      "source": [
        "L[3:5]"
      ],
      "metadata": {
        "colab": {
          "base_uri": "https://localhost:8080/"
        },
        "id": "CmFAQ9jiQt-r",
        "outputId": "d525e764-fbbd-4b56-b054-027af53627f5"
      },
      "execution_count": null,
      "outputs": [
        {
          "output_type": "execute_result",
          "data": {
            "text/plain": [
              "['MJ', 1]"
            ]
          },
          "metadata": {},
          "execution_count": 28
        }
      ]
    },
    {
      "cell_type": "markdown",
      "source": [
        "We can use the method <code>extend</code> to add new elements to the list:"
      ],
      "metadata": {
        "id": "eMoO31QhRq0j"
      }
    },
    {
      "cell_type": "code",
      "source": [
        "L = [\"Michael Jackson\", 10.2]\n",
        "L.extend(['pop', 10])\n",
        "L"
      ],
      "metadata": {
        "colab": {
          "base_uri": "https://localhost:8080/"
        },
        "id": "z5aqu8e_Rtph",
        "outputId": "477446d3-2c43-4b4b-be15-3b1861bc3230"
      },
      "execution_count": null,
      "outputs": [
        {
          "output_type": "execute_result",
          "data": {
            "text/plain": [
              "['Michael Jackson', 10.2, 'pop', 10]"
            ]
          },
          "metadata": {},
          "execution_count": 29
        }
      ]
    },
    {
      "cell_type": "code",
      "source": [
        "L = [\"Michael Jackson\", 10.2]\n",
        "L.append(['pop', 10])\n",
        "L"
      ],
      "metadata": {
        "colab": {
          "base_uri": "https://localhost:8080/"
        },
        "id": "_KKOtYrZR1bJ",
        "outputId": "395f917f-5fe4-4901-f693-7c7c054aa7a0"
      },
      "execution_count": null,
      "outputs": [
        {
          "output_type": "execute_result",
          "data": {
            "text/plain": [
              "['Michael Jackson', 10.2, ['pop', 10]]"
            ]
          },
          "metadata": {},
          "execution_count": 30
        }
      ]
    },
    {
      "cell_type": "markdown",
      "source": [
        "As lists are mutable, we can change them. For example, we can change the first element as follows:"
      ],
      "metadata": {
        "id": "Kk3i8osgSdPi"
      }
    },
    {
      "cell_type": "code",
      "source": [
        "A = [\"disco\", 10, 1.2]\n",
        "print('Before change:', A)\n",
        "A[0] = 'hard rock'\n",
        "print('After change:', A)"
      ],
      "metadata": {
        "colab": {
          "base_uri": "https://localhost:8080/"
        },
        "id": "CHJyrKpbSoNJ",
        "outputId": "f96f2d9b-fe0f-4cf3-9a88-a532a30b7aae"
      },
      "execution_count": null,
      "outputs": [
        {
          "output_type": "stream",
          "name": "stdout",
          "text": [
            "Before change: ['disco', 10, 1.2]\n",
            "After change: ['hard rock', 10, 1.2]\n"
          ]
        }
      ]
    },
    {
      "cell_type": "markdown",
      "source": [
        "We can also delete an element of a list using the <code>del</code> command:"
      ],
      "metadata": {
        "id": "BYoUu9tqTjck"
      }
    },
    {
      "cell_type": "markdown",
      "source": [
        "We can also delete an element of a list using the `del` command:"
      ],
      "metadata": {
        "id": "5clQSCO4TmFh"
      }
    },
    {
      "cell_type": "code",
      "source": [
        "print('Before change:', A)\n",
        "del(A[0])\n",
        "print('After change:', A)"
      ],
      "metadata": {
        "colab": {
          "base_uri": "https://localhost:8080/"
        },
        "id": "lRtcYoveT8YV",
        "outputId": "18284e38-bd1e-4181-fc45-8e8fb9b1edab"
      },
      "execution_count": null,
      "outputs": [
        {
          "output_type": "stream",
          "name": "stdout",
          "text": [
            "Before change: ['hard rock', 10, 1.2]\n",
            "After change: [10, 1.2]\n"
          ]
        }
      ]
    },
    {
      "cell_type": "markdown",
      "source": [
        "We can convert a string to a list using <code>split</code>.  For example, the method <code>split</code> translates every group of characters separated by a space into an element in a list:"
      ],
      "metadata": {
        "id": "-GV6ZVG1UEQl"
      }
    },
    {
      "cell_type": "code",
      "source": [
        "txt = 'hard rock'\n",
        "\n",
        "txt.split()"
      ],
      "metadata": {
        "colab": {
          "base_uri": "https://localhost:8080/"
        },
        "id": "xBy10Nl4UDp_",
        "outputId": "e2c42bb2-2c92-4715-f2a4-c3af4c1ede35"
      },
      "execution_count": null,
      "outputs": [
        {
          "output_type": "execute_result",
          "data": {
            "text/plain": [
              "['hard', 'rock']"
            ]
          },
          "metadata": {},
          "execution_count": 33
        }
      ]
    },
    {
      "cell_type": "markdown",
      "source": [
        "#### Copy and Clone List"
      ],
      "metadata": {
        "id": "v0R3mt5DUZFG"
      }
    },
    {
      "cell_type": "markdown",
      "source": [
        "When we set one variable <b>B</b> equal to <b>A</b>, both <b>A</b> and <b>B</b> are referencing the same list in memory:"
      ],
      "metadata": {
        "id": "5SbLHoLpU0RA"
      }
    },
    {
      "cell_type": "code",
      "source": [
        "A = [\"hard rock\", 10, 1.2]\n",
        "B = A\n",
        "print('A:', A)\n",
        "print('B:', B)"
      ],
      "metadata": {
        "colab": {
          "base_uri": "https://localhost:8080/"
        },
        "id": "gDaMsxpyUx9L",
        "outputId": "2f6a2901-af79-4c81-c34d-361935ccb334"
      },
      "execution_count": null,
      "outputs": [
        {
          "output_type": "stream",
          "name": "stdout",
          "text": [
            "A: ['hard rock', 10, 1.2]\n",
            "B: ['hard rock', 10, 1.2]\n"
          ]
        }
      ]
    },
    {
      "cell_type": "markdown",
      "source": [
        "Initially, the value of the first element in <b>B</b> is set as \"hard rock\". If we change the first element in <b>A</b> to <b>\"banana\"</b>, we get an unexpected side effect.  As <b>A</b> and <b>B</b> are referencing the same list, if we change list <b>A</b>, then list <b>B</b> also changes. If we check the first element of <b>B</b> we get \"banana\" instead of \"hard rock\":"
      ],
      "metadata": {
        "id": "fbjfBBMXU6WA"
      }
    },
    {
      "cell_type": "code",
      "source": [
        "print('B:', B)\n",
        "A[0] = \"banana\"\n",
        "print('B:', B)"
      ],
      "metadata": {
        "colab": {
          "base_uri": "https://localhost:8080/"
        },
        "id": "0NGwbdtYVKDV",
        "outputId": "b9309129-35c1-4f16-cd33-41e647095fd4"
      },
      "execution_count": null,
      "outputs": [
        {
          "output_type": "stream",
          "name": "stdout",
          "text": [
            "B: ['hard rock', 10, 1.2]\n",
            "B: ['banana', 10, 1.2]\n"
          ]
        }
      ]
    },
    {
      "cell_type": "markdown",
      "source": [
        "You can clone list **A** by using the following syntax:"
      ],
      "metadata": {
        "id": "8LgyQUBZVkbK"
      }
    },
    {
      "cell_type": "code",
      "source": [
        "A = [\"hard rock\", 10, 1.2]\n",
        "\n",
        "B = A[:]\n",
        "B"
      ],
      "metadata": {
        "colab": {
          "base_uri": "https://localhost:8080/"
        },
        "id": "qXUh599kYv-4",
        "outputId": "406bc6f7-46aa-4f78-e9ee-7dbaec560c2a"
      },
      "execution_count": null,
      "outputs": [
        {
          "output_type": "execute_result",
          "data": {
            "text/plain": [
              "['hard rock', 10, 1.2]"
            ]
          },
          "metadata": {},
          "execution_count": 52
        }
      ]
    },
    {
      "cell_type": "code",
      "source": [
        "print('B:', B)\n",
        "A[0] = \"banana\"\n",
        "print('B:', B)"
      ],
      "metadata": {
        "colab": {
          "base_uri": "https://localhost:8080/"
        },
        "id": "2nkvMrFPY-Wt",
        "outputId": "499a57c3-4798-40b5-99e7-b867c5534ff8"
      },
      "execution_count": null,
      "outputs": [
        {
          "output_type": "stream",
          "name": "stdout",
          "text": [
            "B: ['hard rock', 10, 1.2]\n",
            "B: ['hard rock', 10, 1.2]\n"
          ]
        }
      ]
    },
    {
      "cell_type": "markdown",
      "source": [
        "Q: Create a list <code>a_list</code>, with the following elements <code>1</code>, <code>hello</code>, <code>[1,2,3]</code> and <code>True</code>"
      ],
      "metadata": {
        "id": "jboRjca0ZO4H"
      }
    },
    {
      "cell_type": "code",
      "source": [
        "a_list=[1, \"hello\", [1,2,3], True]\n",
        "a_list"
      ],
      "metadata": {
        "colab": {
          "base_uri": "https://localhost:8080/"
        },
        "id": "aKPkyD17ZURi",
        "outputId": "25af6a1c-0a13-4919-f3fd-a7359567aecd"
      },
      "execution_count": null,
      "outputs": [
        {
          "output_type": "execute_result",
          "data": {
            "text/plain": [
              "[1, 'hello', [1, 2, 3], True]"
            ]
          },
          "metadata": {},
          "execution_count": 55
        }
      ]
    },
    {
      "cell_type": "markdown",
      "source": [
        "Q: Find the value stored at index 1 of <code>a_list</code>"
      ],
      "metadata": {
        "id": "dBdRgdU3adU0"
      }
    },
    {
      "cell_type": "code",
      "source": [
        "a_list[1]"
      ],
      "metadata": {
        "colab": {
          "base_uri": "https://localhost:8080/",
          "height": 36
        },
        "id": "_D3FD5C5afvs",
        "outputId": "ca4f87d0-5074-4fcb-b1ef-647b5d140e64"
      },
      "execution_count": null,
      "outputs": [
        {
          "output_type": "execute_result",
          "data": {
            "text/plain": [
              "'hello'"
            ],
            "application/vnd.google.colaboratory.intrinsic+json": {
              "type": "string"
            }
          },
          "metadata": {},
          "execution_count": 56
        }
      ]
    },
    {
      "cell_type": "markdown",
      "source": [
        "Q: Retrieve the elements stored at index 1, 2 and 3 of <code>a_list</code>"
      ],
      "metadata": {
        "id": "CFmMdt2va3fI"
      }
    },
    {
      "cell_type": "code",
      "source": [
        "a_list[1:4]"
      ],
      "metadata": {
        "colab": {
          "base_uri": "https://localhost:8080/"
        },
        "id": "ECRlpq0FazoN",
        "outputId": "812c423e-7be2-418d-ec99-1feb997fe3d3"
      },
      "execution_count": null,
      "outputs": [
        {
          "output_type": "execute_result",
          "data": {
            "text/plain": [
              "['hello', [1, 2, 3], True]"
            ]
          },
          "metadata": {},
          "execution_count": 59
        }
      ]
    },
    {
      "cell_type": "markdown",
      "source": [
        "Concatenate the following lists <code>A = [1, 'a']</code> and <code>B = [2, 1, 'd']</code>:"
      ],
      "metadata": {
        "id": "Iizilzytb9Ay"
      }
    },
    {
      "cell_type": "code",
      "source": [
        "A = [1,'a']\n",
        "B = [2,1,'d']\n",
        "\n",
        "A+B"
      ],
      "metadata": {
        "colab": {
          "base_uri": "https://localhost:8080/"
        },
        "id": "9Pfz0ep3b_mm",
        "outputId": "a8f981df-a409-4cba-ea57-9c2447c92b1b"
      },
      "execution_count": null,
      "outputs": [
        {
          "output_type": "execute_result",
          "data": {
            "text/plain": [
              "[1, 'a', 2, 1, 'd']"
            ]
          },
          "metadata": {},
          "execution_count": 60
        }
      ]
    },
    {
      "cell_type": "markdown",
      "source": [
        "#### Misc"
      ],
      "metadata": {
        "id": "JbxrJzYYVUE0"
      }
    },
    {
      "cell_type": "code",
      "source": [
        "lst = ['earth','mars','saturn']\n",
        "lst[1]"
      ],
      "metadata": {
        "id": "E8iINMHuVWr3"
      },
      "execution_count": null,
      "outputs": []
    },
    {
      "cell_type": "code",
      "source": [
        "newls = list(range(62,96))\n",
        "newls[-2:]\n",
        "newls[-5:]\n",
        "newls[:5]\n",
        "[x/10 for x in newls[:5]]\n",
        "[x*10 for x in newls[:5]]"
      ],
      "metadata": {
        "id": "R4-gz1zzVaNa"
      },
      "execution_count": null,
      "outputs": []
    },
    {
      "cell_type": "markdown",
      "source": [
        "### Dictionaries"
      ],
      "metadata": {
        "id": "0xSvkbGhcivx"
      }
    },
    {
      "cell_type": "markdown",
      "source": [
        "A dictionary consists of keys and values. It is helpful to compare a dictionary to a list. Instead of being indexed numerically like a list, dictionaries have keys. These keys are the keys that are used to access values within a dictionary."
      ],
      "metadata": {
        "id": "aPfJ6wkpcn5L"
      }
    },
    {
      "cell_type": "markdown",
      "source": [
        "Each key is separated from its value by a colon \"<code>:</code>\".  Commas separate the items, and the whole dictionary is enclosed in curly braces. An empty dictionary without any items is written with just two curly braces, like this  \"<code>{}</code>\"."
      ],
      "metadata": {
        "id": "TVbp7t1BdmQf"
      }
    },
    {
      "cell_type": "markdown",
      "source": [
        "![](https://user-images.githubusercontent.com/62965911/221246219-bf3749d2-c8cf-4ba5-acc5-0f33f6c33b43.png)"
      ],
      "metadata": {
        "id": "9Y5Nj7Klc9MP"
      }
    },
    {
      "cell_type": "code",
      "source": [
        "Student = {\"Name\": \"Alex\", \"Blood Group\": \"O+\"}\n",
        "\n",
        "print(\"Student name is {} and blood group is {}\".format(Student[\"Name\"],\n",
        "                                                        Student[\"Blood Group\"]))"
      ],
      "metadata": {
        "colab": {
          "base_uri": "https://localhost:8080/"
        },
        "id": "0e5RORhbdt8X",
        "outputId": "800acffd-e85f-4587-d880-3d6723ee0d1c"
      },
      "execution_count": null,
      "outputs": [
        {
          "output_type": "stream",
          "name": "stdout",
          "text": [
            "Student name is Alex and blood group is O+\n"
          ]
        }
      ]
    },
    {
      "cell_type": "code",
      "source": [
        "type(Student)"
      ],
      "metadata": {
        "colab": {
          "base_uri": "https://localhost:8080/"
        },
        "id": "-_SQoE2DlJDu",
        "outputId": "592fc0d8-cfa9-4047-957c-bf516ca12fed"
      },
      "execution_count": null,
      "outputs": [
        {
          "output_type": "execute_result",
          "data": {
            "text/plain": [
              "dict"
            ]
          },
          "metadata": {},
          "execution_count": 19
        }
      ]
    },
    {
      "cell_type": "code",
      "source": [
        "print(f'Student name is {Student[\"Name\"]} and blood group is {Student[\"Blood Group\"]}')"
      ],
      "metadata": {
        "colab": {
          "base_uri": "https://localhost:8080/"
        },
        "id": "NMgzafm5eTEN",
        "outputId": "dcc4747a-2573-42db-c9c4-d244e6a86e5b"
      },
      "execution_count": null,
      "outputs": [
        {
          "output_type": "stream",
          "name": "stdout",
          "text": [
            "Student name is Alex and blood group is O+\n"
          ]
        }
      ]
    },
    {
      "cell_type": "code",
      "source": [
        "x = Student[\"Name\"]\n",
        "y = Student[\"Blood Group\"]\n",
        "\n",
        "print(f'Student name is {x} and blood group is {y}')"
      ],
      "metadata": {
        "colab": {
          "base_uri": "https://localhost:8080/"
        },
        "id": "M9TRlZUqfJF9",
        "outputId": "dcfe6f14-59f8-44db-a421-ca496d8cddf6"
      },
      "execution_count": null,
      "outputs": [
        {
          "output_type": "stream",
          "name": "stdout",
          "text": [
            "Student name is Alex and blood group is O+\n"
          ]
        }
      ]
    },
    {
      "cell_type": "code",
      "source": [
        "Dict = {\"key1\": 1, \"key2\": \"2\", \"key3\": [3, 3, 3], \"key4\": (4, 4, 4), ('key5'): 5, (0, 1): 6}\n",
        "Dict"
      ],
      "metadata": {
        "colab": {
          "base_uri": "https://localhost:8080/"
        },
        "id": "RPccZT5BdOQI",
        "outputId": "fd3e2b66-af53-4035-897e-6cf713a0e161"
      },
      "execution_count": null,
      "outputs": [
        {
          "output_type": "execute_result",
          "data": {
            "text/plain": [
              "{'key1': 1,\n",
              " 'key2': '2',\n",
              " 'key3': [3, 3, 3],\n",
              " 'key4': (4, 4, 4),\n",
              " 'key5': 5,\n",
              " (0, 1): 6}"
            ]
          },
          "metadata": {},
          "execution_count": 61
        }
      ]
    },
    {
      "cell_type": "code",
      "source": [
        "release_year_dict = {\"Thriller\": \"1982\", \"Back in Black\": \"1980\", \\\n",
        "                    \"The Dark Side of the Moon\": \"1973\", \"The Bodyguard\": \"1992\", \\\n",
        "                    \"Bat Out of Hell\": \"1977\", \"Their Greatest Hits (1971-1975)\": \"1976\", \\\n",
        "                    \"Saturday Night Fever\": \"1977\", \"Rumours\": \"1977\"}\n",
        "list(release_year_dict.keys())"
      ],
      "metadata": {
        "colab": {
          "base_uri": "https://localhost:8080/"
        },
        "id": "Rd94qdrPiuo8",
        "outputId": "dbc19655-c1a4-47c0-fda3-e6f77be71ae3"
      },
      "execution_count": null,
      "outputs": [
        {
          "output_type": "execute_result",
          "data": {
            "text/plain": [
              "['Thriller',\n",
              " 'Back in Black',\n",
              " 'The Dark Side of the Moon',\n",
              " 'The Bodyguard',\n",
              " 'Bat Out of Hell',\n",
              " 'Their Greatest Hits (1971-1975)',\n",
              " 'Saturday Night Fever',\n",
              " 'Rumours']"
            ]
          },
          "metadata": {},
          "execution_count": 6
        }
      ]
    },
    {
      "cell_type": "code",
      "source": [
        "list(release_year_dict.values())"
      ],
      "metadata": {
        "colab": {
          "base_uri": "https://localhost:8080/"
        },
        "id": "nqBWVT7Ui3Fd",
        "outputId": "4674341e-191b-4208-b710-b2e00f717d49"
      },
      "execution_count": null,
      "outputs": [
        {
          "output_type": "execute_result",
          "data": {
            "text/plain": [
              "['1982', '1980', '1973', '1992', '1977', '1976', '1977', '1977']"
            ]
          },
          "metadata": {},
          "execution_count": 7
        }
      ]
    },
    {
      "cell_type": "code",
      "source": [
        "release_year_dict['Graduation'] = '2007'\n",
        "release_year_dict"
      ],
      "metadata": {
        "colab": {
          "base_uri": "https://localhost:8080/"
        },
        "id": "rErzt1vEjS7o",
        "outputId": "9b3697f4-347c-4831-f443-7c4e9084e83b"
      },
      "execution_count": null,
      "outputs": [
        {
          "output_type": "execute_result",
          "data": {
            "text/plain": [
              "{'Thriller': '1982',\n",
              " 'Back in Black': '1980',\n",
              " 'The Dark Side of the Moon': '1973',\n",
              " 'The Bodyguard': '1992',\n",
              " 'Bat Out of Hell': '1977',\n",
              " 'Their Greatest Hits (1971-1975)': '1976',\n",
              " 'Saturday Night Fever': '1977',\n",
              " 'Rumours': '1977',\n",
              " 'Graduation': '2007'}"
            ]
          },
          "metadata": {},
          "execution_count": 8
        }
      ]
    },
    {
      "cell_type": "code",
      "source": [
        "del(release_year_dict['Thriller'])\n",
        "del(release_year_dict['Graduation'])\n",
        "release_year_dict"
      ],
      "metadata": {
        "colab": {
          "base_uri": "https://localhost:8080/"
        },
        "id": "5DRHuR_wjSvj",
        "outputId": "c09eac7f-4059-45f0-f86d-e37354929069"
      },
      "execution_count": null,
      "outputs": [
        {
          "output_type": "execute_result",
          "data": {
            "text/plain": [
              "{'Back in Black': '1980',\n",
              " 'The Dark Side of the Moon': '1973',\n",
              " 'The Bodyguard': '1992',\n",
              " 'Bat Out of Hell': '1977',\n",
              " 'Their Greatest Hits (1971-1975)': '1976',\n",
              " 'Saturday Night Fever': '1977',\n",
              " 'Rumours': '1977'}"
            ]
          },
          "metadata": {},
          "execution_count": 9
        }
      ]
    },
    {
      "cell_type": "code",
      "source": [
        "soundtrack_dic = {\"The Bodyguard\":\"1992\", \"Saturday Night Fever\":\"1977\"}\n",
        "soundtrack_dic"
      ],
      "metadata": {
        "colab": {
          "base_uri": "https://localhost:8080/"
        },
        "id": "gBVR_tbDjtZl",
        "outputId": "623d5a41-6b45-4ea9-f79c-88c5afb4a3f1"
      },
      "execution_count": null,
      "outputs": [
        {
          "output_type": "execute_result",
          "data": {
            "text/plain": [
              "{'The Bodyguard': '1992', 'Saturday Night Fever': '1977'}"
            ]
          },
          "metadata": {},
          "execution_count": 10
        }
      ]
    },
    {
      "cell_type": "markdown",
      "source": [
        "Q: In the dictionary <code>soundtrack_dic</code> what are the keys?"
      ],
      "metadata": {
        "id": "fpg_XPRujzTK"
      }
    },
    {
      "cell_type": "code",
      "source": [
        "list(soundtrack_dic.keys())[1]"
      ],
      "metadata": {
        "colab": {
          "base_uri": "https://localhost:8080/",
          "height": 35
        },
        "id": "QoxOoUtWjxQh",
        "outputId": "96518c8f-0f2c-4f74-d025-df081e059b61"
      },
      "execution_count": null,
      "outputs": [
        {
          "output_type": "execute_result",
          "data": {
            "text/plain": [
              "'Saturday Night Fever'"
            ],
            "application/vnd.google.colaboratory.intrinsic+json": {
              "type": "string"
            }
          },
          "metadata": {},
          "execution_count": 13
        }
      ]
    },
    {
      "cell_type": "markdown",
      "source": [
        "### Sets"
      ],
      "metadata": {
        "id": "e3GOONvbnQxH"
      }
    },
    {
      "cell_type": "code",
      "source": [
        "set1 = {\"pop\", \"rock\", \"soul\", \"hard rock\", \"rock\", \"R&B\", \"rock\", \"disco\"}\n",
        "set1"
      ],
      "metadata": {
        "colab": {
          "base_uri": "https://localhost:8080/"
        },
        "id": "TSPtWnd6nU7q",
        "outputId": "26086e6d-1e35-4531-f9e8-0beff2b550ef"
      },
      "execution_count": null,
      "outputs": [
        {
          "output_type": "execute_result",
          "data": {
            "text/plain": [
              "{'R&B', 'disco', 'hard rock', 'pop', 'rock', 'soul'}"
            ]
          },
          "metadata": {},
          "execution_count": 29
        }
      ]
    },
    {
      "cell_type": "code",
      "source": [
        "lst = [1,2,3,6,8,3,10,10,3,7,10]\n",
        "\n",
        "list(set(lst))"
      ],
      "metadata": {
        "colab": {
          "base_uri": "https://localhost:8080/"
        },
        "id": "ATZjyXFjngTh",
        "outputId": "74e7980e-ce06-44e5-8a71-9a71ad6131fc"
      },
      "execution_count": null,
      "outputs": [
        {
          "output_type": "execute_result",
          "data": {
            "text/plain": [
              "[1, 2, 3, 6, 7, 8, 10]"
            ]
          },
          "metadata": {},
          "execution_count": 30
        }
      ]
    },
    {
      "cell_type": "code",
      "source": [
        "lst1 = [1,2,3,6,8,3,10,10,3,7,10]\n",
        "lst2 = [1,2,3,4,5]\n",
        "\n",
        "list(set(lst1).intersection(set(lst2)))"
      ],
      "metadata": {
        "colab": {
          "base_uri": "https://localhost:8080/"
        },
        "id": "6bt5AzI8n-cD",
        "outputId": "cfae9daa-2e3d-470c-fb3e-19a231317149"
      },
      "execution_count": null,
      "outputs": [
        {
          "output_type": "execute_result",
          "data": {
            "text/plain": [
              "[1, 2, 3]"
            ]
          },
          "metadata": {},
          "execution_count": 31
        }
      ]
    },
    {
      "cell_type": "code",
      "source": [
        "list(set(lst1) & set(lst2))"
      ],
      "metadata": {
        "colab": {
          "base_uri": "https://localhost:8080/"
        },
        "id": "Yhgn88LSoT2y",
        "outputId": "2398f02d-296b-4d8d-eba0-d0889b284b37"
      },
      "execution_count": null,
      "outputs": [
        {
          "output_type": "execute_result",
          "data": {
            "text/plain": [
              "[1, 2, 3]"
            ]
          },
          "metadata": {},
          "execution_count": 32
        }
      ]
    },
    {
      "cell_type": "code",
      "source": [
        "list(set(lst1).difference(set(lst2)))"
      ],
      "metadata": {
        "colab": {
          "base_uri": "https://localhost:8080/"
        },
        "id": "raAIawXBohJs",
        "outputId": "7e256d7d-fda8-42cc-c106-a0e9ef1e507e"
      },
      "execution_count": null,
      "outputs": [
        {
          "output_type": "execute_result",
          "data": {
            "text/plain": [
              "[8, 10, 6, 7]"
            ]
          },
          "metadata": {},
          "execution_count": 33
        }
      ]
    },
    {
      "cell_type": "code",
      "source": [
        "list(set(lst1).union(set(lst2)))"
      ],
      "metadata": {
        "colab": {
          "base_uri": "https://localhost:8080/"
        },
        "id": "-sKb_unwox9v",
        "outputId": "ce67da7b-40c4-4555-fa00-3681b8ab1573"
      },
      "execution_count": null,
      "outputs": [
        {
          "output_type": "execute_result",
          "data": {
            "text/plain": [
              "[1, 2, 3, 4, 5, 6, 7, 8, 10]"
            ]
          },
          "metadata": {},
          "execution_count": 34
        }
      ]
    },
    {
      "cell_type": "markdown",
      "source": [
        "Q: Get a list of movies present in universe 1 and 2 combined"
      ],
      "metadata": {
        "id": "6tOCBS3zo_PK"
      }
    },
    {
      "cell_type": "code",
      "source": [
        "universe1 = [\"Thriller\", \"AC/DC\", \"Back in Black\"]\n",
        "universe2 = [\"AC/DC\", \"Back in Black\", \"The Dark Side of the Moon\"]\n",
        "\n",
        "# write your code here\n",
        "answer = sorted(list(set(universe1).union(set(universe2))))\n",
        "\n",
        "# test\n",
        "assert(answer == [\"AC/DC\", \"Back in Black\", \"The Dark Side of the Moon\", \"Thriller\"])"
      ],
      "metadata": {
        "id": "WdZvMEzUpI2Y"
      },
      "execution_count": null,
      "outputs": []
    },
    {
      "cell_type": "markdown",
      "source": [
        "### Functions"
      ],
      "metadata": {
        "id": "hWnLtkbQq_xD"
      }
    },
    {
      "cell_type": "code",
      "source": [
        "def add(a):\n",
        "    \"\"\"\n",
        "    add 1 to a\n",
        "    \"\"\"\n",
        "    b = a + 1\n",
        "    print(a, \"if you add one\", b)\n",
        "    return b"
      ],
      "metadata": {
        "id": "H_5jXwZOrA8r"
      },
      "execution_count": null,
      "outputs": []
    },
    {
      "cell_type": "code",
      "source": [
        "help(add)"
      ],
      "metadata": {
        "colab": {
          "base_uri": "https://localhost:8080/"
        },
        "id": "KGl6GxmZrQw3",
        "outputId": "624c29bd-c95a-4f23-8557-5c80e16c882c"
      },
      "execution_count": null,
      "outputs": [
        {
          "output_type": "stream",
          "name": "stdout",
          "text": [
            "Help on function add in module __main__:\n",
            "\n",
            "add(a)\n",
            "    add 1 to a\n",
            "\n"
          ]
        }
      ]
    },
    {
      "cell_type": "code",
      "source": [
        "result = add(2)\n",
        "print(result)"
      ],
      "metadata": {
        "colab": {
          "base_uri": "https://localhost:8080/"
        },
        "id": "5hXpv2hyrYVH",
        "outputId": "432e9db8-ff09-4a63-8b70-3593aea6fe62"
      },
      "execution_count": null,
      "outputs": [
        {
          "output_type": "stream",
          "name": "stdout",
          "text": [
            "2 if you add one 3\n",
            "3\n"
          ]
        }
      ]
    },
    {
      "cell_type": "code",
      "source": [
        "def add(a):\n",
        "    \"\"\"\n",
        "    add 1 to a\n",
        "    \"\"\"\n",
        "    print(\"{} if you add one {}\".format(a, a+1))"
      ],
      "metadata": {
        "id": "guzXgpZNrxam"
      },
      "execution_count": null,
      "outputs": []
    },
    {
      "cell_type": "code",
      "source": [
        "add(2)"
      ],
      "metadata": {
        "colab": {
          "base_uri": "https://localhost:8080/"
        },
        "id": "erBN0C-Xr7x3",
        "outputId": "27276aed-90a7-44e9-db25-6f005ca46257"
      },
      "execution_count": null,
      "outputs": [
        {
          "output_type": "stream",
          "name": "stdout",
          "text": [
            "2 if you add one 3\n"
          ]
        }
      ]
    },
    {
      "cell_type": "markdown",
      "source": [
        "Q: Create a function that will multiply 2 input numbers and return the result as integer"
      ],
      "metadata": {
        "id": "6CyvmnZEsDKg"
      }
    },
    {
      "cell_type": "code",
      "source": [
        "def multiply(a, b):\n",
        "    return int(a*b)"
      ],
      "metadata": {
        "id": "kReEKzVEsKlu"
      },
      "execution_count": null,
      "outputs": []
    },
    {
      "cell_type": "code",
      "source": [
        "multiply(10, 20)"
      ],
      "metadata": {
        "colab": {
          "base_uri": "https://localhost:8080/"
        },
        "id": "0yRNr59tsuRm",
        "outputId": "7150c10a-6d06-40e7-ca45-b89929101c36"
      },
      "execution_count": null,
      "outputs": [
        {
          "output_type": "execute_result",
          "data": {
            "text/plain": [
              "200"
            ]
          },
          "metadata": {},
          "execution_count": 51
        }
      ]
    },
    {
      "cell_type": "code",
      "source": [
        "multiply(5.2, 12.424)"
      ],
      "metadata": {
        "colab": {
          "base_uri": "https://localhost:8080/"
        },
        "id": "ZHn49u7usxM_",
        "outputId": "c75236dc-e721-4747-c8ad-9308401a1758"
      },
      "execution_count": null,
      "outputs": [
        {
          "output_type": "execute_result",
          "data": {
            "text/plain": [
              "64"
            ]
          },
          "metadata": {},
          "execution_count": 53
        }
      ]
    },
    {
      "cell_type": "code",
      "source": [
        "def type_of_album(artist, album, year_released):\n",
        "    if year_released >= 1980:\n",
        "        return \"Modern\"\n",
        "    else:\n",
        "        return \"Oldie\"\n",
        "\n",
        "result = type_of_album(\"Michael Jackson\", \"Thriller\", 1980)\n",
        "result"
      ],
      "metadata": {
        "colab": {
          "base_uri": "https://localhost:8080/",
          "height": 35
        },
        "id": "DKuBc4wRtMuA",
        "outputId": "24c049a6-0a8e-4bd1-b227-0722567f8457"
      },
      "execution_count": null,
      "outputs": [
        {
          "output_type": "execute_result",
          "data": {
            "text/plain": [
              "'Modern'"
            ],
            "application/vnd.google.colaboratory.intrinsic+json": {
              "type": "string"
            }
          },
          "metadata": {},
          "execution_count": 55
        }
      ]
    },
    {
      "cell_type": "code",
      "source": [
        "def isGoodRating(rating=4):\n",
        "    \"\"\"\n",
        "    this function print message as per the rating value\n",
        "    \"\"\"\n",
        "    if(rating < 7):\n",
        "        print(\"this album sucks it's rating is\", rating)\n",
        "    else:\n",
        "        print(\"this album is good its rating is\", rating)\n",
        "    return None # by default, function return None"
      ],
      "metadata": {
        "id": "KgTUrKUIuYT_"
      },
      "execution_count": null,
      "outputs": []
    },
    {
      "cell_type": "code",
      "source": [
        "result1 = isGoodRating()\n",
        "result2 = isGoodRating(10)\n",
        "\n",
        "print(\"Result 1 is {} and result 2 is {}\".format(result1, result2))"
      ],
      "metadata": {
        "colab": {
          "base_uri": "https://localhost:8080/"
        },
        "id": "YW-8S3AYuae_",
        "outputId": "96d4eca5-3b65-4d2f-9e8f-470b1df23f0e"
      },
      "execution_count": null,
      "outputs": [
        {
          "output_type": "stream",
          "name": "stdout",
          "text": [
            "this album sucks it's rating is 4\n",
            "this album is good its rating is 10\n",
            "Result 1 is None and result 2 is None\n"
          ]
        }
      ]
    },
    {
      "cell_type": "markdown",
      "source": [
        "### Loops"
      ],
      "metadata": {
        "id": "l72kad8o0RFQ"
      }
    },
    {
      "cell_type": "code",
      "source": [
        "name = input(\"Enter the name (first name and last name): \")\n",
        "\n",
        "print('User first name is {}'.format(name.split()[0]))"
      ],
      "metadata": {
        "colab": {
          "base_uri": "https://localhost:8080/"
        },
        "id": "CeCZbzhP0b1R",
        "outputId": "714d500c-a6fb-47ef-99a2-6dc296b7847c"
      },
      "execution_count": null,
      "outputs": [
        {
          "output_type": "stream",
          "name": "stdout",
          "text": [
            "Enter the name (first name and last name): John Doe\n",
            "User first name is John\n"
          ]
        }
      ]
    },
    {
      "cell_type": "code",
      "source": [
        "name = input(\"Enter the name (first name and last name): \")\n",
        "\n",
        "print('User last name is {}'.format(name.split()[1]))"
      ],
      "metadata": {
        "colab": {
          "base_uri": "https://localhost:8080/"
        },
        "id": "j2NflLkU0zDf",
        "outputId": "a90cabd1-a920-4c2b-8663-f877ab713df4"
      },
      "execution_count": null,
      "outputs": [
        {
          "output_type": "stream",
          "name": "stdout",
          "text": [
            "Enter the name (first name and last name): Peter Norvesky\n",
            "User last name is Norvesky\n"
          ]
        }
      ]
    },
    {
      "cell_type": "code",
      "source": [
        "while(True):\n",
        "    try:\n",
        "        age = int(input(\"Enter the age: \"))\n",
        "        if age < 0:\n",
        "            raise Exception(\"Age can not be less than 0\")\n",
        "        else:\n",
        "            print(\"Your age is {}\".format(age))\n",
        "            break\n",
        "    except ValueError:\n",
        "        print(\"Age should be int\")\n",
        "    except Exception as e:\n",
        "        print(\"Error message is {}\".format(e))\n",
        "        print(\"Invalid age\")"
      ],
      "metadata": {
        "colab": {
          "base_uri": "https://localhost:8080/"
        },
        "id": "-QYU9z-S0TtO",
        "outputId": "c88d1361-1c09-461e-c8d2-031bbb90bd6b"
      },
      "execution_count": null,
      "outputs": [
        {
          "output_type": "stream",
          "name": "stdout",
          "text": [
            "Enter the age: -5\n",
            "Error message is Age can not be less than 0\n",
            "Invalid age\n",
            "Enter the age: 10\n",
            "Your age is 10\n"
          ]
        }
      ]
    },
    {
      "cell_type": "code",
      "source": [
        "num = 10\n",
        "\n",
        "print(num % 3)\n",
        "print(num % 4)\n",
        "print(num % 5)\n",
        "print(num % 6)"
      ],
      "metadata": {
        "colab": {
          "base_uri": "https://localhost:8080/"
        },
        "id": "lsBpeehB7MkX",
        "outputId": "7f64bcfc-1454-4684-9489-27f2d865c2f6"
      },
      "execution_count": null,
      "outputs": [
        {
          "output_type": "stream",
          "name": "stdout",
          "text": [
            "1\n",
            "2\n",
            "0\n",
            "4\n"
          ]
        }
      ]
    },
    {
      "cell_type": "code",
      "source": [
        "while True:\n",
        "    try:\n",
        "        year, month, day = map(int, input(\"Enter dob(yyyy-mm-dd): \").split(\"-\"))\n",
        "        if year > 1900 and (month >= 1 and month <= 12) and (day > 0 and day <= 31):\n",
        "            if year % 4 == 0 and (year % 400 == 0 or year % 100 != 0):\n",
        "                if month == 2 and (day<=29):  \n",
        "                    print(\"Valid dob\")\n",
        "                else:\n",
        "                    raise Exception()\n",
        "            else:\n",
        "                if month == 2:\n",
        "                    if day <= 28:\n",
        "                        print(\"valid dob\")\n",
        "                    else:\n",
        "                        raise Exception()\n",
        "                else:\n",
        "                    print(\"valid dob\")\n",
        "            break\n",
        "        else:\n",
        "            raise Exception()\n",
        "    except:\n",
        "        print(\"Invalid dob\")"
      ],
      "metadata": {
        "colab": {
          "base_uri": "https://localhost:8080/"
        },
        "id": "7xl-vJKd4mnW",
        "outputId": "34d921f4-b4fc-4d7d-e139-8a67f1b6d42d"
      },
      "execution_count": null,
      "outputs": [
        {
          "output_type": "stream",
          "name": "stdout",
          "text": [
            "Enter dob(yyyy-mm-dd): 2000-02-30\n",
            "Invalid dob\n",
            "Enter dob(yyyy-mm-dd): 2000-02-29\n",
            "Valid dob\n"
          ]
        }
      ]
    },
    {
      "cell_type": "markdown",
      "source": [
        "### Classes"
      ],
      "metadata": {
        "id": "OYmzvMLowZaI"
      }
    },
    {
      "cell_type": "code",
      "source": [
        "class Person:\n",
        "    def __init__(self, name, age):\n",
        "        self.name = name\n",
        "        self.age = age\n",
        "    \n",
        "    def first_name(self):\n",
        "        return self.name.split()[0]\n",
        "    \n",
        "    def age_category(self):\n",
        "        if self.age < 18:\n",
        "            return \"Child\"\n",
        "        elif self.age >=18 and self.age < 60:\n",
        "            return \"Young person\"\n",
        "        return \"Senior citizen\""
      ],
      "metadata": {
        "id": "ylpCB0BPw-bD"
      },
      "execution_count": null,
      "outputs": []
    },
    {
      "cell_type": "code",
      "source": [
        "p1 = Person(\"John Doe\", 37)\n",
        "print(p1.first_name())\n",
        "print(p1.age_category())"
      ],
      "metadata": {
        "colab": {
          "base_uri": "https://localhost:8080/"
        },
        "id": "XLkSgHCKwh1c",
        "outputId": "c6759407-35b0-49b7-873f-bf5b93a0bb9c"
      },
      "execution_count": null,
      "outputs": [
        {
          "output_type": "stream",
          "name": "stdout",
          "text": [
            "John\n",
            "Young person\n"
          ]
        }
      ]
    },
    {
      "cell_type": "markdown",
      "source": [
        "## Intermediate"
      ],
      "metadata": {
        "id": "pXUMD_H__RBt"
      }
    },
    {
      "cell_type": "markdown",
      "source": [
        "### Pandas"
      ],
      "metadata": {
        "id": "pjhkNFF2UoFq"
      }
    },
    {
      "cell_type": "code",
      "source": [
        "df = pd.read_csv(\"https://github.com/datalaker/assets/raw/main/data/data.csv\")\n",
        "df.head(5)"
      ],
      "metadata": {
        "id": "q0SoBlRH_QTx",
        "colab": {
          "base_uri": "https://localhost:8080/",
          "height": 337
        },
        "outputId": "2ddb6fea-9f34-4749-fb6a-738cc402aeaf"
      },
      "execution_count": null,
      "outputs": [
        {
          "output_type": "execute_result",
          "data": {
            "text/plain": [
              "             name  age                          street             city  \\\n",
              "0  Jonathon Myers   41      87101 Ryan Plains Apt. 918  East Tamaraview   \n",
              "1   Richard Moses   27       255 Walker Trail Apt. 235        Ballhaven   \n",
              "2   Charles Smith   19   23460 Lauren Forges Suite 938    Hernandezside   \n",
              "3      Tammy Ford   79        848 Avila Neck Suite 892     Robbinsmouth   \n",
              "4    Kevin Becker   37  92571 Mackenzie Pine Suite 450       Wilsontown   \n",
              "\n",
              "     state    zip         lng        lat  \n",
              "0  Montana  36335  -74.764331 -33.143414  \n",
              "1   Nevada  11900  -24.597145  71.563941  \n",
              "2   Nevada  73620  160.219756  33.808708  \n",
              "3  Vermont  43351  -64.448384 -28.593652  \n",
              "4   Kansas  11496  146.620389  71.886168  "
            ],
            "text/html": [
              "\n",
              "  <div id=\"df-04467b5b-9670-4075-8a08-3e8042e945bc\">\n",
              "    <div class=\"colab-df-container\">\n",
              "      <div>\n",
              "<style scoped>\n",
              "    .dataframe tbody tr th:only-of-type {\n",
              "        vertical-align: middle;\n",
              "    }\n",
              "\n",
              "    .dataframe tbody tr th {\n",
              "        vertical-align: top;\n",
              "    }\n",
              "\n",
              "    .dataframe thead th {\n",
              "        text-align: right;\n",
              "    }\n",
              "</style>\n",
              "<table border=\"1\" class=\"dataframe\">\n",
              "  <thead>\n",
              "    <tr style=\"text-align: right;\">\n",
              "      <th></th>\n",
              "      <th>name</th>\n",
              "      <th>age</th>\n",
              "      <th>street</th>\n",
              "      <th>city</th>\n",
              "      <th>state</th>\n",
              "      <th>zip</th>\n",
              "      <th>lng</th>\n",
              "      <th>lat</th>\n",
              "    </tr>\n",
              "  </thead>\n",
              "  <tbody>\n",
              "    <tr>\n",
              "      <th>0</th>\n",
              "      <td>Jonathon Myers</td>\n",
              "      <td>41</td>\n",
              "      <td>87101 Ryan Plains Apt. 918</td>\n",
              "      <td>East Tamaraview</td>\n",
              "      <td>Montana</td>\n",
              "      <td>36335</td>\n",
              "      <td>-74.764331</td>\n",
              "      <td>-33.143414</td>\n",
              "    </tr>\n",
              "    <tr>\n",
              "      <th>1</th>\n",
              "      <td>Richard Moses</td>\n",
              "      <td>27</td>\n",
              "      <td>255 Walker Trail Apt. 235</td>\n",
              "      <td>Ballhaven</td>\n",
              "      <td>Nevada</td>\n",
              "      <td>11900</td>\n",
              "      <td>-24.597145</td>\n",
              "      <td>71.563941</td>\n",
              "    </tr>\n",
              "    <tr>\n",
              "      <th>2</th>\n",
              "      <td>Charles Smith</td>\n",
              "      <td>19</td>\n",
              "      <td>23460 Lauren Forges Suite 938</td>\n",
              "      <td>Hernandezside</td>\n",
              "      <td>Nevada</td>\n",
              "      <td>73620</td>\n",
              "      <td>160.219756</td>\n",
              "      <td>33.808708</td>\n",
              "    </tr>\n",
              "    <tr>\n",
              "      <th>3</th>\n",
              "      <td>Tammy Ford</td>\n",
              "      <td>79</td>\n",
              "      <td>848 Avila Neck Suite 892</td>\n",
              "      <td>Robbinsmouth</td>\n",
              "      <td>Vermont</td>\n",
              "      <td>43351</td>\n",
              "      <td>-64.448384</td>\n",
              "      <td>-28.593652</td>\n",
              "    </tr>\n",
              "    <tr>\n",
              "      <th>4</th>\n",
              "      <td>Kevin Becker</td>\n",
              "      <td>37</td>\n",
              "      <td>92571 Mackenzie Pine Suite 450</td>\n",
              "      <td>Wilsontown</td>\n",
              "      <td>Kansas</td>\n",
              "      <td>11496</td>\n",
              "      <td>146.620389</td>\n",
              "      <td>71.886168</td>\n",
              "    </tr>\n",
              "  </tbody>\n",
              "</table>\n",
              "</div>\n",
              "      <button class=\"colab-df-convert\" onclick=\"convertToInteractive('df-04467b5b-9670-4075-8a08-3e8042e945bc')\"\n",
              "              title=\"Convert this dataframe to an interactive table.\"\n",
              "              style=\"display:none;\">\n",
              "        \n",
              "  <svg xmlns=\"http://www.w3.org/2000/svg\" height=\"24px\"viewBox=\"0 0 24 24\"\n",
              "       width=\"24px\">\n",
              "    <path d=\"M0 0h24v24H0V0z\" fill=\"none\"/>\n",
              "    <path d=\"M18.56 5.44l.94 2.06.94-2.06 2.06-.94-2.06-.94-.94-2.06-.94 2.06-2.06.94zm-11 1L8.5 8.5l.94-2.06 2.06-.94-2.06-.94L8.5 2.5l-.94 2.06-2.06.94zm10 10l.94 2.06.94-2.06 2.06-.94-2.06-.94-.94-2.06-.94 2.06-2.06.94z\"/><path d=\"M17.41 7.96l-1.37-1.37c-.4-.4-.92-.59-1.43-.59-.52 0-1.04.2-1.43.59L10.3 9.45l-7.72 7.72c-.78.78-.78 2.05 0 2.83L4 21.41c.39.39.9.59 1.41.59.51 0 1.02-.2 1.41-.59l7.78-7.78 2.81-2.81c.8-.78.8-2.07 0-2.86zM5.41 20L4 18.59l7.72-7.72 1.47 1.35L5.41 20z\"/>\n",
              "  </svg>\n",
              "      </button>\n",
              "      \n",
              "  <style>\n",
              "    .colab-df-container {\n",
              "      display:flex;\n",
              "      flex-wrap:wrap;\n",
              "      gap: 12px;\n",
              "    }\n",
              "\n",
              "    .colab-df-convert {\n",
              "      background-color: #E8F0FE;\n",
              "      border: none;\n",
              "      border-radius: 50%;\n",
              "      cursor: pointer;\n",
              "      display: none;\n",
              "      fill: #1967D2;\n",
              "      height: 32px;\n",
              "      padding: 0 0 0 0;\n",
              "      width: 32px;\n",
              "    }\n",
              "\n",
              "    .colab-df-convert:hover {\n",
              "      background-color: #E2EBFA;\n",
              "      box-shadow: 0px 1px 2px rgba(60, 64, 67, 0.3), 0px 1px 3px 1px rgba(60, 64, 67, 0.15);\n",
              "      fill: #174EA6;\n",
              "    }\n",
              "\n",
              "    [theme=dark] .colab-df-convert {\n",
              "      background-color: #3B4455;\n",
              "      fill: #D2E3FC;\n",
              "    }\n",
              "\n",
              "    [theme=dark] .colab-df-convert:hover {\n",
              "      background-color: #434B5C;\n",
              "      box-shadow: 0px 1px 3px 1px rgba(0, 0, 0, 0.15);\n",
              "      filter: drop-shadow(0px 1px 2px rgba(0, 0, 0, 0.3));\n",
              "      fill: #FFFFFF;\n",
              "    }\n",
              "  </style>\n",
              "\n",
              "      <script>\n",
              "        const buttonEl =\n",
              "          document.querySelector('#df-04467b5b-9670-4075-8a08-3e8042e945bc button.colab-df-convert');\n",
              "        buttonEl.style.display =\n",
              "          google.colab.kernel.accessAllowed ? 'block' : 'none';\n",
              "\n",
              "        async function convertToInteractive(key) {\n",
              "          const element = document.querySelector('#df-04467b5b-9670-4075-8a08-3e8042e945bc');\n",
              "          const dataTable =\n",
              "            await google.colab.kernel.invokeFunction('convertToInteractive',\n",
              "                                                     [key], {});\n",
              "          if (!dataTable) return;\n",
              "\n",
              "          const docLinkHtml = 'Like what you see? Visit the ' +\n",
              "            '<a target=\"_blank\" href=https://colab.research.google.com/notebooks/data_table.ipynb>data table notebook</a>'\n",
              "            + ' to learn more about interactive tables.';\n",
              "          element.innerHTML = '';\n",
              "          dataTable['output_type'] = 'display_data';\n",
              "          await google.colab.output.renderOutput(dataTable, element);\n",
              "          const docLink = document.createElement('div');\n",
              "          docLink.innerHTML = docLinkHtml;\n",
              "          element.appendChild(docLink);\n",
              "        }\n",
              "      </script>\n",
              "    </div>\n",
              "  </div>\n",
              "  "
            ]
          },
          "metadata": {},
          "execution_count": 2
        }
      ]
    },
    {
      "cell_type": "code",
      "source": [
        "df['lat+lon'] = df['lng'] + df['lat']\n",
        "df.head(5)"
      ],
      "metadata": {
        "id": "fAzOg3We_QRa",
        "colab": {
          "base_uri": "https://localhost:8080/",
          "height": 458
        },
        "outputId": "42b4d41f-20f5-4d3d-9b25-d0e8e091d41a"
      },
      "execution_count": null,
      "outputs": [
        {
          "output_type": "execute_result",
          "data": {
            "text/plain": [
              "             name  age                          street             city  \\\n",
              "0  Jonathon Myers   41      87101 Ryan Plains Apt. 918  East Tamaraview   \n",
              "1   Richard Moses   27       255 Walker Trail Apt. 235        Ballhaven   \n",
              "2   Charles Smith   19   23460 Lauren Forges Suite 938    Hernandezside   \n",
              "3      Tammy Ford   79        848 Avila Neck Suite 892     Robbinsmouth   \n",
              "4    Kevin Becker   37  92571 Mackenzie Pine Suite 450       Wilsontown   \n",
              "\n",
              "     state    zip         lng        lat     lat+lon  \n",
              "0  Montana  36335  -74.764331 -33.143414 -107.907745  \n",
              "1   Nevada  11900  -24.597145  71.563941   46.966796  \n",
              "2   Nevada  73620  160.219756  33.808708  194.028464  \n",
              "3  Vermont  43351  -64.448384 -28.593652  -93.042036  \n",
              "4   Kansas  11496  146.620389  71.886168  218.506557  "
            ],
            "text/html": [
              "\n",
              "  <div id=\"df-74f62bd7-9eab-451e-88f5-83b8392fa7a4\">\n",
              "    <div class=\"colab-df-container\">\n",
              "      <div>\n",
              "<style scoped>\n",
              "    .dataframe tbody tr th:only-of-type {\n",
              "        vertical-align: middle;\n",
              "    }\n",
              "\n",
              "    .dataframe tbody tr th {\n",
              "        vertical-align: top;\n",
              "    }\n",
              "\n",
              "    .dataframe thead th {\n",
              "        text-align: right;\n",
              "    }\n",
              "</style>\n",
              "<table border=\"1\" class=\"dataframe\">\n",
              "  <thead>\n",
              "    <tr style=\"text-align: right;\">\n",
              "      <th></th>\n",
              "      <th>name</th>\n",
              "      <th>age</th>\n",
              "      <th>street</th>\n",
              "      <th>city</th>\n",
              "      <th>state</th>\n",
              "      <th>zip</th>\n",
              "      <th>lng</th>\n",
              "      <th>lat</th>\n",
              "      <th>lat+lon</th>\n",
              "    </tr>\n",
              "  </thead>\n",
              "  <tbody>\n",
              "    <tr>\n",
              "      <th>0</th>\n",
              "      <td>Jonathon Myers</td>\n",
              "      <td>41</td>\n",
              "      <td>87101 Ryan Plains Apt. 918</td>\n",
              "      <td>East Tamaraview</td>\n",
              "      <td>Montana</td>\n",
              "      <td>36335</td>\n",
              "      <td>-74.764331</td>\n",
              "      <td>-33.143414</td>\n",
              "      <td>-107.907745</td>\n",
              "    </tr>\n",
              "    <tr>\n",
              "      <th>1</th>\n",
              "      <td>Richard Moses</td>\n",
              "      <td>27</td>\n",
              "      <td>255 Walker Trail Apt. 235</td>\n",
              "      <td>Ballhaven</td>\n",
              "      <td>Nevada</td>\n",
              "      <td>11900</td>\n",
              "      <td>-24.597145</td>\n",
              "      <td>71.563941</td>\n",
              "      <td>46.966796</td>\n",
              "    </tr>\n",
              "    <tr>\n",
              "      <th>2</th>\n",
              "      <td>Charles Smith</td>\n",
              "      <td>19</td>\n",
              "      <td>23460 Lauren Forges Suite 938</td>\n",
              "      <td>Hernandezside</td>\n",
              "      <td>Nevada</td>\n",
              "      <td>73620</td>\n",
              "      <td>160.219756</td>\n",
              "      <td>33.808708</td>\n",
              "      <td>194.028464</td>\n",
              "    </tr>\n",
              "    <tr>\n",
              "      <th>3</th>\n",
              "      <td>Tammy Ford</td>\n",
              "      <td>79</td>\n",
              "      <td>848 Avila Neck Suite 892</td>\n",
              "      <td>Robbinsmouth</td>\n",
              "      <td>Vermont</td>\n",
              "      <td>43351</td>\n",
              "      <td>-64.448384</td>\n",
              "      <td>-28.593652</td>\n",
              "      <td>-93.042036</td>\n",
              "    </tr>\n",
              "    <tr>\n",
              "      <th>4</th>\n",
              "      <td>Kevin Becker</td>\n",
              "      <td>37</td>\n",
              "      <td>92571 Mackenzie Pine Suite 450</td>\n",
              "      <td>Wilsontown</td>\n",
              "      <td>Kansas</td>\n",
              "      <td>11496</td>\n",
              "      <td>146.620389</td>\n",
              "      <td>71.886168</td>\n",
              "      <td>218.506557</td>\n",
              "    </tr>\n",
              "  </tbody>\n",
              "</table>\n",
              "</div>\n",
              "      <button class=\"colab-df-convert\" onclick=\"convertToInteractive('df-74f62bd7-9eab-451e-88f5-83b8392fa7a4')\"\n",
              "              title=\"Convert this dataframe to an interactive table.\"\n",
              "              style=\"display:none;\">\n",
              "        \n",
              "  <svg xmlns=\"http://www.w3.org/2000/svg\" height=\"24px\"viewBox=\"0 0 24 24\"\n",
              "       width=\"24px\">\n",
              "    <path d=\"M0 0h24v24H0V0z\" fill=\"none\"/>\n",
              "    <path d=\"M18.56 5.44l.94 2.06.94-2.06 2.06-.94-2.06-.94-.94-2.06-.94 2.06-2.06.94zm-11 1L8.5 8.5l.94-2.06 2.06-.94-2.06-.94L8.5 2.5l-.94 2.06-2.06.94zm10 10l.94 2.06.94-2.06 2.06-.94-2.06-.94-.94-2.06-.94 2.06-2.06.94z\"/><path d=\"M17.41 7.96l-1.37-1.37c-.4-.4-.92-.59-1.43-.59-.52 0-1.04.2-1.43.59L10.3 9.45l-7.72 7.72c-.78.78-.78 2.05 0 2.83L4 21.41c.39.39.9.59 1.41.59.51 0 1.02-.2 1.41-.59l7.78-7.78 2.81-2.81c.8-.78.8-2.07 0-2.86zM5.41 20L4 18.59l7.72-7.72 1.47 1.35L5.41 20z\"/>\n",
              "  </svg>\n",
              "      </button>\n",
              "      \n",
              "  <style>\n",
              "    .colab-df-container {\n",
              "      display:flex;\n",
              "      flex-wrap:wrap;\n",
              "      gap: 12px;\n",
              "    }\n",
              "\n",
              "    .colab-df-convert {\n",
              "      background-color: #E8F0FE;\n",
              "      border: none;\n",
              "      border-radius: 50%;\n",
              "      cursor: pointer;\n",
              "      display: none;\n",
              "      fill: #1967D2;\n",
              "      height: 32px;\n",
              "      padding: 0 0 0 0;\n",
              "      width: 32px;\n",
              "    }\n",
              "\n",
              "    .colab-df-convert:hover {\n",
              "      background-color: #E2EBFA;\n",
              "      box-shadow: 0px 1px 2px rgba(60, 64, 67, 0.3), 0px 1px 3px 1px rgba(60, 64, 67, 0.15);\n",
              "      fill: #174EA6;\n",
              "    }\n",
              "\n",
              "    [theme=dark] .colab-df-convert {\n",
              "      background-color: #3B4455;\n",
              "      fill: #D2E3FC;\n",
              "    }\n",
              "\n",
              "    [theme=dark] .colab-df-convert:hover {\n",
              "      background-color: #434B5C;\n",
              "      box-shadow: 0px 1px 3px 1px rgba(0, 0, 0, 0.15);\n",
              "      filter: drop-shadow(0px 1px 2px rgba(0, 0, 0, 0.3));\n",
              "      fill: #FFFFFF;\n",
              "    }\n",
              "  </style>\n",
              "\n",
              "      <script>\n",
              "        const buttonEl =\n",
              "          document.querySelector('#df-74f62bd7-9eab-451e-88f5-83b8392fa7a4 button.colab-df-convert');\n",
              "        buttonEl.style.display =\n",
              "          google.colab.kernel.accessAllowed ? 'block' : 'none';\n",
              "\n",
              "        async function convertToInteractive(key) {\n",
              "          const element = document.querySelector('#df-74f62bd7-9eab-451e-88f5-83b8392fa7a4');\n",
              "          const dataTable =\n",
              "            await google.colab.kernel.invokeFunction('convertToInteractive',\n",
              "                                                     [key], {});\n",
              "          if (!dataTable) return;\n",
              "\n",
              "          const docLinkHtml = 'Like what you see? Visit the ' +\n",
              "            '<a target=\"_blank\" href=https://colab.research.google.com/notebooks/data_table.ipynb>data table notebook</a>'\n",
              "            + ' to learn more about interactive tables.';\n",
              "          element.innerHTML = '';\n",
              "          dataTable['output_type'] = 'display_data';\n",
              "          await google.colab.output.renderOutput(dataTable, element);\n",
              "          const docLink = document.createElement('div');\n",
              "          docLink.innerHTML = docLinkHtml;\n",
              "          element.appendChild(docLink);\n",
              "        }\n",
              "      </script>\n",
              "    </div>\n",
              "  </div>\n",
              "  "
            ]
          },
          "metadata": {},
          "execution_count": 3
        }
      ]
    },
    {
      "cell_type": "code",
      "source": [
        "df['new_col'] = df.apply(lambda row:row['lng'] + row['lat'], axis=1)\n",
        "df.head(5)"
      ],
      "metadata": {
        "colab": {
          "base_uri": "https://localhost:8080/",
          "height": 513
        },
        "id": "67sUBr39U5vI",
        "outputId": "02c9fabc-5108-4f0b-8e0a-1089ec18ac16"
      },
      "execution_count": null,
      "outputs": [
        {
          "output_type": "execute_result",
          "data": {
            "text/plain": [
              "             name  age                          street             city  \\\n",
              "0  Jonathon Myers   41      87101 Ryan Plains Apt. 918  East Tamaraview   \n",
              "1   Richard Moses   27       255 Walker Trail Apt. 235        Ballhaven   \n",
              "2   Charles Smith   19   23460 Lauren Forges Suite 938    Hernandezside   \n",
              "3      Tammy Ford   79        848 Avila Neck Suite 892     Robbinsmouth   \n",
              "4    Kevin Becker   37  92571 Mackenzie Pine Suite 450       Wilsontown   \n",
              "\n",
              "     state    zip         lng        lat     lat+lon     new_col  \n",
              "0  Montana  36335  -74.764331 -33.143414 -107.907745 -107.907745  \n",
              "1   Nevada  11900  -24.597145  71.563941   46.966796   46.966796  \n",
              "2   Nevada  73620  160.219756  33.808708  194.028464  194.028464  \n",
              "3  Vermont  43351  -64.448384 -28.593652  -93.042036  -93.042036  \n",
              "4   Kansas  11496  146.620389  71.886168  218.506557  218.506557  "
            ],
            "text/html": [
              "\n",
              "  <div id=\"df-bdb1f2bf-d695-4aa0-8ee0-09149d151de5\">\n",
              "    <div class=\"colab-df-container\">\n",
              "      <div>\n",
              "<style scoped>\n",
              "    .dataframe tbody tr th:only-of-type {\n",
              "        vertical-align: middle;\n",
              "    }\n",
              "\n",
              "    .dataframe tbody tr th {\n",
              "        vertical-align: top;\n",
              "    }\n",
              "\n",
              "    .dataframe thead th {\n",
              "        text-align: right;\n",
              "    }\n",
              "</style>\n",
              "<table border=\"1\" class=\"dataframe\">\n",
              "  <thead>\n",
              "    <tr style=\"text-align: right;\">\n",
              "      <th></th>\n",
              "      <th>name</th>\n",
              "      <th>age</th>\n",
              "      <th>street</th>\n",
              "      <th>city</th>\n",
              "      <th>state</th>\n",
              "      <th>zip</th>\n",
              "      <th>lng</th>\n",
              "      <th>lat</th>\n",
              "      <th>lat+lon</th>\n",
              "      <th>new_col</th>\n",
              "    </tr>\n",
              "  </thead>\n",
              "  <tbody>\n",
              "    <tr>\n",
              "      <th>0</th>\n",
              "      <td>Jonathon Myers</td>\n",
              "      <td>41</td>\n",
              "      <td>87101 Ryan Plains Apt. 918</td>\n",
              "      <td>East Tamaraview</td>\n",
              "      <td>Montana</td>\n",
              "      <td>36335</td>\n",
              "      <td>-74.764331</td>\n",
              "      <td>-33.143414</td>\n",
              "      <td>-107.907745</td>\n",
              "      <td>-107.907745</td>\n",
              "    </tr>\n",
              "    <tr>\n",
              "      <th>1</th>\n",
              "      <td>Richard Moses</td>\n",
              "      <td>27</td>\n",
              "      <td>255 Walker Trail Apt. 235</td>\n",
              "      <td>Ballhaven</td>\n",
              "      <td>Nevada</td>\n",
              "      <td>11900</td>\n",
              "      <td>-24.597145</td>\n",
              "      <td>71.563941</td>\n",
              "      <td>46.966796</td>\n",
              "      <td>46.966796</td>\n",
              "    </tr>\n",
              "    <tr>\n",
              "      <th>2</th>\n",
              "      <td>Charles Smith</td>\n",
              "      <td>19</td>\n",
              "      <td>23460 Lauren Forges Suite 938</td>\n",
              "      <td>Hernandezside</td>\n",
              "      <td>Nevada</td>\n",
              "      <td>73620</td>\n",
              "      <td>160.219756</td>\n",
              "      <td>33.808708</td>\n",
              "      <td>194.028464</td>\n",
              "      <td>194.028464</td>\n",
              "    </tr>\n",
              "    <tr>\n",
              "      <th>3</th>\n",
              "      <td>Tammy Ford</td>\n",
              "      <td>79</td>\n",
              "      <td>848 Avila Neck Suite 892</td>\n",
              "      <td>Robbinsmouth</td>\n",
              "      <td>Vermont</td>\n",
              "      <td>43351</td>\n",
              "      <td>-64.448384</td>\n",
              "      <td>-28.593652</td>\n",
              "      <td>-93.042036</td>\n",
              "      <td>-93.042036</td>\n",
              "    </tr>\n",
              "    <tr>\n",
              "      <th>4</th>\n",
              "      <td>Kevin Becker</td>\n",
              "      <td>37</td>\n",
              "      <td>92571 Mackenzie Pine Suite 450</td>\n",
              "      <td>Wilsontown</td>\n",
              "      <td>Kansas</td>\n",
              "      <td>11496</td>\n",
              "      <td>146.620389</td>\n",
              "      <td>71.886168</td>\n",
              "      <td>218.506557</td>\n",
              "      <td>218.506557</td>\n",
              "    </tr>\n",
              "  </tbody>\n",
              "</table>\n",
              "</div>\n",
              "      <button class=\"colab-df-convert\" onclick=\"convertToInteractive('df-bdb1f2bf-d695-4aa0-8ee0-09149d151de5')\"\n",
              "              title=\"Convert this dataframe to an interactive table.\"\n",
              "              style=\"display:none;\">\n",
              "        \n",
              "  <svg xmlns=\"http://www.w3.org/2000/svg\" height=\"24px\"viewBox=\"0 0 24 24\"\n",
              "       width=\"24px\">\n",
              "    <path d=\"M0 0h24v24H0V0z\" fill=\"none\"/>\n",
              "    <path d=\"M18.56 5.44l.94 2.06.94-2.06 2.06-.94-2.06-.94-.94-2.06-.94 2.06-2.06.94zm-11 1L8.5 8.5l.94-2.06 2.06-.94-2.06-.94L8.5 2.5l-.94 2.06-2.06.94zm10 10l.94 2.06.94-2.06 2.06-.94-2.06-.94-.94-2.06-.94 2.06-2.06.94z\"/><path d=\"M17.41 7.96l-1.37-1.37c-.4-.4-.92-.59-1.43-.59-.52 0-1.04.2-1.43.59L10.3 9.45l-7.72 7.72c-.78.78-.78 2.05 0 2.83L4 21.41c.39.39.9.59 1.41.59.51 0 1.02-.2 1.41-.59l7.78-7.78 2.81-2.81c.8-.78.8-2.07 0-2.86zM5.41 20L4 18.59l7.72-7.72 1.47 1.35L5.41 20z\"/>\n",
              "  </svg>\n",
              "      </button>\n",
              "      \n",
              "  <style>\n",
              "    .colab-df-container {\n",
              "      display:flex;\n",
              "      flex-wrap:wrap;\n",
              "      gap: 12px;\n",
              "    }\n",
              "\n",
              "    .colab-df-convert {\n",
              "      background-color: #E8F0FE;\n",
              "      border: none;\n",
              "      border-radius: 50%;\n",
              "      cursor: pointer;\n",
              "      display: none;\n",
              "      fill: #1967D2;\n",
              "      height: 32px;\n",
              "      padding: 0 0 0 0;\n",
              "      width: 32px;\n",
              "    }\n",
              "\n",
              "    .colab-df-convert:hover {\n",
              "      background-color: #E2EBFA;\n",
              "      box-shadow: 0px 1px 2px rgba(60, 64, 67, 0.3), 0px 1px 3px 1px rgba(60, 64, 67, 0.15);\n",
              "      fill: #174EA6;\n",
              "    }\n",
              "\n",
              "    [theme=dark] .colab-df-convert {\n",
              "      background-color: #3B4455;\n",
              "      fill: #D2E3FC;\n",
              "    }\n",
              "\n",
              "    [theme=dark] .colab-df-convert:hover {\n",
              "      background-color: #434B5C;\n",
              "      box-shadow: 0px 1px 3px 1px rgba(0, 0, 0, 0.15);\n",
              "      filter: drop-shadow(0px 1px 2px rgba(0, 0, 0, 0.3));\n",
              "      fill: #FFFFFF;\n",
              "    }\n",
              "  </style>\n",
              "\n",
              "      <script>\n",
              "        const buttonEl =\n",
              "          document.querySelector('#df-bdb1f2bf-d695-4aa0-8ee0-09149d151de5 button.colab-df-convert');\n",
              "        buttonEl.style.display =\n",
              "          google.colab.kernel.accessAllowed ? 'block' : 'none';\n",
              "\n",
              "        async function convertToInteractive(key) {\n",
              "          const element = document.querySelector('#df-bdb1f2bf-d695-4aa0-8ee0-09149d151de5');\n",
              "          const dataTable =\n",
              "            await google.colab.kernel.invokeFunction('convertToInteractive',\n",
              "                                                     [key], {});\n",
              "          if (!dataTable) return;\n",
              "\n",
              "          const docLinkHtml = 'Like what you see? Visit the ' +\n",
              "            '<a target=\"_blank\" href=https://colab.research.google.com/notebooks/data_table.ipynb>data table notebook</a>'\n",
              "            + ' to learn more about interactive tables.';\n",
              "          element.innerHTML = '';\n",
              "          dataTable['output_type'] = 'display_data';\n",
              "          await google.colab.output.renderOutput(dataTable, element);\n",
              "          const docLink = document.createElement('div');\n",
              "          docLink.innerHTML = docLinkHtml;\n",
              "          element.appendChild(docLink);\n",
              "        }\n",
              "      </script>\n",
              "    </div>\n",
              "  </div>\n",
              "  "
            ]
          },
          "metadata": {},
          "execution_count": 4
        }
      ]
    },
    {
      "cell_type": "code",
      "source": [
        "df.to_csv('weather.csv', index=False)"
      ],
      "metadata": {
        "id": "6wnz_JS_VAtR"
      },
      "execution_count": null,
      "outputs": []
    },
    {
      "cell_type": "code",
      "source": [
        "df.to_parquet('weather.parquet', index=False)"
      ],
      "metadata": {
        "id": "Kx19DZ-EVDbo"
      },
      "execution_count": null,
      "outputs": []
    },
    {
      "cell_type": "code",
      "source": [
        "df.to_parquet('weather.snappy.parquet', index=False, compression='snappy')"
      ],
      "metadata": {
        "id": "ZdRmajdzVHb6"
      },
      "execution_count": null,
      "outputs": []
    },
    {
      "cell_type": "markdown",
      "source": [
        "## Advnanced"
      ],
      "metadata": {
        "id": "89VH_-Yt_NCs"
      }
    },
    {
      "cell_type": "markdown",
      "source": [
        "### API"
      ],
      "metadata": {
        "id": "REVgThwABleZ"
      }
    },
    {
      "cell_type": "markdown",
      "source": [
        "#### Cryptocurrency API"
      ],
      "metadata": {
        "id": "fzj8aTsu_YBs"
      }
    },
    {
      "cell_type": "markdown",
      "source": [
        "An API lets two pieces of software talk to each other. Just like a function,  you don’t have to know how the API works only its inputs and outputs.  An essential type of API is a REST API that allows you to access resources via the internet."
      ],
      "metadata": {
        "id": "WrYGor04_ggO"
      }
    },
    {
      "cell_type": "code",
      "source": [
        "cg = CoinGeckoAPI()\n",
        "\n",
        "bitcoin_data = cg.get_coin_market_chart_by_id(id='bitcoin', vs_currency='usd', days=30)"
      ],
      "metadata": {
        "id": "AZSYD50y_Oa0"
      },
      "execution_count": null,
      "outputs": []
    },
    {
      "cell_type": "code",
      "source": [
        "type(bitcoin_data)"
      ],
      "metadata": {
        "colab": {
          "base_uri": "https://localhost:8080/"
        },
        "id": "duUxqoKjAWRw",
        "outputId": "117abac9-a1db-4d9b-fb3a-b1f027914651"
      },
      "execution_count": null,
      "outputs": [
        {
          "output_type": "execute_result",
          "data": {
            "text/plain": [
              "dict"
            ]
          },
          "metadata": {},
          "execution_count": 5
        }
      ]
    },
    {
      "cell_type": "markdown",
      "source": [
        "The response we get is in the form of a JSON which includes the price, market caps, and total volumes along with timestamps for each observation. We are focused on the prices so we will select that data.\n"
      ],
      "metadata": {
        "id": "EniexStTAbh-"
      }
    },
    {
      "cell_type": "code",
      "source": [
        "bitcoin_price_data = bitcoin_data['prices']\n",
        "\n",
        "bitcoin_price_data[0:5]"
      ],
      "metadata": {
        "colab": {
          "base_uri": "https://localhost:8080/"
        },
        "id": "wuCbNAFeAYNU",
        "outputId": "7c71aac7-aea4-471a-ab6e-efdcef1cbc7e"
      },
      "execution_count": null,
      "outputs": [
        {
          "output_type": "execute_result",
          "data": {
            "text/plain": [
              "[[1674659036700, 22437.676766780296],\n",
              " [1674662496561, 22554.235235968128],\n",
              " [1674666150603, 22655.241458162487],\n",
              " [1674669757150, 22581.523269433706],\n",
              " [1674673322486, 22702.12418805827]]"
            ]
          },
          "metadata": {},
          "execution_count": 6
        }
      ]
    },
    {
      "cell_type": "markdown",
      "source": [
        "Finally lets turn this data into a Pandas DataFrame"
      ],
      "metadata": {
        "id": "UCRSHlk1Ai0p"
      }
    },
    {
      "cell_type": "code",
      "source": [
        "data = pd.DataFrame(bitcoin_price_data, columns=['TimeStamp', 'Price'])\n",
        "data"
      ],
      "metadata": {
        "colab": {
          "base_uri": "https://localhost:8080/",
          "height": 423
        },
        "id": "sNYBFPJ1AgVa",
        "outputId": "85b04abf-7872-4dc8-b80e-216d75cf58a6"
      },
      "execution_count": null,
      "outputs": [
        {
          "output_type": "execute_result",
          "data": {
            "text/plain": [
              "         TimeStamp         Price\n",
              "0    1674659036700  22437.676767\n",
              "1    1674662496561  22554.235236\n",
              "2    1674666150603  22655.241458\n",
              "3    1674669757150  22581.523269\n",
              "4    1674673322486  22702.124188\n",
              "..             ...           ...\n",
              "720  1677236589648  23859.523937\n",
              "721  1677240239956  23864.366905\n",
              "722  1677243723401  23930.836085\n",
              "723  1677247225724  23825.030154\n",
              "724  1677251684000  23783.007546\n",
              "\n",
              "[725 rows x 2 columns]"
            ],
            "text/html": [
              "\n",
              "  <div id=\"df-64723fae-0e7e-4909-98fb-ed208a993893\">\n",
              "    <div class=\"colab-df-container\">\n",
              "      <div>\n",
              "<style scoped>\n",
              "    .dataframe tbody tr th:only-of-type {\n",
              "        vertical-align: middle;\n",
              "    }\n",
              "\n",
              "    .dataframe tbody tr th {\n",
              "        vertical-align: top;\n",
              "    }\n",
              "\n",
              "    .dataframe thead th {\n",
              "        text-align: right;\n",
              "    }\n",
              "</style>\n",
              "<table border=\"1\" class=\"dataframe\">\n",
              "  <thead>\n",
              "    <tr style=\"text-align: right;\">\n",
              "      <th></th>\n",
              "      <th>TimeStamp</th>\n",
              "      <th>Price</th>\n",
              "    </tr>\n",
              "  </thead>\n",
              "  <tbody>\n",
              "    <tr>\n",
              "      <th>0</th>\n",
              "      <td>1674659036700</td>\n",
              "      <td>22437.676767</td>\n",
              "    </tr>\n",
              "    <tr>\n",
              "      <th>1</th>\n",
              "      <td>1674662496561</td>\n",
              "      <td>22554.235236</td>\n",
              "    </tr>\n",
              "    <tr>\n",
              "      <th>2</th>\n",
              "      <td>1674666150603</td>\n",
              "      <td>22655.241458</td>\n",
              "    </tr>\n",
              "    <tr>\n",
              "      <th>3</th>\n",
              "      <td>1674669757150</td>\n",
              "      <td>22581.523269</td>\n",
              "    </tr>\n",
              "    <tr>\n",
              "      <th>4</th>\n",
              "      <td>1674673322486</td>\n",
              "      <td>22702.124188</td>\n",
              "    </tr>\n",
              "    <tr>\n",
              "      <th>...</th>\n",
              "      <td>...</td>\n",
              "      <td>...</td>\n",
              "    </tr>\n",
              "    <tr>\n",
              "      <th>720</th>\n",
              "      <td>1677236589648</td>\n",
              "      <td>23859.523937</td>\n",
              "    </tr>\n",
              "    <tr>\n",
              "      <th>721</th>\n",
              "      <td>1677240239956</td>\n",
              "      <td>23864.366905</td>\n",
              "    </tr>\n",
              "    <tr>\n",
              "      <th>722</th>\n",
              "      <td>1677243723401</td>\n",
              "      <td>23930.836085</td>\n",
              "    </tr>\n",
              "    <tr>\n",
              "      <th>723</th>\n",
              "      <td>1677247225724</td>\n",
              "      <td>23825.030154</td>\n",
              "    </tr>\n",
              "    <tr>\n",
              "      <th>724</th>\n",
              "      <td>1677251684000</td>\n",
              "      <td>23783.007546</td>\n",
              "    </tr>\n",
              "  </tbody>\n",
              "</table>\n",
              "<p>725 rows × 2 columns</p>\n",
              "</div>\n",
              "      <button class=\"colab-df-convert\" onclick=\"convertToInteractive('df-64723fae-0e7e-4909-98fb-ed208a993893')\"\n",
              "              title=\"Convert this dataframe to an interactive table.\"\n",
              "              style=\"display:none;\">\n",
              "        \n",
              "  <svg xmlns=\"http://www.w3.org/2000/svg\" height=\"24px\"viewBox=\"0 0 24 24\"\n",
              "       width=\"24px\">\n",
              "    <path d=\"M0 0h24v24H0V0z\" fill=\"none\"/>\n",
              "    <path d=\"M18.56 5.44l.94 2.06.94-2.06 2.06-.94-2.06-.94-.94-2.06-.94 2.06-2.06.94zm-11 1L8.5 8.5l.94-2.06 2.06-.94-2.06-.94L8.5 2.5l-.94 2.06-2.06.94zm10 10l.94 2.06.94-2.06 2.06-.94-2.06-.94-.94-2.06-.94 2.06-2.06.94z\"/><path d=\"M17.41 7.96l-1.37-1.37c-.4-.4-.92-.59-1.43-.59-.52 0-1.04.2-1.43.59L10.3 9.45l-7.72 7.72c-.78.78-.78 2.05 0 2.83L4 21.41c.39.39.9.59 1.41.59.51 0 1.02-.2 1.41-.59l7.78-7.78 2.81-2.81c.8-.78.8-2.07 0-2.86zM5.41 20L4 18.59l7.72-7.72 1.47 1.35L5.41 20z\"/>\n",
              "  </svg>\n",
              "      </button>\n",
              "      \n",
              "  <style>\n",
              "    .colab-df-container {\n",
              "      display:flex;\n",
              "      flex-wrap:wrap;\n",
              "      gap: 12px;\n",
              "    }\n",
              "\n",
              "    .colab-df-convert {\n",
              "      background-color: #E8F0FE;\n",
              "      border: none;\n",
              "      border-radius: 50%;\n",
              "      cursor: pointer;\n",
              "      display: none;\n",
              "      fill: #1967D2;\n",
              "      height: 32px;\n",
              "      padding: 0 0 0 0;\n",
              "      width: 32px;\n",
              "    }\n",
              "\n",
              "    .colab-df-convert:hover {\n",
              "      background-color: #E2EBFA;\n",
              "      box-shadow: 0px 1px 2px rgba(60, 64, 67, 0.3), 0px 1px 3px 1px rgba(60, 64, 67, 0.15);\n",
              "      fill: #174EA6;\n",
              "    }\n",
              "\n",
              "    [theme=dark] .colab-df-convert {\n",
              "      background-color: #3B4455;\n",
              "      fill: #D2E3FC;\n",
              "    }\n",
              "\n",
              "    [theme=dark] .colab-df-convert:hover {\n",
              "      background-color: #434B5C;\n",
              "      box-shadow: 0px 1px 3px 1px rgba(0, 0, 0, 0.15);\n",
              "      filter: drop-shadow(0px 1px 2px rgba(0, 0, 0, 0.3));\n",
              "      fill: #FFFFFF;\n",
              "    }\n",
              "  </style>\n",
              "\n",
              "      <script>\n",
              "        const buttonEl =\n",
              "          document.querySelector('#df-64723fae-0e7e-4909-98fb-ed208a993893 button.colab-df-convert');\n",
              "        buttonEl.style.display =\n",
              "          google.colab.kernel.accessAllowed ? 'block' : 'none';\n",
              "\n",
              "        async function convertToInteractive(key) {\n",
              "          const element = document.querySelector('#df-64723fae-0e7e-4909-98fb-ed208a993893');\n",
              "          const dataTable =\n",
              "            await google.colab.kernel.invokeFunction('convertToInteractive',\n",
              "                                                     [key], {});\n",
              "          if (!dataTable) return;\n",
              "\n",
              "          const docLinkHtml = 'Like what you see? Visit the ' +\n",
              "            '<a target=\"_blank\" href=https://colab.research.google.com/notebooks/data_table.ipynb>data table notebook</a>'\n",
              "            + ' to learn more about interactive tables.';\n",
              "          element.innerHTML = '';\n",
              "          dataTable['output_type'] = 'display_data';\n",
              "          await google.colab.output.renderOutput(dataTable, element);\n",
              "          const docLink = document.createElement('div');\n",
              "          docLink.innerHTML = docLinkHtml;\n",
              "          element.appendChild(docLink);\n",
              "        }\n",
              "      </script>\n",
              "    </div>\n",
              "  </div>\n",
              "  "
            ]
          },
          "metadata": {},
          "execution_count": 7
        }
      ]
    },
    {
      "cell_type": "markdown",
      "source": [
        "Now that we have the DataFrame we will convert the timestamp to datetime and save it as a column called `Date` We will map our `unix_to_datetime` to each timestamp and convert it to a readable datetime.\n"
      ],
      "metadata": {
        "id": "ogCnr2yYAstW"
      }
    },
    {
      "cell_type": "code",
      "source": [
        "data['date'] = data['TimeStamp'].apply(lambda d: datetime.date.fromtimestamp(d/1000.0))\n",
        "data"
      ],
      "metadata": {
        "colab": {
          "base_uri": "https://localhost:8080/",
          "height": 423
        },
        "id": "AYen-DiqApWO",
        "outputId": "292c8425-ed6e-45dc-8f4a-40a10213a01c"
      },
      "execution_count": null,
      "outputs": [
        {
          "output_type": "execute_result",
          "data": {
            "text/plain": [
              "         TimeStamp         Price        date\n",
              "0    1674659036700  22437.676767  2023-01-25\n",
              "1    1674662496561  22554.235236  2023-01-25\n",
              "2    1674666150603  22655.241458  2023-01-25\n",
              "3    1674669757150  22581.523269  2023-01-25\n",
              "4    1674673322486  22702.124188  2023-01-25\n",
              "..             ...           ...         ...\n",
              "720  1677236589648  23859.523937  2023-02-24\n",
              "721  1677240239956  23864.366905  2023-02-24\n",
              "722  1677243723401  23930.836085  2023-02-24\n",
              "723  1677247225724  23825.030154  2023-02-24\n",
              "724  1677251684000  23783.007546  2023-02-24\n",
              "\n",
              "[725 rows x 3 columns]"
            ],
            "text/html": [
              "\n",
              "  <div id=\"df-015da27f-1930-45e8-9eff-4cdae9ae68ad\">\n",
              "    <div class=\"colab-df-container\">\n",
              "      <div>\n",
              "<style scoped>\n",
              "    .dataframe tbody tr th:only-of-type {\n",
              "        vertical-align: middle;\n",
              "    }\n",
              "\n",
              "    .dataframe tbody tr th {\n",
              "        vertical-align: top;\n",
              "    }\n",
              "\n",
              "    .dataframe thead th {\n",
              "        text-align: right;\n",
              "    }\n",
              "</style>\n",
              "<table border=\"1\" class=\"dataframe\">\n",
              "  <thead>\n",
              "    <tr style=\"text-align: right;\">\n",
              "      <th></th>\n",
              "      <th>TimeStamp</th>\n",
              "      <th>Price</th>\n",
              "      <th>date</th>\n",
              "    </tr>\n",
              "  </thead>\n",
              "  <tbody>\n",
              "    <tr>\n",
              "      <th>0</th>\n",
              "      <td>1674659036700</td>\n",
              "      <td>22437.676767</td>\n",
              "      <td>2023-01-25</td>\n",
              "    </tr>\n",
              "    <tr>\n",
              "      <th>1</th>\n",
              "      <td>1674662496561</td>\n",
              "      <td>22554.235236</td>\n",
              "      <td>2023-01-25</td>\n",
              "    </tr>\n",
              "    <tr>\n",
              "      <th>2</th>\n",
              "      <td>1674666150603</td>\n",
              "      <td>22655.241458</td>\n",
              "      <td>2023-01-25</td>\n",
              "    </tr>\n",
              "    <tr>\n",
              "      <th>3</th>\n",
              "      <td>1674669757150</td>\n",
              "      <td>22581.523269</td>\n",
              "      <td>2023-01-25</td>\n",
              "    </tr>\n",
              "    <tr>\n",
              "      <th>4</th>\n",
              "      <td>1674673322486</td>\n",
              "      <td>22702.124188</td>\n",
              "      <td>2023-01-25</td>\n",
              "    </tr>\n",
              "    <tr>\n",
              "      <th>...</th>\n",
              "      <td>...</td>\n",
              "      <td>...</td>\n",
              "      <td>...</td>\n",
              "    </tr>\n",
              "    <tr>\n",
              "      <th>720</th>\n",
              "      <td>1677236589648</td>\n",
              "      <td>23859.523937</td>\n",
              "      <td>2023-02-24</td>\n",
              "    </tr>\n",
              "    <tr>\n",
              "      <th>721</th>\n",
              "      <td>1677240239956</td>\n",
              "      <td>23864.366905</td>\n",
              "      <td>2023-02-24</td>\n",
              "    </tr>\n",
              "    <tr>\n",
              "      <th>722</th>\n",
              "      <td>1677243723401</td>\n",
              "      <td>23930.836085</td>\n",
              "      <td>2023-02-24</td>\n",
              "    </tr>\n",
              "    <tr>\n",
              "      <th>723</th>\n",
              "      <td>1677247225724</td>\n",
              "      <td>23825.030154</td>\n",
              "      <td>2023-02-24</td>\n",
              "    </tr>\n",
              "    <tr>\n",
              "      <th>724</th>\n",
              "      <td>1677251684000</td>\n",
              "      <td>23783.007546</td>\n",
              "      <td>2023-02-24</td>\n",
              "    </tr>\n",
              "  </tbody>\n",
              "</table>\n",
              "<p>725 rows × 3 columns</p>\n",
              "</div>\n",
              "      <button class=\"colab-df-convert\" onclick=\"convertToInteractive('df-015da27f-1930-45e8-9eff-4cdae9ae68ad')\"\n",
              "              title=\"Convert this dataframe to an interactive table.\"\n",
              "              style=\"display:none;\">\n",
              "        \n",
              "  <svg xmlns=\"http://www.w3.org/2000/svg\" height=\"24px\"viewBox=\"0 0 24 24\"\n",
              "       width=\"24px\">\n",
              "    <path d=\"M0 0h24v24H0V0z\" fill=\"none\"/>\n",
              "    <path d=\"M18.56 5.44l.94 2.06.94-2.06 2.06-.94-2.06-.94-.94-2.06-.94 2.06-2.06.94zm-11 1L8.5 8.5l.94-2.06 2.06-.94-2.06-.94L8.5 2.5l-.94 2.06-2.06.94zm10 10l.94 2.06.94-2.06 2.06-.94-2.06-.94-.94-2.06-.94 2.06-2.06.94z\"/><path d=\"M17.41 7.96l-1.37-1.37c-.4-.4-.92-.59-1.43-.59-.52 0-1.04.2-1.43.59L10.3 9.45l-7.72 7.72c-.78.78-.78 2.05 0 2.83L4 21.41c.39.39.9.59 1.41.59.51 0 1.02-.2 1.41-.59l7.78-7.78 2.81-2.81c.8-.78.8-2.07 0-2.86zM5.41 20L4 18.59l7.72-7.72 1.47 1.35L5.41 20z\"/>\n",
              "  </svg>\n",
              "      </button>\n",
              "      \n",
              "  <style>\n",
              "    .colab-df-container {\n",
              "      display:flex;\n",
              "      flex-wrap:wrap;\n",
              "      gap: 12px;\n",
              "    }\n",
              "\n",
              "    .colab-df-convert {\n",
              "      background-color: #E8F0FE;\n",
              "      border: none;\n",
              "      border-radius: 50%;\n",
              "      cursor: pointer;\n",
              "      display: none;\n",
              "      fill: #1967D2;\n",
              "      height: 32px;\n",
              "      padding: 0 0 0 0;\n",
              "      width: 32px;\n",
              "    }\n",
              "\n",
              "    .colab-df-convert:hover {\n",
              "      background-color: #E2EBFA;\n",
              "      box-shadow: 0px 1px 2px rgba(60, 64, 67, 0.3), 0px 1px 3px 1px rgba(60, 64, 67, 0.15);\n",
              "      fill: #174EA6;\n",
              "    }\n",
              "\n",
              "    [theme=dark] .colab-df-convert {\n",
              "      background-color: #3B4455;\n",
              "      fill: #D2E3FC;\n",
              "    }\n",
              "\n",
              "    [theme=dark] .colab-df-convert:hover {\n",
              "      background-color: #434B5C;\n",
              "      box-shadow: 0px 1px 3px 1px rgba(0, 0, 0, 0.15);\n",
              "      filter: drop-shadow(0px 1px 2px rgba(0, 0, 0, 0.3));\n",
              "      fill: #FFFFFF;\n",
              "    }\n",
              "  </style>\n",
              "\n",
              "      <script>\n",
              "        const buttonEl =\n",
              "          document.querySelector('#df-015da27f-1930-45e8-9eff-4cdae9ae68ad button.colab-df-convert');\n",
              "        buttonEl.style.display =\n",
              "          google.colab.kernel.accessAllowed ? 'block' : 'none';\n",
              "\n",
              "        async function convertToInteractive(key) {\n",
              "          const element = document.querySelector('#df-015da27f-1930-45e8-9eff-4cdae9ae68ad');\n",
              "          const dataTable =\n",
              "            await google.colab.kernel.invokeFunction('convertToInteractive',\n",
              "                                                     [key], {});\n",
              "          if (!dataTable) return;\n",
              "\n",
              "          const docLinkHtml = 'Like what you see? Visit the ' +\n",
              "            '<a target=\"_blank\" href=https://colab.research.google.com/notebooks/data_table.ipynb>data table notebook</a>'\n",
              "            + ' to learn more about interactive tables.';\n",
              "          element.innerHTML = '';\n",
              "          dataTable['output_type'] = 'display_data';\n",
              "          await google.colab.output.renderOutput(dataTable, element);\n",
              "          const docLink = document.createElement('div');\n",
              "          docLink.innerHTML = docLinkHtml;\n",
              "          element.appendChild(docLink);\n",
              "        }\n",
              "      </script>\n",
              "    </div>\n",
              "  </div>\n",
              "  "
            ]
          },
          "metadata": {},
          "execution_count": 8
        }
      ]
    },
    {
      "cell_type": "markdown",
      "source": [
        "Using this modified dataset we can now group by the `Date` and find the min, max, open, and close for the candlesticks."
      ],
      "metadata": {
        "id": "BmT-78enBBbH"
      }
    },
    {
      "cell_type": "code",
      "source": [
        "candlestick_data = data.groupby(data.date, as_index=False).agg({\"Price\": ['min', 'max', 'first', 'last']})\n",
        "candlestick_data"
      ],
      "metadata": {
        "colab": {
          "base_uri": "https://localhost:8080/",
          "height": 1000
        },
        "id": "4HZiQauhA8jF",
        "outputId": "4feaed17-a0e2-4851-b542-103326123f01"
      },
      "execution_count": null,
      "outputs": [
        {
          "output_type": "execute_result",
          "data": {
            "text/plain": [
              "          date         Price                                          \n",
              "                         min           max         first          last\n",
              "0   2023-01-25  22437.676767  23399.023333  22437.676767  22888.682509\n",
              "1   2023-01-26  22950.860621  23199.748318  23073.579086  23015.901549\n",
              "2   2023-01-27  22651.832046  23284.281217  23037.802893  23032.513357\n",
              "3   2023-01-28  22954.372104  23147.844295  23084.508148  23002.994002\n",
              "4   2023-01-29  23008.078799  23907.560620  23008.078799  23769.905913\n",
              "5   2023-01-30  22704.734249  23755.231402  23755.231402  22704.734249\n",
              "6   2023-01-31  22783.222755  23189.694720  22846.018222  23021.203330\n",
              "7   2023-02-01  22980.516633  23723.290222  23137.323554  23708.528154\n",
              "8   2023-02-02  23584.484146  24182.858615  23725.161796  23644.899710\n",
              "9   2023-02-03  23353.764868  23652.415674  23519.655156  23412.276206\n",
              "10  2023-02-04  23304.928359  23498.984032  23438.134391  23415.291170\n",
              "11  2023-02-05  22878.854159  23398.869246  23339.608294  22988.253154\n",
              "12  2023-02-06  22742.644242  23060.400193  22947.523793  22906.739698\n",
              "13  2023-02-07  22786.483006  23610.185929  22786.483006  23205.900533\n",
              "14  2023-02-08  22871.103325  23310.172649  23259.399425  22957.553733\n",
              "15  2023-02-09  21844.198228  23009.061325  22947.507829  21844.198228\n",
              "16  2023-02-10  21499.661732  21958.603366  21809.953941  21518.879041\n",
              "17  2023-02-11  21643.699159  21851.016108  21643.699159  21851.016108\n",
              "18  2023-02-12  21792.247987  22077.091347  21889.579131  21829.311446\n",
              "19  2023-02-13  21470.742475  21899.570907  21779.874404  21654.221682\n",
              "20  2023-02-14  21687.029688  22275.827533  21807.834275  22201.004921\n",
              "21  2023-02-15  22096.144734  24122.186290  22220.070997  24104.328600\n",
              "22  2023-02-16  23949.132669  24960.697616  24307.875102  23949.132669\n",
              "23  2023-02-17  23666.448646  24783.677812  23756.907282  24597.101700\n",
              "24  2023-02-18  24485.686700  24695.038684  24628.824552  24614.831210\n",
              "25  2023-02-19  24447.433278  24941.421349  24635.850030  24480.533434\n",
              "26  2023-02-20  24228.784427  24972.047000  24322.563258  24694.998348\n",
              "27  2023-02-21  24216.199315  24982.455935  24791.174738  24370.932551\n",
              "28  2023-02-22  23688.237676  24417.387036  24417.387036  24090.251961\n",
              "29  2023-02-23  23807.757151  24631.747484  24146.101365  23807.757151\n",
              "30  2023-02-24  23783.007546  24021.954249  23951.110984  23783.007546"
            ],
            "text/html": [
              "\n",
              "  <div id=\"df-7c619461-362b-492c-8e53-424c53ff948a\">\n",
              "    <div class=\"colab-df-container\">\n",
              "      <div>\n",
              "<style scoped>\n",
              "    .dataframe tbody tr th:only-of-type {\n",
              "        vertical-align: middle;\n",
              "    }\n",
              "\n",
              "    .dataframe tbody tr th {\n",
              "        vertical-align: top;\n",
              "    }\n",
              "\n",
              "    .dataframe thead tr th {\n",
              "        text-align: left;\n",
              "    }\n",
              "</style>\n",
              "<table border=\"1\" class=\"dataframe\">\n",
              "  <thead>\n",
              "    <tr>\n",
              "      <th></th>\n",
              "      <th>date</th>\n",
              "      <th colspan=\"4\" halign=\"left\">Price</th>\n",
              "    </tr>\n",
              "    <tr>\n",
              "      <th></th>\n",
              "      <th></th>\n",
              "      <th>min</th>\n",
              "      <th>max</th>\n",
              "      <th>first</th>\n",
              "      <th>last</th>\n",
              "    </tr>\n",
              "  </thead>\n",
              "  <tbody>\n",
              "    <tr>\n",
              "      <th>0</th>\n",
              "      <td>2023-01-25</td>\n",
              "      <td>22437.676767</td>\n",
              "      <td>23399.023333</td>\n",
              "      <td>22437.676767</td>\n",
              "      <td>22888.682509</td>\n",
              "    </tr>\n",
              "    <tr>\n",
              "      <th>1</th>\n",
              "      <td>2023-01-26</td>\n",
              "      <td>22950.860621</td>\n",
              "      <td>23199.748318</td>\n",
              "      <td>23073.579086</td>\n",
              "      <td>23015.901549</td>\n",
              "    </tr>\n",
              "    <tr>\n",
              "      <th>2</th>\n",
              "      <td>2023-01-27</td>\n",
              "      <td>22651.832046</td>\n",
              "      <td>23284.281217</td>\n",
              "      <td>23037.802893</td>\n",
              "      <td>23032.513357</td>\n",
              "    </tr>\n",
              "    <tr>\n",
              "      <th>3</th>\n",
              "      <td>2023-01-28</td>\n",
              "      <td>22954.372104</td>\n",
              "      <td>23147.844295</td>\n",
              "      <td>23084.508148</td>\n",
              "      <td>23002.994002</td>\n",
              "    </tr>\n",
              "    <tr>\n",
              "      <th>4</th>\n",
              "      <td>2023-01-29</td>\n",
              "      <td>23008.078799</td>\n",
              "      <td>23907.560620</td>\n",
              "      <td>23008.078799</td>\n",
              "      <td>23769.905913</td>\n",
              "    </tr>\n",
              "    <tr>\n",
              "      <th>5</th>\n",
              "      <td>2023-01-30</td>\n",
              "      <td>22704.734249</td>\n",
              "      <td>23755.231402</td>\n",
              "      <td>23755.231402</td>\n",
              "      <td>22704.734249</td>\n",
              "    </tr>\n",
              "    <tr>\n",
              "      <th>6</th>\n",
              "      <td>2023-01-31</td>\n",
              "      <td>22783.222755</td>\n",
              "      <td>23189.694720</td>\n",
              "      <td>22846.018222</td>\n",
              "      <td>23021.203330</td>\n",
              "    </tr>\n",
              "    <tr>\n",
              "      <th>7</th>\n",
              "      <td>2023-02-01</td>\n",
              "      <td>22980.516633</td>\n",
              "      <td>23723.290222</td>\n",
              "      <td>23137.323554</td>\n",
              "      <td>23708.528154</td>\n",
              "    </tr>\n",
              "    <tr>\n",
              "      <th>8</th>\n",
              "      <td>2023-02-02</td>\n",
              "      <td>23584.484146</td>\n",
              "      <td>24182.858615</td>\n",
              "      <td>23725.161796</td>\n",
              "      <td>23644.899710</td>\n",
              "    </tr>\n",
              "    <tr>\n",
              "      <th>9</th>\n",
              "      <td>2023-02-03</td>\n",
              "      <td>23353.764868</td>\n",
              "      <td>23652.415674</td>\n",
              "      <td>23519.655156</td>\n",
              "      <td>23412.276206</td>\n",
              "    </tr>\n",
              "    <tr>\n",
              "      <th>10</th>\n",
              "      <td>2023-02-04</td>\n",
              "      <td>23304.928359</td>\n",
              "      <td>23498.984032</td>\n",
              "      <td>23438.134391</td>\n",
              "      <td>23415.291170</td>\n",
              "    </tr>\n",
              "    <tr>\n",
              "      <th>11</th>\n",
              "      <td>2023-02-05</td>\n",
              "      <td>22878.854159</td>\n",
              "      <td>23398.869246</td>\n",
              "      <td>23339.608294</td>\n",
              "      <td>22988.253154</td>\n",
              "    </tr>\n",
              "    <tr>\n",
              "      <th>12</th>\n",
              "      <td>2023-02-06</td>\n",
              "      <td>22742.644242</td>\n",
              "      <td>23060.400193</td>\n",
              "      <td>22947.523793</td>\n",
              "      <td>22906.739698</td>\n",
              "    </tr>\n",
              "    <tr>\n",
              "      <th>13</th>\n",
              "      <td>2023-02-07</td>\n",
              "      <td>22786.483006</td>\n",
              "      <td>23610.185929</td>\n",
              "      <td>22786.483006</td>\n",
              "      <td>23205.900533</td>\n",
              "    </tr>\n",
              "    <tr>\n",
              "      <th>14</th>\n",
              "      <td>2023-02-08</td>\n",
              "      <td>22871.103325</td>\n",
              "      <td>23310.172649</td>\n",
              "      <td>23259.399425</td>\n",
              "      <td>22957.553733</td>\n",
              "    </tr>\n",
              "    <tr>\n",
              "      <th>15</th>\n",
              "      <td>2023-02-09</td>\n",
              "      <td>21844.198228</td>\n",
              "      <td>23009.061325</td>\n",
              "      <td>22947.507829</td>\n",
              "      <td>21844.198228</td>\n",
              "    </tr>\n",
              "    <tr>\n",
              "      <th>16</th>\n",
              "      <td>2023-02-10</td>\n",
              "      <td>21499.661732</td>\n",
              "      <td>21958.603366</td>\n",
              "      <td>21809.953941</td>\n",
              "      <td>21518.879041</td>\n",
              "    </tr>\n",
              "    <tr>\n",
              "      <th>17</th>\n",
              "      <td>2023-02-11</td>\n",
              "      <td>21643.699159</td>\n",
              "      <td>21851.016108</td>\n",
              "      <td>21643.699159</td>\n",
              "      <td>21851.016108</td>\n",
              "    </tr>\n",
              "    <tr>\n",
              "      <th>18</th>\n",
              "      <td>2023-02-12</td>\n",
              "      <td>21792.247987</td>\n",
              "      <td>22077.091347</td>\n",
              "      <td>21889.579131</td>\n",
              "      <td>21829.311446</td>\n",
              "    </tr>\n",
              "    <tr>\n",
              "      <th>19</th>\n",
              "      <td>2023-02-13</td>\n",
              "      <td>21470.742475</td>\n",
              "      <td>21899.570907</td>\n",
              "      <td>21779.874404</td>\n",
              "      <td>21654.221682</td>\n",
              "    </tr>\n",
              "    <tr>\n",
              "      <th>20</th>\n",
              "      <td>2023-02-14</td>\n",
              "      <td>21687.029688</td>\n",
              "      <td>22275.827533</td>\n",
              "      <td>21807.834275</td>\n",
              "      <td>22201.004921</td>\n",
              "    </tr>\n",
              "    <tr>\n",
              "      <th>21</th>\n",
              "      <td>2023-02-15</td>\n",
              "      <td>22096.144734</td>\n",
              "      <td>24122.186290</td>\n",
              "      <td>22220.070997</td>\n",
              "      <td>24104.328600</td>\n",
              "    </tr>\n",
              "    <tr>\n",
              "      <th>22</th>\n",
              "      <td>2023-02-16</td>\n",
              "      <td>23949.132669</td>\n",
              "      <td>24960.697616</td>\n",
              "      <td>24307.875102</td>\n",
              "      <td>23949.132669</td>\n",
              "    </tr>\n",
              "    <tr>\n",
              "      <th>23</th>\n",
              "      <td>2023-02-17</td>\n",
              "      <td>23666.448646</td>\n",
              "      <td>24783.677812</td>\n",
              "      <td>23756.907282</td>\n",
              "      <td>24597.101700</td>\n",
              "    </tr>\n",
              "    <tr>\n",
              "      <th>24</th>\n",
              "      <td>2023-02-18</td>\n",
              "      <td>24485.686700</td>\n",
              "      <td>24695.038684</td>\n",
              "      <td>24628.824552</td>\n",
              "      <td>24614.831210</td>\n",
              "    </tr>\n",
              "    <tr>\n",
              "      <th>25</th>\n",
              "      <td>2023-02-19</td>\n",
              "      <td>24447.433278</td>\n",
              "      <td>24941.421349</td>\n",
              "      <td>24635.850030</td>\n",
              "      <td>24480.533434</td>\n",
              "    </tr>\n",
              "    <tr>\n",
              "      <th>26</th>\n",
              "      <td>2023-02-20</td>\n",
              "      <td>24228.784427</td>\n",
              "      <td>24972.047000</td>\n",
              "      <td>24322.563258</td>\n",
              "      <td>24694.998348</td>\n",
              "    </tr>\n",
              "    <tr>\n",
              "      <th>27</th>\n",
              "      <td>2023-02-21</td>\n",
              "      <td>24216.199315</td>\n",
              "      <td>24982.455935</td>\n",
              "      <td>24791.174738</td>\n",
              "      <td>24370.932551</td>\n",
              "    </tr>\n",
              "    <tr>\n",
              "      <th>28</th>\n",
              "      <td>2023-02-22</td>\n",
              "      <td>23688.237676</td>\n",
              "      <td>24417.387036</td>\n",
              "      <td>24417.387036</td>\n",
              "      <td>24090.251961</td>\n",
              "    </tr>\n",
              "    <tr>\n",
              "      <th>29</th>\n",
              "      <td>2023-02-23</td>\n",
              "      <td>23807.757151</td>\n",
              "      <td>24631.747484</td>\n",
              "      <td>24146.101365</td>\n",
              "      <td>23807.757151</td>\n",
              "    </tr>\n",
              "    <tr>\n",
              "      <th>30</th>\n",
              "      <td>2023-02-24</td>\n",
              "      <td>23783.007546</td>\n",
              "      <td>24021.954249</td>\n",
              "      <td>23951.110984</td>\n",
              "      <td>23783.007546</td>\n",
              "    </tr>\n",
              "  </tbody>\n",
              "</table>\n",
              "</div>\n",
              "      <button class=\"colab-df-convert\" onclick=\"convertToInteractive('df-7c619461-362b-492c-8e53-424c53ff948a')\"\n",
              "              title=\"Convert this dataframe to an interactive table.\"\n",
              "              style=\"display:none;\">\n",
              "        \n",
              "  <svg xmlns=\"http://www.w3.org/2000/svg\" height=\"24px\"viewBox=\"0 0 24 24\"\n",
              "       width=\"24px\">\n",
              "    <path d=\"M0 0h24v24H0V0z\" fill=\"none\"/>\n",
              "    <path d=\"M18.56 5.44l.94 2.06.94-2.06 2.06-.94-2.06-.94-.94-2.06-.94 2.06-2.06.94zm-11 1L8.5 8.5l.94-2.06 2.06-.94-2.06-.94L8.5 2.5l-.94 2.06-2.06.94zm10 10l.94 2.06.94-2.06 2.06-.94-2.06-.94-.94-2.06-.94 2.06-2.06.94z\"/><path d=\"M17.41 7.96l-1.37-1.37c-.4-.4-.92-.59-1.43-.59-.52 0-1.04.2-1.43.59L10.3 9.45l-7.72 7.72c-.78.78-.78 2.05 0 2.83L4 21.41c.39.39.9.59 1.41.59.51 0 1.02-.2 1.41-.59l7.78-7.78 2.81-2.81c.8-.78.8-2.07 0-2.86zM5.41 20L4 18.59l7.72-7.72 1.47 1.35L5.41 20z\"/>\n",
              "  </svg>\n",
              "      </button>\n",
              "      \n",
              "  <style>\n",
              "    .colab-df-container {\n",
              "      display:flex;\n",
              "      flex-wrap:wrap;\n",
              "      gap: 12px;\n",
              "    }\n",
              "\n",
              "    .colab-df-convert {\n",
              "      background-color: #E8F0FE;\n",
              "      border: none;\n",
              "      border-radius: 50%;\n",
              "      cursor: pointer;\n",
              "      display: none;\n",
              "      fill: #1967D2;\n",
              "      height: 32px;\n",
              "      padding: 0 0 0 0;\n",
              "      width: 32px;\n",
              "    }\n",
              "\n",
              "    .colab-df-convert:hover {\n",
              "      background-color: #E2EBFA;\n",
              "      box-shadow: 0px 1px 2px rgba(60, 64, 67, 0.3), 0px 1px 3px 1px rgba(60, 64, 67, 0.15);\n",
              "      fill: #174EA6;\n",
              "    }\n",
              "\n",
              "    [theme=dark] .colab-df-convert {\n",
              "      background-color: #3B4455;\n",
              "      fill: #D2E3FC;\n",
              "    }\n",
              "\n",
              "    [theme=dark] .colab-df-convert:hover {\n",
              "      background-color: #434B5C;\n",
              "      box-shadow: 0px 1px 3px 1px rgba(0, 0, 0, 0.15);\n",
              "      filter: drop-shadow(0px 1px 2px rgba(0, 0, 0, 0.3));\n",
              "      fill: #FFFFFF;\n",
              "    }\n",
              "  </style>\n",
              "\n",
              "      <script>\n",
              "        const buttonEl =\n",
              "          document.querySelector('#df-7c619461-362b-492c-8e53-424c53ff948a button.colab-df-convert');\n",
              "        buttonEl.style.display =\n",
              "          google.colab.kernel.accessAllowed ? 'block' : 'none';\n",
              "\n",
              "        async function convertToInteractive(key) {\n",
              "          const element = document.querySelector('#df-7c619461-362b-492c-8e53-424c53ff948a');\n",
              "          const dataTable =\n",
              "            await google.colab.kernel.invokeFunction('convertToInteractive',\n",
              "                                                     [key], {});\n",
              "          if (!dataTable) return;\n",
              "\n",
              "          const docLinkHtml = 'Like what you see? Visit the ' +\n",
              "            '<a target=\"_blank\" href=https://colab.research.google.com/notebooks/data_table.ipynb>data table notebook</a>'\n",
              "            + ' to learn more about interactive tables.';\n",
              "          element.innerHTML = '';\n",
              "          dataTable['output_type'] = 'display_data';\n",
              "          await google.colab.output.renderOutput(dataTable, element);\n",
              "          const docLink = document.createElement('div');\n",
              "          docLink.innerHTML = docLinkHtml;\n",
              "          element.appendChild(docLink);\n",
              "        }\n",
              "      </script>\n",
              "    </div>\n",
              "  </div>\n",
              "  "
            ]
          },
          "metadata": {},
          "execution_count": 9
        }
      ]
    },
    {
      "cell_type": "markdown",
      "source": [
        "Finally we are now ready to use plotly to create our Candlestick Chart"
      ],
      "metadata": {
        "id": "jgxhNvIuBJyY"
      }
    },
    {
      "cell_type": "code",
      "source": [
        "fig = go.Figure(data=[go.Candlestick(x=candlestick_data['date'],\n",
        "                open=candlestick_data['Price']['first'], \n",
        "                high=candlestick_data['Price']['max'],\n",
        "                low=candlestick_data['Price']['min'], \n",
        "                close=candlestick_data['Price']['last'])\n",
        "                ])\n",
        "\n",
        "fig.update_layout(xaxis_rangeslider_visible=False)\n",
        "\n",
        "fig.show()"
      ],
      "metadata": {
        "colab": {
          "base_uri": "https://localhost:8080/",
          "height": 542
        },
        "id": "Uj67awo4BFrh",
        "outputId": "5b409ddd-f4f6-460d-8402-3f6399c853c8"
      },
      "execution_count": null,
      "outputs": [
        {
          "output_type": "display_data",
          "data": {
            "text/html": [
              "<html>\n",
              "<head><meta charset=\"utf-8\" /></head>\n",
              "<body>\n",
              "    <div>            <script src=\"https://cdnjs.cloudflare.com/ajax/libs/mathjax/2.7.5/MathJax.js?config=TeX-AMS-MML_SVG\"></script><script type=\"text/javascript\">if (window.MathJax) {MathJax.Hub.Config({SVG: {font: \"STIX-Web\"}});}</script>                <script type=\"text/javascript\">window.PlotlyConfig = {MathJaxConfig: 'local'};</script>\n",
              "        <script src=\"https://cdn.plot.ly/plotly-2.8.3.min.js\"></script>                <div id=\"81a31af2-e359-4f0d-8b7c-f788d80b266b\" class=\"plotly-graph-div\" style=\"height:525px; width:100%;\"></div>            <script type=\"text/javascript\">                                    window.PLOTLYENV=window.PLOTLYENV || {};                                    if (document.getElementById(\"81a31af2-e359-4f0d-8b7c-f788d80b266b\")) {                    Plotly.newPlot(                        \"81a31af2-e359-4f0d-8b7c-f788d80b266b\",                        [{\"close\":[22888.68250881053,23015.901548681453,23032.513357294472,23002.99400172966,23769.90591335465,22704.73424922917,23021.203330196353,23708.528154342304,23644.899709666668,23412.27620583145,23415.29117042414,22988.253153536996,22906.739698385736,23205.90053334457,22957.553732646666,21844.198227891193,21518.879040935193,21851.016108172767,21829.311445993622,21654.22168207061,22201.004921354484,24104.32860023135,23949.132668696413,24597.1017002252,24614.831209774173,24480.53343383269,24694.998348364225,24370.932550612804,24090.251960652262,23807.757150774065,23783.007545771743],\"high\":[23399.023332793633,23199.74831839161,23284.28121653886,23147.84429509763,23907.560619537162,23755.23140156847,23189.694719925017,23723.290221980456,24182.858615243647,23652.415674206914,23498.984032068227,23398.869246079026,23060.40019288495,23610.185929260544,23310.172648744316,23009.06132473836,21958.603365979103,21851.016108172767,22077.091346794103,21899.57090660795,22275.827533061172,24122.186289762478,24960.697615793375,24783.677812278624,24695.038684187966,24941.421348504064,24972.047000210994,24982.455934648817,24417.38703630947,24631.74748429756,24021.954249024628],\"low\":[22437.676766780296,22950.860621237636,22651.832045594743,22954.37210391239,23008.07879887463,22704.73424922917,22783.22275539286,22980.5166331661,23584.48414619299,23353.764867515853,23304.92835912069,22878.8541592581,22742.644241851332,22786.483006387727,22871.10332505254,21844.198227891193,21499.66173221349,21643.699159129977,21792.24798693111,21470.742475476778,21687.02968757751,22096.14473383533,23949.132668696413,23666.448646465495,24485.68669967891,24447.433277864973,24228.784427258368,24216.199314938425,23688.237675512464,23807.757150774065,23783.007545771743],\"open\":[22437.676766780296,23073.579085541896,23037.80289259157,23084.50814774056,23008.07879887463,23755.23140156847,22846.01822234448,23137.323554088376,23725.161796142238,23519.65515623756,23438.134390544532,23339.608293629484,22947.52379272862,22786.483006387727,23259.39942465226,22947.50782856846,21809.95394073028,21643.699159129977,21889.579130643924,21779.87440384417,21807.834274723064,22220.070997481067,24307.875101631602,23756.907281577434,24628.82455217312,24635.850030004312,24322.563258356695,24791.174738128513,24417.38703630947,24146.101364545222,23951.11098423326],\"x\":[\"2023-01-25\",\"2023-01-26\",\"2023-01-27\",\"2023-01-28\",\"2023-01-29\",\"2023-01-30\",\"2023-01-31\",\"2023-02-01\",\"2023-02-02\",\"2023-02-03\",\"2023-02-04\",\"2023-02-05\",\"2023-02-06\",\"2023-02-07\",\"2023-02-08\",\"2023-02-09\",\"2023-02-10\",\"2023-02-11\",\"2023-02-12\",\"2023-02-13\",\"2023-02-14\",\"2023-02-15\",\"2023-02-16\",\"2023-02-17\",\"2023-02-18\",\"2023-02-19\",\"2023-02-20\",\"2023-02-21\",\"2023-02-22\",\"2023-02-23\",\"2023-02-24\"],\"type\":\"candlestick\"}],                        {\"template\":{\"data\":{\"bar\":[{\"error_x\":{\"color\":\"#2a3f5f\"},\"error_y\":{\"color\":\"#2a3f5f\"},\"marker\":{\"line\":{\"color\":\"#E5ECF6\",\"width\":0.5},\"pattern\":{\"fillmode\":\"overlay\",\"size\":10,\"solidity\":0.2}},\"type\":\"bar\"}],\"barpolar\":[{\"marker\":{\"line\":{\"color\":\"#E5ECF6\",\"width\":0.5},\"pattern\":{\"fillmode\":\"overlay\",\"size\":10,\"solidity\":0.2}},\"type\":\"barpolar\"}],\"carpet\":[{\"aaxis\":{\"endlinecolor\":\"#2a3f5f\",\"gridcolor\":\"white\",\"linecolor\":\"white\",\"minorgridcolor\":\"white\",\"startlinecolor\":\"#2a3f5f\"},\"baxis\":{\"endlinecolor\":\"#2a3f5f\",\"gridcolor\":\"white\",\"linecolor\":\"white\",\"minorgridcolor\":\"white\",\"startlinecolor\":\"#2a3f5f\"},\"type\":\"carpet\"}],\"choropleth\":[{\"colorbar\":{\"outlinewidth\":0,\"ticks\":\"\"},\"type\":\"choropleth\"}],\"contour\":[{\"colorbar\":{\"outlinewidth\":0,\"ticks\":\"\"},\"colorscale\":[[0.0,\"#0d0887\"],[0.1111111111111111,\"#46039f\"],[0.2222222222222222,\"#7201a8\"],[0.3333333333333333,\"#9c179e\"],[0.4444444444444444,\"#bd3786\"],[0.5555555555555556,\"#d8576b\"],[0.6666666666666666,\"#ed7953\"],[0.7777777777777778,\"#fb9f3a\"],[0.8888888888888888,\"#fdca26\"],[1.0,\"#f0f921\"]],\"type\":\"contour\"}],\"contourcarpet\":[{\"colorbar\":{\"outlinewidth\":0,\"ticks\":\"\"},\"type\":\"contourcarpet\"}],\"heatmap\":[{\"colorbar\":{\"outlinewidth\":0,\"ticks\":\"\"},\"colorscale\":[[0.0,\"#0d0887\"],[0.1111111111111111,\"#46039f\"],[0.2222222222222222,\"#7201a8\"],[0.3333333333333333,\"#9c179e\"],[0.4444444444444444,\"#bd3786\"],[0.5555555555555556,\"#d8576b\"],[0.6666666666666666,\"#ed7953\"],[0.7777777777777778,\"#fb9f3a\"],[0.8888888888888888,\"#fdca26\"],[1.0,\"#f0f921\"]],\"type\":\"heatmap\"}],\"heatmapgl\":[{\"colorbar\":{\"outlinewidth\":0,\"ticks\":\"\"},\"colorscale\":[[0.0,\"#0d0887\"],[0.1111111111111111,\"#46039f\"],[0.2222222222222222,\"#7201a8\"],[0.3333333333333333,\"#9c179e\"],[0.4444444444444444,\"#bd3786\"],[0.5555555555555556,\"#d8576b\"],[0.6666666666666666,\"#ed7953\"],[0.7777777777777778,\"#fb9f3a\"],[0.8888888888888888,\"#fdca26\"],[1.0,\"#f0f921\"]],\"type\":\"heatmapgl\"}],\"histogram\":[{\"marker\":{\"pattern\":{\"fillmode\":\"overlay\",\"size\":10,\"solidity\":0.2}},\"type\":\"histogram\"}],\"histogram2d\":[{\"colorbar\":{\"outlinewidth\":0,\"ticks\":\"\"},\"colorscale\":[[0.0,\"#0d0887\"],[0.1111111111111111,\"#46039f\"],[0.2222222222222222,\"#7201a8\"],[0.3333333333333333,\"#9c179e\"],[0.4444444444444444,\"#bd3786\"],[0.5555555555555556,\"#d8576b\"],[0.6666666666666666,\"#ed7953\"],[0.7777777777777778,\"#fb9f3a\"],[0.8888888888888888,\"#fdca26\"],[1.0,\"#f0f921\"]],\"type\":\"histogram2d\"}],\"histogram2dcontour\":[{\"colorbar\":{\"outlinewidth\":0,\"ticks\":\"\"},\"colorscale\":[[0.0,\"#0d0887\"],[0.1111111111111111,\"#46039f\"],[0.2222222222222222,\"#7201a8\"],[0.3333333333333333,\"#9c179e\"],[0.4444444444444444,\"#bd3786\"],[0.5555555555555556,\"#d8576b\"],[0.6666666666666666,\"#ed7953\"],[0.7777777777777778,\"#fb9f3a\"],[0.8888888888888888,\"#fdca26\"],[1.0,\"#f0f921\"]],\"type\":\"histogram2dcontour\"}],\"mesh3d\":[{\"colorbar\":{\"outlinewidth\":0,\"ticks\":\"\"},\"type\":\"mesh3d\"}],\"parcoords\":[{\"line\":{\"colorbar\":{\"outlinewidth\":0,\"ticks\":\"\"}},\"type\":\"parcoords\"}],\"pie\":[{\"automargin\":true,\"type\":\"pie\"}],\"scatter\":[{\"marker\":{\"colorbar\":{\"outlinewidth\":0,\"ticks\":\"\"}},\"type\":\"scatter\"}],\"scatter3d\":[{\"line\":{\"colorbar\":{\"outlinewidth\":0,\"ticks\":\"\"}},\"marker\":{\"colorbar\":{\"outlinewidth\":0,\"ticks\":\"\"}},\"type\":\"scatter3d\"}],\"scattercarpet\":[{\"marker\":{\"colorbar\":{\"outlinewidth\":0,\"ticks\":\"\"}},\"type\":\"scattercarpet\"}],\"scattergeo\":[{\"marker\":{\"colorbar\":{\"outlinewidth\":0,\"ticks\":\"\"}},\"type\":\"scattergeo\"}],\"scattergl\":[{\"marker\":{\"colorbar\":{\"outlinewidth\":0,\"ticks\":\"\"}},\"type\":\"scattergl\"}],\"scattermapbox\":[{\"marker\":{\"colorbar\":{\"outlinewidth\":0,\"ticks\":\"\"}},\"type\":\"scattermapbox\"}],\"scatterpolar\":[{\"marker\":{\"colorbar\":{\"outlinewidth\":0,\"ticks\":\"\"}},\"type\":\"scatterpolar\"}],\"scatterpolargl\":[{\"marker\":{\"colorbar\":{\"outlinewidth\":0,\"ticks\":\"\"}},\"type\":\"scatterpolargl\"}],\"scatterternary\":[{\"marker\":{\"colorbar\":{\"outlinewidth\":0,\"ticks\":\"\"}},\"type\":\"scatterternary\"}],\"surface\":[{\"colorbar\":{\"outlinewidth\":0,\"ticks\":\"\"},\"colorscale\":[[0.0,\"#0d0887\"],[0.1111111111111111,\"#46039f\"],[0.2222222222222222,\"#7201a8\"],[0.3333333333333333,\"#9c179e\"],[0.4444444444444444,\"#bd3786\"],[0.5555555555555556,\"#d8576b\"],[0.6666666666666666,\"#ed7953\"],[0.7777777777777778,\"#fb9f3a\"],[0.8888888888888888,\"#fdca26\"],[1.0,\"#f0f921\"]],\"type\":\"surface\"}],\"table\":[{\"cells\":{\"fill\":{\"color\":\"#EBF0F8\"},\"line\":{\"color\":\"white\"}},\"header\":{\"fill\":{\"color\":\"#C8D4E3\"},\"line\":{\"color\":\"white\"}},\"type\":\"table\"}]},\"layout\":{\"annotationdefaults\":{\"arrowcolor\":\"#2a3f5f\",\"arrowhead\":0,\"arrowwidth\":1},\"autotypenumbers\":\"strict\",\"coloraxis\":{\"colorbar\":{\"outlinewidth\":0,\"ticks\":\"\"}},\"colorscale\":{\"diverging\":[[0,\"#8e0152\"],[0.1,\"#c51b7d\"],[0.2,\"#de77ae\"],[0.3,\"#f1b6da\"],[0.4,\"#fde0ef\"],[0.5,\"#f7f7f7\"],[0.6,\"#e6f5d0\"],[0.7,\"#b8e186\"],[0.8,\"#7fbc41\"],[0.9,\"#4d9221\"],[1,\"#276419\"]],\"sequential\":[[0.0,\"#0d0887\"],[0.1111111111111111,\"#46039f\"],[0.2222222222222222,\"#7201a8\"],[0.3333333333333333,\"#9c179e\"],[0.4444444444444444,\"#bd3786\"],[0.5555555555555556,\"#d8576b\"],[0.6666666666666666,\"#ed7953\"],[0.7777777777777778,\"#fb9f3a\"],[0.8888888888888888,\"#fdca26\"],[1.0,\"#f0f921\"]],\"sequentialminus\":[[0.0,\"#0d0887\"],[0.1111111111111111,\"#46039f\"],[0.2222222222222222,\"#7201a8\"],[0.3333333333333333,\"#9c179e\"],[0.4444444444444444,\"#bd3786\"],[0.5555555555555556,\"#d8576b\"],[0.6666666666666666,\"#ed7953\"],[0.7777777777777778,\"#fb9f3a\"],[0.8888888888888888,\"#fdca26\"],[1.0,\"#f0f921\"]]},\"colorway\":[\"#636efa\",\"#EF553B\",\"#00cc96\",\"#ab63fa\",\"#FFA15A\",\"#19d3f3\",\"#FF6692\",\"#B6E880\",\"#FF97FF\",\"#FECB52\"],\"font\":{\"color\":\"#2a3f5f\"},\"geo\":{\"bgcolor\":\"white\",\"lakecolor\":\"white\",\"landcolor\":\"#E5ECF6\",\"showlakes\":true,\"showland\":true,\"subunitcolor\":\"white\"},\"hoverlabel\":{\"align\":\"left\"},\"hovermode\":\"closest\",\"mapbox\":{\"style\":\"light\"},\"paper_bgcolor\":\"white\",\"plot_bgcolor\":\"#E5ECF6\",\"polar\":{\"angularaxis\":{\"gridcolor\":\"white\",\"linecolor\":\"white\",\"ticks\":\"\"},\"bgcolor\":\"#E5ECF6\",\"radialaxis\":{\"gridcolor\":\"white\",\"linecolor\":\"white\",\"ticks\":\"\"}},\"scene\":{\"xaxis\":{\"backgroundcolor\":\"#E5ECF6\",\"gridcolor\":\"white\",\"gridwidth\":2,\"linecolor\":\"white\",\"showbackground\":true,\"ticks\":\"\",\"zerolinecolor\":\"white\"},\"yaxis\":{\"backgroundcolor\":\"#E5ECF6\",\"gridcolor\":\"white\",\"gridwidth\":2,\"linecolor\":\"white\",\"showbackground\":true,\"ticks\":\"\",\"zerolinecolor\":\"white\"},\"zaxis\":{\"backgroundcolor\":\"#E5ECF6\",\"gridcolor\":\"white\",\"gridwidth\":2,\"linecolor\":\"white\",\"showbackground\":true,\"ticks\":\"\",\"zerolinecolor\":\"white\"}},\"shapedefaults\":{\"line\":{\"color\":\"#2a3f5f\"}},\"ternary\":{\"aaxis\":{\"gridcolor\":\"white\",\"linecolor\":\"white\",\"ticks\":\"\"},\"baxis\":{\"gridcolor\":\"white\",\"linecolor\":\"white\",\"ticks\":\"\"},\"bgcolor\":\"#E5ECF6\",\"caxis\":{\"gridcolor\":\"white\",\"linecolor\":\"white\",\"ticks\":\"\"}},\"title\":{\"x\":0.05},\"xaxis\":{\"automargin\":true,\"gridcolor\":\"white\",\"linecolor\":\"white\",\"ticks\":\"\",\"title\":{\"standoff\":15},\"zerolinecolor\":\"white\",\"zerolinewidth\":2},\"yaxis\":{\"automargin\":true,\"gridcolor\":\"white\",\"linecolor\":\"white\",\"ticks\":\"\",\"title\":{\"standoff\":15},\"zerolinecolor\":\"white\",\"zerolinewidth\":2}}},\"xaxis\":{\"rangeslider\":{\"visible\":false}}},                        {\"responsive\": true}                    ).then(function(){\n",
              "                            \n",
              "var gd = document.getElementById('81a31af2-e359-4f0d-8b7c-f788d80b266b');\n",
              "var x = new MutationObserver(function (mutations, observer) {{\n",
              "        var display = window.getComputedStyle(gd).display;\n",
              "        if (!display || display === 'none') {{\n",
              "            console.log([gd, 'removed!']);\n",
              "            Plotly.purge(gd);\n",
              "            observer.disconnect();\n",
              "        }}\n",
              "}});\n",
              "\n",
              "// Listen for the removal of the full notebook cells\n",
              "var notebookContainer = gd.closest('#notebook-container');\n",
              "if (notebookContainer) {{\n",
              "    x.observe(notebookContainer, {childList: true});\n",
              "}}\n",
              "\n",
              "// Listen for the clearing of the current output cell\n",
              "var outputEl = gd.closest('.output');\n",
              "if (outputEl) {{\n",
              "    x.observe(outputEl, {childList: true});\n",
              "}}\n",
              "\n",
              "                        })                };                            </script>        </div>\n",
              "</body>\n",
              "</html>"
            ]
          },
          "metadata": {}
        }
      ]
    },
    {
      "cell_type": "markdown",
      "source": [
        "#### RandomUser API"
      ],
      "metadata": {
        "id": "DcQKEXtZBvvE"
      }
    },
    {
      "cell_type": "markdown",
      "source": [
        "RandomUser is an open-source, free API providing developers with randomly generated users to be used as placeholders for testing purposes. This makes the tool similar to Lorem Ipsum, but is a placeholder for people instead of text. The API can return multiple results, as well as specify generated user details such as gender, email, image, username, address, title, first and last name, and more. More information on [RandomUser](https://randomuser.me/documentation?utm_medium=Exinfluencer&utm_source=Exinfluencer&utm_content=000026UJ&utm_term=10006555&utm_id=NA-SkillsNetwork-Channel-SkillsNetworkCoursesIBMDeveloperSkillsNetworkPY0101ENSkillsNetwork1005-2022-01-01#intro) can be found here."
      ],
      "metadata": {
        "id": "JrOtMnsDBt6I"
      }
    },
    {
      "cell_type": "code",
      "source": [
        "r = RandomUser()\n",
        "\n",
        "some_list = r.generate_users(10)\n",
        "some_list"
      ],
      "metadata": {
        "colab": {
          "base_uri": "https://localhost:8080/"
        },
        "id": "ClT31zvPBK9f",
        "outputId": "bf9777ad-8e93-4c5e-8d4d-4d32063d9f60"
      },
      "execution_count": null,
      "outputs": [
        {
          "output_type": "execute_result",
          "data": {
            "text/plain": [
              "[<randomuser.RandomUser at 0x7fd9b0deb820>,\n",
              " <randomuser.RandomUser at 0x7fd9b0debdc0>,\n",
              " <randomuser.RandomUser at 0x7fd9b0deb730>,\n",
              " <randomuser.RandomUser at 0x7fd9b0debe80>,\n",
              " <randomuser.RandomUser at 0x7fd9b0deb670>,\n",
              " <randomuser.RandomUser at 0x7fd9b0debeb0>,\n",
              " <randomuser.RandomUser at 0x7fd9b0debaf0>,\n",
              " <randomuser.RandomUser at 0x7fd9b0debfd0>,\n",
              " <randomuser.RandomUser at 0x7fd9b0deba30>,\n",
              " <randomuser.RandomUser at 0x7fd9b0debcd0>]"
            ]
          },
          "metadata": {},
          "execution_count": 15
        }
      ]
    },
    {
      "cell_type": "markdown",
      "source": [
        "Let's say we only need 10 users with full names and their email addresses. We can write a \"for-loop\" to print these 10 users."
      ],
      "metadata": {
        "id": "mPL7XMT2CWPK"
      }
    },
    {
      "cell_type": "code",
      "source": [
        "for user in some_list:\n",
        "    print(user.get_full_name(),\" \",user.get_email())"
      ],
      "metadata": {
        "colab": {
          "base_uri": "https://localhost:8080/"
        },
        "id": "XKbaN0hJCLH5",
        "outputId": "24f3fd60-91c9-44c2-a614-1f9dc79aeea2"
      },
      "execution_count": null,
      "outputs": [
        {
          "output_type": "stream",
          "name": "stdout",
          "text": [
            "Karine Morin   karine.morin@example.com\n",
            "Olivia Kowalski   olivia.kowalski@example.com\n",
            "Armandino Teixeira   armandino.teixeira@example.com\n",
            "Jennifer Cook   jennifer.cook@example.com\n",
            "Patrick Johnston   patrick.johnston@example.com\n",
            "Mae Faure   mae.faure@example.com\n",
            "Edward Evans   edward.evans@example.com\n",
            "Anna Andersen   anna.andersen@example.com\n",
            "Martha Hamilton   martha.hamilton@example.com\n",
            "Charlie Park   charlie.park@example.com\n"
          ]
        }
      ]
    },
    {
      "cell_type": "markdown",
      "source": [
        "Q: Generate photos of the random 5 users"
      ],
      "metadata": {
        "id": "P7l66XRxCfxu"
      }
    },
    {
      "cell_type": "code",
      "source": [
        "for user in some_list:\n",
        "    print(user.get_picture())"
      ],
      "metadata": {
        "colab": {
          "base_uri": "https://localhost:8080/"
        },
        "id": "JckxsPSnCbQZ",
        "outputId": "52428230-e738-4572-d3ca-ebfd3fcdf0c9"
      },
      "execution_count": null,
      "outputs": [
        {
          "output_type": "stream",
          "name": "stdout",
          "text": [
            "https://randomuser.me/api/portraits/women/7.jpg\n",
            "https://randomuser.me/api/portraits/women/82.jpg\n",
            "https://randomuser.me/api/portraits/men/12.jpg\n",
            "https://randomuser.me/api/portraits/women/34.jpg\n",
            "https://randomuser.me/api/portraits/men/10.jpg\n",
            "https://randomuser.me/api/portraits/men/39.jpg\n",
            "https://randomuser.me/api/portraits/men/35.jpg\n",
            "https://randomuser.me/api/portraits/women/22.jpg\n",
            "https://randomuser.me/api/portraits/women/21.jpg\n",
            "https://randomuser.me/api/portraits/women/6.jpg\n"
          ]
        }
      ]
    },
    {
      "cell_type": "markdown",
      "source": [
        "To generate a table with information about the users, we can write a function containing all desirable parameters. For example, name, gender, city, etc. The parameters will depend on the requirements of the test to be performed. We call the Get Methods. Then, we return pandas dataframe with the users."
      ],
      "metadata": {
        "id": "dBP5MYMnCuWd"
      }
    },
    {
      "cell_type": "code",
      "source": [
        "def get_users():\n",
        "    users =[]\n",
        "     \n",
        "    for user in RandomUser.generate_users(10):\n",
        "        users.append({\"Name\":user.get_full_name(),\"Gender\":user.get_gender(),\"City\":user.get_city(),\"State\":user.get_state(),\"Email\":user.get_email(), \"DOB\":user.get_dob(),\"Picture\":user.get_picture()})\n",
        "      \n",
        "    return pd.DataFrame(users)"
      ],
      "metadata": {
        "id": "F3os52CyCoL_"
      },
      "execution_count": null,
      "outputs": []
    },
    {
      "cell_type": "code",
      "source": [
        "get_users()"
      ],
      "metadata": {
        "colab": {
          "base_uri": "https://localhost:8080/",
          "height": 580
        },
        "id": "9fiY061tC0cf",
        "outputId": "bf2d250f-3ed7-44c4-e06b-0aa7942e4a1f"
      },
      "execution_count": null,
      "outputs": [
        {
          "output_type": "execute_result",
          "data": {
            "text/plain": [
              "                Name  Gender        City             State  \\\n",
              "0        Shaun Henry    male     Preston       Oxfordshire   \n",
              "1     Inès Rodriguez  female   Montreuil             Marne   \n",
              "2  Trinidad Iglesias  female      Murcia           Navarra   \n",
              "3     Stella Lacroix  female    Besançon       Puy-de-Dôme   \n",
              "4   Valtteri Tolonen    male    Ilmajoki           Lapland   \n",
              "5  Jucinara da Cunha  female   Queimados        Pernambuco   \n",
              "6  Bérénice Philippe  female       Dijon  Loire-Atlantique   \n",
              "7        Koray Durak    male     Isparta         Şanlıurfa   \n",
              "8         Luis Clark    male  Cape Coral      Pennsylvania   \n",
              "9      نیایش رضاییان  female          قم            اصفهان   \n",
              "\n",
              "                           Email                       DOB  \\\n",
              "0        shaun.henry@example.com  1947-11-20T06:10:29.722Z   \n",
              "1     ines.rodriguez@example.com  1948-01-29T15:39:48.606Z   \n",
              "2  trinidad.iglesias@example.com  1959-04-16T09:03:51.663Z   \n",
              "3     stella.lacroix@example.com  1989-12-02T16:38:37.179Z   \n",
              "4   valtteri.tolonen@example.com  1970-05-22T08:50:55.309Z   \n",
              "5   jucinara.dacunha@example.com  1977-06-06T14:13:51.924Z   \n",
              "6  berenice.philippe@example.com  1965-10-26T05:29:27.800Z   \n",
              "7        koray.durak@example.com  1976-06-27T18:31:32.429Z   \n",
              "8         luis.clark@example.com  1974-01-09T16:52:53.905Z   \n",
              "9        nyysh.rdyyn@example.com  1983-04-14T14:30:32.336Z   \n",
              "\n",
              "                                            Picture  \n",
              "0     https://randomuser.me/api/portraits/men/4.jpg  \n",
              "1  https://randomuser.me/api/portraits/women/84.jpg  \n",
              "2  https://randomuser.me/api/portraits/women/17.jpg  \n",
              "3  https://randomuser.me/api/portraits/women/85.jpg  \n",
              "4    https://randomuser.me/api/portraits/men/20.jpg  \n",
              "5  https://randomuser.me/api/portraits/women/34.jpg  \n",
              "6  https://randomuser.me/api/portraits/women/31.jpg  \n",
              "7     https://randomuser.me/api/portraits/men/2.jpg  \n",
              "8    https://randomuser.me/api/portraits/men/53.jpg  \n",
              "9  https://randomuser.me/api/portraits/women/80.jpg  "
            ],
            "text/html": [
              "\n",
              "  <div id=\"df-39070574-857a-4902-8c71-b93d5d63f2a3\">\n",
              "    <div class=\"colab-df-container\">\n",
              "      <div>\n",
              "<style scoped>\n",
              "    .dataframe tbody tr th:only-of-type {\n",
              "        vertical-align: middle;\n",
              "    }\n",
              "\n",
              "    .dataframe tbody tr th {\n",
              "        vertical-align: top;\n",
              "    }\n",
              "\n",
              "    .dataframe thead th {\n",
              "        text-align: right;\n",
              "    }\n",
              "</style>\n",
              "<table border=\"1\" class=\"dataframe\">\n",
              "  <thead>\n",
              "    <tr style=\"text-align: right;\">\n",
              "      <th></th>\n",
              "      <th>Name</th>\n",
              "      <th>Gender</th>\n",
              "      <th>City</th>\n",
              "      <th>State</th>\n",
              "      <th>Email</th>\n",
              "      <th>DOB</th>\n",
              "      <th>Picture</th>\n",
              "    </tr>\n",
              "  </thead>\n",
              "  <tbody>\n",
              "    <tr>\n",
              "      <th>0</th>\n",
              "      <td>Shaun Henry</td>\n",
              "      <td>male</td>\n",
              "      <td>Preston</td>\n",
              "      <td>Oxfordshire</td>\n",
              "      <td>shaun.henry@example.com</td>\n",
              "      <td>1947-11-20T06:10:29.722Z</td>\n",
              "      <td>https://randomuser.me/api/portraits/men/4.jpg</td>\n",
              "    </tr>\n",
              "    <tr>\n",
              "      <th>1</th>\n",
              "      <td>Inès Rodriguez</td>\n",
              "      <td>female</td>\n",
              "      <td>Montreuil</td>\n",
              "      <td>Marne</td>\n",
              "      <td>ines.rodriguez@example.com</td>\n",
              "      <td>1948-01-29T15:39:48.606Z</td>\n",
              "      <td>https://randomuser.me/api/portraits/women/84.jpg</td>\n",
              "    </tr>\n",
              "    <tr>\n",
              "      <th>2</th>\n",
              "      <td>Trinidad Iglesias</td>\n",
              "      <td>female</td>\n",
              "      <td>Murcia</td>\n",
              "      <td>Navarra</td>\n",
              "      <td>trinidad.iglesias@example.com</td>\n",
              "      <td>1959-04-16T09:03:51.663Z</td>\n",
              "      <td>https://randomuser.me/api/portraits/women/17.jpg</td>\n",
              "    </tr>\n",
              "    <tr>\n",
              "      <th>3</th>\n",
              "      <td>Stella Lacroix</td>\n",
              "      <td>female</td>\n",
              "      <td>Besançon</td>\n",
              "      <td>Puy-de-Dôme</td>\n",
              "      <td>stella.lacroix@example.com</td>\n",
              "      <td>1989-12-02T16:38:37.179Z</td>\n",
              "      <td>https://randomuser.me/api/portraits/women/85.jpg</td>\n",
              "    </tr>\n",
              "    <tr>\n",
              "      <th>4</th>\n",
              "      <td>Valtteri Tolonen</td>\n",
              "      <td>male</td>\n",
              "      <td>Ilmajoki</td>\n",
              "      <td>Lapland</td>\n",
              "      <td>valtteri.tolonen@example.com</td>\n",
              "      <td>1970-05-22T08:50:55.309Z</td>\n",
              "      <td>https://randomuser.me/api/portraits/men/20.jpg</td>\n",
              "    </tr>\n",
              "    <tr>\n",
              "      <th>5</th>\n",
              "      <td>Jucinara da Cunha</td>\n",
              "      <td>female</td>\n",
              "      <td>Queimados</td>\n",
              "      <td>Pernambuco</td>\n",
              "      <td>jucinara.dacunha@example.com</td>\n",
              "      <td>1977-06-06T14:13:51.924Z</td>\n",
              "      <td>https://randomuser.me/api/portraits/women/34.jpg</td>\n",
              "    </tr>\n",
              "    <tr>\n",
              "      <th>6</th>\n",
              "      <td>Bérénice Philippe</td>\n",
              "      <td>female</td>\n",
              "      <td>Dijon</td>\n",
              "      <td>Loire-Atlantique</td>\n",
              "      <td>berenice.philippe@example.com</td>\n",
              "      <td>1965-10-26T05:29:27.800Z</td>\n",
              "      <td>https://randomuser.me/api/portraits/women/31.jpg</td>\n",
              "    </tr>\n",
              "    <tr>\n",
              "      <th>7</th>\n",
              "      <td>Koray Durak</td>\n",
              "      <td>male</td>\n",
              "      <td>Isparta</td>\n",
              "      <td>Şanlıurfa</td>\n",
              "      <td>koray.durak@example.com</td>\n",
              "      <td>1976-06-27T18:31:32.429Z</td>\n",
              "      <td>https://randomuser.me/api/portraits/men/2.jpg</td>\n",
              "    </tr>\n",
              "    <tr>\n",
              "      <th>8</th>\n",
              "      <td>Luis Clark</td>\n",
              "      <td>male</td>\n",
              "      <td>Cape Coral</td>\n",
              "      <td>Pennsylvania</td>\n",
              "      <td>luis.clark@example.com</td>\n",
              "      <td>1974-01-09T16:52:53.905Z</td>\n",
              "      <td>https://randomuser.me/api/portraits/men/53.jpg</td>\n",
              "    </tr>\n",
              "    <tr>\n",
              "      <th>9</th>\n",
              "      <td>نیایش رضاییان</td>\n",
              "      <td>female</td>\n",
              "      <td>قم</td>\n",
              "      <td>اصفهان</td>\n",
              "      <td>nyysh.rdyyn@example.com</td>\n",
              "      <td>1983-04-14T14:30:32.336Z</td>\n",
              "      <td>https://randomuser.me/api/portraits/women/80.jpg</td>\n",
              "    </tr>\n",
              "  </tbody>\n",
              "</table>\n",
              "</div>\n",
              "      <button class=\"colab-df-convert\" onclick=\"convertToInteractive('df-39070574-857a-4902-8c71-b93d5d63f2a3')\"\n",
              "              title=\"Convert this dataframe to an interactive table.\"\n",
              "              style=\"display:none;\">\n",
              "        \n",
              "  <svg xmlns=\"http://www.w3.org/2000/svg\" height=\"24px\"viewBox=\"0 0 24 24\"\n",
              "       width=\"24px\">\n",
              "    <path d=\"M0 0h24v24H0V0z\" fill=\"none\"/>\n",
              "    <path d=\"M18.56 5.44l.94 2.06.94-2.06 2.06-.94-2.06-.94-.94-2.06-.94 2.06-2.06.94zm-11 1L8.5 8.5l.94-2.06 2.06-.94-2.06-.94L8.5 2.5l-.94 2.06-2.06.94zm10 10l.94 2.06.94-2.06 2.06-.94-2.06-.94-.94-2.06-.94 2.06-2.06.94z\"/><path d=\"M17.41 7.96l-1.37-1.37c-.4-.4-.92-.59-1.43-.59-.52 0-1.04.2-1.43.59L10.3 9.45l-7.72 7.72c-.78.78-.78 2.05 0 2.83L4 21.41c.39.39.9.59 1.41.59.51 0 1.02-.2 1.41-.59l7.78-7.78 2.81-2.81c.8-.78.8-2.07 0-2.86zM5.41 20L4 18.59l7.72-7.72 1.47 1.35L5.41 20z\"/>\n",
              "  </svg>\n",
              "      </button>\n",
              "      \n",
              "  <style>\n",
              "    .colab-df-container {\n",
              "      display:flex;\n",
              "      flex-wrap:wrap;\n",
              "      gap: 12px;\n",
              "    }\n",
              "\n",
              "    .colab-df-convert {\n",
              "      background-color: #E8F0FE;\n",
              "      border: none;\n",
              "      border-radius: 50%;\n",
              "      cursor: pointer;\n",
              "      display: none;\n",
              "      fill: #1967D2;\n",
              "      height: 32px;\n",
              "      padding: 0 0 0 0;\n",
              "      width: 32px;\n",
              "    }\n",
              "\n",
              "    .colab-df-convert:hover {\n",
              "      background-color: #E2EBFA;\n",
              "      box-shadow: 0px 1px 2px rgba(60, 64, 67, 0.3), 0px 1px 3px 1px rgba(60, 64, 67, 0.15);\n",
              "      fill: #174EA6;\n",
              "    }\n",
              "\n",
              "    [theme=dark] .colab-df-convert {\n",
              "      background-color: #3B4455;\n",
              "      fill: #D2E3FC;\n",
              "    }\n",
              "\n",
              "    [theme=dark] .colab-df-convert:hover {\n",
              "      background-color: #434B5C;\n",
              "      box-shadow: 0px 1px 3px 1px rgba(0, 0, 0, 0.15);\n",
              "      filter: drop-shadow(0px 1px 2px rgba(0, 0, 0, 0.3));\n",
              "      fill: #FFFFFF;\n",
              "    }\n",
              "  </style>\n",
              "\n",
              "      <script>\n",
              "        const buttonEl =\n",
              "          document.querySelector('#df-39070574-857a-4902-8c71-b93d5d63f2a3 button.colab-df-convert');\n",
              "        buttonEl.style.display =\n",
              "          google.colab.kernel.accessAllowed ? 'block' : 'none';\n",
              "\n",
              "        async function convertToInteractive(key) {\n",
              "          const element = document.querySelector('#df-39070574-857a-4902-8c71-b93d5d63f2a3');\n",
              "          const dataTable =\n",
              "            await google.colab.kernel.invokeFunction('convertToInteractive',\n",
              "                                                     [key], {});\n",
              "          if (!dataTable) return;\n",
              "\n",
              "          const docLinkHtml = 'Like what you see? Visit the ' +\n",
              "            '<a target=\"_blank\" href=https://colab.research.google.com/notebooks/data_table.ipynb>data table notebook</a>'\n",
              "            + ' to learn more about interactive tables.';\n",
              "          element.innerHTML = '';\n",
              "          dataTable['output_type'] = 'display_data';\n",
              "          await google.colab.output.renderOutput(dataTable, element);\n",
              "          const docLink = document.createElement('div');\n",
              "          docLink.innerHTML = docLinkHtml;\n",
              "          element.appendChild(docLink);\n",
              "        }\n",
              "      </script>\n",
              "    </div>\n",
              "  </div>\n",
              "  "
            ]
          },
          "metadata": {},
          "execution_count": 19
        }
      ]
    },
    {
      "cell_type": "code",
      "source": [],
      "metadata": {
        "id": "-wZQSVXVC1qB"
      },
      "execution_count": null,
      "outputs": []
    }
  ]
}