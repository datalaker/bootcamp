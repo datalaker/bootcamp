{
 "cells": [
  {
   "cell_type": "code",
   "execution_count": 1,
   "metadata": {},
   "outputs": [
    {
     "name": "stdout",
     "output_type": "stream",
     "text": [
      "HOSTNAME=127.0.0.1, PORT=3306, USERNAME=root, DBNAME=demo, PASSWORD=*****\n"
     ]
    }
   ],
   "source": [
    "import configparser\n",
    "\n",
    "parser = configparser.ConfigParser()\n",
    "\n",
    "parser.read('config.cfg')\n",
    "\n",
    "hostname = parser.get('mysql_config', 'hostname')\n",
    "port = parser.get('mysql_config', 'port')\n",
    "username = parser.get('mysql_config', \"username\")\n",
    "dbname = parser.get('mysql_config', 'database')\n",
    "password = parser.get('mysql_config', 'password')\n",
    "\n",
    "print(\"HOSTNAME={}, PORT={}, USERNAME={}, DBNAME={}, PASSWORD={}\".format(hostname, port, username, dbname, password))"
   ]
  },
  {
   "cell_type": "code",
   "execution_count": null,
   "metadata": {},
   "outputs": [],
   "source": []
  }
 ],
 "metadata": {
  "kernelspec": {
   "display_name": "env-spacy",
   "language": "python",
   "name": "python3"
  },
  "language_info": {
   "codemirror_mode": {
    "name": "ipython",
    "version": 3
   },
   "file_extension": ".py",
   "mimetype": "text/x-python",
   "name": "python",
   "nbconvert_exporter": "python",
   "pygments_lexer": "ipython3",
   "version": "3.9.7"
  },
  "orig_nbformat": 4
 },
 "nbformat": 4,
 "nbformat_minor": 2
}
