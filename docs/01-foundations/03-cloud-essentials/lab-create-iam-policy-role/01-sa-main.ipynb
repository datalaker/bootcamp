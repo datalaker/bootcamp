{
 "cells": [
  {
   "cell_type": "markdown",
   "metadata": {},
   "source": [
    "## Create an IAM Role"
   ]
  },
  {
   "cell_type": "code",
   "execution_count": 1,
   "metadata": {},
   "outputs": [
    {
     "name": "stdout",
     "output_type": "stream",
     "text": [
      "Writing role-trust.json\n"
     ]
    }
   ],
   "source": [
    "%%writefile role-trust.json\n",
    "{\n",
    "    \"Version\": \"2012-10-17\",\n",
    "    \"Statement\": [\n",
    "        {\n",
    "            \"Effect\": \"Allow\",\n",
    "            \"Principal\": {\n",
    "                \"Service\": \"lambda.amazonaws.com\"\n",
    "            },\n",
    "            \"Action\": \"sts:AssumeRole\"\n",
    "        }\n",
    "    ]\n",
    "}"
   ]
  },
  {
   "cell_type": "code",
   "execution_count": 2,
   "metadata": {},
   "outputs": [
    {
     "name": "stdout",
     "output_type": "stream",
     "text": [
      "{\n",
      "    \"Role\": {\n",
      "        \"Path\": \"/\",\n",
      "        \"RoleName\": \"wysde2-lambda-etl-role\",\n",
      "        \"RoleId\": \"AROAZ6TLRIUJRZE4F354T\",\n",
      "        \"Arn\": \"arn:aws:iam::684199068947:role/wysde2-lambda-etl-role\",\n",
      "        \"CreateDate\": \"2022-10-13T04:49:37+00:00\",\n",
      "        \"AssumeRolePolicyDocument\": {\n",
      "            \"Version\": \"2012-10-17\",\n",
      "            \"Statement\": [\n",
      "                {\n",
      "                    \"Effect\": \"Allow\",\n",
      "                    \"Principal\": {\n",
      "                        \"Service\": \"lambda.amazonaws.com\"\n",
      "                    },\n",
      "                    \"Action\": \"sts:AssumeRole\"\n",
      "                }\n",
      "            ]\n",
      "        }\n",
      "    }\n",
      "}\n"
     ]
    }
   ],
   "source": [
    "role_name = \"wysde2-lambda-etl-role\"\n",
    "!aws iam create-role --role-name {role_name} --assume-role-policy-document file://role-trust.json\n"
   ]
  },
  {
   "cell_type": "markdown",
   "metadata": {},
   "source": [
    "## Create a Policy"
   ]
  },
  {
   "cell_type": "code",
   "execution_count": 3,
   "metadata": {},
   "outputs": [
    {
     "name": "stdout",
     "output_type": "stream",
     "text": [
      "Writing lamdba-etl-policy.json\n"
     ]
    }
   ],
   "source": [
    "%%writefile lamdba-etl-policy.json\n",
    "{\n",
    "    \"Version\": \"2012-10-17\",\n",
    "    \"Statement\": [\n",
    "        {\n",
    "            \"Effect\": \"Allow\",\n",
    "            \"Action\": [\n",
    "                \"logs:PutLogEvents\",\n",
    "                \"logs:CreateLogGroup\",\n",
    "                \"logs:CreateLogStream\"\n",
    "            ],\n",
    "            \"Resource\": \"arn:aws:logs:*:*:*\"\n",
    "        },\n",
    "        {\n",
    "            \"Effect\": \"Allow\",\n",
    "            \"Action\": [\n",
    "                \"s3:*\"\n",
    "            ],\n",
    "            \"Resource\": [\n",
    "                \"arn:aws:s3:::wysde2-test/*\",\n",
    "                \"arn:aws:s3:::wysde2-test\"\n",
    "            ]\n",
    "        },\n",
    "        {\n",
    "            \"Effect\": \"Allow\",\n",
    "            \"Action\": [\n",
    "                \"glue:*\"\n",
    "            ],\n",
    "            \"Resource\": \"*\"\n",
    "        }\n",
    "    ]\n",
    "}"
   ]
  },
  {
   "cell_type": "code",
   "execution_count": 4,
   "metadata": {},
   "outputs": [
    {
     "name": "stdout",
     "output_type": "stream",
     "text": [
      "{\n",
      "    \"Policy\": {\n",
      "        \"PolicyName\": \"wysde2-lambda-etl-policy\",\n",
      "        \"PolicyId\": \"ANPAZ6TLRIUJUEIGJAQ4L\",\n",
      "        \"Arn\": \"arn:aws:iam::684199068947:policy/wysde2-lambda-etl-policy\",\n",
      "        \"Path\": \"/\",\n",
      "        \"DefaultVersionId\": \"v1\",\n",
      "        \"AttachmentCount\": 0,\n",
      "        \"PermissionsBoundaryUsageCount\": 0,\n",
      "        \"IsAttachable\": true,\n",
      "        \"CreateDate\": \"2022-10-13T04:58:57+00:00\",\n",
      "        \"UpdateDate\": \"2022-10-13T04:58:57+00:00\"\n",
      "    }\n",
      "}\n"
     ]
    }
   ],
   "source": [
    "policy_name = \"wysde2-lambda-etl-policy\"\n",
    "\n",
    "!aws iam create-policy --policy-name {policy_name} --policy-document file://lamdba-etl-policy.json"
   ]
  },
  {
   "cell_type": "markdown",
   "metadata": {},
   "source": [
    "## Attach the policy to the role"
   ]
  },
  {
   "cell_type": "code",
   "execution_count": 5,
   "metadata": {},
   "outputs": [],
   "source": [
    "!aws iam attach-role-policy --policy-arn arn:aws:iam::684199068947:policy/wysde2-lambda-etl-policy --role-name wysde2-lambda-etl-role"
   ]
  }
 ],
 "metadata": {
  "kernelspec": {
   "display_name": "Python 3.9.7 ('env-spacy')",
   "language": "python",
   "name": "python3"
  },
  "language_info": {
   "codemirror_mode": {
    "name": "ipython",
    "version": 3
   },
   "file_extension": ".py",
   "mimetype": "text/x-python",
   "name": "python",
   "nbconvert_exporter": "python",
   "pygments_lexer": "ipython3",
   "version": "3.9.7 (default, Sep 16 2021, 08:50:36) \n[Clang 10.0.0 ]"
  },
  "orig_nbformat": 4,
  "vscode": {
   "interpreter": {
    "hash": "343191058819caea96d5cde1bd3b1a75b4807623ce2cda0e1c8499e39ac847e3"
   }
  }
 },
 "nbformat": 4,
 "nbformat_minor": 2
}
