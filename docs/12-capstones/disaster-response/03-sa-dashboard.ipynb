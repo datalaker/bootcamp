{
 "cells": [
  {
   "cell_type": "code",
   "execution_count": 2,
   "metadata": {},
   "outputs": [],
   "source": [
    "import json\n",
    "import plotly\n",
    "import pandas as pd\n",
    "\n",
    "from nltk.stem import WordNetLemmatizer\n",
    "from nltk.tokenize import word_tokenize\n",
    "\n",
    "from flask import Flask\n",
    "from flask import render_template, request, jsonify\n",
    "from plotly.graph_objs import Bar\n",
    "from plotly.graph_objs import Figure\n",
    "from plotly.graph_objs import Pie\n",
    "\n",
    "import joblib\n",
    "from sqlalchemy import create_engine\n",
    "from werkzeug.serving import run_simple"
   ]
  },
  {
   "cell_type": "code",
   "execution_count": 3,
   "metadata": {},
   "outputs": [],
   "source": [
    "app = Flask(__name__)\n",
    "\n",
    "def tokenize(text):\n",
    "    tokens = word_tokenize(text)\n",
    "    lemmatizer = WordNetLemmatizer()\n",
    "\n",
    "    clean_tokens = []\n",
    "    for tok in tokens:\n",
    "        clean_tok = lemmatizer.lemmatize(tok).lower().strip()\n",
    "        clean_tokens.append(clean_tok)\n",
    "\n",
    "    return clean_tokens"
   ]
  },
  {
   "cell_type": "code",
   "execution_count": 4,
   "metadata": {},
   "outputs": [],
   "source": [
    "# load data\n",
    "engine = create_engine('sqlite:///./data/DisasterResponse.db')\n",
    "df = pd.read_sql_table('DisasterResponse', engine)\n",
    "\n",
    "# load model\n",
    "model = joblib.load(\"./model/classifier.pkl\")"
   ]
  },
  {
   "cell_type": "code",
   "execution_count": 5,
   "metadata": {},
   "outputs": [],
   "source": [
    "# index webpage displays cool visuals and receives user input text for model\n",
    "@app.route('/')\n",
    "@app.route('/index')\n",
    "def index():\n",
    "    \n",
    "    # extract data needed for visuals\n",
    "    # TODO: Below is an example - modify to extract data for your own visuals\n",
    "   \n",
    "    # graph 1\n",
    "    genre_counts = df.groupby('genre').count()['message']\n",
    "    genre_names = list(genre_counts.index)\n",
    "    \n",
    "    # graph 2 & 3\n",
    "    category_names = list(df.columns)[4:]\n",
    "    category_counts = []\n",
    "    for name in category_names:\n",
    "        category_count = df[name].values.sum()  # count number of 1 (i.e. category identified for the message) per category\n",
    "        category_counts.append(category_count)\n",
    "    \n",
    "    # create visuals\n",
    "    # TODO: Below is an example - modify to create your own visuals\n",
    "    graphs = [\n",
    "        {\n",
    "            'data': [\n",
    "                Bar(\n",
    "                    x=genre_names,\n",
    "                    y=genre_counts\n",
    "                )\n",
    "            ],\n",
    "\n",
    "            'layout': {\n",
    "                'title': 'Distribution of Message Genres',\n",
    "                'yaxis': {\n",
    "                    'title': \"Count\"\n",
    "                },\n",
    "                'xaxis': {\n",
    "                    'title': \"Genre\"\n",
    "                }\n",
    "            }\n",
    "        },\n",
    "        {\n",
    "            'data': [\n",
    "                Bar(\n",
    "                    x=category_names,\n",
    "                    y=category_counts\n",
    "                )\n",
    "            ],\n",
    "\n",
    "            'layout': {\n",
    "                'title': 'Distribution of Message Categories',\n",
    "                'yaxis': {\n",
    "                    'title': \"Count\"\n",
    "                },\n",
    "                'xaxis': {\n",
    "                    'title': \"Category\"\n",
    "                }\n",
    "            }\n",
    "        },\n",
    "        {\n",
    "            'data': [\n",
    "                Pie(labels=category_names, values=category_counts)\n",
    "            ],\n",
    "\n",
    "            'layout': {\n",
    "                'title': 'Proportion of Message Categories',\n",
    "            }\n",
    "        }\n",
    "        \n",
    "    ]\n",
    "    \n",
    "    # encode plotly graphs in JSON\n",
    "    ids = [\"graph-{}\".format(i) for i, _ in enumerate(graphs)]\n",
    "    graphJSON = json.dumps(graphs, cls=plotly.utils.PlotlyJSONEncoder)\n",
    "    \n",
    "    # render web page with plotly graphs\n",
    "    return render_template('master.html', ids=ids, graphJSON=graphJSON)\n",
    "\n",
    "\n",
    "# web page that handles user query and displays model results\n",
    "@app.route('/go')\n",
    "def go():\n",
    "    # save user input in query\n",
    "    query = request.args.get('query', '') \n",
    "\n",
    "    # use model to predict classification for query\n",
    "    classification_labels = model.predict([query])[0]\n",
    "    classification_results = dict(zip(df.columns[4:], classification_labels))\n",
    "\n",
    "    # This will render the go.html Please see that file. \n",
    "    return render_template(\n",
    "        'go.html',\n",
    "        query=query,\n",
    "        classification_result=classification_results\n",
    "    )"
   ]
  },
  {
   "cell_type": "code",
   "execution_count": 7,
   "metadata": {},
   "outputs": [
    {
     "name": "stderr",
     "output_type": "stream",
     "text": [
      "WARNING: This is a development server. Do not use it in a production deployment. Use a production WSGI server instead.\n",
      " * Running on http://localhost:3000\n",
      "Press CTRL+C to quit\n",
      "127.0.0.1 - - [18/Dec/2022 19:21:33] \"GET / HTTP/1.1\" 200 -\n",
      "127.0.0.1 - - [18/Dec/2022 19:21:36] \"GET /favicon.ico HTTP/1.1\" 404 -\n",
      "127.0.0.1 - - [18/Dec/2022 19:23:04] \"GET / HTTP/1.1\" 200 -\n",
      "127.0.0.1 - - [18/Dec/2022 19:23:27] \"GET / HTTP/1.1\" 200 -\n",
      "127.0.0.1 - - [18/Dec/2022 19:23:59] \"GET /go?query=flood+in+my+area HTTP/1.1\" 200 -\n",
      "127.0.0.1 - - [18/Dec/2022 19:25:11] \"GET / HTTP/1.1\" 200 -\n"
     ]
    }
   ],
   "source": [
    "run_simple('localhost', 3000, app)"
   ]
  },
  {
   "attachments": {},
   "cell_type": "markdown",
   "metadata": {},
   "source": [
    "![](./img/dash.png)"
   ]
  },
  {
   "attachments": {},
   "cell_type": "markdown",
   "metadata": {},
   "source": [
    "![](./img/dash-response.png)"
   ]
  }
 ],
 "metadata": {
  "kernelspec": {
   "display_name": "env-spacy",
   "language": "python",
   "name": "python3"
  },
  "language_info": {
   "codemirror_mode": {
    "name": "ipython",
    "version": 3
   },
   "file_extension": ".py",
   "mimetype": "text/x-python",
   "name": "python",
   "nbconvert_exporter": "python",
   "pygments_lexer": "ipython3",
   "version": "3.9.7 (default, Sep 16 2021, 08:50:36) \n[Clang 10.0.0 ]"
  },
  "orig_nbformat": 4,
  "vscode": {
   "interpreter": {
    "hash": "343191058819caea96d5cde1bd3b1a75b4807623ce2cda0e1c8499e39ac847e3"
   }
  }
 },
 "nbformat": 4,
 "nbformat_minor": 2
}
