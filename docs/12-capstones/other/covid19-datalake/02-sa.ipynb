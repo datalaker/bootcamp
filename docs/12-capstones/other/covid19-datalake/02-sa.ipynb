{
 "cells": [
  {
   "attachments": {},
   "cell_type": "markdown",
   "metadata": {},
   "source": [
    "Build and push lambda layer + handler"
   ]
  },
  {
   "cell_type": "code",
   "execution_count": null,
   "metadata": {},
   "outputs": [],
   "source": [
    "# upload handler\n",
    "!zip -j csse_handler.zip src/api_queries/CSSE/handler.py\n",
    "!aws s3 cp csse_handler.zip s3://data-pipeline-s3-bucket/scripts/api_queries/CSSE/csse_handler.zip"
   ]
  },
  {
   "cell_type": "code",
   "execution_count": null,
   "metadata": {},
   "outputs": [],
   "source": [
    "# upload glue jobs\n",
    "!aws s3 sync src/glue_jobs s3://data-pipeline-s3-bucket/scripts/glue_jobs/"
   ]
  }
 ],
 "metadata": {
  "kernelspec": {
   "display_name": "env-spacy",
   "language": "python",
   "name": "python3"
  },
  "language_info": {
   "name": "python",
   "version": "3.9.7 (default, Sep 16 2021, 08:50:36) \n[Clang 10.0.0 ]"
  },
  "orig_nbformat": 4,
  "vscode": {
   "interpreter": {
    "hash": "343191058819caea96d5cde1bd3b1a75b4807623ce2cda0e1c8499e39ac847e3"
   }
  }
 },
 "nbformat": 4,
 "nbformat_minor": 2
}
