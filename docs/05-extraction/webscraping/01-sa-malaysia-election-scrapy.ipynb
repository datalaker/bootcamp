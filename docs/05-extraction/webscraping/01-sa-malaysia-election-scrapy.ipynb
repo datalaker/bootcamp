{
  "cells": [
    {
      "attachments": {},
      "cell_type": "markdown",
      "metadata": {},
      "source": [
        "```\n",
        "---\n",
        "title: Election ETL\n",
        "description: ETL Process on Malaysia’s 15th General Election Results\n",
        "tags: [webscraping, scrapy]\n",
        "---\n",
        "```\n",
        "\n",
        "## Objective\n",
        "\n",
        "1. Extract Malaysia’s 15th General Election (PRU15) results\n",
        "1. Transform using python\n",
        "1. Load as flat file (csv)"
      ]
    },
    {
      "attachments": {},
      "cell_type": "markdown",
      "metadata": {
        "id": "0H8J3q7ch0Bu"
      },
      "source": [
        "## Extract"
      ]
    },
    {
      "cell_type": "code",
      "execution_count": null,
      "metadata": {
        "id": "UZFeqe2Ib525"
      },
      "outputs": [],
      "source": [
        "import requests\n",
        "!pip install scrapy\n",
        "from scrapy import Selector\n",
        "import re\n",
        "import pandas as pd"
      ]
    },
    {
      "cell_type": "code",
      "execution_count": null,
      "metadata": {
        "id": "b2upF0u9fyvw"
      },
      "outputs": [],
      "source": [
        "states = ['perlis', 'kedah', 'kelantan', 'terengganu', 'penang', 'perak', 'pahang', 'selangor', 'ft', 'negerisembilan', 'malacca', 'johor', 'sabah', 'sarawak']\n",
        "\n",
        "all_parliament_codes = []\n",
        "all_parliament_names = []\n",
        "all_registered_voters = []\n",
        "all_total_votes = []\n",
        "all_winning_candidates = []\n",
        "all_winning_parties = []\n",
        "all_winning_majorities = []\n",
        "all_winning_percentages = []\n",
        "\n",
        "for s in states:\n",
        "  # Get code snippet for only parliament in each state\n",
        "  request = requests.get(f'https://election.thestar.com.my/{s}.html')\n",
        "  text = request.text\n",
        "  sel = Selector(text=text)\n",
        "  parliament_code_snippet = sel.css('div#winnerListP').extract()\n",
        "  \n",
        "  sel2 = Selector(text=parliament_code_snippet[0])\n",
        "\n",
        "  # Attribute - Parliament Code\n",
        "  parliament_code = sel2.css('h4 > a::text').extract()\n",
        "  all_parliament_codes.extend(parliament_code)\n",
        "\n",
        "  # Attribute - Parliament Name\n",
        "  parliament_name = sel2.css('h4 > a > span.n-name::text').extract()\n",
        "  all_parliament_names.extend(parliament_name)\n",
        "\n",
        "  # Attribute - Registered Voters\n",
        "  voters_code_snippet = sel2.css('div.voters-vote > p').extract()\n",
        "  registered_voters_snippet = [x for x in voters_code_snippet if x.find(\"Registered voters: \")>0]\n",
        "  registered_voters = [text[30:text.index('<',30)] for text in registered_voters_snippet]\n",
        "  all_registered_voters.extend(registered_voters)\n",
        "\n",
        "  # Attribute - Total Votes\n",
        "  candidates_code_snippet = sel2.css('div.panel').extract()\n",
        "  total_voters = []\n",
        "  for candidate_code_snippet in candidates_code_snippet:\n",
        "    sel3 = Selector(text=candidate_code_snippet)\n",
        "    total_voters_snippet = sel3.css('div.number-of-voters').extract()\n",
        "    total_voter = 0\n",
        "    for x in total_voters_snippet:\n",
        "      total_voter += int(x[x.index('(')+1:x.index(')')].replace(',',''))\n",
        "    total_voters.append(total_voter)\n",
        "  all_total_votes.extend(total_voters)\n",
        "  \n",
        "  # Attribute - Winning Candidate\n",
        "  candidates_code_snippet = sel2.css('div.panel').extract()\n",
        "  winning_candidates = []\n",
        "  for candidate_code_snippet in candidates_code_snippet:\n",
        "    sel3 = Selector(text=candidate_code_snippet)\n",
        "    candidates_name = sel3.css('p.name-candidate::text').extract()\n",
        "    winning_candidate = candidates_name[0][0:candidates_name[0].index('(')-1]\n",
        "    winning_candidates.append(winning_candidate)\n",
        "  all_winning_candidates.extend(winning_candidates)\n",
        "\n",
        "  # Attribute - Winning Party\n",
        "  winners_code_snippet = sel2.xpath('//div[contains(@class, \"panel-heading winner-\")]').extract()\n",
        "  winner_class = [re.findall('winner-[a-z]+', string) for string in winners_code_snippet]\n",
        "  winning_parties = [x[0][7:] for x in winner_class]\n",
        "  all_winning_parties.extend(winning_parties)\n",
        "\n",
        "  # Attribute - Winning Majority\n",
        "  majority_code_snippet = sel2.css('div.voters-vote > p').extract()\n",
        "  majority_vote = [x for x in majority_code_snippet if x[3:11] == 'Majority']\n",
        "  winning_majority = [text[21:text.index('<',21)] for text in majority_vote]\n",
        "  all_winning_majorities.extend(winning_majority)\n",
        "\n",
        "  # Attribute - Winning Percentage\n",
        "  candidates_code_snippet = sel2.css('div.panel').extract()\n",
        "  winning_percentages = []\n",
        "  for candidate_code_snippet in candidates_code_snippet:\n",
        "    sel3 = Selector(text=candidate_code_snippet)\n",
        "    winning_percentage = sel3.css('span.voters-percent::text').extract()\n",
        "    winning_percentages.append(winning_percentage[0])\n",
        "  all_winning_percentages.extend(winning_percentages)"
      ]
    },
    {
      "attachments": {},
      "cell_type": "markdown",
      "metadata": {
        "id": "FvQEnYlkiE05"
      },
      "source": [
        "## Transform"
      ]
    },
    {
      "cell_type": "code",
      "execution_count": null,
      "metadata": {
        "colab": {
          "base_uri": "https://localhost:8080/",
          "height": 424
        },
        "id": "4molstboeb-t",
        "outputId": "9b116dd2-6593-4975-adcd-0f4d63a63b22"
      },
      "outputs": [
        {
          "data": {
            "text/html": [
              "\n",
              "  <div id=\"df-03773feb-f9d8-4418-84f5-63928afed491\">\n",
              "    <div class=\"colab-df-container\">\n",
              "      <div>\n",
              "<style scoped>\n",
              "    .dataframe tbody tr th:only-of-type {\n",
              "        vertical-align: middle;\n",
              "    }\n",
              "\n",
              "    .dataframe tbody tr th {\n",
              "        vertical-align: top;\n",
              "    }\n",
              "\n",
              "    .dataframe thead th {\n",
              "        text-align: right;\n",
              "    }\n",
              "</style>\n",
              "<table border=\"1\" class=\"dataframe\">\n",
              "  <thead>\n",
              "    <tr style=\"text-align: right;\">\n",
              "      <th></th>\n",
              "      <th>Parliament Name</th>\n",
              "      <th>Registered Voters</th>\n",
              "      <th>Total Voters</th>\n",
              "      <th>Winning Candidate</th>\n",
              "      <th>Winning Party</th>\n",
              "      <th>Winning Percentage</th>\n",
              "      <th>Winning Majority</th>\n",
              "    </tr>\n",
              "  </thead>\n",
              "  <tbody>\n",
              "    <tr>\n",
              "      <th>P1</th>\n",
              "      <td>padang besar</td>\n",
              "      <td>60,192</td>\n",
              "      <td>45288</td>\n",
              "      <td>Rushdan Rusmi</td>\n",
              "      <td>pas</td>\n",
              "      <td>40.3%</td>\n",
              "      <td>12,514</td>\n",
              "    </tr>\n",
              "    <tr>\n",
              "      <th>P2</th>\n",
              "      <td>kangar</td>\n",
              "      <td>74,859</td>\n",
              "      <td>56200</td>\n",
              "      <td>Zakri Hassan</td>\n",
              "      <td>bersatu</td>\n",
              "      <td>32.8%</td>\n",
              "      <td>9,192</td>\n",
              "    </tr>\n",
              "    <tr>\n",
              "      <th>P3</th>\n",
              "      <td>arau</td>\n",
              "      <td>60,876</td>\n",
              "      <td>46789</td>\n",
              "      <td>Shahidan Kassim</td>\n",
              "      <td>pas</td>\n",
              "      <td>51.7%</td>\n",
              "      <td>23,216</td>\n",
              "    </tr>\n",
              "    <tr>\n",
              "      <th>P4</th>\n",
              "      <td>langkawi</td>\n",
              "      <td>66,777</td>\n",
              "      <td>47480</td>\n",
              "      <td>Mohd Suhaimi Abdullah</td>\n",
              "      <td>bersatu</td>\n",
              "      <td>38.1%</td>\n",
              "      <td>13,518</td>\n",
              "    </tr>\n",
              "    <tr>\n",
              "      <th>P5</th>\n",
              "      <td>jerlun</td>\n",
              "      <td>67,601</td>\n",
              "      <td>52207</td>\n",
              "      <td>Abd Ghani Ahmad</td>\n",
              "      <td>pas</td>\n",
              "      <td>46.9%</td>\n",
              "      <td>20,456</td>\n",
              "    </tr>\n",
              "    <tr>\n",
              "      <th>...</th>\n",
              "      <td>...</td>\n",
              "      <td>...</td>\n",
              "      <td>...</td>\n",
              "      <td>...</td>\n",
              "      <td>...</td>\n",
              "      <td>...</td>\n",
              "      <td>...</td>\n",
              "    </tr>\n",
              "    <tr>\n",
              "      <th>P218</th>\n",
              "      <td>sibuti</td>\n",
              "      <td>58,522</td>\n",
              "      <td>33916</td>\n",
              "      <td>Lukanisman Awang Sauni</td>\n",
              "      <td>pbb</td>\n",
              "      <td>37.8%</td>\n",
              "      <td>11,745</td>\n",
              "    </tr>\n",
              "    <tr>\n",
              "      <th>P219</th>\n",
              "      <td>miri</td>\n",
              "      <td>143,229</td>\n",
              "      <td>78148</td>\n",
              "      <td>Chiew Choon Man</td>\n",
              "      <td>pkr</td>\n",
              "      <td>27.6%</td>\n",
              "      <td>6,159</td>\n",
              "    </tr>\n",
              "    <tr>\n",
              "      <th>P220</th>\n",
              "      <td>baram</td>\n",
              "      <td>59,535</td>\n",
              "      <td>29783</td>\n",
              "      <td>Anyi Ngau</td>\n",
              "      <td>pdp</td>\n",
              "      <td>30.9%</td>\n",
              "      <td>7,339</td>\n",
              "    </tr>\n",
              "    <tr>\n",
              "      <th>P221</th>\n",
              "      <td>limbang</td>\n",
              "      <td>41,999</td>\n",
              "      <td>19796</td>\n",
              "      <td>Hasbi Habibollah</td>\n",
              "      <td>pbb</td>\n",
              "      <td>35.5%</td>\n",
              "      <td>9,998</td>\n",
              "    </tr>\n",
              "    <tr>\n",
              "      <th>P222</th>\n",
              "      <td>lawas</td>\n",
              "      <td>33,655</td>\n",
              "      <td>18208</td>\n",
              "      <td>Henry Sum Agong</td>\n",
              "      <td>pbb</td>\n",
              "      <td>33.8%</td>\n",
              "      <td>5,677</td>\n",
              "    </tr>\n",
              "  </tbody>\n",
              "</table>\n",
              "<p>222 rows × 7 columns</p>\n",
              "</div>\n",
              "      <button class=\"colab-df-convert\" onclick=\"convertToInteractive('df-03773feb-f9d8-4418-84f5-63928afed491')\"\n",
              "              title=\"Convert this dataframe to an interactive table.\"\n",
              "              style=\"display:none;\">\n",
              "        \n",
              "  <svg xmlns=\"http://www.w3.org/2000/svg\" height=\"24px\"viewBox=\"0 0 24 24\"\n",
              "       width=\"24px\">\n",
              "    <path d=\"M0 0h24v24H0V0z\" fill=\"none\"/>\n",
              "    <path d=\"M18.56 5.44l.94 2.06.94-2.06 2.06-.94-2.06-.94-.94-2.06-.94 2.06-2.06.94zm-11 1L8.5 8.5l.94-2.06 2.06-.94-2.06-.94L8.5 2.5l-.94 2.06-2.06.94zm10 10l.94 2.06.94-2.06 2.06-.94-2.06-.94-.94-2.06-.94 2.06-2.06.94z\"/><path d=\"M17.41 7.96l-1.37-1.37c-.4-.4-.92-.59-1.43-.59-.52 0-1.04.2-1.43.59L10.3 9.45l-7.72 7.72c-.78.78-.78 2.05 0 2.83L4 21.41c.39.39.9.59 1.41.59.51 0 1.02-.2 1.41-.59l7.78-7.78 2.81-2.81c.8-.78.8-2.07 0-2.86zM5.41 20L4 18.59l7.72-7.72 1.47 1.35L5.41 20z\"/>\n",
              "  </svg>\n",
              "      </button>\n",
              "      \n",
              "  <style>\n",
              "    .colab-df-container {\n",
              "      display:flex;\n",
              "      flex-wrap:wrap;\n",
              "      gap: 12px;\n",
              "    }\n",
              "\n",
              "    .colab-df-convert {\n",
              "      background-color: #E8F0FE;\n",
              "      border: none;\n",
              "      border-radius: 50%;\n",
              "      cursor: pointer;\n",
              "      display: none;\n",
              "      fill: #1967D2;\n",
              "      height: 32px;\n",
              "      padding: 0 0 0 0;\n",
              "      width: 32px;\n",
              "    }\n",
              "\n",
              "    .colab-df-convert:hover {\n",
              "      background-color: #E2EBFA;\n",
              "      box-shadow: 0px 1px 2px rgba(60, 64, 67, 0.3), 0px 1px 3px 1px rgba(60, 64, 67, 0.15);\n",
              "      fill: #174EA6;\n",
              "    }\n",
              "\n",
              "    [theme=dark] .colab-df-convert {\n",
              "      background-color: #3B4455;\n",
              "      fill: #D2E3FC;\n",
              "    }\n",
              "\n",
              "    [theme=dark] .colab-df-convert:hover {\n",
              "      background-color: #434B5C;\n",
              "      box-shadow: 0px 1px 3px 1px rgba(0, 0, 0, 0.15);\n",
              "      filter: drop-shadow(0px 1px 2px rgba(0, 0, 0, 0.3));\n",
              "      fill: #FFFFFF;\n",
              "    }\n",
              "  </style>\n",
              "\n",
              "      <script>\n",
              "        const buttonEl =\n",
              "          document.querySelector('#df-03773feb-f9d8-4418-84f5-63928afed491 button.colab-df-convert');\n",
              "        buttonEl.style.display =\n",
              "          google.colab.kernel.accessAllowed ? 'block' : 'none';\n",
              "\n",
              "        async function convertToInteractive(key) {\n",
              "          const element = document.querySelector('#df-03773feb-f9d8-4418-84f5-63928afed491');\n",
              "          const dataTable =\n",
              "            await google.colab.kernel.invokeFunction('convertToInteractive',\n",
              "                                                     [key], {});\n",
              "          if (!dataTable) return;\n",
              "\n",
              "          const docLinkHtml = 'Like what you see? Visit the ' +\n",
              "            '<a target=\"_blank\" href=https://colab.research.google.com/notebooks/data_table.ipynb>data table notebook</a>'\n",
              "            + ' to learn more about interactive tables.';\n",
              "          element.innerHTML = '';\n",
              "          dataTable['output_type'] = 'display_data';\n",
              "          await google.colab.output.renderOutput(dataTable, element);\n",
              "          const docLink = document.createElement('div');\n",
              "          docLink.innerHTML = docLinkHtml;\n",
              "          element.appendChild(docLink);\n",
              "        }\n",
              "      </script>\n",
              "    </div>\n",
              "  </div>\n",
              "  "
            ],
            "text/plain": [
              "     Parliament Name Registered Voters  Total Voters       Winning Candidate  \\\n",
              "P1      padang besar            60,192         45288           Rushdan Rusmi   \n",
              "P2            kangar            74,859         56200            Zakri Hassan   \n",
              "P3              arau            60,876         46789         Shahidan Kassim   \n",
              "P4          langkawi            66,777         47480   Mohd Suhaimi Abdullah   \n",
              "P5            jerlun            67,601         52207         Abd Ghani Ahmad   \n",
              "...              ...               ...           ...                     ...   \n",
              "P218          sibuti            58,522         33916  Lukanisman Awang Sauni   \n",
              "P219            miri           143,229         78148         Chiew Choon Man   \n",
              "P220           baram            59,535         29783               Anyi Ngau   \n",
              "P221         limbang            41,999         19796        Hasbi Habibollah   \n",
              "P222           lawas            33,655         18208         Henry Sum Agong   \n",
              "\n",
              "     Winning Party Winning Percentage Winning Majority  \n",
              "P1             pas              40.3%           12,514  \n",
              "P2         bersatu              32.8%            9,192  \n",
              "P3             pas              51.7%           23,216  \n",
              "P4         bersatu              38.1%           13,518  \n",
              "P5             pas              46.9%           20,456  \n",
              "...            ...                ...              ...  \n",
              "P218           pbb              37.8%           11,745  \n",
              "P219           pkr              27.6%            6,159  \n",
              "P220           pdp              30.9%            7,339  \n",
              "P221           pbb              35.5%            9,998  \n",
              "P222           pbb              33.8%            5,677  \n",
              "\n",
              "[222 rows x 7 columns]"
            ]
          },
          "execution_count": 3,
          "metadata": {},
          "output_type": "execute_result"
        }
      ],
      "source": [
        "df = pd.DataFrame(data={'Parliament Name':all_parliament_names,\n",
        "                        'Registered Voters':all_registered_voters,\n",
        "                        'Total Voters':all_total_votes,\n",
        "                        'Winning Candidate':all_winning_candidates,\n",
        "                        'Winning Party':all_winning_parties,\n",
        "                        'Winning Percentage':all_winning_percentages,\n",
        "                        'Winning Majority':all_winning_majorities},\n",
        "                  index=[pcode[0:-1] for pcode in all_parliament_codes])\n",
        "df"
      ]
    },
    {
      "attachments": {},
      "cell_type": "markdown",
      "metadata": {
        "id": "iDFVmzoa_BVJ"
      },
      "source": [
        "##### Data Cleaning"
      ]
    },
    {
      "cell_type": "code",
      "execution_count": null,
      "metadata": {
        "colab": {
          "base_uri": "https://localhost:8080/"
        },
        "id": "d06wK7rhi-k8",
        "outputId": "233a9a16-148d-42bd-b28a-541c01f1da8e"
      },
      "outputs": [
        {
          "name": "stdout",
          "output_type": "stream",
          "text": [
            "<class 'pandas.core.frame.DataFrame'>\n",
            "Index: 222 entries, P1 to P222\n",
            "Data columns (total 7 columns):\n",
            " #   Column              Non-Null Count  Dtype \n",
            "---  ------              --------------  ----- \n",
            " 0   Parliament Name     222 non-null    object\n",
            " 1   Registered Voters   222 non-null    object\n",
            " 2   Total Voters        222 non-null    int64 \n",
            " 3   Winning Candidate   222 non-null    object\n",
            " 4   Winning Party       222 non-null    object\n",
            " 5   Winning Percentage  222 non-null    object\n",
            " 6   Winning Majority    222 non-null    object\n",
            "dtypes: int64(1), object(6)\n",
            "memory usage: 13.9+ KB\n"
          ]
        }
      ],
      "source": [
        "df.info()"
      ]
    },
    {
      "cell_type": "code",
      "execution_count": null,
      "metadata": {
        "id": "2jjeBIFcD29c"
      },
      "outputs": [],
      "source": [
        "df['Parliament Name'] = df['Parliament Name'].str.title()"
      ]
    },
    {
      "cell_type": "code",
      "execution_count": null,
      "metadata": {
        "id": "B2FcHogBiqfk"
      },
      "outputs": [],
      "source": [
        "df['Registered Voters'] = df['Registered Voters'].str.replace(',', '').astype('int64')"
      ]
    },
    {
      "cell_type": "code",
      "execution_count": null,
      "metadata": {
        "colab": {
          "base_uri": "https://localhost:8080/"
        },
        "id": "6yaAc5oTjaWM",
        "outputId": "df0ffbfa-7a69-4f90-c073-a220e3fcf370"
      },
      "outputs": [
        {
          "data": {
            "text/plain": [
              "array(['pas', 'bersatu', 'pkr', 'dap', 'umno', 'mic', 'amanah', 'muda',\n",
              "       'mca', 'ind', 'kdm', 'warisan', 'upko', 'sabah', 'pbrs', 'pbs',\n",
              "       'pbb', 'supp', 'prs', 'pbm', 'pdp'], dtype=object)"
            ]
          },
          "execution_count": 7,
          "metadata": {},
          "output_type": "execute_result"
        }
      ],
      "source": [
        "df['Winning Party'].unique()"
      ]
    },
    {
      "cell_type": "code",
      "execution_count": null,
      "metadata": {
        "id": "IqJvn4Mcjh-A"
      },
      "outputs": [],
      "source": [
        "def party_to_coalition(party):\n",
        "  if party in ['pkr', 'dap', 'amanah', 'muda', 'upko']:\n",
        "    return 'PH'\n",
        "  elif party in ['bersatu', 'pas']:\n",
        "    return 'PN'\n",
        "  elif party in ['umno', 'mic', 'mca', 'pbrs']:\n",
        "    return 'BN'\n",
        "  elif party in ['kdm']:\n",
        "    return 'KDM'\n",
        "  elif party in ['warisan']:\n",
        "    return 'WARISAN'\n",
        "  elif party in ['sabah', 'pbs']:\n",
        "    return 'GRS'\n",
        "  elif party in ['pbb', 'supp', 'prs', 'pdp']:\n",
        "    return 'GPS'\n",
        "  elif party in ['pbm']:\n",
        "    return 'PBM'\n",
        "  elif party in ['ind']:\n",
        "    return 'BEBAS'"
      ]
    },
    {
      "cell_type": "code",
      "execution_count": null,
      "metadata": {
        "colab": {
          "base_uri": "https://localhost:8080/"
        },
        "id": "lPff4VOuEVxx",
        "outputId": "1ff5166e-f708-49a3-d9e4-c3fc0fbde505"
      },
      "outputs": [
        {
          "data": {
            "text/plain": [
              "PH         82\n",
              "PN         74\n",
              "BN         30\n",
              "GPS        23\n",
              "GRS         6\n",
              "WARISAN     3\n",
              "BEBAS       2\n",
              "KDM         1\n",
              "PBM         1\n",
              "Name: Winning Coalition, dtype: int64"
            ]
          },
          "execution_count": 9,
          "metadata": {},
          "output_type": "execute_result"
        }
      ],
      "source": [
        "df['Winning Party'] = df['Winning Party'].apply(party_to_coalition)\n",
        "df.rename(columns = {'Winning Party':'Winning Coalition'}, inplace = True)\n",
        "df['Winning Coalition'].value_counts()"
      ]
    },
    {
      "cell_type": "code",
      "execution_count": null,
      "metadata": {
        "id": "bmr4DKXEnj1I"
      },
      "outputs": [],
      "source": [
        "df['Winning Percentage'] = df['Winning Percentage'].str.replace('%', '').astype('float64')\n",
        "df.rename(columns = {'Winning Percentage':'Winning Percentage (%)'}, inplace = True)"
      ]
    },
    {
      "cell_type": "code",
      "execution_count": null,
      "metadata": {
        "id": "6rUxnyZVoPiN"
      },
      "outputs": [],
      "source": [
        "df['Winning Majority'] = df['Winning Majority'].str.replace(',', '').astype('int64')"
      ]
    },
    {
      "cell_type": "code",
      "execution_count": null,
      "metadata": {
        "colab": {
          "base_uri": "https://localhost:8080/"
        },
        "id": "PpvyT3U7oYIX",
        "outputId": "9c61ce0c-6c4f-4d8b-c2f8-8c6e14d74007"
      },
      "outputs": [
        {
          "name": "stdout",
          "output_type": "stream",
          "text": [
            "<class 'pandas.core.frame.DataFrame'>\n",
            "Index: 222 entries, P1 to P222\n",
            "Data columns (total 7 columns):\n",
            " #   Column                  Non-Null Count  Dtype  \n",
            "---  ------                  --------------  -----  \n",
            " 0   Parliament Name         222 non-null    object \n",
            " 1   Registered Voters       222 non-null    int64  \n",
            " 2   Total Voters            222 non-null    int64  \n",
            " 3   Winning Candidate       222 non-null    object \n",
            " 4   Winning Coalition       222 non-null    object \n",
            " 5   Winning Percentage (%)  222 non-null    float64\n",
            " 6   Winning Majority        222 non-null    int64  \n",
            "dtypes: float64(1), int64(3), object(3)\n",
            "memory usage: 13.9+ KB\n"
          ]
        }
      ],
      "source": [
        "df.info()"
      ]
    },
    {
      "cell_type": "code",
      "execution_count": null,
      "metadata": {
        "colab": {
          "base_uri": "https://localhost:8080/",
          "height": 424
        },
        "id": "-bhh-HKoobBk",
        "outputId": "d00e0765-253f-41bc-ea0b-38bc8da7abc1"
      },
      "outputs": [
        {
          "data": {
            "text/html": [
              "\n",
              "  <div id=\"df-dbd08c40-2218-4893-ac42-1a88ab7c8691\">\n",
              "    <div class=\"colab-df-container\">\n",
              "      <div>\n",
              "<style scoped>\n",
              "    .dataframe tbody tr th:only-of-type {\n",
              "        vertical-align: middle;\n",
              "    }\n",
              "\n",
              "    .dataframe tbody tr th {\n",
              "        vertical-align: top;\n",
              "    }\n",
              "\n",
              "    .dataframe thead th {\n",
              "        text-align: right;\n",
              "    }\n",
              "</style>\n",
              "<table border=\"1\" class=\"dataframe\">\n",
              "  <thead>\n",
              "    <tr style=\"text-align: right;\">\n",
              "      <th></th>\n",
              "      <th>Parliament Name</th>\n",
              "      <th>Registered Voters</th>\n",
              "      <th>Total Voters</th>\n",
              "      <th>Winning Candidate</th>\n",
              "      <th>Winning Coalition</th>\n",
              "      <th>Winning Percentage (%)</th>\n",
              "      <th>Winning Majority</th>\n",
              "    </tr>\n",
              "  </thead>\n",
              "  <tbody>\n",
              "    <tr>\n",
              "      <th>P1</th>\n",
              "      <td>Padang Besar</td>\n",
              "      <td>60192</td>\n",
              "      <td>45288</td>\n",
              "      <td>Rushdan Rusmi</td>\n",
              "      <td>PN</td>\n",
              "      <td>40.3</td>\n",
              "      <td>12514</td>\n",
              "    </tr>\n",
              "    <tr>\n",
              "      <th>P2</th>\n",
              "      <td>Kangar</td>\n",
              "      <td>74859</td>\n",
              "      <td>56200</td>\n",
              "      <td>Zakri Hassan</td>\n",
              "      <td>PN</td>\n",
              "      <td>32.8</td>\n",
              "      <td>9192</td>\n",
              "    </tr>\n",
              "    <tr>\n",
              "      <th>P3</th>\n",
              "      <td>Arau</td>\n",
              "      <td>60876</td>\n",
              "      <td>46789</td>\n",
              "      <td>Shahidan Kassim</td>\n",
              "      <td>PN</td>\n",
              "      <td>51.7</td>\n",
              "      <td>23216</td>\n",
              "    </tr>\n",
              "    <tr>\n",
              "      <th>P4</th>\n",
              "      <td>Langkawi</td>\n",
              "      <td>66777</td>\n",
              "      <td>47480</td>\n",
              "      <td>Mohd Suhaimi Abdullah</td>\n",
              "      <td>PN</td>\n",
              "      <td>38.1</td>\n",
              "      <td>13518</td>\n",
              "    </tr>\n",
              "    <tr>\n",
              "      <th>P5</th>\n",
              "      <td>Jerlun</td>\n",
              "      <td>67601</td>\n",
              "      <td>52207</td>\n",
              "      <td>Abd Ghani Ahmad</td>\n",
              "      <td>PN</td>\n",
              "      <td>46.9</td>\n",
              "      <td>20456</td>\n",
              "    </tr>\n",
              "    <tr>\n",
              "      <th>...</th>\n",
              "      <td>...</td>\n",
              "      <td>...</td>\n",
              "      <td>...</td>\n",
              "      <td>...</td>\n",
              "      <td>...</td>\n",
              "      <td>...</td>\n",
              "      <td>...</td>\n",
              "    </tr>\n",
              "    <tr>\n",
              "      <th>P218</th>\n",
              "      <td>Sibuti</td>\n",
              "      <td>58522</td>\n",
              "      <td>33916</td>\n",
              "      <td>Lukanisman Awang Sauni</td>\n",
              "      <td>GPS</td>\n",
              "      <td>37.8</td>\n",
              "      <td>11745</td>\n",
              "    </tr>\n",
              "    <tr>\n",
              "      <th>P219</th>\n",
              "      <td>Miri</td>\n",
              "      <td>143229</td>\n",
              "      <td>78148</td>\n",
              "      <td>Chiew Choon Man</td>\n",
              "      <td>PH</td>\n",
              "      <td>27.6</td>\n",
              "      <td>6159</td>\n",
              "    </tr>\n",
              "    <tr>\n",
              "      <th>P220</th>\n",
              "      <td>Baram</td>\n",
              "      <td>59535</td>\n",
              "      <td>29783</td>\n",
              "      <td>Anyi Ngau</td>\n",
              "      <td>GPS</td>\n",
              "      <td>30.9</td>\n",
              "      <td>7339</td>\n",
              "    </tr>\n",
              "    <tr>\n",
              "      <th>P221</th>\n",
              "      <td>Limbang</td>\n",
              "      <td>41999</td>\n",
              "      <td>19796</td>\n",
              "      <td>Hasbi Habibollah</td>\n",
              "      <td>GPS</td>\n",
              "      <td>35.5</td>\n",
              "      <td>9998</td>\n",
              "    </tr>\n",
              "    <tr>\n",
              "      <th>P222</th>\n",
              "      <td>Lawas</td>\n",
              "      <td>33655</td>\n",
              "      <td>18208</td>\n",
              "      <td>Henry Sum Agong</td>\n",
              "      <td>GPS</td>\n",
              "      <td>33.8</td>\n",
              "      <td>5677</td>\n",
              "    </tr>\n",
              "  </tbody>\n",
              "</table>\n",
              "<p>222 rows × 7 columns</p>\n",
              "</div>\n",
              "      <button class=\"colab-df-convert\" onclick=\"convertToInteractive('df-dbd08c40-2218-4893-ac42-1a88ab7c8691')\"\n",
              "              title=\"Convert this dataframe to an interactive table.\"\n",
              "              style=\"display:none;\">\n",
              "        \n",
              "  <svg xmlns=\"http://www.w3.org/2000/svg\" height=\"24px\"viewBox=\"0 0 24 24\"\n",
              "       width=\"24px\">\n",
              "    <path d=\"M0 0h24v24H0V0z\" fill=\"none\"/>\n",
              "    <path d=\"M18.56 5.44l.94 2.06.94-2.06 2.06-.94-2.06-.94-.94-2.06-.94 2.06-2.06.94zm-11 1L8.5 8.5l.94-2.06 2.06-.94-2.06-.94L8.5 2.5l-.94 2.06-2.06.94zm10 10l.94 2.06.94-2.06 2.06-.94-2.06-.94-.94-2.06-.94 2.06-2.06.94z\"/><path d=\"M17.41 7.96l-1.37-1.37c-.4-.4-.92-.59-1.43-.59-.52 0-1.04.2-1.43.59L10.3 9.45l-7.72 7.72c-.78.78-.78 2.05 0 2.83L4 21.41c.39.39.9.59 1.41.59.51 0 1.02-.2 1.41-.59l7.78-7.78 2.81-2.81c.8-.78.8-2.07 0-2.86zM5.41 20L4 18.59l7.72-7.72 1.47 1.35L5.41 20z\"/>\n",
              "  </svg>\n",
              "      </button>\n",
              "      \n",
              "  <style>\n",
              "    .colab-df-container {\n",
              "      display:flex;\n",
              "      flex-wrap:wrap;\n",
              "      gap: 12px;\n",
              "    }\n",
              "\n",
              "    .colab-df-convert {\n",
              "      background-color: #E8F0FE;\n",
              "      border: none;\n",
              "      border-radius: 50%;\n",
              "      cursor: pointer;\n",
              "      display: none;\n",
              "      fill: #1967D2;\n",
              "      height: 32px;\n",
              "      padding: 0 0 0 0;\n",
              "      width: 32px;\n",
              "    }\n",
              "\n",
              "    .colab-df-convert:hover {\n",
              "      background-color: #E2EBFA;\n",
              "      box-shadow: 0px 1px 2px rgba(60, 64, 67, 0.3), 0px 1px 3px 1px rgba(60, 64, 67, 0.15);\n",
              "      fill: #174EA6;\n",
              "    }\n",
              "\n",
              "    [theme=dark] .colab-df-convert {\n",
              "      background-color: #3B4455;\n",
              "      fill: #D2E3FC;\n",
              "    }\n",
              "\n",
              "    [theme=dark] .colab-df-convert:hover {\n",
              "      background-color: #434B5C;\n",
              "      box-shadow: 0px 1px 3px 1px rgba(0, 0, 0, 0.15);\n",
              "      filter: drop-shadow(0px 1px 2px rgba(0, 0, 0, 0.3));\n",
              "      fill: #FFFFFF;\n",
              "    }\n",
              "  </style>\n",
              "\n",
              "      <script>\n",
              "        const buttonEl =\n",
              "          document.querySelector('#df-dbd08c40-2218-4893-ac42-1a88ab7c8691 button.colab-df-convert');\n",
              "        buttonEl.style.display =\n",
              "          google.colab.kernel.accessAllowed ? 'block' : 'none';\n",
              "\n",
              "        async function convertToInteractive(key) {\n",
              "          const element = document.querySelector('#df-dbd08c40-2218-4893-ac42-1a88ab7c8691');\n",
              "          const dataTable =\n",
              "            await google.colab.kernel.invokeFunction('convertToInteractive',\n",
              "                                                     [key], {});\n",
              "          if (!dataTable) return;\n",
              "\n",
              "          const docLinkHtml = 'Like what you see? Visit the ' +\n",
              "            '<a target=\"_blank\" href=https://colab.research.google.com/notebooks/data_table.ipynb>data table notebook</a>'\n",
              "            + ' to learn more about interactive tables.';\n",
              "          element.innerHTML = '';\n",
              "          dataTable['output_type'] = 'display_data';\n",
              "          await google.colab.output.renderOutput(dataTable, element);\n",
              "          const docLink = document.createElement('div');\n",
              "          docLink.innerHTML = docLinkHtml;\n",
              "          element.appendChild(docLink);\n",
              "        }\n",
              "      </script>\n",
              "    </div>\n",
              "  </div>\n",
              "  "
            ],
            "text/plain": [
              "     Parliament Name  Registered Voters  Total Voters       Winning Candidate  \\\n",
              "P1      Padang Besar              60192         45288           Rushdan Rusmi   \n",
              "P2            Kangar              74859         56200            Zakri Hassan   \n",
              "P3              Arau              60876         46789         Shahidan Kassim   \n",
              "P4          Langkawi              66777         47480   Mohd Suhaimi Abdullah   \n",
              "P5            Jerlun              67601         52207         Abd Ghani Ahmad   \n",
              "...              ...                ...           ...                     ...   \n",
              "P218          Sibuti              58522         33916  Lukanisman Awang Sauni   \n",
              "P219            Miri             143229         78148         Chiew Choon Man   \n",
              "P220           Baram              59535         29783               Anyi Ngau   \n",
              "P221         Limbang              41999         19796        Hasbi Habibollah   \n",
              "P222           Lawas              33655         18208         Henry Sum Agong   \n",
              "\n",
              "     Winning Coalition  Winning Percentage (%)  Winning Majority  \n",
              "P1                  PN                    40.3             12514  \n",
              "P2                  PN                    32.8              9192  \n",
              "P3                  PN                    51.7             23216  \n",
              "P4                  PN                    38.1             13518  \n",
              "P5                  PN                    46.9             20456  \n",
              "...                ...                     ...               ...  \n",
              "P218               GPS                    37.8             11745  \n",
              "P219                PH                    27.6              6159  \n",
              "P220               GPS                    30.9              7339  \n",
              "P221               GPS                    35.5              9998  \n",
              "P222               GPS                    33.8              5677  \n",
              "\n",
              "[222 rows x 7 columns]"
            ]
          },
          "execution_count": 13,
          "metadata": {},
          "output_type": "execute_result"
        }
      ],
      "source": [
        "df"
      ]
    },
    {
      "attachments": {},
      "cell_type": "markdown",
      "metadata": {
        "id": "jLO4zlsYqgqL"
      },
      "source": [
        "##### Data Visualization"
      ]
    },
    {
      "cell_type": "code",
      "execution_count": null,
      "metadata": {
        "id": "FtOFlNOufch-"
      },
      "outputs": [],
      "source": [
        "import matplotlib.pyplot as plt\n",
        "import numpy as np"
      ]
    },
    {
      "cell_type": "code",
      "execution_count": null,
      "metadata": {
        "colab": {
          "base_uri": "https://localhost:8080/",
          "height": 558
        },
        "id": "WqpnNfNle_zv",
        "outputId": "906ac969-f380-428e-e2fc-e2bcf5029f00"
      },
      "outputs": [
        {
          "data": {
            "image/png": "[encoded data removed]",
            "text/plain": [
              "<Figure size 1152x576 with 1 Axes>"
            ]
          },
          "metadata": {
            "needs_background": "light"
          },
          "output_type": "display_data"
        }
      ],
      "source": [
        "df.plot(x='Registered Voters', y='Total Voters', color = 'blue', style='o', legend=False, figsize=(16,8))\n",
        "\n",
        "a, b = np.polyfit(df['Registered Voters'], df['Total Voters'], 1)\n",
        "plt.plot(df['Registered Voters'], a*df['Registered Voters']+b, color='red', linestyle='--', linewidth=2)\n",
        "plt.text(200000, 225000, 'y = ' + f'{b:.2f} + {a:.2f}x', size=20)\n",
        "\n",
        "plt.title(\"Scatter Plot of Total Voters Turnout against Registered Voters\\n\", fontdict={'fontsize': 24})\n",
        "plt.xlabel('Registered Voters', fontsize=18)\n",
        "plt.ylabel('Total Voters Turnout', fontsize=18)\n",
        "plt.show()"
      ]
    },
    {
      "cell_type": "code",
      "execution_count": null,
      "metadata": {
        "colab": {
          "base_uri": "https://localhost:8080/",
          "height": 708
        },
        "id": "0BsVBaL8rlQ5",
        "outputId": "82d74975-34ae-4df1-813c-b1483b07aa96"
      },
      "outputs": [
        {
          "data": {
            "image/png": "[encoded data removed]",
            "text/plain": [
              "<Figure size 1152x864 with 1 Axes>"
            ]
          },
          "metadata": {},
          "output_type": "display_data"
        }
      ],
      "source": [
        "df['Winning Coalition'].value_counts().plot(kind='pie', label='', figsize=(16,12))\n",
        "plt.title(\"Number of Seats Won by Coalition\", fontdict={'fontsize': 24})\n",
        "plt.show()"
      ]
    },
    {
      "cell_type": "code",
      "execution_count": null,
      "metadata": {
        "colab": {
          "base_uri": "https://localhost:8080/",
          "height": 547
        },
        "id": "vsaTk0DFm3ru",
        "outputId": "bbec6b03-5148-492b-ec3d-8d9d5172dcd7"
      },
      "outputs": [
        {
          "data": {
            "text/plain": [
              "Text(0.5, 1.0, 'Distribution of Winning Percentages')"
            ]
          },
          "execution_count": 17,
          "metadata": {},
          "output_type": "execute_result"
        },
        {
          "data": {
            "image/png": "[encoded data removed]",
            "text/plain": [
              "<Figure size 1152x576 with 1 Axes>"
            ]
          },
          "metadata": {
            "needs_background": "light"
          },
          "output_type": "display_data"
        }
      ],
      "source": [
        "df['Winning Percentage (%)'].plot(kind='hist', color='blue', edgecolor='white', bins=[0, 10, 20, 30, 40, 50, 60, 70, 80, 90, 100], figsize=(16,8))\n",
        "plt.xlim(xmin=0, xmax = 100)\n",
        "plt.xlabel('Winning Percentage (%)', fontsize=18)\n",
        "plt.ylabel('Frequency', fontsize=18)\n",
        "plt.title('Distribution of Winning Percentages', fontdict={'fontsize': 24})"
      ]
    },
    {
      "attachments": {},
      "cell_type": "markdown",
      "metadata": {
        "id": "ioPeH2eK4z1l"
      },
      "source": [
        "## Load"
      ]
    },
    {
      "cell_type": "markdown",
      "metadata": {
        "id": "t7-wyUH0Ex6T"
      },
      "source": [
        "The final dataframe will look like:"
      ]
    },
    {
      "cell_type": "code",
      "execution_count": null,
      "metadata": {
        "colab": {
          "base_uri": "https://localhost:8080/",
          "height": 424
        },
        "id": "e1g2UH1tE0so",
        "outputId": "5829b478-d364-4a4d-8f09-d768dfabc9be"
      },
      "outputs": [
        {
          "data": {
            "text/html": [
              "\n",
              "  <div id=\"df-b5c198d3-304e-4b1c-b8ba-da57e12addac\">\n",
              "    <div class=\"colab-df-container\">\n",
              "      <div>\n",
              "<style scoped>\n",
              "    .dataframe tbody tr th:only-of-type {\n",
              "        vertical-align: middle;\n",
              "    }\n",
              "\n",
              "    .dataframe tbody tr th {\n",
              "        vertical-align: top;\n",
              "    }\n",
              "\n",
              "    .dataframe thead th {\n",
              "        text-align: right;\n",
              "    }\n",
              "</style>\n",
              "<table border=\"1\" class=\"dataframe\">\n",
              "  <thead>\n",
              "    <tr style=\"text-align: right;\">\n",
              "      <th></th>\n",
              "      <th>Parliament Name</th>\n",
              "      <th>Registered Voters</th>\n",
              "      <th>Total Voters</th>\n",
              "      <th>Winning Candidate</th>\n",
              "      <th>Winning Coalition</th>\n",
              "      <th>Winning Percentage (%)</th>\n",
              "      <th>Winning Majority</th>\n",
              "    </tr>\n",
              "  </thead>\n",
              "  <tbody>\n",
              "    <tr>\n",
              "      <th>P1</th>\n",
              "      <td>Padang Besar</td>\n",
              "      <td>60192</td>\n",
              "      <td>45288</td>\n",
              "      <td>Rushdan Rusmi</td>\n",
              "      <td>PN</td>\n",
              "      <td>40.3</td>\n",
              "      <td>12514</td>\n",
              "    </tr>\n",
              "    <tr>\n",
              "      <th>P2</th>\n",
              "      <td>Kangar</td>\n",
              "      <td>74859</td>\n",
              "      <td>56200</td>\n",
              "      <td>Zakri Hassan</td>\n",
              "      <td>PN</td>\n",
              "      <td>32.8</td>\n",
              "      <td>9192</td>\n",
              "    </tr>\n",
              "    <tr>\n",
              "      <th>P3</th>\n",
              "      <td>Arau</td>\n",
              "      <td>60876</td>\n",
              "      <td>46789</td>\n",
              "      <td>Shahidan Kassim</td>\n",
              "      <td>PN</td>\n",
              "      <td>51.7</td>\n",
              "      <td>23216</td>\n",
              "    </tr>\n",
              "    <tr>\n",
              "      <th>P4</th>\n",
              "      <td>Langkawi</td>\n",
              "      <td>66777</td>\n",
              "      <td>47480</td>\n",
              "      <td>Mohd Suhaimi Abdullah</td>\n",
              "      <td>PN</td>\n",
              "      <td>38.1</td>\n",
              "      <td>13518</td>\n",
              "    </tr>\n",
              "    <tr>\n",
              "      <th>P5</th>\n",
              "      <td>Jerlun</td>\n",
              "      <td>67601</td>\n",
              "      <td>52207</td>\n",
              "      <td>Abd Ghani Ahmad</td>\n",
              "      <td>PN</td>\n",
              "      <td>46.9</td>\n",
              "      <td>20456</td>\n",
              "    </tr>\n",
              "    <tr>\n",
              "      <th>...</th>\n",
              "      <td>...</td>\n",
              "      <td>...</td>\n",
              "      <td>...</td>\n",
              "      <td>...</td>\n",
              "      <td>...</td>\n",
              "      <td>...</td>\n",
              "      <td>...</td>\n",
              "    </tr>\n",
              "    <tr>\n",
              "      <th>P218</th>\n",
              "      <td>Sibuti</td>\n",
              "      <td>58522</td>\n",
              "      <td>33916</td>\n",
              "      <td>Lukanisman Awang Sauni</td>\n",
              "      <td>GPS</td>\n",
              "      <td>37.8</td>\n",
              "      <td>11745</td>\n",
              "    </tr>\n",
              "    <tr>\n",
              "      <th>P219</th>\n",
              "      <td>Miri</td>\n",
              "      <td>143229</td>\n",
              "      <td>78148</td>\n",
              "      <td>Chiew Choon Man</td>\n",
              "      <td>PH</td>\n",
              "      <td>27.6</td>\n",
              "      <td>6159</td>\n",
              "    </tr>\n",
              "    <tr>\n",
              "      <th>P220</th>\n",
              "      <td>Baram</td>\n",
              "      <td>59535</td>\n",
              "      <td>29783</td>\n",
              "      <td>Anyi Ngau</td>\n",
              "      <td>GPS</td>\n",
              "      <td>30.9</td>\n",
              "      <td>7339</td>\n",
              "    </tr>\n",
              "    <tr>\n",
              "      <th>P221</th>\n",
              "      <td>Limbang</td>\n",
              "      <td>41999</td>\n",
              "      <td>19796</td>\n",
              "      <td>Hasbi Habibollah</td>\n",
              "      <td>GPS</td>\n",
              "      <td>35.5</td>\n",
              "      <td>9998</td>\n",
              "    </tr>\n",
              "    <tr>\n",
              "      <th>P222</th>\n",
              "      <td>Lawas</td>\n",
              "      <td>33655</td>\n",
              "      <td>18208</td>\n",
              "      <td>Henry Sum Agong</td>\n",
              "      <td>GPS</td>\n",
              "      <td>33.8</td>\n",
              "      <td>5677</td>\n",
              "    </tr>\n",
              "  </tbody>\n",
              "</table>\n",
              "<p>222 rows × 7 columns</p>\n",
              "</div>\n",
              "      <button class=\"colab-df-convert\" onclick=\"convertToInteractive('df-b5c198d3-304e-4b1c-b8ba-da57e12addac')\"\n",
              "              title=\"Convert this dataframe to an interactive table.\"\n",
              "              style=\"display:none;\">\n",
              "        \n",
              "  <svg xmlns=\"http://www.w3.org/2000/svg\" height=\"24px\"viewBox=\"0 0 24 24\"\n",
              "       width=\"24px\">\n",
              "    <path d=\"M0 0h24v24H0V0z\" fill=\"none\"/>\n",
              "    <path d=\"M18.56 5.44l.94 2.06.94-2.06 2.06-.94-2.06-.94-.94-2.06-.94 2.06-2.06.94zm-11 1L8.5 8.5l.94-2.06 2.06-.94-2.06-.94L8.5 2.5l-.94 2.06-2.06.94zm10 10l.94 2.06.94-2.06 2.06-.94-2.06-.94-.94-2.06-.94 2.06-2.06.94z\"/><path d=\"M17.41 7.96l-1.37-1.37c-.4-.4-.92-.59-1.43-.59-.52 0-1.04.2-1.43.59L10.3 9.45l-7.72 7.72c-.78.78-.78 2.05 0 2.83L4 21.41c.39.39.9.59 1.41.59.51 0 1.02-.2 1.41-.59l7.78-7.78 2.81-2.81c.8-.78.8-2.07 0-2.86zM5.41 20L4 18.59l7.72-7.72 1.47 1.35L5.41 20z\"/>\n",
              "  </svg>\n",
              "      </button>\n",
              "      \n",
              "  <style>\n",
              "    .colab-df-container {\n",
              "      display:flex;\n",
              "      flex-wrap:wrap;\n",
              "      gap: 12px;\n",
              "    }\n",
              "\n",
              "    .colab-df-convert {\n",
              "      background-color: #E8F0FE;\n",
              "      border: none;\n",
              "      border-radius: 50%;\n",
              "      cursor: pointer;\n",
              "      display: none;\n",
              "      fill: #1967D2;\n",
              "      height: 32px;\n",
              "      padding: 0 0 0 0;\n",
              "      width: 32px;\n",
              "    }\n",
              "\n",
              "    .colab-df-convert:hover {\n",
              "      background-color: #E2EBFA;\n",
              "      box-shadow: 0px 1px 2px rgba(60, 64, 67, 0.3), 0px 1px 3px 1px rgba(60, 64, 67, 0.15);\n",
              "      fill: #174EA6;\n",
              "    }\n",
              "\n",
              "    [theme=dark] .colab-df-convert {\n",
              "      background-color: #3B4455;\n",
              "      fill: #D2E3FC;\n",
              "    }\n",
              "\n",
              "    [theme=dark] .colab-df-convert:hover {\n",
              "      background-color: #434B5C;\n",
              "      box-shadow: 0px 1px 3px 1px rgba(0, 0, 0, 0.15);\n",
              "      filter: drop-shadow(0px 1px 2px rgba(0, 0, 0, 0.3));\n",
              "      fill: #FFFFFF;\n",
              "    }\n",
              "  </style>\n",
              "\n",
              "      <script>\n",
              "        const buttonEl =\n",
              "          document.querySelector('#df-b5c198d3-304e-4b1c-b8ba-da57e12addac button.colab-df-convert');\n",
              "        buttonEl.style.display =\n",
              "          google.colab.kernel.accessAllowed ? 'block' : 'none';\n",
              "\n",
              "        async function convertToInteractive(key) {\n",
              "          const element = document.querySelector('#df-b5c198d3-304e-4b1c-b8ba-da57e12addac');\n",
              "          const dataTable =\n",
              "            await google.colab.kernel.invokeFunction('convertToInteractive',\n",
              "                                                     [key], {});\n",
              "          if (!dataTable) return;\n",
              "\n",
              "          const docLinkHtml = 'Like what you see? Visit the ' +\n",
              "            '<a target=\"_blank\" href=https://colab.research.google.com/notebooks/data_table.ipynb>data table notebook</a>'\n",
              "            + ' to learn more about interactive tables.';\n",
              "          element.innerHTML = '';\n",
              "          dataTable['output_type'] = 'display_data';\n",
              "          await google.colab.output.renderOutput(dataTable, element);\n",
              "          const docLink = document.createElement('div');\n",
              "          docLink.innerHTML = docLinkHtml;\n",
              "          element.appendChild(docLink);\n",
              "        }\n",
              "      </script>\n",
              "    </div>\n",
              "  </div>\n",
              "  "
            ],
            "text/plain": [
              "     Parliament Name  Registered Voters  Total Voters       Winning Candidate  \\\n",
              "P1      Padang Besar              60192         45288           Rushdan Rusmi   \n",
              "P2            Kangar              74859         56200            Zakri Hassan   \n",
              "P3              Arau              60876         46789         Shahidan Kassim   \n",
              "P4          Langkawi              66777         47480   Mohd Suhaimi Abdullah   \n",
              "P5            Jerlun              67601         52207         Abd Ghani Ahmad   \n",
              "...              ...                ...           ...                     ...   \n",
              "P218          Sibuti              58522         33916  Lukanisman Awang Sauni   \n",
              "P219            Miri             143229         78148         Chiew Choon Man   \n",
              "P220           Baram              59535         29783               Anyi Ngau   \n",
              "P221         Limbang              41999         19796        Hasbi Habibollah   \n",
              "P222           Lawas              33655         18208         Henry Sum Agong   \n",
              "\n",
              "     Winning Coalition  Winning Percentage (%)  Winning Majority  \n",
              "P1                  PN                    40.3             12514  \n",
              "P2                  PN                    32.8              9192  \n",
              "P3                  PN                    51.7             23216  \n",
              "P4                  PN                    38.1             13518  \n",
              "P5                  PN                    46.9             20456  \n",
              "...                ...                     ...               ...  \n",
              "P218               GPS                    37.8             11745  \n",
              "P219                PH                    27.6              6159  \n",
              "P220               GPS                    30.9              7339  \n",
              "P221               GPS                    35.5              9998  \n",
              "P222               GPS                    33.8              5677  \n",
              "\n",
              "[222 rows x 7 columns]"
            ]
          },
          "execution_count": 18,
          "metadata": {},
          "output_type": "execute_result"
        }
      ],
      "source": [
        "df"
      ]
    },
    {
      "cell_type": "markdown",
      "metadata": {
        "id": "e2VUIPoaE3pP"
      },
      "source": [
        "Save the dataframe into a .csv file."
      ]
    },
    {
      "cell_type": "code",
      "execution_count": null,
      "metadata": {
        "id": "28nIFHyEBmjo"
      },
      "outputs": [],
      "source": [
        "df.to_csv('data.csv')"
      ]
    }
  ],
  "metadata": {
    "colab": {
      "provenance": []
    },
    "kernelspec": {
      "display_name": "Python 3",
      "language": "python",
      "name": "python3"
    },
    "language_info": {
      "name": "python",
      "version": "3.9.10 (v3.9.10:f2f3f53782, Jan 13 2022, 17:02:14) \n[Clang 6.0 (clang-600.0.57)]"
    },
    "vscode": {
      "interpreter": {
        "hash": "aee8b7b246df8f9039afb4144a1f6fd8d2ca17a180786b69acc140d282b71a49"
      }
    }
  },
  "nbformat": 4,
  "nbformat_minor": 0
}
