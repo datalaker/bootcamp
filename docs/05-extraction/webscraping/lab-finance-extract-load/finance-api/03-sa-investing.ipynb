{
 "cells": [
  {
   "cell_type": "markdown",
   "metadata": {},
   "source": [
    ":::danger\n",
    "Script not working. Requests being blocked due to Cloudflare filter security\n",
    ":::"
   ]
  },
  {
   "cell_type": "code",
   "execution_count": 1,
   "metadata": {},
   "outputs": [],
   "source": [
    "import time\n",
    "import csv\n",
    "import re\n",
    "\n",
    "import numpy as np\n",
    "import pandas as pd\n",
    "import requests\n",
    "import bs4\n",
    "import lxml.etree as xml\n",
    "\n",
    "import pprint\n",
    "\n",
    "import glob\n",
    "\n",
    "from googlesearch import search\n",
    "\n",
    "import investpy\n",
    "\n",
    "from bs4 import BeautifulSoup\n",
    "\n",
    "from tqdm.auto import tqdm\n",
    "tqdm.pandas()\n",
    "\n",
    "import warnings\n",
    "warnings.filterwarnings(\"ignore\")"
   ]
  },
  {
   "cell_type": "code",
   "execution_count": 5,
   "metadata": {},
   "outputs": [],
   "source": [
    "def name_convert(text):\n",
    "    searchval = text + ' investing.com'\n",
    "    links = []\n",
    "    try:\n",
    "        for url in search(searchval, lang='en', num_results=3):\n",
    "            links.append(url)\n",
    "    except:\n",
    "        return []\n",
    "    links = [x if 'investing.com' in x else '' for x in links]\n",
    "    links = [x for x in links if x]\n",
    "    tickers = []\n",
    "    for link in links:\n",
    "        try:\n",
    "            link = str(link)\n",
    "            link = link.split(\"/\")\n",
    "            if link[-1]=='':\n",
    "                ticker=link[-2]\n",
    "            else:\n",
    "                x=link[-1].split('=')\n",
    "                ticker=x[-1]\n",
    "            tickers.append(ticker)\n",
    "        except:\n",
    "            continue\n",
    "    return list(set(tickers))"
   ]
  },
  {
   "cell_type": "code",
   "execution_count": 6,
   "metadata": {},
   "outputs": [
    {
     "data": {
      "text/html": [
       "<div>\n",
       "<style scoped>\n",
       "    .dataframe tbody tr th:only-of-type {\n",
       "        vertical-align: middle;\n",
       "    }\n",
       "\n",
       "    .dataframe tbody tr th {\n",
       "        vertical-align: top;\n",
       "    }\n",
       "\n",
       "    .dataframe thead th {\n",
       "        text-align: right;\n",
       "    }\n",
       "</style>\n",
       "<table border=\"1\" class=\"dataframe\">\n",
       "  <thead>\n",
       "    <tr style=\"text-align: right;\">\n",
       "      <th></th>\n",
       "      <th>id</th>\n",
       "      <th>company</th>\n",
       "    </tr>\n",
       "  </thead>\n",
       "  <tbody>\n",
       "    <tr>\n",
       "      <th>0</th>\n",
       "      <td>0</td>\n",
       "      <td>Harley-Davidson Inc. (Ticker: HOG)</td>\n",
       "    </tr>\n",
       "    <tr>\n",
       "      <th>1</th>\n",
       "      <td>1</td>\n",
       "      <td>Amtek Auto Ltd</td>\n",
       "    </tr>\n",
       "    <tr>\n",
       "      <th>2</th>\n",
       "      <td>2</td>\n",
       "      <td>Renault SA (Ticker: RNO)</td>\n",
       "    </tr>\n",
       "    <tr>\n",
       "      <th>3</th>\n",
       "      <td>3</td>\n",
       "      <td>Continental AG (Ticker: CON)</td>\n",
       "    </tr>\n",
       "    <tr>\n",
       "      <th>4</th>\n",
       "      <td>4</td>\n",
       "      <td>The Kroger Co. (Ticker: KR)</td>\n",
       "    </tr>\n",
       "  </tbody>\n",
       "</table>\n",
       "</div>"
      ],
      "text/plain": [
       "   id                             company\n",
       "0   0  Harley-Davidson Inc. (Ticker: HOG)\n",
       "1   1                      Amtek Auto Ltd\n",
       "2   2            Renault SA (Ticker: RNO)\n",
       "3   3        Continental AG (Ticker: CON)\n",
       "4   4         The Kroger Co. (Ticker: KR)"
      ]
     },
     "execution_count": 6,
     "metadata": {},
     "output_type": "execute_result"
    }
   ],
   "source": [
    "companies = [\"Harley-Davidson Inc. (Ticker: HOG)\",\n",
    "\"Amtek Auto Ltd\",\n",
    "\"Renault SA (Ticker: RNO)\",\n",
    "\"Continental AG (Ticker: CON)\",\n",
    "\"The Kroger Co. (Ticker: KR)\",\n",
    "]\n",
    "\n",
    "companies = {k:v for k,v in enumerate(companies)}\n",
    "\n",
    "companies = pd.DataFrame(companies.items(), columns=['id','company'])\n",
    "\n",
    "companies.head()"
   ]
  },
  {
   "cell_type": "code",
   "execution_count": 7,
   "metadata": {},
   "outputs": [
    {
     "name": "stderr",
     "output_type": "stream",
     "text": [
      "100%|██████████| 5/5 [00:07<00:00,  1.59s/it]\n"
     ]
    },
    {
     "data": {
      "text/html": [
       "<div>\n",
       "<style scoped>\n",
       "    .dataframe tbody tr th:only-of-type {\n",
       "        vertical-align: middle;\n",
       "    }\n",
       "\n",
       "    .dataframe tbody tr th {\n",
       "        vertical-align: top;\n",
       "    }\n",
       "\n",
       "    .dataframe thead th {\n",
       "        text-align: right;\n",
       "    }\n",
       "</style>\n",
       "<table border=\"1\" class=\"dataframe\">\n",
       "  <thead>\n",
       "    <tr style=\"text-align: right;\">\n",
       "      <th></th>\n",
       "      <th>id</th>\n",
       "      <th>company</th>\n",
       "      <th>tickers</th>\n",
       "    </tr>\n",
       "  </thead>\n",
       "  <tbody>\n",
       "    <tr>\n",
       "      <th>0</th>\n",
       "      <td>0</td>\n",
       "      <td>Harley-Davidson Inc. (Ticker: HOG)</td>\n",
       "      <td>[harley-davidson-chart, 2, harley-davidson-opt...</td>\n",
       "    </tr>\n",
       "    <tr>\n",
       "      <th>1</th>\n",
       "      <td>1</td>\n",
       "      <td>Amtek Auto Ltd</td>\n",
       "      <td>[6, amtek-auto-company-profile, amtek-auto, am...</td>\n",
       "    </tr>\n",
       "    <tr>\n",
       "      <th>2</th>\n",
       "      <td>2</td>\n",
       "      <td>Renault SA (Ticker: RNO)</td>\n",
       "      <td>[renault, renault-sa, renault-sa-drc, renault-...</td>\n",
       "    </tr>\n",
       "    <tr>\n",
       "      <th>3</th>\n",
       "      <td>3</td>\n",
       "      <td>Continental AG (Ticker: CON)</td>\n",
       "      <td>[]</td>\n",
       "    </tr>\n",
       "    <tr>\n",
       "      <th>4</th>\n",
       "      <td>4</td>\n",
       "      <td>The Kroger Co. (Ticker: KR)</td>\n",
       "      <td>[kroger-co]</td>\n",
       "    </tr>\n",
       "  </tbody>\n",
       "</table>\n",
       "</div>"
      ],
      "text/plain": [
       "   id                             company  \\\n",
       "0   0  Harley-Davidson Inc. (Ticker: HOG)   \n",
       "1   1                      Amtek Auto Ltd   \n",
       "2   2            Renault SA (Ticker: RNO)   \n",
       "3   3        Continental AG (Ticker: CON)   \n",
       "4   4         The Kroger Co. (Ticker: KR)   \n",
       "\n",
       "                                             tickers  \n",
       "0  [harley-davidson-chart, 2, harley-davidson-opt...  \n",
       "1  [6, amtek-auto-company-profile, amtek-auto, am...  \n",
       "2  [renault, renault-sa, renault-sa-drc, renault-...  \n",
       "3                                                 []  \n",
       "4                                        [kroger-co]  "
      ]
     },
     "execution_count": 7,
     "metadata": {},
     "output_type": "execute_result"
    }
   ],
   "source": [
    "companies['tickers'] = companies.company.progress_apply(name_convert)\n",
    "companies"
   ]
  },
  {
   "cell_type": "code",
   "execution_count": 17,
   "metadata": {},
   "outputs": [
    {
     "data": {
      "text/plain": [
       "<!DOCTYPE html>\n",
       "\n",
       "<!--[if lt IE 7]> <html class=\"no-js ie6 oldie\" lang=\"en-US\"> <![endif]-->\n",
       "<!--[if IE 7]>    <html class=\"no-js ie7 oldie\" lang=\"en-US\"> <![endif]-->\n",
       "<!--[if IE 8]>    <html class=\"no-js ie8 oldie\" lang=\"en-US\"> <![endif]-->\n",
       "<!--[if gt IE 8]><!--> <html class=\"no-js\" lang=\"en-US\"> <!--<![endif]-->\n",
       "<head>\n",
       "<title>Attention Required! | Cloudflare</title>\n",
       "<meta charset=\"utf-8\"/>\n",
       "<meta content=\"text/html; charset=utf-8\" http-equiv=\"Content-Type\"/>\n",
       "<meta content=\"IE=Edge\" http-equiv=\"X-UA-Compatible\"/>\n",
       "<meta content=\"noindex, nofollow\" name=\"robots\"/>\n",
       "<meta content=\"width=device-width,initial-scale=1\" name=\"viewport\"/>\n",
       "<link href=\"/cdn-cgi/styles/cf.errors.css\" id=\"cf_styles-css\" rel=\"stylesheet\"/>\n",
       "<!--[if lt IE 9]><link rel=\"stylesheet\" id='cf_styles-ie-css' href=\"/cdn-cgi/styles/cf.errors.ie.css\" /><![endif]-->\n",
       "<style>body{margin:0;padding:0}</style>\n",
       "<!--[if gte IE 10]><!-->\n",
       "<script>\n",
       "  if (!navigator.cookieEnabled) {\n",
       "    window.addEventListener('DOMContentLoaded', function () {\n",
       "      var cookieEl = document.getElementById('cookie-alert');\n",
       "      cookieEl.style.display = 'block';\n",
       "    })\n",
       "  }\n",
       "</script>\n",
       "<!--<![endif]-->\n",
       "</head>\n",
       "<body>\n",
       "<div id=\"cf-wrapper\">\n",
       "<div class=\"cf-alert cf-alert-error cf-cookie-error\" data-translate=\"enable_cookies\" id=\"cookie-alert\">Please enable cookies.</div>\n",
       "<div class=\"cf-error-details-wrapper\" id=\"cf-error-details\">\n",
       "<div class=\"cf-wrapper cf-header cf-error-overview\">\n",
       "<h1 data-translate=\"block_headline\">Sorry, you have been blocked</h1>\n",
       "<h2 class=\"cf-subheadline\"><span data-translate=\"unable_to_access\">You are unable to access</span> investing.com</h2>\n",
       "</div><!-- /.header -->\n",
       "<div class=\"cf-section cf-highlight\">\n",
       "<div class=\"cf-wrapper\">\n",
       "<div class=\"cf-screenshot-container cf-screenshot-full\">\n",
       "<span class=\"cf-no-screenshot error\"></span>\n",
       "</div>\n",
       "</div>\n",
       "</div><!-- /.captcha-container -->\n",
       "<div class=\"cf-section cf-wrapper\">\n",
       "<div class=\"cf-columns two\">\n",
       "<div class=\"cf-column\">\n",
       "<h2 data-translate=\"blocked_why_headline\">Why have I been blocked?</h2>\n",
       "<p data-translate=\"blocked_why_detail\">This website is using a security service to protect itself from online attacks. The action you just performed triggered the security solution. There are several actions that could trigger this block including submitting a certain word or phrase, a SQL command or malformed data.</p>\n",
       "</div>\n",
       "<div class=\"cf-column\">\n",
       "<h2 data-translate=\"blocked_resolve_headline\">What can I do to resolve this?</h2>\n",
       "<p data-translate=\"blocked_resolve_detail\">You can email the site owner to let them know you were blocked. Please include what you were doing when this page came up and the Cloudflare Ray ID found at the bottom of this page.</p>\n",
       "</div>\n",
       "</div>\n",
       "</div><!-- /.section -->\n",
       "<div class=\"cf-error-footer cf-wrapper w-240 lg:w-full py-10 sm:py-4 sm:px-8 mx-auto text-center sm:text-left border-solid border-0 border-t border-gray-300\">\n",
       "<p class=\"text-13\">\n",
       "<span class=\"cf-footer-item sm:block sm:mb-1\">Cloudflare Ray ID: <strong class=\"font-semibold\">772b5ffa3d378e90</strong></span>\n",
       "<span class=\"cf-footer-separator sm:hidden\">•</span>\n",
       "<span class=\"cf-footer-item hidden sm:block sm:mb-1\" id=\"cf-footer-item-ip\">\n",
       "      Your IP:\n",
       "      <button class=\"cf-footer-ip-reveal-btn\" id=\"cf-footer-ip-reveal\" type=\"button\">Click to reveal</button>\n",
       "<span class=\"hidden\" id=\"cf-footer-ip\">2409:4053:e0b:8828:3508:5fff:bb92:b26f</span>\n",
       "<span class=\"cf-footer-separator sm:hidden\">•</span>\n",
       "</span>\n",
       "<span class=\"cf-footer-item sm:block sm:mb-1\"><span>Performance &amp; security by</span> <a href=\"https://www.cloudflare.com/5xx-error-landing\" id=\"brand_link\" rel=\"noopener noreferrer\" target=\"_blank\">Cloudflare</a></span>\n",
       "</p>\n",
       "<script>(function(){function d(){var b=a.getElementById(\"cf-footer-item-ip\"),c=a.getElementById(\"cf-footer-ip-reveal\");b&&\"classList\"in b&&(b.classList.remove(\"hidden\"),c.addEventListener(\"click\",function(){c.classList.add(\"hidden\");a.getElementById(\"cf-footer-ip\").classList.remove(\"hidden\")}))}var a=document;document.addEventListener&&a.addEventListener(\"DOMContentLoaded\",d)})();</script>\n",
       "</div><!-- /.error-footer -->\n",
       "</div><!-- /#cf-error-details -->\n",
       "</div><!-- /#cf-wrapper -->\n",
       "<script>\n",
       "  window._cf_translation = {};\n",
       "  \n",
       "  \n",
       "</script>\n",
       "</body>\n",
       "</html>"
      ]
     },
     "execution_count": 17,
     "metadata": {},
     "output_type": "execute_result"
    }
   ],
   "source": [
    "soup"
   ]
  },
  {
   "cell_type": "code",
   "execution_count": 16,
   "metadata": {},
   "outputs": [],
   "source": [
    "for info in soup.find_all('div', {'class': 'right general-info'}):\n",
    "    print(info)"
   ]
  },
  {
   "cell_type": "code",
   "execution_count": null,
   "metadata": {},
   "outputs": [],
   "source": [
    "for info in soup.find_all('i', {'class': 'btnTextDropDwn arial_12 bold'}):\n",
    "    info_lst.append(info.text)\n",
    "for info in soup.find_all('div', {'class': 'right general-info'}):\n",
    "    info_lst.append(info.text.split('\\n\\n')[2].split('\\xa0\\n')[1])\n",
    "for info in soup.find_all('div', {'class': 'companyProfileHeader'}):\n",
    "    info = info.text\n",
    "    info = info.split('\\n')[1:-2]\n",
    "    info_lst.append(info[0].replace('Industry',''))\n",
    "    info_lst.append(info[1].replace('Sector',''))\n",
    "    info_lst.append(info[2].replace('Employees',''))\n",
    "info_lst"
   ]
  },
  {
   "cell_type": "code",
   "execution_count": 18,
   "metadata": {},
   "outputs": [],
   "source": [
    "headers = {\n",
    "    \"Accept\": \"text/html,application/xhtml+xml,application/xml;q=0.9,image/avif,image/webp,image/apng,*/*;q=0.8,application/signed-exchange;v=b3;q=0.9\", \n",
    "    \"Accept-Encoding\": \"gzip, deflate\", \n",
    "    \"Accept-Language\": \"en-IN,en;q=0.9,en-GB;q=0.8,en-US;q=0.7,hi;q=0.6\", \n",
    "    \"Host\": \"httpbin.org\", \n",
    "    \"Upgrade-Insecure-Requests\": \"1\", \n",
    "    \"User-Agent\": \"Mozilla/5.0 (Macintosh; Intel Mac OS X 10_15_7) AppleWebKit/537.36 (KHTML, like Gecko) Chrome/107.0.0.0 Safari/537.36\", \n",
    "    \"X-Amzn-Trace-Id\": \"Root=1-63888f9b-16d7d5594bc87bc74bbc5657\"\n",
    "  }"
   ]
  },
  {
   "cell_type": "code",
   "execution_count": 19,
   "metadata": {},
   "outputs": [
    {
     "data": {
      "text/plain": [
       "['harley-davidson']"
      ]
     },
     "execution_count": 19,
     "metadata": {},
     "output_type": "execute_result"
    }
   ],
   "source": [
    "ticker = 'harley-davidson'\n",
    "url = 'https://www.investing.com/equities/{}-company-profile'.format(ticker)\n",
    "info_lst = []\n",
    "info_lst.append(ticker)\n",
    "r = requests.get(url, headers=headers)\n",
    "soup = BeautifulSoup(r.text, 'html.parser')\n",
    "for info in soup.find_all('i', {'class': 'btnTextDropDwn arial_12 bold'}):\n",
    "    info_lst.append(info.text)\n",
    "for info in soup.find_all('div', {'class': 'right general-info'}):\n",
    "    info_lst.append(info.text.split('\\n\\n')[2].split('\\xa0\\n')[1])\n",
    "for info in soup.find_all('div', {'class': 'companyProfileHeader'}):\n",
    "    info = info.text\n",
    "    info = info.split('\\n')[1:-2]\n",
    "    info_lst.append(info[0].replace('Industry',''))\n",
    "    info_lst.append(info[1].replace('Sector',''))\n",
    "    info_lst.append(info[2].replace('Employees',''))\n",
    "info_lst"
   ]
  },
  {
   "cell_type": "code",
   "execution_count": 20,
   "metadata": {},
   "outputs": [
    {
     "data": {
      "text/plain": [
       "<html>\n",
       "<head><title>403 Forbidden</title></head>\n",
       "<body>\n",
       "<center><h1>403 Forbidden</h1></center>\n",
       "<hr/><center>cloudflare</center>\n",
       "</body>\n",
       "</html>\n",
       "<!-- a padding to disable MSIE and Chrome friendly error page -->\n",
       "<!-- a padding to disable MSIE and Chrome friendly error page -->\n",
       "<!-- a padding to disable MSIE and Chrome friendly error page -->\n",
       "<!-- a padding to disable MSIE and Chrome friendly error page -->\n",
       "<!-- a padding to disable MSIE and Chrome friendly error page -->\n",
       "<!-- a padding to disable MSIE and Chrome friendly error page -->"
      ]
     },
     "execution_count": 20,
     "metadata": {},
     "output_type": "execute_result"
    }
   ],
   "source": [
    "soup"
   ]
  },
  {
   "cell_type": "code",
   "execution_count": 8,
   "metadata": {},
   "outputs": [],
   "source": [
    "def investing_extract(tickers):\n",
    "    try:\n",
    "        for ticker in tickers:\n",
    "            try:\n",
    "                url = 'https://www.investing.com/equities/{}-company-profile'.format(ticker)\n",
    "                info_lst = []\n",
    "                info_lst.append(ticker)\n",
    "                r = requests.get(url, headers=headers)\n",
    "                soup = BeautifulSoup(r.text, 'html.parser')\n",
    "                for info in soup.find_all('i', {'class': 'btnTextDropDwn arial_12 bold'}):\n",
    "                    info_lst.append(info.text)\n",
    "                for info in soup.find_all('div', {'class': 'right general-info'}):\n",
    "                    info_lst.append(info.text.split('\\n\\n')[2].split('\\xa0\\n')[1])\n",
    "                for info in soup.find_all('div', {'class': 'companyProfileHeader'}):\n",
    "                    info = info.text\n",
    "                info = info.split('\\n')[1:-2]\n",
    "                info_lst.append(info[0].replace('Industry',''))\n",
    "                info_lst.append(info[1].replace('Sector',''))\n",
    "                info_lst.append(info[2].replace('Employees',''))\n",
    "                return info_lst\n",
    "            except:\n",
    "                continue\n",
    "    except:\n",
    "        return []\n",
    "    return []"
   ]
  },
  {
   "cell_type": "code",
   "execution_count": 9,
   "metadata": {},
   "outputs": [
    {
     "name": "stderr",
     "output_type": "stream",
     "text": [
      "100%|██████████| 5/5 [00:03<00:00,  1.38it/s]\n"
     ]
    },
    {
     "data": {
      "text/html": [
       "<div>\n",
       "<style scoped>\n",
       "    .dataframe tbody tr th:only-of-type {\n",
       "        vertical-align: middle;\n",
       "    }\n",
       "\n",
       "    .dataframe tbody tr th {\n",
       "        vertical-align: top;\n",
       "    }\n",
       "\n",
       "    .dataframe thead th {\n",
       "        text-align: right;\n",
       "    }\n",
       "</style>\n",
       "<table border=\"1\" class=\"dataframe\">\n",
       "  <thead>\n",
       "    <tr style=\"text-align: right;\">\n",
       "      <th></th>\n",
       "      <th>id</th>\n",
       "      <th>company</th>\n",
       "      <th>tickers</th>\n",
       "      <th>data</th>\n",
       "    </tr>\n",
       "  </thead>\n",
       "  <tbody>\n",
       "    <tr>\n",
       "      <th>0</th>\n",
       "      <td>0</td>\n",
       "      <td>Harley-Davidson Inc. (Ticker: HOG)</td>\n",
       "      <td>[harley-davidson-chart, 2, harley-davidson-opt...</td>\n",
       "      <td>[]</td>\n",
       "    </tr>\n",
       "    <tr>\n",
       "      <th>1</th>\n",
       "      <td>1</td>\n",
       "      <td>Amtek Auto Ltd</td>\n",
       "      <td>[6, amtek-auto-company-profile, amtek-auto, am...</td>\n",
       "      <td>[]</td>\n",
       "    </tr>\n",
       "    <tr>\n",
       "      <th>2</th>\n",
       "      <td>2</td>\n",
       "      <td>Renault SA (Ticker: RNO)</td>\n",
       "      <td>[renault, renault-sa, renault-sa-drc, renault-...</td>\n",
       "      <td>[]</td>\n",
       "    </tr>\n",
       "    <tr>\n",
       "      <th>3</th>\n",
       "      <td>3</td>\n",
       "      <td>Continental AG (Ticker: CON)</td>\n",
       "      <td>[]</td>\n",
       "      <td>[]</td>\n",
       "    </tr>\n",
       "    <tr>\n",
       "      <th>4</th>\n",
       "      <td>4</td>\n",
       "      <td>The Kroger Co. (Ticker: KR)</td>\n",
       "      <td>[kroger-co]</td>\n",
       "      <td>[]</td>\n",
       "    </tr>\n",
       "  </tbody>\n",
       "</table>\n",
       "</div>"
      ],
      "text/plain": [
       "   id                             company  \\\n",
       "0   0  Harley-Davidson Inc. (Ticker: HOG)   \n",
       "1   1                      Amtek Auto Ltd   \n",
       "2   2            Renault SA (Ticker: RNO)   \n",
       "3   3        Continental AG (Ticker: CON)   \n",
       "4   4         The Kroger Co. (Ticker: KR)   \n",
       "\n",
       "                                             tickers data  \n",
       "0  [harley-davidson-chart, 2, harley-davidson-opt...   []  \n",
       "1  [6, amtek-auto-company-profile, amtek-auto, am...   []  \n",
       "2  [renault, renault-sa, renault-sa-drc, renault-...   []  \n",
       "3                                                 []   []  \n",
       "4                                        [kroger-co]   []  "
      ]
     },
     "execution_count": 9,
     "metadata": {},
     "output_type": "execute_result"
    }
   ],
   "source": [
    "companies['data'] = companies.tickers.progress_apply(investing_extract)\n",
    "\n",
    "_df = pd.DataFrame(companies.data.tolist())\n",
    "_df.columns = ['data_{}'.format(x) for x in range(_df.shape[1])]\n",
    "_df2 = pd.concat([companies, _df], axis=1)\n",
    "_df2.fillna('', inplace=True)\n",
    "_df2"
   ]
  },
  {
   "cell_type": "code",
   "execution_count": null,
   "metadata": {},
   "outputs": [],
   "source": [
    "_df2.drop(['tickers','data'], axis=1, inplace=True)\n",
    "_df2.columns = ['id', 'company', 'ticker', 'exchange','country','industry','sector','employees']\n",
    "_df2.fillna('', inplace=True)\n",
    "_df2"
   ]
  }
 ],
 "metadata": {
  "kernelspec": {
   "display_name": "Python 3.9.7 ('env-spacy')",
   "language": "python",
   "name": "python3"
  },
  "language_info": {
   "codemirror_mode": {
    "name": "ipython",
    "version": 3
   },
   "file_extension": ".py",
   "mimetype": "text/x-python",
   "name": "python",
   "nbconvert_exporter": "python",
   "pygments_lexer": "ipython3",
   "version": "3.9.7"
  },
  "orig_nbformat": 4,
  "vscode": {
   "interpreter": {
    "hash": "343191058819caea96d5cde1bd3b1a75b4807623ce2cda0e1c8499e39ac847e3"
   }
  }
 },
 "nbformat": 4,
 "nbformat_minor": 2
}
