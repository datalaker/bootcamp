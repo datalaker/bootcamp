{
  "cells": [
    {
      "cell_type": "markdown",
      "metadata": {
        "id": "6r6Z46pw3FoT"
      },
      "source": [
        "<p style=\"text-align:center\">\n",
        "    <a href=\"https://skills.network/?utm_medium=Exinfluencer&utm_source=Exinfluencer&utm_content=000026UJ&utm_term=10006555&utm_id=NA-SkillsNetwork-Channel-SkillsNetworkCoursesIBMDeveloperSkillsNetworkPY0221ENSkillsNetwork23455645-2022-01-01\" target=\"_blank\">\n",
        "    <img src=\"https://cf-courses-data.s3.us.cloud-object-storage.appdomain.cloud/assets/logos/SN_web_lightmode.png\" width=\"200\" alt=\"Skills Network Logo\"  />\n",
        "    </a>\n",
        "</p>\n"
      ]
    },
    {
      "cell_type": "markdown",
      "metadata": {
        "id": "YJYw7krP3Foa"
      },
      "source": [
        "# Peer Review Assignment - Data Engineer - Extract API Data\n"
      ]
    },
    {
      "cell_type": "markdown",
      "metadata": {
        "id": "Q-6n7KLh3Fob"
      },
      "source": [
        "Estimated time needed: **20** minutes\n"
      ]
    },
    {
      "cell_type": "markdown",
      "metadata": {
        "id": "A9Ykvi_X3Foc"
      },
      "source": [
        "## Objectives\n",
        "\n",
        "In this part you will:\n",
        "\n",
        "*   Collect exchange rate data using an API\n",
        "*   Store the data as a CSV\n"
      ]
    },
    {
      "cell_type": "markdown",
      "metadata": {
        "id": "mpm4zNlL3Foc"
      },
      "source": [
        "For this lab, we are going to be using Python and several Python libraries. Some of these libraries might be installed in your lab environment or in SN Labs. Others may need to be installed by you. The cells below will install these libraries when executed.\n"
      ]
    },
    {
      "cell_type": "code",
      "execution_count": null,
      "metadata": {
        "id": "h9CHRJUn3Fod"
      },
      "outputs": [],
      "source": [
        "#!mamba install pandas==1.3.3 -y\n",
        "#!mamba install requests==2.26.0 -y"
      ]
    },
    {
      "cell_type": "markdown",
      "metadata": {
        "id": "mMynh3SA3Fof"
      },
      "source": [
        "## Imports\n",
        "\n",
        "Import any additional libraries you may need here.\n"
      ]
    },
    {
      "cell_type": "code",
      "execution_count": 1,
      "metadata": {
        "id": "kfJ_HPKG3Fog"
      },
      "outputs": [],
      "source": [
        "import requests\n",
        "import pandas as pd"
      ]
    },
    {
      "cell_type": "markdown",
      "metadata": {
        "id": "n1AwOTfx3Foh"
      },
      "source": [
        "## Extract Data Using an API\n"
      ]
    },
    {
      "cell_type": "markdown",
      "metadata": {
        "id": "9nZK--uM3Foi"
      },
      "source": [
        "Using ExchangeRate-API we will extract currency exchange rate data. Use the below steps to get the access key and to get the data.\n",
        "\n",
        "1.  Open the url : [https://exchangeratesapi.io/](https://exchangeratesapi.io/?utm_medium=Exinfluencer&utm_source=Exinfluencer&utm_content=000026UJ&utm_term=10006555&utm_id=NA-SkillsNetwork-Channel-SkillsNetworkCoursesIBMDeveloperSkillsNetworkPY0221ENSkillsNetwork23455645-2022-01-01) and click on **Get Free API Key**.\n",
        "2.  Subscribe for Free plan and Sign-in with the Google Account.\n",
        "3.  Once the account is created you will be redirected to [https://apilayer.com](https://apilayer.com/?utm_medium=Exinfluencer&utm_source=Exinfluencer&utm_content=000026UJ&utm_term=10006555&utm_id=NA-SkillsNetwork-Channel-SkillsNetworkCoursesIBMDeveloperSkillsNetworkPY0221ENSkillsNetwork23455645-2022-01-01) website.\n",
        "4.  Now, click on the **user icon** and click **Account** as shown below:\n",
        "\n",
        "<img src=\"https://cf-courses-data.s3.us.cloud-object-storage.appdomain.cloud/IBMDeveloperSkillsNetwork-PY0221EN-SkillsNetwork/labs/module%206/Final%20Assignment/Images/account.png\"/>\n",
        "\n",
        "3.  Scroll down and you will get the API Key section. Copy the API key and use in the url in Question 1.\n"
      ]
    },
    {
      "cell_type": "markdown",
      "metadata": {
        "id": "9Rf2oohf3Foj"
      },
      "source": [
        "### Call the API\n",
        "\n",
        "<b> Question 1</b> Using the `requests` library call the endpoint given above and save the text, remember the first few characters of the output:\n"
      ]
    },
    {
      "cell_type": "code",
      "execution_count": 12,
      "metadata": {
        "colab": {
          "base_uri": "https://localhost:8080/"
        },
        "id": "kaj7OYeF3Fok",
        "outputId": "1fe2bc2d-bee5-47be-f128-6e62ed03cd12"
      },
      "outputs": [
        {
          "data": {
            "text/plain": [
              "{'success': True,\n",
              " 'timestamp': 1673929083,\n",
              " 'base': 'EUR',\n",
              " 'date': '2023-01-17',\n",
              " 'rates': {'AED': 3.975257,\n",
              "  'AFN': 97.522969,\n",
              "  'ALL': 116.472932,\n",
              "  'AMD': 428.970713,\n",
              "  'ANG': 1.952205,\n",
              "  'AOA': 545.223962,\n",
              "  'ARS': 197.174696,\n",
              "  'AUD': 1.553537,\n",
              "  'AWG': 1.948116,\n",
              "  'AZN': 1.852776,\n",
              "  'BAM': 1.956792,\n",
              "  'BBD': 2.187074,\n",
              "  'BDT': 112.615443,\n",
              "  'BGN': 1.95782,\n",
              "  'BHD': 0.408063,\n",
              "  'BIF': 2246.191936,\n",
              "  'BMD': 1.082287,\n",
              "  'BND': 1.43005,\n",
              "  'BOB': 7.485351,\n",
              "  'BRL': 5.571282,\n",
              "  'BSD': 1.083192,\n",
              "  'BTC': 5.1267033e-05,\n",
              "  'BTN': 88.51376,\n",
              "  'BWP': 13.798735,\n",
              "  'BYN': 2.733904,\n",
              "  'BYR': 21212.822382,\n",
              "  'BZD': 2.183402,\n",
              "  'CAD': 1.450979,\n",
              "  'CDF': 2196.485431,\n",
              "  'CHF': 1.002094,\n",
              "  'CLF': 0.032268,\n",
              "  'CLP': 890.375339,\n",
              "  'CNY': 7.319486,\n",
              "  'COP': 5075.795481,\n",
              "  'CRC': 618.439627,\n",
              "  'CUC': 1.082287,\n",
              "  'CUP': 28.680602,\n",
              "  'CVE': 110.321763,\n",
              "  'CZK': 24.00944,\n",
              "  'DJF': 192.837637,\n",
              "  'DKK': 7.438569,\n",
              "  'DOP': 61.287702,\n",
              "  'DZD': 147.175832,\n",
              "  'EGP': 32.087751,\n",
              "  'ERN': 16.234303,\n",
              "  'ETB': 58.090968,\n",
              "  'EUR': 1,\n",
              "  'FJD': 2.374051,\n",
              "  'FKP': 0.886549,\n",
              "  'GBP': 0.887854,\n",
              "  'GEL': 2.879048,\n",
              "  'GGP': 0.886549,\n",
              "  'GHS': 12.999208,\n",
              "  'GIP': 0.886549,\n",
              "  'GMD': 67.291219,\n",
              "  'GNF': 9332.870767,\n",
              "  'GTQ': 8.503379,\n",
              "  'GYD': 226.638704,\n",
              "  'HKD': 8.460004,\n",
              "  'HNL': 26.724269,\n",
              "  'HRK': 7.621684,\n",
              "  'HTG': 160.310633,\n",
              "  'HUF': 399.18525,\n",
              "  'IDR': 16399.892733,\n",
              "  'ILS': 3.68957,\n",
              "  'IMP': 0.886549,\n",
              "  'INR': 88.558176,\n",
              "  'IQD': 1580.969615,\n",
              "  'IRR': 45699.562411,\n",
              "  'ISK': 154.507538,\n",
              "  'JEP': 0.886549,\n",
              "  'JMD': 165.637041,\n",
              "  'JOD': 0.767667,\n",
              "  'JPY': 139.387937,\n",
              "  'KES': 134.214846,\n",
              "  'KGS': 92.73037,\n",
              "  'KHR': 4446.541318,\n",
              "  'KMF': 492.251108,\n",
              "  'KPW': 974.007182,\n",
              "  'KRW': 1339.995572,\n",
              "  'KWD': 0.330552,\n",
              "  'KYD': 0.902739,\n",
              "  'KZT': 502.024385,\n",
              "  'LAK': 18271.388029,\n",
              "  'LBP': 1637.96115,\n",
              "  'LKR': 396.457632,\n",
              "  'LRD': 167.619157,\n",
              "  'LSL': 18.204008,\n",
              "  'LTL': 3.195711,\n",
              "  'LVL': 0.654665,\n",
              "  'LYD': 5.154142,\n",
              "  'MAD': 10.974348,\n",
              "  'MDL': 20.624068,\n",
              "  'MGA': 4849.701591,\n",
              "  'MKD': 61.644154,\n",
              "  'MMK': 2274.703962,\n",
              "  'MNT': 3738.120558,\n",
              "  'MOP': 8.714742,\n",
              "  'MRO': 386.376222,\n",
              "  'MUR': 47.294131,\n",
              "  'MVR': 16.661825,\n",
              "  'MWK': 1106.611135,\n",
              "  'MXN': 20.323291,\n",
              "  'MYR': 4.686109,\n",
              "  'MZN': 69.082161,\n",
              "  'NAD': 18.204345,\n",
              "  'NGN': 489.864802,\n",
              "  'NIO': 39.580536,\n",
              "  'NOK': 10.72404,\n",
              "  'NPR': 141.614321,\n",
              "  'NZD': 1.692226,\n",
              "  'OMR': 0.416691,\n",
              "  'PAB': 1.083257,\n",
              "  'PEN': 4.129691,\n",
              "  'PGK': 3.817382,\n",
              "  'PHP': 59.222196,\n",
              "  'PKR': 247.916814,\n",
              "  'PLN': 4.687433,\n",
              "  'PYG': 8018.870165,\n",
              "  'QAR': 3.940584,\n",
              "  'RON': 4.932414,\n",
              "  'RSD': 117.29851,\n",
              "  'RUB': 74.152916,\n",
              "  'RWF': 1159.562332,\n",
              "  'SAR': 4.064942,\n",
              "  'SBD': 8.982252,\n",
              "  'SCR': 14.67328,\n",
              "  'SDG': 629.890518,\n",
              "  'SEK': 11.286959,\n",
              "  'SGD': 1.430889,\n",
              "  'SHP': 1.490741,\n",
              "  'SLE': 20.682129,\n",
              "  'SLL': 20671.678646,\n",
              "  'SOS': 615.277814,\n",
              "  'SRD': 34.281476,\n",
              "  'STD': 22401.152796,\n",
              "  'SVC': 9.478614,\n",
              "  'SYP': 2718.698463,\n",
              "  'SZL': 18.528106,\n",
              "  'THB': 35.770702,\n",
              "  'TJS': 11.059937,\n",
              "  'TMT': 3.798827,\n",
              "  'TND': 3.324244,\n",
              "  'TOP': 2.519131,\n",
              "  'TRY': 20.336679,\n",
              "  'TTD': 7.356481,\n",
              "  'TWD': 32.82197,\n",
              "  'TZS': 2523.893235,\n",
              "  'UAH': 39.801704,\n",
              "  'UGX': 3980.985072,\n",
              "  'USD': 1.082287,\n",
              "  'UYU': 42.961509,\n",
              "  'UZS': 12285.950512,\n",
              "  'VEF': 2081768.804053,\n",
              "  'VES': 21.026328,\n",
              "  'VND': 25366.098193,\n",
              "  'VUV': 126.150853,\n",
              "  'WST': 2.902399,\n",
              "  'XAF': 656.258275,\n",
              "  'XAG': 0.044906,\n",
              "  'XAU': 0.000567,\n",
              "  'XCD': 2.924935,\n",
              "  'XDR': 0.803361,\n",
              "  'XOF': 656.255242,\n",
              "  'XPF': 119.727963,\n",
              "  'YER': 270.889566,\n",
              "  'ZAR': 18.458417,\n",
              "  'ZMK': 9741.878777,\n",
              "  'ZMW': 19.957862,\n",
              "  'ZWL': 348.495926}}"
            ]
          },
          "execution_count": 12,
          "metadata": {},
          "output_type": "execute_result"
        }
      ],
      "source": [
        "url = \"https://api.apilayer.com/exchangerates_data/latest?base=EUR&apikey=\"\n",
        "response = requests.get(url)\n",
        "data = response.json()\n",
        "data"
      ]
    },
    {
      "cell_type": "markdown",
      "metadata": {
        "id": "EhF16Vmd3Fol"
      },
      "source": [
        "### Save as DataFrame\n",
        "\n",
        "<b> Question 2</b>  Using the data gathered turn it into a `pandas` dataframe. The dataframe should have the Currency as the index and `Rate` as their columns. Make sure to drop unnecessary columns.\n"
      ]
    },
    {
      "cell_type": "code",
      "execution_count": 13,
      "metadata": {
        "colab": {
          "base_uri": "https://localhost:8080/",
          "height": 424
        },
        "id": "fnW4g03z3Fol",
        "outputId": "8edeaf90-9a5a-488e-8436-582a4d770a88"
      },
      "outputs": [
        {
          "data": {
            "text/html": [
              "\n",
              "  <div id=\"df-168162e5-1778-4741-a0f6-28fe377072ad\">\n",
              "    <div class=\"colab-df-container\">\n",
              "      <div>\n",
              "<style scoped>\n",
              "    .dataframe tbody tr th:only-of-type {\n",
              "        vertical-align: middle;\n",
              "    }\n",
              "\n",
              "    .dataframe tbody tr th {\n",
              "        vertical-align: top;\n",
              "    }\n",
              "\n",
              "    .dataframe thead th {\n",
              "        text-align: right;\n",
              "    }\n",
              "</style>\n",
              "<table border=\"1\" class=\"dataframe\">\n",
              "  <thead>\n",
              "    <tr style=\"text-align: right;\">\n",
              "      <th></th>\n",
              "      <th>success</th>\n",
              "      <th>timestamp</th>\n",
              "      <th>base</th>\n",
              "      <th>date</th>\n",
              "      <th>rates</th>\n",
              "    </tr>\n",
              "  </thead>\n",
              "  <tbody>\n",
              "    <tr>\n",
              "      <th>AED</th>\n",
              "      <td>True</td>\n",
              "      <td>1673929083</td>\n",
              "      <td>EUR</td>\n",
              "      <td>2023-01-17</td>\n",
              "      <td>3.975257</td>\n",
              "    </tr>\n",
              "    <tr>\n",
              "      <th>AFN</th>\n",
              "      <td>True</td>\n",
              "      <td>1673929083</td>\n",
              "      <td>EUR</td>\n",
              "      <td>2023-01-17</td>\n",
              "      <td>97.522969</td>\n",
              "    </tr>\n",
              "    <tr>\n",
              "      <th>ALL</th>\n",
              "      <td>True</td>\n",
              "      <td>1673929083</td>\n",
              "      <td>EUR</td>\n",
              "      <td>2023-01-17</td>\n",
              "      <td>116.472932</td>\n",
              "    </tr>\n",
              "    <tr>\n",
              "      <th>AMD</th>\n",
              "      <td>True</td>\n",
              "      <td>1673929083</td>\n",
              "      <td>EUR</td>\n",
              "      <td>2023-01-17</td>\n",
              "      <td>428.970713</td>\n",
              "    </tr>\n",
              "    <tr>\n",
              "      <th>ANG</th>\n",
              "      <td>True</td>\n",
              "      <td>1673929083</td>\n",
              "      <td>EUR</td>\n",
              "      <td>2023-01-17</td>\n",
              "      <td>1.952205</td>\n",
              "    </tr>\n",
              "    <tr>\n",
              "      <th>...</th>\n",
              "      <td>...</td>\n",
              "      <td>...</td>\n",
              "      <td>...</td>\n",
              "      <td>...</td>\n",
              "      <td>...</td>\n",
              "    </tr>\n",
              "    <tr>\n",
              "      <th>YER</th>\n",
              "      <td>True</td>\n",
              "      <td>1673929083</td>\n",
              "      <td>EUR</td>\n",
              "      <td>2023-01-17</td>\n",
              "      <td>270.889566</td>\n",
              "    </tr>\n",
              "    <tr>\n",
              "      <th>ZAR</th>\n",
              "      <td>True</td>\n",
              "      <td>1673929083</td>\n",
              "      <td>EUR</td>\n",
              "      <td>2023-01-17</td>\n",
              "      <td>18.458417</td>\n",
              "    </tr>\n",
              "    <tr>\n",
              "      <th>ZMK</th>\n",
              "      <td>True</td>\n",
              "      <td>1673929083</td>\n",
              "      <td>EUR</td>\n",
              "      <td>2023-01-17</td>\n",
              "      <td>9741.878777</td>\n",
              "    </tr>\n",
              "    <tr>\n",
              "      <th>ZMW</th>\n",
              "      <td>True</td>\n",
              "      <td>1673929083</td>\n",
              "      <td>EUR</td>\n",
              "      <td>2023-01-17</td>\n",
              "      <td>19.957862</td>\n",
              "    </tr>\n",
              "    <tr>\n",
              "      <th>ZWL</th>\n",
              "      <td>True</td>\n",
              "      <td>1673929083</td>\n",
              "      <td>EUR</td>\n",
              "      <td>2023-01-17</td>\n",
              "      <td>348.495926</td>\n",
              "    </tr>\n",
              "  </tbody>\n",
              "</table>\n",
              "<p>170 rows × 5 columns</p>\n",
              "</div>\n",
              "      <button class=\"colab-df-convert\" onclick=\"convertToInteractive('df-168162e5-1778-4741-a0f6-28fe377072ad')\"\n",
              "              title=\"Convert this dataframe to an interactive table.\"\n",
              "              style=\"display:none;\">\n",
              "        \n",
              "  <svg xmlns=\"http://www.w3.org/2000/svg\" height=\"24px\"viewBox=\"0 0 24 24\"\n",
              "       width=\"24px\">\n",
              "    <path d=\"M0 0h24v24H0V0z\" fill=\"none\"/>\n",
              "    <path d=\"M18.56 5.44l.94 2.06.94-2.06 2.06-.94-2.06-.94-.94-2.06-.94 2.06-2.06.94zm-11 1L8.5 8.5l.94-2.06 2.06-.94-2.06-.94L8.5 2.5l-.94 2.06-2.06.94zm10 10l.94 2.06.94-2.06 2.06-.94-2.06-.94-.94-2.06-.94 2.06-2.06.94z\"/><path d=\"M17.41 7.96l-1.37-1.37c-.4-.4-.92-.59-1.43-.59-.52 0-1.04.2-1.43.59L10.3 9.45l-7.72 7.72c-.78.78-.78 2.05 0 2.83L4 21.41c.39.39.9.59 1.41.59.51 0 1.02-.2 1.41-.59l7.78-7.78 2.81-2.81c.8-.78.8-2.07 0-2.86zM5.41 20L4 18.59l7.72-7.72 1.47 1.35L5.41 20z\"/>\n",
              "  </svg>\n",
              "      </button>\n",
              "      \n",
              "  <style>\n",
              "    .colab-df-container {\n",
              "      display:flex;\n",
              "      flex-wrap:wrap;\n",
              "      gap: 12px;\n",
              "    }\n",
              "\n",
              "    .colab-df-convert {\n",
              "      background-color: #E8F0FE;\n",
              "      border: none;\n",
              "      border-radius: 50%;\n",
              "      cursor: pointer;\n",
              "      display: none;\n",
              "      fill: #1967D2;\n",
              "      height: 32px;\n",
              "      padding: 0 0 0 0;\n",
              "      width: 32px;\n",
              "    }\n",
              "\n",
              "    .colab-df-convert:hover {\n",
              "      background-color: #E2EBFA;\n",
              "      box-shadow: 0px 1px 2px rgba(60, 64, 67, 0.3), 0px 1px 3px 1px rgba(60, 64, 67, 0.15);\n",
              "      fill: #174EA6;\n",
              "    }\n",
              "\n",
              "    [theme=dark] .colab-df-convert {\n",
              "      background-color: #3B4455;\n",
              "      fill: #D2E3FC;\n",
              "    }\n",
              "\n",
              "    [theme=dark] .colab-df-convert:hover {\n",
              "      background-color: #434B5C;\n",
              "      box-shadow: 0px 1px 3px 1px rgba(0, 0, 0, 0.15);\n",
              "      filter: drop-shadow(0px 1px 2px rgba(0, 0, 0, 0.3));\n",
              "      fill: #FFFFFF;\n",
              "    }\n",
              "  </style>\n",
              "\n",
              "      <script>\n",
              "        const buttonEl =\n",
              "          document.querySelector('#df-168162e5-1778-4741-a0f6-28fe377072ad button.colab-df-convert');\n",
              "        buttonEl.style.display =\n",
              "          google.colab.kernel.accessAllowed ? 'block' : 'none';\n",
              "\n",
              "        async function convertToInteractive(key) {\n",
              "          const element = document.querySelector('#df-168162e5-1778-4741-a0f6-28fe377072ad');\n",
              "          const dataTable =\n",
              "            await google.colab.kernel.invokeFunction('convertToInteractive',\n",
              "                                                     [key], {});\n",
              "          if (!dataTable) return;\n",
              "\n",
              "          const docLinkHtml = 'Like what you see? Visit the ' +\n",
              "            '<a target=\"_blank\" href=https://colab.research.google.com/notebooks/data_table.ipynb>data table notebook</a>'\n",
              "            + ' to learn more about interactive tables.';\n",
              "          element.innerHTML = '';\n",
              "          dataTable['output_type'] = 'display_data';\n",
              "          await google.colab.output.renderOutput(dataTable, element);\n",
              "          const docLink = document.createElement('div');\n",
              "          docLink.innerHTML = docLinkHtml;\n",
              "          element.appendChild(docLink);\n",
              "        }\n",
              "      </script>\n",
              "    </div>\n",
              "  </div>\n",
              "  "
            ],
            "text/plain": [
              "     success   timestamp base        date        rates\n",
              "AED     True  1673929083  EUR  2023-01-17     3.975257\n",
              "AFN     True  1673929083  EUR  2023-01-17    97.522969\n",
              "ALL     True  1673929083  EUR  2023-01-17   116.472932\n",
              "AMD     True  1673929083  EUR  2023-01-17   428.970713\n",
              "ANG     True  1673929083  EUR  2023-01-17     1.952205\n",
              "..       ...         ...  ...         ...          ...\n",
              "YER     True  1673929083  EUR  2023-01-17   270.889566\n",
              "ZAR     True  1673929083  EUR  2023-01-17    18.458417\n",
              "ZMK     True  1673929083  EUR  2023-01-17  9741.878777\n",
              "ZMW     True  1673929083  EUR  2023-01-17    19.957862\n",
              "ZWL     True  1673929083  EUR  2023-01-17   348.495926\n",
              "\n",
              "[170 rows x 5 columns]"
            ]
          },
          "execution_count": 13,
          "metadata": {},
          "output_type": "execute_result"
        }
      ],
      "source": [
        "df = pd.DataFrame(data)\n",
        "df"
      ]
    },
    {
      "cell_type": "code",
      "execution_count": 23,
      "metadata": {
        "colab": {
          "base_uri": "https://localhost:8080/",
          "height": 424
        },
        "id": "RNcgmFt73Fom",
        "outputId": "0b5d4717-f24b-45d9-8ee4-9e8ea87ec077"
      },
      "outputs": [
        {
          "data": {
            "text/html": [
              "\n",
              "  <div id=\"df-ba515e9f-9ae6-43df-8e98-817c09c580b4\">\n",
              "    <div class=\"colab-df-container\">\n",
              "      <div>\n",
              "<style scoped>\n",
              "    .dataframe tbody tr th:only-of-type {\n",
              "        vertical-align: middle;\n",
              "    }\n",
              "\n",
              "    .dataframe tbody tr th {\n",
              "        vertical-align: top;\n",
              "    }\n",
              "\n",
              "    .dataframe thead th {\n",
              "        text-align: right;\n",
              "    }\n",
              "</style>\n",
              "<table border=\"1\" class=\"dataframe\">\n",
              "  <thead>\n",
              "    <tr style=\"text-align: right;\">\n",
              "      <th></th>\n",
              "      <th>Rates</th>\n",
              "    </tr>\n",
              "  </thead>\n",
              "  <tbody>\n",
              "    <tr>\n",
              "      <th>AED</th>\n",
              "      <td>3.975257</td>\n",
              "    </tr>\n",
              "    <tr>\n",
              "      <th>AFN</th>\n",
              "      <td>97.522969</td>\n",
              "    </tr>\n",
              "    <tr>\n",
              "      <th>ALL</th>\n",
              "      <td>116.472932</td>\n",
              "    </tr>\n",
              "    <tr>\n",
              "      <th>AMD</th>\n",
              "      <td>428.970713</td>\n",
              "    </tr>\n",
              "    <tr>\n",
              "      <th>ANG</th>\n",
              "      <td>1.952205</td>\n",
              "    </tr>\n",
              "    <tr>\n",
              "      <th>...</th>\n",
              "      <td>...</td>\n",
              "    </tr>\n",
              "    <tr>\n",
              "      <th>YER</th>\n",
              "      <td>270.889566</td>\n",
              "    </tr>\n",
              "    <tr>\n",
              "      <th>ZAR</th>\n",
              "      <td>18.458417</td>\n",
              "    </tr>\n",
              "    <tr>\n",
              "      <th>ZMK</th>\n",
              "      <td>9741.878777</td>\n",
              "    </tr>\n",
              "    <tr>\n",
              "      <th>ZMW</th>\n",
              "      <td>19.957862</td>\n",
              "    </tr>\n",
              "    <tr>\n",
              "      <th>ZWL</th>\n",
              "      <td>348.495926</td>\n",
              "    </tr>\n",
              "  </tbody>\n",
              "</table>\n",
              "<p>170 rows × 1 columns</p>\n",
              "</div>\n",
              "      <button class=\"colab-df-convert\" onclick=\"convertToInteractive('df-ba515e9f-9ae6-43df-8e98-817c09c580b4')\"\n",
              "              title=\"Convert this dataframe to an interactive table.\"\n",
              "              style=\"display:none;\">\n",
              "        \n",
              "  <svg xmlns=\"http://www.w3.org/2000/svg\" height=\"24px\"viewBox=\"0 0 24 24\"\n",
              "       width=\"24px\">\n",
              "    <path d=\"M0 0h24v24H0V0z\" fill=\"none\"/>\n",
              "    <path d=\"M18.56 5.44l.94 2.06.94-2.06 2.06-.94-2.06-.94-.94-2.06-.94 2.06-2.06.94zm-11 1L8.5 8.5l.94-2.06 2.06-.94-2.06-.94L8.5 2.5l-.94 2.06-2.06.94zm10 10l.94 2.06.94-2.06 2.06-.94-2.06-.94-.94-2.06-.94 2.06-2.06.94z\"/><path d=\"M17.41 7.96l-1.37-1.37c-.4-.4-.92-.59-1.43-.59-.52 0-1.04.2-1.43.59L10.3 9.45l-7.72 7.72c-.78.78-.78 2.05 0 2.83L4 21.41c.39.39.9.59 1.41.59.51 0 1.02-.2 1.41-.59l7.78-7.78 2.81-2.81c.8-.78.8-2.07 0-2.86zM5.41 20L4 18.59l7.72-7.72 1.47 1.35L5.41 20z\"/>\n",
              "  </svg>\n",
              "      </button>\n",
              "      \n",
              "  <style>\n",
              "    .colab-df-container {\n",
              "      display:flex;\n",
              "      flex-wrap:wrap;\n",
              "      gap: 12px;\n",
              "    }\n",
              "\n",
              "    .colab-df-convert {\n",
              "      background-color: #E8F0FE;\n",
              "      border: none;\n",
              "      border-radius: 50%;\n",
              "      cursor: pointer;\n",
              "      display: none;\n",
              "      fill: #1967D2;\n",
              "      height: 32px;\n",
              "      padding: 0 0 0 0;\n",
              "      width: 32px;\n",
              "    }\n",
              "\n",
              "    .colab-df-convert:hover {\n",
              "      background-color: #E2EBFA;\n",
              "      box-shadow: 0px 1px 2px rgba(60, 64, 67, 0.3), 0px 1px 3px 1px rgba(60, 64, 67, 0.15);\n",
              "      fill: #174EA6;\n",
              "    }\n",
              "\n",
              "    [theme=dark] .colab-df-convert {\n",
              "      background-color: #3B4455;\n",
              "      fill: #D2E3FC;\n",
              "    }\n",
              "\n",
              "    [theme=dark] .colab-df-convert:hover {\n",
              "      background-color: #434B5C;\n",
              "      box-shadow: 0px 1px 3px 1px rgba(0, 0, 0, 0.15);\n",
              "      filter: drop-shadow(0px 1px 2px rgba(0, 0, 0, 0.3));\n",
              "      fill: #FFFFFF;\n",
              "    }\n",
              "  </style>\n",
              "\n",
              "      <script>\n",
              "        const buttonEl =\n",
              "          document.querySelector('#df-ba515e9f-9ae6-43df-8e98-817c09c580b4 button.colab-df-convert');\n",
              "        buttonEl.style.display =\n",
              "          google.colab.kernel.accessAllowed ? 'block' : 'none';\n",
              "\n",
              "        async function convertToInteractive(key) {\n",
              "          const element = document.querySelector('#df-ba515e9f-9ae6-43df-8e98-817c09c580b4');\n",
              "          const dataTable =\n",
              "            await google.colab.kernel.invokeFunction('convertToInteractive',\n",
              "                                                     [key], {});\n",
              "          if (!dataTable) return;\n",
              "\n",
              "          const docLinkHtml = 'Like what you see? Visit the ' +\n",
              "            '<a target=\"_blank\" href=https://colab.research.google.com/notebooks/data_table.ipynb>data table notebook</a>'\n",
              "            + ' to learn more about interactive tables.';\n",
              "          element.innerHTML = '';\n",
              "          dataTable['output_type'] = 'display_data';\n",
              "          await google.colab.output.renderOutput(dataTable, element);\n",
              "          const docLink = document.createElement('div');\n",
              "          docLink.innerHTML = docLinkHtml;\n",
              "          element.appendChild(docLink);\n",
              "        }\n",
              "      </script>\n",
              "    </div>\n",
              "  </div>\n",
              "  "
            ],
            "text/plain": [
              "           Rates\n",
              "AED     3.975257\n",
              "AFN    97.522969\n",
              "ALL   116.472932\n",
              "AMD   428.970713\n",
              "ANG     1.952205\n",
              "..           ...\n",
              "YER   270.889566\n",
              "ZAR    18.458417\n",
              "ZMK  9741.878777\n",
              "ZMW    19.957862\n",
              "ZWL   348.495926\n",
              "\n",
              "[170 rows x 1 columns]"
            ]
          },
          "execution_count": 23,
          "metadata": {},
          "output_type": "execute_result"
        }
      ],
      "source": [
        "df = df[['rates']]\n",
        "df.rename(columns={\"rates\":\"Rates\"}, inplace=True)\n",
        "df"
      ]
    },
    {
      "cell_type": "markdown",
      "metadata": {
        "id": "WIw0n8ff3Fom"
      },
      "source": [
        "### Load the Data\n",
        "\n",
        "Using the dataframe save it as a CSV names `exchange_rates_1.csv`.\n"
      ]
    },
    {
      "cell_type": "code",
      "execution_count": 24,
      "metadata": {
        "id": "vFC4FjcX3Fon"
      },
      "outputs": [],
      "source": [
        "df.to_csv(\"exchange_rates_1.csv\")"
      ]
    },
    {
      "cell_type": "markdown",
      "metadata": {
        "id": "cRscvfSv3Fon"
      },
      "source": [
        "Your CSV should be in this format with more currencies\n",
        "\n",
        "|     | Rates      |\n",
        "| --- | ---------- |\n",
        "| AED | 4.398618   |\n",
        "| AFN | 92.917693  |\n",
        "| ALL | 123.099093 |\n",
        "| AMD | 621.935674 |\n",
        "| ANG | 2.149648   |\n"
      ]
    },
    {
      "cell_type": "markdown",
      "metadata": {
        "id": "RnKPV_Uz3Foo"
      },
      "source": [
        "## Authors\n"
      ]
    },
    {
      "cell_type": "markdown",
      "metadata": {
        "id": "YbcSV6sH3Foo"
      },
      "source": [
        "Ramesh Sannareddy, Joseph Santarcangelo and Azim Hirjani\n"
      ]
    },
    {
      "cell_type": "markdown",
      "metadata": {
        "id": "v6A_0EId3Fop"
      },
      "source": [
        "### Other Contributors\n"
      ]
    },
    {
      "cell_type": "markdown",
      "metadata": {
        "id": "l6KrRMaV3Fop"
      },
      "source": [
        "Rav Ahuja\n"
      ]
    },
    {
      "cell_type": "markdown",
      "metadata": {
        "id": "8wWY_mcL3Fop"
      },
      "source": [
        "## Change Log\n"
      ]
    },
    {
      "cell_type": "markdown",
      "metadata": {
        "id": "BzFoDAR-3Foq"
      },
      "source": [
        "| Date (YYYY-MM-DD) | Version | Changed By        | Change Description                              |\n",
        "| ----------------- | ------- | ----------------- | ----------------------------------------------- |\n",
        "| 2022-05-06        | 0.3     | Malika            | Updated instructions to get the API and the url |\n",
        "| 2021-04-15        | 0.2     | Malika            | Updated the lab from USD to EUR                 |\n",
        "| 2020-11-25        | 0.1     | Ramesh Sannareddy | Created initial version of the lab              |\n"
      ]
    },
    {
      "cell_type": "markdown",
      "metadata": {
        "id": "5TIpcNr13Foq"
      },
      "source": [
        "Copyright © 2020 IBM Corporation. This notebook and its source code are released under the terms of the [MIT License](https://cognitiveclass.ai/mit-license?utm_medium=Exinfluencer&utm_source=Exinfluencer&utm_content=000026UJ&utm_term=10006555&utm_id=NA-SkillsNetwork-Channel-SkillsNetworkCoursesIBMDeveloperSkillsNetworkPY0221ENSkillsNetwork23455645-2022-01-01&cm_mmc=Email_Newsletter-\\_-Developer_Ed%2BTech-\\_-WW_WW-\\_-SkillsNetwork-Courses-IBM-DA0321EN-SkillsNetwork-21426264&cm_mmca1=000026UJ&cm_mmca2=10006555&cm_mmca3=M12345678&cvosrc=email.Newsletter.M12345678&cvo_campaign=000026UJ).\n"
      ]
    }
  ],
  "metadata": {
    "colab": {
      "provenance": []
    },
    "kernelspec": {
      "display_name": "Python 3",
      "language": "python",
      "name": "python3"
    },
    "language_info": {
      "codemirror_mode": {
        "name": "ipython",
        "version": 3
      },
      "file_extension": ".py",
      "mimetype": "text/x-python",
      "name": "python",
      "nbconvert_exporter": "python",
      "pygments_lexer": "ipython3",
      "version": "3.7.6"
    }
  },
  "nbformat": 4,
  "nbformat_minor": 0
}
