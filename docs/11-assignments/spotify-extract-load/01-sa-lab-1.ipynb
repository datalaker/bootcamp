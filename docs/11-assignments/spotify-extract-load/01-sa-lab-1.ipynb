{
 "cells": [
  {
   "attachments": {},
   "cell_type": "markdown",
   "metadata": {},
   "source": [
    "![](./img/arch-lab-1.drawio.svg)"
   ]
  },
  {
   "cell_type": "code",
   "execution_count": null,
   "metadata": {},
   "outputs": [],
   "source": [
    "import sqlalchemy\n",
    "import pandas as pd\n",
    "from sqlalchemy.orm import sessionmaker\n",
    "import requests\n",
    "import json\n",
    "from datetime import datetime\n",
    "import datetime\n",
    "import sqlite3\n",
    "import os\n",
    "from dotenv import load_dotenv"
   ]
  },
  {
   "cell_type": "code",
   "execution_count": null,
   "metadata": {},
   "outputs": [],
   "source": [
    "load_dotenv()\n",
    "\n",
    "# Spotify TOKEN generation:\n",
    "# https://developer.spotify.com/console/get-recently-played/\n",
    "\n",
    "DATABASE_LOCATION = \"sqlite://./data/my_played_tracks.sqlite\"\n",
    "USER_ID = os.getenv(\"SPOTIFY_ID\")  # Spotify ID\n",
    "TOKEN = os.getenv(\"SPOTIFY_TOKEN\") # Spotify Token (needs to be re-generated when expired)"
   ]
  },
  {
   "cell_type": "code",
   "execution_count": null,
   "metadata": {},
   "outputs": [],
   "source": [
    "# Extract part of the ETL process\n",
    "\n",
    "# Request structure\n",
    "# curl -X \"GET\" \"https://api.spotify.com/v1/me/player/recently-played?limit=50&after={TIME}\" -H \n",
    "# \"Accept: application/json\" -H \n",
    "# \"Content-Type: application/json\" -H \n",
    "# \"Authorization: Bearer TOKEN\"\n",
    "\n",
    "# curl -X \"GET\" \"https://api.spotify.com/v1/me/player/recently-played?limit=50\" -H \"\n",
    "# (...)\n",
    "\n",
    "# Headers for the Spotify API\n",
    "headers = {\n",
    "    \"Accept\": \"application/json\",\n",
    "    \"Content-Type\": \"application/json\",\n",
    "    \"Authorization\" : \"Bearer {token}\".format(token=TOKEN)\n",
    "}\n",
    "\n",
    "# Convert time to Unix timestamp in miliseconds \n",
    "today                       = datetime.datetime.now()\n",
    "yesterday                   = today - datetime.timedelta(days=1)\n",
    "yesterday_unix_timestamp    = int(yesterday.timestamp()) * 1000\n",
    "\n",
    "# Download all songs you've listened to \"after yesterday\", which means in the last 24 hours      \n",
    "r = requests.get(\"https://api.spotify.com/v1/me/player/recently-played?limit=50&after={time}\".format(time=yesterday_unix_timestamp), headers = headers)\n",
    "\n",
    "# Spotify API, HTTP status code\n",
    "if r.status_code == 200:\n",
    "    print(f\"Spotify API Token up-to-date. Request status code: {r.status_code}. \\n\")\n",
    "else:\n",
    "    print(\"Problem with Requests. Potential problem with Spotify API Token. \\n\")\n",
    "\n",
    "data = r.json()"
   ]
  },
  {
   "cell_type": "code",
   "execution_count": null,
   "metadata": {},
   "outputs": [],
   "source": [
    "# Write json data to file\n",
    "with open('./data/data.json', 'w', encoding='utf-8') as f:\n",
    "    json.dump(data, f, ensure_ascii=False, indent=4)"
   ]
  },
  {
   "cell_type": "code",
   "execution_count": null,
   "metadata": {},
   "outputs": [],
   "source": [
    "song_names = []\n",
    "artist_names = []\n",
    "played_at_list = []\n",
    "timestamps = []\n",
    "\n",
    "# Extracting only the relevant bits of data from the json object      \n",
    "for song in data[\"items\"]:\n",
    "    song_names.append(song[\"track\"][\"name\"])\n",
    "    artist_names.append(song[\"track\"][\"album\"][\"artists\"][0][\"name\"])\n",
    "    played_at_list.append(song[\"played_at\"])\n",
    "    timestamps.append(song[\"played_at\"][0:10])\n",
    "\n",
    "song_dict = {\n",
    "    \"song_name\" : song_names,\n",
    "    \"artist_name\" : artist_names,\n",
    "    \"played_at\" : played_at_list,\n",
    "    \"timestamp\" : timestamps\n",
    "}\n",
    "\n",
    "# Create song DataFrame\n",
    "song_df = pd.DataFrame(song_dict)"
   ]
  },
  {
   "cell_type": "code",
   "execution_count": null,
   "metadata": {},
   "outputs": [],
   "source": [
    "def check_if_valid_data(df: pd.DataFrame) -> bool:\n",
    "\n",
    "    # Check if DataFrame is empty\n",
    "    if df.empty:\n",
    "        print(\"No songs downloaded. Finishing execution.\")\n",
    "        return False\n",
    "\n",
    "    # Primary Key Check\n",
    "    if pd.Series(df[\"played_at\"]).is_unique:\n",
    "        pass\n",
    "    else:\n",
    "        raise Exception(\"Primary key check is violated.\")\n",
    "\n",
    "    # Check for null values\n",
    "    if df.isnull().values.any():\n",
    "        raise Exception(\"Null value found!\")\n",
    "\n",
    "    # Check if all timestamps are of yesterday's or today's date\n",
    "    today = datetime.datetime.now()\n",
    "    today = today.replace(hour=0, minute=0, second=0, microsecond=0)\n",
    "\n",
    "    yesterday = datetime.datetime.now() - datetime.timedelta(days=1)\n",
    "    yesterday = yesterday.replace(hour=0, minute=0, second=0, microsecond=0)\n",
    "\n",
    "    timestamps = df[\"timestamp\"].tolist()\n",
    "    for timestamp in timestamps:\n",
    "        if datetime.datetime.strptime(timestamp, '%Y-%m-%d') != yesterday and datetime.datetime.strptime(timestamp, '%Y-%m-%d') != today:\n",
    "            print(timestamp, song[\"played_at\"])\n",
    "            raise Exception(\"At least one of the returned songs is not from the last 24h.\")\n",
    "\n",
    "    return True"
   ]
  },
  {
   "cell_type": "code",
   "execution_count": null,
   "metadata": {},
   "outputs": [],
   "source": [
    "if check_if_valid_data(song_df):\n",
    "    print(\"Data valid, proceed to Load stage.\")"
   ]
  },
  {
   "cell_type": "code",
   "execution_count": null,
   "metadata": {},
   "outputs": [],
   "source": [
    "print(\"Recent songs (0-50):\")\n",
    "print(song_df)\n",
    "print()"
   ]
  },
  {
   "cell_type": "code",
   "execution_count": null,
   "metadata": {},
   "outputs": [],
   "source": [
    "# load\n",
    "engine = sqlalchemy.create_engine(DATABASE_LOCATION)\n",
    "connection = sqlite3.connect(DATABASE_LOCATION)\n",
    "cursor = connection.cursor()"
   ]
  },
  {
   "cell_type": "code",
   "execution_count": null,
   "metadata": {},
   "outputs": [],
   "source": [
    "# SQL query (could be also achieved from sqlalchemy level)\n",
    "# Primary key on 'played_at' (always unique)\n",
    "sql_query = \"\"\"\n",
    "CREATE TABLE IF NOT EXISTS my_played_tracks(\n",
    "    song_name VARCHAR(200),\n",
    "    artist_name VARCHAR(200),\n",
    "    played_at VARCHAR(200),\n",
    "    timestamp VARCHAR(200),\n",
    "    CONSTRAINT primary_key_constraint PRIMARY KEY (played_at)\n",
    ")\n",
    "\"\"\"\n",
    "\n",
    "cursor.execute(sql_query)\n",
    "print(\"Opened database successfully\")"
   ]
  },
  {
   "cell_type": "code",
   "execution_count": null,
   "metadata": {},
   "outputs": [],
   "source": [
    "# instert data directly from sql to the database\n",
    "try:\n",
    "    song_df.to_sql(\"my_played_tracks\", engine, index=False, if_exists='append')\n",
    "except:\n",
    "    print(\"Data already exists in the database. \\n\")"
   ]
  },
  {
   "cell_type": "code",
   "execution_count": null,
   "metadata": {},
   "outputs": [],
   "source": [
    "# print current database overview\n",
    "print(pd.read_sql_query(\"SELECT * FROM my_played_tracks\", connection))"
   ]
  },
  {
   "cell_type": "code",
   "execution_count": null,
   "metadata": {},
   "outputs": [],
   "source": [
    "connection.close()\n",
    "print(\"Closed database successfully\")"
   ]
  }
 ],
 "metadata": {
  "kernelspec": {
   "display_name": "Python 3",
   "language": "python",
   "name": "python3"
  },
  "language_info": {
   "name": "python",
   "version": "3.9.10 (v3.9.10:f2f3f53782, Jan 13 2022, 17:02:14) \n[Clang 6.0 (clang-600.0.57)]"
  },
  "orig_nbformat": 4,
  "vscode": {
   "interpreter": {
    "hash": "aee8b7b246df8f9039afb4144a1f6fd8d2ca17a180786b69acc140d282b71a49"
   }
  }
 },
 "nbformat": 4,
 "nbformat_minor": 2
}
