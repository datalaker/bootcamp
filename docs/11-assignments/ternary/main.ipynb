{
 "cells": [
  {
   "cell_type": "code",
   "execution_count": 5,
   "metadata": {},
   "outputs": [],
   "source": [
    "from google.cloud import storage\n",
    "import pandas as pd\n",
    "from google.oauth2 import service_account\n",
    "import sys\n",
    "import os"
   ]
  },
  {
   "cell_type": "code",
   "execution_count": 2,
   "metadata": {},
   "outputs": [],
   "source": [
    "URI = 'gs://ternary-public'"
   ]
  },
  {
   "cell_type": "code",
   "execution_count": 3,
   "metadata": {},
   "outputs": [],
   "source": [
    "# URI as a parameter\n",
    "def measure_blob(URI):\n",
    "    # Create a list form the URI\n",
    "    bucket_detail = URI.split('/')\n",
    "    bucket_name = bucket_detail[2]\n",
    "\n",
    "    # Use API to connect to GSC\n",
    "    storage_client = storage.Client()\n",
    "    blobs = storage_client.list_blobs(bucket_name)\n",
    "\n",
    "    \n",
    "    blob_name_size = {} # A dict {object_name : object_size}\n",
    "    for blob in blobs:\n",
    "        blob_name = blob.name \n",
    "        blob_size = round(blob.size/1024, 2)  # convert to KB\n",
    "        blob_name_size[blob_name] = blob_size\n",
    "\n",
    "    df_data = pd.DataFrame.from_dict(blob_name_size, orient = 'index')\n",
    "    df_data.to_csv('ternary_measure_object_size.csv')  # save as csv"
   ]
  },
  {
   "cell_type": "code",
   "execution_count": null,
   "metadata": {},
   "outputs": [],
   "source": [
    "measure_blob(URI)"
   ]
  },
  {
   "cell_type": "code",
   "execution_count": 6,
   "metadata": {},
   "outputs": [],
   "source": [
    "def list_buckets():\n",
    "    \"\"\"Lists all buckets.\"\"\"\n",
    "    credentials = service_account.Credentials.from_service_account_file(\"credentials.json\")    \n",
    "   \n",
    "    storage_client = storage.Client(credentials=credentials)\n",
    "    buckets = storage_client.list_buckets()\n",
    "\n",
    "    bucket_list =[]\n",
    "    for bucket in buckets:\n",
    "        bucket_list.append(bucket.name)\n",
    "    print(bucket_list)"
   ]
  },
  {
   "cell_type": "code",
   "execution_count": null,
   "metadata": {},
   "outputs": [],
   "source": [
    "list_buckets()"
   ]
  },
  {
   "cell_type": "code",
   "execution_count": null,
   "metadata": {},
   "outputs": [],
   "source": [
    "def measure_blob_multiple_bucket(URI):\n",
    "    #bucket_detail = URI.split('/')\n",
    "    #bucket_name = bucket_detail[2]\n",
    "\n",
    "    storage_client = storage.Client()\n",
    "    buckets = storage_client.list_buckets()\n",
    "    bucket_list =[]\n",
    "    for bucket in buckets:\n",
    "        bucket_list.append(bucket.name)\n",
    "    \n",
    "    for bucket in bucket_list:\n",
    "        blobs = storage_client.list_blobs(bucket)\n",
    "\n",
    "    blob_name_size = {}\n",
    "    for blob in blobs:\n",
    "        blob_name = blob.name \n",
    "        blob_size = round(blob.size/1024,2)\n",
    "        blob_name_size[blob_name] = blob_size\n",
    "\n",
    "    df_data = pd.DataFrame.from_dict(blob_name_size, orient = 'index')\n",
    "    csv_data = df_data.to_csv('ternary_measure_object_size1.csv')"
   ]
  },
  {
   "cell_type": "code",
   "execution_count": null,
   "metadata": {},
   "outputs": [],
   "source": [
    "measure_blob_multiple_bucket(URI)"
   ]
  },
  {
   "cell_type": "code",
   "execution_count": null,
   "metadata": {},
   "outputs": [],
   "source": [
    "def create_bucket(bucket_name):\n",
    "    storage_client = storage.Client()\n",
    "    bucket_name = bucket_name\n",
    "    bucket = storage_client.create_bucket(bucket_name)\n",
    "    print(f\"Bucket {bucket.name} created.\")"
   ]
  },
  {
   "cell_type": "code",
   "execution_count": null,
   "metadata": {},
   "outputs": [],
   "source": [
    "create_bucket(\"test-bucket\")"
   ]
  },
  {
   "cell_type": "code",
   "execution_count": null,
   "metadata": {},
   "outputs": [],
   "source": [
    "def bucket_metadata(URI):\n",
    "\n",
    "    bucket_detail = URI.split('/')\n",
    "    bucket_name = bucket_detail[2]\n",
    "\n",
    "    \"\"\"Prints out a bucket's metadata.\"\"\"\n",
    "    storage_client = storage.Client()\n",
    "    bucket = storage_client.get_bucket(bucket_name)\n",
    "    print(f\"ID: {bucket.id}\")\n",
    "    print(f\"Name: {bucket.name}\")\n",
    "    print(f\"Storage Class: {bucket.storage_class}\")\n",
    "    print(f\"Location: {bucket.location}\")\n",
    "    print(f\"Location Type: {bucket.location_type}\")\n",
    "    print(f\"Cors: {bucket.cors}\")\n",
    "    print(f\"Default Event Based Hold: {bucket.default_event_based_hold}\")\n",
    "    print(f\"Default KMS Key Name: {bucket.default_kms_key_name}\")\n",
    "    print(f\"Metageneration: {bucket.metageneration}\")"
   ]
  },
  {
   "cell_type": "code",
   "execution_count": null,
   "metadata": {},
   "outputs": [],
   "source": [
    "bucket_metadata(URI)"
   ]
  },
  {
   "attachments": {},
   "cell_type": "markdown",
   "metadata": {},
   "source": [
    "![Blob_size_bar_chart_horizontal](https://user-images.githubusercontent.com/62965911/223717227-112fc743-8088-4e27-b2f9-8d259cbaf96a.png)"
   ]
  },
  {
   "attachments": {},
   "cell_type": "markdown",
   "metadata": {},
   "source": [
    "![Blob_size_bar_chart](https://user-images.githubusercontent.com/62965911/223717275-be7f5bf8-9718-4d3b-b783-9ac58f2ad367.png)"
   ]
  },
  {
   "attachments": {},
   "cell_type": "markdown",
   "metadata": {},
   "source": [
    "![Blob_size_round_pie](https://user-images.githubusercontent.com/62965911/223717296-2edfb993-a822-4d90-850c-e928184dd136.png)"
   ]
  },
  {
   "attachments": {},
   "cell_type": "markdown",
   "metadata": {},
   "source": [
    "![Blob_size_square](https://user-images.githubusercontent.com/62965911/223717309-c35ebfec-2d69-49e0-ab93-4d82c40f7c24.png)"
   ]
  },
  {
   "cell_type": "markdown",
   "metadata": {},
   "source": []
  }
 ],
 "metadata": {
  "kernelspec": {
   "display_name": "env-spacy",
   "language": "python",
   "name": "python3"
  },
  "language_info": {
   "codemirror_mode": {
    "name": "ipython",
    "version": 3
   },
   "file_extension": ".py",
   "mimetype": "text/x-python",
   "name": "python",
   "nbconvert_exporter": "python",
   "pygments_lexer": "ipython3",
   "version": "3.9.7"
  },
  "orig_nbformat": 4
 },
 "nbformat": 4,
 "nbformat_minor": 2
}
