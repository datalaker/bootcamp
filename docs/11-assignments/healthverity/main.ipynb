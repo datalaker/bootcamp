{
 "cells": [
  {
   "cell_type": "code",
   "execution_count": 31,
   "metadata": {},
   "outputs": [],
   "source": [
    "import pandas as pd\n",
    "import numpy as np\n",
    "from ydata_profiling import ProfileReport\n",
    "import great_expectations as ge"
   ]
  },
  {
   "cell_type": "code",
   "execution_count": 2,
   "metadata": {},
   "outputs": [],
   "source": [
    "valid_cpt_codes = './data/valid_cpt_codes.csv'\n",
    "sample_claims = './data/sample_claims.csv'\n",
    "valid_icd_10_codes = './data/valid_icd_10_codes.csv'"
   ]
  },
  {
   "cell_type": "code",
   "execution_count": 3,
   "metadata": {},
   "outputs": [
    {
     "data": {
      "text/html": [
       "<div>\n",
       "<style scoped>\n",
       "    .dataframe tbody tr th:only-of-type {\n",
       "        vertical-align: middle;\n",
       "    }\n",
       "\n",
       "    .dataframe tbody tr th {\n",
       "        vertical-align: top;\n",
       "    }\n",
       "\n",
       "    .dataframe thead th {\n",
       "        text-align: right;\n",
       "    }\n",
       "</style>\n",
       "<table border=\"1\" class=\"dataframe\">\n",
       "  <thead>\n",
       "    <tr style=\"text-align: right;\">\n",
       "      <th></th>\n",
       "      <th>patient_id</th>\n",
       "      <th>claim_id</th>\n",
       "      <th>diagnosis_codes</th>\n",
       "      <th>procedure_code</th>\n",
       "      <th>date_service</th>\n",
       "      <th>date_received</th>\n",
       "    </tr>\n",
       "  </thead>\n",
       "  <tbody>\n",
       "    <tr>\n",
       "      <th>0</th>\n",
       "      <td>A1670</td>\n",
       "      <td>1.0</td>\n",
       "      <td>Z01.419^Z11.51</td>\n",
       "      <td>99999</td>\n",
       "      <td>2021-01-25</td>\n",
       "      <td>2021-01-26</td>\n",
       "    </tr>\n",
       "    <tr>\n",
       "      <th>1</th>\n",
       "      <td>A0086</td>\n",
       "      <td>2.0</td>\n",
       "      <td>Z01.419^Z12.4</td>\n",
       "      <td>99999</td>\n",
       "      <td>2021-01-27</td>\n",
       "      <td>2021-01-29</td>\n",
       "    </tr>\n",
       "    <tr>\n",
       "      <th>2</th>\n",
       "      <td>A0086</td>\n",
       "      <td>3.0</td>\n",
       "      <td>Z12.4^Z11.51</td>\n",
       "      <td>87491</td>\n",
       "      <td>2021-01-07</td>\n",
       "      <td>2021-01-10</td>\n",
       "    </tr>\n",
       "  </tbody>\n",
       "</table>\n",
       "</div>"
      ],
      "text/plain": [
       "  patient_id  claim_id diagnosis_codes procedure_code date_service  \\\n",
       "0      A1670       1.0  Z01.419^Z11.51          99999   2021-01-25   \n",
       "1      A0086       2.0   Z01.419^Z12.4          99999   2021-01-27   \n",
       "2      A0086       3.0    Z12.4^Z11.51          87491   2021-01-07   \n",
       "\n",
       "  date_received  \n",
       "0    2021-01-26  \n",
       "1    2021-01-29  \n",
       "2    2021-01-10  "
      ]
     },
     "execution_count": 3,
     "metadata": {},
     "output_type": "execute_result"
    }
   ],
   "source": [
    "sample_claim_df = pd.read_csv(sample_claims)\n",
    "sample_claim_df.head(3)"
   ]
  },
  {
   "cell_type": "code",
   "execution_count": 4,
   "metadata": {},
   "outputs": [
    {
     "data": {
      "text/html": [
       "<div>\n",
       "<style scoped>\n",
       "    .dataframe tbody tr th:only-of-type {\n",
       "        vertical-align: middle;\n",
       "    }\n",
       "\n",
       "    .dataframe tbody tr th {\n",
       "        vertical-align: top;\n",
       "    }\n",
       "\n",
       "    .dataframe thead th {\n",
       "        text-align: right;\n",
       "    }\n",
       "</style>\n",
       "<table border=\"1\" class=\"dataframe\">\n",
       "  <thead>\n",
       "    <tr style=\"text-align: right;\">\n",
       "      <th></th>\n",
       "      <th>code</th>\n",
       "      <th>short_description</th>\n",
       "    </tr>\n",
       "  </thead>\n",
       "  <tbody>\n",
       "    <tr>\n",
       "      <th>0</th>\n",
       "      <td>96409</td>\n",
       "      <td>CHEMO IV PUSH SNGL DRUG</td>\n",
       "    </tr>\n",
       "    <tr>\n",
       "      <th>1</th>\n",
       "      <td>99335</td>\n",
       "      <td>DOMICIL/R-HOME VISIT EST PAT</td>\n",
       "    </tr>\n",
       "    <tr>\n",
       "      <th>2</th>\n",
       "      <td>86413</td>\n",
       "      <td>SARS-COV-2 ANTB QUANTITATIVE</td>\n",
       "    </tr>\n",
       "  </tbody>\n",
       "</table>\n",
       "</div>"
      ],
      "text/plain": [
       "    code             short_description\n",
       "0  96409       CHEMO IV PUSH SNGL DRUG\n",
       "1  99335  DOMICIL/R-HOME VISIT EST PAT\n",
       "2  86413  SARS-COV-2 ANTB QUANTITATIVE"
      ]
     },
     "execution_count": 4,
     "metadata": {},
     "output_type": "execute_result"
    }
   ],
   "source": [
    "valid_cpt_codes_df = pd.read_csv(valid_cpt_codes)\n",
    "valid_cpt_codes_df.head(3)"
   ]
  },
  {
   "cell_type": "code",
   "execution_count": 5,
   "metadata": {},
   "outputs": [
    {
     "name": "stdout",
     "output_type": "stream",
     "text": [
      "<class 'pandas.core.frame.DataFrame'>\n",
      "RangeIndex: 2861 entries, 0 to 2860\n",
      "Data columns (total 2 columns):\n",
      " #   Column             Non-Null Count  Dtype \n",
      "---  ------             --------------  ----- \n",
      " 0   code               2861 non-null   int64 \n",
      " 1   short_description  2861 non-null   object\n",
      "dtypes: int64(1), object(1)\n",
      "memory usage: 44.8+ KB\n"
     ]
    }
   ],
   "source": [
    "valid_cpt_codes_df.info()  # code is type int"
   ]
  },
  {
   "cell_type": "code",
   "execution_count": 6,
   "metadata": {},
   "outputs": [
    {
     "data": {
      "text/html": [
       "<div>\n",
       "<style scoped>\n",
       "    .dataframe tbody tr th:only-of-type {\n",
       "        vertical-align: middle;\n",
       "    }\n",
       "\n",
       "    .dataframe tbody tr th {\n",
       "        vertical-align: top;\n",
       "    }\n",
       "\n",
       "    .dataframe thead th {\n",
       "        text-align: right;\n",
       "    }\n",
       "</style>\n",
       "<table border=\"1\" class=\"dataframe\">\n",
       "  <thead>\n",
       "    <tr style=\"text-align: right;\">\n",
       "      <th></th>\n",
       "      <th>code</th>\n",
       "    </tr>\n",
       "  </thead>\n",
       "  <tbody>\n",
       "    <tr>\n",
       "      <th>0</th>\n",
       "      <td>A56</td>\n",
       "    </tr>\n",
       "    <tr>\n",
       "      <th>1</th>\n",
       "      <td>A560</td>\n",
       "    </tr>\n",
       "    <tr>\n",
       "      <th>2</th>\n",
       "      <td>A5600</td>\n",
       "    </tr>\n",
       "  </tbody>\n",
       "</table>\n",
       "</div>"
      ],
      "text/plain": [
       "    code\n",
       "0    A56\n",
       "1   A560\n",
       "2  A5600"
      ]
     },
     "execution_count": 6,
     "metadata": {},
     "output_type": "execute_result"
    }
   ],
   "source": [
    "valid_icd_10_codes_df = pd.read_csv(valid_icd_10_codes)\n",
    "valid_icd_10_codes_df.head(3)"
   ]
  },
  {
   "attachments": {},
   "cell_type": "markdown",
   "metadata": {},
   "source": [
    "Q1a: What are the top 5 most common valid procedure codes?"
   ]
  },
  {
   "cell_type": "code",
   "execution_count": 8,
   "metadata": {},
   "outputs": [
    {
     "data": {
      "text/plain": [
       "['88175', '87591', '87491', '87798', '85049']"
      ]
     },
     "execution_count": 8,
     "metadata": {},
     "output_type": "execute_result"
    }
   ],
   "source": [
    "valid_codes = [str(x) for x in list(valid_cpt_codes_df.code.unique())]\n",
    "filtered_sample_claim_df = sample_claim_df[sample_claim_df['procedure_code'].isin(valid_codes)]\n",
    "result1 = pd.value_counts(filtered_sample_claim_df['procedure_code']).index.tolist()[:5]\n",
    "result1"
   ]
  },
  {
   "attachments": {},
   "cell_type": "markdown",
   "metadata": {},
   "source": [
    "Q1b: How many patients are associated with at least one of those procedures? \n",
    "\n",
    "NOTE\n",
    "> Please do not use the result values from 1a - provide code that will find the answer without specifying explicitly those code values."
   ]
  },
  {
   "cell_type": "code",
   "execution_count": 10,
   "metadata": {},
   "outputs": [
    {
     "data": {
      "text/plain": [
       "58"
      ]
     },
     "execution_count": 10,
     "metadata": {},
     "output_type": "execute_result"
    }
   ],
   "source": [
    "result2 = sample_claim_df[sample_claim_df['procedure_code'].isin(result1)].patient_id.nunique()\n",
    "result2"
   ]
  },
  {
   "attachments": {},
   "cell_type": "markdown",
   "metadata": {},
   "source": [
    "Q2: What are the top 5 most common valid diagnosis codes?\n",
    "\n",
    "NOTE\n",
    "> Diagnosis code field needs to be split"
   ]
  },
  {
   "cell_type": "code",
   "execution_count": 16,
   "metadata": {},
   "outputs": [],
   "source": [
    "valid_codes = [str(x) for x in list(valid_icd_10_codes_df.code.unique())]"
   ]
  },
  {
   "cell_type": "code",
   "execution_count": 18,
   "metadata": {},
   "outputs": [
    {
     "data": {
      "text/plain": [
       "['I10', 'R05', 'N72', 'C61', 'C20']"
      ]
     },
     "execution_count": 18,
     "metadata": {},
     "output_type": "execute_result"
    }
   ],
   "source": [
    "most_common_diagonis = sample_claim_df['diagnosis_codes'].str.split('^', n = 0, expand = False).explode().value_counts().index.tolist()\n",
    "\n",
    "result1 = [x for x in most_common_diagonis if x in valid_codes]\n",
    "result1[:5]"
   ]
  },
  {
   "attachments": {},
   "cell_type": "markdown",
   "metadata": {},
   "source": [
    "Q3: We need to review this file for overall data quality and highlight any potential problems so that they can be discussed with the data provider. Write a series of tests that will identify any errors in the file and provide a list of all errors found. Do not consider any medical details of the treatments, this question does not require any healthcare knowledge"
   ]
  },
  {
   "cell_type": "code",
   "execution_count": 19,
   "metadata": {},
   "outputs": [
    {
     "data": {
      "text/plain": [
       "{'patient_id': 4994,\n",
       " 'claim_id': 4998,\n",
       " 'diagnosis_codes': 3714,\n",
       " 'procedure_code': 4997,\n",
       " 'date_service': 4990,\n",
       " 'date_received': 5000}"
      ]
     },
     "execution_count": 19,
     "metadata": {},
     "output_type": "execute_result"
    }
   ],
   "source": [
    "#check duplicates\n",
    "assert sample_claim_df.count().to_dict() == sample_claim_df.drop_duplicates().count().to_dict()  #assert pass"
   ]
  },
  {
   "cell_type": "code",
   "execution_count": 23,
   "metadata": {},
   "outputs": [],
   "source": [
    "#standardized codes are valid\n",
    "valid_codes = [str(x) for x in list(valid_icd_10_codes_df.code.unique())]\n",
    "assert len(valid_codes) == valid_icd_10_codes_df[valid_icd_10_codes_df['code'].isin(valid_codes)].count()[0]"
   ]
  },
  {
   "cell_type": "code",
   "execution_count": 29,
   "metadata": {},
   "outputs": [],
   "source": [
    "try:\n",
    "    pd.to_datetime(sample_claim_df['date_received']).sort_values() \n",
    "except Exception as e:\n",
    "    print('Date received column contains illegal datatime values')\n",
    "    print(e)"
   ]
  },
  {
   "cell_type": "code",
   "execution_count": 30,
   "metadata": {},
   "outputs": [
    {
     "name": "stdout",
     "output_type": "stream",
     "text": [
      "Date received column contains illegal datatime values\n",
      "year 85014 is out of range: 85014 present at position 42\n"
     ]
    }
   ],
   "source": [
    "try:\n",
    "    pd.to_datetime(sample_claim_df['date_service']).sort_values() \n",
    "except Exception as e:\n",
    "    print('Date received column contains illegal datatime values')\n",
    "    print(e)"
   ]
  },
  {
   "cell_type": "code",
   "execution_count": 32,
   "metadata": {},
   "outputs": [],
   "source": [
    "health_data_profile = ProfileReport(sample_claim_df, title= 'Report', minimal = False)"
   ]
  },
  {
   "cell_type": "code",
   "execution_count": 36,
   "metadata": {},
   "outputs": [
    {
     "name": "stderr",
     "output_type": "stream",
     "text": [
      "Render HTML: 100%|██████████| 1/1 [00:01<00:00,  1.29s/it]\n",
      "Export report to file: 100%|██████████| 1/1 [00:00<00:00, 68.25it/s]\n"
     ]
    }
   ],
   "source": [
    "health_data_profile.to_file(\"report.html\")"
   ]
  },
  {
   "cell_type": "code",
   "execution_count": 34,
   "metadata": {},
   "outputs": [
    {
     "data": {
      "text/plain": [
       "{\n",
       "  \"meta\": {},\n",
       "  \"result\": {\n",
       "    \"element_count\": 5000,\n",
       "    \"unexpected_count\": 6,\n",
       "    \"unexpected_percent\": 0.12,\n",
       "    \"unexpected_percent_total\": 0.12,\n",
       "    \"partial_unexpected_list\": []\n",
       "  },\n",
       "  \"success\": false,\n",
       "  \"exception_info\": {\n",
       "    \"raised_exception\": false,\n",
       "    \"exception_traceback\": null,\n",
       "    \"exception_message\": null\n",
       "  }\n",
       "}"
      ]
     },
     "execution_count": 34,
     "metadata": {},
     "output_type": "execute_result"
    }
   ],
   "source": [
    "ge_df = ge.from_pandas(sample_claim_df)                # 6 values are missing/ or null in patient_id\n",
    "ge_df.expect_column_values_to_not_be_null(\"patient_id\")"
   ]
  },
  {
   "cell_type": "code",
   "execution_count": 35,
   "metadata": {},
   "outputs": [
    {
     "data": {
      "text/plain": [
       "{\n",
       "  \"meta\": {},\n",
       "  \"result\": {\n",
       "    \"element_count\": 5000,\n",
       "    \"unexpected_count\": 2,\n",
       "    \"unexpected_percent\": 0.04,\n",
       "    \"unexpected_percent_total\": 0.04,\n",
       "    \"partial_unexpected_list\": []\n",
       "  },\n",
       "  \"success\": false,\n",
       "  \"exception_info\": {\n",
       "    \"raised_exception\": false,\n",
       "    \"exception_traceback\": null,\n",
       "    \"exception_message\": null\n",
       "  }\n",
       "}"
      ]
     },
     "execution_count": 35,
     "metadata": {},
     "output_type": "execute_result"
    }
   ],
   "source": [
    "ge_df.expect_column_values_to_not_be_null(\"claim_id\")  # 2 values are missing"
   ]
  },
  {
   "attachments": {},
   "cell_type": "markdown",
   "metadata": {},
   "source": [
    "**List of errors found**\n",
    "\n",
    "- The service time is not in order with the date received. I think there should be relation between these two dates,\n",
    "- It shows that either the service is not provided on time or the service is delayed relative to date received\n",
    "- diagnosis_codes is missing > 25% of records.  Note: Diagnosis code can have null values \n",
    "- date_service has 49 distinct values whereas date_received has only 44\n",
    "\n",
    "**Good aspect**\n",
    "\n",
    "- There are no duplicates, all entries are unique"
   ]
  },
  {
   "attachments": {},
   "cell_type": "markdown",
   "metadata": {},
   "source": [
    "Q: Using your choice of Python test framework (pytest, unittest, DocTest etc), write a test and assert for:\n",
    "- duplicate claim_id \n",
    "- Null or empty diagnosis_codes"
   ]
  },
  {
   "cell_type": "code",
   "execution_count": 37,
   "metadata": {},
   "outputs": [
    {
     "name": "stderr",
     "output_type": "stream",
     "text": [
      "test_duplicate_claims_id (__main__.TestStringMethods) ... FAIL\n",
      "test_missing_values (__main__.TestStringMethods) ... FAIL\n",
      "\n",
      "======================================================================\n",
      "FAIL: test_duplicate_claims_id (__main__.TestStringMethods)\n",
      "----------------------------------------------------------------------\n",
      "Traceback (most recent call last):\n",
      "  File \"/var/folders/jv/23m40pmn69j7nnhhc17mqvmm0000gn/T/ipykernel_3932/881189407.py\", line 10, in test_duplicate_claims_id\n",
      "    self.assertEqual(sample_claim_df.claim_id.count(),sample_claim_df.claim_id.drop_duplicates().count())\n",
      "AssertionError: 4998 != 4971\n",
      "\n",
      "======================================================================\n",
      "FAIL: test_missing_values (__main__.TestStringMethods)\n",
      "----------------------------------------------------------------------\n",
      "Traceback (most recent call last):\n",
      "  File \"/var/folders/jv/23m40pmn69j7nnhhc17mqvmm0000gn/T/ipykernel_3932/881189407.py\", line 14, in test_missing_values\n",
      "    self.assertEqual(len(sample_claim_df.diagnosis_codes),sample_claim_df.diagnosis_codes.dropna().count())\n",
      "AssertionError: 5000 != 3714\n",
      "\n",
      "----------------------------------------------------------------------\n",
      "Ran 2 tests in 0.052s\n",
      "\n",
      "FAILED (failures=2)\n"
     ]
    },
    {
     "data": {
      "text/plain": [
       "<unittest.main.TestProgram at 0x7fc5c09ab370>"
      ]
     },
     "execution_count": 37,
     "metadata": {},
     "output_type": "execute_result"
    }
   ],
   "source": [
    "import unittest\n",
    "\n",
    "class TestStringMethods(unittest.TestCase):\n",
    "\n",
    "    def setUp(self):\n",
    "       self.sample_claim_df = pd.read_csv(sample_claims)\n",
    "\n",
    "    def test_duplicate_claims_id(self):\n",
    "        # check count claim_id equals count after droping duplicates\n",
    "        self.assertEqual(sample_claim_df.claim_id.count(),sample_claim_df.claim_id.drop_duplicates().count())\n",
    "\n",
    "    def test_missing_values(self):\n",
    "        # Null values, drop and check, drop na, blank ' ', convert ' ' to null\n",
    "        self.assertEqual(len(sample_claim_df.diagnosis_codes),sample_claim_df.diagnosis_codes.dropna().count())\n",
    "    \n",
    "\n",
    "unittest.main(argv=[''], verbosity=2, exit=False)"
   ]
  }
 ],
 "metadata": {
  "kernelspec": {
   "display_name": "env-spacy",
   "language": "python",
   "name": "python3"
  },
  "language_info": {
   "codemirror_mode": {
    "name": "ipython",
    "version": 3
   },
   "file_extension": ".py",
   "mimetype": "text/x-python",
   "name": "python",
   "nbconvert_exporter": "python",
   "pygments_lexer": "ipython3",
   "version": "3.9.7"
  },
  "orig_nbformat": 4,
  "vscode": {
   "interpreter": {
    "hash": "343191058819caea96d5cde1bd3b1a75b4807623ce2cda0e1c8499e39ac847e3"
   }
  }
 },
 "nbformat": 4,
 "nbformat_minor": 2
}
