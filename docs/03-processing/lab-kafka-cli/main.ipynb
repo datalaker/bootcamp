{
 "cells": [
  {
   "attachments": {},
   "cell_type": "markdown",
   "metadata": {},
   "source": [
    "## Kafka Topics"
   ]
  },
  {
   "cell_type": "code",
   "execution_count": null,
   "metadata": {
    "vscode": {
     "languageId": "shellscript"
    }
   },
   "outputs": [],
   "source": [
    "# list\n",
    "kafka-topics.sh --bootstrap-server localhost:9092 --list\n",
    "\n",
    "# create\n",
    "kafka-topics.sh --bootstrap-server localhost:9092 --create --topic first-topic\n",
    "\n",
    "# create with partitions and replication factor\n",
    "kafka-topics.sh --bootstrap-server localhost:9092 --create --topic second-topic --partitions 3 --replication-factor 1\n",
    "kafka-topics.sh --bootstrap-server localhost:9092 --create --topic third-topic --partitions 3 --replication-factor 1\n",
    "\n",
    "# list\n",
    "kafka-topics.sh --bootstrap-server localhost:9092 --list\n",
    "\n",
    "# describe\n",
    "kafka-topics.sh --bootstrap-server localhost:9092 --describe --topic first-topic\n",
    "kafka-topics.sh --bootstrap-server localhost:9092 --describe --topic second-topic\n",
    "\n",
    "# delete\n",
    "kafka-topics.sh --bootstrap-server localhost:9092 --delete --topic third-topic"
   ]
  },
  {
   "attachments": {},
   "cell_type": "markdown",
   "metadata": {},
   "source": [
    "## Kafka Producers"
   ]
  },
  {
   "cell_type": "code",
   "execution_count": null,
   "metadata": {
    "vscode": {
     "languageId": "shellscript"
    }
   },
   "outputs": [],
   "source": [
    "# produce messages\n",
    "kafka-console-producer.sh --bootstrap-server localhost:9092 --topic first-topic\n",
    "\n",
    "# produce messages with keys\n",
    "kafka-console-producer.sh --bootstrap-server localhost:9092 --topic first-topic --property \"parse.key=true\" --property \"key.separator=:\"\n",
    "kafka-console-producer.sh --bootstrap-server localhost:9092 --topic wysde3 --property \"parse.key=true\" --property \"key.separator=:\"\n",
    "\n",
    "# produce messages with ngrok\n",
    "ngrok tcp 9092\n",
    "kafka-console-producer.sh --bootstrap-server localhost:9092 --topic first-topic\n",
    "\n",
    "kafka-console-consumer.sh --bootstrap-server tcp://<>:10147 --topic sparsh-study"
   ]
  },
  {
   "attachments": {},
   "cell_type": "markdown",
   "metadata": {},
   "source": [
    "## Kafka Consumers"
   ]
  },
  {
   "cell_type": "code",
   "execution_count": null,
   "metadata": {
    "vscode": {
     "languageId": "shellscript"
    }
   },
   "outputs": [],
   "source": [
    "# consume messages\n",
    "kafka-console-consumer.sh --bootstrap-server localhost:9092 --topic first-topic\n",
    "\n",
    "# consume messages with ngrok\n",
    "kafka-console-consumer.sh --bootstrap-server tcp://6.tcp.ngrok.io:15178 --topic first-topic\n",
    "\n",
    "# consume messages with beginning offset\n",
    "kafka-console-consumer.sh --bootstrap-server localhost:9092 --topic first-topic --from-beginning\n",
    "kafka-console-consumer.sh --bootstrap-server localhost:9092 --topic kafka-localhost-python --from-beginning\n",
    "\n",
    "# consume messages with timestamp\n",
    "kafka-console-consumer.sh --bootstrap-server localhost:9092 --topic first-topic --formatter kafka.tools.DefaultMessageFormatter --property print.timestamp=true --property print.key=true --property print.value=true --from-beginning\n",
    "kafka-console-consumer.sh --bootstrap-server localhost:9092 --topic kafka-localhost-python --formatter kafka.tools.DefaultMessageFormatter --property print.key=true --property print.value=true --from-beginning\n",
    "\n",
    "# consume messages with consumer group\n",
    "kafka-console-consumer.sh --bootstrap-server localhost:9092 --topic first-topic --group first-consumer-group\n",
    "kafka-console-consumer.sh --bootstrap-server localhost:9092 --topic first-topic --from-beginning --formatter kafka.tools.DefaultMessageFormatter --property print.timestamp=true --property print.key=true --property print.value=true --from-beginning --group first-consumer-group\n",
    "kafka-console-consumer.sh --bootstrap-server localhost:9092 --topic wysde3 --formatter kafka.tools.DefaultMessageFormatter --property print.timestamp=true --property print.key=true --property print.value=true --from-beginning --group wysde\n",
    "kafka-console-consumer.sh --bootstrap-server localhost:9092 --topic wysde3 --from-beginning --group wysde\n",
    "\n",
    "Consumer Group - Multiple Consumers - Each consumer connect to a parition. "
   ]
  },
  {
   "attachments": {},
   "cell_type": "markdown",
   "metadata": {},
   "source": [
    "## Kafka Consumer Groups"
   ]
  },
  {
   "cell_type": "code",
   "execution_count": null,
   "metadata": {
    "vscode": {
     "languageId": "shellscript"
    }
   },
   "outputs": [],
   "source": [
    "# list consumer groups\n",
    "kafka-consumer-groups.sh --bootstrap-server localhost:9092 --list\n",
    "\n",
    "# describe consumer groups\n",
    "kafka-consumer-groups.sh --bootstrap-server localhost:9092 --describe --group first-consumer-group\n",
    "kafka-consumer-groups.sh --bootstrap-server localhost:9092 --describe --group wysde\n",
    "\n",
    "# reset offsets of consumer groups\n",
    "kafka-consumer-groups.sh --bootstrap-server localhost:9092 --group first-consumer-group --reset-offsets --to-earliest --execute --all-topics\n",
    "kafka-consumer-groups.sh --bootstrap-server localhost:9092 --group first-consumer-group --reset-offsets --shift-by 2 --execute --topic first-topic\n",
    "kafka-consumer-groups.sh --bootstrap-server localhost:9092 --group first-consumer-group --reset-offsets --shift-by -2 --execute --topic first-topic"
   ]
  }
 ],
 "metadata": {
  "language_info": {
   "name": "python"
  },
  "orig_nbformat": 4
 },
 "nbformat": 4,
 "nbformat_minor": 2
}
