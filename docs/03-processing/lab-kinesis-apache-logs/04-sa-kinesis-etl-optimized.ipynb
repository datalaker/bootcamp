{
 "cells": [
  {
   "attachments": {},
   "cell_type": "markdown",
   "metadata": {},
   "source": [
    "# Optimize data streaming for storage and performance"
   ]
  },
  {
   "attachments": {},
   "cell_type": "markdown",
   "metadata": {},
   "source": [
    "While Apache access logs can provide insights into web applicaton usage, analyzing log files can be challenging considering the volume of data that a busy web application can generate. The queries you run on JSON data will become slower with the increasing data volumes. We can address this issue by converting the JSON input data into Apache Parquet or Apache ORC . Parquet and ORC are columnar data formats that save space and enable faster queries compared to row-oriented formats like JSON. Amazon Kinesis Data Firehose can convert the format of your input data from JSON to Apache Parquet or Apache ORC before storing the data in Amazon S3.\n",
    "\n",
    "In this module, we will show you how you can convert the incoming tab delimited files into JSON using AWS Lambda function and then use record format conversion feature of Firehose to covert the JSON data into Parquet format before sending it to S3. We will use AWS Glue to store metadata. Finally, we query Parquet formatted data using Amazon Athena."
   ]
  },
  {
   "attachments": {},
   "cell_type": "markdown",
   "metadata": {},
   "source": [
    "![](https://user-images.githubusercontent.com/62965911/214810344-9c52a0b6-a254-4738-8850-098dd767f68e.png)"
   ]
  },
  {
   "attachments": {},
   "cell_type": "markdown",
   "metadata": {},
   "source": [
    "To create the resources, use `https://aws-streaming-artifacts.s3.amazonaws.com/firehose-immersion-day/setup-json-env.yaml` template or [this](./FirehoseKinesisStreamETLParquet/template.yml) one."
   ]
  },
  {
   "attachments": {},
   "cell_type": "markdown",
   "metadata": {},
   "source": [
    "### Send Apache access logs to Kinesis Firehose"
   ]
  },
  {
   "attachments": {},
   "cell_type": "markdown",
   "metadata": {},
   "source": [
    "We will use Kinesis Data Generator to send data to Kinesis Firehose. For this, use [this](./FirehoseKinesisStreamETLParquet/datagen.yml) template.\n",
    "\n",
    "Use this template in the data generator:\n",
    "\n",
    "```\n",
    "{{internet.ip}} - {{name.firstName}} [{{date.now(\"DD/MMM/YYYY:HH:mm:ss ZZ\")}}] \"{{random.weightedArrayElement({\"weights\":[0.6,0.1,0.1,0.2],\"data\":[\"GET\",\"POST\",\"DELETE\",\"PUT\"]})}} {{random.arrayElement([\"/list\",\"/wp-content\",\"/wp-admin\",\"/explore\",\"/search/tag/list\",\"/app/main/posts\",\"/posts/posts/explore\"])}}\" {{random.weightedArrayElement({\"weights\": [0.9,0.04,0.02,0.04], \"data\":[\"200\",\"404\",\"500\",\"301\"]})}} {{random.number(10000)}}\n",
    "```\n",
    "\n",
    "![](https://user-images.githubusercontent.com/62965911/214810337-5c91b08b-7ae9-49fb-b45d-ea8bb633132f.png)\n",
    "\n",
    "Check in S3:\n",
    "\n",
    "![](https://user-images.githubusercontent.com/62965911/214810351-a4e6c696-6229-4127-851c-4a132f98df92.png)"
   ]
  },
  {
   "attachments": {},
   "cell_type": "markdown",
   "metadata": {},
   "source": [
    "### Run the Crawler\n",
    "\n",
    "![](https://user-images.githubusercontent.com/62965911/214810334-41948aae-5e22-432b-b2ac-4d09dbdecb96.png)\n",
    "\n",
    "### Analyze the Glue table\n",
    "\n",
    "![](https://user-images.githubusercontent.com/62965911/214810356-94a4bf8c-147f-4257-818d-f423fbf56a79.png)\n",
    "\n",
    "### Querying Real Time Data\n",
    "\n",
    "Query with the following command:\n",
    "\n",
    "```\n",
    "SELECT * FROM access_logs_parquet where status = '404';\n",
    "```\n",
    "\n",
    "![](https://user-images.githubusercontent.com/62965911/214810323-309f12ca-5b83-41fe-9ed7-de4f3aff4afe.png)"
   ]
  },
  {
   "cell_type": "markdown",
   "metadata": {},
   "source": []
  }
 ],
 "metadata": {
  "kernelspec": {
   "display_name": "Python 3",
   "language": "python",
   "name": "python3"
  },
  "language_info": {
   "name": "python",
   "version": "3.9.10 (v3.9.10:f2f3f53782, Jan 13 2022, 17:02:14) \n[Clang 6.0 (clang-600.0.57)]"
  },
  "orig_nbformat": 4,
  "vscode": {
   "interpreter": {
    "hash": "aee8b7b246df8f9039afb4144a1f6fd8d2ca17a180786b69acc140d282b71a49"
   }
  }
 },
 "nbformat": 4,
 "nbformat_minor": 2
}
