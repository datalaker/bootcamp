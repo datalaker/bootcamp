{
  "cells": [
    {
      "attachments": {},
      "cell_type": "markdown",
      "metadata": {},
      "source": [
        "Using local environment. \n",
        "\n",
        "This would create two new tables (Silver and Gold Layer) in Databricks cluster."
      ]
    },
    {
      "cell_type": "markdown",
      "metadata": {
        "id": "X90mzL-VmQoh"
      },
      "source": [
        "## Setup environment"
      ]
    },
    {
      "cell_type": "code",
      "execution_count": null,
      "metadata": {
        "id": "glQEQpvIjgw0"
      },
      "outputs": [],
      "source": [
        "%%capture\n",
        "!pip install dbt\n",
        "!apt-get --quiet install tree\n",
        "!pip install ipython-sql\n",
        "!pip install dbt-databricks\n",
        "%reload_ext sql"
      ]
    },
    {
      "cell_type": "code",
      "execution_count": null,
      "metadata": {
        "id": "LLD4HTYkj_Q4"
      },
      "outputs": [],
      "source": [
        "PROJECT_NAME = \"my_new_dbt_project\"\n",
        "HOST = \"dbc-4bac4aa4-ed1b.cloud.databricks.com\"\n",
        "HTTP_PATH = \"sql/protocolv1/o/4195076978496399/0702-053640-85snnqsk\"\n",
        "TOKEN = \"dapi***\""
      ]
    },
    {
      "cell_type": "code",
      "execution_count": null,
      "metadata": {
        "colab": {
          "base_uri": "https://localhost:8080/"
        },
        "id": "-1PicbWdjxwo",
        "outputId": "068f09a0-d8ae-47d3-a9c0-bb41531812f3"
      },
      "outputs": [
        {
          "name": "stdout",
          "output_type": "stream",
          "text": [
            "Running with dbt=0.21.1\n",
            "Creating dbt configuration folder at /root/.dbt\n",
            "With sample profiles.yml for postgres\n",
            "\n",
            "Your new dbt project \"my_new_dbt_project\" was created! If this is your first time\n",
            "using dbt, you'll need to set up your profiles.yml file -- this file will tell dbt how\n",
            "to connect to your database. You can find this file by running:\n",
            "\n",
            "  xdg-open /root/.dbt\n",
            "\n",
            "For more information on how to configure the profiles.yml file,\n",
            "please consult the dbt documentation here:\n",
            "\n",
            "  https://docs.getdbt.com/docs/configure-your-profile\n",
            "\n",
            "One more thing:\n",
            "\n",
            "Need help? Don't hesitate to reach out to us via GitHub issues or on Slack:\n",
            "\n",
            "  https://community.getdbt.com/\n",
            "\n",
            "Happy modeling!\n",
            "\n",
            "\u001b[0m"
          ]
        }
      ],
      "source": [
        "# initiate a project\n",
        "!dbt init $PROJECT_NAME"
      ]
    },
    {
      "cell_type": "code",
      "execution_count": null,
      "metadata": {
        "colab": {
          "base_uri": "https://localhost:8080/"
        },
        "id": "dtXITXv7j6Pl",
        "outputId": "afd69b6f-c400-43d2-82d4-000e5cde0960"
      },
      "outputs": [
        {
          "name": "stdout",
          "output_type": "stream",
          "text": [
            "/content/my_new_dbt_project\n"
          ]
        }
      ],
      "source": [
        "# go into the newly created directory\n",
        "%cd $PROJECT_NAME"
      ]
    },
    {
      "cell_type": "code",
      "execution_count": null,
      "metadata": {
        "colab": {
          "base_uri": "https://localhost:8080/"
        },
        "id": "zMrqd_aqkEw_",
        "outputId": "9840642c-833e-4276-8c3f-a748c3adbb2f"
      },
      "outputs": [
        {
          "name": "stdout",
          "output_type": "stream",
          "text": [
            "Writing 'profiles' (str) to file '/root/.dbt/profiles.yml'.\n"
          ]
        }
      ],
      "source": [
        "profiles = f\"\"\"\n",
        "default:\n",
        "  outputs:\n",
        "    dev:\n",
        "      host: {HOST}\n",
        "      http_path: {HTTP_PATH}\n",
        "      schema: default\n",
        "      threads: 1\n",
        "      token: {TOKEN}\n",
        "      type: databricks\n",
        "  target: dev\n",
        "\"\"\"\n",
        "\n",
        "%store profiles > ~/.dbt/profiles.yml"
      ]
    },
    {
      "cell_type": "code",
      "execution_count": null,
      "metadata": {
        "colab": {
          "base_uri": "https://localhost:8080/"
        },
        "id": "ptN1-ToXky0S",
        "outputId": "8070c72e-1320-43ad-e6b8-02ad8faaa313"
      },
      "outputs": [
        {
          "name": "stdout",
          "output_type": "stream",
          "text": [
            "07:35:51  Running with dbt=1.1.1\n",
            "dbt version: 1.1.1\n",
            "python version: 3.7.13\n",
            "python path: /usr/bin/python3\n",
            "os info: Linux-5.4.188+-x86_64-with-Ubuntu-18.04-bionic\n",
            "Using profiles.yml file at /root/.dbt/profiles.yml\n",
            "Using dbt_project.yml file at /content/my_new_dbt_project/dbt_project.yml\n",
            "\n",
            "07:35:51  [\u001b[33mWARNING\u001b[0m]: Deprecated functionality\n",
            "The `source-paths` config has been renamed to `model-paths`. Please update your\n",
            "`dbt_project.yml` configuration to reflect this change.\n",
            "07:35:51  [\u001b[33mWARNING\u001b[0m]: Deprecated functionality\n",
            "The `data-paths` config has been renamed to `seed-paths`. Please update your\n",
            "`dbt_project.yml` configuration to reflect this change.\n",
            "Configuration:\n",
            "  profiles.yml file [\u001b[32mOK found and valid\u001b[0m]\n",
            "  dbt_project.yml file [\u001b[32mOK found and valid\u001b[0m]\n",
            "\n",
            "Required dependencies:\n",
            " - git [\u001b[32mOK found\u001b[0m]\n",
            "\n",
            "Connection:\n",
            "  host: dbc-4bac4aa4-ed1b.cloud.databricks.com\n",
            "  http_path: sql/protocolv1/o/4195076978496399/0702-053640-85snnqsk\n",
            "  schema: default\n",
            "  Connection test: [\u001b[32mOK connection ok\u001b[0m]\n",
            "\n",
            "\u001b[32mAll checks passed!\u001b[0m\n"
          ]
        }
      ],
      "source": [
        "!dbt debug"
      ]
    },
    {
      "cell_type": "markdown",
      "metadata": {
        "id": "sCsMKsJnmJ8e"
      },
      "source": [
        "## Create models"
      ]
    },
    {
      "cell_type": "code",
      "execution_count": null,
      "metadata": {
        "id": "OcPl-75-mL8B"
      },
      "outputs": [],
      "source": [
        "!rm -r ./models/example"
      ]
    },
    {
      "cell_type": "code",
      "execution_count": null,
      "metadata": {
        "colab": {
          "base_uri": "https://localhost:8080/"
        },
        "id": "M2j0uwVvl3xH",
        "outputId": "51dda56e-13de-4379-d3c8-c31a506a1811"
      },
      "outputs": [
        {
          "name": "stdout",
          "output_type": "stream",
          "text": [
            "Writing ./models/schema.yml\n"
          ]
        }
      ],
      "source": [
        "%%writefile ./models/schema.yml\n",
        "version: 2\n",
        "\n",
        "models:\n",
        "  - name: zzz_game_details\n",
        "    columns:\n",
        "      - name: game_id\n",
        "        tests:\n",
        "          - unique\n",
        "          - not_null\n",
        "      - name: home\n",
        "        tests:\n",
        "          - not_null\n",
        "          - accepted_values:\n",
        "              values: ['Amsterdam', 'San Francisco', 'Seattle']\n",
        "      - name: visitor\n",
        "        tests:\n",
        "          - not_null\n",
        "          - accepted_values:\n",
        "              values: ['Amsterdam', 'San Francisco', 'Seattle']\n",
        "      - name: home_score\n",
        "        tests:\n",
        "          - not_null\n",
        "      - name: visitor_score\n",
        "        tests:\n",
        "          - not_null\n",
        "      - name: winner\n",
        "        tests:\n",
        "          - not_null\n",
        "          - accepted_values:\n",
        "              values: ['Amsterdam', 'San Francisco', 'Seattle']\n",
        "      - name: date\n",
        "        tests:\n",
        "          - not_null\n",
        "  - name: zzz_win_loss_records\n",
        "    columns:\n",
        "      - name: team\n",
        "        tests:\n",
        "          - unique\n",
        "          - not_null\n",
        "          - relationships:\n",
        "              to: ref('zzz_game_details')\n",
        "              field: home\n",
        "      - name: wins\n",
        "        tests:\n",
        "          - not_null\n",
        "      - name: losses\n",
        "        tests:\n",
        "          - not_null"
      ]
    },
    {
      "cell_type": "code",
      "execution_count": null,
      "metadata": {
        "colab": {
          "base_uri": "https://localhost:8080/"
        },
        "id": "C5Klld3Gk1Uc",
        "outputId": "066c347a-94c5-436e-a660-c17856810f3f"
      },
      "outputs": [
        {
          "name": "stdout",
          "output_type": "stream",
          "text": [
            "Writing ./models/zzz_win_loss_records.sql\n"
          ]
        }
      ],
      "source": [
        "%%writefile ./models/zzz_win_loss_records.sql\n",
        "-- Create a view that summarizes the season's win and loss records by team.\n",
        "\n",
        "-- Step 2 of 2: Calculate the number of wins and losses for each team.\n",
        "select\n",
        "  winner as team,\n",
        "  count(winner) as wins,\n",
        "  -- Each team played in 4 games.\n",
        "  (4 - count(winner)) as losses\n",
        "from (\n",
        "  -- Step 1 of 2: Determine the winner and loser for each game.\n",
        "  select\n",
        "    game_id,\n",
        "    winner,\n",
        "    case\n",
        "      when\n",
        "        home = winner\n",
        "          then\n",
        "            visitor\n",
        "      else\n",
        "        home\n",
        "    end as loser\n",
        "  from {{ ref('zzz_game_details') }}\n",
        ")\n",
        "group by winner\n",
        "order by wins desc"
      ]
    },
    {
      "cell_type": "code",
      "execution_count": null,
      "metadata": {
        "colab": {
          "base_uri": "https://localhost:8080/"
        },
        "id": "MCqtUZhzl1Xu",
        "outputId": "4ca60890-83b3-4bdf-f4b1-4c8b86c4ecfa"
      },
      "outputs": [
        {
          "name": "stdout",
          "output_type": "stream",
          "text": [
            "Overwriting ./models/zzz_game_details.sql\n"
          ]
        }
      ],
      "source": [
        "%%writefile ./models/zzz_game_details.sql\n",
        "{{ config(\n",
        "  materialized='table',\n",
        "  file_format='delta'\n",
        ") }}\n",
        "\n",
        "-- Step 4 of 4: Replace the visitor team IDs with their city names.\n",
        "select\n",
        "  game_id,\n",
        "  home,\n",
        "  t.team_city as visitor,\n",
        "  home_score,\n",
        "  visitor_score,\n",
        "  -- Step 3 of 4: Display the city name for each game's winner.\n",
        "  case\n",
        "    when\n",
        "      home_score > visitor_score\n",
        "        then\n",
        "          home\n",
        "    when\n",
        "      visitor_score > home_score\n",
        "        then\n",
        "          t.team_city\n",
        "  end as winner,\n",
        "  game_date as date\n",
        "from (\n",
        "  -- Step 2 of 4: Replace the home team IDs with their actual city names.\n",
        "  select\n",
        "    game_id,\n",
        "    t.team_city as home,\n",
        "    home_score,\n",
        "    visitor_team_id,\n",
        "    visitor_score,\n",
        "    game_date\n",
        "  from (\n",
        "    -- Step 1 of 4: Combine data from various tables (for example, game and team IDs, scores, dates).\n",
        "    select\n",
        "      g.game_id,\n",
        "      gop.home_team_id,\n",
        "      gs.home_team_score as home_score,\n",
        "      gop.visitor_team_id,\n",
        "      gs.visitor_team_score as visitor_score,\n",
        "      g.game_date\n",
        "    from\n",
        "      default.zzz_games as g,\n",
        "      default.zzz_game_opponents as gop,\n",
        "      default.zzz_game_scores as gs\n",
        "    where\n",
        "      g.game_id = gop.game_id and\n",
        "      g.game_id = gs.game_id\n",
        "  ) as all_ids,\n",
        "    default.zzz_teams as t\n",
        "  where\n",
        "    all_ids.home_team_id = t.team_id\n",
        ") as visitor_ids,\n",
        "  default.zzz_teams as t\n",
        "where\n",
        "  visitor_ids.visitor_team_id = t.team_id\n",
        "order by game_date desc"
      ]
    },
    {
      "cell_type": "markdown",
      "metadata": {
        "id": "Ik-lacyQmbM9"
      },
      "source": [
        "## Configure project"
      ]
    },
    {
      "cell_type": "code",
      "execution_count": null,
      "metadata": {
        "colab": {
          "base_uri": "https://localhost:8080/"
        },
        "id": "KVzzG4hSmD4H",
        "outputId": "877e9bc4-e70a-486e-a918-fe444d473b47"
      },
      "outputs": [
        {
          "name": "stdout",
          "output_type": "stream",
          "text": [
            "Overwriting dbt_project.yml\n"
          ]
        }
      ],
      "source": [
        "%%writefile dbt_project.yml\n",
        "name: 'my_dbt_demo'\n",
        "version: '1.0.0'\n",
        "config-version: 2\n",
        "profile: 'default'\n",
        "model-paths: [\"models\"]\n",
        "analysis-paths: [\"analyses\"]\n",
        "test-paths: [\"tests\"]\n",
        "seed-paths: [\"seeds\"]\n",
        "macro-paths: [\"macros\"]\n",
        "snapshot-paths: [\"snapshots\"]\n",
        "target-path: \"target\"\n",
        "clean-targets:\n",
        "  - \"target\"\n",
        "  - \"dbt_packages\"\n",
        "models:\n",
        "  my_dbt_demo:\n",
        "    example:\n",
        "      +materialized: view"
      ]
    },
    {
      "cell_type": "code",
      "execution_count": null,
      "metadata": {
        "colab": {
          "base_uri": "https://localhost:8080/"
        },
        "id": "V6vsWzQemlt6",
        "outputId": "74900384-d077-425b-eccf-f40d63b2fdf8"
      },
      "outputs": [
        {
          "name": "stdout",
          "output_type": "stream",
          "text": [
            "07:42:27  Running with dbt=1.1.1\n",
            "07:42:27  [\u001b[33mWARNING\u001b[0m]: Configuration paths exist in your dbt_project.yml file which do not apply to any resources.\n",
            "There are 1 unused configuration paths:\n",
            "- models.my_dbt_demo.example\n",
            "\n",
            "07:42:27  Found 2 models, 16 tests, 0 snapshots, 0 analyses, 218 macros, 0 operations, 0 seed files, 0 sources, 0 exposures, 0 metrics\n",
            "07:42:27  \n",
            "07:42:29  Concurrency: 1 threads (target='dev')\n",
            "07:42:29  \n",
            "07:42:29  1 of 2 START table model default.zzz_game_details .............................. [RUN]\n",
            "07:42:45  1 of 2 OK created table model default.zzz_game_details ......................... [\u001b[32mOK\u001b[0m in 15.97s]\n",
            "07:42:45  2 of 2 START view model default.zzz_win_loss_records ........................... [RUN]\n",
            "07:42:46  2 of 2 OK created view model default.zzz_win_loss_records ...................... [\u001b[32mOK\u001b[0m in 1.44s]\n",
            "07:42:47  \n",
            "07:42:47  Finished running 1 table model, 1 view model in 19.56s.\n",
            "07:42:47  \n",
            "07:42:47  \u001b[32mCompleted successfully\u001b[0m\n",
            "07:42:47  \n",
            "07:42:47  Done. PASS=2 WARN=0 ERROR=0 SKIP=0 TOTAL=2\n"
          ]
        }
      ],
      "source": [
        "!dbt run --model models/zzz_game_details.sql models/zzz_win_loss_records.sql"
      ]
    },
    {
      "cell_type": "markdown",
      "metadata": {
        "id": "ABZcm0tnpOXW"
      },
      "source": [
        "## Test models"
      ]
    },
    {
      "cell_type": "code",
      "execution_count": null,
      "metadata": {
        "colab": {
          "base_uri": "https://localhost:8080/"
        },
        "id": "FQSw4K-hpSf-",
        "outputId": "e0f0321d-18bf-44d0-8ac1-050ff98720b3"
      },
      "outputs": [
        {
          "name": "stdout",
          "output_type": "stream",
          "text": [
            "07:52:21  Running with dbt=1.1.1\n",
            "07:52:21  [\u001b[33mWARNING\u001b[0m]: Configuration paths exist in your dbt_project.yml file which do not apply to any resources.\n",
            "There are 1 unused configuration paths:\n",
            "- models.my_dbt_demo.example\n",
            "\n",
            "07:52:21  Found 2 models, 16 tests, 0 snapshots, 0 analyses, 218 macros, 0 operations, 0 seed files, 0 sources, 0 exposures, 0 metrics\n",
            "07:52:21  \n",
            "07:52:23  Concurrency: 1 threads (target='dev')\n",
            "07:52:23  \n",
            "07:52:23  1 of 16 START test accepted_values_zzz_game_details_home__Amsterdam__San_Francisco__Seattle  [RUN]\n",
            "07:52:26  1 of 16 PASS accepted_values_zzz_game_details_home__Amsterdam__San_Francisco__Seattle  [\u001b[32mPASS\u001b[0m in 2.43s]\n",
            "07:52:26  2 of 16 START test accepted_values_zzz_game_details_visitor__Amsterdam__San_Francisco__Seattle  [RUN]\n",
            "07:52:27  2 of 16 PASS accepted_values_zzz_game_details_visitor__Amsterdam__San_Francisco__Seattle  [\u001b[32mPASS\u001b[0m in 1.19s]\n",
            "07:52:27  3 of 16 START test accepted_values_zzz_game_details_winner__Amsterdam__San_Francisco__Seattle  [RUN]\n",
            "07:52:28  3 of 16 PASS accepted_values_zzz_game_details_winner__Amsterdam__San_Francisco__Seattle  [\u001b[32mPASS\u001b[0m in 1.24s]\n",
            "07:52:28  4 of 16 START test not_null_zzz_game_details_date .............................. [RUN]\n",
            "07:52:30  4 of 16 PASS not_null_zzz_game_details_date .................................... [\u001b[32mPASS\u001b[0m in 1.47s]\n",
            "07:52:30  5 of 16 START test not_null_zzz_game_details_game_id ........................... [RUN]\n",
            "07:52:31  5 of 16 PASS not_null_zzz_game_details_game_id ................................. [\u001b[32mPASS\u001b[0m in 1.38s]\n",
            "07:52:31  6 of 16 START test not_null_zzz_game_details_home .............................. [RUN]\n",
            "07:52:32  6 of 16 PASS not_null_zzz_game_details_home .................................... [\u001b[32mPASS\u001b[0m in 0.89s]\n",
            "07:52:32  7 of 16 START test not_null_zzz_game_details_home_score ........................ [RUN]\n",
            "07:52:33  7 of 16 PASS not_null_zzz_game_details_home_score .............................. [\u001b[32mPASS\u001b[0m in 0.75s]\n",
            "07:52:33  8 of 16 START test not_null_zzz_game_details_visitor ........................... [RUN]\n",
            "07:52:33  8 of 16 PASS not_null_zzz_game_details_visitor ................................. [\u001b[32mPASS\u001b[0m in 0.74s]\n",
            "07:52:33  9 of 16 START test not_null_zzz_game_details_visitor_score ..................... [RUN]\n",
            "07:52:34  9 of 16 PASS not_null_zzz_game_details_visitor_score ........................... [\u001b[32mPASS\u001b[0m in 1.09s]\n",
            "07:52:34  10 of 16 START test not_null_zzz_game_details_winner ........................... [RUN]\n",
            "07:52:35  10 of 16 PASS not_null_zzz_game_details_winner ................................. [\u001b[32mPASS\u001b[0m in 0.98s]\n",
            "07:52:35  11 of 16 START test not_null_zzz_win_loss_records_losses ....................... [RUN]\n",
            "07:52:36  11 of 16 PASS not_null_zzz_win_loss_records_losses ............................. [\u001b[32mPASS\u001b[0m in 0.79s]\n",
            "07:52:36  12 of 16 START test not_null_zzz_win_loss_records_team ......................... [RUN]\n",
            "07:52:37  12 of 16 PASS not_null_zzz_win_loss_records_team ............................... [\u001b[32mPASS\u001b[0m in 1.12s]\n",
            "07:52:37  13 of 16 START test not_null_zzz_win_loss_records_wins ......................... [RUN]\n",
            "07:52:38  13 of 16 PASS not_null_zzz_win_loss_records_wins ............................... [\u001b[32mPASS\u001b[0m in 0.83s]\n",
            "07:52:38  14 of 16 START test relationships_zzz_win_loss_records_team__home__ref_zzz_game_details_  [RUN]\n",
            "07:52:39  14 of 16 PASS relationships_zzz_win_loss_records_team__home__ref_zzz_game_details_  [\u001b[32mPASS\u001b[0m in 1.31s]\n",
            "07:52:39  15 of 16 START test unique_zzz_game_details_game_id ............................ [RUN]\n",
            "07:52:40  15 of 16 PASS unique_zzz_game_details_game_id .................................. [\u001b[32mPASS\u001b[0m in 0.94s]\n",
            "07:52:40  16 of 16 START test unique_zzz_win_loss_records_team ........................... [RUN]\n",
            "07:52:41  16 of 16 PASS unique_zzz_win_loss_records_team ................................. [\u001b[32mPASS\u001b[0m in 0.68s]\n",
            "07:52:41  \n",
            "07:52:41  Finished running 16 tests in 20.60s.\n",
            "07:52:41  \n",
            "07:52:41  \u001b[32mCompleted successfully\u001b[0m\n",
            "07:52:41  \n",
            "07:52:41  Done. PASS=16 WARN=0 ERROR=0 SKIP=0 TOTAL=16\n"
          ]
        }
      ],
      "source": [
        "!dbt test"
      ]
    },
    {
      "cell_type": "markdown",
      "metadata": {
        "id": "vycPnu-am2K6"
      },
      "source": [
        "## Generate docs"
      ]
    },
    {
      "cell_type": "code",
      "execution_count": null,
      "metadata": {
        "colab": {
          "base_uri": "https://localhost:8080/"
        },
        "id": "4inboleooBgb",
        "outputId": "fece8377-f28a-40cb-dff4-6bbd13865ad6"
      },
      "outputs": [
        {
          "name": "stdout",
          "output_type": "stream",
          "text": [
            "07:46:47  Running with dbt=1.1.1\n",
            "07:46:47  [\u001b[33mWARNING\u001b[0m]: Configuration paths exist in your dbt_project.yml file which do not apply to any resources.\n",
            "There are 1 unused configuration paths:\n",
            "- models.my_dbt_demo.example\n",
            "\n",
            "07:46:47  Found 2 models, 16 tests, 0 snapshots, 0 analyses, 218 macros, 0 operations, 0 seed files, 0 sources, 0 exposures, 0 metrics\n",
            "07:46:47  \n",
            "07:46:49  Concurrency: 1 threads (target='dev')\n",
            "07:46:49  \n",
            "07:46:49  Done.\n",
            "07:46:49  Building catalog\n",
            "07:46:49  Catalog written to /content/my_new_dbt_project/target/catalog.json\n"
          ]
        }
      ],
      "source": [
        "!dbt docs generate"
      ]
    },
    {
      "cell_type": "code",
      "execution_count": null,
      "metadata": {
        "colab": {
          "base_uri": "https://localhost:8080/",
          "height": 52
        },
        "id": "I9J0vsG9oXEX",
        "outputId": "d242c6ea-02b4-4a9f-d65d-b6f950e35bfc"
      },
      "outputs": [],
      "source": [
        "import portpicker\n",
        "from google.colab.output import eval_js\n",
        "port = portpicker.pick_unused_port()\n",
        "print(port)\n",
        "print(eval_js(\"google.colab.kernel.proxyPort({})\".format(port)))"
      ]
    },
    {
      "cell_type": "code",
      "execution_count": null,
      "metadata": {
        "colab": {
          "base_uri": "https://localhost:8080/"
        },
        "id": "ZMqOyeL5oBz1",
        "outputId": "5600a74c-3d7a-4df4-a912-1aaeaaf1ccbd"
      },
      "outputs": [
        {
          "name": "stdout",
          "output_type": "stream",
          "text": [
            "07:50:04  Running with dbt=1.1.1\n",
            "07:50:04  Serving docs at 0.0.0.0:24038\n",
            "07:50:04  To access from your browser, navigate to:  http://localhost:24038\n",
            "07:50:04  \n",
            "07:50:04  \n",
            "07:50:04  Press Ctrl+C to exit.\n",
            "127.0.0.1 - - [07/Jul/2022 07:50:10] \"GET / HTTP/1.1\" 200 -\n",
            "127.0.0.1 - - [07/Jul/2022 07:50:15] \"GET /manifest.json?cb=1657180214358 HTTP/1.1\" 200 -\n",
            "127.0.0.1 - - [07/Jul/2022 07:50:15] \"GET /catalog.json?cb=1657180214358 HTTP/1.1\" 200 -\n",
            "07:51:40  ctrl-c\n"
          ]
        }
      ],
      "source": [
        "!dbt docs serve --port $port --no-browser"
      ]
    },
    {
      "cell_type": "code",
      "execution_count": null,
      "metadata": {
        "id": "YP2M5wj3oKvf"
      },
      "outputs": [],
      "source": []
    }
  ],
  "metadata": {
    "colab": {
      "name": "Data Engineering Lab | dbt with databricks",
      "provenance": []
    },
    "kernelspec": {
      "display_name": "Python 3",
      "language": "python",
      "name": "python3"
    },
    "language_info": {
      "name": "python",
      "version": "3.9.10 (v3.9.10:f2f3f53782, Jan 13 2022, 17:02:14) \n[Clang 6.0 (clang-600.0.57)]"
    },
    "vscode": {
      "interpreter": {
        "hash": "aee8b7b246df8f9039afb4144a1f6fd8d2ca17a180786b69acc140d282b71a49"
      }
    }
  },
  "nbformat": 4,
  "nbformat_minor": 0
}
