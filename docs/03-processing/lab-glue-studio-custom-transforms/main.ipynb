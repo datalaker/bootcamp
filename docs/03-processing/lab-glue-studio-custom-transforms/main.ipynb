{
 "cells": [
  {
   "attachments": {},
   "cell_type": "markdown",
   "metadata": {},
   "source": [
    "Use Case 1 upload"
   ]
  },
  {
   "cell_type": "code",
   "execution_count": 1,
   "metadata": {},
   "outputs": [
    {
     "name": "stdout",
     "output_type": "stream",
     "text": [
      "upload: src/salesdata_generator.json to s3://aws-glue-assets-684199068947-us-east-1/transforms/salesdata_generator.json\n",
      "upload: src/salesdata_generator.py to s3://aws-glue-assets-684199068947-us-east-1/transforms/salesdata_generator.py\n"
     ]
    }
   ],
   "source": [
    "!aws s3 sync src s3://aws-glue-assets-684199068947-us-east-1/transforms"
   ]
  },
  {
   "attachments": {},
   "cell_type": "markdown",
   "metadata": {},
   "source": [
    "Use Case 2 upload\n",
    "\n",
    "It automatically upload the newly added files only"
   ]
  },
  {
   "cell_type": "code",
   "execution_count": 2,
   "metadata": {},
   "outputs": [
    {
     "name": "stdout",
     "output_type": "stream",
     "text": [
      "upload: src/repartition_date.json to s3://aws-glue-assets-684199068947-us-east-1/transforms/repartition_date.json\n",
      "upload: src/repartition_date.py to s3://aws-glue-assets-684199068947-us-east-1/transforms/repartition_date.py\n"
     ]
    }
   ],
   "source": [
    "!aws s3 sync src s3://aws-glue-assets-684199068947-us-east-1/transforms"
   ]
  },
  {
   "cell_type": "code",
   "execution_count": null,
   "metadata": {},
   "outputs": [],
   "source": []
  }
 ],
 "metadata": {
  "kernelspec": {
   "display_name": "env-spacy",
   "language": "python",
   "name": "python3"
  },
  "language_info": {
   "codemirror_mode": {
    "name": "ipython",
    "version": 3
   },
   "file_extension": ".py",
   "mimetype": "text/x-python",
   "name": "python",
   "nbconvert_exporter": "python",
   "pygments_lexer": "ipython3",
   "version": "3.9.7"
  },
  "orig_nbformat": 4,
  "vscode": {
   "interpreter": {
    "hash": "343191058819caea96d5cde1bd3b1a75b4807623ce2cda0e1c8499e39ac847e3"
   }
  }
 },
 "nbformat": 4,
 "nbformat_minor": 2
}
