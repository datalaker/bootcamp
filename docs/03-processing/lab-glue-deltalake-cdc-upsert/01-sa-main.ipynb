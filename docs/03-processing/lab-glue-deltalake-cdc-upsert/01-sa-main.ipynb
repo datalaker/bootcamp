{
 "cells": [
  {
   "cell_type": "code",
   "execution_count": 10,
   "metadata": {},
   "outputs": [],
   "source": [
    "BUCKET_PATH = \"s3://wysde-assets/labs/glue-cdc-upsert\""
   ]
  },
  {
   "attachments": {},
   "cell_type": "markdown",
   "metadata": {},
   "source": [
    "We will use the following folders:\n",
    "- $BUCKET_PATH/fullload – This folder is used for a one-time full load from the upstream data source\n",
    "- $BUCKET_PATH/cdcload – This folder is used for copying the upstream data changes\n",
    "- $BUCKET_PATH/delta – This folder holds the Delta Lake data files"
   ]
  },
  {
   "attachments": {},
   "cell_type": "markdown",
   "metadata": {},
   "source": [
    "## Upload the `full-load.csv` data in $BUCKET_PATH/fullload folder"
   ]
  },
  {
   "cell_type": "code",
   "execution_count": 7,
   "metadata": {},
   "outputs": [
    {
     "name": "stdout",
     "output_type": "stream",
     "text": [
      "upload: data/full-load.csv to s3://wysde-assets/labs/glue-cdc-upsert/fullload/full-load.csv\n"
     ]
    }
   ],
   "source": [
    "!aws s3 cp data/full-load.csv $BUCKET_PATH/fullload/"
   ]
  },
  {
   "attachments": {},
   "cell_type": "markdown",
   "metadata": {},
   "source": [
    "## Set up an IAM policy and role"
   ]
  },
  {
   "attachments": {},
   "cell_type": "markdown",
   "metadata": {},
   "source": [
    "### Create Policy"
   ]
  },
  {
   "cell_type": "code",
   "execution_count": 2,
   "metadata": {},
   "outputs": [
    {
     "name": "stdout",
     "output_type": "stream",
     "text": [
      "Overwriting policy-document.json\n"
     ]
    }
   ],
   "source": [
    "%%writefile policy-document.json\n",
    "{\n",
    "    \"Version\": \"2012-10-17\",\n",
    "    \"Statement\": [\n",
    "        {\n",
    "            \"Sid\": \"AllowListingOfFolders\",\n",
    "            \"Action\": [\n",
    "                \"s3:ListBucket\",\n",
    "                \"s3:GetBucketLocation\"\n",
    "            ],\n",
    "            \"Effect\": \"Allow\",\n",
    "            \"Resource\": [\n",
    "                \"arn:aws:s3:::wysde-assets\"\n",
    "            ]\n",
    "        },\n",
    "        {\n",
    "            \"Sid\": \"ObjectAccessInBucket\",\n",
    "            \"Effect\": \"Allow\",\n",
    "            \"Action\": [\n",
    "                \"s3:PutObject\",\n",
    "                \"s3:GetObject\",\n",
    "                \"s3:DeleteObject\"\n",
    "            ],\n",
    "            \"Resource\": \"arn:aws:s3:::wysde-assets/*\"\n",
    "        }\n",
    "    ]\n",
    "}"
   ]
  },
  {
   "cell_type": "code",
   "execution_count": 3,
   "metadata": {},
   "outputs": [
    {
     "name": "stdout",
     "output_type": "stream",
     "text": [
      "----------------------------------------------------------------------------------------------------\n",
      "|                                           CreatePolicy                                           |\n",
      "+--------------------------------------------------------------------------------------------------+\n",
      "\u001b[2m\u001b[33m|\u001b[0m|                                             Policy                                             |\u001b[2m\u001b[33m|\u001b[0m\n",
      "\u001b[2m\u001b[33m|\u001b[0m+--------------------------------+---------------------------------------------------------------+\u001b[2m\u001b[33m|\u001b[0m\n",
      "\u001b[2m\u001b[33m|\u001b[0m|  \u001b[1m\u001b[34mArn\u001b[0m                           |  \u001b[1m\u001b[34marn:aws:iam::684199068947:policy/glue-delta-lake-cdc-policy\u001b[0m  |\u001b[2m\u001b[33m|\u001b[0m\n",
      "\u001b[2m\u001b[33m|\u001b[0m|  \u001b[1m\u001b[34mAttachmentCount\u001b[0m               |  \u001b[1m\u001b[34m0\u001b[0m                                                            |\u001b[2m\u001b[33m|\u001b[0m\n",
      "\u001b[2m\u001b[33m|\u001b[0m|  \u001b[1m\u001b[34mCreateDate\u001b[0m                    |  \u001b[1m\u001b[34m2023-02-05T06:50:39+00:00\u001b[0m                                    |\u001b[2m\u001b[33m|\u001b[0m\n",
      "\u001b[2m\u001b[33m|\u001b[0m|  \u001b[1m\u001b[34mDefaultVersionId\u001b[0m              |  \u001b[1m\u001b[34mv1\u001b[0m                                                           |\u001b[2m\u001b[33m|\u001b[0m\n",
      "\u001b[2m\u001b[33m|\u001b[0m|  \u001b[1m\u001b[34mIsAttachable\u001b[0m                  |  \u001b[1m\u001b[34mTrue\u001b[0m                                                         |\u001b[2m\u001b[33m|\u001b[0m\n",
      "\u001b[2m\u001b[33m|\u001b[0m|  \u001b[1m\u001b[34mPath\u001b[0m                          |  \u001b[1m\u001b[34m/\u001b[0m                                                            |\u001b[2m\u001b[33m|\u001b[0m\n",
      "\u001b[2m\u001b[33m|\u001b[0m|  \u001b[1m\u001b[34mPermissionsBoundaryUsageCount\u001b[0m |  \u001b[1m\u001b[34m0\u001b[0m                                                            |\u001b[2m\u001b[33m|\u001b[0m\n",
      "\u001b[2m\u001b[33m|\u001b[0m|  \u001b[1m\u001b[34mPolicyId\u001b[0m                      |  \u001b[1m\u001b[34mANPAZ6TLRIUJVTGKVS3T7\u001b[0m                                        |\u001b[2m\u001b[33m|\u001b[0m\n",
      "\u001b[2m\u001b[33m|\u001b[0m|  \u001b[1m\u001b[34mPolicyName\u001b[0m                    |  \u001b[1m\u001b[34mglue-delta-lake-cdc-policy\u001b[0m                                   |\u001b[2m\u001b[33m|\u001b[0m\n",
      "\u001b[2m\u001b[33m|\u001b[0m|  \u001b[1m\u001b[34mUpdateDate\u001b[0m                    |  \u001b[1m\u001b[34m2023-02-05T06:50:39+00:00\u001b[0m                                    |\u001b[2m\u001b[33m|\u001b[0m\n",
      "\u001b[2m\u001b[33m|\u001b[0m+--------------------------------+---------------------------------------------------------------+\u001b[2m\u001b[33m|\u001b[0m\n",
      "\u001b[0m"
     ]
    }
   ],
   "source": [
    "policy_name = \"glue-delta-lake-cdc-policy\"\n",
    "\n",
    "!aws iam create-policy --policy-name {policy_name} --policy-document file://policy-document.json"
   ]
  },
  {
   "attachments": {},
   "cell_type": "markdown",
   "metadata": {},
   "source": [
    "### Create Role"
   ]
  },
  {
   "cell_type": "code",
   "execution_count": 4,
   "metadata": {},
   "outputs": [
    {
     "name": "stdout",
     "output_type": "stream",
     "text": [
      "Writing role-trust.json\n"
     ]
    }
   ],
   "source": [
    "%%writefile role-trust.json\n",
    "{\n",
    "    \"Version\": \"2012-10-17\",\n",
    "    \"Statement\": [\n",
    "        {\n",
    "            \"Effect\": \"Allow\",\n",
    "            \"Principal\": {\n",
    "                \"Service\": \"glue.amazonaws.com\"\n",
    "            },\n",
    "            \"Action\": \"sts:AssumeRole\"\n",
    "        }\n",
    "    ]\n",
    "}"
   ]
  },
  {
   "cell_type": "code",
   "execution_count": 5,
   "metadata": {},
   "outputs": [
    {
     "name": "stdout",
     "output_type": "stream",
     "text": [
      "-----------------------------------------------------------------------------\n",
      "|                                CreateRole                                 |\n",
      "+---------------------------------------------------------------------------+\n",
      "\u001b[2m\u001b[33m|\u001b[0m|                                  Role                                   |\u001b[2m\u001b[33m|\u001b[0m\n",
      "\u001b[2m\u001b[33m|\u001b[0m+------------+------------------------------------------------------------+\u001b[2m\u001b[33m|\u001b[0m\n",
      "\u001b[2m\u001b[33m|\u001b[0m|  \u001b[1m\u001b[34mArn\u001b[0m       |  \u001b[1m\u001b[34marn:aws:iam::684199068947:role/glue-delta-lake-cdc-role\u001b[0m   |\u001b[2m\u001b[33m|\u001b[0m\n",
      "\u001b[2m\u001b[33m|\u001b[0m|  \u001b[1m\u001b[34mCreateDate\u001b[0m|  \u001b[1m\u001b[34m2023-02-05T06:53:17+00:00\u001b[0m                                 |\u001b[2m\u001b[33m|\u001b[0m\n",
      "\u001b[2m\u001b[33m|\u001b[0m|  \u001b[1m\u001b[34mPath\u001b[0m      |  \u001b[1m\u001b[34m/\u001b[0m                                                         |\u001b[2m\u001b[33m|\u001b[0m\n",
      "\u001b[2m\u001b[33m|\u001b[0m|  \u001b[1m\u001b[34mRoleId\u001b[0m    |  \u001b[1m\u001b[34mAROAZ6TLRIUJW7AQ3WWME\u001b[0m                                     |\u001b[2m\u001b[33m|\u001b[0m\n",
      "\u001b[2m\u001b[33m|\u001b[0m|  \u001b[1m\u001b[34mRoleName\u001b[0m  |  \u001b[1m\u001b[34mglue-delta-lake-cdc-role\u001b[0m                                  |\u001b[2m\u001b[33m|\u001b[0m\n",
      "\u001b[2m\u001b[33m|\u001b[0m+------------+------------------------------------------------------------+\u001b[2m\u001b[33m|\u001b[0m\n",
      "\u001b[2m\u001b[33m|\u001b[0m\u001b[2m\u001b[33m|\u001b[0m|                       AssumeRolePolicyDocument                        |\u001b[2m\u001b[33m|\u001b[0m\u001b[2m\u001b[33m|\u001b[0m\n",
      "\u001b[2m\u001b[33m|\u001b[0m\u001b[2m\u001b[33m|\u001b[0m+------------------------------+----------------------------------------+\u001b[2m\u001b[33m|\u001b[0m\u001b[2m\u001b[33m|\u001b[0m\n",
      "\u001b[2m\u001b[33m|\u001b[0m\u001b[2m\u001b[33m|\u001b[0m|  \u001b[1m\u001b[34mVersion\u001b[0m                     |  \u001b[1m\u001b[34m2012-10-17\u001b[0m                            |\u001b[2m\u001b[33m|\u001b[0m\u001b[2m\u001b[33m|\u001b[0m\n",
      "\u001b[2m\u001b[33m|\u001b[0m\u001b[2m\u001b[33m|\u001b[0m+------------------------------+----------------------------------------+\u001b[2m\u001b[33m|\u001b[0m\u001b[2m\u001b[33m|\u001b[0m\n",
      "\u001b[2m\u001b[33m|\u001b[0m\u001b[2m\u001b[33m|\u001b[0m\u001b[2m\u001b[33m|\u001b[0m|                              Statement                              |\u001b[2m\u001b[33m|\u001b[0m\u001b[2m\u001b[33m|\u001b[0m\u001b[2m\u001b[33m|\u001b[0m\n",
      "\u001b[2m\u001b[33m|\u001b[0m\u001b[2m\u001b[33m|\u001b[0m\u001b[2m\u001b[33m|\u001b[0m+-----------------------+---------------------------------------------+\u001b[2m\u001b[33m|\u001b[0m\u001b[2m\u001b[33m|\u001b[0m\u001b[2m\u001b[33m|\u001b[0m\n",
      "\u001b[2m\u001b[33m|\u001b[0m\u001b[2m\u001b[33m|\u001b[0m\u001b[2m\u001b[33m|\u001b[0m|  \u001b[1m\u001b[34mAction\u001b[0m               |  \u001b[1m\u001b[34msts:AssumeRole\u001b[0m                             |\u001b[2m\u001b[33m|\u001b[0m\u001b[2m\u001b[33m|\u001b[0m\u001b[2m\u001b[33m|\u001b[0m\n",
      "\u001b[2m\u001b[33m|\u001b[0m\u001b[2m\u001b[33m|\u001b[0m\u001b[2m\u001b[33m|\u001b[0m|  \u001b[1m\u001b[34mEffect\u001b[0m               |  \u001b[1m\u001b[34mAllow\u001b[0m                                      |\u001b[2m\u001b[33m|\u001b[0m\u001b[2m\u001b[33m|\u001b[0m\u001b[2m\u001b[33m|\u001b[0m\n",
      "\u001b[2m\u001b[33m|\u001b[0m\u001b[2m\u001b[33m|\u001b[0m\u001b[2m\u001b[33m|\u001b[0m+-----------------------+---------------------------------------------+\u001b[2m\u001b[33m|\u001b[0m\u001b[2m\u001b[33m|\u001b[0m\u001b[2m\u001b[33m|\u001b[0m\n",
      "\u001b[2m\u001b[33m|\u001b[0m\u001b[2m\u001b[33m|\u001b[0m\u001b[2m\u001b[33m|\u001b[0m\u001b[2m\u001b[33m|\u001b[0m|                             Principal                             |\u001b[2m\u001b[33m|\u001b[0m\u001b[2m\u001b[33m|\u001b[0m\u001b[2m\u001b[33m|\u001b[0m\u001b[2m\u001b[33m|\u001b[0m\n",
      "\u001b[2m\u001b[33m|\u001b[0m\u001b[2m\u001b[33m|\u001b[0m\u001b[2m\u001b[33m|\u001b[0m\u001b[2m\u001b[33m|\u001b[0m+---------------------+---------------------------------------------+\u001b[2m\u001b[33m|\u001b[0m\u001b[2m\u001b[33m|\u001b[0m\u001b[2m\u001b[33m|\u001b[0m\u001b[2m\u001b[33m|\u001b[0m\n",
      "\u001b[2m\u001b[33m|\u001b[0m\u001b[2m\u001b[33m|\u001b[0m\u001b[2m\u001b[33m|\u001b[0m\u001b[2m\u001b[33m|\u001b[0m|  \u001b[1m\u001b[34mService\u001b[0m            |  \u001b[1m\u001b[34mglue.amazonaws.com\u001b[0m                         |\u001b[2m\u001b[33m|\u001b[0m\u001b[2m\u001b[33m|\u001b[0m\u001b[2m\u001b[33m|\u001b[0m\u001b[2m\u001b[33m|\u001b[0m\n",
      "\u001b[2m\u001b[33m|\u001b[0m\u001b[2m\u001b[33m|\u001b[0m\u001b[2m\u001b[33m|\u001b[0m\u001b[2m\u001b[33m|\u001b[0m+---------------------+---------------------------------------------+\u001b[2m\u001b[33m|\u001b[0m\u001b[2m\u001b[33m|\u001b[0m\u001b[2m\u001b[33m|\u001b[0m\u001b[2m\u001b[33m|\u001b[0m\n",
      "\u001b[0m"
     ]
    }
   ],
   "source": [
    "role_name = \"glue-delta-lake-cdc-role\"\n",
    "\n",
    "!aws iam create-role --role-name {role_name} --assume-role-policy-document file://role-trust.json"
   ]
  },
  {
   "attachments": {},
   "cell_type": "markdown",
   "metadata": {},
   "source": [
    "### Attach Policies to the Role"
   ]
  },
  {
   "cell_type": "code",
   "execution_count": 7,
   "metadata": {},
   "outputs": [
    {
     "name": "stdout",
     "output_type": "stream",
     "text": [
      "\u001b[0m\u001b[0m"
     ]
    }
   ],
   "source": [
    "!aws iam attach-role-policy --policy-arn arn:aws:iam::684199068947:policy/glue-delta-lake-cdc-policy --role-name {role_name}\n",
    "!aws iam attach-role-policy --policy-arn arn:aws:iam::aws:policy/service-role/AWSGlueServiceRole --role-name {role_name}\n",
    "!aws iam attach-role-policy --policy-arn arn:aws:iam::aws:policy/CloudWatchFullAccess --role-name {role_name}"
   ]
  },
  {
   "attachments": {},
   "cell_type": "markdown",
   "metadata": {},
   "source": [
    "## Setup Glue Job"
   ]
  },
  {
   "attachments": {},
   "cell_type": "markdown",
   "metadata": {},
   "source": [
    "In this section, we set up two AWS Glue jobs: one for full load and one for the CDC load. Let’s start with the full load job."
   ]
  },
  {
   "attachments": {},
   "cell_type": "markdown",
   "metadata": {},
   "source": [
    "### Full load Job"
   ]
  },
  {
   "attachments": {},
   "cell_type": "markdown",
   "metadata": {},
   "source": [
    "1. On the AWS Glue console, under Data Integration and ETL in the navigation pane, choose Jobs. AWS Glue Studio opens in a new tab.\n",
    "1. Select Spark script editor and choose Create.\n",
    "1. In the script editor, replace the code with the following code snippet\n",
    "1. Navigate to the Job details tab.\n",
    "1. Provide a name for the job (for example, Full-Load-Job).\n",
    "1. For IAM Role¸ choose the role that you created earlier.\n",
    "1. For Worker type¸ choose G2X.\n",
    "1. For Job bookmark, choose Disable.\n",
    "1. Set Number of retries to 0.\n",
    "1. Under Advanced properties¸ keep the default values, but provide the delta core JAR file path for Python library path and Dependent JARs path.\n",
    "1. Under Job parameters:\n",
    "    - Add the key --s3_bucket with the bucket name you created earlier as the value.\n",
    "    - Add the key --datalake-formats  and give the value delta\n",
    "1. Keep the remaining default values and choose Save."
   ]
  },
  {
   "cell_type": "code",
   "execution_count": null,
   "metadata": {},
   "outputs": [],
   "source": [
    "import sys\n",
    "from awsglue.utils import getResolvedOptions\n",
    "from pyspark.sql.session import SparkSession\n",
    "from pyspark.sql.types import *\n",
    "\n",
    "## @params: [JOB_NAME]\n",
    "args = getResolvedOptions(sys.argv, ['JOB_NAME','s3_bucket'])\n",
    "\n",
    "# Initialize Spark Session with Delta Lake\n",
    "spark = SparkSession \\\n",
    ".builder \\\n",
    ".config(\"spark.sql.extensions\", \"io.delta.sql.DeltaSparkSessionExtension\") \\\n",
    ".config(\"spark.sql.catalog.spark_catalog\", \"org.apache.spark.sql.delta.catalog.DeltaCatalog\") \\\n",
    ".getOrCreate()\n",
    "\n",
    "#Define the table schema\n",
    "schema = StructType() \\\n",
    "      .add(\"policy_id\",IntegerType(),True) \\\n",
    "      .add(\"expiry_date\",DateType(),True) \\\n",
    "      .add(\"location_name\",StringType(),True) \\\n",
    "      .add(\"state_code\",StringType(),True) \\\n",
    "      .add(\"region_name\",StringType(),True) \\\n",
    "      .add(\"insured_value\",IntegerType(),True) \\\n",
    "      .add(\"business_type\",StringType(),True) \\\n",
    "      .add(\"earthquake_coverage\",StringType(),True) \\\n",
    "      .add(\"flood_coverage\",StringType(),True) \n",
    "\n",
    "# Read the full load\n",
    "sdf = spark.read.format(\"csv\").option(\"header\",True).schema(schema).load(\"s3://\"+ args['s3_bucket']+\"/fullload/\")\n",
    "sdf.printSchema()\n",
    "\n",
    "# Write data as DELTA TABLE\n",
    "sdf.write.format(\"delta\").mode(\"overwrite\").save(\"s3://\"+ args['s3_bucket']+\"/delta/insurance/\")\n"
   ]
  },
  {
   "attachments": {},
   "cell_type": "markdown",
   "metadata": {},
   "source": [
    "### CDC Job"
   ]
  },
  {
   "attachments": {},
   "cell_type": "markdown",
   "metadata": {},
   "source": [
    "1. Create a second job called CDC-Load-Job.\n",
    "1. Follow the steps on the Job details tab as with the previous job.\n",
    "1. Alternatively, you may choose “Clone job” option from the Full-Load-Job, this will carry all the job details from the full load job.\n",
    "1. In the script editor, enter the following code snippet for the CDC logic."
   ]
  },
  {
   "cell_type": "code",
   "execution_count": null,
   "metadata": {},
   "outputs": [],
   "source": [
    "import sys\n",
    "from awsglue.utils import getResolvedOptions\n",
    "from awsglue.context import GlueContext\n",
    "from pyspark.sql.session import SparkSession\n",
    "from pyspark.sql.functions import col\n",
    "from pyspark.sql.functions import expr\n",
    "\n",
    "## For Delta lake\n",
    "from delta.tables import DeltaTable\n",
    "\n",
    "\n",
    "## @params: [JOB_NAME]\n",
    "args = getResolvedOptions(sys.argv, ['JOB_NAME','s3_bucket'])\n",
    "\n",
    "# Initialize Spark Session with Delta Lake\n",
    "spark = SparkSession \\\n",
    ".builder \\\n",
    ".config(\"spark.sql.extensions\", \"io.delta.sql.DeltaSparkSessionExtension\") \\\n",
    ".config(\"spark.sql.catalog.spark_catalog\", \"org.apache.spark.sql.delta.catalog.DeltaCatalog\") \\\n",
    ".getOrCreate()\n",
    "\n",
    "# Read the CDC load\n",
    "cdc_df = spark.read.csv(\"s3://\"+ args['s3_bucket']+\"/cdcload\")\n",
    "cdc_df.show(5,True)\n",
    "\n",
    "# now read the full load (latest data) as delta table\n",
    "delta_df = DeltaTable.forPath(spark, \"s3://\"+ args['s3_bucket']+\"/delta/insurance/\")\n",
    "delta_df.toDF().show(5,True)\n",
    "\n",
    "# UPSERT process if matches on the condition the update else insert\n",
    "# if there is no keyword then create a data set with Insert, Update and Delete flag and do it separately.\n",
    "# for delete it has to run in loop with delete condition, this script do not handle deletes.\n",
    "    \n",
    "final_df = delta_df.alias(\"prev_df\").merge( \\\n",
    "source = cdc_df.alias(\"append_df\"), \\\n",
    "#matching on primarykey\n",
    "condition = expr(\"prev_df.policy_id = append_df._c1\"))\\\n",
    ".whenMatchedUpdate(set= {\n",
    "    \"prev_df.expiry_date\"           : col(\"append_df._c2\"), \n",
    "    \"prev_df.location_name\"         : col(\"append_df._c3\"),\n",
    "    \"prev_df.state_code\"            : col(\"append_df._c4\"),\n",
    "    \"prev_df.region_name\"           : col(\"append_df._c5\"), \n",
    "    \"prev_df.insured_value\"         : col(\"append_df._c6\"),\n",
    "    \"prev_df.business_type\"         : col(\"append_df._c7\"),\n",
    "    \"prev_df.earthquake_coverage\"   : col(\"append_df._c8\"), \n",
    "    \"prev_df.flood_coverage\"        : col(\"append_df._c9\")} )\\\n",
    ".whenNotMatchedInsert(values =\n",
    "#inserting a new row to Delta table\n",
    "{   \"prev_df.policy_id\"             : col(\"append_df._c1\"),\n",
    "    \"prev_df.expiry_date\"           : col(\"append_df._c2\"), \n",
    "    \"prev_df.location_name\"         : col(\"append_df._c3\"),\n",
    "    \"prev_df.state_code\"            : col(\"append_df._c4\"),\n",
    "    \"prev_df.region_name\"           : col(\"append_df._c5\"), \n",
    "    \"prev_df.insured_value\"         : col(\"append_df._c6\"),\n",
    "    \"prev_df.business_type\"         : col(\"append_df._c7\"),\n",
    "    \"prev_df.earthquake_coverage\"   : col(\"append_df._c8\"), \n",
    "    \"prev_df.flood_coverage\"        : col(\"append_df._c9\")\n",
    "})\\\n",
    ".execute()"
   ]
  },
  {
   "attachments": {},
   "cell_type": "markdown",
   "metadata": {},
   "source": [
    "## Run the Full load Job"
   ]
  },
  {
   "attachments": {},
   "cell_type": "markdown",
   "metadata": {},
   "source": [
    "On the AWS Glue console, open `full-load-job` and choose Run. The job takes about 2 minutes to complete, and the job run status changes to Succeeded. Go to `$bucket_name` and open the delta folder, which contains the insurance folder. You can note the Delta Lake files in it."
   ]
  },
  {
   "cell_type": "code",
   "execution_count": 13,
   "metadata": {},
   "outputs": [
    {
     "name": "stdout",
     "output_type": "stream",
     "text": [
      "                           PRE _delta_log/\n",
      "2023-02-05 12:46:08          0 _delta_log_$folder$\n",
      "2023-02-05 12:46:42       2802 part-00000-6562d148-4197-40f8-b17a-54107cda54c6-c000.snappy.parquet\n"
     ]
    }
   ],
   "source": [
    "!aws s3 ls {BUCKET_PATH}/delta/insurance/"
   ]
  },
  {
   "attachments": {},
   "cell_type": "markdown",
   "metadata": {},
   "source": [
    "## Create and run the AWS Glue crawler"
   ]
  },
  {
   "attachments": {},
   "cell_type": "markdown",
   "metadata": {},
   "source": [
    "In this step, we create an AWS Glue crawler with Delta Lake as the data source type. After successfully running the crawler, we inspect the data using Athena.\n",
    "\n",
    "1.  On the AWS Glue console, choose Crawlers in the navigation pane.\n",
    "2.  Choose Create crawler.\n",
    "3.  Provide a name (for example, `delta-lake-crawler`) and choose Next.\n",
    "4.  Choose Add a data source and choose Delta Lake as your data source.\n",
    "5.  Copy your delta folder URI (for example, `s3://$BUCKET/delta/insurance`) and enter the Delta Lake table path location.\n",
    "6.  Keep the default selection Create Native tables, and choose Add a Delta Lake data source.\n",
    "7.  Choose Next.\n",
    "8.  Choose the IAM role you created earlier, then choose Next.\n",
    "9.  Select the `default` target database, and provide `delta_` for the table name prefix. If no `default` database exist, you may create one.\n",
    "10. Choose Next.\n",
    "11. Choose Create crawler.\n",
    "12. Run the newly created crawler. After the crawler is complete, the `delta_insurance` table is available under `Databases/Tables`.\n",
    "13. Open the table to check the table overview."
   ]
  },
  {
   "attachments": {},
   "cell_type": "markdown",
   "metadata": {},
   "source": [
    "### Create the Crawler"
   ]
  },
  {
   "cell_type": "code",
   "execution_count": 22,
   "metadata": {},
   "outputs": [
    {
     "name": "stdout",
     "output_type": "stream",
     "text": [
      "Overwriting glue-targets.json\n"
     ]
    }
   ],
   "source": [
    "%%writefile glue-targets.json\n",
    "{\n",
    "  \"DeltaTargets\": [\n",
    "    {\n",
    "      \"DeltaTables\": [\"s3://wysde-assets/labs/glue-cdc-upsert/delta/insurance\"],\n",
    "      \"CreateNativeDeltaTable\": true\n",
    "    }\n",
    "  ]\n",
    "}"
   ]
  },
  {
   "cell_type": "code",
   "execution_count": 21,
   "metadata": {},
   "outputs": [
    {
     "name": "stdout",
     "output_type": "stream",
     "text": [
      "\u001b[0m"
     ]
    }
   ],
   "source": [
    "!aws glue create-crawler \\\n",
    "    --name delta-lake-crawler \\\n",
    "    --database-name deltalake \\\n",
    "    --targets file://glue-targets.json \\\n",
    "    --table-prefix delta_ \\\n",
    "    --role AWSGlueServiceRole-FullS3Access"
   ]
  },
  {
   "attachments": {},
   "cell_type": "markdown",
   "metadata": {},
   "source": [
    "### Run the Crawler"
   ]
  },
  {
   "attachments": {},
   "cell_type": "markdown",
   "metadata": {},
   "source": [
    "Go to the crawer in GUI and run it"
   ]
  },
  {
   "attachments": {},
   "cell_type": "markdown",
   "metadata": {},
   "source": [
    "## Verify the Table and its schema"
   ]
  },
  {
   "attachments": {},
   "cell_type": "markdown",
   "metadata": {},
   "source": [
    "Note: Make sure to upgrade athena query engine to 3.x"
   ]
  },
  {
   "cell_type": "code",
   "execution_count": 32,
   "metadata": {},
   "outputs": [],
   "source": [
    "# !aws athena start-query-execution \\\n",
    "#     --query-string \"SELECT * FROM delta_insurance\" \\\n",
    "#     --query-execution-context Database=datalake,Catalog=AwsDataCatalog \\\n",
    "#     --result-configuration OutputLocation=\"s3://athena-workshop-684199068947/\"\n",
    "\n",
    "# !aws athena get-query-results \\\n",
    "#     --query-execution-id 6a2386c3-2404-4832-88f0-f20a7982bd6d \\\n",
    "#     --output text"
   ]
  },
  {
   "cell_type": "code",
   "execution_count": null,
   "metadata": {},
   "outputs": [],
   "source": [
    "!pip install awswrangler"
   ]
  },
  {
   "cell_type": "code",
   "execution_count": 33,
   "metadata": {},
   "outputs": [
    {
     "data": {
      "text/html": [
       "<div>\n",
       "<style scoped>\n",
       "    .dataframe tbody tr th:only-of-type {\n",
       "        vertical-align: middle;\n",
       "    }\n",
       "\n",
       "    .dataframe tbody tr th {\n",
       "        vertical-align: top;\n",
       "    }\n",
       "\n",
       "    .dataframe thead th {\n",
       "        text-align: right;\n",
       "    }\n",
       "</style>\n",
       "<table border=\"1\" class=\"dataframe\">\n",
       "  <thead>\n",
       "    <tr style=\"text-align: right;\">\n",
       "      <th></th>\n",
       "      <th>policy_id</th>\n",
       "      <th>expiry_date</th>\n",
       "      <th>location_name</th>\n",
       "      <th>state_code</th>\n",
       "      <th>region_name</th>\n",
       "      <th>insured_value</th>\n",
       "      <th>business_type</th>\n",
       "      <th>earthquake_coverage</th>\n",
       "      <th>flood_coverage</th>\n",
       "    </tr>\n",
       "  </thead>\n",
       "  <tbody>\n",
       "    <tr>\n",
       "      <th>0</th>\n",
       "      <td>100595</td>\n",
       "      <td>2023-03-27</td>\n",
       "      <td>Rural</td>\n",
       "      <td>NY</td>\n",
       "      <td>East</td>\n",
       "      <td>2446600</td>\n",
       "      <td>Farming</td>\n",
       "      <td>N</td>\n",
       "      <td>N</td>\n",
       "    </tr>\n",
       "    <tr>\n",
       "      <th>1</th>\n",
       "      <td>100617</td>\n",
       "      <td>2023-03-27</td>\n",
       "      <td>Urban</td>\n",
       "      <td>VT</td>\n",
       "      <td>Northeast</td>\n",
       "      <td>8861500</td>\n",
       "      <td>Office Bldg</td>\n",
       "      <td>N</td>\n",
       "      <td>N</td>\n",
       "    </tr>\n",
       "    <tr>\n",
       "      <th>2</th>\n",
       "      <td>100580</td>\n",
       "      <td>2023-03-30</td>\n",
       "      <td>Urban</td>\n",
       "      <td>NH</td>\n",
       "      <td>Northeast</td>\n",
       "      <td>97920</td>\n",
       "      <td>Office Bldg</td>\n",
       "      <td>Y</td>\n",
       "      <td>Y</td>\n",
       "    </tr>\n",
       "    <tr>\n",
       "      <th>3</th>\n",
       "      <td>100581</td>\n",
       "      <td>2023-03-30</td>\n",
       "      <td>Urban</td>\n",
       "      <td>NY</td>\n",
       "      <td>East</td>\n",
       "      <td>5150000</td>\n",
       "      <td>Apartment</td>\n",
       "      <td>Y</td>\n",
       "      <td>Y</td>\n",
       "    </tr>\n",
       "    <tr>\n",
       "      <th>4</th>\n",
       "      <td>100475</td>\n",
       "      <td>2023-03-31</td>\n",
       "      <td>Rural</td>\n",
       "      <td>WI</td>\n",
       "      <td>Midwest</td>\n",
       "      <td>1451662</td>\n",
       "      <td>Farming</td>\n",
       "      <td>N</td>\n",
       "      <td>N</td>\n",
       "    </tr>\n",
       "    <tr>\n",
       "      <th>5</th>\n",
       "      <td>100503</td>\n",
       "      <td>2023-03-31</td>\n",
       "      <td>Urban</td>\n",
       "      <td>NJ</td>\n",
       "      <td>East</td>\n",
       "      <td>1761960</td>\n",
       "      <td>Office Bldg</td>\n",
       "      <td>N</td>\n",
       "      <td>N</td>\n",
       "    </tr>\n",
       "    <tr>\n",
       "      <th>6</th>\n",
       "      <td>100504</td>\n",
       "      <td>2023-03-31</td>\n",
       "      <td>Rural</td>\n",
       "      <td>NY</td>\n",
       "      <td>East</td>\n",
       "      <td>1649105</td>\n",
       "      <td>Farming</td>\n",
       "      <td>N</td>\n",
       "      <td>N</td>\n",
       "    </tr>\n",
       "    <tr>\n",
       "      <th>7</th>\n",
       "      <td>100616</td>\n",
       "      <td>2023-03-31</td>\n",
       "      <td>Urban</td>\n",
       "      <td>NY</td>\n",
       "      <td>East</td>\n",
       "      <td>2329500</td>\n",
       "      <td>Apartment</td>\n",
       "      <td>N</td>\n",
       "      <td>N</td>\n",
       "    </tr>\n",
       "    <tr>\n",
       "      <th>8</th>\n",
       "      <td>100611</td>\n",
       "      <td>2023-04-25</td>\n",
       "      <td>Urban</td>\n",
       "      <td>NJ</td>\n",
       "      <td>East</td>\n",
       "      <td>1595500</td>\n",
       "      <td>Office Bldg</td>\n",
       "      <td>Y</td>\n",
       "      <td>Y</td>\n",
       "    </tr>\n",
       "    <tr>\n",
       "      <th>9</th>\n",
       "      <td>100621</td>\n",
       "      <td>2023-04-25</td>\n",
       "      <td>Urban</td>\n",
       "      <td>MI</td>\n",
       "      <td>Central</td>\n",
       "      <td>394220</td>\n",
       "      <td>Retail</td>\n",
       "      <td>N</td>\n",
       "      <td>N</td>\n",
       "    </tr>\n",
       "    <tr>\n",
       "      <th>10</th>\n",
       "      <td>200264</td>\n",
       "      <td>2023-01-07</td>\n",
       "      <td>Rural</td>\n",
       "      <td>NY</td>\n",
       "      <td>East</td>\n",
       "      <td>2219900</td>\n",
       "      <td>Farming</td>\n",
       "      <td>N</td>\n",
       "      <td>N</td>\n",
       "    </tr>\n",
       "    <tr>\n",
       "      <th>11</th>\n",
       "      <td>200265</td>\n",
       "      <td>2023-01-07</td>\n",
       "      <td>Urban</td>\n",
       "      <td>NY</td>\n",
       "      <td>East</td>\n",
       "      <td>14100000</td>\n",
       "      <td>Apartment</td>\n",
       "      <td>Y</td>\n",
       "      <td>Y</td>\n",
       "    </tr>\n",
       "    <tr>\n",
       "      <th>12</th>\n",
       "      <td>100582</td>\n",
       "      <td>2023-03-25</td>\n",
       "      <td>Urban</td>\n",
       "      <td>NJ</td>\n",
       "      <td>East</td>\n",
       "      <td>4651680</td>\n",
       "      <td>Apartment</td>\n",
       "      <td>Y</td>\n",
       "      <td>Y</td>\n",
       "    </tr>\n",
       "    <tr>\n",
       "      <th>13</th>\n",
       "      <td>100487</td>\n",
       "      <td>2023-03-25</td>\n",
       "      <td>Urban</td>\n",
       "      <td>NY</td>\n",
       "      <td>East</td>\n",
       "      <td>5990067</td>\n",
       "      <td>Apartment</td>\n",
       "      <td>N</td>\n",
       "      <td>N</td>\n",
       "    </tr>\n",
       "    <tr>\n",
       "      <th>14</th>\n",
       "      <td>100519</td>\n",
       "      <td>2023-03-25</td>\n",
       "      <td>Rural</td>\n",
       "      <td>NY</td>\n",
       "      <td>East</td>\n",
       "      <td>4102500</td>\n",
       "      <td>Farming</td>\n",
       "      <td>N</td>\n",
       "      <td>N</td>\n",
       "    </tr>\n",
       "    <tr>\n",
       "      <th>15</th>\n",
       "      <td>100462</td>\n",
       "      <td>2023-03-25</td>\n",
       "      <td>Urban</td>\n",
       "      <td>NY</td>\n",
       "      <td>East</td>\n",
       "      <td>3400000</td>\n",
       "      <td>Construction</td>\n",
       "      <td>Y</td>\n",
       "      <td>Y</td>\n",
       "    </tr>\n",
       "    <tr>\n",
       "      <th>16</th>\n",
       "      <td>100486</td>\n",
       "      <td>2023-03-26</td>\n",
       "      <td>Urban</td>\n",
       "      <td>NY</td>\n",
       "      <td>East</td>\n",
       "      <td>9973900</td>\n",
       "      <td>Apartment</td>\n",
       "      <td>Y</td>\n",
       "      <td>Y</td>\n",
       "    </tr>\n",
       "    <tr>\n",
       "      <th>17</th>\n",
       "      <td>100463</td>\n",
       "      <td>2023-03-27</td>\n",
       "      <td>Urban</td>\n",
       "      <td>NY</td>\n",
       "      <td>East</td>\n",
       "      <td>15480000</td>\n",
       "      <td>Office Bldg</td>\n",
       "      <td>Y</td>\n",
       "      <td>Y</td>\n",
       "    </tr>\n",
       "    <tr>\n",
       "      <th>18</th>\n",
       "      <td>200242</td>\n",
       "      <td>2023-01-02</td>\n",
       "      <td>Urban</td>\n",
       "      <td>NY</td>\n",
       "      <td>East</td>\n",
       "      <td>1617630</td>\n",
       "      <td>Retail</td>\n",
       "      <td>N</td>\n",
       "      <td>N</td>\n",
       "    </tr>\n",
       "    <tr>\n",
       "      <th>19</th>\n",
       "      <td>200314</td>\n",
       "      <td>2023-01-02</td>\n",
       "      <td>Urban</td>\n",
       "      <td>NY</td>\n",
       "      <td>East</td>\n",
       "      <td>8678500</td>\n",
       "      <td>Apartment</td>\n",
       "      <td>Y</td>\n",
       "      <td>Y</td>\n",
       "    </tr>\n",
       "    <tr>\n",
       "      <th>20</th>\n",
       "      <td>200359</td>\n",
       "      <td>2023-01-02</td>\n",
       "      <td>Rural</td>\n",
       "      <td>WI</td>\n",
       "      <td>Midwest</td>\n",
       "      <td>2052660</td>\n",
       "      <td>Farming</td>\n",
       "      <td>N</td>\n",
       "      <td>N</td>\n",
       "    </tr>\n",
       "    <tr>\n",
       "      <th>21</th>\n",
       "      <td>200315</td>\n",
       "      <td>2023-01-02</td>\n",
       "      <td>Urban</td>\n",
       "      <td>NY</td>\n",
       "      <td>East</td>\n",
       "      <td>17580000</td>\n",
       "      <td>Apartment</td>\n",
       "      <td>Y</td>\n",
       "      <td>Y</td>\n",
       "    </tr>\n",
       "    <tr>\n",
       "      <th>22</th>\n",
       "      <td>200385</td>\n",
       "      <td>2023-01-02</td>\n",
       "      <td>Urban</td>\n",
       "      <td>NY</td>\n",
       "      <td>East</td>\n",
       "      <td>1925000</td>\n",
       "      <td>Hospitality</td>\n",
       "      <td>N</td>\n",
       "      <td>N</td>\n",
       "    </tr>\n",
       "    <tr>\n",
       "      <th>23</th>\n",
       "      <td>200388</td>\n",
       "      <td>2023-01-04</td>\n",
       "      <td>Urban</td>\n",
       "      <td>IL</td>\n",
       "      <td>Midwest</td>\n",
       "      <td>12934500</td>\n",
       "      <td>Apartment</td>\n",
       "      <td>Y</td>\n",
       "      <td>Y</td>\n",
       "    </tr>\n",
       "    <tr>\n",
       "      <th>24</th>\n",
       "      <td>200358</td>\n",
       "      <td>2023-01-05</td>\n",
       "      <td>Urban</td>\n",
       "      <td>WI</td>\n",
       "      <td>Midwest</td>\n",
       "      <td>928300</td>\n",
       "      <td>Office Bldg</td>\n",
       "      <td>N</td>\n",
       "      <td>N</td>\n",
       "    </tr>\n",
       "  </tbody>\n",
       "</table>\n",
       "</div>"
      ],
      "text/plain": [
       "    policy_id expiry_date location_name state_code region_name  insured_value  \\\n",
       "0      100595  2023-03-27         Rural         NY        East        2446600   \n",
       "1      100617  2023-03-27         Urban         VT   Northeast        8861500   \n",
       "2      100580  2023-03-30         Urban         NH   Northeast          97920   \n",
       "3      100581  2023-03-30         Urban         NY        East        5150000   \n",
       "4      100475  2023-03-31         Rural         WI     Midwest        1451662   \n",
       "5      100503  2023-03-31         Urban         NJ        East        1761960   \n",
       "6      100504  2023-03-31         Rural         NY        East        1649105   \n",
       "7      100616  2023-03-31         Urban         NY        East        2329500   \n",
       "8      100611  2023-04-25         Urban         NJ        East        1595500   \n",
       "9      100621  2023-04-25         Urban         MI     Central         394220   \n",
       "10     200264  2023-01-07         Rural         NY        East        2219900   \n",
       "11     200265  2023-01-07         Urban         NY        East       14100000   \n",
       "12     100582  2023-03-25         Urban         NJ        East        4651680   \n",
       "13     100487  2023-03-25         Urban         NY        East        5990067   \n",
       "14     100519  2023-03-25         Rural         NY        East        4102500   \n",
       "15     100462  2023-03-25         Urban         NY        East        3400000   \n",
       "16     100486  2023-03-26         Urban         NY        East        9973900   \n",
       "17     100463  2023-03-27         Urban         NY        East       15480000   \n",
       "18     200242  2023-01-02         Urban         NY        East        1617630   \n",
       "19     200314  2023-01-02         Urban         NY        East        8678500   \n",
       "20     200359  2023-01-02         Rural         WI     Midwest        2052660   \n",
       "21     200315  2023-01-02         Urban         NY        East       17580000   \n",
       "22     200385  2023-01-02         Urban         NY        East        1925000   \n",
       "23     200388  2023-01-04         Urban         IL     Midwest       12934500   \n",
       "24     200358  2023-01-05         Urban         WI     Midwest         928300   \n",
       "\n",
       "   business_type earthquake_coverage flood_coverage  \n",
       "0        Farming                   N              N  \n",
       "1    Office Bldg                   N              N  \n",
       "2    Office Bldg                   Y              Y  \n",
       "3      Apartment                   Y              Y  \n",
       "4        Farming                   N              N  \n",
       "5    Office Bldg                   N              N  \n",
       "6        Farming                   N              N  \n",
       "7      Apartment                   N              N  \n",
       "8    Office Bldg                   Y              Y  \n",
       "9         Retail                   N              N  \n",
       "10       Farming                   N              N  \n",
       "11     Apartment                   Y              Y  \n",
       "12     Apartment                   Y              Y  \n",
       "13     Apartment                   N              N  \n",
       "14       Farming                   N              N  \n",
       "15  Construction                   Y              Y  \n",
       "16     Apartment                   Y              Y  \n",
       "17   Office Bldg                   Y              Y  \n",
       "18        Retail                   N              N  \n",
       "19     Apartment                   Y              Y  \n",
       "20       Farming                   N              N  \n",
       "21     Apartment                   Y              Y  \n",
       "22   Hospitality                   N              N  \n",
       "23     Apartment                   Y              Y  \n",
       "24   Office Bldg                   N              N  "
      ]
     },
     "execution_count": 33,
     "metadata": {},
     "output_type": "execute_result"
    }
   ],
   "source": [
    "import awswrangler as wr  \n",
    "df = wr.athena.read_sql_query(sql=\"SELECT * FROM delta_insurance\", database=\"datalake\")\n",
    "df"
   ]
  },
  {
   "cell_type": "code",
   "execution_count": 38,
   "metadata": {},
   "outputs": [
    {
     "data": {
      "text/html": [
       "<div>\n",
       "<style scoped>\n",
       "    .dataframe tbody tr th:only-of-type {\n",
       "        vertical-align: middle;\n",
       "    }\n",
       "\n",
       "    .dataframe tbody tr th {\n",
       "        vertical-align: top;\n",
       "    }\n",
       "\n",
       "    .dataframe thead th {\n",
       "        text-align: right;\n",
       "    }\n",
       "</style>\n",
       "<table border=\"1\" class=\"dataframe\">\n",
       "  <thead>\n",
       "    <tr style=\"text-align: right;\">\n",
       "      <th></th>\n",
       "      <th>policy_id</th>\n",
       "      <th>expiry_date</th>\n",
       "      <th>location_name</th>\n",
       "      <th>state_code</th>\n",
       "      <th>region_name</th>\n",
       "      <th>insured_value</th>\n",
       "      <th>business_type</th>\n",
       "      <th>earthquake_coverage</th>\n",
       "      <th>flood_coverage</th>\n",
       "    </tr>\n",
       "  </thead>\n",
       "  <tbody>\n",
       "    <tr>\n",
       "      <th>0</th>\n",
       "      <td>100462</td>\n",
       "      <td>2023-03-25</td>\n",
       "      <td>Urban</td>\n",
       "      <td>NY</td>\n",
       "      <td>East</td>\n",
       "      <td>3400000</td>\n",
       "      <td>Construction</td>\n",
       "      <td>Y</td>\n",
       "      <td>Y</td>\n",
       "    </tr>\n",
       "    <tr>\n",
       "      <th>1</th>\n",
       "      <td>100463</td>\n",
       "      <td>2023-03-27</td>\n",
       "      <td>Urban</td>\n",
       "      <td>NY</td>\n",
       "      <td>East</td>\n",
       "      <td>15480000</td>\n",
       "      <td>Office Bldg</td>\n",
       "      <td>Y</td>\n",
       "      <td>Y</td>\n",
       "    </tr>\n",
       "    <tr>\n",
       "      <th>2</th>\n",
       "      <td>100475</td>\n",
       "      <td>2023-03-31</td>\n",
       "      <td>Rural</td>\n",
       "      <td>WI</td>\n",
       "      <td>Midwest</td>\n",
       "      <td>1451662</td>\n",
       "      <td>Farming</td>\n",
       "      <td>N</td>\n",
       "      <td>N</td>\n",
       "    </tr>\n",
       "  </tbody>\n",
       "</table>\n",
       "</div>"
      ],
      "text/plain": [
       "   policy_id expiry_date location_name state_code region_name  insured_value  \\\n",
       "0     100462  2023-03-25         Urban         NY        East        3400000   \n",
       "1     100463  2023-03-27         Urban         NY        East       15480000   \n",
       "2     100475  2023-03-31         Rural         WI     Midwest        1451662   \n",
       "\n",
       "  business_type earthquake_coverage flood_coverage  \n",
       "0  Construction                   Y              Y  \n",
       "1   Office Bldg                   Y              Y  \n",
       "2       Farming                   N              N  "
      ]
     },
     "execution_count": 38,
     "metadata": {},
     "output_type": "execute_result"
    }
   ],
   "source": [
    "query = \"\"\"\n",
    "SELECT * FROM delta_insurance\n",
    "WHERE policy_id IN (100462, 100463,100475,110001,110002)\n",
    "order by policy_id;\n",
    "\"\"\"\n",
    "\n",
    "df = wr.athena.read_sql_query(sql=query, database=\"datalake\")\n",
    "df"
   ]
  },
  {
   "attachments": {},
   "cell_type": "markdown",
   "metadata": {},
   "source": [
    "## Upload the CDC data feed and run the CDC job"
   ]
  },
  {
   "cell_type": "code",
   "execution_count": 35,
   "metadata": {},
   "outputs": [
    {
     "name": "stdout",
     "output_type": "stream",
     "text": [
      "U,100462,2024-12-31,Urban,NY,East,3400000,Construction,Y,Y\n",
      "U,100463,2023-03-27,Urban,NY,East,1000000,Office Bldg,Y,Y\n",
      "U,100475,2023-03-31,Rural,WI,Midwest,1451662,Farming,N,Y\n",
      "I,110001,2024-03-31,Urban,CA,WEST,210000,Office Bldg,N,N\n",
      "I,110002,2024-03-31,Rural,FL,East,975000,Retail,N,Y"
     ]
    }
   ],
   "source": [
    "!head ./data/cdc-load.csv"
   ]
  },
  {
   "attachments": {},
   "cell_type": "markdown",
   "metadata": {},
   "source": [
    "The first column in the CDC feed describes the UPSERT operations. U is for updating an existing record, and I is for inserting a new record."
   ]
  },
  {
   "cell_type": "code",
   "execution_count": 34,
   "metadata": {},
   "outputs": [
    {
     "name": "stdout",
     "output_type": "stream",
     "text": [
      "upload: data/cdc-load.csv to s3://wysde-assets/labs/glue-cdc-upsert/cdcload/cdc-load.csv\n"
     ]
    }
   ],
   "source": [
    "!aws s3 cp data/cdc-load.csv $BUCKET_PATH/cdcload/"
   ]
  },
  {
   "attachments": {},
   "cell_type": "markdown",
   "metadata": {},
   "source": [
    "The change details are as follows:\n",
    "\n",
    "-   100462 -- Expiry date changes to 12/31/2024\n",
    "-   100463 -- Insured value changes to 1 million\n",
    "-   100475 -- This policy is now under a new flood zone\n",
    "-   110001 and 110002 -- New policies added to the table"
   ]
  },
  {
   "attachments": {},
   "cell_type": "markdown",
   "metadata": {},
   "source": [
    "Run CDC-Load-Job. This job takes care of updating the Delta Lake accordingly."
   ]
  },
  {
   "cell_type": "code",
   "execution_count": 37,
   "metadata": {},
   "outputs": [
    {
     "name": "stdout",
     "output_type": "stream",
     "text": [
      "-------------------------------------------------------------------------------------\n",
      "|                                    StartJobRun                                    |\n",
      "+----------+------------------------------------------------------------------------+\n",
      "|  \u001b[1m\u001b[34mJobRunId\u001b[0m|  \u001b[1m\u001b[34mjr_0f3e63260a9103ff26714526a8431c222581abc4e40816bbe7b15b39f0623e4c\u001b[0m   |\n",
      "+----------+------------------------------------------------------------------------+\n",
      "\u001b[0m"
     ]
    }
   ],
   "source": [
    "!aws glue start-job-run --job-name CDC-Load-Job"
   ]
  },
  {
   "attachments": {},
   "cell_type": "markdown",
   "metadata": {},
   "source": [
    "Run the query again:"
   ]
  },
  {
   "cell_type": "code",
   "execution_count": 39,
   "metadata": {},
   "outputs": [
    {
     "data": {
      "text/html": [
       "<div>\n",
       "<style scoped>\n",
       "    .dataframe tbody tr th:only-of-type {\n",
       "        vertical-align: middle;\n",
       "    }\n",
       "\n",
       "    .dataframe tbody tr th {\n",
       "        vertical-align: top;\n",
       "    }\n",
       "\n",
       "    .dataframe thead th {\n",
       "        text-align: right;\n",
       "    }\n",
       "</style>\n",
       "<table border=\"1\" class=\"dataframe\">\n",
       "  <thead>\n",
       "    <tr style=\"text-align: right;\">\n",
       "      <th></th>\n",
       "      <th>policy_id</th>\n",
       "      <th>expiry_date</th>\n",
       "      <th>location_name</th>\n",
       "      <th>state_code</th>\n",
       "      <th>region_name</th>\n",
       "      <th>insured_value</th>\n",
       "      <th>business_type</th>\n",
       "      <th>earthquake_coverage</th>\n",
       "      <th>flood_coverage</th>\n",
       "    </tr>\n",
       "  </thead>\n",
       "  <tbody>\n",
       "    <tr>\n",
       "      <th>0</th>\n",
       "      <td>100462</td>\n",
       "      <td>2024-12-31</td>\n",
       "      <td>Urban</td>\n",
       "      <td>NY</td>\n",
       "      <td>East</td>\n",
       "      <td>3400000</td>\n",
       "      <td>Construction</td>\n",
       "      <td>Y</td>\n",
       "      <td>Y</td>\n",
       "    </tr>\n",
       "    <tr>\n",
       "      <th>1</th>\n",
       "      <td>100463</td>\n",
       "      <td>2023-03-27</td>\n",
       "      <td>Urban</td>\n",
       "      <td>NY</td>\n",
       "      <td>East</td>\n",
       "      <td>1000000</td>\n",
       "      <td>Office Bldg</td>\n",
       "      <td>Y</td>\n",
       "      <td>Y</td>\n",
       "    </tr>\n",
       "    <tr>\n",
       "      <th>2</th>\n",
       "      <td>100475</td>\n",
       "      <td>2023-03-31</td>\n",
       "      <td>Rural</td>\n",
       "      <td>WI</td>\n",
       "      <td>Midwest</td>\n",
       "      <td>1451662</td>\n",
       "      <td>Farming</td>\n",
       "      <td>N</td>\n",
       "      <td>Y</td>\n",
       "    </tr>\n",
       "    <tr>\n",
       "      <th>3</th>\n",
       "      <td>110001</td>\n",
       "      <td>2024-03-31</td>\n",
       "      <td>Urban</td>\n",
       "      <td>CA</td>\n",
       "      <td>WEST</td>\n",
       "      <td>210000</td>\n",
       "      <td>Office Bldg</td>\n",
       "      <td>N</td>\n",
       "      <td>N</td>\n",
       "    </tr>\n",
       "    <tr>\n",
       "      <th>4</th>\n",
       "      <td>110002</td>\n",
       "      <td>2024-03-31</td>\n",
       "      <td>Rural</td>\n",
       "      <td>FL</td>\n",
       "      <td>East</td>\n",
       "      <td>975000</td>\n",
       "      <td>Retail</td>\n",
       "      <td>N</td>\n",
       "      <td>Y</td>\n",
       "    </tr>\n",
       "  </tbody>\n",
       "</table>\n",
       "</div>"
      ],
      "text/plain": [
       "   policy_id expiry_date location_name state_code region_name  insured_value  \\\n",
       "0     100462  2024-12-31         Urban         NY        East        3400000   \n",
       "1     100463  2023-03-27         Urban         NY        East        1000000   \n",
       "2     100475  2023-03-31         Rural         WI     Midwest        1451662   \n",
       "3     110001  2024-03-31         Urban         CA        WEST         210000   \n",
       "4     110002  2024-03-31         Rural         FL        East         975000   \n",
       "\n",
       "  business_type earthquake_coverage flood_coverage  \n",
       "0  Construction                   Y              Y  \n",
       "1   Office Bldg                   Y              Y  \n",
       "2       Farming                   N              Y  \n",
       "3   Office Bldg                   N              N  \n",
       "4        Retail                   N              Y  "
      ]
     },
     "execution_count": 39,
     "metadata": {},
     "output_type": "execute_result"
    }
   ],
   "source": [
    "query = \"\"\"\n",
    "SELECT * FROM delta_insurance\n",
    "WHERE policy_id IN (100462, 100463,100475,110001,110002)\n",
    "order by policy_id;\n",
    "\"\"\"\n",
    "\n",
    "df = wr.athena.read_sql_query(sql=query, database=\"datalake\")\n",
    "df"
   ]
  },
  {
   "attachments": {},
   "cell_type": "markdown",
   "metadata": {},
   "source": [
    "As shown in the above output, the changes in the CDC data feed are reflected in the Athena query results."
   ]
  },
  {
   "attachments": {},
   "cell_type": "markdown",
   "metadata": {},
   "source": [
    "Organizations are continuously looking at high performance, cost-effective, and scalable analytical solutions to extract the value of their operational data sources in near-real time. The analytical platform should be ready to receive changes in the operational data as soon as they occur. Typical data lake solutions face challenges to handle the changes in source data; the Delta Lake framework can close this gap. This lab demonstrated how to build data lakes for UPSERT operations using AWS Glue and native Delta Lake tables, and how to query AWS Glue tables from Athena. You can implement your large scale UPSERT data operations using AWS Glue, Delta Lake and perform analytics using Amazon Athena."
   ]
  }
 ],
 "metadata": {
  "kernelspec": {
   "display_name": "env-spacy",
   "language": "python",
   "name": "python3"
  },
  "language_info": {
   "codemirror_mode": {
    "name": "ipython",
    "version": 3
   },
   "file_extension": ".py",
   "mimetype": "text/x-python",
   "name": "python",
   "nbconvert_exporter": "python",
   "pygments_lexer": "ipython3",
   "version": "3.9.7"
  },
  "orig_nbformat": 4,
  "vscode": {
   "interpreter": {
    "hash": "343191058819caea96d5cde1bd3b1a75b4807623ce2cda0e1c8499e39ac847e3"
   }
  }
 },
 "nbformat": 4,
 "nbformat_minor": 2
}
