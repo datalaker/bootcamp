{
 "cells": [
  {
   "cell_type": "code",
   "execution_count": 1,
   "metadata": {},
   "outputs": [],
   "source": [
    "HOST = \"54.144.191.135\""
   ]
  },
  {
   "cell_type": "code",
   "execution_count": 2,
   "metadata": {},
   "outputs": [],
   "source": [
    "from kafka import KafkaConsumer\n",
    "from kafka import TopicPartition\n",
    "import json\n",
    "\n",
    "bootstrap_servers=f\"{HOST}:9092\"\n",
    "topic_name=\"kafka-ecs-python\"\n",
    "group_id = \"my_pizza_group_2\""
   ]
  },
  {
   "cell_type": "code",
   "execution_count": 3,
   "metadata": {},
   "outputs": [],
   "source": [
    "consumer = KafkaConsumer(\n",
    " bootstrap_servers = bootstrap_servers,\n",
    " group_id = group_id,\n",
    " auto_offset_reset='earliest',\n",
    " value_deserializer = lambda v: json.loads(v.decode('ascii')),\n",
    " key_deserializer = lambda v: json.loads(v.decode('ascii')),\n",
    " max_poll_records = 10\n",
    ")"
   ]
  },
  {
   "cell_type": "code",
   "execution_count": 4,
   "metadata": {},
   "outputs": [
    {
     "data": {
      "text/plain": [
       "{'__confluent.support.metrics', 'kafka-ecs-python'}"
      ]
     },
     "execution_count": 4,
     "metadata": {},
     "output_type": "execute_result"
    }
   ],
   "source": [
    "consumer.topics()"
   ]
  },
  {
   "cell_type": "code",
   "execution_count": null,
   "metadata": {},
   "outputs": [],
   "source": [
    "tp = TopicPartition(topic_name, 0)\n",
    "\n",
    "#register to the topic\n",
    "consumer.assign([tp])\n",
    "\n",
    "consumer.seek_to_beginning(tp) \n",
    "\n",
    "# obtain the last offset value\n",
    "lastOffset = consumer.end_offsets([tp])[tp]\n",
    "\n",
    "for message in consumer:\n",
    "    print (\"p=%d o=%d value=%s\" % (message.partition,\n",
    "                                   message.offset,\n",
    "                                   message.value))\n",
    "    if message.offset == lastOffset - 1:\n",
    "        break"
   ]
  },
  {
   "cell_type": "code",
   "execution_count": null,
   "metadata": {},
   "outputs": [],
   "source": []
  }
 ],
 "metadata": {
  "kernelspec": {
   "display_name": "Python 3.9.7 ('env-spacy')",
   "language": "python",
   "name": "python3"
  },
  "language_info": {
   "codemirror_mode": {
    "name": "ipython",
    "version": 3
   },
   "file_extension": ".py",
   "mimetype": "text/x-python",
   "name": "python",
   "nbconvert_exporter": "python",
   "pygments_lexer": "ipython3",
   "version": "3.9.7 (default, Sep 16 2021, 08:50:36) \n[Clang 10.0.0 ]"
  },
  "orig_nbformat": 4,
  "vscode": {
   "interpreter": {
    "hash": "343191058819caea96d5cde1bd3b1a75b4807623ce2cda0e1c8499e39ac847e3"
   }
  }
 },
 "nbformat": 4,
 "nbformat_minor": 2
}
