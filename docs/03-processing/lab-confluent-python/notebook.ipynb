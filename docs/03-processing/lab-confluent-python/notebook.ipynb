{
 "cells": [
  {
   "cell_type": "code",
   "execution_count": 1,
   "metadata": {},
   "outputs": [],
   "source": [
    "from confluent_kafka import Producer, KafkaError\n",
    "import json\n",
    "import ccloud_lib"
   ]
  },
  {
   "cell_type": "code",
   "execution_count": null,
   "metadata": {},
   "outputs": [],
   "source": [
    "config_file = \"python.config\"\n",
    "topic = \"first-topic\"\n",
    "conf = ccloud_lib.read_ccloud_config(config_file)\n",
    "conf"
   ]
  },
  {
   "cell_type": "code",
   "execution_count": null,
   "metadata": {},
   "outputs": [],
   "source": [
    "# Create Producer instance\n",
    "producer_conf = ccloud_lib.pop_schema_registry_params_from_config(conf)\n",
    "producer_conf"
   ]
  },
  {
   "cell_type": "code",
   "execution_count": 5,
   "metadata": {},
   "outputs": [
    {
     "name": "stderr",
     "output_type": "stream",
     "text": [
      "%4|1658772576.611|CONFWARN|rdkafka#producer-1| [thrd:app]: Configuration property session.timeout.ms is a consumer property and will be ignored by this producer instance\n"
     ]
    }
   ],
   "source": [
    "producer = Producer(producer_conf)"
   ]
  },
  {
   "cell_type": "code",
   "execution_count": 6,
   "metadata": {},
   "outputs": [],
   "source": [
    "topic = \"sparsh-first-topic\""
   ]
  },
  {
   "cell_type": "code",
   "execution_count": 7,
   "metadata": {},
   "outputs": [
    {
     "name": "stderr",
     "output_type": "stream",
     "text": [
      "%4|1658772665.240|CONFWARN|rdkafka#producer-2| [thrd:app]: Configuration property session.timeout.ms is a consumer property and will be ignored by this producer instance\n"
     ]
    },
    {
     "name": "stdout",
     "output_type": "stream",
     "text": [
      "Topic sparsh-first-topic created\n"
     ]
    }
   ],
   "source": [
    "# Create topic if needed\n",
    "ccloud_lib.create_topic(conf, topic)"
   ]
  },
  {
   "cell_type": "code",
   "execution_count": 8,
   "metadata": {},
   "outputs": [
    {
     "name": "stdout",
     "output_type": "stream",
     "text": [
      "Producing record: alice\t{\"count\": 0}\n",
      "Producing record: alice\t{\"count\": 1}\n",
      "Producing record: alice\t{\"count\": 2}\n",
      "Producing record: alice\t{\"count\": 3}\n",
      "Producing record: alice\t{\"count\": 4}\n",
      "Producing record: alice\t{\"count\": 5}\n",
      "Producing record: alice\t{\"count\": 6}\n",
      "Producing record: alice\t{\"count\": 7}\n",
      "Producing record: alice\t{\"count\": 8}\n",
      "Producing record: alice\t{\"count\": 9}\n",
      "Produced record to topic sparsh-first-topic partition [0] @ offset 0\n",
      "Produced record to topic sparsh-first-topic partition [0] @ offset 1\n",
      "Produced record to topic sparsh-first-topic partition [0] @ offset 2\n",
      "Produced record to topic sparsh-first-topic partition [0] @ offset 3\n",
      "Produced record to topic sparsh-first-topic partition [0] @ offset 4\n",
      "Produced record to topic sparsh-first-topic partition [0] @ offset 5\n",
      "Produced record to topic sparsh-first-topic partition [0] @ offset 6\n",
      "Produced record to topic sparsh-first-topic partition [0] @ offset 7\n",
      "Produced record to topic sparsh-first-topic partition [0] @ offset 8\n",
      "Produced record to topic sparsh-first-topic partition [0] @ offset 9\n"
     ]
    },
    {
     "data": {
      "text/plain": [
       "0"
      ]
     },
     "execution_count": 8,
     "metadata": {},
     "output_type": "execute_result"
    }
   ],
   "source": [
    "for n in range(10):\n",
    "    record_key = \"alice\"\n",
    "    record_value = json.dumps({'count': n})\n",
    "    print(\"Producing record: {}\\t{}\".format(record_key, record_value))\n",
    "    producer.produce(topic, key=record_key, value=record_value, on_delivery=ccloud_lib.acked)\n",
    "    producer.poll(0)\n",
    "\n",
    "producer.flush()"
   ]
  },
  {
   "cell_type": "code",
   "execution_count": 9,
   "metadata": {},
   "outputs": [],
   "source": [
    "from confluent_kafka import Consumer"
   ]
  },
  {
   "cell_type": "code",
   "execution_count": 10,
   "metadata": {},
   "outputs": [],
   "source": [
    "consumer_conf = ccloud_lib.pop_schema_registry_params_from_config(conf)\n",
    "consumer_conf['group.id'] = 'python_example_group_1'\n",
    "consumer_conf['auto.offset.reset'] = 'earliest'\n",
    "consumer = Consumer(consumer_conf)"
   ]
  },
  {
   "cell_type": "code",
   "execution_count": 11,
   "metadata": {},
   "outputs": [],
   "source": [
    "topics = [\"sparsh-first-topic\", \"first-topic\"]"
   ]
  },
  {
   "cell_type": "code",
   "execution_count": 12,
   "metadata": {},
   "outputs": [],
   "source": [
    "# Subscribe to topic\n",
    "consumer.subscribe(topics)"
   ]
  },
  {
   "cell_type": "code",
   "execution_count": 13,
   "metadata": {},
   "outputs": [
    {
     "name": "stdout",
     "output_type": "stream",
     "text": [
      "Waiting for message or event/error in poll()\n",
      "Waiting for message or event/error in poll()\n",
      "Waiting for message or event/error in poll()\n",
      "Consumed record with key b'alice' and value b'{\"count\": 0}',                     and updated total count to 0\n",
      "Consumed record with key b'alice' and value b'{\"count\": 1}',                     and updated total count to 1\n",
      "Consumed record with key b'alice' and value b'{\"count\": 2}',                     and updated total count to 3\n",
      "Consumed record with key b'alice' and value b'{\"count\": 3}',                     and updated total count to 6\n",
      "Consumed record with key b'alice' and value b'{\"count\": 4}',                     and updated total count to 10\n",
      "Consumed record with key b'alice' and value b'{\"count\": 5}',                     and updated total count to 15\n",
      "Consumed record with key b'alice' and value b'{\"count\": 6}',                     and updated total count to 21\n",
      "Consumed record with key b'alice' and value b'{\"count\": 7}',                     and updated total count to 28\n",
      "Consumed record with key b'alice' and value b'{\"count\": 8}',                     and updated total count to 36\n",
      "Consumed record with key b'alice' and value b'{\"count\": 9}',                     and updated total count to 45\n",
      "Consumed record with key b'alice' and value b'{\"count\": 0}',                     and updated total count to 45\n",
      "Consumed record with key b'alice' and value b'{\"count\": 1}',                     and updated total count to 46\n",
      "Consumed record with key b'alice' and value b'{\"count\": 2}',                     and updated total count to 48\n",
      "Consumed record with key b'alice' and value b'{\"count\": 3}',                     and updated total count to 51\n",
      "Consumed record with key b'alice' and value b'{\"count\": 4}',                     and updated total count to 55\n",
      "Consumed record with key b'alice' and value b'{\"count\": 5}',                     and updated total count to 60\n",
      "Consumed record with key b'alice' and value b'{\"count\": 6}',                     and updated total count to 66\n",
      "Consumed record with key b'alice' and value b'{\"count\": 7}',                     and updated total count to 73\n",
      "Consumed record with key b'alice' and value b'{\"count\": 8}',                     and updated total count to 81\n",
      "Consumed record with key b'alice' and value b'{\"count\": 9}',                     and updated total count to 90\n",
      "Waiting for message or event/error in poll()\n",
      "Waiting for message or event/error in poll()\n",
      "Waiting for message or event/error in poll()\n",
      "Waiting for message or event/error in poll()\n",
      "Waiting for message or event/error in poll()\n",
      "Waiting for message or event/error in poll()\n",
      "Waiting for message or event/error in poll()\n",
      "Waiting for message or event/error in poll()\n",
      "Waiting for message or event/error in poll()\n",
      "Waiting for message or event/error in poll()\n",
      "Waiting for message or event/error in poll()\n",
      "Waiting for message or event/error in poll()\n",
      "Waiting for message or event/error in poll()\n"
     ]
    }
   ],
   "source": [
    "# Process messages\n",
    "total_count = 0\n",
    "try:\n",
    "    while True:\n",
    "        msg = consumer.poll(1.0)\n",
    "        if msg is None:\n",
    "            # No message available within timeout.\n",
    "            # Initial message consumption may take up to\n",
    "            # `session.timeout.ms` for the consumer group to\n",
    "            # rebalance and start consuming\n",
    "            print(\"Waiting for message or event/error in poll()\")\n",
    "            continue\n",
    "        elif msg.error():\n",
    "            print('error: {}'.format(msg.error()))\n",
    "        else:\n",
    "            # Check for Kafka message\n",
    "            record_key = msg.key()\n",
    "            record_value = msg.value()\n",
    "            data = json.loads(record_value)\n",
    "            count = data['count']\n",
    "            total_count += count\n",
    "            print(\"Consumed record with key {} and value {}, \\\n",
    "                    and updated total count to {}\"\n",
    "                    .format(record_key, record_value, total_count))\n",
    "except KeyboardInterrupt:\n",
    "    pass\n",
    "finally:\n",
    "    # Leave group and commit final offsets\n",
    "    consumer.close()"
   ]
  },
  {
   "cell_type": "code",
   "execution_count": 5,
   "metadata": {},
   "outputs": [
    {
     "name": "stdout",
     "output_type": "stream",
     "text": [
      "%4|1657920679.098|CONFWARN|rdkafka#producer-1| [thrd:app]: Configuration property session.timeout.ms is a consumer property and will be ignored by this producer instance\n",
      "%4|1657920679.112|CONFWARN|rdkafka#producer-2| [thrd:app]: Configuration property session.timeout.ms is a consumer property and will be ignored by this producer instance\n",
      "Producing record: alice\t{\"count\": 0}\n",
      "Producing record: alice\t{\"count\": 1}\n",
      "Producing record: alice\t{\"count\": 2}\n",
      "Producing record: alice\t{\"count\": 3}\n",
      "Producing record: alice\t{\"count\": 4}\n",
      "Producing record: alice\t{\"count\": 5}\n",
      "Producing record: alice\t{\"count\": 6}\n",
      "Producing record: alice\t{\"count\": 7}\n",
      "Producing record: alice\t{\"count\": 8}\n",
      "Producing record: alice\t{\"count\": 9}\n",
      "Produced record to topic test1 partition [0] @ offset 10\n",
      "Produced record to topic test1 partition [0] @ offset 11\n",
      "Produced record to topic test1 partition [0] @ offset 12\n",
      "Produced record to topic test1 partition [0] @ offset 13\n",
      "Produced record to topic test1 partition [0] @ offset 14\n",
      "Produced record to topic test1 partition [0] @ offset 15\n",
      "Produced record to topic test1 partition [0] @ offset 16\n",
      "Produced record to topic test1 partition [0] @ offset 17\n",
      "Produced record to topic test1 partition [0] @ offset 18\n",
      "Produced record to topic test1 partition [0] @ offset 19\n",
      "10 messages were produced to topic test1!\n"
     ]
    }
   ],
   "source": [
    "!./producer.py -f python.config -t first-topic"
   ]
  },
  {
   "cell_type": "code",
   "execution_count": null,
   "metadata": {},
   "outputs": [],
   "source": [
    "!./consumer.py -f python.config -t test1"
   ]
  },
  {
   "cell_type": "code",
   "execution_count": 6,
   "metadata": {},
   "outputs": [
    {
     "name": "stdout",
     "output_type": "stream",
     "text": [
      "[]"
     ]
    }
   ],
   "source": [
    "# verify schema registry subjects\n",
    "!curl -u <>:U/<>/<> https://<>.us-east-2.aws.confluent.cloud/subjects"
   ]
  },
  {
   "cell_type": "code",
   "execution_count": 8,
   "metadata": {},
   "outputs": [
    {
     "name": "stdout",
     "output_type": "stream",
     "text": [
      "%4|1657921054.754|CONFWARN|rdkafka#producer-1| [thrd:app]: Configuration property session.timeout.ms is a consumer property and will be ignored by this producer instance\n",
      "%4|1657921059.448|CONFWARN|rdkafka#producer-2| [thrd:app]: Configuration property session.timeout.ms is a consumer property and will be ignored by this producer instance\n",
      "Producing Avro record: alice\t0\n",
      "Producing Avro record: alice\t1\n",
      "Producing Avro record: alice\t2\n",
      "Producing Avro record: alice\t3\n",
      "Producing Avro record: alice\t4\n",
      "Producing Avro record: alice\t5\n",
      "Producing Avro record: alice\t6\n",
      "Producing Avro record: alice\t7\n",
      "Producing Avro record: alice\t8\n",
      "Producing Avro record: alice\t9\n",
      "Produced record to topic test2 partition [0] @ offset 10\n",
      "Produced record to topic test2 partition [0] @ offset 11\n",
      "Produced record to topic test2 partition [0] @ offset 12\n",
      "Produced record to topic test2 partition [0] @ offset 13\n",
      "Produced record to topic test2 partition [0] @ offset 14\n",
      "Produced record to topic test2 partition [0] @ offset 15\n",
      "Produced record to topic test2 partition [0] @ offset 16\n",
      "Produced record to topic test2 partition [0] @ offset 17\n",
      "Produced record to topic test2 partition [0] @ offset 18\n",
      "Produced record to topic test2 partition [0] @ offset 19\n",
      "10 messages were produced to topic test2!\n"
     ]
    }
   ],
   "source": [
    "!./producer_ccsr.py -f python.config -t test2"
   ]
  },
  {
   "cell_type": "code",
   "execution_count": null,
   "metadata": {},
   "outputs": [],
   "source": [
    "!./consumer_ccsr.py -f python.config -t test2"
   ]
  },
  {
   "cell_type": "code",
   "execution_count": 10,
   "metadata": {},
   "outputs": [
    {
     "name": "stdout",
     "output_type": "stream",
     "text": [
      "{\"subject\":\"test2-value\",\"version\":1,\"id\":100002,\"schema\":\"{\\\"type\\\":\\\"record\\\",\\\"name\\\":\\\"Count\\\",\\\"namespace\\\":\\\"io.confluent.examples.clients.cloud\\\",\\\"fields\\\":[{\\\"name\\\":\\\"count\\\",\\\"type\\\":\\\"int\\\"}]}\"}"
     ]
    }
   ],
   "source": [
    "# verify schema information for subject\n",
    "!curl -u <>:U/<>/<> https://psrc-l7y22.us-east-2.aws.confluent.cloud/subjects/test2-value/versions/1"
   ]
  }
 ],
 "metadata": {
  "kernelspec": {
   "display_name": "Python 3.9.7 ('env-spacy')",
   "language": "python",
   "name": "python3"
  },
  "language_info": {
   "codemirror_mode": {
    "name": "ipython",
    "version": 3
   },
   "file_extension": ".py",
   "mimetype": "text/x-python",
   "name": "python",
   "nbconvert_exporter": "python",
   "pygments_lexer": "ipython3",
   "version": "3.9.7 (default, Sep 16 2021, 08:50:36) \n[Clang 10.0.0 ]"
  },
  "orig_nbformat": 4,
  "vscode": {
   "interpreter": {
    "hash": "343191058819caea96d5cde1bd3b1a75b4807623ce2cda0e1c8499e39ac847e3"
   }
  }
 },
 "nbformat": 4,
 "nbformat_minor": 2
}
