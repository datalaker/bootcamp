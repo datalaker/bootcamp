{
 "cells": [
  {
   "cell_type": "code",
   "execution_count": 6,
   "metadata": {},
   "outputs": [
    {
     "name": "stdout",
     "output_type": "stream",
     "text": [
      "07:34:53  Running with dbt=1.1.1\n",
      "dbt version: 1.1.1\n",
      "python version: 3.9.7\n",
      "python path: /Users/sparshagarwal/anaconda3/envs/env-spacy/bin/python\n",
      "os info: macOS-10.14.6-x86_64-i386-64bit\n",
      "Using profiles.yml file at /Users/sparshagarwal/Desktop/de-ac/de-dbt/profiles.yml\n",
      "Using dbt_project.yml file at /Users/sparshagarwal/Desktop/de-ac/de-dbt/jaffle-shop/dbt_project.yml\n",
      "\n",
      "Configuration:\n",
      "  profiles.yml file [\u001b[32mOK found and valid\u001b[0m]\n",
      "  dbt_project.yml file [\u001b[32mOK found and valid\u001b[0m]\n",
      "\n",
      "Required dependencies:\n",
      " - git [\u001b[32mOK found\u001b[0m]\n",
      "\n",
      "Connection:\n",
      "  host: database-1.ciykztisaaxg.us-east-1.rds.amazonaws.com\n",
      "  port: 5432\n",
      "  user: postgres\n",
      "  database: postgres\n",
      "  schema: public\n",
      "  search_path: None\n",
      "  keepalives_idle: 0\n",
      "  sslmode: None\n",
      "  Connection test: [\u001b[32mOK connection ok\u001b[0m]\n",
      "\n",
      "\u001b[32mAll checks passed!\u001b[0m\n"
     ]
    }
   ],
   "source": [
    "!dbt debug --profiles-dir .. --profile postgres"
   ]
  },
  {
   "cell_type": "code",
   "execution_count": 8,
   "metadata": {},
   "outputs": [
    {
     "name": "stdout",
     "output_type": "stream",
     "text": [
      "07:36:27  Running with dbt=1.1.1\n",
      "07:36:27  Partial parse save file not found. Starting full parse.\n",
      "07:36:28  Found 5 models, 20 tests, 0 snapshots, 0 analyses, 167 macros, 0 operations, 3 seed files, 0 sources, 0 exposures, 0 metrics\n",
      "07:36:28  \n",
      "07:36:49  Concurrency: 1 threads (target='dev')\n",
      "07:36:49  \n",
      "07:36:49  1 of 3 START seed file public.raw_customers .................................... [RUN]\n",
      "07:36:56  1 of 3 OK loaded seed file public.raw_customers ................................ [\u001b[32mINSERT 100\u001b[0m in 7.13s]\n",
      "07:36:56  2 of 3 START seed file public.raw_orders ....................................... [RUN]\n",
      "07:37:01  2 of 3 OK loaded seed file public.raw_orders ................................... [\u001b[32mINSERT 99\u001b[0m in 5.02s]\n",
      "07:37:01  3 of 3 START seed file public.raw_payments ..................................... [RUN]\n",
      "07:37:08  3 of 3 OK loaded seed file public.raw_payments ................................. [\u001b[32mINSERT 113\u001b[0m in 7.07s]\n",
      "07:37:15  \n",
      "07:37:15  Finished running 3 seeds in 46.68s.\n",
      "07:37:15  \n",
      "07:37:15  \u001b[32mCompleted successfully\u001b[0m\n",
      "07:37:15  \n",
      "07:37:15  Done. PASS=3 WARN=0 ERROR=0 SKIP=0 TOTAL=3\n"
     ]
    }
   ],
   "source": [
    "!dbt seed --profiles-dir .. --profile postgres"
   ]
  },
  {
   "cell_type": "code",
   "execution_count": 9,
   "metadata": {},
   "outputs": [
    {
     "name": "stdout",
     "output_type": "stream",
     "text": [
      "07:39:08  Running with dbt=1.1.1\n",
      "07:39:08  Found 5 models, 20 tests, 0 snapshots, 0 analyses, 167 macros, 0 operations, 3 seed files, 0 sources, 0 exposures, 0 metrics\n",
      "07:39:08  \n",
      "07:39:28  Concurrency: 1 threads (target='dev')\n",
      "07:39:28  \n",
      "07:39:28  1 of 5 START view model public.stg_customers ................................... [RUN]\n",
      "07:39:35  1 of 5 OK created view model public.stg_customers .............................. [\u001b[32mCREATE VIEW\u001b[0m in 7.57s]\n",
      "07:39:35  2 of 5 START view model public.stg_orders ...................................... [RUN]\n",
      "07:39:42  2 of 5 OK created view model public.stg_orders ................................. [\u001b[32mCREATE VIEW\u001b[0m in 7.19s]\n",
      "07:39:42  3 of 5 START view model public.stg_payments .................................... [RUN]\n",
      "07:39:52  3 of 5 OK created view model public.stg_payments ............................... [\u001b[32mCREATE VIEW\u001b[0m in 9.34s]\n",
      "07:39:52  4 of 5 START table model public.customers ...................................... [RUN]\n",
      "07:40:00  4 of 5 OK created table model public.customers ................................. [\u001b[32mSELECT 100\u001b[0m in 8.24s]\n",
      "07:40:00  5 of 5 START table model public.orders ......................................... [RUN]\n",
      "07:40:06  5 of 5 OK created table model public.orders .................................... [\u001b[32mSELECT 99\u001b[0m in 6.29s]\n",
      "07:40:10  \n",
      "07:40:10  Finished running 3 view models, 2 table models in 62.09s.\n",
      "07:40:10  \n",
      "07:40:10  \u001b[32mCompleted successfully\u001b[0m\n",
      "07:40:10  \n",
      "07:40:10  Done. PASS=5 WARN=0 ERROR=0 SKIP=0 TOTAL=5\n"
     ]
    }
   ],
   "source": [
    "!dbt run --profiles-dir .. --profile postgres"
   ]
  },
  {
   "cell_type": "code",
   "execution_count": 11,
   "metadata": {},
   "outputs": [
    {
     "name": "stdout",
     "output_type": "stream",
     "text": [
      "07:42:01  Running with dbt=1.1.1\n",
      "07:42:01  Found 5 models, 20 tests, 0 snapshots, 0 analyses, 167 macros, 0 operations, 3 seed files, 0 sources, 0 exposures, 0 metrics\n",
      "07:42:01  \n",
      "07:42:12  Concurrency: 1 threads (target='dev')\n",
      "07:42:12  \n",
      "07:42:12  1 of 20 START test accepted_values_orders_status__placed__shipped__completed__return_pending__returned  [RUN]\n",
      "07:42:19  1 of 20 PASS accepted_values_orders_status__placed__shipped__completed__return_pending__returned  [\u001b[32mPASS\u001b[0m in 7.35s]\n",
      "07:42:19  2 of 20 START test accepted_values_stg_orders_status__placed__shipped__completed__return_pending__returned  [RUN]\n",
      "07:42:26  2 of 20 PASS accepted_values_stg_orders_status__placed__shipped__completed__return_pending__returned  [\u001b[32mPASS\u001b[0m in 6.55s]\n",
      "07:42:26  3 of 20 START test accepted_values_stg_payments_payment_method__credit_card__coupon__bank_transfer__gift_card  [RUN]\n",
      "07:42:32  3 of 20 PASS accepted_values_stg_payments_payment_method__credit_card__coupon__bank_transfer__gift_card  [\u001b[32mPASS\u001b[0m in 5.73s]\n",
      "07:42:32  4 of 20 START test not_null_customers_customer_id .............................. [RUN]\n",
      "07:42:38  4 of 20 PASS not_null_customers_customer_id .................................... [\u001b[32mPASS\u001b[0m in 6.14s]\n",
      "07:42:38  5 of 20 START test not_null_orders_amount ...................................... [RUN]\n",
      "07:42:45  5 of 20 PASS not_null_orders_amount ............................................ [\u001b[32mPASS\u001b[0m in 6.89s]\n",
      "07:42:45  6 of 20 START test not_null_orders_bank_transfer_amount ........................ [RUN]\n",
      "07:42:51  6 of 20 PASS not_null_orders_bank_transfer_amount .............................. [\u001b[32mPASS\u001b[0m in 6.62s]\n",
      "07:42:51  7 of 20 START test not_null_orders_coupon_amount ............................... [RUN]\n",
      "07:42:57  7 of 20 PASS not_null_orders_coupon_amount ..................................... [\u001b[32mPASS\u001b[0m in 5.65s]\n",
      "07:42:57  8 of 20 START test not_null_orders_credit_card_amount .......................... [RUN]\n",
      "07:43:02  8 of 20 PASS not_null_orders_credit_card_amount ................................ [\u001b[32mPASS\u001b[0m in 5.42s]\n",
      "07:43:02  9 of 20 START test not_null_orders_customer_id ................................. [RUN]\n",
      "07:43:08  9 of 20 PASS not_null_orders_customer_id ....................................... [\u001b[32mPASS\u001b[0m in 5.30s]\n",
      "07:43:08  10 of 20 START test not_null_orders_gift_card_amount ........................... [RUN]\n",
      "07:43:12  10 of 20 PASS not_null_orders_gift_card_amount ................................. [\u001b[32mPASS\u001b[0m in 4.09s]\n",
      "07:43:12  11 of 20 START test not_null_orders_order_id ................................... [RUN]\n",
      "07:43:16  11 of 20 PASS not_null_orders_order_id ......................................... [\u001b[32mPASS\u001b[0m in 4.74s]\n",
      "07:43:16  12 of 20 START test not_null_stg_customers_customer_id ......................... [RUN]\n",
      "07:43:22  12 of 20 PASS not_null_stg_customers_customer_id ............................... [\u001b[32mPASS\u001b[0m in 5.47s]\n",
      "07:43:22  13 of 20 START test not_null_stg_orders_order_id ............................... [RUN]\n",
      "07:43:28  13 of 20 PASS not_null_stg_orders_order_id ..................................... [\u001b[32mPASS\u001b[0m in 6.19s]\n",
      "07:43:28  14 of 20 START test not_null_stg_payments_payment_id ........................... [RUN]\n",
      "07:43:34  14 of 20 PASS not_null_stg_payments_payment_id ................................. [\u001b[32mPASS\u001b[0m in 5.81s]\n",
      "07:43:34  15 of 20 START test relationships_orders_customer_id__customer_id__ref_customers_  [RUN]\n",
      "07:43:41  15 of 20 PASS relationships_orders_customer_id__customer_id__ref_customers_ .... [\u001b[32mPASS\u001b[0m in 7.03s]\n",
      "07:43:41  16 of 20 START test unique_customers_customer_id ............................... [RUN]\n",
      "07:43:47  16 of 20 PASS unique_customers_customer_id ..................................... [\u001b[32mPASS\u001b[0m in 5.76s]\n",
      "07:43:47  17 of 20 START test unique_orders_order_id ..................................... [RUN]\n",
      "07:43:52  17 of 20 PASS unique_orders_order_id ........................................... [\u001b[32mPASS\u001b[0m in 4.91s]\n",
      "07:43:52  18 of 20 START test unique_stg_customers_customer_id ........................... [RUN]\n",
      "07:43:56  18 of 20 PASS unique_stg_customers_customer_id ................................. [\u001b[32mPASS\u001b[0m in 4.58s]\n",
      "07:43:56  19 of 20 START test unique_stg_orders_order_id ................................. [RUN]\n",
      "07:44:02  19 of 20 PASS unique_stg_orders_order_id ....................................... [\u001b[32mPASS\u001b[0m in 5.86s]\n",
      "07:44:02  20 of 20 START test unique_stg_payments_payment_id ............................. [RUN]\n",
      "07:44:09  20 of 20 PASS unique_stg_payments_payment_id ................................... [\u001b[32mPASS\u001b[0m in 6.52s]\n",
      "07:44:16  \n",
      "07:44:16  Finished running 20 tests in 135.01s.\n",
      "07:44:16  \n",
      "07:44:16  \u001b[32mCompleted successfully\u001b[0m\n",
      "07:44:16  \n",
      "07:44:16  Done. PASS=20 WARN=0 ERROR=0 SKIP=0 TOTAL=20\n"
     ]
    }
   ],
   "source": [
    "!dbt test --profiles-dir .. --profile postgres"
   ]
  },
  {
   "cell_type": "code",
   "execution_count": 12,
   "metadata": {},
   "outputs": [
    {
     "name": "stdout",
     "output_type": "stream",
     "text": [
      "07:44:25  Running with dbt=1.1.1\n",
      "07:44:25  Found 5 models, 20 tests, 0 snapshots, 0 analyses, 167 macros, 0 operations, 3 seed files, 0 sources, 0 exposures, 0 metrics\n",
      "07:44:25  \n",
      "07:44:39  Concurrency: 1 threads (target='dev')\n",
      "07:44:39  \n",
      "07:44:40  Done.\n",
      "07:44:40  Building catalog\n",
      "07:44:47  Catalog written to /Users/sparshagarwal/Desktop/de-ac/de-dbt/jaffle-shop/target/catalog.json\n"
     ]
    }
   ],
   "source": [
    "!dbt docs generate --profiles-dir .. --profile postgres"
   ]
  },
  {
   "cell_type": "code",
   "execution_count": 14,
   "metadata": {},
   "outputs": [
    {
     "name": "stdout",
     "output_type": "stream",
     "text": [
      "07:45:14  Running with dbt=1.1.1\n",
      "07:45:14  Serving docs at 0.0.0.0:8080\n",
      "07:45:14  To access from your browser, navigate to:  http://localhost:8080\n",
      "07:45:14  \n",
      "07:45:14  \n",
      "07:45:14  Press Ctrl+C to exit.\n",
      "127.0.0.1 - - [19/Jul/2022 13:15:15] \"GET / HTTP/1.1\" 200 -\n",
      "127.0.0.1 - - [19/Jul/2022 13:15:16] \"GET /manifest.json?cb=1658216716270 HTTP/1.1\" 200 -\n",
      "127.0.0.1 - - [19/Jul/2022 13:15:16] \"GET /catalog.json?cb=1658216716270 HTTP/1.1\" 200 -\n",
      "^C\n"
     ]
    }
   ],
   "source": [
    "!dbt docs serve --profiles-dir .. --profile postgres"
   ]
  },
  {
   "cell_type": "code",
   "execution_count": null,
   "metadata": {},
   "outputs": [],
   "source": []
  }
 ],
 "metadata": {
  "kernelspec": {
   "display_name": "Python 3.9.7 ('env-spacy')",
   "language": "python",
   "name": "python3"
  },
  "language_info": {
   "codemirror_mode": {
    "name": "ipython",
    "version": 3
   },
   "file_extension": ".py",
   "mimetype": "text/x-python",
   "name": "python",
   "nbconvert_exporter": "python",
   "pygments_lexer": "ipython3",
   "version": "3.9.7"
  },
  "orig_nbformat": 4,
  "vscode": {
   "interpreter": {
    "hash": "343191058819caea96d5cde1bd3b1a75b4807623ce2cda0e1c8499e39ac847e3"
   }
  }
 },
 "nbformat": 4,
 "nbformat_minor": 2
}
