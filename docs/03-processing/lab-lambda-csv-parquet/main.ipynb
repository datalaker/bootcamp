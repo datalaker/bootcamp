{
 "cells": [
  {
   "cell_type": "markdown",
   "metadata": {},
   "source": [
    "## Create an IAM Role"
   ]
  },
  {
   "cell_type": "code",
   "execution_count": 1,
   "metadata": {},
   "outputs": [
    {
     "name": "stdout",
     "output_type": "stream",
     "text": [
      "Writing role-trust.json\n"
     ]
    }
   ],
   "source": [
    "%%writefile role-trust.json\n",
    "{\n",
    "    \"Version\": \"2012-10-17\",\n",
    "    \"Statement\": [\n",
    "        {\n",
    "            \"Effect\": \"Allow\",\n",
    "            \"Principal\": {\n",
    "                \"Service\": \"lambda.amazonaws.com\"\n",
    "            },\n",
    "            \"Action\": \"sts:AssumeRole\"\n",
    "        }\n",
    "    ]\n",
    "}"
   ]
  },
  {
   "cell_type": "code",
   "execution_count": 2,
   "metadata": {},
   "outputs": [
    {
     "name": "stdout",
     "output_type": "stream",
     "text": [
      "{\n",
      "    \"Role\": {\n",
      "        \"Path\": \"/\",\n",
      "        \"RoleName\": \"wysde2-lambda-etl-role\",\n",
      "        \"RoleId\": \"AROAZ6TLRIUJRZE4F354T\",\n",
      "        \"Arn\": \"arn:aws:iam::684199068947:role/wysde2-lambda-etl-role\",\n",
      "        \"CreateDate\": \"2022-10-13T04:49:37+00:00\",\n",
      "        \"AssumeRolePolicyDocument\": {\n",
      "            \"Version\": \"2012-10-17\",\n",
      "            \"Statement\": [\n",
      "                {\n",
      "                    \"Effect\": \"Allow\",\n",
      "                    \"Principal\": {\n",
      "                        \"Service\": \"lambda.amazonaws.com\"\n",
      "                    },\n",
      "                    \"Action\": \"sts:AssumeRole\"\n",
      "                }\n",
      "            ]\n",
      "        }\n",
      "    }\n",
      "}\n"
     ]
    }
   ],
   "source": [
    "role_name = \"wysde2-lambda-etl-role\"\n",
    "!aws iam create-role --role-name {role_name} --assume-role-policy-document file://role-trust.json\n"
   ]
  },
  {
   "cell_type": "markdown",
   "metadata": {},
   "source": [
    "## Create a Policy"
   ]
  },
  {
   "cell_type": "code",
   "execution_count": 3,
   "metadata": {},
   "outputs": [
    {
     "name": "stdout",
     "output_type": "stream",
     "text": [
      "Writing lamdba-etl-policy.json\n"
     ]
    }
   ],
   "source": [
    "%%writefile lamdba-etl-policy.json\n",
    "{\n",
    "    \"Version\": \"2012-10-17\",\n",
    "    \"Statement\": [\n",
    "        {\n",
    "            \"Effect\": \"Allow\",\n",
    "            \"Action\": [\n",
    "                \"logs:PutLogEvents\",\n",
    "                \"logs:CreateLogGroup\",\n",
    "                \"logs:CreateLogStream\"\n",
    "            ],\n",
    "            \"Resource\": \"arn:aws:logs:*:*:*\"\n",
    "        },\n",
    "        {\n",
    "            \"Effect\": \"Allow\",\n",
    "            \"Action\": [\n",
    "                \"s3:*\"\n",
    "            ],\n",
    "            \"Resource\": [\n",
    "                \"arn:aws:s3:::wysde2-test/*\",\n",
    "                \"arn:aws:s3:::wysde2-test\"\n",
    "            ]\n",
    "        },\n",
    "        {\n",
    "            \"Effect\": \"Allow\",\n",
    "            \"Action\": [\n",
    "                \"glue:*\"\n",
    "            ],\n",
    "            \"Resource\": \"*\"\n",
    "        }\n",
    "    ]\n",
    "}"
   ]
  },
  {
   "cell_type": "code",
   "execution_count": 4,
   "metadata": {},
   "outputs": [
    {
     "name": "stdout",
     "output_type": "stream",
     "text": [
      "{\n",
      "    \"Policy\": {\n",
      "        \"PolicyName\": \"wysde2-lambda-etl-policy\",\n",
      "        \"PolicyId\": \"ANPAZ6TLRIUJUEIGJAQ4L\",\n",
      "        \"Arn\": \"arn:aws:iam::684199068947:policy/wysde2-lambda-etl-policy\",\n",
      "        \"Path\": \"/\",\n",
      "        \"DefaultVersionId\": \"v1\",\n",
      "        \"AttachmentCount\": 0,\n",
      "        \"PermissionsBoundaryUsageCount\": 0,\n",
      "        \"IsAttachable\": true,\n",
      "        \"CreateDate\": \"2022-10-13T04:58:57+00:00\",\n",
      "        \"UpdateDate\": \"2022-10-13T04:58:57+00:00\"\n",
      "    }\n",
      "}\n"
     ]
    }
   ],
   "source": [
    "policy_name = \"wysde2-lambda-etl-policy\"\n",
    "\n",
    "!aws iam create-policy --policy-name {policy_name} --policy-document file://lamdba-etl-policy.json"
   ]
  },
  {
   "cell_type": "markdown",
   "metadata": {},
   "source": [
    "## Attach the policy to the role"
   ]
  },
  {
   "cell_type": "code",
   "execution_count": 5,
   "metadata": {},
   "outputs": [],
   "source": [
    "!aws iam attach-role-policy --policy-arn arn:aws:iam::684199068947:policy/wysde2-lambda-etl-policy --role-name wysde2-lambda-etl-role"
   ]
  },
  {
   "cell_type": "markdown",
   "metadata": {},
   "source": [
    "## Setup the Lambda Layer"
   ]
  },
  {
   "cell_type": "code",
   "execution_count": null,
   "metadata": {},
   "outputs": [],
   "source": [
    "!wget -q --show-progress https://github.com/awslabs/aws-data-wrangler/releases/download/2.10.0/awswrangler-layer-2.10.0-py3.8.zip"
   ]
  },
  {
   "cell_type": "code",
   "execution_count": null,
   "metadata": {},
   "outputs": [],
   "source": [
    "layer_name = \"wysde2_lambda_etl_aws_data_wrangler_python38\"\n",
    "\n",
    "!aws lambda publish-layer-version --layer-name {layer_name} \\\n",
    "--description \"this enables the usage of aws data wrangler library in lambda\" \\\n",
    "--zip-file fileb://awswrangler-layer-2.10.0-py3.8.zip \\\n",
    "--compatible-runtimes python3.8 \\\n",
    "--cli-connect-timeout 6000"
   ]
  },
  {
   "cell_type": "markdown",
   "metadata": {},
   "source": [
    "## Create Python Code"
   ]
  },
  {
   "cell_type": "code",
   "execution_count": null,
   "metadata": {},
   "outputs": [],
   "source": [
    "import boto3\n",
    "import awswrangler as wr\n",
    "from urllib.parse import unquote_plus\n",
    "\n",
    "def lambda_handler(event, context):\n",
    "    # Get the source bucket and object name as passed to the Lambda function\n",
    "    for record in event['Records']:\n",
    "        bucket = record['s3']['bucket']['name']\n",
    "        key = unquote_plus(record['s3']['object']['key'])\n",
    "    \n",
    "    # We will set the DB and table name based on the last two elements of \n",
    "    # the path prior to the file name. If key = 'dms/sakila/film/LOAD01.csv',\n",
    "    # then the following lines will set db to sakila and table_name to 'film'\n",
    "    key_list = key.split(\"/\")\n",
    "    print(f'key_list: {key_list}')\n",
    "    # db_name = key_list[len(key_list)-3]\n",
    "    # table_name = key_list[len(key_list)-2]\n",
    "    db_name = key_list[-4]\n",
    "    table_name = key_list[-2]\n",
    "    \n",
    "    print(f'Bucket: {bucket}')\n",
    "    print(f'Key: {key}')\n",
    "    print(f'DB Name: {db_name}')\n",
    "    print(f'Table Name: {table_name}')\n",
    "    \n",
    "    input_path = f\"s3://{bucket}/{key}\"\n",
    "    print(f'Input_Path: {input_path}')\n",
    "    output_path = f\"s3://wysde2-test/{db_name}/cleaned/{table_name}\"\n",
    "    print(f'Output_Path: {output_path}')\n",
    "    \n",
    "    input_df = wr.s3.read_csv([input_path])\n",
    "    \n",
    "    current_databases = wr.catalog.databases()\n",
    "    wr.catalog.databases()\n",
    "    if db_name not in current_databases.values:\n",
    "        print(f'- Database {db_name} does not exist ... creating')\n",
    "        wr.catalog.create_database(db_name)\n",
    "    else:\n",
    "        print(f'- Database {db_name} already exists')\n",
    "    \n",
    "    result = wr.s3.to_parquet(\n",
    "        df=input_df, \n",
    "        path=output_path, \n",
    "        dataset=True,\n",
    "        database=db_name,\n",
    "        table=table_name,\n",
    "        mode=\"append\")\n",
    "        \n",
    "    print(\"RESULT: \")\n",
    "    print(f'{result}')\n",
    "    \n",
    "    return result"
   ]
  },
  {
   "cell_type": "markdown",
   "metadata": {},
   "source": [
    "## Upload the CSV"
   ]
  },
  {
   "cell_type": "code",
   "execution_count": 5,
   "metadata": {},
   "outputs": [
    {
     "name": "stdout",
     "output_type": "stream",
     "text": [
      "Writing test.csv\n"
     ]
    }
   ],
   "source": [
    "%%writefile test.csv\n",
    "Name,favorite_num\n",
    "Vrinda,22\n",
    "Tracy,28\n",
    "Gareth,23\n",
    "Chris,16\n",
    "Emma,14\n",
    "Carlos,7\n",
    "Cooper,11\n",
    "Praful,4\n",
    "David,33\n",
    "Shilpa,2\n",
    "Gary,18\n",
    "Sean,20\n",
    "Ha-yoon,9\n",
    "Elizabeth,8\n",
    "Mary,1\n",
    "Chen,15\n",
    "Janet,22\n",
    "Mariusz,25\n",
    "Romain,11\n",
    "Matt,25\n",
    "Brendan,19\n",
    "Roger,2\n",
    "Jack,7\n",
    "Sachin,17\n",
    "Francisco,5"
   ]
  },
  {
   "cell_type": "code",
   "execution_count": 8,
   "metadata": {},
   "outputs": [
    {
     "name": "stdout",
     "output_type": "stream",
     "text": [
      "upload: ./test.csv to s3://wysde2-test/testdb/raw/testtable/test.csv\n"
     ]
    }
   ],
   "source": [
    "!aws s3 cp test.csv s3://wysde2-test/testdb/raw/testtable/test.csv"
   ]
  },
  {
   "cell_type": "markdown",
   "metadata": {},
   "source": [
    "## Download the parquet"
   ]
  },
  {
   "cell_type": "code",
   "execution_count": 9,
   "metadata": {},
   "outputs": [
    {
     "name": "stdout",
     "output_type": "stream",
     "text": [
      "download: s3://wysde2-test/testdb/cleaned/testtable/d1d92b3feec54417975b2af70faa59fc.snappy.parquet to ./test.snappy.parquet\n"
     ]
    }
   ],
   "source": [
    "!aws s3 cp s3://wysde2-test/testdb/cleaned/testtable/d1d92b3feec54417975b2af70faa59fc.snappy.parquet test.snappy.parquet"
   ]
  },
  {
   "cell_type": "code",
   "execution_count": 10,
   "metadata": {},
   "outputs": [
    {
     "data": {
      "text/html": [
       "<div>\n",
       "<style scoped>\n",
       "    .dataframe tbody tr th:only-of-type {\n",
       "        vertical-align: middle;\n",
       "    }\n",
       "\n",
       "    .dataframe tbody tr th {\n",
       "        vertical-align: top;\n",
       "    }\n",
       "\n",
       "    .dataframe thead th {\n",
       "        text-align: right;\n",
       "    }\n",
       "</style>\n",
       "<table border=\"1\" class=\"dataframe\">\n",
       "  <thead>\n",
       "    <tr style=\"text-align: right;\">\n",
       "      <th></th>\n",
       "      <th>name</th>\n",
       "      <th>favorite_num</th>\n",
       "    </tr>\n",
       "  </thead>\n",
       "  <tbody>\n",
       "    <tr>\n",
       "      <th>0</th>\n",
       "      <td>Vrinda</td>\n",
       "      <td>22</td>\n",
       "    </tr>\n",
       "    <tr>\n",
       "      <th>1</th>\n",
       "      <td>Tracy</td>\n",
       "      <td>28</td>\n",
       "    </tr>\n",
       "    <tr>\n",
       "      <th>2</th>\n",
       "      <td>Gareth</td>\n",
       "      <td>23</td>\n",
       "    </tr>\n",
       "    <tr>\n",
       "      <th>3</th>\n",
       "      <td>Chris</td>\n",
       "      <td>16</td>\n",
       "    </tr>\n",
       "    <tr>\n",
       "      <th>4</th>\n",
       "      <td>Emma</td>\n",
       "      <td>14</td>\n",
       "    </tr>\n",
       "    <tr>\n",
       "      <th>5</th>\n",
       "      <td>Carlos</td>\n",
       "      <td>7</td>\n",
       "    </tr>\n",
       "    <tr>\n",
       "      <th>6</th>\n",
       "      <td>Cooper</td>\n",
       "      <td>11</td>\n",
       "    </tr>\n",
       "    <tr>\n",
       "      <th>7</th>\n",
       "      <td>Praful</td>\n",
       "      <td>4</td>\n",
       "    </tr>\n",
       "    <tr>\n",
       "      <th>8</th>\n",
       "      <td>David</td>\n",
       "      <td>33</td>\n",
       "    </tr>\n",
       "    <tr>\n",
       "      <th>9</th>\n",
       "      <td>Shilpa</td>\n",
       "      <td>2</td>\n",
       "    </tr>\n",
       "    <tr>\n",
       "      <th>10</th>\n",
       "      <td>Gary</td>\n",
       "      <td>18</td>\n",
       "    </tr>\n",
       "    <tr>\n",
       "      <th>11</th>\n",
       "      <td>Sean</td>\n",
       "      <td>20</td>\n",
       "    </tr>\n",
       "    <tr>\n",
       "      <th>12</th>\n",
       "      <td>Ha-yoon</td>\n",
       "      <td>9</td>\n",
       "    </tr>\n",
       "    <tr>\n",
       "      <th>13</th>\n",
       "      <td>Elizabeth</td>\n",
       "      <td>8</td>\n",
       "    </tr>\n",
       "    <tr>\n",
       "      <th>14</th>\n",
       "      <td>Mary</td>\n",
       "      <td>1</td>\n",
       "    </tr>\n",
       "    <tr>\n",
       "      <th>15</th>\n",
       "      <td>Chen</td>\n",
       "      <td>15</td>\n",
       "    </tr>\n",
       "    <tr>\n",
       "      <th>16</th>\n",
       "      <td>Janet</td>\n",
       "      <td>22</td>\n",
       "    </tr>\n",
       "    <tr>\n",
       "      <th>17</th>\n",
       "      <td>Mariusz</td>\n",
       "      <td>25</td>\n",
       "    </tr>\n",
       "    <tr>\n",
       "      <th>18</th>\n",
       "      <td>Romain</td>\n",
       "      <td>11</td>\n",
       "    </tr>\n",
       "    <tr>\n",
       "      <th>19</th>\n",
       "      <td>Matt</td>\n",
       "      <td>25</td>\n",
       "    </tr>\n",
       "    <tr>\n",
       "      <th>20</th>\n",
       "      <td>Brendan</td>\n",
       "      <td>19</td>\n",
       "    </tr>\n",
       "    <tr>\n",
       "      <th>21</th>\n",
       "      <td>Roger</td>\n",
       "      <td>2</td>\n",
       "    </tr>\n",
       "    <tr>\n",
       "      <th>22</th>\n",
       "      <td>Jack</td>\n",
       "      <td>7</td>\n",
       "    </tr>\n",
       "    <tr>\n",
       "      <th>23</th>\n",
       "      <td>Sachin</td>\n",
       "      <td>17</td>\n",
       "    </tr>\n",
       "    <tr>\n",
       "      <th>24</th>\n",
       "      <td>Francisco</td>\n",
       "      <td>5</td>\n",
       "    </tr>\n",
       "  </tbody>\n",
       "</table>\n",
       "</div>"
      ],
      "text/plain": [
       "         name  favorite_num\n",
       "0      Vrinda            22\n",
       "1       Tracy            28\n",
       "2      Gareth            23\n",
       "3       Chris            16\n",
       "4        Emma            14\n",
       "5      Carlos             7\n",
       "6      Cooper            11\n",
       "7      Praful             4\n",
       "8       David            33\n",
       "9      Shilpa             2\n",
       "10       Gary            18\n",
       "11       Sean            20\n",
       "12    Ha-yoon             9\n",
       "13  Elizabeth             8\n",
       "14       Mary             1\n",
       "15       Chen            15\n",
       "16      Janet            22\n",
       "17    Mariusz            25\n",
       "18     Romain            11\n",
       "19       Matt            25\n",
       "20    Brendan            19\n",
       "21      Roger             2\n",
       "22       Jack             7\n",
       "23     Sachin            17\n",
       "24  Francisco             5"
      ]
     },
     "execution_count": 10,
     "metadata": {},
     "output_type": "execute_result"
    }
   ],
   "source": [
    "import pandas as pd\n",
    "\n",
    "pd.read_parquet(\"test.snappy.parquet\")"
   ]
  },
  {
   "cell_type": "code",
   "execution_count": null,
   "metadata": {},
   "outputs": [],
   "source": []
  }
 ],
 "metadata": {
  "kernelspec": {
   "display_name": "Python 3.9.7 ('env-spacy')",
   "language": "python",
   "name": "python3"
  },
  "language_info": {
   "codemirror_mode": {
    "name": "ipython",
    "version": 3
   },
   "file_extension": ".py",
   "mimetype": "text/x-python",
   "name": "python",
   "nbconvert_exporter": "python",
   "pygments_lexer": "ipython3",
   "version": "3.9.7 (default, Sep 16 2021, 08:50:36) \n[Clang 10.0.0 ]"
  },
  "orig_nbformat": 4,
  "vscode": {
   "interpreter": {
    "hash": "343191058819caea96d5cde1bd3b1a75b4807623ce2cda0e1c8499e39ac847e3"
   }
  }
 },
 "nbformat": 4,
 "nbformat_minor": 2
}
