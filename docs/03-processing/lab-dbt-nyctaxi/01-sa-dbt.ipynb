{
 "cells": [
  {
   "cell_type": "markdown",
   "metadata": {},
   "source": [
    "## Install the libraries"
   ]
  },
  {
   "cell_type": "code",
   "execution_count": null,
   "metadata": {},
   "outputs": [],
   "source": [
    "%%writefile requirements.txt\n",
    "dbt-core==1.2.0\n",
    "dbt-postgres==1.1.1\n",
    "psycopg2-binary==2.9.3\n",
    "ipython-sql==0.4.1\n",
    "boto3==1.24.31"
   ]
  },
  {
   "cell_type": "code",
   "execution_count": null,
   "metadata": {},
   "outputs": [],
   "source": [
    "!pip install -r requirements.txt"
   ]
  },
  {
   "cell_type": "code",
   "execution_count": null,
   "metadata": {},
   "outputs": [],
   "source": [
    "import boto3\n",
    "import json\n",
    "import pandas as pd\n",
    "\n",
    "from sqlalchemy import create_engine\n",
    "import psycopg2"
   ]
  },
  {
   "cell_type": "code",
   "execution_count": null,
   "metadata": {},
   "outputs": [],
   "source": [
    "DBT_SCHEMA = \"dbt_taxi\""
   ]
  },
  {
   "cell_type": "markdown",
   "metadata": {},
   "source": [
    "## Extract\n",
    "\n",
    "In this step, we will download the data"
   ]
  },
  {
   "cell_type": "code",
   "execution_count": null,
   "metadata": {},
   "outputs": [],
   "source": [
    "!wget --show-progress https://d37ci6vzurychx.cloudfront.net/trip-data/yellow_tripdata_2022-05.parquet\n",
    "pd.read_parquet(\"yellow_tripdata_2022-05.parquet\").sample(1000).to_parquet(\"yellow_tripdata_2022-05_sample_1000.parquet\")"
   ]
  },
  {
   "cell_type": "code",
   "execution_count": null,
   "metadata": {},
   "outputs": [],
   "source": [
    "!wget -q --show-progress https://d37ci6vzurychx.cloudfront.net/misc/taxi+_zone_lookup.csv"
   ]
  },
  {
   "cell_type": "markdown",
   "metadata": {},
   "source": [
    "## Explore"
   ]
  },
  {
   "cell_type": "code",
   "execution_count": null,
   "metadata": {},
   "outputs": [],
   "source": [
    "yellow_tripdata_df = pd.read_parquet('yellow_tripdata_2022-05_sample_1000.parquet')\n",
    "yellow_tripdata_df.head()"
   ]
  },
  {
   "cell_type": "code",
   "execution_count": null,
   "metadata": {},
   "outputs": [],
   "source": [
    "yellow_tripdata_df.info()"
   ]
  },
  {
   "cell_type": "code",
   "execution_count": null,
   "metadata": {},
   "outputs": [],
   "source": [
    "lookup_zone = pd.read_csv('taxi+_zone_lookup.csv')\n",
    "lookup_zone.head()"
   ]
  },
  {
   "cell_type": "code",
   "execution_count": null,
   "metadata": {},
   "outputs": [],
   "source": [
    "lookup_zone.info()"
   ]
  },
  {
   "cell_type": "markdown",
   "metadata": {},
   "source": [
    "## Preprocessing"
   ]
  },
  {
   "cell_type": "code",
   "execution_count": null,
   "metadata": {},
   "outputs": [],
   "source": [
    "# select only few columns that we are interested in\n",
    "yellow_tripdata_df = yellow_tripdata_df[['VendorID',\n",
    "                                        'tpep_pickup_datetime',\n",
    "                                        'tpep_dropoff_datetime',\n",
    "                                        'passenger_count',\n",
    "                                        'PULocationID',\n",
    "                                        'DOLocationID',\n",
    "                                        'fare_amount']]\n",
    "\n",
    "yellow_tripdata_df.columns = ['vendor_id',\n",
    "                            'pickup_datetime',\n",
    "                            'dropoff_datetime',\n",
    "                            'passenger_count',\n",
    "                            'pickup_location_id',\n",
    "                            'dropoff_location_id',\n",
    "                            'fare_amount']\n",
    "\n",
    "yellow_tripdata_df"
   ]
  },
  {
   "cell_type": "code",
   "execution_count": null,
   "metadata": {},
   "outputs": [],
   "source": [
    "# rename the columns\n",
    "lookup_zone.columns = ['locationid','borough','zone','service_zone']\n",
    "\n",
    "lookup_zone"
   ]
  },
  {
   "cell_type": "markdown",
   "metadata": {},
   "source": [
    "## Load\n",
    "\n",
    "In this step, we will load the data into postgres"
   ]
  },
  {
   "cell_type": "code",
   "execution_count": null,
   "metadata": {},
   "outputs": [],
   "source": [
    "# Setup the credentials\n",
    "\n",
    "def get_secret(secret_name):\n",
    "    region_name = \"us-east-1\"\n",
    "    session = boto3.session.Session()\n",
    "    client = session.client(\n",
    "        service_name='secretsmanager',\n",
    "        region_name=region_name)\n",
    "    get_secret_value_response = client.get_secret_value(SecretId=secret_name)\n",
    "    get_secret_value_response = json.loads(get_secret_value_response['SecretString'])\n",
    "    return get_secret_value_response\n",
    "\n",
    "db_credentials = get_secret(secret_name='wysde')\n",
    "\n",
    "USERNAME = db_credentials[\"RDS_POSTGRES_USERNAME\"]\n",
    "PASSWORD = db_credentials[\"RDS_POSTGRES_PASSWORD\"]\n",
    "HOST = \"database-1.cy8ltogyfgas.us-east-1.rds.amazonaws.com\"\n",
    "PORT = 5432\n",
    "DBNAME = \"sparsh\"\n",
    "CONN = f\"postgresql://{USERNAME}:{PASSWORD}@{HOST}:{PORT}/{DBNAME}\""
   ]
  },
  {
   "cell_type": "code",
   "execution_count": null,
   "metadata": {},
   "outputs": [],
   "source": [
    "# load the data into our postgres database\n",
    "alchemyEngine = create_engine(CONN, pool_recycle=3600);\n",
    "postgreSQLConnection = alchemyEngine.connect();"
   ]
  },
  {
   "cell_type": "code",
   "execution_count": null,
   "metadata": {},
   "outputs": [],
   "source": [
    "DBT_SCHEMA = \"dbt_taxi\""
   ]
  },
  {
   "cell_type": "code",
   "execution_count": null,
   "metadata": {},
   "outputs": [],
   "source": [
    "lookup_zone.to_sql('taxi_zone_lookup', postgreSQLConnection, if_exists='replace', schema=DBT_SCHEMA, index=False)"
   ]
  },
  {
   "cell_type": "code",
   "execution_count": null,
   "metadata": {},
   "outputs": [],
   "source": [
    "yellow_tripdata_df.to_sql('yellow_taxi_trips', postgreSQLConnection, if_exists='replace', schema=DBT_SCHEMA, index=False);"
   ]
  },
  {
   "cell_type": "code",
   "execution_count": null,
   "metadata": {},
   "outputs": [],
   "source": [
    "postgreSQLConnection.close();"
   ]
  },
  {
   "cell_type": "markdown",
   "metadata": {},
   "source": [
    "## Data Load Validation"
   ]
  },
  {
   "cell_type": "code",
   "execution_count": null,
   "metadata": {},
   "outputs": [],
   "source": [
    "%reload_ext sql"
   ]
  },
  {
   "cell_type": "code",
   "execution_count": null,
   "metadata": {},
   "outputs": [],
   "source": [
    "%sql {CONN}"
   ]
  },
  {
   "cell_type": "code",
   "execution_count": null,
   "metadata": {},
   "outputs": [],
   "source": [
    "%sql select * from {DBT_SCHEMA}.yellow_taxi_trips limit 10;"
   ]
  },
  {
   "cell_type": "code",
   "execution_count": null,
   "metadata": {},
   "outputs": [],
   "source": [
    "%sql select count(*) from {DBT_SCHEMA}.yellow_taxi_trips limit 10;"
   ]
  },
  {
   "cell_type": "code",
   "execution_count": null,
   "metadata": {},
   "outputs": [],
   "source": [
    "%sql select count(*) from {DBT_SCHEMA}.taxi_zone_lookup limit 10;"
   ]
  },
  {
   "cell_type": "markdown",
   "metadata": {},
   "source": [
    "## dbt Setup"
   ]
  },
  {
   "cell_type": "markdown",
   "metadata": {},
   "source": [
    "Initiate the dbt project"
   ]
  },
  {
   "cell_type": "code",
   "execution_count": null,
   "metadata": {},
   "outputs": [],
   "source": [
    "!dbt init"
   ]
  },
  {
   "cell_type": "code",
   "execution_count": null,
   "metadata": {},
   "outputs": [],
   "source": [
    "%cd nyctaxi"
   ]
  },
  {
   "cell_type": "code",
   "execution_count": null,
   "metadata": {},
   "outputs": [],
   "source": [
    "# let's see what's all there\n",
    "!tree --du -h -C ."
   ]
  },
  {
   "cell_type": "code",
   "execution_count": null,
   "metadata": {},
   "outputs": [],
   "source": [
    "!tree --du -h -C ~/.dbt"
   ]
  },
  {
   "cell_type": "code",
   "execution_count": null,
   "metadata": {},
   "outputs": [],
   "source": [
    "!cat ~/.dbt/profiles.yml"
   ]
  },
  {
   "cell_type": "markdown",
   "metadata": {},
   "source": [
    "Setup the database credentials"
   ]
  },
  {
   "cell_type": "code",
   "execution_count": null,
   "metadata": {},
   "outputs": [],
   "source": [
    "%%writefile ~/.dbt/profiles.yml\n",
    "nyctaxi:\n",
    "  outputs:\n",
    "    dev:\n",
    "      type: postgres\n",
    "      threads: 1\n",
    "      host: database-1.cy8ltogyfgas.us-east-1.rds.amazonaws.com\n",
    "      port: 5432\n",
    "      user: postgres\n",
    "      pass: \n",
    "      dbname: sparsh\n",
    "      schema: dbt_taxi\n",
    "  target: dev"
   ]
  },
  {
   "cell_type": "code",
   "execution_count": null,
   "metadata": {},
   "outputs": [],
   "source": [
    "!dbt debug"
   ]
  },
  {
   "cell_type": "code",
   "execution_count": null,
   "metadata": {},
   "outputs": [],
   "source": [
    "!dbt run"
   ]
  },
  {
   "cell_type": "code",
   "execution_count": null,
   "metadata": {},
   "outputs": [],
   "source": [
    "!dbt test"
   ]
  },
  {
   "cell_type": "code",
   "execution_count": null,
   "metadata": {},
   "outputs": [],
   "source": [
    "!tree --du -h -C ."
   ]
  },
  {
   "cell_type": "code",
   "execution_count": null,
   "metadata": {},
   "outputs": [],
   "source": [
    "!mkdir -p ./models/staging"
   ]
  },
  {
   "cell_type": "code",
   "execution_count": null,
   "metadata": {},
   "outputs": [],
   "source": [
    "%%writefile ./models/staging/schema.yml\n",
    "version: 2\n",
    "\n",
    "sources:\n",
    "  - name: source\n",
    "    schema: dbt_taxi\n",
    "    tables:\n",
    "      - name: yellow_taxi_trips\n",
    "      - name: taxi_zone_lookup\n",
    "\n",
    "models:\n",
    "  - name: taxi_zone_lookup_model\n",
    "    description: \"A list of all taxi zones with codes in NYC\"\n",
    "    columns:\n",
    "      - name: locationid\n",
    "        tests:\n",
    "          - not_null\n",
    "      - name: borough\n",
    "        tests:\n",
    "          - not_null\n",
    "      - name: zone\n",
    "        tests:\n",
    "          - not_null\n",
    "      - name: service_zone\n",
    "        tests:\n",
    "          - not_null\n",
    "  - name: yellow_taxi_trips_models\n",
    "    description: \"A reduced version of yellow taxi trip data in NYC\"\n",
    "    columns:\n",
    "      - name: vendor_id\n",
    "        tests:\n",
    "          - not_null\n",
    "          - accepted_values:\n",
    "              values: ['1', '2', '4']\n",
    "      - name: pickup_datetime\n",
    "        tests:\n",
    "          - not_null\n",
    "      - name: dropoff_datetime\n",
    "        tests:\n",
    "          - not_null\n",
    "      - name: passenger_count\n",
    "        tests:\n",
    "          - not_null\n",
    "      - name: pickup_location_id\n",
    "        tests:\n",
    "          - not_null\n",
    "      - name: dropoff_location_id\n",
    "        tests:\n",
    "          - not_null\n",
    "      - name: fare_amount\n",
    "        tests:\n",
    "          - not_null"
   ]
  },
  {
   "cell_type": "code",
   "execution_count": null,
   "metadata": {},
   "outputs": [],
   "source": [
    "%%writefile ./models/staging/yellow_taxi_trips_models.sql\n",
    "select \n",
    "    vendor_id,\n",
    "    pickup_datetime, \n",
    "    dropoff_datetime, \n",
    "    passenger_count, \n",
    "    pickup_location_id, \n",
    "    dropoff_location_id, \n",
    "    fare_amount\n",
    "from {{ source('source', 'yellow_taxi_trips') }}"
   ]
  },
  {
   "cell_type": "code",
   "execution_count": null,
   "metadata": {},
   "outputs": [],
   "source": [
    "%%writefile ./models/staging/taxi_zone_lookup_model.sql\n",
    "select \n",
    "    locationid,\n",
    "    borough,\n",
    "    zone,\n",
    "    service_zone\n",
    "from {{ source('source', 'taxi_zone_lookup') }}"
   ]
  },
  {
   "cell_type": "markdown",
   "metadata": {},
   "source": [
    "We will now create another dbt model, which combines data from the two staging models. Let's assume we want to write a query to join the staging tables on the location ID fields and add the actual location names to the pickup and dropoff locations of the taxi ride data."
   ]
  },
  {
   "cell_type": "code",
   "execution_count": null,
   "metadata": {},
   "outputs": [],
   "source": [
    "%%writefile ./models/trips_with_borough_name_model.sql\n",
    "select\n",
    "    t.vendor_id,\n",
    "    t.pickup_datetime,\n",
    "    t.dropoff_datetime,\n",
    "    z1.borough as pickup_borough,\n",
    "    z2.borough as dropoff_borough,\n",
    "    t.passenger_count,\n",
    "    t.fare_amount\n",
    "from {{ ref('yellow_taxi_trips_models') }} t\n",
    "left join {{ ref('taxi_zone_lookup_model') }} z1\n",
    "on t.pickup_location_id = z1.locationid\n",
    "left join {{ ref('taxi_zone_lookup_model') }} z2\n",
    "on t.dropoff_location_id = z2.locationid"
   ]
  },
  {
   "cell_type": "code",
   "execution_count": null,
   "metadata": {},
   "outputs": [],
   "source": [
    "%%writefile ./models/schema.yml\n",
    "version: 2\n",
    "\n",
    "models:\n",
    "  - name: trips_with_borough_name\n",
    "    description: \"Combines taxi rides with the borough names for pickup and dropoff locations.\"\n",
    "    columns:\n",
    "      - name: vendor_id\n",
    "      - name: pickup_datetime\n",
    "      - name: dropoff_datetime\n",
    "      - name: pickup_borough\n",
    "      - name: dropoff_borough\n",
    "      - name: passenger_count\n",
    "      - name: fare_amount"
   ]
  },
  {
   "cell_type": "code",
   "execution_count": null,
   "metadata": {},
   "outputs": [],
   "source": [
    "!dbt run"
   ]
  },
  {
   "cell_type": "code",
   "execution_count": null,
   "metadata": {},
   "outputs": [],
   "source": [
    "!dbt docs generate"
   ]
  },
  {
   "cell_type": "code",
   "execution_count": null,
   "metadata": {},
   "outputs": [],
   "source": [
    "!dbt docs serve"
   ]
  }
 ],
 "metadata": {
  "kernelspec": {
   "display_name": "Python 3.9.7 ('env-spacy')",
   "language": "python",
   "name": "python3"
  },
  "language_info": {
   "codemirror_mode": {
    "name": "ipython",
    "version": 3
   },
   "file_extension": ".py",
   "mimetype": "text/x-python",
   "name": "python",
   "nbconvert_exporter": "python",
   "pygments_lexer": "ipython3",
   "version": "3.9.7"
  },
  "orig_nbformat": 4,
  "vscode": {
   "interpreter": {
    "hash": "343191058819caea96d5cde1bd3b1a75b4807623ce2cda0e1c8499e39ac847e3"
   }
  }
 },
 "nbformat": 4,
 "nbformat_minor": 2
}
