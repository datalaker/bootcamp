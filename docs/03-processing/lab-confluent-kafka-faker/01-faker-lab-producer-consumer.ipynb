{
 "cells": [
  {
   "cell_type": "code",
   "execution_count": 1,
   "metadata": {},
   "outputs": [],
   "source": [
    "from confluent_kafka import Producer\n",
    "from confluent_kafka import Consumer\n",
    "import ccloud_lib\n",
    "from faker import Faker\n",
    "import time\n",
    "import json"
   ]
  },
  {
   "cell_type": "code",
   "execution_count": 2,
   "metadata": {},
   "outputs": [],
   "source": [
    "TOPIC = \"faker-users\"\n",
    "GROUP_ID = \"faker-groups\""
   ]
  },
  {
   "cell_type": "code",
   "execution_count": 3,
   "metadata": {},
   "outputs": [
    {
     "name": "stderr",
     "output_type": "stream",
     "text": [
      "%4|1658854764.657|CONFWARN|rdkafka#producer-1| [thrd:app]: Configuration property session.timeout.ms is a consumer property and will be ignored by this producer instance\n"
     ]
    }
   ],
   "source": [
    "# Create Producer instance\n",
    "conf = ccloud_lib.read_ccloud_config(\"python.config\")\n",
    "producer_conf = ccloud_lib.pop_schema_registry_params_from_config(conf)\n",
    "producer = Producer(producer_conf)"
   ]
  },
  {
   "cell_type": "code",
   "execution_count": 6,
   "metadata": {},
   "outputs": [
    {
     "data": {
      "text/plain": [
       "<cimpl.Producer at 0x10f1723b0>"
      ]
     },
     "execution_count": 6,
     "metadata": {},
     "output_type": "execute_result"
    }
   ],
   "source": [
    "producer"
   ]
  },
  {
   "cell_type": "code",
   "execution_count": 21,
   "metadata": {},
   "outputs": [
    {
     "name": "stderr",
     "output_type": "stream",
     "text": [
      "%4|1658037343.531|CONFWARN|rdkafka#producer-5| [thrd:app]: Configuration property session.timeout.ms is a consumer property and will be ignored by this producer instance\n"
     ]
    }
   ],
   "source": [
    "# Create topic if needed\n",
    "ccloud_lib.create_topic(conf, TOPIC)"
   ]
  },
  {
   "cell_type": "code",
   "execution_count": 23,
   "metadata": {},
   "outputs": [],
   "source": [
    "fake=Faker()"
   ]
  },
  {
   "cell_type": "code",
   "execution_count": 24,
   "metadata": {},
   "outputs": [],
   "source": [
    "for i in range(10):\n",
    "    data={\"name\":fake.name(),\n",
    "          \"age\":fake.random_int(min=18, max=80, step=1),\n",
    "          \"street\":fake.street_address(),\n",
    "          \"city\":fake.city(),\n",
    "          \"state\":fake.state(),\n",
    "          \"zip\":fake.zipcode()}\n",
    "    m=json.dumps(data)\n",
    "    producer.poll(0)\n",
    "    producer.produce(TOPIC, m.encode('utf-8'), callback=ccloud_lib.acked)"
   ]
  },
  {
   "cell_type": "code",
   "execution_count": 25,
   "metadata": {},
   "outputs": [
    {
     "name": "stdout",
     "output_type": "stream",
     "text": [
      "Produced record to topic faker-users partition [0] @ offset 20\n",
      "Produced record to topic faker-users partition [0] @ offset 21\n",
      "Produced record to topic faker-users partition [0] @ offset 22\n",
      "Produced record to topic faker-users partition [0] @ offset 23\n",
      "Produced record to topic faker-users partition [0] @ offset 24\n",
      "Produced record to topic faker-users partition [0] @ offset 25\n",
      "Produced record to topic faker-users partition [0] @ offset 26\n",
      "Produced record to topic faker-users partition [0] @ offset 27\n",
      "Produced record to topic faker-users partition [0] @ offset 28\n",
      "Produced record to topic faker-users partition [0] @ offset 29\n"
     ]
    },
    {
     "data": {
      "text/plain": [
       "0"
      ]
     },
     "execution_count": 25,
     "metadata": {},
     "output_type": "execute_result"
    }
   ],
   "source": [
    "producer.flush()"
   ]
  },
  {
   "cell_type": "code",
   "execution_count": 26,
   "metadata": {},
   "outputs": [],
   "source": [
    "# Create Consumer instance\n",
    "conf = ccloud_lib.read_ccloud_config(\"python.config\")\n",
    "consumer_conf = ccloud_lib.pop_schema_registry_params_from_config(conf)\n",
    "consumer_conf['group.id'] = GROUP_ID\n",
    "consumer_conf['auto.offset.reset'] = 'earliest'\n",
    "consumer = Consumer(consumer_conf)"
   ]
  },
  {
   "cell_type": "code",
   "execution_count": 27,
   "metadata": {},
   "outputs": [
    {
     "data": {
      "text/plain": [
       "{0: PartitionMetadata(0)}"
      ]
     },
     "execution_count": 27,
     "metadata": {},
     "output_type": "execute_result"
    }
   ],
   "source": [
    "topics = consumer.list_topics()\n",
    "topics.topics[TOPIC].partitions"
   ]
  },
  {
   "cell_type": "code",
   "execution_count": 28,
   "metadata": {},
   "outputs": [],
   "source": [
    "# Subscribe to topic\n",
    "consumer.subscribe([TOPIC])"
   ]
  },
  {
   "cell_type": "code",
   "execution_count": 29,
   "metadata": {},
   "outputs": [
    {
     "name": "stdout",
     "output_type": "stream",
     "text": [
      "Waiting for message or event/error in poll()\n",
      "Waiting for message or event/error in poll()\n",
      "Waiting for message or event/error in poll()\n",
      "Waiting for message or event/error in poll()\n",
      "Waiting for message or event/error in poll()\n",
      "Waiting for message or event/error in poll()\n",
      "Waiting for message or event/error in poll()\n",
      "Waiting for message or event/error in poll()\n",
      "Waiting for message or event/error in poll()\n",
      "Waiting for message or event/error in poll()\n",
      "Waiting for message or event/error in poll()\n",
      "Waiting for message or event/error in poll()\n",
      "{\"name\": \"Brittany Goodwin\", \"age\": 66, \"street\": \"5658 Parrish Curve Suite 551\", \"city\": \"Keithview\", \"state\": \"Virginia\", \"zip\": \"82909\"}\n",
      "{\"name\": \"Anthony Proctor\", \"age\": 40, \"street\": \"613 Novak Harbor Apt. 661\", \"city\": \"Port Tammyhaven\", \"state\": \"Delaware\", \"zip\": \"19099\"}\n",
      "{\"name\": \"Matthew Hale\", \"age\": 67, \"street\": \"64473 Bowers Ridge\", \"city\": \"Port Jamesshire\", \"state\": \"Wisconsin\", \"zip\": \"84143\"}\n",
      "{\"name\": \"Stephanie Blackburn\", \"age\": 29, \"street\": \"858 Lindsey Ramp Apt. 816\", \"city\": \"Kimberlyland\", \"state\": \"Connecticut\", \"zip\": \"91935\"}\n",
      "{\"name\": \"Samantha Chase\", \"age\": 63, \"street\": \"797 Sanchez Drives\", \"city\": \"Cliffordburgh\", \"state\": \"Oregon\", \"zip\": \"38459\"}\n",
      "{\"name\": \"Alyssa Turner\", \"age\": 23, \"street\": \"9731 Greene Lake Apt. 024\", \"city\": \"Trujilloport\", \"state\": \"Georgia\", \"zip\": \"29288\"}\n",
      "{\"name\": \"Kyle King\", \"age\": 31, \"street\": \"9406 Christine Gateway\", \"city\": \"Port Veronicashire\", \"state\": \"New York\", \"zip\": \"11713\"}\n",
      "{\"name\": \"Krystal Griffin\", \"age\": 62, \"street\": \"351 King Meadow\", \"city\": \"Hunterland\", \"state\": \"Alabama\", \"zip\": \"62434\"}\n",
      "{\"name\": \"David White\", \"age\": 30, \"street\": \"169 Jose Point\", \"city\": \"Murphyberg\", \"state\": \"Mississippi\", \"zip\": \"50616\"}\n",
      "{\"name\": \"Steven Velazquez\", \"age\": 74, \"street\": \"765 Charles Glens\", \"city\": \"Murphybury\", \"state\": \"Oregon\", \"zip\": \"97248\"}\n",
      "Waiting for message or event/error in poll()\n",
      "Waiting for message or event/error in poll()\n",
      "Waiting for message or event/error in poll()\n",
      "Waiting for message or event/error in poll()\n",
      "Waiting for message or event/error in poll()\n"
     ]
    },
    {
     "ename": "KeyboardInterrupt",
     "evalue": "",
     "output_type": "error",
     "traceback": [
      "\u001b[0;31m---------------------------------------------------------------------------\u001b[0m",
      "\u001b[0;31mKeyboardInterrupt\u001b[0m                         Traceback (most recent call last)",
      "\u001b[0;32m/var/folders/jv/23m40pmn69j7nnhhc17mqvmm0000gn/T/ipykernel_2968/3471856382.py\u001b[0m in \u001b[0;36m<module>\u001b[0;34m\u001b[0m\n\u001b[1;32m      1\u001b[0m \u001b[0;32mwhile\u001b[0m \u001b[0;32mTrue\u001b[0m\u001b[0;34m:\u001b[0m\u001b[0;34m\u001b[0m\u001b[0;34m\u001b[0m\u001b[0m\n\u001b[0;32m----> 2\u001b[0;31m     \u001b[0mmsg\u001b[0m \u001b[0;34m=\u001b[0m \u001b[0mconsumer\u001b[0m\u001b[0;34m.\u001b[0m\u001b[0mpoll\u001b[0m\u001b[0;34m(\u001b[0m\u001b[0;36m1.0\u001b[0m\u001b[0;34m)\u001b[0m \u001b[0;31m#timeout\u001b[0m\u001b[0;34m\u001b[0m\u001b[0;34m\u001b[0m\u001b[0m\n\u001b[0m\u001b[1;32m      3\u001b[0m     \u001b[0;32mif\u001b[0m \u001b[0mmsg\u001b[0m \u001b[0;32mis\u001b[0m \u001b[0;32mNone\u001b[0m\u001b[0;34m:\u001b[0m\u001b[0;34m\u001b[0m\u001b[0;34m\u001b[0m\u001b[0m\n\u001b[1;32m      4\u001b[0m         \u001b[0mprint\u001b[0m\u001b[0;34m(\u001b[0m\u001b[0;34m\"Waiting for message or event/error in poll()\"\u001b[0m\u001b[0;34m)\u001b[0m\u001b[0;34m\u001b[0m\u001b[0;34m\u001b[0m\u001b[0m\n\u001b[1;32m      5\u001b[0m         \u001b[0;32mcontinue\u001b[0m\u001b[0;34m\u001b[0m\u001b[0;34m\u001b[0m\u001b[0m\n",
      "\u001b[0;31mKeyboardInterrupt\u001b[0m: "
     ]
    }
   ],
   "source": [
    "while True:\n",
    "    msg = consumer.poll(1.0) #timeout\n",
    "    if msg is None:\n",
    "        print(\"Waiting for message or event/error in poll()\")\n",
    "        continue\n",
    "    elif msg.error():\n",
    "        print(\"Error: {}\".format(msg.error()))\n",
    "        continue\n",
    "    else:\n",
    "        data=msg.value().decode('utf-8')\n",
    "        print(data)"
   ]
  }
 ],
 "metadata": {
  "kernelspec": {
   "display_name": "Python 3.9.7 ('env-spacy')",
   "language": "python",
   "name": "python3"
  },
  "language_info": {
   "codemirror_mode": {
    "name": "ipython",
    "version": 3
   },
   "file_extension": ".py",
   "mimetype": "text/x-python",
   "name": "python",
   "nbconvert_exporter": "python",
   "pygments_lexer": "ipython3",
   "version": "3.9.7"
  },
  "orig_nbformat": 4,
  "vscode": {
   "interpreter": {
    "hash": "343191058819caea96d5cde1bd3b1a75b4807623ce2cda0e1c8499e39ac847e3"
   }
  }
 },
 "nbformat": 4,
 "nbformat_minor": 2
}
