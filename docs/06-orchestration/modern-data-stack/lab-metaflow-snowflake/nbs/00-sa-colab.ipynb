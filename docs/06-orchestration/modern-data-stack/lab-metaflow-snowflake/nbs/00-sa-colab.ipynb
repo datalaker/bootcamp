{
  "cells": [
    {
      "cell_type": "code",
      "execution_count": null,
      "metadata": {
        "id": "eil9_SCiiHWh"
      },
      "outputs": [],
      "source": [
        "!mkdir -p ~/.aws && cp /content/drive/MyDrive/AWS/admin/* ~/.aws\n",
        "!chmod 600 ~/.aws/credentials\n",
        "!pip install awscli"
      ]
    },
    {
      "cell_type": "code",
      "execution_count": null,
      "metadata": {
        "id": "2v4fZACSeBKq"
      },
      "outputs": [],
      "source": [
        "!pip install -r requirements.txt"
      ]
    },
    {
      "cell_type": "code",
      "execution_count": null,
      "metadata": {
        "id": "9xOV6M-1e2-G"
      },
      "outputs": [],
      "source": [
        "!touch __init__.py"
      ]
    },
    {
      "cell_type": "code",
      "execution_count": null,
      "metadata": {
        "colab": {
          "base_uri": "https://localhost:8080/"
        },
        "id": "7Co11zS7fqMQ",
        "outputId": "16a8ca6f-6c99-4bc3-ca55-f12df6893c8d"
      },
      "outputs": [
        {
          "name": "stdout",
          "output_type": "stream",
          "text": [
            "Overwriting ./src/.env\n"
          ]
        }
      ],
      "source": [
        "%%writefile ./src/.env\n",
        "SF_USER=\n",
        "SF_PWD=\n",
        "SF_ACCOUNT=\n",
        "SF_DB=dbt\n",
        "SF_ROLE=accountadmin\n",
        "SF_SCHEMA=POST_MODERN_DATA_STACK\n",
        "SF_TABLE=COVEO_DATASET_RAW\n",
        "APPLICATION_API_KEY=\n",
        "MAX_SESSIONS=1000\n",
        "EN_BATCH=0\n",
        "COMET_API_KEY=\n",
        "DBT_CLOUD=0\n",
        "SAGEMAKER_DEPLOY=0\n",
        "DBT_ACCOUNT_ID=100\n",
        "DBT_PROJECT_ID=100\n",
        "DBT_JOB_ID=100\n",
        "DBT_API_KEY=''"
      ]
    },
    {
      "cell_type": "code",
      "execution_count": null,
      "metadata": {
        "colab": {
          "base_uri": "https://localhost:8080/"
        },
        "id": "0YT3XCVDd6Uc",
        "outputId": "eb0e4517-3252-4398-e869-903f3525dc36"
      },
      "outputs": [
        {
          "name": "stdout",
          "output_type": "stream",
          "text": [
            "Starting ops at 2022-08-11 15:23:56.451528 \n",
            "Preparing shopping data locally...\n",
            "tcmalloc: large alloc 2053791744 bytes == 0x3dfc000 @  0x7f5a664781e7 0x4a3940 0x5b438c 0x5ea94f 0x5939cb 0x594cd3 0x5d0ecb 0x5939af 0x594cd3 0x594f8e 0x59526e 0x5bfba0 0x59aeca 0x515655 0x549e0e 0x593fce 0x548ae9 0x51566f 0x593dd7 0x511e2c 0x549576 0x4bcb19 0x59c019 0x595ef6 0x5134a6 0x549e0e 0x4bcb19 0x532b86 0x594a96 0x515600 0x593dd7\n",
            "tcmalloc: large alloc 2053791744 bytes == 0x7e4a2000 @  0x7f5a664781e7 0x4a3940 0x52ab72 0x527cf3 0x51d358 0x59358d 0x548c51 0x51566f 0x549576 0x4bcb19 0x59c019 0x59588e 0x595e64 0x4d8924 0x5bfbcb 0x59aeca 0x515655 0x549e0e 0x593fce 0x548ae9 0x51566f 0x593dd7 0x511e2c 0x549576 0x4bcb19 0x59c019 0x595ef6 0x5134a6 0x549e0e 0x4bcb19 0x532b86\n",
            "Training set has 1000 sessions\n",
            "Uploading shopping data...\n",
            "====== TABLE IS BEING DROPPED AND RE-CREATED =====\n",
            "EXECUTING: \n",
            "\n",
            "    CREATE OR REPLACE TABLE \n",
            "    DBT.POST_MODERN_DATA_STACK.COVEO_DATASET_RAW(\n",
            "        etl_timestamp int,\n",
            "        etl_id VARCHAR(36),\n",
            "        event_type string,\n",
            "        api_key VARCHAR(36),\n",
            "        event_date DATE,\n",
            "        raw_data VARIANT\n",
            "    );\n",
            "    \n",
            "\n",
            "EXECUTING: \n",
            "PUT file:///tmp/tmpivgztexr/coveo_dataset_dump.csv @POST_MODERN_DATA_STACK.%COVEO_DATASET_RAW auto_compress=true overwrite=true\n",
            "\n",
            "All done, see you, space cowboy 2022-08-11 15:24:39.543590 \n"
          ]
        }
      ],
      "source": [
        "!cd upload && python upload_to_snowflake.py"
      ]
    },
    {
      "cell_type": "code",
      "execution_count": null,
      "metadata": {
        "colab": {
          "base_uri": "https://localhost:8080/"
        },
        "id": "jpfCqG4VesEz",
        "outputId": "1b1060f4-9910-414e-fe82-48bdf1dd49c4"
      },
      "outputs": [
        {
          "name": "stdout",
          "output_type": "stream",
          "text": [
            "\u001b[0m15:28:40  [\u001b[33mWARNING\u001b[0m]: Deprecated functionality\n",
            "The `source-paths` config has been renamed to `model-paths`. Please update your\n",
            "`dbt_project.yml` configuration to reflect this change.\n",
            "\u001b[0m15:28:40  [\u001b[33mWARNING\u001b[0m]: Deprecated functionality\n",
            "The `data-paths` config has been renamed to `seed-paths`. Please update your\n",
            "`dbt_project.yml` configuration to reflect this change.\n",
            "\u001b[0m15:28:40  Running with dbt=1.2.0\n",
            "\u001b[0m15:28:40  Partial parse save file not found. Starting full parse.\n",
            "\u001b[0m15:28:41  Found 2 models, 2 tests, 0 snapshots, 0 analyses, 267 macros, 0 operations, 0 seed files, 0 sources, 0 exposures, 0 metrics\n",
            "\u001b[0m15:28:41  \n",
            "\u001b[0m15:28:46  Concurrency: 1000 threads (target='dev')\n",
            "\u001b[0m15:28:46  \n",
            "\u001b[0m15:28:46  1 of 2 START view model POST_MODERN_DATA_STACK.shopping_events_exploded ........ [RUN]\n",
            "\u001b[0m15:28:48  1 of 2 OK created view model POST_MODERN_DATA_STACK.shopping_events_exploded ... [\u001b[32mSUCCESS 1\u001b[0m in 1.84s]\n",
            "\u001b[0m15:28:48  2 of 2 START view model POST_MODERN_DATA_STACK.nep_session_events .............. [RUN]\n",
            "\u001b[0m15:28:50  2 of 2 OK created view model POST_MODERN_DATA_STACK.nep_session_events ......... [\u001b[32mSUCCESS 1\u001b[0m in 2.02s]\n",
            "\u001b[0m15:28:50  \n",
            "\u001b[0m15:28:50  Finished running 2 view models in 0 hours 0 minutes and 8.17 seconds (8.17s).\n",
            "\u001b[0m15:28:50  \n",
            "\u001b[0m15:28:50  \u001b[32mCompleted successfully\u001b[0m\n",
            "\u001b[0m15:28:50  \n",
            "\u001b[0m15:28:50  Done. PASS=2 WARN=0 ERROR=0 SKIP=0 TOTAL=2\n"
          ]
        }
      ],
      "source": [
        "!cd src/dbt && dbt run --vars '{SF_SCHEMA: POST_MODERN_DATA_STACK, SF_TABLE: COVEO_DATASET_RAW}' --profiles-dir ."
      ]
    },
    {
      "cell_type": "code",
      "execution_count": null,
      "metadata": {
        "colab": {
          "base_uri": "https://localhost:8080/"
        },
        "id": "K77I7kxminOa",
        "outputId": "0fd22b89-ec27-41e7-ee6c-39df6e7ffd67"
      },
      "outputs": [
        {
          "name": "stdout",
          "output_type": "stream",
          "text": [
            "env: USERNAME=sparshagarwal\n"
          ]
        }
      ],
      "source": [
        "%env USERNAME=sparshagarwal"
      ]
    },
    {
      "cell_type": "code",
      "execution_count": null,
      "metadata": {
        "id": "iVWu_Nt-jhyK"
      },
      "outputs": [],
      "source": [
        "!mkdir -p /root/.metaflowconfig"
      ]
    },
    {
      "cell_type": "code",
      "execution_count": null,
      "metadata": {
        "colab": {
          "base_uri": "https://localhost:8080/"
        },
        "id": "kxeoUEd4hKIp",
        "outputId": "863ff9a9-d586-4a70-bff5-9e78cff161e7"
      },
      "outputs": [
        {
          "name": "stdout",
          "output_type": "stream",
          "text": [
            "Writing /root/.metaflowconfig/config.json\n"
          ]
        }
      ],
      "source": [
        "%%writefile /root/.metaflowconfig/config.json\n",
        "{\n",
        "    \"METAFLOW_BATCH_JOB_QUEUE\": \"arn:aws:batch:us-east-1:390354360073:job-queue/job-queue-metaflow\",\n",
        "    \"METAFLOW_DATASTORE_SYSROOT_S3\": \"s3://metaflow-metaflows3bucket-e6qz9g6fakty/artifacts\",\n",
        "    \"METAFLOW_DATATOOLS_SYSROOT_S3\": \"s3://metaflow-metaflows3bucket-e6qz9g6fakty/artifacts/data\",\n",
        "    \"METAFLOW_DEFAULT_DATASTORE\": \"s3\",\n",
        "    \"METAFLOW_DEFAULT_METADATA\": \"service\",\n",
        "    \"METAFLOW_ECS_S3_ACCESS_IAM_ROLE\": \"arn:aws:iam::390354360073:role/metaflow-BatchS3TaskRole-YGXZF7VP6QG2\",\n",
        "    \"METAFLOW_EVENTS_SFN_ACCESS_IAM_ROLE\": \"arn:aws:iam::390354360073:role/metaflow-EventBridgeRole-7MTKXJEL7KRF\",\n",
        "    \"METAFLOW_SERVICE_INTERNAL_URL\": \"https://3ia6l29xs4.execute-api.us-east-1.amazonaws.com/api\",\n",
        "    \"METAFLOW_SERVICE_URL\": \"https://3ia6l29xs4.execute-api.us-east-1.amazonaws.com/api\",\n",
        "    \"METAFLOW_SFN_DYNAMO_DB_TABLE\": \"metaflow-StepFunctionsStateDDB-1SZC4REIP33IJ\",\n",
        "    \"METAFLOW_SFN_IAM_ROLE\": \"arn:aws:iam::390354360073:role/metaflow-StepFunctionsRole-1A67DCWHV7N7W\",\n",
        "    \"METAFLOW_ECS_FARGATE_EXECUTION_ROLE\": \"arn:aws:iam::390354360073:role/metaflow-ECSTaskExecutionRole-4A6AWHI7LE1Y\"\n",
        "}"
      ]
    },
    {
      "cell_type": "code",
      "execution_count": 14,
      "metadata": {
        "colab": {
          "base_uri": "https://localhost:8080/"
        },
        "id": "PthK3VHmwR9M",
        "outputId": "2ef789ef-331b-4dd1-99da-3d6647fb8ff7"
      },
      "outputs": [
        {
          "name": "stdout",
          "output_type": "stream",
          "text": [
            "\u001b[0m16:35:12  Running with dbt=1.2.0\n",
            "dbt version: 1.2.0\n",
            "python version: 3.7.13\n",
            "python path: /usr/bin/python3\n",
            "os info: Linux-5.4.188+-x86_64-with-Ubuntu-18.04-bionic\n",
            "Using profiles.yml file at /content/src/dbt/profiles.yml\n",
            "Using dbt_project.yml file at /content/src/dbt/dbt_project.yml\n",
            "\n",
            "Configuration:\n",
            "  profiles.yml file [\u001b[32mOK found and valid\u001b[0m]\n",
            "  dbt_project.yml file [\u001b[32mOK found and valid\u001b[0m]\n",
            "\n",
            "Required dependencies:\n",
            " - git [\u001b[32mOK found\u001b[0m]\n",
            "\n",
            "Connection:\n",
            "  account: srb04000.us-east-1\n",
            "  user: sprsag\n",
            "  database: dbt\n",
            "  schema: POST_MODERN_DATA_STACK\n",
            "  warehouse: compute_wh\n",
            "  role: accountadmin\n",
            "  client_session_keep_alive: False\n",
            "  Connection test: [\u001b[32mOK connection ok\u001b[0m]\n",
            "\n",
            "\u001b[32mAll checks passed!\u001b[0m\n"
          ]
        }
      ],
      "source": [
        "!cd /content/src/dbt && dbt debug --profiles-dir ."
      ]
    },
    {
      "cell_type": "code",
      "execution_count": 15,
      "metadata": {
        "colab": {
          "base_uri": "https://localhost:8080/"
        },
        "id": "NUQn7Q7ttjUT",
        "outputId": "70f0bd60-f202-49db-b2cf-68c93530bd59"
      },
      "outputs": [
        {
          "data": {
            "text/plain": [
              "(None, None)"
            ]
          },
          "execution_count": 15,
          "metadata": {},
          "output_type": "execute_result"
        }
      ],
      "source": [
        "import os\n",
        "import subprocess\n",
        "\n",
        "process = subprocess.Popen(\"dbt debug --profiles-dir .\", cwd=os.path.join('/content/src', 'dbt/'), shell=True)\n",
        "process.communicate()"
      ]
    },
    {
      "cell_type": "code",
      "execution_count": 16,
      "metadata": {
        "colab": {
          "base_uri": "https://localhost:8080/"
        },
        "id": "2cpTIn-VuKiJ",
        "outputId": "0c2e2135-52e8-4cef-fc81-bbf195f4614d"
      },
      "outputs": [
        {
          "data": {
            "text/plain": [
              "0"
            ]
          },
          "execution_count": 16,
          "metadata": {},
          "output_type": "execute_result"
        }
      ],
      "source": [
        "process.returncode"
      ]
    },
    {
      "cell_type": "code",
      "execution_count": 17,
      "metadata": {
        "colab": {
          "base_uri": "https://localhost:8080/"
        },
        "id": "X2wl_MDTjeuC",
        "outputId": "041bda0e-3966-4074-a04d-6056fa2ef3eb"
      },
      "outputs": [
        {
          "name": "stdout",
          "output_type": "stream",
          "text": [
            "\u001b[35m\u001b[1mMetaflow 2.7.6\u001b[0m\u001b[35m\u001b[22m executing \u001b[0m\u001b[31m\u001b[1mdbtFlow\u001b[0m\u001b[35m\u001b[22m\u001b[0m\u001b[35m\u001b[22m for \u001b[0m\u001b[31m\u001b[1muser:sparshagarwal\u001b[0m\u001b[35m\u001b[22m\u001b[K\u001b[0m\u001b[35m\u001b[22m\u001b[0m\n",
            "\u001b[35m\u001b[22mValidating your flow...\u001b[K\u001b[0m\u001b[35m\u001b[22m\u001b[0m\n",
            "\u001b[32m\u001b[1m    The graph looks good!\u001b[K\u001b[0m\u001b[32m\u001b[1m\u001b[0m\n",
            "\u001b[35m\u001b[22mRunning pylint...\u001b[K\u001b[0m\u001b[35m\u001b[22m\u001b[0m\n",
            "\u001b[32m\u001b[1m    Pylint is happy!\u001b[K\u001b[0m\u001b[32m\u001b[1m\u001b[0m\n",
            "\u001b[35m2022-08-11 16:37:14.857 \u001b[0m\u001b[1mWorkflow starting (run-id 39):\u001b[0m\n",
            "\u001b[35m2022-08-11 16:37:18.007 \u001b[0m\u001b[32m[39/start/139 (pid 2472)] \u001b[0m\u001b[1mTask is starting.\u001b[0m\n",
            "\u001b[35m2022-08-11 16:37:24.639 \u001b[0m\u001b[32m[39/start/139 (pid 2472)] \u001b[0m\u001b[22mflow name: dbtFlow\u001b[0m\n",
            "\u001b[35m2022-08-11 16:37:24.639 \u001b[0m\u001b[32m[39/start/139 (pid 2472)] \u001b[0m\u001b[22mrun id: 39\u001b[0m\n",
            "\u001b[35m2022-08-11 16:37:24.639 \u001b[0m\u001b[32m[39/start/139 (pid 2472)] \u001b[0m\u001b[22musername: sparshagarwal\u001b[0m\n",
            "\u001b[35m2022-08-11 16:37:24.640 \u001b[0m\u001b[32m[39/start/139 (pid 2472)] \u001b[0m\u001b[22mNone\u001b[0m\n",
            "\u001b[35m2022-08-11 16:37:27.414 \u001b[0m\u001b[32m[39/start/139 (pid 2472)] \u001b[0m\u001b[22m{'CURRENT_VERSION()': '6.27.0'}\u001b[0m\n",
            "\u001b[35m2022-08-11 16:37:36.085 \u001b[0m\u001b[32m[39/start/139 (pid 2472)] \u001b[0m\u001b[1mTask finished successfully.\u001b[0m\n",
            "\u001b[35m2022-08-11 16:37:39.361 \u001b[0m\u001b[32m[39/run_transformation/140 (pid 2507)] \u001b[0m\u001b[1mTask is starting.\u001b[0m\n",
            "\u001b[35m2022-08-11 16:37:45.140 \u001b[0m\u001b[32m[39/run_transformation/140 (pid 2507)] \u001b[0m\u001b[22mdir is /content/src, dbt command is: dbt run --vars '{SF_SCHEMA: POST_MODERN_DATA_STACK, SF_TABLE: COVEO_DATASET_RAW}' --profiles-dir .\u001b[0m\n",
            "\u001b[35m2022-08-11 16:37:49.131 \u001b[0m\u001b[32m[39/run_transformation/140 (pid 2507)] \u001b[0m\u001b[22m\u001b[0m16:37:49  Running with dbt=1.2.0\u001b[0m\n",
            "\u001b[35m2022-08-11 16:37:49.180 \u001b[0m\u001b[32m[39/run_transformation/140 (pid 2507)] \u001b[0m\u001b[22m\u001b[0m16:37:49  Unable to do partial parsing because a project config has changed\u001b[0m\n",
            "\u001b[35m2022-08-11 16:37:50.123 \u001b[0m\u001b[32m[39/run_transformation/140 (pid 2507)] \u001b[0m\u001b[22m\u001b[0m16:37:50  Found 2 models, 2 tests, 0 snapshots, 0 analyses, 267 macros, 0 operations, 0 seed files, 0 sources, 0 exposures, 0 metrics\u001b[0m\n",
            "\u001b[35m2022-08-11 16:37:50.126 \u001b[0m\u001b[32m[39/run_transformation/140 (pid 2507)] \u001b[0m\u001b[22m\u001b[0m16:37:50\u001b[0m\n",
            "\u001b[35m2022-08-11 16:37:53.941 \u001b[0m\u001b[32m[39/run_transformation/140 (pid 2507)] \u001b[0m\u001b[22m\u001b[0m16:37:53  Concurrency: 1000 threads (target='dev')\u001b[0m\n",
            "\u001b[35m2022-08-11 16:37:53.942 \u001b[0m\u001b[32m[39/run_transformation/140 (pid 2507)] \u001b[0m\u001b[22m\u001b[0m16:37:53\u001b[0m\n",
            "\u001b[35m2022-08-11 16:37:54.104 \u001b[0m\u001b[32m[39/run_transformation/140 (pid 2507)] \u001b[0m\u001b[22m\u001b[0m16:37:54  1 of 2 START view model POST_MODERN_DATA_STACK.shopping_events_exploded ........ [RUN]\u001b[0m\n",
            "\u001b[35m2022-08-11 16:37:56.189 \u001b[0m\u001b[32m[39/run_transformation/140 (pid 2507)] \u001b[0m\u001b[22m\u001b[0m16:37:56  1 of 2 OK created view model POST_MODERN_DATA_STACK.shopping_events_exploded ... [\u001b[32mSUCCESS 1\u001b[0m in 2.08s]\u001b[0m\n",
            "\u001b[35m2022-08-11 16:37:56.192 \u001b[0m\u001b[32m[39/run_transformation/140 (pid 2507)] \u001b[0m\u001b[22m\u001b[0m16:37:56  2 of 2 START view model POST_MODERN_DATA_STACK.nep_session_events .............. [RUN]\u001b[0m\n",
            "\u001b[35m2022-08-11 16:37:58.083 \u001b[0m\u001b[32m[39/run_transformation/140 (pid 2507)] \u001b[0m\u001b[22m\u001b[0m16:37:58  2 of 2 OK created view model POST_MODERN_DATA_STACK.nep_session_events ......... [\u001b[32mSUCCESS 1\u001b[0m in 1.89s]\u001b[0m\n",
            "\u001b[35m2022-08-11 16:37:58.133 \u001b[0m\u001b[32m[39/run_transformation/140 (pid 2507)] \u001b[0m\u001b[22m\u001b[0m16:37:58\u001b[0m\n",
            "\u001b[35m2022-08-11 16:37:58.134 \u001b[0m\u001b[32m[39/run_transformation/140 (pid 2507)] \u001b[0m\u001b[22m\u001b[0m16:37:58  Finished running 2 view models in 0 hours 0 minutes and 8.01 seconds (8.01s).\u001b[0m\n",
            "\u001b[35m2022-08-11 16:37:58.145 \u001b[0m\u001b[32m[39/run_transformation/140 (pid 2507)] \u001b[0m\u001b[22m\u001b[0m16:37:58\u001b[0m\n",
            "\u001b[35m2022-08-11 16:37:58.146 \u001b[0m\u001b[32m[39/run_transformation/140 (pid 2507)] \u001b[0m\u001b[22m\u001b[0m16:37:58  \u001b[32mCompleted successfully\u001b[0m\u001b[0m\n",
            "\u001b[35m2022-08-11 16:37:58.147 \u001b[0m\u001b[32m[39/run_transformation/140 (pid 2507)] \u001b[0m\u001b[22m\u001b[0m16:37:58\u001b[0m\n",
            "\u001b[35m2022-08-11 16:37:58.148 \u001b[0m\u001b[32m[39/run_transformation/140 (pid 2507)] \u001b[0m\u001b[22m\u001b[0m16:37:58  Done. PASS=2 WARN=0 ERROR=0 SKIP=0 TOTAL=2\u001b[0m\n",
            "\u001b[35m2022-08-11 16:37:59.445 \u001b[0m\u001b[32m[39/run_transformation/140 (pid 2507)] \u001b[0m\u001b[22m/content/src/dbt/target/manifest.json\u001b[0m\n",
            "\u001b[35m2022-08-11 16:37:59.446 \u001b[0m\u001b[32m[39/run_transformation/140 (pid 2507)] \u001b[0m\u001b[22mEnd node is: model.coveo_dataset_playground.nep_session_events\u001b[0m\n",
            "\u001b[35m2022-08-11 16:37:59.447 \u001b[0m\u001b[32m[39/run_transformation/140 (pid 2507)] \u001b[0m\u001b[22m{'start': {'type': 'start', 'box_next': True, 'box_ends': None, 'next': ['model.coveo_dataset_playground.shopping_events_exploded'], 'doc': 'Start!'}, 'end': {'type': 'end', 'box_next': True, 'box_ends': None, 'next': [], 'doc': 'See you, dbt cowboy'}, 'model.coveo_dataset_playground.shopping_events_exploded': {'type': 'linear', 'box_next': True, 'box_ends': None, 'next': ['model.coveo_dataset_playground.nep_session_events'], 'doc': 'Map shopping data in JSON to a fully flat structure'}, 'model.coveo_dataset_playground.nep_session_events': {'type': 'linear', 'box_next': True, 'box_ends': None, 'next': ['end'], 'doc': 'Map flat rows into arrays of user-product interaction for training'}}\u001b[0m\n",
            "\u001b[35m2022-08-11 16:38:12.363 \u001b[0m\u001b[32m[39/run_transformation/140 (pid 2507)] \u001b[0m\u001b[1mTask finished successfully.\u001b[0m\n",
            "\u001b[35m2022-08-11 16:38:15.472 \u001b[0m\u001b[32m[39/get_dataset/141 (pid 3567)] \u001b[0m\u001b[1mTask is starting.\u001b[0m\n",
            "\u001b[35m2022-08-11 16:38:24.382 \u001b[0m\u001b[32m[39/get_dataset/141 (pid 3567)] \u001b[0m\u001b[22mQuery to be exectued:\u001b[0m\n",
            "\u001b[35m2022-08-11 16:38:28.342 \u001b[0m\u001b[32m[39/get_dataset/141 (pid 3567)] \u001b[0m\u001b[22mSELECT\u001b[0m\n",
            "\u001b[35m2022-08-11 16:38:28.343 \u001b[0m\u001b[32m[39/get_dataset/141 (pid 3567)] \u001b[0m\u001b[22mse.\"INTERACTIONS\"\u001b[0m\n",
            "\u001b[35m2022-08-11 16:38:28.343 \u001b[0m\u001b[32m[39/get_dataset/141 (pid 3567)] \u001b[0m\u001b[22mFROM\u001b[0m\n",
            "\u001b[35m2022-08-11 16:38:28.343 \u001b[0m\u001b[32m[39/get_dataset/141 (pid 3567)] \u001b[0m\u001b[22mdbt.POST_MODERN_DATA_STACK.NEP_SESSION_EVENTS as se\u001b[0m\n",
            "\u001b[35m2022-08-11 16:38:28.343 \u001b[0m\u001b[32m[39/get_dataset/141 (pid 3567)] \u001b[0m\u001b[22mWHERE\u001b[0m\n",
            "\u001b[35m2022-08-11 16:38:28.343 \u001b[0m\u001b[32m[39/get_dataset/141 (pid 3567)] \u001b[0m\u001b[22mse.\"API_KEY\"= %(api_key)s\u001b[0m\n",
            "\u001b[35m2022-08-11 16:38:28.343 \u001b[0m\u001b[32m[39/get_dataset/141 (pid 3567)] \u001b[0m\u001b[22mAND se.\"SESSION_DATE\" > %(start_date)s\u001b[0m\n",
            "\u001b[35m2022-08-11 16:38:28.343 \u001b[0m\u001b[32m[39/get_dataset/141 (pid 3567)] \u001b[0m\u001b[22mAND se.\"SESSION_DATE\" <= %(end_date)s\u001b[0m\n",
            "\u001b[35m2022-08-11 16:38:28.344 \u001b[0m\u001b[32m[39/get_dataset/141 (pid 3567)] \u001b[0m\u001b[22mAND ARRAY_SIZE(se.\"INTERACTIONS\") > 2 -- we only retrieve sessions longer than 2 events\u001b[0m\n",
            "\u001b[35m2022-08-11 16:38:28.344 \u001b[0m\u001b[32m[39/get_dataset/141 (pid 3567)] \u001b[0m\u001b[22mORDER BY se.\"SESSION_DATE\" ASC -- sessions are ordered!\u001b[0m\n",
            "\u001b[35m2022-08-11 16:38:28.344 \u001b[0m\u001b[32m[39/get_dataset/141 (pid 3567)] \u001b[0m\u001b[22m\u001b[0m\n",
            "\u001b[35m2022-08-11 16:38:28.344 \u001b[0m\u001b[32m[39/get_dataset/141 (pid 3567)] \u001b[0m\u001b[22mSF debug: # rows 989, first {'INTERACTIONS': '[\\n  \"93555a452ff78af1b7a27201572d0da9c69767d869dc9242cd4010f677312255\",\\n  \"a8b5c56ab4d9074577bc5abc955369c1aab1661de1ea49ea2b9074766b395ddc\",\\n  \"0ca2c75406e9187bf6036a419fbb9b3bc8331192ce21baffe422ca191ab73373\"\\n]'}\u001b[0m\n",
            "\u001b[35m2022-08-11 16:38:28.347 \u001b[0m\u001b[32m[39/get_dataset/141 (pid 3567)] \u001b[0m\u001b[22mSplit index is 890\u001b[0m\n",
            "\u001b[35m2022-08-11 16:38:28.347 \u001b[0m\u001b[32m[39/get_dataset/141 (pid 3567)] \u001b[0m\u001b[22m# 890 events in the training set, # 99 in test set\u001b[0m\n",
            "\u001b[35m2022-08-11 16:38:39.645 \u001b[0m\u001b[32m[39/get_dataset/141 (pid 3567)] \u001b[0m\u001b[1mTask finished successfully.\u001b[0m\n",
            "\u001b[35m2022-08-11 16:38:43.363 \u001b[0m\u001b[32m[39/train_model/142 (pid 3637)] \u001b[0m\u001b[1mTask is starting.\u001b[0m\n",
            "\u001b[35m2022-08-11 16:39:01.213 \u001b[0m\u001b[32m[39/train_model/142 (pid 3637)] \u001b[0m\u001b[22mCOMET ERROR: Failed to calculate active processors count. Fall back to default CPU count 1\u001b[0m\n",
            "\u001b[35m2022-08-11 16:39:02.010 \u001b[0m\u001b[32m[39/train_model/142 (pid 3637)] \u001b[0m\u001b[22mCOMET INFO: Couldn't find a Git repository in '/content/src' nor in any parent directory. You can override where Comet is looking for a Git Patch by setting the configuration `COMET_GIT_DIRECTORY`\u001b[0m\n",
            "\u001b[35m2022-08-11 16:39:02.322 \u001b[0m\u001b[32m[39/train_model/142 (pid 3637)] \u001b[0m\u001b[22mCOMET INFO: Experiment is live on comet.ml https://www.comet.com/sparsh-ai/my-lstm-recs/59702ee161474ce19c72807749a4538a\u001b[0m\n",
            "\u001b[35m2022-08-11 16:39:03.918 \u001b[0m\u001b[32m[39/train_model/142 (pid 3637)] \u001b[0m\u001b[22mNUMBER OF SESSIONS : 890\u001b[0m\n",
            "\u001b[35m2022-08-11 16:39:03.919 \u001b[0m\u001b[32m[39/train_model/142 (pid 3637)] \u001b[0m\u001b[22mFirst 3 x: [[  0   0   0   0   0   0   0   0   0   0   0   0   0   0   0   0   0   0\u001b[0m\n",
            "\u001b[35m2022-08-11 16:39:03.920 \u001b[0m\u001b[32m[39/train_model/142 (pid 3637)] \u001b[0m\u001b[22m164 356]\u001b[0m\n",
            "\u001b[35m2022-08-11 16:39:03.920 \u001b[0m\u001b[32m[39/train_model/142 (pid 3637)] \u001b[0m\u001b[22m[  0   0   0   0   0   0   0   0   0   0   0   0   0   0   0   0   0 550\u001b[0m\n",
            "\u001b[35m2022-08-11 16:39:03.920 \u001b[0m\u001b[32m[39/train_model/142 (pid 3637)] \u001b[0m\u001b[22m551 959]\u001b[0m\n",
            "\u001b[35m2022-08-11 16:39:03.920 \u001b[0m\u001b[32m[39/train_model/142 (pid 3637)] \u001b[0m\u001b[22m[  0   0 960  74 130 165 166  74 130  74 130  74 166  74 166 130 166  74\u001b[0m\n",
            "\u001b[35m2022-08-11 16:39:03.920 \u001b[0m\u001b[32m[39/train_model/142 (pid 3637)] \u001b[0m\u001b[22m165  74]]\u001b[0m\n",
            "\u001b[35m2022-08-11 16:39:03.921 \u001b[0m\u001b[32m[39/train_model/142 (pid 3637)] \u001b[0m\u001b[22mFirst 3 y: [ 62 550 960]\u001b[0m\n",
            "\u001b[35m2022-08-11 16:39:04.091 \u001b[0m\u001b[32m[39/train_model/142 (pid 3637)] \u001b[0m\u001b[22m\u001b[0m\n",
            "\u001b[35m2022-08-11 16:39:04.091 \u001b[0m\u001b[32m[39/train_model/142 (pid 3637)] \u001b[0m\u001b[22m2022-08-11 16:39:04.090204: E tensorflow/stream_executor/cuda/cuda_driver.cc:271] failed call to cuInit: CUDA_ERROR_NO_DEVICE: no CUDA-capable device is detected\u001b[0m\n",
            "\u001b[35m2022-08-11 16:39:05.544 \u001b[0m\u001b[32m[39/train_model/142 (pid 3637)] \u001b[0m\u001b[22mModel: \"sequential\"\u001b[0m\n",
            "\u001b[35m2022-08-11 16:39:05.545 \u001b[0m\u001b[32m[39/train_model/142 (pid 3637)] \u001b[0m\u001b[22m_________________________________________________________________\u001b[0m\n",
            "\u001b[35m2022-08-11 16:39:05.545 \u001b[0m\u001b[32m[39/train_model/142 (pid 3637)] \u001b[0m\u001b[22mLayer (type)                Output Shape              Param #\u001b[0m\n",
            "\u001b[35m2022-08-11 16:39:05.545 \u001b[0m\u001b[32m[39/train_model/142 (pid 3637)] \u001b[0m\u001b[22m=================================================================\u001b[0m\n",
            "\u001b[35m2022-08-11 16:39:05.545 \u001b[0m\u001b[32m[39/train_model/142 (pid 3637)] \u001b[0m\u001b[22membedding (Embedding)       (None, 20, 32)            64672\u001b[0m\n",
            "\u001b[35m2022-08-11 16:39:05.625 \u001b[0m\u001b[32m[39/train_model/142 (pid 3637)] \u001b[0m\u001b[22mCOMET INFO: Ignoring automatic log_parameter('verbose') because 'keras:verbose' is in COMET_LOGGING_PARAMETERS_IGNORE\u001b[0m\n",
            "\u001b[35m2022-08-11 16:39:05.802 \u001b[0m\u001b[32m[39/train_model/142 (pid 3637)] \u001b[0m\u001b[22m\u001b[0m\n",
            "\u001b[35m2022-08-11 16:39:05.803 \u001b[0m\u001b[32m[39/train_model/142 (pid 3637)] \u001b[0m\u001b[22mdropout (Dropout)           (None, 20, 32)            0\u001b[0m\n",
            "\u001b[35m2022-08-11 16:39:05.803 \u001b[0m\u001b[32m[39/train_model/142 (pid 3637)] \u001b[0m\u001b[22m\u001b[0m\n",
            "\u001b[35m2022-08-11 16:39:05.803 \u001b[0m\u001b[32m[39/train_model/142 (pid 3637)] \u001b[0m\u001b[22mlstm (LSTM)                 (None, 32)                8320\u001b[0m\n",
            "\u001b[35m2022-08-11 16:39:05.803 \u001b[0m\u001b[32m[39/train_model/142 (pid 3637)] \u001b[0m\u001b[22m\u001b[0m\n",
            "\u001b[35m2022-08-11 16:39:05.803 \u001b[0m\u001b[32m[39/train_model/142 (pid 3637)] \u001b[0m\u001b[22mdense (Dense)               (None, 2020)              66660\u001b[0m\n",
            "\u001b[35m2022-08-11 16:39:05.803 \u001b[0m\u001b[32m[39/train_model/142 (pid 3637)] \u001b[0m\u001b[22m\u001b[0m\n",
            "\u001b[35m2022-08-11 16:39:05.804 \u001b[0m\u001b[32m[39/train_model/142 (pid 3637)] \u001b[0m\u001b[22m=================================================================\u001b[0m\n",
            "\u001b[35m2022-08-11 16:39:05.804 \u001b[0m\u001b[32m[39/train_model/142 (pid 3637)] \u001b[0m\u001b[22mTotal params: 139,652\u001b[0m\n",
            "\u001b[35m2022-08-11 16:39:05.804 \u001b[0m\u001b[32m[39/train_model/142 (pid 3637)] \u001b[0m\u001b[22mTrainable params: 139,652\u001b[0m\n",
            "\u001b[35m2022-08-11 16:39:05.804 \u001b[0m\u001b[32m[39/train_model/142 (pid 3637)] \u001b[0m\u001b[22mNon-trainable params: 0\u001b[0m\n",
            "\u001b[35m2022-08-11 16:39:05.804 \u001b[0m\u001b[32m[39/train_model/142 (pid 3637)] \u001b[0m\u001b[22m_________________________________________________________________\u001b[0m\n",
            "\u001b[35m2022-08-11 16:39:05.804 \u001b[0m\u001b[32m[39/train_model/142 (pid 3637)] \u001b[0m\u001b[22mEpoch 1/100\u001b[0m\n",
            "\u001b[35m2022-08-11 16:39:13.144 \u001b[0m\u001b[32m[39/train_model/142 (pid 3637)] \u001b[0m\u001b[22m23/23 - 7s - loss: 7.6101 - acc: 0.0000e+00 - val_loss: 7.6092 - val_acc: 0.0112 - 7s/epoch - 319ms/step\u001b[0m\n",
            "\u001b[35m2022-08-11 16:39:13.148 \u001b[0m\u001b[32m[39/train_model/142 (pid 3637)] \u001b[0m\u001b[22mEpoch 2/100\u001b[0m\n",
            "\u001b[35m2022-08-11 16:39:13.623 \u001b[0m\u001b[32m[39/train_model/142 (pid 3637)] \u001b[0m\u001b[22m23/23 - 0s - loss: 7.5835 - acc: 0.0183 - val_loss: 7.6064 - val_acc: 0.0225 - 474ms/epoch - 21ms/step\u001b[0m\n",
            "\u001b[35m2022-08-11 16:39:13.626 \u001b[0m\u001b[32m[39/train_model/142 (pid 3637)] \u001b[0m\u001b[22mEpoch 3/100\u001b[0m\n",
            "\u001b[35m2022-08-11 16:39:14.113 \u001b[0m\u001b[32m[39/train_model/142 (pid 3637)] \u001b[0m\u001b[22m23/23 - 0s - loss: 7.4836 - acc: 0.0197 - val_loss: 7.6158 - val_acc: 0.0169 - 487ms/epoch - 21ms/step\u001b[0m\n",
            "\u001b[35m2022-08-11 16:39:14.116 \u001b[0m\u001b[32m[39/train_model/142 (pid 3637)] \u001b[0m\u001b[22mEpoch 4/100\u001b[0m\n",
            "\u001b[35m2022-08-11 16:39:14.590 \u001b[0m\u001b[32m[39/train_model/142 (pid 3637)] \u001b[0m\u001b[22m23/23 - 0s - loss: 7.0895 - acc: 0.0126 - val_loss: 7.8331 - val_acc: 0.0169 - 474ms/epoch - 21ms/step\u001b[0m\n",
            "\u001b[35m2022-08-11 16:39:14.593 \u001b[0m\u001b[32m[39/train_model/142 (pid 3637)] \u001b[0m\u001b[22mEpoch 5/100\u001b[0m\n",
            "\u001b[35m2022-08-11 16:39:15.082 \u001b[0m\u001b[32m[39/train_model/142 (pid 3637)] \u001b[0m\u001b[22m23/23 - 0s - loss: 6.6647 - acc: 0.0126 - val_loss: 8.2350 - val_acc: 0.0169 - 489ms/epoch - 21ms/step\u001b[0m\n",
            "\u001b[35m2022-08-11 16:39:15.085 \u001b[0m\u001b[32m[39/train_model/142 (pid 3637)] \u001b[0m\u001b[22mEpoch 6/100\u001b[0m\n",
            "\u001b[35m2022-08-11 16:39:15.588 \u001b[0m\u001b[32m[39/train_model/142 (pid 3637)] \u001b[0m\u001b[22m23/23 - 1s - loss: 6.4481 - acc: 0.0126 - val_loss: 8.5880 - val_acc: 0.0169 - 502ms/epoch - 22ms/step\u001b[0m\n",
            "\u001b[35m2022-08-11 16:39:15.591 \u001b[0m\u001b[32m[39/train_model/142 (pid 3637)] \u001b[0m\u001b[22mEpoch 7/100\u001b[0m\n",
            "\u001b[35m2022-08-11 16:39:16.072 \u001b[0m\u001b[32m[39/train_model/142 (pid 3637)] \u001b[0m\u001b[22m23/23 - 0s - loss: 6.3473 - acc: 0.0112 - val_loss: 8.8536 - val_acc: 0.0169 - 481ms/epoch - 21ms/step\u001b[0m\n",
            "\u001b[35m2022-08-11 16:39:16.075 \u001b[0m\u001b[32m[39/train_model/142 (pid 3637)] \u001b[0m\u001b[22mEpoch 8/100\u001b[0m\n",
            "\u001b[35m2022-08-11 16:39:16.533 \u001b[0m\u001b[32m[39/train_model/142 (pid 3637)] \u001b[0m\u001b[22m23/23 - 0s - loss: 6.2911 - acc: 0.0126 - val_loss: 9.0567 - val_acc: 0.0169 - 458ms/epoch - 20ms/step\u001b[0m\n",
            "\u001b[35m2022-08-11 16:39:16.536 \u001b[0m\u001b[32m[39/train_model/142 (pid 3637)] \u001b[0m\u001b[22mEpoch 9/100\u001b[0m\n",
            "\u001b[35m2022-08-11 16:39:17.009 \u001b[0m\u001b[32m[39/train_model/142 (pid 3637)] \u001b[0m\u001b[22m23/23 - 0s - loss: 6.2529 - acc: 0.0126 - val_loss: 9.2097 - val_acc: 0.0169 - 473ms/epoch - 21ms/step\u001b[0m\n",
            "\u001b[35m2022-08-11 16:39:17.012 \u001b[0m\u001b[32m[39/train_model/142 (pid 3637)] \u001b[0m\u001b[22mEpoch 10/100\u001b[0m\n",
            "\u001b[35m2022-08-11 16:39:17.499 \u001b[0m\u001b[32m[39/train_model/142 (pid 3637)] \u001b[0m\u001b[22m23/23 - 0s - loss: 6.2210 - acc: 0.0126 - val_loss: 9.3447 - val_acc: 0.0169 - 487ms/epoch - 21ms/step\u001b[0m\n",
            "\u001b[35m2022-08-11 16:39:17.504 \u001b[0m\u001b[32m[39/train_model/142 (pid 3637)] \u001b[0m\u001b[22mEpoch 11/100\u001b[0m\n",
            "\u001b[35m2022-08-11 16:39:17.976 \u001b[0m\u001b[32m[39/train_model/142 (pid 3637)] \u001b[0m\u001b[22m23/23 - 0s - loss: 6.1915 - acc: 0.0126 - val_loss: 9.4569 - val_acc: 0.0169 - 472ms/epoch - 21ms/step\u001b[0m\n",
            "\u001b[35m2022-08-11 16:39:17.979 \u001b[0m\u001b[32m[39/train_model/142 (pid 3637)] \u001b[0m\u001b[22mEpoch 12/100\u001b[0m\n",
            "\u001b[35m2022-08-11 16:39:18.446 \u001b[0m\u001b[32m[39/train_model/142 (pid 3637)] \u001b[0m\u001b[22m23/23 - 0s - loss: 6.1651 - acc: 0.0056 - val_loss: 9.5778 - val_acc: 0.0169 - 467ms/epoch - 20ms/step\u001b[0m\n",
            "\u001b[35m2022-08-11 16:39:18.450 \u001b[0m\u001b[32m[39/train_model/142 (pid 3637)] \u001b[0m\u001b[22mEpoch 13/100\u001b[0m\n",
            "\u001b[35m2022-08-11 16:39:18.929 \u001b[0m\u001b[32m[39/train_model/142 (pid 3637)] \u001b[0m\u001b[22m23/23 - 0s - loss: 6.1390 - acc: 0.0183 - val_loss: 9.6843 - val_acc: 0.0225 - 479ms/epoch - 21ms/step\u001b[0m\n",
            "\u001b[35m2022-08-11 16:39:18.935 \u001b[0m\u001b[32m[39/train_model/142 (pid 3637)] \u001b[0m\u001b[22mEpoch 14/100\u001b[0m\n",
            "\u001b[35m2022-08-11 16:39:19.398 \u001b[0m\u001b[32m[39/train_model/142 (pid 3637)] \u001b[0m\u001b[22m23/23 - 0s - loss: 6.1178 - acc: 0.0140 - val_loss: 9.8061 - val_acc: 0.0225 - 463ms/epoch - 20ms/step\u001b[0m\n",
            "\u001b[35m2022-08-11 16:39:19.403 \u001b[0m\u001b[32m[39/train_model/142 (pid 3637)] \u001b[0m\u001b[22mEpoch 15/100\u001b[0m\n",
            "\u001b[35m2022-08-11 16:39:19.871 \u001b[0m\u001b[32m[39/train_model/142 (pid 3637)] \u001b[0m\u001b[22m23/23 - 0s - loss: 6.0940 - acc: 0.0169 - val_loss: 9.9066 - val_acc: 0.0225 - 467ms/epoch - 20ms/step\u001b[0m\n",
            "\u001b[35m2022-08-11 16:39:19.874 \u001b[0m\u001b[32m[39/train_model/142 (pid 3637)] \u001b[0m\u001b[22mEpoch 16/100\u001b[0m\n",
            "\u001b[35m2022-08-11 16:39:20.351 \u001b[0m\u001b[32m[39/train_model/142 (pid 3637)] \u001b[0m\u001b[22m23/23 - 0s - loss: 6.0702 - acc: 0.0197 - val_loss: 9.9888 - val_acc: 0.0225 - 477ms/epoch - 21ms/step\u001b[0m\n",
            "\u001b[35m2022-08-11 16:39:20.355 \u001b[0m\u001b[32m[39/train_model/142 (pid 3637)] \u001b[0m\u001b[22mEpoch 17/100\u001b[0m\n",
            "\u001b[35m2022-08-11 16:39:20.815 \u001b[0m\u001b[32m[39/train_model/142 (pid 3637)] \u001b[0m\u001b[22m23/23 - 0s - loss: 6.0484 - acc: 0.0197 - val_loss: 10.0822 - val_acc: 0.0225 - 460ms/epoch - 20ms/step\u001b[0m\n",
            "\u001b[35m2022-08-11 16:39:20.819 \u001b[0m\u001b[32m[39/train_model/142 (pid 3637)] \u001b[0m\u001b[22mEpoch 18/100\u001b[0m\n",
            "\u001b[35m2022-08-11 16:39:21.311 \u001b[0m\u001b[32m[39/train_model/142 (pid 3637)] \u001b[0m\u001b[22m23/23 - 0s - loss: 6.0278 - acc: 0.0197 - val_loss: 10.1672 - val_acc: 0.0225 - 492ms/epoch - 21ms/step\u001b[0m\n",
            "\u001b[35m2022-08-11 16:39:21.314 \u001b[0m\u001b[32m[39/train_model/142 (pid 3637)] \u001b[0m\u001b[22mEpoch 19/100\u001b[0m\n",
            "\u001b[35m2022-08-11 16:39:21.789 \u001b[0m\u001b[32m[39/train_model/142 (pid 3637)] \u001b[0m\u001b[22m23/23 - 0s - loss: 6.0071 - acc: 0.0197 - val_loss: 10.2452 - val_acc: 0.0225 - 474ms/epoch - 21ms/step\u001b[0m\n",
            "\u001b[35m2022-08-11 16:39:21.791 \u001b[0m\u001b[32m[39/train_model/142 (pid 3637)] \u001b[0m\u001b[22mEpoch 20/100\u001b[0m\n",
            "\u001b[35m2022-08-11 16:39:22.269 \u001b[0m\u001b[32m[39/train_model/142 (pid 3637)] \u001b[0m\u001b[22m23/23 - 0s - loss: 5.9874 - acc: 0.0197 - val_loss: 10.3246 - val_acc: 0.0225 - 478ms/epoch - 21ms/step\u001b[0m\n",
            "\u001b[35m2022-08-11 16:39:22.273 \u001b[0m\u001b[32m[39/train_model/142 (pid 3637)] \u001b[0m\u001b[22mEpoch 21/100\u001b[0m\n",
            "\u001b[35m2022-08-11 16:39:22.758 \u001b[0m\u001b[32m[39/train_model/142 (pid 3637)] \u001b[0m\u001b[22m23/23 - 0s - loss: 5.9672 - acc: 0.0197 - val_loss: 10.3781 - val_acc: 0.0225 - 485ms/epoch - 21ms/step\u001b[0m\n",
            "\u001b[35m2022-08-11 16:39:22.762 \u001b[0m\u001b[32m[39/train_model/142 (pid 3637)] \u001b[0m\u001b[22mEpoch 22/100\u001b[0m\n",
            "\u001b[35m2022-08-11 16:39:23.250 \u001b[0m\u001b[32m[39/train_model/142 (pid 3637)] \u001b[0m\u001b[22m23/23 - 0s - loss: 5.9464 - acc: 0.0197 - val_loss: 10.4419 - val_acc: 0.0225 - 488ms/epoch - 21ms/step\u001b[0m\n",
            "\u001b[35m2022-08-11 16:39:23.253 \u001b[0m\u001b[32m[39/train_model/142 (pid 3637)] \u001b[0m\u001b[22mCOMET INFO: ---------------------------\u001b[0m\n",
            "\u001b[35m2022-08-11 16:39:23.253 \u001b[0m\u001b[32m[39/train_model/142 (pid 3637)] \u001b[0m\u001b[22mCOMET INFO: Comet.ml Experiment Summary\u001b[0m\n",
            "\u001b[35m2022-08-11 16:39:23.254 \u001b[0m\u001b[32m[39/train_model/142 (pid 3637)] \u001b[0m\u001b[22mCOMET INFO: ---------------------------\u001b[0m\n",
            "\u001b[35m2022-08-11 16:39:23.254 \u001b[0m\u001b[32m[39/train_model/142 (pid 3637)] \u001b[0m\u001b[22mCOMET INFO:   Data:\u001b[0m\n",
            "\u001b[35m2022-08-11 16:39:23.254 \u001b[0m\u001b[32m[39/train_model/142 (pid 3637)] \u001b[0m\u001b[22mCOMET INFO:     display_summary_level : 1\u001b[0m\n",
            "\u001b[35m2022-08-11 16:39:23.254 \u001b[0m\u001b[32m[39/train_model/142 (pid 3637)] \u001b[0m\u001b[22mCOMET INFO:     url                   : https://www.comet.com/sparsh-ai/my-lstm-recs/59702ee161474ce19c72807749a4538a\u001b[0m\n",
            "\u001b[35m2022-08-11 16:39:23.254 \u001b[0m\u001b[32m[39/train_model/142 (pid 3637)] \u001b[0m\u001b[22mCOMET INFO:   Metrics [count] (min, max):\u001b[0m\n",
            "\u001b[35m2022-08-11 16:39:23.254 \u001b[0m\u001b[32m[39/train_model/142 (pid 3637)] \u001b[0m\u001b[22mCOMET INFO:     acc [22]                 : (0.0, 0.019662922248244286)\u001b[0m\n",
            "\u001b[35m2022-08-11 16:39:23.255 \u001b[0m\u001b[32m[39/train_model/142 (pid 3637)] \u001b[0m\u001b[22mCOMET INFO:     batch_acc [66]           : (0.0, 0.09375)\u001b[0m\n",
            "\u001b[35m2022-08-11 16:39:23.255 \u001b[0m\u001b[32m[39/train_model/142 (pid 3637)] \u001b[0m\u001b[22mCOMET INFO:     batch_loss [66]          : (5.768431663513184, 7.610611438751221)\u001b[0m\n",
            "\u001b[35m2022-08-11 16:39:23.255 \u001b[0m\u001b[32m[39/train_model/142 (pid 3637)] \u001b[0m\u001b[22mCOMET INFO:     epoch_duration [22]      : (0.4574005959993883, 7.341845840999667)\u001b[0m\n",
            "\u001b[35m2022-08-11 16:39:23.255 \u001b[0m\u001b[32m[39/train_model/142 (pid 3637)] \u001b[0m\u001b[22mCOMET INFO:     loss [22]                : (5.946380138397217, 7.610085487365723)\u001b[0m\n",
            "\u001b[35m2022-08-11 16:39:23.255 \u001b[0m\u001b[32m[39/train_model/142 (pid 3637)] \u001b[0m\u001b[22mCOMET INFO:     val_acc [22]             : (0.01123595517128706, 0.02247191034257412)\u001b[0m\n",
            "\u001b[35m2022-08-11 16:39:23.256 \u001b[0m\u001b[32m[39/train_model/142 (pid 3637)] \u001b[0m\u001b[22mCOMET INFO:     val_loss [22]            : (7.606376647949219, 10.441853523254395)\u001b[0m\n",
            "\u001b[35m2022-08-11 16:39:23.256 \u001b[0m\u001b[32m[39/train_model/142 (pid 3637)] \u001b[0m\u001b[22mCOMET INFO:     validate_batch_acc       : 0.0\u001b[0m\n",
            "\u001b[35m2022-08-11 16:39:23.256 \u001b[0m\u001b[32m[39/train_model/142 (pid 3637)] \u001b[0m\u001b[22mCOMET INFO:     validate_batch_loss [22] : (7.602142333984375, 10.873136520385742)\u001b[0m\n",
            "\u001b[35m2022-08-11 16:39:23.257 \u001b[0m\u001b[32m[39/train_model/142 (pid 3637)] \u001b[0m\u001b[22mCOMET INFO:   Others:\u001b[0m\n",
            "\u001b[35m2022-08-11 16:39:23.257 \u001b[0m\u001b[32m[39/train_model/142 (pid 3637)] \u001b[0m\u001b[22mCOMET INFO:     trainable_params : 139652\u001b[0m\n",
            "\u001b[35m2022-08-11 16:39:23.257 \u001b[0m\u001b[32m[39/train_model/142 (pid 3637)] \u001b[0m\u001b[22mCOMET INFO:   Parameters:\u001b[0m\n",
            "\u001b[35m2022-08-11 16:39:23.258 \u001b[0m\u001b[32m[39/train_model/142 (pid 3637)] \u001b[0m\u001b[22mCOMET INFO:     Adam_amsgrad       : False\u001b[0m\n",
            "\u001b[35m2022-08-11 16:39:23.258 \u001b[0m\u001b[32m[39/train_model/142 (pid 3637)] \u001b[0m\u001b[22mCOMET INFO:     Adam_beta_1        : 0.9\u001b[0m\n",
            "\u001b[35m2022-08-11 16:39:23.258 \u001b[0m\u001b[32m[39/train_model/142 (pid 3637)] \u001b[0m\u001b[22mCOMET INFO:     Adam_beta_2        : 0.999\u001b[0m\n",
            "\u001b[35m2022-08-11 16:39:23.259 \u001b[0m\u001b[32m[39/train_model/142 (pid 3637)] \u001b[0m\u001b[22mCOMET INFO:     Adam_decay         : 0.0\u001b[0m\n",
            "\u001b[35m2022-08-11 16:39:23.259 \u001b[0m\u001b[32m[39/train_model/142 (pid 3637)] \u001b[0m\u001b[22mCOMET INFO:     Adam_epsilon       : 1e-07\u001b[0m\n",
            "\u001b[35m2022-08-11 16:39:23.260 \u001b[0m\u001b[32m[39/train_model/142 (pid 3637)] \u001b[0m\u001b[22mCOMET INFO:     Adam_learning_rate : 0.001\u001b[0m\n",
            "\u001b[35m2022-08-11 16:39:23.260 \u001b[0m\u001b[32m[39/train_model/142 (pid 3637)] \u001b[0m\u001b[22mCOMET INFO:     Adam_name          : Adam\u001b[0m\n",
            "\u001b[35m2022-08-11 16:39:23.261 \u001b[0m\u001b[32m[39/train_model/142 (pid 3637)] \u001b[0m\u001b[22mCOMET INFO:     DROPOUT            : 0.3\u001b[0m\n",
            "\u001b[35m2022-08-11 16:39:23.261 \u001b[0m\u001b[32m[39/train_model/142 (pid 3637)] \u001b[0m\u001b[22mCOMET INFO:     EMBEDDING_DIM      : 32\u001b[0m\n",
            "\u001b[35m2022-08-11 16:39:23.261 \u001b[0m\u001b[32m[39/train_model/142 (pid 3637)] \u001b[0m\u001b[22mCOMET INFO:     LEARNING_RATE      : 0.001\u001b[0m\n",
            "\u001b[35m2022-08-11 16:39:23.261 \u001b[0m\u001b[32m[39/train_model/142 (pid 3637)] \u001b[0m\u001b[22mCOMET INFO:     LSTM_HIDDEN_DIM    : 32\u001b[0m\n",
            "\u001b[35m2022-08-11 16:39:23.262 \u001b[0m\u001b[32m[39/train_model/142 (pid 3637)] \u001b[0m\u001b[22mCOMET INFO:     MAX_LEN            : 20\u001b[0m\n",
            "\u001b[35m2022-08-11 16:39:23.262 \u001b[0m\u001b[32m[39/train_model/142 (pid 3637)] \u001b[0m\u001b[22mCOMET INFO:     epochs             : 100\u001b[0m\n",
            "\u001b[35m2022-08-11 16:39:23.263 \u001b[0m\u001b[32m[39/train_model/142 (pid 3637)] \u001b[0m\u001b[22mCOMET INFO:     steps              : 23\u001b[0m\n",
            "\u001b[35m2022-08-11 16:39:23.263 \u001b[0m\u001b[32m[39/train_model/142 (pid 3637)] \u001b[0m\u001b[22mCOMET INFO:   Uploads:\u001b[0m\n",
            "\u001b[35m2022-08-11 16:39:23.263 \u001b[0m\u001b[32m[39/train_model/142 (pid 3637)] \u001b[0m\u001b[22mCOMET INFO:     environment details : 1\u001b[0m\n",
            "\u001b[35m2022-08-11 16:39:23.264 \u001b[0m\u001b[32m[39/train_model/142 (pid 3637)] \u001b[0m\u001b[22mCOMET INFO:     filename            : 1\u001b[0m\n",
            "\u001b[35m2022-08-11 16:39:23.264 \u001b[0m\u001b[32m[39/train_model/142 (pid 3637)] \u001b[0m\u001b[22mCOMET INFO:     installed packages  : 1\u001b[0m\n",
            "\u001b[35m2022-08-11 16:39:23.264 \u001b[0m\u001b[32m[39/train_model/142 (pid 3637)] \u001b[0m\u001b[22mCOMET INFO:     model graph         : 1\u001b[0m\n",
            "\u001b[35m2022-08-11 16:39:23.265 \u001b[0m\u001b[32m[39/train_model/142 (pid 3637)] \u001b[0m\u001b[22mCOMET INFO:     os packages         : 1\u001b[0m\n",
            "\u001b[35m2022-08-11 16:39:23.265 \u001b[0m\u001b[32m[39/train_model/142 (pid 3637)] \u001b[0m\u001b[22mCOMET INFO:     source_code         : 1 (20.89 KB)\u001b[0m\n",
            "\u001b[35m2022-08-11 16:39:23.973 \u001b[0m\u001b[32m[39/train_model/142 (pid 3637)] \u001b[0m\u001b[22mCOMET INFO: ---------------------------\u001b[0m\n",
            "\u001b[35m2022-08-11 16:39:23.974 \u001b[0m\u001b[32m[39/train_model/142 (pid 3637)] \u001b[0m\u001b[22mCOMET INFO: Uploading metrics, params, and assets to Comet before program termination (may take several seconds)\u001b[0m\n",
            "\u001b[35m2022-08-11 16:39:41.153 \u001b[0m\u001b[32m[39/train_model/142 (pid 3637)] \u001b[0m\u001b[22mCOMET INFO: The Python SDK has 3600 seconds to finish before aborting...\u001b[0m\n",
            "\u001b[35m2022-08-11 16:39:41.153 \u001b[0m\u001b[32m[39/train_model/142 (pid 3637)] \u001b[0m\u001b[22mCOMET INFO: Uploading 1 metrics, params and output messages\u001b[0m\n",
            "\u001b[35m2022-08-11 16:39:43.975 \u001b[0m\u001b[32m[39/train_model/142 (pid 3637)] \u001b[0m\u001b[1mTask finished successfully.\u001b[0m\n",
            "\u001b[35m2022-08-11 16:39:47.916 \u001b[0m\u001b[32m[39/test_model/143 (pid 3848)] \u001b[0m\u001b[1mTask is starting.\u001b[0m\n",
            "\u001b[35m2022-08-11 16:39:59.332 \u001b[0m\u001b[32m[39/test_model/143 (pid 3848)] \u001b[0m\u001b[22m2022-08-11 16:39:59.332538: E tensorflow/stream_executor/cuda/cuda_driver.cc:271] failed call to cuInit: CUDA_ERROR_NO_DEVICE: no CUDA-capable device is detected\u001b[0m\n",
            "1/1 [==============================] - 1s 1s/step\u001b[0m\n",
            "\u001b[35m2022-08-11 16:40:02.441 \u001b[0m\u001b[32m[39/test_model/143 (pid 3848)] \u001b[0m\u001b[22m============= TEST RESULTS ===============\u001b[0m\n",
            "\u001b[35m2022-08-11 16:40:02.441 \u001b[0m\u001b[32m[39/test_model/143 (pid 3848)] \u001b[0m\u001b[22mTest Type        : stats\u001b[0m\n",
            "\u001b[35m2022-08-11 16:40:02.442 \u001b[0m\u001b[32m[39/test_model/143 (pid 3848)] \u001b[0m\u001b[22mTest Description : Basic statistics on training, test and prediction data\u001b[0m\n",
            "\u001b[35m2022-08-11 16:40:02.442 \u001b[0m\u001b[32m[39/test_model/143 (pid 3848)] \u001b[0m\u001b[22mTest Result      : {'training_set__size': 890, 'test_set_size': 99, 'num_non_null_predictions': 99}\u001b[0m\n",
            "\u001b[35m2022-08-11 16:40:02.442 \u001b[0m\u001b[32m[39/test_model/143 (pid 3848)] \u001b[0m\u001b[22m\u001b[0m\n",
            "\u001b[35m2022-08-11 16:40:02.442 \u001b[0m\u001b[32m[39/test_model/143 (pid 3848)] \u001b[0m\u001b[22m============= TEST RESULTS ===============\u001b[0m\n",
            "\u001b[35m2022-08-11 16:40:13.967 \u001b[0m\u001b[32m[39/test_model/143 (pid 3848)] \u001b[0m\u001b[22mTest Type        : HR@10\u001b[0m\n",
            "\u001b[35m2022-08-11 16:40:13.967 \u001b[0m\u001b[32m[39/test_model/143 (pid 3848)] \u001b[0m\u001b[22mTest Description : Compute the rate in which the top-k predictions contain the item to be predicted\u001b[0m\n",
            "\u001b[35m2022-08-11 16:40:13.968 \u001b[0m\u001b[32m[39/test_model/143 (pid 3848)] \u001b[0m\u001b[22mTest Result      : 0.050505050505050504\u001b[0m\n",
            "\u001b[35m2022-08-11 16:40:13.968 \u001b[0m\u001b[32m[39/test_model/143 (pid 3848)] \u001b[0m\u001b[22m\u001b[0m\n",
            "\u001b[35m2022-08-11 16:40:13.968 \u001b[0m\u001b[32m[39/test_model/143 (pid 3848)] \u001b[0m\u001b[22mGenerating reports at 2022-08-11 16:40:02.441720\u001b[0m\n",
            "\u001b[35m2022-08-11 16:40:16.781 \u001b[0m\u001b[32m[39/test_model/143 (pid 3848)] \u001b[0m\u001b[1mTask finished successfully.\u001b[0m\n",
            "\u001b[35m2022-08-11 16:40:20.716 \u001b[0m\u001b[32m[39/deploy_model/144 (pid 3920)] \u001b[0m\u001b[1mTask is starting.\u001b[0m\n",
            "\u001b[35m2022-08-11 16:40:30.029 \u001b[0m\u001b[32m[39/deploy_model/144 (pid 3920)] \u001b[0m\u001b[22mSkipping deployment to Sagemaker\u001b[0m\n",
            "\u001b[35m2022-08-11 16:40:39.653 \u001b[0m\u001b[32m[39/deploy_model/144 (pid 3920)] \u001b[0m\u001b[1mTask finished successfully.\u001b[0m\n",
            "\u001b[35m2022-08-11 16:40:42.796 \u001b[0m\u001b[32m[39/end/145 (pid 3955)] \u001b[0m\u001b[1mTask is starting.\u001b[0m\n",
            "\u001b[35m2022-08-11 16:40:49.457 \u001b[0m\u001b[32m[39/end/145 (pid 3955)] \u001b[0m\u001b[22mAll done\u001b[0m\n",
            "\u001b[35m2022-08-11 16:40:49.457 \u001b[0m\u001b[32m[39/end/145 (pid 3955)] \u001b[0m\u001b[22m\u001b[0m\n",
            "\u001b[35m2022-08-11 16:40:49.457 \u001b[0m\u001b[32m[39/end/145 (pid 3955)] \u001b[0m\u001b[22mSee you, space cowboy\u001b[0m\n",
            "\u001b[35m2022-08-11 16:40:49.457 \u001b[0m\u001b[32m[39/end/145 (pid 3955)] \u001b[0m\u001b[22m\u001b[0m\n",
            "\u001b[35m2022-08-11 16:40:57.021 \u001b[0m\u001b[32m[39/end/145 (pid 3955)] \u001b[0m\u001b[1mTask finished successfully.\u001b[0m\n",
            "\u001b[35m2022-08-11 16:40:58.041 \u001b[0m\u001b[1mDone!\u001b[0m\n",
            "\u001b[0m"
          ]
        }
      ],
      "source": [
        "!cd src && python my_dbt_flow.py --package-suffixes \".py\" run --max-workers 4"
      ]
    },
    {
      "cell_type": "code",
      "execution_count": 19,
      "metadata": {
        "colab": {
          "base_uri": "https://localhost:8080/"
        },
        "id": "9dAh_y3CycM8",
        "outputId": "14a63a2d-b4aa-49ca-9cb7-d375f9dab458"
      },
      "outputs": [
        {
          "name": "stdout",
          "output_type": "stream",
          "text": [
            "\u001b[35m\u001b[1mMetaflow 2.7.6\u001b[0m\u001b[35m\u001b[22m executing \u001b[0m\u001b[31m\u001b[1mdbtFlow\u001b[0m\u001b[35m\u001b[22m\u001b[0m\u001b[35m\u001b[22m for \u001b[0m\u001b[31m\u001b[1muser:sparshagarwal\u001b[0m\u001b[35m\u001b[22m\u001b[K\u001b[0m\u001b[35m\u001b[22m\u001b[0m\n",
            "\u001b[32m\u001b[22mResolving card: dbtFlow/39/test_model/143\u001b[K\u001b[0m\u001b[32m\u001b[22m\u001b[0m\n"
          ]
        }
      ],
      "source": [
        "!cd src && python my_dbt_flow.py card view test_model --id recCard"
      ]
    }
  ],
  "metadata": {
    "colab": {
      "collapsed_sections": [],
      "name": "Untitled20.ipynb",
      "provenance": []
    },
    "kernelspec": {
      "display_name": "Python 3",
      "language": "python",
      "name": "python3"
    },
    "language_info": {
      "name": "python",
      "version": "3.9.10 (v3.9.10:f2f3f53782, Jan 13 2022, 17:02:14) \n[Clang 6.0 (clang-600.0.57)]"
    },
    "vscode": {
      "interpreter": {
        "hash": "aee8b7b246df8f9039afb4144a1f6fd8d2ca17a180786b69acc140d282b71a49"
      }
    }
  },
  "nbformat": 4,
  "nbformat_minor": 0
}
