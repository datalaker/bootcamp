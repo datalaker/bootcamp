{
 "cells": [
  {
   "cell_type": "code",
   "execution_count": 1,
   "metadata": {},
   "outputs": [],
   "source": [
    "from airflow import settings\n",
    "from airflow.models import Connection\n",
    "import boto3\n",
    "import json"
   ]
  },
  {
   "cell_type": "code",
   "execution_count": 2,
   "metadata": {},
   "outputs": [],
   "source": [
    "def get_secret(secret_name):\n",
    "    region_name = \"us-east-1\"\n",
    "    session = boto3.session.Session()\n",
    "    client = session.client(service_name='secretsmanager')\n",
    "    get_secret_value_response = client.get_secret_value(SecretId=secret_name)\n",
    "    get_secret_value_response = json.loads(get_secret_value_response['SecretString'])\n",
    "    return get_secret_value_response"
   ]
  },
  {
   "cell_type": "code",
   "execution_count": null,
   "metadata": {},
   "outputs": [],
   "source": [
    "db_credentials = get_secret(secret_name='dev/detraining/rdspostgres')\n",
    "db_credentials"
   ]
  },
  {
   "cell_type": "code",
   "execution_count": 10,
   "metadata": {},
   "outputs": [
    {
     "name": "stdout",
     "output_type": "stream",
     "text": [
      "[\u001b[34m2022-07-19 10:42:30,226\u001b[0m] {\u001b[34mcrypto.py:\u001b[0m82} WARNING\u001b[0m - empty cryptography key - values will not be stored encrypted.\u001b[0m\n"
     ]
    }
   ],
   "source": [
    "conn = Connection(\n",
    "        conn_id=\"rdspostgres\",\n",
    "        conn_type=\"postgres\",\n",
    "        host=db_credentials[\"rds_postgres_host\"],\n",
    "        login=db_credentials[\"rds_postgres_username\"],\n",
    "        password=db_credentials[\"rds_postgres_password\"],\n",
    "        port=db_credentials[\"rds_postgres_port\"])\n",
    "\n",
    "session = settings.Session() # get the session\n",
    "session.add(conn)\n",
    "session.commit() # it will insert the connection object programmatically."
   ]
  },
  {
   "cell_type": "code",
   "execution_count": null,
   "metadata": {},
   "outputs": [],
   "source": [
    "db_credentials = get_secret(secret_name='dev/detraining/redshift')"
   ]
  },
  {
   "cell_type": "code",
   "execution_count": null,
   "metadata": {},
   "outputs": [],
   "source": [
    "conn = Connection(\n",
    "        conn_id=\"redshift\",\n",
    "        conn_type=\"redshift\",\n",
    "        host=db_credentials[\"host\"],\n",
    "        login=db_credentials[\"username\"],\n",
    "        password=db_credentials[\"password\"],\n",
    "        port=db_credentials[\"port\"])\n",
    "\n",
    "session = settings.Session() # get the session\n",
    "session.add(conn)\n",
    "session.commit() # it will insert the connection object programmatically."
   ]
  }
 ],
 "metadata": {
  "kernelspec": {
   "display_name": "Python 3.9.7 ('env-spacy')",
   "language": "python",
   "name": "python3"
  },
  "language_info": {
   "codemirror_mode": {
    "name": "ipython",
    "version": 3
   },
   "file_extension": ".py",
   "mimetype": "text/x-python",
   "name": "python",
   "nbconvert_exporter": "python",
   "pygments_lexer": "ipython3",
   "version": "3.9.7"
  },
  "orig_nbformat": 4,
  "vscode": {
   "interpreter": {
    "hash": "343191058819caea96d5cde1bd3b1a75b4807623ce2cda0e1c8499e39ac847e3"
   }
  }
 },
 "nbformat": 4,
 "nbformat_minor": 2
}
