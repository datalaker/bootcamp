{
 "cells": [
  {
   "cell_type": "code",
   "execution_count": 1,
   "metadata": {},
   "outputs": [
    {
     "name": "stdout",
     "output_type": "stream",
     "text": [
      "Writing ../flows/simple_etl_pipeline.py\n"
     ]
    }
   ],
   "source": [
    "%%writefile ../flows/simple_etl_pipeline.py\n",
    "import json\n",
    "import requests\n",
    "import pandas as pd\n",
    "from datetime import datetime\n",
    "from prefect import task, flow\n",
    "\n",
    "@task\n",
    "def extract(url: str) -> dict:\n",
    "    res = requests.get(url)\n",
    "    if not res:\n",
    "        raise Exception('No data fetched!')\n",
    "    return json.loads(res.content)\n",
    "\n",
    "@task\n",
    "def transform(data: dict) -> pd.DataFrame:\n",
    "    transformed = []\n",
    "    for user in data:\n",
    "        transformed.append({\n",
    "            'ID': user['id'],\n",
    "            'Name': user['name'],\n",
    "            'Username': user['username'],\n",
    "            'Email': user['email'],\n",
    "            'Address': f\"{user['address']['street']}, {user['address']['suite']}, {user['address']['city']}\",\n",
    "            'PhoneNumber': user['phone'],\n",
    "            'Company': user['company']['name']\n",
    "        })\n",
    "    return pd.DataFrame(transformed)\n",
    "\n",
    "@task\n",
    "def load(data: pd.DataFrame, path: str) -> None:\n",
    "    data.to_csv(path_or_buf=path, index=False)\n",
    "\n",
    "@flow\n",
    "def simple_etl_pipeline(param_url='https://jsonplaceholder.typicode.com/users'):\n",
    "    users = extract(url=param_url)\n",
    "    df_users = transform(users)\n",
    "    load(data=df_users, path=f'./data/users_{int(datetime.now().timestamp())}.csv')\n",
    "    \n",
    "if __name__ == \"__main__\":\n",
    "    simple_etl_pipeline()"
   ]
  },
  {
   "cell_type": "code",
   "execution_count": null,
   "metadata": {},
   "outputs": [],
   "source": [
    "!python ../flows/simple_etl_pipeline.py"
   ]
  },
  {
   "cell_type": "code",
   "execution_count": 5,
   "metadata": {},
   "outputs": [
    {
     "name": "stdout",
     "output_type": "stream",
     "text": [
      "Overwriting ../deployments/simple_etl_pipeline_deployment.py\n"
     ]
    }
   ],
   "source": [
    "%%writefile ../deployments/simple_etl_pipeline_deployment.py\n",
    "from prefect.deployments import DeploymentSpec\n",
    "from prefect.orion.schemas.schedules import CronSchedule\n",
    "\n",
    "DeploymentSpec(\n",
    "    name=\"simple-etl-pipeline-deployment\",\n",
    "    flow_location=\"./flows/simple_etl_pipeline.py\",\n",
    "    tags=['tutorial','test'],\n",
    "    schedule=CronSchedule(cron=\"0 0 * * *\")\n",
    ")"
   ]
  },
  {
   "cell_type": "code",
   "execution_count": null,
   "metadata": {},
   "outputs": [],
   "source": [
    "# !prefect deployment create ./deployments/simple_etl_pipeline_deployment.py"
   ]
  }
 ],
 "metadata": {
  "kernelspec": {
   "display_name": "Python 3.9.7 ('env-spacy')",
   "language": "python",
   "name": "python3"
  },
  "language_info": {
   "codemirror_mode": {
    "name": "ipython",
    "version": 3
   },
   "file_extension": ".py",
   "mimetype": "text/x-python",
   "name": "python",
   "nbconvert_exporter": "python",
   "pygments_lexer": "ipython3",
   "version": "3.9.7"
  },
  "orig_nbformat": 4,
  "vscode": {
   "interpreter": {
    "hash": "343191058819caea96d5cde1bd3b1a75b4807623ce2cda0e1c8499e39ac847e3"
   }
  }
 },
 "nbformat": 4,
 "nbformat_minor": 2
}
