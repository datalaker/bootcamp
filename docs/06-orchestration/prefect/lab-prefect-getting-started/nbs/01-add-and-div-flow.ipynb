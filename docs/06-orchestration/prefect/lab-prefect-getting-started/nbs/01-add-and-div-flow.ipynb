{
 "cells": [
  {
   "cell_type": "code",
   "execution_count": 1,
   "metadata": {},
   "outputs": [],
   "source": [
    "!mkdir -p ../flows"
   ]
  },
  {
   "cell_type": "code",
   "execution_count": 5,
   "metadata": {},
   "outputs": [
    {
     "name": "stdout",
     "output_type": "stream",
     "text": [
      "Writing ../flows/add_and_div_flow_2.py\n"
     ]
    }
   ],
   "source": [
    "%%writefile ../flows/add_and_div_flow_2.py\n",
    "from prefect import task, flow\n",
    "\n",
    "@task\n",
    "def add_num(a, b):\n",
    "    return a + b\n",
    "\n",
    "@task\n",
    "def div_num(a, b):\n",
    "    return a / b\n",
    "\n",
    "@flow\n",
    "def add_and_div_flow_2(seed=100):\n",
    "    c = add_num(seed, 20)\n",
    "    d = div_num(c, 20)\n",
    "    print(d)\n",
    "    \n",
    "if __name__ == \"__main__\":\n",
    "    add_and_div_flow_2(seed=20)"
   ]
  },
  {
   "cell_type": "code",
   "execution_count": null,
   "metadata": {},
   "outputs": [],
   "source": [
    "!python --version"
   ]
  },
  {
   "cell_type": "code",
   "execution_count": 7,
   "metadata": {},
   "outputs": [
    {
     "name": "stdout",
     "output_type": "stream",
     "text": [
      "19:32:41.324 | INFO    | prefect.engine - Created flow run 'satisfied-tuna' for flow 'add-and-div-flow'\n",
      "19:32:41.324 | INFO    | Flow run 'satisfied-tuna' - Using task runner 'ConcurrentTaskRunner'\n",
      "19:32:42.066 | INFO    | Flow run 'satisfied-tuna' - Created task run 'add_num-d1ac6e45-0' for task 'add_num'\n",
      "19:32:42.129 | INFO    | Flow run 'satisfied-tuna' - Created task run 'div_num-b7d7c640-0' for task 'div_num'\n",
      "PrefectFuture('div_num-b7d7c640-0-968588e463604d5f9c78b3b388fb0405-1')\n",
      "19:32:46.531 | INFO    | Task run 'add_num-d1ac6e45-0' - Finished in state Completed()\n",
      "19:32:48.301 | INFO    | Task run 'div_num-b7d7c640-0' - Finished in state Completed()\n",
      "19:32:50.003 | INFO    | Flow run 'satisfied-tuna' - Finished in state Completed('All states completed.')\n"
     ]
    }
   ],
   "source": [
    "!python ./flows/add_and_div_flow_2.py"
   ]
  },
  {
   "cell_type": "code",
   "execution_count": 9,
   "metadata": {},
   "outputs": [
    {
     "name": "stdout",
     "output_type": "stream",
     "text": [
      "Overwriting ../deployments/add_and_div_deployment-2.py\n"
     ]
    }
   ],
   "source": [
    "%%writefile ../deployments/add_and_div_deployment-2.py\n",
    "from prefect.deployments import DeploymentSpec\n",
    "\n",
    "DeploymentSpec(\n",
    "    name=\"add-and-div-deployment-2\",\n",
    "    flow_location=\"./flows/add_and_div_flow_2.py\",\n",
    "    tags=['tutorial','test'],\n",
    "    parameters={'seed':10}\n",
    ")"
   ]
  },
  {
   "cell_type": "code",
   "execution_count": null,
   "metadata": {},
   "outputs": [],
   "source": [
    "# !prefect deployment create ./deployments/add_and_div_deployment.py"
   ]
  },
  {
   "cell_type": "code",
   "execution_count": null,
   "metadata": {},
   "outputs": [],
   "source": []
  }
 ],
 "metadata": {
  "kernelspec": {
   "display_name": "Python 3.9.7 ('env-spacy')",
   "language": "python",
   "name": "python3"
  },
  "language_info": {
   "codemirror_mode": {
    "name": "ipython",
    "version": 3
   },
   "file_extension": ".py",
   "mimetype": "text/x-python",
   "name": "python",
   "nbconvert_exporter": "python",
   "pygments_lexer": "ipython3",
   "version": "3.9.7"
  },
  "orig_nbformat": 4,
  "vscode": {
   "interpreter": {
    "hash": "343191058819caea96d5cde1bd3b1a75b4807623ce2cda0e1c8499e39ac847e3"
   }
  }
 },
 "nbformat": 4,
 "nbformat_minor": 2
}
