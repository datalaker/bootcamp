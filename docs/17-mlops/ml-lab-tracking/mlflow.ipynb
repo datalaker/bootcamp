{
 "cells": [
  {
   "attachments": {},
   "cell_type": "markdown",
   "id": "4fa2319e",
   "metadata": {},
   "source": [
    "# Introduction to MLflow"
   ]
  },
  {
   "cell_type": "markdown",
   "id": "388fbb2a",
   "metadata": {},
   "source": [
    "Similar to W&B, MLflow also provides a python API that allows tracking of hyperparameters (log_param), evaluation metrics (log_metric), and artifacts (log_artifacts)."
   ]
  },
  {
   "cell_type": "markdown",
   "id": "20e07f18",
   "metadata": {},
   "source": [
    "To install MLflow locally type: \n",
    "```bash\n",
    "pip install mlflow\n",
    "```\n",
    "To start UI type:\n",
    "```bash\n",
    "mlflow ui\n",
    "```\n",
    "Now you open your webrowser and type or copy http address that is displayed in the row \"Listening at: \" \n",
    "```\n",
    "[INFO] Listening at: http://127.0.0.1:5000\n",
    "```\n",
    "You should see MLflow UI"
   ]
  },
  {
   "attachments": {},
   "cell_type": "markdown",
   "id": "a6b2eb7f",
   "metadata": {},
   "source": [
    "![mlflow_ui](https://user-images.githubusercontent.com/62965911/221397996-ba3366f4-b2a7-4629-ac92-d2e2317975d0.png)"
   ]
  },
  {
   "cell_type": "markdown",
   "id": "caa92042",
   "metadata": {},
   "source": [
    "## Let's log some random metrics and a file artifact in our first run"
   ]
  },
  {
   "cell_type": "code",
   "execution_count": 4,
   "id": "a8ed47f1",
   "metadata": {},
   "outputs": [],
   "source": [
    "import os\n",
    "import mlflow\n",
    "from mlflow import log_metric, log_param, log_artifacts\n",
    "\n",
    "log_param(\"epochs\", 30)\n",
    "log_metric(\"custom\", 0.6)\n",
    "\n",
    "log_metric(\"custom\", 0.75) # metrics can be updated\n",
    "if not os.path.exists(\"artifact_dir\"):\n",
    "    os.makedirs(\"artifact_dir\")\n",
    "\n",
    "with open(\"artifact_dir/test.txt\", \"w\") as f:\n",
    "    f.write(\"simple example\")\n",
    "log_artifacts(\"artifact_dir\")"
   ]
  },
  {
   "attachments": {},
   "cell_type": "markdown",
   "id": "b708c50f",
   "metadata": {},
   "source": [
    "![first_exp](https://user-images.githubusercontent.com/62965911/221397995-530f7fd9-533a-45d7-8cf9-49c7f75e590f.png)"
   ]
  },
  {
   "cell_type": "markdown",
   "id": "620b8276",
   "metadata": {},
   "source": [
    " We can click on the experiment and check details. We will see that our artifact was also correctly saved"
   ]
  },
  {
   "attachments": {},
   "cell_type": "markdown",
   "id": "7a98a069",
   "metadata": {},
   "source": [
    "![first_details](https://user-images.githubusercontent.com/62965911/221397993-c1696f0f-ba48-4c86-b668-ad02fea7e711.png)"
   ]
  },
  {
   "cell_type": "code",
   "execution_count": 13,
   "id": "185daaa5",
   "metadata": {},
   "outputs": [],
   "source": [
    "mlflow.end_run()"
   ]
  },
  {
   "cell_type": "markdown",
   "id": "3d335999",
   "metadata": {},
   "source": [
    "In the example above, we created a default run without providing excplicty name. Let's have a look how we can create named runs now. \n",
    "In this example, we will create experiment called \"DLBook_1\" and then create run in that experiment called run_1."
   ]
  },
  {
   "cell_type": "code",
   "execution_count": 16,
   "id": "32253220",
   "metadata": {},
   "outputs": [],
   "source": [
    "exp_id = mlflow.create_experiment(\"DLBook_1\")\n",
    "\n",
    "exp = mlflow.get_experiment(exp_id)\n",
    "\n",
    "with mlflow.start_run(experiment_id = exp.experiment_id, run_name='run_1') as run:\n",
    "    # logging starts here\n",
    "    mlflow.set_tag('model_name', 'model1_dev')\n",
    "    log_param(\"epochs\", 30)\n",
    "    log_metric(\"custom\", 0.6)               "
   ]
  },
  {
   "attachments": {},
   "cell_type": "markdown",
   "id": "a58afa46",
   "metadata": {},
   "source": [
    "![run1](https://user-images.githubusercontent.com/62965911/221398000-a2037703-dd57-40bb-b9ed-ab6a3661d512.png)"
   ]
  },
  {
   "cell_type": "markdown",
   "id": "f32e40a9",
   "metadata": {},
   "source": [
    "MLflow allows to create child runs for your main run. It might be useful when you are working on larger projects or you are collaborating with other people. In addition, it comes handy when running hyperparameter tuning."
   ]
  },
  {
   "cell_type": "markdown",
   "id": "15bc963d",
   "metadata": {},
   "source": [
    "MlflowClient gives you needed tools to easily get information about experiments, runs, ... "
   ]
  },
  {
   "cell_type": "code",
   "execution_count": 21,
   "id": "4de9275e",
   "metadata": {},
   "outputs": [
    {
     "name": "stdout",
     "output_type": "stream",
     "text": [
      "1\n"
     ]
    }
   ],
   "source": [
    "from mlflow.tracking import MlflowClient\n",
    "client = MlflowClient()\n",
    "\n",
    "# Get experiment ID by name \n",
    "experiment = client.get_experiment_by_name(\"DLBook_1\").experiment_id\n",
    "print(experiment)"
   ]
  },
  {
   "cell_type": "code",
   "execution_count": 23,
   "id": "fde4bd82",
   "metadata": {},
   "outputs": [],
   "source": [
    "from mlflow.utils.mlflow_tags import MLFLOW_RUN_NAME\n",
    "from mlflow.utils.mlflow_tags import MLFLOW_USER\n",
    "\n",
    "# let's create parent run \"run_2\"\n",
    "parent_run = client.create_run(experiment_id=experiment,\n",
    "                              tags={MLFLOW_RUN_NAME: \"run_2\", \n",
    "                                    MLFLOW_USER:\"tpalczew\"})"
   ]
  },
  {
   "cell_type": "code",
   "execution_count": 25,
   "id": "e3f590f9",
   "metadata": {},
   "outputs": [],
   "source": [
    "client.log_param(parent_run.info.run_id, \"who\", \"parent\")\n",
    "client.log_param(parent_run.info.run_id, \"Description\", \"Our main run for set of smaller runs\")"
   ]
  },
  {
   "attachments": {},
   "cell_type": "markdown",
   "id": "500db458",
   "metadata": {},
   "source": [
    "![parent](https://user-images.githubusercontent.com/62965911/221397999-54795dbd-0f99-463a-b5d1-2ac8db021a25.png)"
   ]
  },
  {
   "cell_type": "markdown",
   "id": "57f86966",
   "metadata": {},
   "source": [
    "and now we can create a child run "
   ]
  },
  {
   "cell_type": "code",
   "execution_count": 28,
   "id": "96cc9857",
   "metadata": {},
   "outputs": [],
   "source": [
    "from mlflow.utils.mlflow_tags import MLFLOW_PARENT_RUN_ID\n",
    "\n",
    "child_run = client.create_run( experiment_id = experiment, \n",
    "                             tags={MLFLOW_RUN_NAME: \"run_2\", \n",
    "                                   MLFLOW_USER:\"tpalczew\", \n",
    "                                   MLFLOW_PARENT_RUN_ID: parent_run.info.run_id})"
   ]
  },
  {
   "cell_type": "markdown",
   "id": "6c2fd309",
   "metadata": {},
   "source": [
    "and finally we can log some information to the child run "
   ]
  },
  {
   "cell_type": "code",
   "execution_count": 29,
   "id": "d9f5dcf6",
   "metadata": {},
   "outputs": [],
   "source": [
    "client.log_param(child_run.info.run_id, 'who', 'child')\n",
    "client.log_param(child_run.info.run_id, \"run_id\", 'run_2_1')\n",
    "client.log_param(child_run.info.run_id, \"Description\", 'First subrun of run_2')"
   ]
  },
  {
   "attachments": {},
   "cell_type": "markdown",
   "id": "4fc36559",
   "metadata": {},
   "source": [
    "![subrun](https://user-images.githubusercontent.com/62965911/221398002-7dfc4b13-b451-4ca3-8444-6571ac75b2c1.png)"
   ]
  },
  {
   "cell_type": "markdown",
   "id": "c23bf185",
   "metadata": {},
   "source": [
    "## Next, let's have a look at integration of MLflow into TF Keras project"
   ]
  },
  {
   "cell_type": "markdown",
   "id": "e2433468",
   "metadata": {},
   "source": [
    "We will again use same dataset that was used in Chapter 3 and will set a dummy keras model. "
   ]
  },
  {
   "cell_type": "code",
   "execution_count": 34,
   "id": "07a22787",
   "metadata": {},
   "outputs": [
    {
     "name": "stdout",
     "output_type": "stream",
     "text": [
      "Train on 48 samples, validate on 12 samples\n",
      "Epoch 1/5\n",
      "48/48 [==============================] - 1s 24ms/sample - loss: 0.6920 - val_loss: 0.7105\n",
      "Epoch 2/5\n",
      "48/48 [==============================] - 0s 1ms/sample - loss: 0.6894 - val_loss: 0.7164\n",
      "Epoch 3/5\n",
      "48/48 [==============================] - 0s 1ms/sample - loss: 0.6868 - val_loss: 0.7207\n",
      "Epoch 4/5\n",
      "48/48 [==============================] - 0s 962us/sample - loss: 0.6858 - val_loss: 0.7162\n",
      "Epoch 5/5\n",
      "48/48 [==============================] - 0s 1ms/sample - loss: 0.6835 - val_loss: 0.7173\n",
      "WARNING:tensorflow:From /Users/tpalczew/opt/anaconda3/envs/BookML/lib/python3.7/site-packages/tensorflow_core/python/ops/resource_variable_ops.py:1781: calling BaseResourceVariable.__init__ (from tensorflow.python.ops.resource_variable_ops) with constraint is deprecated and will be removed in a future version.\n",
      "Instructions for updating:\n",
      "If using Keras pass *_constraint arguments to layers.\n"
     ]
    },
    {
     "name": "stderr",
     "output_type": "stream",
     "text": [
      "2022-08-14 23:48:43.489688: W tensorflow/python/util/util.cc:299] Sets are not currently considered sequences, but this may change in the future, so consider avoiding using them.\n"
     ]
    },
    {
     "name": "stdout",
     "output_type": "stream",
     "text": [
      "INFO:tensorflow:Assets written to: /var/folders/lr/sp74bxw50pz1ylmkv7qtlf_m0000gp/T/tmp69shqdbp/model/data/model/assets\n"
     ]
    }
   ],
   "source": [
    "import tensorflow as tf\n",
    "from tensorflow import keras\n",
    "from tensorflow.keras import layers\n",
    "import pandas as pd\n",
    "import numpy as np\n",
    "# data\n",
    "data = pd.read_csv(\"sample_google_scholar.csv\")\n",
    "data = data.dropna()\n",
    "def convert_first_ten_characters_into_tensor(data):\n",
    "    first_ten_characters = data[:10]\n",
    "    converted = [ord(char)/256 for char in first_ten_characters]\n",
    "    while len(converted) < 10:\n",
    "        converted.append(0.0)\n",
    "    return np.array(converted)\n",
    "converted_affiliation = data['affiliation'].map(convert_first_ten_characters_into_tensor)\n",
    "affiliation = np.vstack(converted_affiliation.values)\n",
    "converted_email = data['email'].str.contains('.edu')\n",
    "labels = converted_email.values\n",
    "# model \n",
    "input_shape = 10\n",
    "model = keras.Sequential(\n",
    "    [\n",
    "        keras.Input(shape=input_shape),\n",
    "        layers.Dense(128, activation=\"relu\", name=\"layer1\"),\n",
    "        layers.Dense(64, activation=\"relu\", name=\"layer2\"),\n",
    "        layers.Dense(1, activation=\"sigmoid\", name=\"layer3\"),\n",
    "    ])\n",
    "loss = tf.keras.losses.BinaryCrossentropy()\n",
    "optimizer = tf.keras.optimizers.Adam()\n",
    "model.compile(loss=loss, optimizer=optimizer)\n",
    "# model fit \n",
    "model.fit(affiliation, labels, batch_size=16, epochs=5, validation_split=0.2)\n",
    "\n",
    "# mlflow integration \n",
    "\n",
    "with mlflow.start_run() as run:\n",
    "    mlflow.keras.log_model(model, \"models\")\n"
   ]
  },
  {
   "attachments": {},
   "cell_type": "markdown",
   "id": "b1fbbb92",
   "metadata": {},
   "source": [
    "![model_artifact](https://user-images.githubusercontent.com/62965911/221397997-83fa000e-a9a7-4b25-a2f3-b25de23d16c6.png)"
   ]
  },
  {
   "cell_type": "markdown",
   "id": "25420cda",
   "metadata": {},
   "source": [
    "Worth reading: https://www.mlflow.org/docs/latest/python_api/index.html"
   ]
  },
  {
   "cell_type": "markdown",
   "id": "fdf53885",
   "metadata": {},
   "source": [
    "MLflow provides APIs for logging TensorFlow, PyTorch, Keras, Onnx, and many more framework models. It is also possible to integrate MLflow into PyTroch Lighting projects as we discuss in the book. "
   ]
  }
 ],
 "metadata": {
  "kernelspec": {
   "display_name": "Python 3.9.10 64-bit",
   "language": "python",
   "name": "python3"
  },
  "language_info": {
   "codemirror_mode": {
    "name": "ipython",
    "version": 3
   },
   "file_extension": ".py",
   "mimetype": "text/x-python",
   "name": "python",
   "nbconvert_exporter": "python",
   "pygments_lexer": "ipython3",
   "version": "3.9.10"
  },
  "vscode": {
   "interpreter": {
    "hash": "aee8b7b246df8f9039afb4144a1f6fd8d2ca17a180786b69acc140d282b71a49"
   }
  }
 },
 "nbformat": 4,
 "nbformat_minor": 5
}
