{
 "cells": [
  {
   "attachments": {},
   "cell_type": "markdown",
   "metadata": {},
   "source": [
    "#### 1\\. Union Operators: The Most Elegant Way To Merge Python Dictionaries"
   ]
  },
  {
   "attachments": {},
   "cell_type": "markdown",
   "metadata": {},
   "source": [
    "There are many approaches to merging multiple dictionaries in Python, but none of them can be described as elegant until Python 3.9 was released.\n",
    "\n",
    "For example, how can we merge the following three dictionaries before Python 3.9?\n",
    "\n",
    "One of the methods is using for loops:"
   ]
  },
  {
   "cell_type": "code",
   "execution_count": 1,
   "metadata": {},
   "outputs": [
    {
     "name": "stdout",
     "output_type": "stream",
     "text": [
      "{'New York City': 'US', 'Los Angeles': 'US', 'London': 'UK', 'Birmingham': 'UK', 'Tokyo': 'JP'}\n"
     ]
    }
   ],
   "source": [
    "cities_us = {'New York City': 'US', 'Los Angeles': 'US'}  \n",
    "cities_uk = {'London': 'UK', 'Birmingham': 'UK'}  \n",
    "cities_jp = {'Tokyo': 'JP'}  \n",
    "  \n",
    "cities = {}  \n",
    "  \n",
    "for city_dict in [cities_us, cities_uk, cities_jp]:  \n",
    "    for city, country in city_dict.items():  \n",
    "        cities[city] = country  \n",
    "  \n",
    "print(cities) "
   ]
  },
  {
   "attachments": {},
   "cell_type": "markdown",
   "metadata": {},
   "source": [
    "It’s decent, but far from elegant and Pythonic.\n",
    "\n",
    "Python 3.9 introduced the union operators, a syntax sugar that has made merging tasks super straightforward:"
   ]
  },
  {
   "cell_type": "code",
   "execution_count": 2,
   "metadata": {},
   "outputs": [
    {
     "name": "stdout",
     "output_type": "stream",
     "text": [
      "{'New York City': 'US', 'Los Angeles': 'US', 'London': 'UK', 'Birmingham': 'UK', 'Tokyo': 'JP'}\n"
     ]
    }
   ],
   "source": [
    "cities_us = {'New York City': 'US', 'Los Angeles': 'US'}  \n",
    "cities_uk = {'London': 'UK', 'Birmingham': 'UK'}  \n",
    "cities_jp = {'Tokyo': 'JP'}  \n",
    "  \n",
    "cities = cities_us | cities_uk | cities_jp  \n",
    "  \n",
    "print(cities)  "
   ]
  },
  {
   "attachments": {},
   "cell_type": "markdown",
   "metadata": {},
   "source": [
    "As the above program shows, we can just use a few pipe symbols, so-called union operators in this context, to merge as many Python dictionaries as we like.\n",
    "\n",
    "Is that possible to do an in-place merging through the union operators?"
   ]
  },
  {
   "cell_type": "code",
   "execution_count": 3,
   "metadata": {},
   "outputs": [
    {
     "name": "stdout",
     "output_type": "stream",
     "text": [
      "{'New York City': 'US', 'Los Angeles': 'US', 'London': 'UK', 'Birmingham': 'UK', 'Tokyo': 'JP'}\n"
     ]
    }
   ],
   "source": [
    "cities_us = {'New York City': 'US', 'Los Angeles': 'US'}  \n",
    "cities_uk = {'London': 'UK', 'Birmingham': 'UK'}  \n",
    "cities_jp = {'Tokyo': 'JP'}  \n",
    "  \n",
    "cities_us |= cities_uk | cities_jp  \n",
    "print(cities_us) "
   ]
  },
  {
   "attachments": {},
   "cell_type": "markdown",
   "metadata": {},
   "source": [
    "Of course, just move the union operators to the left of the equals sign, as shown in the code above."
   ]
  },
  {
   "attachments": {},
   "cell_type": "markdown",
   "metadata": {},
   "source": [
    "#### 2. Type Hints: Make Your Python Programs Type Safe"
   ]
  },
  {
   "attachments": {},
   "cell_type": "markdown",
   "metadata": {},
   "source": [
    "Dynamic typing, which means determining the type of a variable during runtime, is a key feature that makes Python flexible and convenient. However, it can also lead to hidden bugs and errors if variables are not typed properly.\n",
    "\n",
    "To address this issue, Python introduced the typing hint feature in version 3.5. It provides a way to annotate variable types in code, and modern IDE can catch type errors early for developers during the development process.\n",
    "\n",
    "For example, if we define a variable as an integer but change it to a string as follows, the IDE will highlight the unexpected code for us:\n",
    "\n",
    "![A sreenshot to show how PyCharm highlights the unexpected assignment based-on Python type hints](https://miro.medium.com/v2/resize:fit:700/0*sAtpn9ukuIBb21A2.png)"
   ]
  },
  {
   "attachments": {},
   "cell_type": "markdown",
   "metadata": {},
   "source": [
    "Besides the primitive types, there are some advanced type hint tricks as well.\n",
    "\n",
    "For instance, it is a common convention to define constants using all capital letters in Python."
   ]
  },
  {
   "cell_type": "code",
   "execution_count": 6,
   "metadata": {},
   "outputs": [],
   "source": [
    "DATABASE = 'MySQL'"
   ]
  },
  {
   "attachments": {},
   "cell_type": "markdown",
   "metadata": {},
   "source": [
    "However, it’s just a convention and no one can stop you from assigning new values to this “constant”.\n",
    "\n",
    "To improve it, we can use the `Final` type hint, which indicates that a variable is intended to be a constant value and should not be reassigned:"
   ]
  },
  {
   "cell_type": "code",
   "execution_count": 7,
   "metadata": {},
   "outputs": [],
   "source": [
    "from typing import Final\n",
    "DATABASE: Final = \"MySQL\""
   ]
  },
  {
   "attachments": {},
   "cell_type": "markdown",
   "metadata": {},
   "source": [
    "If we really change the “constant”, the IDE will remind us for sure:\n",
    "\n",
    "![An screenshot to show how PyCharm highlights the code that changes a constant](https://miro.medium.com/v2/resize:fit:700/1*Xp6dVpf-PX8a4XioFZU42A.png)\n",
    "\n",
    "PyCharm highlights the code that changes a constant"
   ]
  },
  {
   "attachments": {},
   "cell_type": "markdown",
   "metadata": {},
   "source": [
    "#### 3. F-Strings: A Pythonic String Formatting Approach"
   ]
  },
  {
   "attachments": {},
   "cell_type": "markdown",
   "metadata": {},
   "source": [
    "Python supports a few different string formatting techniques, such as the C style formatting using `%` symbols, the built-in `format()` function and f-strings.\n",
    "\n",
    "Unless you are still using older versions than Python 3.6, the f-strings are definitely the most Pythonic way to do string formatting. Because they can do all formatting tasks with minimum code, and even run expressions inside strings."
   ]
  },
  {
   "cell_type": "code",
   "execution_count": 9,
   "metadata": {},
   "outputs": [
    {
     "name": "stdout",
     "output_type": "stream",
     "text": [
      "Today is 2023-03-31 19:20:16.453708\n",
      "Today is March 31, 2023\n",
      "Today is 03-31-2023\n"
     ]
    }
   ],
   "source": [
    "from datetime import datetime  \n",
    "  \n",
    "today = datetime.today()  \n",
    "  \n",
    "print(f\"Today is {today}\")\n",
    "print(f\"Today is {today:%B %d, %Y}\")\n",
    "print(f\"Today is {today:%m-%d-%Y}\")"
   ]
  },
  {
   "attachments": {},
   "cell_type": "markdown",
   "metadata": {},
   "source": [
    "As demonstrated in the above code, there are only two things to do for using f-strings:\n",
    "\n",
    "1. Add the letter “f” before the string to indicate that it is an f-string.\n",
    "2. Use curly braces with the variable name and an optional format specifier inside the string (`{variable_name:format}`) to interpolate the variable’s value in a specific format.\n",
    "\n",
    "“Simple is better than complex.” The f-strings are a good reflection of this quote from the Zen of Python.\n",
    "\n",
    "Even more, we can directly execute an expression inside an f-string:"
   ]
  },
  {
   "cell_type": "code",
   "execution_count": 10,
   "metadata": {},
   "outputs": [
    {
     "name": "stdout",
     "output_type": "stream",
     "text": [
      "Today is 2023-03-31 19:20:56.013775\n"
     ]
    }
   ],
   "source": [
    "from datetime import datetime  \n",
    "  \n",
    "print(f\"Today is {datetime.today()}\")"
   ]
  },
  {
   "attachments": {},
   "cell_type": "markdown",
   "metadata": {},
   "source": [
    "#### 4. Use An Ellipsis as a Placeholder for Unwritten Code"
   ]
  },
  {
   "attachments": {},
   "cell_type": "markdown",
   "metadata": {},
   "source": [
    "In Python, we usually put the `pass` keyword as a placeholder for unwritten code. But we can also use an ellipsis for this purpose."
   ]
  },
  {
   "cell_type": "code",
   "execution_count": 11,
   "metadata": {},
   "outputs": [],
   "source": [
    "def write_an_article():  \n",
    "    ...  \n",
    "  \n",
    "  \n",
    "class Author:  \n",
    "    ..."
   ]
  },
  {
   "attachments": {},
   "cell_type": "markdown",
   "metadata": {},
   "source": [
    "#### 5. Decorators in Python: A Way To Modularize Functionalities and Separate Concerns"
   ]
  },
  {
   "attachments": {},
   "cell_type": "markdown",
   "metadata": {},
   "source": [
    "The idea of decorators of Python is to allow a developer to add new functionality to an existing object without modifying its original logic.\n",
    "\n",
    "We can define decorators by ourselves. And there are also many wonderful built-in decorators ready for use.\n",
    "\n",
    "For example, static methods in a Python class are not bound to an instance or a class. They are included in a class simply because they logically belong there.\n",
    "\n",
    "To define a static method, we just need to use the `@staticmethod` decorator as follows:"
   ]
  },
  {
   "cell_type": "code",
   "execution_count": 15,
   "metadata": {},
   "outputs": [
    {
     "name": "stdout",
     "output_type": "stream",
     "text": [
      "False\n",
      "True\n",
      "True\n"
     ]
    }
   ],
   "source": [
    "class Student:  \n",
    "    def __init__(self, first_name, last_name):  \n",
    "        self.first_name = first_name  \n",
    "        self.last_name = last_name  \n",
    "        self.nickname = None  \n",
    "  \n",
    "    def set_nickname(self, name):  \n",
    "        self.nickname = name  \n",
    "  \n",
    "    @staticmethod  \n",
    "    def suitable_age(age):  \n",
    "        return 6 <= age <= 70  \n",
    "  \n",
    "  \n",
    "print(Student.suitable_age(99)) # False  \n",
    "print(Student.suitable_age(27)) # True  \n",
    "print(Student('yang', 'zhou').suitable_age(27)) # True"
   ]
  },
  {
   "attachments": {},
   "cell_type": "markdown",
   "metadata": {},
   "source": [
    "#### 6. List Comprehension: Make a List in One Line of Code"
   ]
  },
  {
   "attachments": {},
   "cell_type": "markdown",
   "metadata": {},
   "source": [
    "Python is renowned for its conciseness, which is largely attributed to its well-designed syntax sugar such as list comprehension.\n",
    "\n",
    "With list comprehension, we can put for loops and if conditions all in one line of code to generate a Python list:"
   ]
  },
  {
   "cell_type": "code",
   "execution_count": 16,
   "metadata": {},
   "outputs": [
    {
     "name": "stdout",
     "output_type": "stream",
     "text": [
      "['Yang'] ['Yang', 'Tom', 'tom'] ['tom']\n"
     ]
    }
   ],
   "source": [
    "Genius = [\"Yang\", \"Tom\", \"Jerry\", \"Jack\", \"tom\", \"yang\"]  \n",
    "L1 = [name for name in Genius if name.startswith('Y')]  \n",
    "L2 = [name for name in Genius if name.startswith('Y') or len(name) < 4]  \n",
    "L3 = [name for name in Genius if len(name) < 4 and name.islower()]  \n",
    "print(L1, L2, L3)  "
   ]
  },
  {
   "attachments": {},
   "cell_type": "markdown",
   "metadata": {},
   "source": [
    "Furthermore, there are also set, dictionary, and generator comprehensions in Python. Their syntax is similar to list comprehension.\n",
    "\n",
    "For example, the following program generates a dict based on certain conditions with the help of dict comprehension:"
   ]
  },
  {
   "cell_type": "code",
   "execution_count": 17,
   "metadata": {},
   "outputs": [
    {
     "name": "stdout",
     "output_type": "stream",
     "text": [
      "{0: 'Yang', 1: 'Mark'}\n"
     ]
    }
   ],
   "source": [
    "Entrepreneurs = [\"Yang\", \"Mark\", \"steve\", \"jack\", \"tom\"]  \n",
    "D1 = {id: name for id, name in enumerate(Entrepreneurs) if name[0].isupper()}  \n",
    "print(D1)  "
   ]
  },
  {
   "attachments": {},
   "cell_type": "markdown",
   "metadata": {},
   "source": [
    "#### 7. Lambda Functions for Defining Small Anonymous Functions"
   ]
  },
  {
   "attachments": {},
   "cell_type": "markdown",
   "metadata": {},
   "source": [
    "The lambda function, or called the anonymous function, is syntax sugar to easily define a small function in Python to make your code neater and shorter.\n",
    "\n",
    "A common application of lambda functions is to use it to define the comparison method for the built-in `sort()` function:"
   ]
  },
  {
   "cell_type": "code",
   "execution_count": 18,
   "metadata": {},
   "outputs": [
    {
     "name": "stdout",
     "output_type": "stream",
     "text": [
      "['Tim Cook', 'Yang Zhou', 'Elon Musk', 'Warren Buffett']\n"
     ]
    }
   ],
   "source": [
    "leaders = [\"Warren Buffett\", \"Yang Zhou\", \"Tim Cook\", \"Elon Musk\"]  \n",
    "leaders.sort(key=lambda x: len(x))  \n",
    "print(leaders)  "
   ]
  },
  {
   "attachments": {},
   "cell_type": "markdown",
   "metadata": {},
   "source": [
    "In the example above, a lambda function, which receives a variable and returns its length, is defined to be used as the comparison method for sorting a list. Of course, we can write a full function here in the normal way. But given that this function is very simple, writing it as a lambda function is definitely shorter and neater."
   ]
  },
  {
   "attachments": {},
   "cell_type": "markdown",
   "metadata": {},
   "source": [
    "#### 8. Ternary Conditional Operators: Put If and Else Into One Line of Code"
   ]
  },
  {
   "attachments": {},
   "cell_type": "markdown",
   "metadata": {},
   "source": [
    "Many programming languages have ternary conditional operators. Python’s syntax for this is just putting `if` and `else` into the same line:"
   ]
  },
  {
   "cell_type": "code",
   "execution_count": 21,
   "metadata": {},
   "outputs": [
    {
     "data": {
      "text/plain": [
       "'tokyo'"
      ]
     },
     "execution_count": 21,
     "metadata": {},
     "output_type": "execute_result"
    }
   ],
   "source": [
    "a = 'delhi'\n",
    "b = 'tokyo'\n",
    "\n",
    "short_one = a if len(a) < len(b) else b\n",
    "short_one"
   ]
  },
  {
   "attachments": {},
   "cell_type": "markdown",
   "metadata": {},
   "source": [
    "If we implement the same logic as the above without ternary condition syntax, there are a few lines of code needed:"
   ]
  },
  {
   "cell_type": "code",
   "execution_count": 23,
   "metadata": {},
   "outputs": [
    {
     "data": {
      "text/plain": [
       "'tokyo'"
      ]
     },
     "execution_count": 23,
     "metadata": {},
     "output_type": "execute_result"
    }
   ],
   "source": [
    "short_one = ''  \n",
    "if len(a) < len(b):  \n",
    "    short_one=a  \n",
    "else:  \n",
    "    short_one=b\n",
    "short_one"
   ]
  },
  {
   "attachments": {},
   "cell_type": "markdown",
   "metadata": {},
   "source": [
    "#### 9. Use the “Enumerate” Method To Iterate Lists Elegantly"
   ]
  },
  {
   "attachments": {},
   "cell_type": "markdown",
   "metadata": {},
   "source": [
    "In some cases, we need to use both the index and values of elements in a list when iterating it.\n",
    "\n",
    "A classic C-style approach for this will look like the follows:"
   ]
  },
  {
   "cell_type": "code",
   "execution_count": null,
   "metadata": {},
   "outputs": [],
   "source": [
    "for (int i = 0; i < len_of_list; i++) {  \n",
    "        printf(\"%d %s\\\\n\", i, my_list[i]);  \n",
    "    }"
   ]
  },
  {
   "attachments": {},
   "cell_type": "markdown",
   "metadata": {},
   "source": [
    "We can write a similar logic in Python, but the `my_list[i]` seems a bit ugly especially when we need to call the value of the element many times.\n",
    "\n",
    "The real Pythonic way to do this is using the `enumerate()` function to get both index and values directly:"
   ]
  },
  {
   "cell_type": "code",
   "execution_count": 25,
   "metadata": {},
   "outputs": [
    {
     "name": "stdout",
     "output_type": "stream",
     "text": [
      "0 Warren\n",
      "1 Yang\n",
      "2 Tim\n",
      "3 Elon\n"
     ]
    }
   ],
   "source": [
    "leaders = [\"Warren\", \"Yang\", \"Tim\", \"Elon\"]  \n",
    "for i,v in enumerate(leaders):  \n",
    "    print(i, v)"
   ]
  },
  {
   "attachments": {},
   "cell_type": "markdown",
   "metadata": {},
   "source": [
    "#### 10. Context Manager: Close Resources Automatically"
   ]
  },
  {
   "attachments": {},
   "cell_type": "markdown",
   "metadata": {},
   "source": [
    "As we know, once a file has been opened and processed, it is significant to close it promptly to free up memory resources. Neglecting to do so can result in memory leaks or even crashing our system."
   ]
  },
  {
   "cell_type": "code",
   "execution_count": null,
   "metadata": {},
   "outputs": [],
   "source": [
    "f = open(\"test.txt\", 'w')  \n",
    "f.write(\"Hi,Yang!\")  \n",
    "# some logic here  \n",
    "f.close()"
   ]
  },
  {
   "attachments": {},
   "cell_type": "markdown",
   "metadata": {},
   "source": [
    "It’s fairly easy to handle files in Python. As the above code shows, we just need to always remember to call the `f.close()` method to free up memory.\n",
    "\n",
    "However, no one can always remember something when the program becomes more and more complex and large. This is why Python provides the context manager syntax sugar."
   ]
  },
  {
   "cell_type": "code",
   "execution_count": null,
   "metadata": {},
   "outputs": [],
   "source": [
    "with open(\"test.txt\", 'w') as f:  \n",
    "    f.write(\"Hi, Yang!\")"
   ]
  },
  {
   "attachments": {},
   "cell_type": "markdown",
   "metadata": {},
   "source": [
    "As illustrated above, the “with” statement is the key for context managers of Python. As long as we open a file through it and handle the file under it, the file will be closed _automatically_ after processing."
   ]
  },
  {
   "attachments": {},
   "cell_type": "markdown",
   "metadata": {},
   "source": [
    "#### 11. Fancy Slicing Tricks for Python Lists"
   ]
  },
  {
   "attachments": {},
   "cell_type": "markdown",
   "metadata": {},
   "source": [
    "Getting a part of items from a list is a common requirement. In Python, the slice operator consists of three components:\n",
    "\n",
    "```py\n",
    "a_list[start:end:step]\n",
    "```\n",
    "\n",
    "- “start”: The starting index (default value is 0).\n",
    "- “end”: The ending index (default value is the length of the list).\n",
    "- “step”: Defines the step size when iterating over the list (default value is 1).\n",
    "\n",
    "Based on these, there are a few tricks that can make our code so neat.\n",
    "\n",
    "**Reverse a list with a slicing trick**\n",
    "\n",
    "Since the slicing operators can be negative numbers (-1 is the last item, and so on), we can leverage this feature to reverse a list this way:"
   ]
  },
  {
   "cell_type": "code",
   "execution_count": 26,
   "metadata": {},
   "outputs": [
    {
     "name": "stdout",
     "output_type": "stream",
     "text": [
      "[4, 3, 2, 1]\n"
     ]
    }
   ],
   "source": [
    "a = [1,2,3,4]  \n",
    "print(a[::-1])  "
   ]
  },
  {
   "attachments": {},
   "cell_type": "markdown",
   "metadata": {},
   "source": [
    "**Get a shallow copy of a list**"
   ]
  },
  {
   "cell_type": "code",
   "execution_count": 27,
   "metadata": {},
   "outputs": [
    {
     "name": "stdout",
     "output_type": "stream",
     "text": [
      "b=[100, 2, 3, 4, 5, 6]\n",
      "a=[1, 2, 3, 4, 5, 6]\n"
     ]
    }
   ],
   "source": [
    "a = [1, 2, 3, 4, 5, 6]  \n",
    "b = a[:]  \n",
    "b[0]=100\n",
    "print(f\"b={b}\")\n",
    "print(f\"a={a}\")"
   ]
  },
  {
   "attachments": {},
   "cell_type": "markdown",
   "metadata": {},
   "source": [
    "The `b=a[:]` is different with `b=a`, cause it assigns a shallow copy of `a` rather than the `a` itself. So the changes of `b` will not affect `a` at all as demonstrated above."
   ]
  },
  {
   "attachments": {},
   "cell_type": "markdown",
   "metadata": {},
   "source": [
    "#### 12. Walrus Operator: Assignments within Expressions"
   ]
  },
  {
   "attachments": {},
   "cell_type": "markdown",
   "metadata": {},
   "source": [
    "The walrus operator, also known as the assignment expression operator, was introduced in Python 3.8 and is represented by the `:=` symbol.\n",
    "\n",
    "It is used to assign values to variables within an expression, rather than assigning them separately.\n",
    "\n",
    "For example, consider the following code:"
   ]
  },
  {
   "cell_type": "code",
   "execution_count": null,
   "metadata": {},
   "outputs": [],
   "source": [
    "while (line := input()) != \"stop\":  \n",
    "    print(line)"
   ]
  },
  {
   "attachments": {},
   "cell_type": "markdown",
   "metadata": {},
   "source": [
    "In this code, the walrus operator is used to assign the value of the user input to the variable `line`, while also checking whether the input is “stop”. The while loop will continue to run as long as the user input is not “stop”."
   ]
  },
  {
   "attachments": {},
   "cell_type": "markdown",
   "metadata": {},
   "source": [
    "#### 13. Continuous Comparisons: A More Natural Way To Write If Conditions"
   ]
  },
  {
   "attachments": {},
   "cell_type": "markdown",
   "metadata": {},
   "source": [
    "In languages like Java or C, you sometimes need to write if conditions like this:\n",
    "\n",
    "```\n",
    "if (a > 1 && a < 10){  \n",
    "  //do somthing  \n",
    "}\n",
    "```\n",
    "\n",
    "However, you can’t write it as elegant as the following if you are not using Python:\n",
    "\n",
    "```py\n",
    "if 1 < a < 10:  \n",
    "    ...\n",
    "```\n",
    "\n",
    "Yes, Python allows us to write continuous comparisons. It makes our code seem as natural as how we write it in mathematics."
   ]
  },
  {
   "attachments": {},
   "cell_type": "markdown",
   "metadata": {},
   "source": [
    "#### 14. Zip Function: Combine Multiple Iterables Easily"
   ]
  },
  {
   "attachments": {},
   "cell_type": "markdown",
   "metadata": {},
   "source": [
    "Python has a built-in `zip()` function that takes two or more iterables as arguments and returns an iterator that aggregates elements from the iterables.\n",
    "\n",
    "For example, with the help of the `zip()` function, the following code aggregates 3 lists into one without any loops:"
   ]
  },
  {
   "cell_type": "code",
   "execution_count": 28,
   "metadata": {},
   "outputs": [
    {
     "name": "stdout",
     "output_type": "stream",
     "text": [
      "[(1, 'Elon Mask', 'male'), (2, 'Tim Cook', 'male'), (3, 'Bill Gates', 'male'), (4, 'Yang Zhou', 'male')]\n"
     ]
    }
   ],
   "source": [
    "id = [1, 2, 3, 4]  \n",
    "leaders = ['Elon Mask', 'Tim Cook', 'Bill Gates', 'Yang Zhou']  \n",
    "sex = ['male', 'male', 'male', 'male']  \n",
    "record = zip(id, leaders, sex)  \n",
    "  \n",
    "print(list(record))  "
   ]
  },
  {
   "attachments": {},
   "cell_type": "markdown",
   "metadata": {},
   "source": [
    "#### 15. Swapping Two Variables Directly"
   ]
  },
  {
   "attachments": {},
   "cell_type": "markdown",
   "metadata": {},
   "source": [
    "Swapping two variables is usually the first program a beginner will write after printing “Hello world!”.\n",
    "\n",
    "The classic way to do this in many programming languages needs a temporary variable to store the value of one of the variables.\n",
    "\n",
    "For example, you can swap two integers in Java as follows:\n",
    "\n",
    "```java\n",
    "int a = 5;  \n",
    "int b = 10;  \n",
    "int temp = a;  \n",
    "a = b;  \n",
    "b = temp;  \n",
    "System.out.println(\"a = \" + a); // Output: a = 10  \n",
    "System.out.println(\"b = \" + b); // Output: b = 5\n",
    "```"
   ]
  },
  {
   "attachments": {},
   "cell_type": "markdown",
   "metadata": {},
   "source": [
    "In Python, the syntax is so intuitive and elegant:"
   ]
  },
  {
   "cell_type": "code",
   "execution_count": 30,
   "metadata": {},
   "outputs": [
    {
     "name": "stdout",
     "output_type": "stream",
     "text": [
      "5 10\n"
     ]
    }
   ],
   "source": [
    "a = 10  \n",
    "b = 5  \n",
    "a, b = b, a  \n",
    "print(a, b)"
   ]
  },
  {
   "attachments": {},
   "cell_type": "markdown",
   "metadata": {},
   "source": [
    "#### 16. Destructuring Assignments Tricks"
   ]
  },
  {
   "attachments": {},
   "cell_type": "markdown",
   "metadata": {},
   "source": [
    "Destructuring assignments in Python is a way to assign the elements of an iterator or a dictionary to individual variables. It allows you to write shorter, more readable code by avoiding the need to access individual elements using indexes or keys."
   ]
  },
  {
   "cell_type": "code",
   "execution_count": 31,
   "metadata": {},
   "outputs": [
    {
     "name": "stdout",
     "output_type": "stream",
     "text": [
      "Yang 30 Mars\n"
     ]
    }
   ],
   "source": [
    "person = {'name': 'Yang', 'age': 30, 'location': 'Mars'}  \n",
    "name, age, loc = person.values()  \n",
    "print(name, age, loc)  "
   ]
  },
  {
   "attachments": {},
   "cell_type": "markdown",
   "metadata": {},
   "source": [
    "As the example above, we can directly assign the values of a dictionary to 3 individual variables in one line of code.\n",
    "\n",
    "However, if there are only two variables on the left side, how to receive the assignments?\n",
    "\n",
    "Python provides another syntax sugar for this:"
   ]
  },
  {
   "cell_type": "code",
   "execution_count": 32,
   "metadata": {},
   "outputs": [
    {
     "name": "stdout",
     "output_type": "stream",
     "text": [
      "Yang [30, 'Mars']\n"
     ]
    }
   ],
   "source": [
    "person = {'name': 'Yang', 'age': 30, 'location': 'Mars'}  \n",
    "name, *others = person.values()  \n",
    "print(name, others)  "
   ]
  },
  {
   "attachments": {},
   "cell_type": "markdown",
   "metadata": {},
   "source": [
    "As shown above, we can just add an asterisk before a variable to let it receive all remaining variables from the `person.values()`.\n",
    "\n",
    "Simple and elegant, isn’t it?"
   ]
  },
  {
   "attachments": {},
   "cell_type": "markdown",
   "metadata": {},
   "source": [
    "#### 17. Iterables Unpacking with Asterisks"
   ]
  },
  {
   "attachments": {},
   "cell_type": "markdown",
   "metadata": {},
   "source": [
    "Besides destructuring assignments, asterisks in Python are keys for iterable unpacking as well."
   ]
  },
  {
   "cell_type": "code",
   "execution_count": 33,
   "metadata": {},
   "outputs": [
    {
     "name": "stdout",
     "output_type": "stream",
     "text": [
      "[1, 2, 3, 4, 5, 6, 8, 9, 7]\n"
     ]
    }
   ],
   "source": [
    "A = [1, 2, 3]  \n",
    "B = (4, 5, 6)  \n",
    "C = {7, 8, 9}  \n",
    "L = [*A, *B, *C]  \n",
    "print(L)  "
   ]
  },
  {
   "attachments": {},
   "cell_type": "markdown",
   "metadata": {},
   "source": [
    "As illustrated above, the simplest way to combine a list, a set, and a tuple into one list is by unpacking them through asterisks within the new list."
   ]
  },
  {
   "attachments": {},
   "cell_type": "markdown",
   "metadata": {},
   "source": [
    "#### 18. Any() and All() Functions"
   ]
  },
  {
   "attachments": {},
   "cell_type": "markdown",
   "metadata": {},
   "source": [
    "In some cases, we need to check whether any or all elements in an iterable (such as a list, tuple, or set) are true.\n",
    "\n",
    "Of course, we can use for loops to check them one by one. But Python provides two built-in functions `any()` and `all()` to simplify the code of these two operations.\n",
    "\n",
    "For instance, the following program uses `all()` to determine if all elements of a list are odd numbers:"
   ]
  },
  {
   "cell_type": "code",
   "execution_count": 34,
   "metadata": {},
   "outputs": [
    {
     "name": "stdout",
     "output_type": "stream",
     "text": [
      "False\n"
     ]
    }
   ],
   "source": [
    "my_list = [3, 5, 7, 8, 11]  \n",
    "all_odd = all(num % 2 == 1 for num in my_list)  \n",
    "print(all_odd)  "
   ]
  },
  {
   "attachments": {},
   "cell_type": "markdown",
   "metadata": {},
   "source": [
    "The following code uses the `any()` function to check if there is a leader whose name starts with “Y”:"
   ]
  },
  {
   "cell_type": "code",
   "execution_count": 35,
   "metadata": {},
   "outputs": [
    {
     "name": "stdout",
     "output_type": "stream",
     "text": [
      "True\n"
     ]
    }
   ],
   "source": [
    "leaders = ['Yang', 'Elon', 'Sam', 'Tim']  \n",
    "starts_with_Y = any(name.startswith('Y') for name in leaders)  \n",
    "print(starts_with_Y)"
   ]
  },
  {
   "attachments": {},
   "cell_type": "markdown",
   "metadata": {},
   "source": [
    "#### 19. Underscores in Numbers"
   ]
  },
  {
   "attachments": {},
   "cell_type": "markdown",
   "metadata": {},
   "source": [
    "It’s a headache to count how many zeros there are in a large number.\n",
    "\n",
    "Fortunately, Python allows underscores to be included in numbers to improve readability.\n",
    "\n",
    "For instance, instead of writing `10000000000`, we can write `10_000_000_000` in Python which is much easier to read."
   ]
  },
  {
   "cell_type": "code",
   "execution_count": null,
   "metadata": {},
   "outputs": [],
   "source": []
  }
 ],
 "metadata": {
  "kernelspec": {
   "display_name": "env-spacy",
   "language": "python",
   "name": "python3"
  },
  "language_info": {
   "codemirror_mode": {
    "name": "ipython",
    "version": 3
   },
   "file_extension": ".py",
   "mimetype": "text/x-python",
   "name": "python",
   "nbconvert_exporter": "python",
   "pygments_lexer": "ipython3",
   "version": "3.9.7"
  },
  "orig_nbformat": 4
 },
 "nbformat": 4,
 "nbformat_minor": 2
}
