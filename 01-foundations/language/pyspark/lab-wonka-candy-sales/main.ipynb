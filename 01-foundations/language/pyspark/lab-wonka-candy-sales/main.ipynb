{
 "cells": [
  {
   "attachments": {},
   "cell_type": "markdown",
   "metadata": {},
   "source": [
    "# Golden Ticket to Big Data: Exploring Wonka’s Candy Sales with Spark"
   ]
  },
  {
   "attachments": {},
   "cell_type": "markdown",
   "metadata": {},
   "source": [
    "## Simulating Data"
   ]
  },
  {
   "cell_type": "code",
   "execution_count": 1,
   "metadata": {},
   "outputs": [],
   "source": [
    "import pandas as pd\n",
    "import numpy as np\n",
    "\n",
    "data = []\n",
    "\n",
    "countries = [\"USA\", \"MEX\", \"CAN\", \"DEU\", \"ITA\", \"FRA\",\n",
    "             \"CHN\", \"RUS\", \"SAU\", \"ARE\", \"GBR\", \"TUR\", \"IND\", \"BRA\"]\n",
    "candy_types = [\"chocolate bar\", \"white chocolate bar\", \"dark chocolate bar\", \"blueberry bubblegum\",\n",
    "               \"caramel popcorn\", \"peanut butter pops\", \"chocolate cookies\", \"butter cookies\", \"gummy bears\", \"lollipops\"]\n",
    "\n",
    "for i in range(1000):\n",
    "    country = np.random.choice(countries)\n",
    "    candy = np.random.choice(candy_types)\n",
    "    sales = np.random.randint(100000, 10000000)\n",
    "\n",
    "    data.append({'country': country, 'candy': candy, 'sales': sales})\n",
    "    \n",
    "df = pd.DataFrame(data)\n",
    "df.to_csv('candy_sales.csv', index=False) # We don't need to store the index\n"
   ]
  },
  {
   "attachments": {},
   "cell_type": "markdown",
   "metadata": {},
   "source": [
    "## Working with Data"
   ]
  },
  {
   "cell_type": "code",
   "execution_count": null,
   "metadata": {},
   "outputs": [],
   "source": [
    "#imports\n",
    "import sys\n",
    "from pyspark.sql import SparkSession\n",
    "from pyspark.sql.functions import count\n",
    "\n",
    "#spark object\n",
    "spark = (SparkSession\n",
    "  .builder\n",
    "  .appName(\"CandySalesCount\")\n",
    "  .getOrCreate())\n",
    "\n",
    "#data file path\n",
    "candy_sales_file = \"./candy_sales.csv\"\n",
    "\n",
    "#load the data\n",
    "candy_sales_df = (spark.read.format(\"csv\")\n",
    "  .option(\"header\", \"true\")\n",
    "  .option(\"inferSchema\", \"true\")\n",
    "  .load(candy_sales_file))"
   ]
  },
  {
   "attachments": {},
   "cell_type": "markdown",
   "metadata": {},
   "source": [
    "Let’s see the resulting aggregations for each country and it’s sales. A total count of candy sales per state. Remember that show() is an action, so that means that it will trigger the query we just wrote and it will execute."
   ]
  },
  {
   "cell_type": "code",
   "execution_count": 3,
   "metadata": {},
   "outputs": [
    {
     "name": "stderr",
     "output_type": "stream",
     "text": [
      "                                                                                \r"
     ]
    },
    {
     "name": "stdout",
     "output_type": "stream",
     "text": [
      "+-------+-------------------+-----+\n",
      "|country|candy              |Total|\n",
      "+-------+-------------------+-----+\n",
      "|FRA    |dark chocolate bar |17   |\n",
      "|ITA    |peanut butter pops |14   |\n",
      "|RUS    |caramel popcorn    |14   |\n",
      "|BRA    |chocolate cookies  |13   |\n",
      "|RUS    |butter cookies     |13   |\n",
      "|MEX    |white chocolate bar|12   |\n",
      "|SAU    |chocolate bar      |12   |\n",
      "|IND    |gummy bears        |12   |\n",
      "|CAN    |peanut butter pops |12   |\n",
      "|FRA    |gummy bears        |12   |\n",
      "|MEX    |chocolate cookies  |11   |\n",
      "|MEX    |butter cookies     |11   |\n",
      "|DEU    |peanut butter pops |11   |\n",
      "|SAU    |gummy bears        |11   |\n",
      "|IND    |caramel popcorn    |11   |\n",
      "|CHN    |chocolate cookies  |11   |\n",
      "|ARE    |caramel popcorn    |10   |\n",
      "|IND    |butter cookies     |10   |\n",
      "|MEX    |caramel popcorn    |10   |\n",
      "|GBR    |butter cookies     |10   |\n",
      "|DEU    |white chocolate bar|10   |\n",
      "|IND    |peanut butter pops |10   |\n",
      "|IND    |lollipops          |10   |\n",
      "|RUS    |blueberry bubblegum|10   |\n",
      "|RUS    |chocolate bar      |9    |\n",
      "|ITA    |blueberry bubblegum|9    |\n",
      "|BRA    |lollipops          |9    |\n",
      "|FRA    |white chocolate bar|9    |\n",
      "|FRA    |chocolate cookies  |9    |\n",
      "|DEU    |chocolate bar      |9    |\n",
      "|ARE    |lollipops          |9    |\n",
      "|FRA    |blueberry bubblegum|9    |\n",
      "|GBR    |dark chocolate bar |9    |\n",
      "|DEU    |dark chocolate bar |9    |\n",
      "|CHN    |blueberry bubblegum|9    |\n",
      "|CAN    |gummy bears        |9    |\n",
      "|DEU    |blueberry bubblegum|9    |\n",
      "|BRA    |blueberry bubblegum|9    |\n",
      "|DEU    |chocolate cookies  |8    |\n",
      "|USA    |gummy bears        |8    |\n",
      "|RUS    |dark chocolate bar |8    |\n",
      "|FRA    |chocolate bar      |8    |\n",
      "|SAU    |peanut butter pops |8    |\n",
      "|USA    |chocolate bar      |8    |\n",
      "|GBR    |white chocolate bar|8    |\n",
      "|FRA    |caramel popcorn    |8    |\n",
      "|TUR    |peanut butter pops |8    |\n",
      "|BRA    |caramel popcorn    |8    |\n",
      "|SAU    |caramel popcorn    |8    |\n",
      "|CAN    |caramel popcorn    |8    |\n",
      "|ITA    |lollipops          |8    |\n",
      "|MEX    |chocolate bar      |8    |\n",
      "|FRA    |lollipops          |8    |\n",
      "|CAN    |butter cookies     |8    |\n",
      "|IND    |chocolate cookies  |8    |\n",
      "|CHN    |white chocolate bar|8    |\n",
      "|CAN    |lollipops          |8    |\n",
      "|USA    |chocolate cookies  |8    |\n",
      "|TUR    |butter cookies     |8    |\n",
      "|RUS    |peanut butter pops |8    |\n",
      "+-------+-------------------+-----+\n",
      "only showing top 60 rows\n",
      "\n",
      "Total Rows = 140\n"
     ]
    }
   ],
   "source": [
    "count_candy_sales_df = (candy_sales_df\n",
    "  .select(\"country\", \"candy\", \"sales\")\n",
    "  .groupBy(\"country\", \"candy\")\n",
    "  .agg(count(\"sales\").alias(\"Total\"))\n",
    "  .orderBy(\"Total\", ascending=False))\n",
    "\n",
    "count_candy_sales_df.show(n=60, truncate=False)\n",
    "print(f\"Total Rows = {count_candy_sales_df.count()}\")"
   ]
  },
  {
   "attachments": {},
   "cell_type": "markdown",
   "metadata": {},
   "source": [
    "If we wanted to dig a bit deeper, we can see the data for a specific country with the following code."
   ]
  },
  {
   "cell_type": "code",
   "execution_count": 4,
   "metadata": {},
   "outputs": [
    {
     "name": "stdout",
     "output_type": "stream",
     "text": [
      "+-------+-------------------+-----+\n",
      "|country|candy              |Total|\n",
      "+-------+-------------------+-----+\n",
      "|ITA    |peanut butter pops |14   |\n",
      "|ITA    |blueberry bubblegum|9    |\n",
      "|ITA    |lollipops          |8    |\n",
      "|ITA    |caramel popcorn    |7    |\n",
      "|ITA    |gummy bears        |7    |\n",
      "|ITA    |white chocolate bar|7    |\n",
      "|ITA    |chocolate cookies  |6    |\n",
      "|ITA    |butter cookies     |5    |\n",
      "|ITA    |dark chocolate bar |5    |\n",
      "|ITA    |chocolate bar      |4    |\n",
      "+-------+-------------------+-----+\n",
      "\n"
     ]
    }
   ],
   "source": [
    "ita_count_candy_sales_df = (candy_sales_df\n",
    "  .select(\"country\", \"candy\", \"sales\")\n",
    "  .where(candy_sales_df.country == \"ITA\")\n",
    "  .groupBy(\"country\", \"candy\")\n",
    "  .agg(count(\"sales\").alias(\"Total\"))\n",
    "  .orderBy(\"Total\", ascending=False))\n",
    "\n",
    "ita_count_candy_sales_df.show(n=10, truncate=False)"
   ]
  },
  {
   "cell_type": "code",
   "execution_count": 5,
   "metadata": {},
   "outputs": [],
   "source": [
    "spark.stop()"
   ]
  },
  {
   "cell_type": "code",
   "execution_count": null,
   "metadata": {},
   "outputs": [],
   "source": []
  }
 ],
 "metadata": {
  "kernelspec": {
   "display_name": "env-spacy",
   "language": "python",
   "name": "python3"
  },
  "language_info": {
   "codemirror_mode": {
    "name": "ipython",
    "version": 3
   },
   "file_extension": ".py",
   "mimetype": "text/x-python",
   "name": "python",
   "nbconvert_exporter": "python",
   "pygments_lexer": "ipython3",
   "version": "3.9.7"
  },
  "orig_nbformat": 4
 },
 "nbformat": 4,
 "nbformat_minor": 2
}
