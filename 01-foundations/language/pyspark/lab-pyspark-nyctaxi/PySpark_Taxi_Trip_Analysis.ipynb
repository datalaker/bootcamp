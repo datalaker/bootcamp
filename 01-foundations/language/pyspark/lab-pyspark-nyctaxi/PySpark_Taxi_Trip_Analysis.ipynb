{
  "cells": [
    {
      "cell_type": "code",
      "execution_count": null,
      "metadata": {
        "id": "pPDRKt8VfoK1"
      },
      "outputs": [],
      "source": [
        "%%capture\n",
        "!pip install awscli\n",
        "!pip install boto3\n",
        "!pip install awswrangler"
      ]
    },
    {
      "cell_type": "code",
      "execution_count": null,
      "metadata": {
        "id": "MhE3wuNFf5MN"
      },
      "outputs": [],
      "source": [
        "!mkdir -p ~/.aws && cp /content/drive/MyDrive/AWS/wys/* ~/.aws\n",
        "!chmod 600 ~/.aws/credentials"
      ]
    },
    {
      "cell_type": "code",
      "execution_count": null,
      "metadata": {
        "id": "7HT9i--3OWGm"
      },
      "outputs": [],
      "source": [
        "%%capture\n",
        "!apt-get install openjdk-8-jdk-headless -qq > /dev/null\n",
        "!wget -q https://archive.apache.org/dist/spark/spark-3.0.0/spark-3.0.0-bin-hadoop3.2.tgz\n",
        "!tar xf spark-3.0.0-bin-hadoop3.2.tgz\n",
        "!pip install -q findspark\n",
        "!pip install -q pyspark"
      ]
    },
    {
      "cell_type": "code",
      "execution_count": null,
      "metadata": {
        "id": "cLv0rF7XOpFX"
      },
      "outputs": [],
      "source": [
        "import os\n",
        "os.environ[\"JAVA_HOME\"] = \"/usr/lib/jvm/java-8-openjdk-amd64\"\n",
        "os.environ[\"SPARK_HOME\"] = \"/content/spark-3.0.0-bin-hadoop3.2\"\n",
        "\n",
        "import findspark\n",
        "findspark.init()\n",
        "\n",
        "from pyspark.sql import SparkSession\n",
        "spark = SparkSession.builder.master(\"local[*]\").getOrCreate()"
      ]
    },
    {
      "cell_type": "code",
      "execution_count": null,
      "metadata": {
        "colab": {
          "base_uri": "https://localhost:8080/"
        },
        "id": "XxfMdR_7y3Bv",
        "outputId": "33451d05-76cc-40f9-efc9-c700ad9ba46d"
      },
      "outputs": [
        {
          "name": "stdout",
          "output_type": "stream",
          "text": [
            "fhvhv_tripdata_2021 100%[===================>] 288.61M  64.3MB/s    in 4.5s    \n"
          ]
        }
      ],
      "source": [
        "!wget -q --show-progress https://d37ci6vzurychx.cloudfront.net/trip-data/fhvhv_tripdata_2021-02.parquet"
      ]
    },
    {
      "cell_type": "code",
      "execution_count": null,
      "metadata": {
        "colab": {
          "base_uri": "https://localhost:8080/"
        },
        "id": "M1UbQyoay4Om",
        "outputId": "746c7487-61e5-4afe-ae3f-ef21dda353b3"
      },
      "outputs": [
        {
          "name": "stdout",
          "output_type": "stream",
          "text": [
            "-rw-r--r-- 1 root root 289M Jun 30 03:16 fhvhv_tripdata_2021-02.parquet\n"
          ]
        }
      ],
      "source": [
        "!ls -lh fhvhv_tripdata_2021-02.parquet"
      ]
    },
    {
      "cell_type": "code",
      "execution_count": null,
      "metadata": {
        "colab": {
          "base_uri": "https://localhost:8080/",
          "height": 312
        },
        "id": "6tpcCx6RzSjD",
        "outputId": "ca628640-4c1c-4a6d-f5a2-d1536fccfb00"
      },
      "outputs": [
        {
          "name": "stdout",
          "output_type": "stream",
          "text": [
            "+-----------------+--------------------+-------------------+-------------------+------------+------------+\n",
            "|hvfhs_license_num|dispatching_base_num|    pickup_datetime|   dropoff_datetime|PULocationID|DOLocationID|\n",
            "+-----------------+--------------------+-------------------+-------------------+------------+------------+\n",
            "|           HV0003|              B02764|2021-02-01 00:10:40|2021-02-01 00:21:09|          35|          39|\n",
            "|           HV0003|              B02764|2021-02-01 00:27:23|2021-02-01 00:44:01|          39|          35|\n",
            "|           HV0005|              B02510|2021-02-01 00:28:38|2021-02-01 00:38:27|          39|          91|\n",
            "|           HV0005|              B02510|2021-02-01 00:43:37|2021-02-01 01:23:20|          91|         228|\n",
            "|           HV0003|              B02872|2021-02-01 00:08:42|2021-02-01 00:17:57|         126|         250|\n",
            "|           HV0003|              B02872|2021-02-01 00:26:02|2021-02-01 00:42:51|         208|         243|\n",
            "|           HV0003|              B02872|2021-02-01 00:45:50|2021-02-01 01:02:50|         243|         220|\n",
            "|           HV0003|              B02764|2021-02-01 00:06:42|2021-02-01 00:31:50|          49|          37|\n",
            "|           HV0003|              B02764|2021-02-01 00:34:34|2021-02-01 00:58:13|          37|          76|\n",
            "|           HV0005|              B02510|2021-02-01 00:03:43|2021-02-01 00:39:37|          80|         241|\n",
            "+-----------------+--------------------+-------------------+-------------------+------------+------------+\n",
            "only showing top 10 rows\n",
            "\n"
          ]
        },
        {
          "data": {
            "text/plain": [
              "None"
            ]
          },
          "metadata": {},
          "output_type": "display_data"
        }
      ],
      "source": [
        "df = spark.read \\\n",
        "    .option(\"header\", \"true\") \\\n",
        "    .option(\"inferSchema\", \"true\") \\\n",
        "    .parquet('fhvhv_tripdata_2021-02.parquet') \\\n",
        "    .select([\"hvfhs_license_num\", \"dispatching_base_num\",\n",
        "             \"pickup_datetime\", \"dropoff_datetime\",\n",
        "             \"PULocationID\", \"DOLocationID\"])\n",
        "\n",
        "display(df.show(10))"
      ]
    },
    {
      "cell_type": "code",
      "execution_count": null,
      "metadata": {
        "id": "xiZagmqQ0zGQ"
      },
      "outputs": [],
      "source": [
        "df = df.repartition(24)\n",
        "\n",
        "df.write.parquet('data/pq/fhvhv/2021/02/', compression='snappy')"
      ]
    },
    {
      "cell_type": "code",
      "execution_count": null,
      "metadata": {
        "colab": {
          "base_uri": "https://localhost:8080/"
        },
        "id": "3fqKvEq9fys1",
        "outputId": "be6e7765-fb41-4edc-d78b-5d8bb7dc7c32"
      },
      "outputs": [
        {
          "name": "stdout",
          "output_type": "stream",
          "text": [
            "total 219M\n",
            "-rw-r--r-- 1 root root 9.1M Jul 15 07:47 part-00000-2577a51c-f9d7-4e9a-b820-09010edc01b2-c000.snappy.parquet\n",
            "-rw-r--r-- 1 root root 9.1M Jul 15 07:47 part-00001-2577a51c-f9d7-4e9a-b820-09010edc01b2-c000.snappy.parquet\n",
            "-rw-r--r-- 1 root root 9.1M Jul 15 07:47 part-00002-2577a51c-f9d7-4e9a-b820-09010edc01b2-c000.snappy.parquet\n",
            "-rw-r--r-- 1 root root 9.1M Jul 15 07:47 part-00003-2577a51c-f9d7-4e9a-b820-09010edc01b2-c000.snappy.parquet\n",
            "-rw-r--r-- 1 root root 9.1M Jul 15 07:47 part-00004-2577a51c-f9d7-4e9a-b820-09010edc01b2-c000.snappy.parquet\n",
            "-rw-r--r-- 1 root root 9.1M Jul 15 07:47 part-00005-2577a51c-f9d7-4e9a-b820-09010edc01b2-c000.snappy.parquet\n",
            "-rw-r--r-- 1 root root 9.1M Jul 15 07:47 part-00006-2577a51c-f9d7-4e9a-b820-09010edc01b2-c000.snappy.parquet\n",
            "-rw-r--r-- 1 root root 9.1M Jul 15 07:47 part-00007-2577a51c-f9d7-4e9a-b820-09010edc01b2-c000.snappy.parquet\n",
            "-rw-r--r-- 1 root root 9.1M Jul 15 07:47 part-00008-2577a51c-f9d7-4e9a-b820-09010edc01b2-c000.snappy.parquet\n",
            "-rw-r--r-- 1 root root 9.1M Jul 15 07:47 part-00009-2577a51c-f9d7-4e9a-b820-09010edc01b2-c000.snappy.parquet\n",
            "-rw-r--r-- 1 root root 9.1M Jul 15 07:47 part-00010-2577a51c-f9d7-4e9a-b820-09010edc01b2-c000.snappy.parquet\n",
            "-rw-r--r-- 1 root root 9.1M Jul 15 07:47 part-00011-2577a51c-f9d7-4e9a-b820-09010edc01b2-c000.snappy.parquet\n",
            "-rw-r--r-- 1 root root 9.1M Jul 15 07:47 part-00012-2577a51c-f9d7-4e9a-b820-09010edc01b2-c000.snappy.parquet\n",
            "-rw-r--r-- 1 root root 9.1M Jul 15 07:47 part-00013-2577a51c-f9d7-4e9a-b820-09010edc01b2-c000.snappy.parquet\n",
            "-rw-r--r-- 1 root root 9.1M Jul 15 07:47 part-00014-2577a51c-f9d7-4e9a-b820-09010edc01b2-c000.snappy.parquet\n",
            "-rw-r--r-- 1 root root 9.1M Jul 15 07:47 part-00015-2577a51c-f9d7-4e9a-b820-09010edc01b2-c000.snappy.parquet\n",
            "-rw-r--r-- 1 root root 9.1M Jul 15 07:47 part-00016-2577a51c-f9d7-4e9a-b820-09010edc01b2-c000.snappy.parquet\n",
            "-rw-r--r-- 1 root root 9.1M Jul 15 07:47 part-00017-2577a51c-f9d7-4e9a-b820-09010edc01b2-c000.snappy.parquet\n",
            "-rw-r--r-- 1 root root 9.1M Jul 15 07:47 part-00018-2577a51c-f9d7-4e9a-b820-09010edc01b2-c000.snappy.parquet\n",
            "-rw-r--r-- 1 root root 9.1M Jul 15 07:47 part-00019-2577a51c-f9d7-4e9a-b820-09010edc01b2-c000.snappy.parquet\n",
            "-rw-r--r-- 1 root root 9.1M Jul 15 07:47 part-00020-2577a51c-f9d7-4e9a-b820-09010edc01b2-c000.snappy.parquet\n",
            "-rw-r--r-- 1 root root 9.1M Jul 15 07:47 part-00021-2577a51c-f9d7-4e9a-b820-09010edc01b2-c000.snappy.parquet\n",
            "-rw-r--r-- 1 root root 9.1M Jul 15 07:47 part-00022-2577a51c-f9d7-4e9a-b820-09010edc01b2-c000.snappy.parquet\n",
            "-rw-r--r-- 1 root root 9.1M Jul 15 07:47 part-00023-2577a51c-f9d7-4e9a-b820-09010edc01b2-c000.snappy.parquet\n",
            "-rw-r--r-- 1 root root    0 Jul 15 07:47 _SUCCESS\n"
          ]
        }
      ],
      "source": [
        "df = spark.read.parquet('data/pq/fhvhv/2021/02/')\n",
        "\n",
        "!ls -lh data/pq/fhvhv/2021/02/"
      ]
    },
    {
      "cell_type": "markdown",
      "metadata": {
        "id": "juADAzPt1BpJ"
      },
      "source": [
        "### How many taxi trips were there on February 15?"
      ]
    },
    {
      "cell_type": "code",
      "execution_count": null,
      "metadata": {
        "id": "28_H9ln11emj"
      },
      "outputs": [],
      "source": [
        "from pyspark.sql import functions as F"
      ]
    },
    {
      "cell_type": "code",
      "execution_count": null,
      "metadata": {
        "id": "70jISWMH1foK"
      },
      "outputs": [],
      "source": [
        "df = spark.read.parquet('data/pq/fhvhv/2021/02/')\n",
        "df.registerTempTable('fhvhv')"
      ]
    },
    {
      "cell_type": "code",
      "execution_count": null,
      "metadata": {
        "colab": {
          "base_uri": "https://localhost:8080/"
        },
        "id": "fULNt1UF1Jws",
        "outputId": "63894939-1056-44d2-9525-935b58dc9fe7"
      },
      "outputs": [
        {
          "data": {
            "text/plain": [
              "367170"
            ]
          },
          "execution_count": 57,
          "metadata": {},
          "output_type": "execute_result"
        }
      ],
      "source": [
        "df.withColumn('pickup_date', F.to_date(df.pickup_datetime))\\\n",
        ".filter(\"pickup_date = '2021-02-15'\") \\\n",
        ".count()"
      ]
    },
    {
      "cell_type": "code",
      "execution_count": null,
      "metadata": {
        "colab": {
          "base_uri": "https://localhost:8080/"
        },
        "id": "CnUsU7Gi1D1c",
        "outputId": "43e5d1b4-39e2-4350-cfae-744977222b21"
      },
      "outputs": [
        {
          "name": "stdout",
          "output_type": "stream",
          "text": [
            "+--------+\n",
            "|count(1)|\n",
            "+--------+\n",
            "|  367170|\n",
            "+--------+\n",
            "\n"
          ]
        }
      ],
      "source": [
        "spark.sql(\"\"\"\n",
        "SELECT\n",
        "    COUNT(*)\n",
        "FROM\n",
        "    fhvhv\n",
        "WHERE\n",
        "    DATE(pickup_datetime) = '2021-02-15'\n",
        "\"\"\").show()"
      ]
    },
    {
      "cell_type": "markdown",
      "metadata": {
        "id": "wvM-MmLq2HlT"
      },
      "source": [
        "### Calculate the duration for each trip"
      ]
    },
    {
      "cell_type": "code",
      "execution_count": null,
      "metadata": {
        "colab": {
          "base_uri": "https://localhost:8080/"
        },
        "id": "o6gRLRKT1n4S",
        "outputId": "935967bf-152f-473a-8ee7-770ee932f67c"
      },
      "outputs": [
        {
          "name": "stdout",
          "output_type": "stream",
          "text": [
            "+-----------------+--------------------+-------------------+-------------------+------------+------------+----------------+\n",
            "|hvfhs_license_num|dispatching_base_num|    pickup_datetime|   dropoff_datetime|PULocationID|DOLocationID|duration_seconds|\n",
            "+-----------------+--------------------+-------------------+-------------------+------------+------------+----------------+\n",
            "|           HV0005|              B02510|2021-02-11 13:40:44|2021-02-12 10:39:44|         247|          41|           75540|\n",
            "|           HV0004|              B02800|2021-02-17 15:54:53|2021-02-18 07:48:34|         242|         254|           57221|\n",
            "|           HV0004|              B02800|2021-02-20 12:08:15|2021-02-21 00:22:14|         188|          55|           44039|\n",
            "|           HV0003|              B02864|2021-02-03 20:24:25|2021-02-04 07:41:58|          51|         147|           40653|\n",
            "|           HV0003|              B02887|2021-02-19 23:17:44|2021-02-20 09:44:01|         210|         149|           37577|\n",
            "|           HV0003|              B02764|2021-02-25 17:13:35|2021-02-26 02:57:05|         174|         126|           35010|\n",
            "|           HV0003|              B02875|2021-02-20 01:36:13|2021-02-20 11:16:19|         242|          31|           34806|\n",
            "|           HV0005|              B02510|2021-02-18 15:24:19|2021-02-19 01:01:11|         196|         197|           34612|\n",
            "|           HV0003|              B02764|2021-02-18 01:31:20|2021-02-18 11:07:15|          89|         265|           34555|\n",
            "|           HV0005|              B02510|2021-02-10 20:51:39|2021-02-11 06:21:08|         254|         259|           34169|\n",
            "|           HV0003|              B02764|2021-02-10 01:56:17|2021-02-10 10:57:33|          61|         265|           32476|\n",
            "|           HV0005|              B02510|2021-02-25 09:18:18|2021-02-25 18:18:57|         169|         265|           32439|\n",
            "|           HV0005|              B02510|2021-02-21 19:59:13|2021-02-22 04:56:16|          10|          10|           32223|\n",
            "|           HV0003|              B02864|2021-02-09 18:36:13|2021-02-10 03:31:00|          78|         147|           32087|\n",
            "|           HV0004|              B02800|2021-02-06 09:48:09|2021-02-06 18:32:16|         229|         188|           31447|\n",
            "|           HV0005|              B02510|2021-02-02 09:42:30|2021-02-02 18:17:43|          85|          85|           30913|\n",
            "|           HV0005|              B02510|2021-02-10 10:12:08|2021-02-10 18:46:24|          29|         125|           30856|\n",
            "|           HV0003|              B02764|2021-02-09 13:30:13|2021-02-09 22:02:25|         188|         265|           30732|\n",
            "|           HV0005|              B02510|2021-02-21 22:50:52|2021-02-22 07:21:52|         177|          73|           30660|\n",
            "|           HV0005|              B02510|2021-02-05 21:32:33|2021-02-06 06:01:04|          97|          72|           30511|\n",
            "+-----------------+--------------------+-------------------+-------------------+------------+------------+----------------+\n",
            "only showing top 20 rows\n",
            "\n"
          ]
        }
      ],
      "source": [
        "df \\\n",
        ".withColumn('duration_seconds', df.dropoff_datetime.cast('long')-df.pickup_datetime.cast('long')) \\\n",
        ".orderBy(F.col('duration_seconds').desc()) \\\n",
        ".show()"
      ]
    },
    {
      "cell_type": "code",
      "execution_count": null,
      "metadata": {
        "colab": {
          "base_uri": "https://localhost:8080/"
        },
        "id": "1Dpd3ZxN1xeP",
        "outputId": "65367ac9-210b-4852-e540-725c43e873cc"
      },
      "outputs": [
        {
          "name": "stdout",
          "output_type": "stream",
          "text": [
            "+-------------------+-------------------+--------+\n",
            "|    pickup_datetime|   dropoff_datetime|duration|\n",
            "+-------------------+-------------------+--------+\n",
            "|2021-02-11 13:40:44|2021-02-12 10:39:44|   75540|\n",
            "|2021-02-20 12:08:15|2021-02-21 00:22:14|   44039|\n",
            "|2021-02-19 23:17:44|2021-02-20 09:44:01|   37577|\n",
            "|2021-02-25 17:13:35|2021-02-26 02:57:05|   35010|\n",
            "|2021-02-10 01:56:17|2021-02-10 10:57:33|   32476|\n",
            "|2021-02-25 09:18:18|2021-02-25 18:18:57|   32439|\n",
            "|2021-02-02 09:42:30|2021-02-02 18:17:43|   30913|\n",
            "|2021-02-21 22:50:52|2021-02-22 07:21:52|   30660|\n",
            "|2021-02-10 20:36:16|2021-02-11 05:00:38|   30262|\n",
            "|2021-02-08 12:04:24|2021-02-08 20:26:10|   30106|\n",
            "|2021-02-03 10:05:21|2021-02-03 17:57:04|   28303|\n",
            "|2021-02-09 12:40:43|2021-02-09 20:04:03|   26600|\n",
            "|2021-02-25 09:48:53|2021-02-25 17:07:07|   26294|\n",
            "|2021-02-15 04:32:41|2021-02-15 11:43:55|   25874|\n",
            "|2021-02-04 10:16:34|2021-02-04 17:23:06|   25592|\n",
            "|2021-02-26 14:32:17|2021-02-26 21:19:19|   24422|\n",
            "|2021-02-20 18:31:00|2021-02-21 01:09:52|   23932|\n",
            "|2021-02-24 10:54:08|2021-02-24 17:28:37|   23669|\n",
            "|2021-02-05 14:09:56|2021-02-05 20:30:46|   22850|\n",
            "|2021-02-13 06:33:13|2021-02-13 12:30:35|   21442|\n",
            "+-------------------+-------------------+--------+\n",
            "only showing top 20 rows\n",
            "\n"
          ]
        }
      ],
      "source": [
        "spark.sql(\"\"\"\n",
        "SELECT\n",
        "    pickup_datetime, dropoff_datetime,\n",
        "    (unix_timestamp(dropoff_datetime) - unix_timestamp(pickup_datetime)) AS duration\n",
        "FROM\n",
        "    fhvhv\n",
        "SORT BY\n",
        "    duration DESC\n",
        "\"\"\").show()"
      ]
    },
    {
      "cell_type": "markdown",
      "metadata": {
        "id": "NzEG7TTZ1nfG"
      },
      "source": [
        "### Trip starting on which day was the longest?"
      ]
    },
    {
      "cell_type": "code",
      "execution_count": null,
      "metadata": {
        "colab": {
          "base_uri": "https://localhost:8080/"
        },
        "id": "vduRQV_v13zd",
        "outputId": "49ef9f9e-c2f9-435a-fdec-c31459b7b067"
      },
      "outputs": [
        {
          "name": "stdout",
          "output_type": "stream",
          "text": [
            "+-----------+-------------+\n",
            "|pickup_date|max(duration)|\n",
            "+-----------+-------------+\n",
            "| 2021-02-11|        75540|\n",
            "| 2021-02-17|        57221|\n",
            "| 2021-02-20|        44039|\n",
            "| 2021-02-03|        40653|\n",
            "| 2021-02-19|        37577|\n",
            "+-----------+-------------+\n",
            "\n"
          ]
        }
      ],
      "source": [
        "df \\\n",
        ".withColumn('duration', df.dropoff_datetime.cast('long') - df.pickup_datetime.cast('long')) \\\n",
        ".withColumn('pickup_date', F.to_date(df.pickup_datetime)) \\\n",
        ".groupBy('pickup_date') \\\n",
        "    .max('duration') \\\n",
        ".orderBy('max(duration)', ascending=False) \\\n",
        ".limit(5) \\\n",
        ".show()"
      ]
    },
    {
      "cell_type": "code",
      "execution_count": null,
      "metadata": {
        "id": "qPUHgLN52N10"
      },
      "outputs": [],
      "source": []
    }
  ],
  "metadata": {
    "colab": {
      "collapsed_sections": [],
      "name": "PySpark Taxi Trip Analysis",
      "provenance": []
    },
    "kernelspec": {
      "display_name": "Python 3.9.10 64-bit",
      "language": "python",
      "name": "python3"
    },
    "language_info": {
      "name": "python",
      "version": "3.9.10"
    },
    "vscode": {
      "interpreter": {
        "hash": "aee8b7b246df8f9039afb4144a1f6fd8d2ca17a180786b69acc140d282b71a49"
      }
    }
  },
  "nbformat": 4,
  "nbformat_minor": 0
}
