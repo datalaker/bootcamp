{
 "cells": [
  {
   "attachments": {},
   "cell_type": "markdown",
   "metadata": {},
   "source": [
    "## Dataset"
   ]
  },
  {
   "attachments": {},
   "cell_type": "markdown",
   "metadata": {},
   "source": [
    "The dataset contains sample data of credit and debit/checking transactions, income and demographic details of UK banking consumers. All the details are at a transaction level. How do I get the data? Snowflake Data Marketplace. It provides you with free or paid datasets that you can use for your projects."
   ]
  },
  {
   "attachments": {},
   "cell_type": "markdown",
   "metadata": {},
   "source": [
    "| Columns | Descriptions |\n",
    "| --- | --- |\n",
    "| TRANSACTION_REFERENCE | The transaction identifier for each transaction made by consumer |\n",
    "| USER_REFERENCE | The user identifier of the consumer |\n",
    "| AGE_BAND | The consumer age range |\n",
    "| SALARY_BAND | The consumer salary range. |\n",
    "| POSTCODE | The postcode of where the consumer lives. |\n",
    "| LSOA | Geographical hierarchy: small areas that has similar population size (average of approximately 1,500 residents or 650 households). |\n",
    "| MSOA | Geographical hierarchy: medium areas where the minimum population size is 5000 (average of 7200). |\n",
    "| DERIVED_GENDER | The consumer gender identity. |\n",
    "| TRANSACTION_DATE | The transaction date made by the consumer. |\n",
    "| ACCOUNT_REFERENCE | The consumer bank account identifier. |\n",
    "| PROVIDER_GROUP_NAME | The consumer's bank for executing his/her transactions. |\n",
    "| ACCOUNT_TYPE | The account type: current, savings, etc. |\n",
    "| CREDIT_DEBIT | Type of transaction made by consumer: debit or credit. |\n",
    "| AMOUNT | The amount of transaction. |\n",
    "| AUTO_PURPOSE_TAG_NAME | The transaction purpose. |\n",
    "| MERCHANT_NAME | The merchant's name. |\n",
    "| MERCHANT_BUSINESS_LINE | The merchant's business category. |\n",
    "| ACCOUNT_CREATED_DATE | The date of when the account first created. |\n",
    "| ACCOUNT_LAST_REFRESHED | The date of when the account last updated. |"
   ]
  },
  {
   "attachments": {},
   "cell_type": "markdown",
   "metadata": {},
   "source": [
    "![](https://user-images.githubusercontent.com/62965911/214246829-a006e426-49da-4528-8277-dee9aa3fdd34.png)"
   ]
  },
  {
   "attachments": {},
   "cell_type": "markdown",
   "metadata": {},
   "source": [
    "## Data Model Design"
   ]
  },
  {
   "attachments": {},
   "cell_type": "markdown",
   "metadata": {},
   "source": [
    "1\\. Select the business process.\n",
    "\n",
    "If we look at the dataset and think of credit-debit transaction in general, I can identify the following business process.\n",
    "\n",
    "⮕ The user or cardholder perform credit/debit transaction --- inflow and outflow transaction\n",
    "\n",
    "⮕ The bank will deliver the money (outflow) to merchant's account (in case of debit transaction) or save the money in the current/saving account (in case of credit transaction)\n",
    "\n",
    "⮕ The merchant received the money (in case of debit transaction) or the cardholder received the deposits.\n",
    "\n",
    "And we also can see that there are 3 participants in the above processes; user (accountholder), bank and merchant.\n",
    "\n",
    "2\\. Declare the grain.\n",
    "\n",
    "The desired level of granularity is at transaction level, which already provided by the dataset.\n",
    "\n",
    "3\\. Identify the dimensions.\n",
    "\n",
    "If we refer to the business process and its participants, there should be 4 kinds of information that adding context to the business quantitative measure, the transaction amount. They are:\n",
    "\n",
    "-   Users' information, such as user's name, gender, address, etc.\n",
    "-   Bank or account's information, such as bank name, users' account and account type\n",
    "-   Merchant's information, such as merchant's name, business category, etc.\n",
    "-   Transaction details, such as transaction date, type and purpose.\n",
    "\n",
    "In this step I have identified and created 5 dimension tables for users, accounts, merchants, transactions and dates."
   ]
  },
  {
   "attachments": {},
   "cell_type": "markdown",
   "metadata": {},
   "source": [
    "![](https://user-images.githubusercontent.com/62965911/214246851-afa01401-70e3-40e2-9e3e-6b250267cf70.png)"
   ]
  },
  {
   "cell_type": "code",
   "execution_count": 7,
   "metadata": {},
   "outputs": [],
   "source": [
    "%config SqlMagic.autopandas=True\n",
    "%config SqlMagic.displaycon=False\n",
    "%config SqlMagic.feedback=False\n",
    "%config SqlMagic.displaylimit=5\n",
    "%reload_ext sql"
   ]
  },
  {
   "cell_type": "code",
   "execution_count": 2,
   "metadata": {},
   "outputs": [],
   "source": [
    "import boto3\n",
    "import json"
   ]
  },
  {
   "cell_type": "code",
   "execution_count": 3,
   "metadata": {},
   "outputs": [],
   "source": [
    "def get_secret(secret_name='wysde', region_name = \"us-east-1\"):\n",
    "    session = boto3.session.Session()\n",
    "    client = session.client(\n",
    "        service_name='secretsmanager',\n",
    "        region_name=region_name)\n",
    "    get_secret_value_response = client.get_secret_value(SecretId=secret_name)\n",
    "    get_secret_value_response = json.loads(get_secret_value_response['SecretString'])\n",
    "    return get_secret_value_response"
   ]
  },
  {
   "cell_type": "code",
   "execution_count": 5,
   "metadata": {},
   "outputs": [],
   "source": [
    "db_credentials = get_secret()\n",
    "\n",
    "USERNAME = db_credentials[\"SNOWFLAKE_USERNAME\"]\n",
    "PASSWORD = db_credentials[\"SNOWFLAKE_PASSWORD\"]\n",
    "ACCOUNT = db_credentials[\"SNOWFLAKE_ACCOUNT\"]\n",
    "WAREHOUSE = db_credentials[\"SNOWFLAKE_WAREHOUSE\"]\n",
    "ROLE = db_credentials[\"SNOWFLAKE_ROLE\"]\n",
    "DBNAME = \"SPARSH\"\n",
    "SCHEMA_NAME = \"MARTS_CREDIT_DEBIT_TRANSACTION\"\n",
    "CONN = f\"snowflake://{USERNAME}:{PASSWORD}@{ACCOUNT}/?warehouse={WAREHOUSE}&role={ROLE}\"\n",
    "\n",
    "%sql {CONN}"
   ]
  },
  {
   "cell_type": "code",
   "execution_count": 8,
   "metadata": {},
   "outputs": [
    {
     "data": {
      "text/html": [
       "<div>\n",
       "<style scoped>\n",
       "    .dataframe tbody tr th:only-of-type {\n",
       "        vertical-align: middle;\n",
       "    }\n",
       "\n",
       "    .dataframe tbody tr th {\n",
       "        vertical-align: top;\n",
       "    }\n",
       "\n",
       "    .dataframe thead th {\n",
       "        text-align: right;\n",
       "    }\n",
       "</style>\n",
       "<table border=\"1\" class=\"dataframe\">\n",
       "  <thead>\n",
       "    <tr style=\"text-align: right;\">\n",
       "      <th></th>\n",
       "      <th>status</th>\n",
       "    </tr>\n",
       "  </thead>\n",
       "  <tbody>\n",
       "    <tr>\n",
       "      <th>0</th>\n",
       "      <td>Statement executed successfully.</td>\n",
       "    </tr>\n",
       "  </tbody>\n",
       "</table>\n",
       "</div>"
      ],
      "text/plain": [
       "                             status\n",
       "0  Statement executed successfully."
      ]
     },
     "execution_count": 8,
     "metadata": {},
     "output_type": "execute_result"
    }
   ],
   "source": [
    "%%sql\n",
    "\n",
    "USE {DBNAME}"
   ]
  },
  {
   "cell_type": "code",
   "execution_count": 12,
   "metadata": {},
   "outputs": [
    {
     "data": {
      "text/html": [
       "<div>\n",
       "<style scoped>\n",
       "    .dataframe tbody tr th:only-of-type {\n",
       "        vertical-align: middle;\n",
       "    }\n",
       "\n",
       "    .dataframe tbody tr th {\n",
       "        vertical-align: top;\n",
       "    }\n",
       "\n",
       "    .dataframe thead th {\n",
       "        text-align: right;\n",
       "    }\n",
       "</style>\n",
       "<table border=\"1\" class=\"dataframe\">\n",
       "  <thead>\n",
       "    <tr style=\"text-align: right;\">\n",
       "      <th></th>\n",
       "      <th>status</th>\n",
       "    </tr>\n",
       "  </thead>\n",
       "  <tbody>\n",
       "    <tr>\n",
       "      <th>0</th>\n",
       "      <td>Statement executed successfully.</td>\n",
       "    </tr>\n",
       "  </tbody>\n",
       "</table>\n",
       "</div>"
      ],
      "text/plain": [
       "                             status\n",
       "0  Statement executed successfully."
      ]
     },
     "execution_count": 12,
     "metadata": {},
     "output_type": "execute_result"
    }
   ],
   "source": [
    "%%sql\n",
    "\n",
    "CREATE SCHEMA IF NOT EXISTS {SCHEMA_NAME};\n",
    "USE SCHEMA {SCHEMA_NAME};"
   ]
  },
  {
   "cell_type": "code",
   "execution_count": 13,
   "metadata": {},
   "outputs": [
    {
     "data": {
      "text/html": [
       "<div>\n",
       "<style scoped>\n",
       "    .dataframe tbody tr th:only-of-type {\n",
       "        vertical-align: middle;\n",
       "    }\n",
       "\n",
       "    .dataframe tbody tr th {\n",
       "        vertical-align: top;\n",
       "    }\n",
       "\n",
       "    .dataframe thead th {\n",
       "        text-align: right;\n",
       "    }\n",
       "</style>\n",
       "<table border=\"1\" class=\"dataframe\">\n",
       "  <thead>\n",
       "    <tr style=\"text-align: right;\">\n",
       "      <th></th>\n",
       "      <th>status</th>\n",
       "    </tr>\n",
       "  </thead>\n",
       "  <tbody>\n",
       "    <tr>\n",
       "      <th>0</th>\n",
       "      <td>Table FCT_TRANSACTIONS successfully created.</td>\n",
       "    </tr>\n",
       "  </tbody>\n",
       "</table>\n",
       "</div>"
      ],
      "text/plain": [
       "                                         status\n",
       "0  Table FCT_TRANSACTIONS successfully created."
      ]
     },
     "execution_count": 13,
     "metadata": {},
     "output_type": "execute_result"
    }
   ],
   "source": [
    "%%sql\n",
    "\n",
    "CREATE OR REPLACE TABLE dim_users AS (\n",
    "    SELECT\n",
    "        DISTINCT user_reference AS user_id, \n",
    "        age_band, \n",
    "        salary_band, \n",
    "        postcode,\n",
    "        LSOA,\n",
    "        MSOA,\n",
    "        derived_gender AS gender\n",
    "    FROM UK_ROWLEVEL_TRANSACTION_DATA__SAMPLE.public_listing.transactions\n",
    ");\n",
    "\n",
    "CREATE OR REPLACE TABLE dim_accounts AS (\n",
    "    SELECT\n",
    "        DISTINCT account_reference AS account_id,\n",
    "        provider_group_name AS bank_name,\n",
    "        account_type,\n",
    "        account_created_date,\n",
    "        account_last_refreshed\n",
    "    FROM UK_ROWLEVEL_TRANSACTION_DATA__SAMPLE.public_listing.transactions\n",
    ");\n",
    "\n",
    "CREATE OR REPLACE TABLE dim_merchants AS (\n",
    "    SELECT\n",
    "        DISTINCT HASH(merchant_name, merchant_business_line)::VARCHAR AS merchant_id,\n",
    "        merchant_name,\n",
    "        merchant_business_line\n",
    "    FROM UK_ROWLEVEL_TRANSACTION_DATA__SAMPLE.public_listing.transactions\n",
    ");\n",
    "\n",
    "CREATE OR REPLACE TABLE dim_transactions AS (\n",
    "    SELECT\n",
    "        transaction_reference AS transaction_id,\n",
    "        credit_debit AS transaction_type,\n",
    "        auto_purpose_tag_name AS transaction_purpose\n",
    "    FROM UK_ROWLEVEL_TRANSACTION_DATA__SAMPLE.public_listing.transactions\n",
    ");\n",
    "\n",
    "CREATE OR REPLACE TABLE dim_dates AS (\n",
    "    SELECT\n",
    "        DISTINCT transaction_date,\n",
    "        DAY(transaction_date)::VARCHAR as day_of_month,\n",
    "        DAYNAME(transaction_date) as day_name,\n",
    "        MONTH(transaction_date)::VARCHAR as month_of_year,\n",
    "        MONTHNAME(transaction_date) as month_name,\n",
    "        YEAR(transaction_date)::VARCHAR as year\n",
    "    FROM UK_ROWLEVEL_TRANSACTION_DATA__SAMPLE.public_listing.transactions\n",
    ");\n",
    "\n",
    "CREATE OR REPLACE TABLE fct_transactions AS (\n",
    "    SELECT\n",
    "        transaction_date AS transaction_date,\n",
    "        transaction_reference AS transaction_id,\n",
    "        user_reference AS user_id,\n",
    "        account_reference AS account_id,\n",
    "        HASH(merchant_name, merchant_business_line)::VARCHAR AS merchant_id,\n",
    "        amount::NUMBER as amount\n",
    "    FROM UK_ROWLEVEL_TRANSACTION_DATA__SAMPLE.public_listing.transactions\n",
    ");"
   ]
  },
  {
   "attachments": {},
   "cell_type": "markdown",
   "metadata": {},
   "source": [
    "![](https://user-images.githubusercontent.com/62965911/214246854-6a679161-8c7a-4f18-aedd-c5b8c2b7a878.png)"
   ]
  },
  {
   "cell_type": "code",
   "execution_count": 14,
   "metadata": {},
   "outputs": [
    {
     "data": {
      "text/html": [
       "<div>\n",
       "<style scoped>\n",
       "    .dataframe tbody tr th:only-of-type {\n",
       "        vertical-align: middle;\n",
       "    }\n",
       "\n",
       "    .dataframe tbody tr th {\n",
       "        vertical-align: top;\n",
       "    }\n",
       "\n",
       "    .dataframe thead th {\n",
       "        text-align: right;\n",
       "    }\n",
       "</style>\n",
       "<table border=\"1\" class=\"dataframe\">\n",
       "  <thead>\n",
       "    <tr style=\"text-align: right;\">\n",
       "      <th></th>\n",
       "      <th>transaction_date</th>\n",
       "      <th>transaction_id</th>\n",
       "      <th>user_id</th>\n",
       "      <th>account_id</th>\n",
       "      <th>merchant_id</th>\n",
       "      <th>amount</th>\n",
       "    </tr>\n",
       "  </thead>\n",
       "  <tbody>\n",
       "    <tr>\n",
       "      <th>0</th>\n",
       "      <td>2022-08-04</td>\n",
       "      <td>61343940-11e3-4ef9-900d-78dee080a8792C94E69F96...</td>\n",
       "      <td>59618cc99ed8c11e072c03f91696aff805f5d27d5d2b6e...</td>\n",
       "      <td>61343940-11e3-4ef9-900d-78dee080a879</td>\n",
       "      <td>-3563482234593244164</td>\n",
       "      <td>20</td>\n",
       "    </tr>\n",
       "    <tr>\n",
       "      <th>1</th>\n",
       "      <td>2022-09-28</td>\n",
       "      <td>61343940-11e3-4ef9-900d-78dee080a87936CAE325FD...</td>\n",
       "      <td>59618cc99ed8c11e072c03f91696aff805f5d27d5d2b6e...</td>\n",
       "      <td>61343940-11e3-4ef9-900d-78dee080a879</td>\n",
       "      <td>8475122763193443513</td>\n",
       "      <td>25</td>\n",
       "    </tr>\n",
       "    <tr>\n",
       "      <th>2</th>\n",
       "      <td>2022-07-04</td>\n",
       "      <td>61343940-11e3-4ef9-900d-78dee080a8795A5BA4AEC0...</td>\n",
       "      <td>59618cc99ed8c11e072c03f91696aff805f5d27d5d2b6e...</td>\n",
       "      <td>61343940-11e3-4ef9-900d-78dee080a879</td>\n",
       "      <td>6204893564810900869</td>\n",
       "      <td>24</td>\n",
       "    </tr>\n",
       "    <tr>\n",
       "      <th>3</th>\n",
       "      <td>2022-08-27</td>\n",
       "      <td>5819bc0b-d64e-4e7b-89b3-a0e1c5e224f9D9DADCB088...</td>\n",
       "      <td>c53091f1c07f415f4b824dc7857e2c71803d5d8c2984b2...</td>\n",
       "      <td>5819bc0b-d64e-4e7b-89b3-a0e1c5e224f9</td>\n",
       "      <td>8475122763193443513</td>\n",
       "      <td>20</td>\n",
       "    </tr>\n",
       "    <tr>\n",
       "      <th>4</th>\n",
       "      <td>2022-08-30</td>\n",
       "      <td>61343940-11e3-4ef9-900d-78dee080a8797D0707EE51...</td>\n",
       "      <td>59618cc99ed8c11e072c03f91696aff805f5d27d5d2b6e...</td>\n",
       "      <td>61343940-11e3-4ef9-900d-78dee080a879</td>\n",
       "      <td>-4671496543306980058</td>\n",
       "      <td>100</td>\n",
       "    </tr>\n",
       "    <tr>\n",
       "      <th>5</th>\n",
       "      <td>2022-09-08</td>\n",
       "      <td>5819bc0b-d64e-4e7b-89b3-a0e1c5e224f9A7AA1A7347...</td>\n",
       "      <td>c53091f1c07f415f4b824dc7857e2c71803d5d8c2984b2...</td>\n",
       "      <td>5819bc0b-d64e-4e7b-89b3-a0e1c5e224f9</td>\n",
       "      <td>6204893564810900869</td>\n",
       "      <td>40</td>\n",
       "    </tr>\n",
       "    <tr>\n",
       "      <th>6</th>\n",
       "      <td>2022-07-29</td>\n",
       "      <td>61343940-11e3-4ef9-900d-78dee080a879CCBACAFB40...</td>\n",
       "      <td>59618cc99ed8c11e072c03f91696aff805f5d27d5d2b6e...</td>\n",
       "      <td>61343940-11e3-4ef9-900d-78dee080a879</td>\n",
       "      <td>6204893564810900869</td>\n",
       "      <td>50</td>\n",
       "    </tr>\n",
       "    <tr>\n",
       "      <th>7</th>\n",
       "      <td>2022-08-02</td>\n",
       "      <td>61343940-11e3-4ef9-900d-78dee080a8791A089E81C0...</td>\n",
       "      <td>59618cc99ed8c11e072c03f91696aff805f5d27d5d2b6e...</td>\n",
       "      <td>61343940-11e3-4ef9-900d-78dee080a879</td>\n",
       "      <td>6204893564810900869</td>\n",
       "      <td>800</td>\n",
       "    </tr>\n",
       "    <tr>\n",
       "      <th>8</th>\n",
       "      <td>2022-08-28</td>\n",
       "      <td>5819bc0b-d64e-4e7b-89b3-a0e1c5e224f98EC57DDC03...</td>\n",
       "      <td>c53091f1c07f415f4b824dc7857e2c71803d5d8c2984b2...</td>\n",
       "      <td>5819bc0b-d64e-4e7b-89b3-a0e1c5e224f9</td>\n",
       "      <td>8475122763193443513</td>\n",
       "      <td>7</td>\n",
       "    </tr>\n",
       "    <tr>\n",
       "      <th>9</th>\n",
       "      <td>2022-10-03</td>\n",
       "      <td>9219ccc1-8148-486d-bff1-891693d2fafdE514B58207...</td>\n",
       "      <td>1959eef564cbc0832dbd8a2680471d69f60214399ccf73...</td>\n",
       "      <td>9219ccc1-8148-486d-bff1-891693d2fafd</td>\n",
       "      <td>3098642881933701501</td>\n",
       "      <td>8</td>\n",
       "    </tr>\n",
       "  </tbody>\n",
       "</table>\n",
       "</div>"
      ],
      "text/plain": [
       "  transaction_date                                     transaction_id  \\\n",
       "0       2022-08-04  61343940-11e3-4ef9-900d-78dee080a8792C94E69F96...   \n",
       "1       2022-09-28  61343940-11e3-4ef9-900d-78dee080a87936CAE325FD...   \n",
       "2       2022-07-04  61343940-11e3-4ef9-900d-78dee080a8795A5BA4AEC0...   \n",
       "3       2022-08-27  5819bc0b-d64e-4e7b-89b3-a0e1c5e224f9D9DADCB088...   \n",
       "4       2022-08-30  61343940-11e3-4ef9-900d-78dee080a8797D0707EE51...   \n",
       "5       2022-09-08  5819bc0b-d64e-4e7b-89b3-a0e1c5e224f9A7AA1A7347...   \n",
       "6       2022-07-29  61343940-11e3-4ef9-900d-78dee080a879CCBACAFB40...   \n",
       "7       2022-08-02  61343940-11e3-4ef9-900d-78dee080a8791A089E81C0...   \n",
       "8       2022-08-28  5819bc0b-d64e-4e7b-89b3-a0e1c5e224f98EC57DDC03...   \n",
       "9       2022-10-03  9219ccc1-8148-486d-bff1-891693d2fafdE514B58207...   \n",
       "\n",
       "                                             user_id  \\\n",
       "0  59618cc99ed8c11e072c03f91696aff805f5d27d5d2b6e...   \n",
       "1  59618cc99ed8c11e072c03f91696aff805f5d27d5d2b6e...   \n",
       "2  59618cc99ed8c11e072c03f91696aff805f5d27d5d2b6e...   \n",
       "3  c53091f1c07f415f4b824dc7857e2c71803d5d8c2984b2...   \n",
       "4  59618cc99ed8c11e072c03f91696aff805f5d27d5d2b6e...   \n",
       "5  c53091f1c07f415f4b824dc7857e2c71803d5d8c2984b2...   \n",
       "6  59618cc99ed8c11e072c03f91696aff805f5d27d5d2b6e...   \n",
       "7  59618cc99ed8c11e072c03f91696aff805f5d27d5d2b6e...   \n",
       "8  c53091f1c07f415f4b824dc7857e2c71803d5d8c2984b2...   \n",
       "9  1959eef564cbc0832dbd8a2680471d69f60214399ccf73...   \n",
       "\n",
       "                             account_id           merchant_id  amount  \n",
       "0  61343940-11e3-4ef9-900d-78dee080a879  -3563482234593244164      20  \n",
       "1  61343940-11e3-4ef9-900d-78dee080a879   8475122763193443513      25  \n",
       "2  61343940-11e3-4ef9-900d-78dee080a879   6204893564810900869      24  \n",
       "3  5819bc0b-d64e-4e7b-89b3-a0e1c5e224f9   8475122763193443513      20  \n",
       "4  61343940-11e3-4ef9-900d-78dee080a879  -4671496543306980058     100  \n",
       "5  5819bc0b-d64e-4e7b-89b3-a0e1c5e224f9   6204893564810900869      40  \n",
       "6  61343940-11e3-4ef9-900d-78dee080a879   6204893564810900869      50  \n",
       "7  61343940-11e3-4ef9-900d-78dee080a879   6204893564810900869     800  \n",
       "8  5819bc0b-d64e-4e7b-89b3-a0e1c5e224f9   8475122763193443513       7  \n",
       "9  9219ccc1-8148-486d-bff1-891693d2fafd   3098642881933701501       8  "
      ]
     },
     "execution_count": 14,
     "metadata": {},
     "output_type": "execute_result"
    }
   ],
   "source": [
    "%sql SELECT * FROM fct_transactions LIMIT 10"
   ]
  },
  {
   "cell_type": "code",
   "execution_count": null,
   "metadata": {},
   "outputs": [],
   "source": []
  }
 ],
 "metadata": {
  "kernelspec": {
   "display_name": "env-spacy",
   "language": "python",
   "name": "python3"
  },
  "language_info": {
   "codemirror_mode": {
    "name": "ipython",
    "version": 3
   },
   "file_extension": ".py",
   "mimetype": "text/x-python",
   "name": "python",
   "nbconvert_exporter": "python",
   "pygments_lexer": "ipython3",
   "version": "3.9.7"
  },
  "orig_nbformat": 4,
  "vscode": {
   "interpreter": {
    "hash": "343191058819caea96d5cde1bd3b1a75b4807623ce2cda0e1c8499e39ac847e3"
   }
  }
 },
 "nbformat": 4,
 "nbformat_minor": 2
}
