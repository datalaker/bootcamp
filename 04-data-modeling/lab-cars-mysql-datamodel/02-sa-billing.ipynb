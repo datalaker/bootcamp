{
 "cells": [
  {
   "cell_type": "code",
   "execution_count": 15,
   "metadata": {},
   "outputs": [],
   "source": [
    "import boto3\n",
    "import json\n",
    "from time import time, ctime\n",
    "import os\n",
    "import psycopg2\n",
    "import pandas as pd\n",
    "from tabulate import tabulate"
   ]
  },
  {
   "cell_type": "code",
   "execution_count": null,
   "metadata": {},
   "outputs": [],
   "source": [
    "# Downloading the data files\n",
    "!aws s3 cp s3://wysde-datasets/cars/billing-datawarehouse.tgz data/billing-datawarehouse.tgz"
   ]
  },
  {
   "cell_type": "code",
   "execution_count": 4,
   "metadata": {},
   "outputs": [
    {
     "name": "stdout",
     "output_type": "stream",
     "text": [
      "x DimCustomer.sql\n",
      "x DimMonth.sql\n",
      "x FactBilling.sql\n",
      "x star-schema.sql\n",
      "x verify.sql\n"
     ]
    }
   ],
   "source": [
    "# Extracting files\n",
    "!cd data && tar -xvzf billing-datawarehouse.tgz"
   ]
  },
  {
   "cell_type": "code",
   "execution_count": 6,
   "metadata": {},
   "outputs": [],
   "source": [
    "def get_secret(secret_name, region_name=\"us-east-1\"):\n",
    "    session = boto3.session.Session()\n",
    "    client = session.client(\n",
    "        service_name='secretsmanager',\n",
    "        region_name=region_name)\n",
    "    get_secret_value_response = client.get_secret_value(SecretId=secret_name)\n",
    "    get_secret_value_response = json.loads(get_secret_value_response['SecretString'])\n",
    "    return get_secret_value_response"
   ]
  },
  {
   "cell_type": "code",
   "execution_count": 9,
   "metadata": {},
   "outputs": [],
   "source": [
    "creds = get_secret(\"wysde\")\n",
    "USERNAME = creds[\"RDS_POSTGRES_USERNAME\"]\n",
    "PASSWORD = creds[\"RDS_POSTGRES_PASSWORD\"]\n",
    "HOST = creds[\"RDS_POSTGRES_HOST\"]\n",
    "DATABASE = \"sparsh\""
   ]
  },
  {
   "attachments": {},
   "cell_type": "markdown",
   "metadata": {},
   "source": [
    "you might need to run rds psql commands in shell if facing difficulty in entering responses in ipython notebook"
   ]
  },
  {
   "cell_type": "code",
   "execution_count": null,
   "metadata": {},
   "outputs": [],
   "source": [
    "# Creating schema\n",
    "!psql -h $HOST -U $USERNAME -p 5432 $DATABASE < data/star-schema.sql"
   ]
  },
  {
   "cell_type": "code",
   "execution_count": null,
   "metadata": {},
   "outputs": [],
   "source": [
    "# Loading data\n",
    "!psql -h $HOST -U $USERNAME -p 5432 $DATABASE < data/DimCustomer.sql\n",
    "!psql -h $HOST -U $USERNAME -p 5432 $DATABASE < data/DimMonth.sql\n",
    "!psql -h $HOST -U $USERNAME -p 5432 $DATABASE < data/FactBilling.sql"
   ]
  },
  {
   "cell_type": "code",
   "execution_count": 12,
   "metadata": {},
   "outputs": [
    {
     "name": "stdout",
     "output_type": "stream",
     "text": [
      "Finished loading data\n"
     ]
    }
   ],
   "source": [
    "print(\"Finished loading data\")"
   ]
  },
  {
   "cell_type": "code",
   "execution_count": null,
   "metadata": {},
   "outputs": [],
   "source": [
    "# Verifying data\n",
    "!psql -h $HOST -U $USERNAME -p 5432 $DATABASE < data/verify.sql"
   ]
  },
  {
   "cell_type": "code",
   "execution_count": 11,
   "metadata": {},
   "outputs": [
    {
     "name": "stdout",
     "output_type": "stream",
     "text": [
      "Successfully setup the staging area\n"
     ]
    }
   ],
   "source": [
    "print(\"Successfully setup the staging area\")"
   ]
  },
  {
   "attachments": {},
   "cell_type": "markdown",
   "metadata": {},
   "source": [
    "## Data Quality"
   ]
  },
  {
   "cell_type": "code",
   "execution_count": 13,
   "metadata": {},
   "outputs": [],
   "source": [
    "# Check for nulls\n",
    "conn = None\n",
    "\n",
    "def run_data_quality_check(**options):\n",
    "    print(\"*\" * 50)\n",
    "    print(ctime(time()))\n",
    "    start_time = time()\n",
    "    testname = options.pop(\"testname\")\n",
    "    test = options.pop(\"test\")\n",
    "    print(f\"Starting test {testname}\")\n",
    "    status = test(**options)\n",
    "    print(f\"Finished test {testname}\")\n",
    "    print(f\"Test Passed {status}\")\n",
    "    end_time = time()\n",
    "    options.pop(\"conn\")\n",
    "    print(\"Test Parameters\")\n",
    "    for key,value in options.items():\n",
    "        print(f\"{key} = {value}\")\n",
    "    print()\n",
    "    print(\"Duration : \", str(end_time - start_time))\n",
    "    print(ctime(time()))\n",
    "    print(\"*\" * 50)\n",
    "    return testname,options.get('table'),options.get('column'),status\n",
    "\n",
    "\n",
    "def check_for_nulls(column,table,conn=conn):\n",
    "    SQL=f'SELECT count(*) FROM \"{table}\" where {column} is null'\n",
    "    cursor = conn.cursor()\n",
    "    cursor.execute(SQL)\n",
    "    row_count = cursor.fetchone()\n",
    "    cursor.close()\n",
    "    return bool(row_count)\n",
    "\n",
    "\n",
    "#Check for min max range\n",
    "\n",
    "def check_for_min_max(column,table,minimum,maximum,conn=conn):\n",
    "    SQL=f'SELECT count(*) FROM \"{table}\" where  {column} < {minimum} or {column} > {maximum}'\n",
    "    cursor = conn.cursor()\n",
    "    cursor.execute(SQL)\n",
    "    row_count = cursor.fetchone()\n",
    "    cursor.close()\n",
    "    return not bool(row_count)\n",
    "\n",
    "#Check for any invalid entries\n",
    "\n",
    "def check_for_valid_values(column, table, valid_values=None,conn=conn):\n",
    "    SQL=f'SELECT distinct({column}) FROM \"{table}\"'\n",
    "    cursor = conn.cursor()\n",
    "    cursor.execute(SQL)\n",
    "    result = cursor.fetchall()\n",
    "    #print(result)\n",
    "    actual_values = {x[0] for x in result}\n",
    "    print(actual_values)\n",
    "    status = [value in valid_values for value in actual_values]\n",
    "    #print(status)\n",
    "    cursor.close()\n",
    "    return all(status)\n",
    "\n",
    "#Check for duplicate entries\n",
    "\n",
    "def check_for_duplicates(column,table,conn=conn):\n",
    "    SQL=f'SELECT count({column}) FROM \"{table}\" group by {column} having count({column}) > 1'\n",
    "    cursor = conn.cursor()\n",
    "    cursor.execute(SQL)\n",
    "    row_count = cursor.fetchone()\n",
    "    #print(row_count)\n",
    "    cursor.close()\n",
    "    return not bool(row_count)"
   ]
  },
  {
   "cell_type": "code",
   "execution_count": 20,
   "metadata": {},
   "outputs": [],
   "source": [
    "test1={\n",
    "\t\"testname\":\"Check for nulls\",\n",
    "\t\"test\":check_for_nulls,\n",
    "\t\"column\": \"monthid\",\n",
    "\t\"table\": \"DimMonth\"\n",
    "}\n",
    "\n",
    "test2={\n",
    "\t\"testname\":\"Check for min and max\",\n",
    "\t\"test\":check_for_min_max,\n",
    "\t\"column\": \"month\",\n",
    "\t\"table\": \"DimMonth\",\n",
    "\t\"minimum\":1,\n",
    "\t\"maximum\":12\n",
    "}\n",
    "\n",
    "test3={\n",
    "\t\"testname\":\"Check for valid values\",\n",
    "\t\"test\":check_for_valid_values,\n",
    "\t\"column\": \"category\",\n",
    "\t\"table\": \"DimCustomer\",\n",
    "\t\"valid_values\":{'Individual','Company'}\n",
    "}\n",
    "\n",
    "test4={\n",
    "\t\"testname\":\"Check for duplicates\",\n",
    "\t\"test\":check_for_duplicates,\n",
    "\t\"column\": \"monthid\",\n",
    "\t\"table\": \"DimMonth\"\n",
    "}\n",
    "\n",
    "test5={\n",
    "    \"testname\":\"Check for nulls\",\n",
    "    \"test\":check_for_nulls,\n",
    "    \"column\": \"year\",\n",
    "    \"table\": \"DimMonth\"\n",
    "}\n",
    "\n",
    "test6={\n",
    "    \"testname\":\"Check for min and max\",\n",
    "    \"test\":check_for_min_max,\n",
    "    \"column\": \"quarter\",\n",
    "    \"table\": \"DimMonth\",\n",
    "    \"minimum\":1,\n",
    "    \"maximum\":4\n",
    "}\n",
    "\n",
    "test7={\n",
    "    \"testname\":\"Check for valid values\",\n",
    "    \"test\":check_for_valid_values,\n",
    "    \"column\": \"quartername\",\n",
    "    \"table\": \"DimMonth\",\n",
    "    \"valid_values\":{'Q1','Q2','Q3','Q4'}\n",
    "}\n",
    "\n",
    "test8={\n",
    "    \"testname\":\"Check for duplicates\",\n",
    "    \"test\":check_for_duplicates,\n",
    "    \"column\": \"customerid\",\n",
    "    \"table\": \"DimCustomer\"\n",
    "}\n",
    "\n",
    "test9 = {\n",
    "    \"testname\":\"Check for nulls\",\n",
    "    \"test\":check_for_nulls,\n",
    "    \"column\": \"billedamount\",\n",
    "    \"table\": \"FactBilling\"\n",
    "}\n",
    "\n",
    "test10 = {\n",
    "    \"testname\":\"Check for duplicates\",\n",
    "    \"test\":check_for_duplicates,\n",
    "    \"column\": \"billid\",\n",
    "    \"table\": \"FactBilling\"\n",
    "}\n",
    "\n",
    "test11 = {\n",
    "    \"testname\":\"Check for valid values\",\n",
    "    \"test\":check_for_valid_values,\n",
    "    \"column\": \"quarter\",\n",
    "    \"table\": \"DimMonth\",\n",
    "    \"valid_values\":{'Q1','Q2','Q3','Q4'}\n",
    "}\n",
    "\n",
    "tests = [test1, test2, test3, test4,\n",
    "         test5, test6, test7, test8,\n",
    "         test9, test10, test11]"
   ]
  },
  {
   "cell_type": "code",
   "execution_count": 16,
   "metadata": {},
   "outputs": [
    {
     "name": "stdout",
     "output_type": "stream",
     "text": [
      "Connected to data warehouse\n"
     ]
    }
   ],
   "source": [
    "# Connect to database\n",
    "conn = psycopg2.connect(\n",
    "\t\tuser = USERNAME,\n",
    "\t    password = PASSWORD,\n",
    "\t    host = HOST,\n",
    "\t    port = \"5432\",\n",
    "\t    database = DATABASE)\n",
    "\n",
    "print(\"Connected to data warehouse\")"
   ]
  },
  {
   "cell_type": "code",
   "execution_count": 21,
   "metadata": {},
   "outputs": [
    {
     "name": "stdout",
     "output_type": "stream",
     "text": [
      "**************************************************\n",
      "Sat Dec 17 22:26:18 2022\n",
      "Starting test Check for nulls\n",
      "Finished test Check for nulls\n",
      "Test Passed True\n",
      "Test Parameters\n",
      "column = monthid\n",
      "table = DimMonth\n",
      "\n",
      "Duration :  0.9150419235229492\n",
      "Sat Dec 17 22:26:19 2022\n",
      "**************************************************\n",
      "**************************************************\n",
      "Sat Dec 17 22:26:19 2022\n",
      "Starting test Check for min and max\n",
      "Finished test Check for min and max\n",
      "Test Passed False\n",
      "Test Parameters\n",
      "column = month\n",
      "table = DimMonth\n",
      "minimum = 1\n",
      "maximum = 12\n",
      "\n",
      "Duration :  0.40681910514831543\n",
      "Sat Dec 17 22:26:19 2022\n",
      "**************************************************\n",
      "**************************************************\n",
      "Sat Dec 17 22:26:19 2022\n",
      "Starting test Check for valid values\n",
      "{'Company', 'Individual'}\n",
      "Finished test Check for valid values\n",
      "Test Passed True\n",
      "Test Parameters\n",
      "column = category\n",
      "table = DimCustomer\n",
      "valid_values = {'Company', 'Individual'}\n",
      "\n",
      "Duration :  0.40922069549560547\n",
      "Sat Dec 17 22:26:20 2022\n",
      "**************************************************\n",
      "**************************************************\n",
      "Sat Dec 17 22:26:20 2022\n",
      "Starting test Check for duplicates\n",
      "Finished test Check for duplicates\n",
      "Test Passed True\n",
      "Test Parameters\n",
      "column = monthid\n",
      "table = DimMonth\n",
      "\n",
      "Duration :  0.2925398349761963\n",
      "Sat Dec 17 22:26:20 2022\n",
      "**************************************************\n",
      "**************************************************\n",
      "Sat Dec 17 22:26:20 2022\n",
      "Starting test Check for nulls\n",
      "Finished test Check for nulls\n",
      "Test Passed True\n",
      "Test Parameters\n",
      "column = year\n",
      "table = DimMonth\n",
      "\n",
      "Duration :  0.28888869285583496\n",
      "Sat Dec 17 22:26:20 2022\n",
      "**************************************************\n",
      "**************************************************\n",
      "Sat Dec 17 22:26:20 2022\n",
      "Starting test Check for min and max\n",
      "Finished test Check for min and max\n",
      "Test Passed False\n",
      "Test Parameters\n",
      "column = quarter\n",
      "table = DimMonth\n",
      "minimum = 1\n",
      "maximum = 4\n",
      "\n",
      "Duration :  0.28961825370788574\n",
      "Sat Dec 17 22:26:20 2022\n",
      "**************************************************\n",
      "**************************************************\n",
      "Sat Dec 17 22:26:20 2022\n",
      "Starting test Check for valid values\n",
      "{'Q3', 'Q4', 'Q2', 'Q1'}\n",
      "Finished test Check for valid values\n",
      "Test Passed True\n",
      "Test Parameters\n",
      "column = quartername\n",
      "table = DimMonth\n",
      "valid_values = {'Q3', 'Q4', 'Q2', 'Q1'}\n",
      "\n",
      "Duration :  0.3532371520996094\n",
      "Sat Dec 17 22:26:21 2022\n",
      "**************************************************\n",
      "**************************************************\n",
      "Sat Dec 17 22:26:21 2022\n",
      "Starting test Check for duplicates\n",
      "Finished test Check for duplicates\n",
      "Test Passed True\n",
      "Test Parameters\n",
      "column = customerid\n",
      "table = DimCustomer\n",
      "\n",
      "Duration :  0.41266298294067383\n",
      "Sat Dec 17 22:26:21 2022\n",
      "**************************************************\n",
      "**************************************************\n",
      "Sat Dec 17 22:26:21 2022\n",
      "Starting test Check for nulls\n",
      "Finished test Check for nulls\n",
      "Test Passed True\n",
      "Test Parameters\n",
      "column = billedamount\n",
      "table = FactBilling\n",
      "\n",
      "Duration :  0.4040350914001465\n",
      "Sat Dec 17 22:26:22 2022\n",
      "**************************************************\n",
      "**************************************************\n",
      "Sat Dec 17 22:26:22 2022\n",
      "Starting test Check for duplicates\n",
      "Finished test Check for duplicates\n",
      "Test Passed True\n",
      "Test Parameters\n",
      "column = billid\n",
      "table = FactBilling\n",
      "\n",
      "Duration :  0.6127407550811768\n",
      "Sat Dec 17 22:26:22 2022\n",
      "**************************************************\n",
      "**************************************************\n",
      "Sat Dec 17 22:26:22 2022\n",
      "Starting test Check for valid values\n",
      "{1, 2, 3, 4}\n",
      "Finished test Check for valid values\n",
      "Test Passed False\n",
      "Test Parameters\n",
      "column = quarter\n",
      "table = DimMonth\n",
      "valid_values = {'Q3', 'Q4', 'Q2', 'Q1'}\n",
      "\n",
      "Duration :  0.4066650867462158\n",
      "Sat Dec 17 22:26:23 2022\n",
      "**************************************************\n"
     ]
    }
   ],
   "source": [
    "# Start of data quality checks\n",
    "results = []\n",
    "for test in tests:\n",
    "    test['conn'] = conn\n",
    "    results.append(run_data_quality_check(**test))"
   ]
  },
  {
   "cell_type": "code",
   "execution_count": 22,
   "metadata": {},
   "outputs": [
    {
     "name": "stdout",
     "output_type": "stream",
     "text": [
      "+----+------------------------+-------------+--------------+---------------+\n",
      "|    | Test Name              | Table       | Column       | Test Passed   |\n",
      "|----+------------------------+-------------+--------------+---------------|\n",
      "|  1 | Check for nulls        | DimMonth    | monthid      | True          |\n",
      "|  2 | Check for min and max  | DimMonth    | month        | False         |\n",
      "|  3 | Check for valid values | DimCustomer | category     | True          |\n",
      "|  4 | Check for duplicates   | DimMonth    | monthid      | True          |\n",
      "|  5 | Check for nulls        | DimMonth    | year         | True          |\n",
      "|  6 | Check for min and max  | DimMonth    | quarter      | False         |\n",
      "|  7 | Check for valid values | DimMonth    | quartername  | True          |\n",
      "|  8 | Check for duplicates   | DimCustomer | customerid   | True          |\n",
      "|  9 | Check for nulls        | FactBilling | billedamount | True          |\n",
      "| 10 | Check for duplicates   | FactBilling | billid       | True          |\n",
      "| 11 | Check for valid values | DimMonth    | quarter      | False         |\n",
      "+----+------------------------+-------------+--------------+---------------+\n"
     ]
    }
   ],
   "source": [
    "# Print results\n",
    "df=pd.DataFrame(results)\n",
    "df.index+=1\n",
    "df.columns = ['Test Name', 'Table','Column','Test Passed']\n",
    "print(tabulate(df,headers='keys',tablefmt='psql'))"
   ]
  },
  {
   "cell_type": "code",
   "execution_count": 23,
   "metadata": {},
   "outputs": [
    {
     "name": "stdout",
     "output_type": "stream",
     "text": [
      "Disconnected from data warehouse\n"
     ]
    }
   ],
   "source": [
    "# End of data quality checks\n",
    "conn.close()\n",
    "print(\"Disconnected from data warehouse\")"
   ]
  }
 ],
 "metadata": {
  "kernelspec": {
   "display_name": "Python 3",
   "language": "python",
   "name": "python3"
  },
  "language_info": {
   "codemirror_mode": {
    "name": "ipython",
    "version": 3
   },
   "file_extension": ".py",
   "mimetype": "text/x-python",
   "name": "python",
   "nbconvert_exporter": "python",
   "pygments_lexer": "ipython3",
   "version": "3.9.10 (v3.9.10:f2f3f53782, Jan 13 2022, 17:02:14) \n[Clang 6.0 (clang-600.0.57)]"
  },
  "orig_nbformat": 4,
  "vscode": {
   "interpreter": {
    "hash": "aee8b7b246df8f9039afb4144a1f6fd8d2ca17a180786b69acc140d282b71a49"
   }
  }
 },
 "nbformat": 4,
 "nbformat_minor": 2
}
