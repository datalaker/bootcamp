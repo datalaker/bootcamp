{
 "cells": [
  {
   "cell_type": "code",
   "execution_count": null,
   "metadata": {},
   "outputs": [],
   "source": [
    "!pip install dbt-snowflake"
   ]
  },
  {
   "cell_type": "code",
   "execution_count": 3,
   "metadata": {},
   "outputs": [],
   "source": [
    "!mkdir -p ../models/l10_staging\n",
    "!mkdir -p ../models/l20_transform\n",
    "!mkdir -p ../models/l30_mart\n",
    "!mkdir -p ../models/tests"
   ]
  },
  {
   "cell_type": "code",
   "execution_count": 4,
   "metadata": {},
   "outputs": [
    {
     "name": "stdout",
     "output_type": "stream",
     "text": [
      "Overwriting ../dbt_project.yml\n"
     ]
    }
   ],
   "source": [
    "%%writefile ../dbt_project.yml\n",
    "name: 'snowflake_workshop'\n",
    "version: '1.0.0'\n",
    "config-version: 2\n",
    "profile: 'default'\n",
    "model-paths: [\"models\"]\n",
    "analysis-paths: [\"analyses\"]\n",
    "test-paths: [\"tests\"]\n",
    "seed-paths: [\"seeds\"]\n",
    "macro-paths: [\"macros\"]\n",
    "snapshot-paths: [\"snapshots\"]\n",
    "target-path: \"target\"\n",
    "clean-targets:\n",
    "  - \"target\"\n",
    "  - \"dbt_packages\"\n",
    "models:\n",
    "  snowflake_workshop:\n",
    "      # Applies to all files under models/example/\n",
    "      example:\n",
    "          materialized: view\n",
    "          +enabled: false\n",
    "      l10_staging:\n",
    "          schema: l10_staging\n",
    "          materialized: view\n",
    "      l20_transform:\n",
    "          schema: l20_transform\n",
    "          materialized: view\n",
    "      l30_mart:\n",
    "          schema: l30_mart\n",
    "          materialized: view"
   ]
  },
  {
   "cell_type": "markdown",
   "metadata": {},
   "source": [
    "## Setup Database Connections"
   ]
  },
  {
   "cell_type": "code",
   "execution_count": null,
   "metadata": {},
   "outputs": [],
   "source": [
    "%%writefile ../profiles.yml\n",
    "default:\n",
    "  outputs:\n",
    "    dev:\n",
    "      account: <>.us-east-1\n",
    "      database: dbtKnoema\n",
    "      password: <>\n",
    "      role: accountadmin\n",
    "      schema: dev\n",
    "      threads: 1\n",
    "      type: snowflake\n",
    "      user: sprsag\n",
    "      warehouse: compute_wh\n",
    "    prod:\n",
    "      account: <>.us-east-1\n",
    "      database: dbtKnoema\n",
    "      password: <>\n",
    "      role: accountadmin\n",
    "      schema: prod\n",
    "      threads: 1\n",
    "      type: snowflake\n",
    "      user: sprsag\n",
    "      warehouse: compute_wh\n",
    "  target: dev"
   ]
  },
  {
   "cell_type": "markdown",
   "metadata": {},
   "source": [
    "By default, dbt is generating a schema name by appending it to the target schema environment name(dev, prod). In this lab we are going to show you a quick way to override this macro, making our schema names to look exactly the same between dev and prod databases. For this, let's create a file macros\\call_me_anything_you_want.sql with the following content:"
   ]
  },
  {
   "cell_type": "code",
   "execution_count": 5,
   "metadata": {},
   "outputs": [
    {
     "name": "stdout",
     "output_type": "stream",
     "text": [
      "Writing ../macros/call_me_anything_you_want.sql\n"
     ]
    }
   ],
   "source": [
    "%%writefile ../macros/call_me_anything_you_want.sql\n",
    "{% macro generate_schema_name(custom_schema_name, node) -%}\n",
    "    {%- set default_schema = target.schema -%}\n",
    "    {%- if custom_schema_name is none -%}\n",
    "        {{ default_schema }}\n",
    "    {%- else -%}\n",
    "        {{ custom_schema_name | trim }}\n",
    "    {%- endif -%}\n",
    "{%- endmacro %}\n",
    "\n",
    "\n",
    "{% macro set_query_tag() -%}\n",
    "  {% set new_query_tag = model.name %} {# always use model name #}\n",
    "  {% if new_query_tag %}\n",
    "    {% set original_query_tag = get_current_query_tag() %}\n",
    "    {{ log(\"Setting query_tag to '\" ~ new_query_tag ~ \"'. Will reset to '\" ~ original_query_tag ~ \"' after materialization.\") }}\n",
    "    {% do run_query(\"alter session set query_tag = '{}'\".format(new_query_tag)) %}\n",
    "    {{ return(original_query_tag)}}\n",
    "  {% endif %}\n",
    "  {{ return(none)}}\n",
    "{% endmacro %}"
   ]
  },
  {
   "cell_type": "code",
   "execution_count": null,
   "metadata": {},
   "outputs": [],
   "source": [
    "%%writefile ../packages.yml\n",
    "packages:\n",
    "  - package: dbt-labs/dbt_utils\n",
    "    version: 0.8.2"
   ]
  },
  {
   "cell_type": "code",
   "execution_count": 6,
   "metadata": {},
   "outputs": [
    {
     "name": "stdout",
     "output_type": "stream",
     "text": [
      "\u001b[0m15:47:23  Running with dbt=1.2.0\n",
      "\u001b[0m15:47:24  Installing dbt-labs/dbt_utils\n",
      "\u001b[0m15:47:25    Installed from version 0.8.4\n",
      "\u001b[0m15:47:25    Updated version available: 0.8.6\n",
      "\u001b[0m15:47:25  \n",
      "\u001b[0m15:47:25  Updates available for packages: ['dbt-labs/dbt_utils']                 \n",
      "Update your versions in packages.yml, then run dbt deps\n"
     ]
    }
   ],
   "source": [
    "!dbt deps --profiles-dir .. --project-dir .."
   ]
  },
  {
   "cell_type": "code",
   "execution_count": null,
   "metadata": {},
   "outputs": [],
   "source": [
    "!dbt debug  --profiles-dir .. --project-dir .."
   ]
  },
  {
   "cell_type": "code",
   "execution_count": 9,
   "metadata": {},
   "outputs": [
    {
     "name": "stdout",
     "output_type": "stream",
     "text": [
      "\u001b[0m15:58:53  Running with dbt=1.2.0\n",
      "\u001b[0m15:58:54  Unable to do partial parsing because profile has changed\n",
      "\u001b[0m15:58:54  Unable to do partial parsing because a project config has changed\n",
      "\u001b[0m15:58:57  [\u001b[33mWARNING\u001b[0m]: Test 'test.snowflake_workshop.fct_orders_negative_discount_amount' (tests/fct_orders_negative_discount_amount.sql) depends on a node named 'fct_orders' which was not found\n",
      "\u001b[0m15:58:57  Found 15 models, 6 tests, 0 snapshots, 0 analyses, 482 macros, 0 operations, 2 seed files, 2 sources, 0 exposures, 0 metrics\n",
      "\u001b[0m15:58:57  \n",
      "\u001b[0m15:59:16  Concurrency: 1 threads (target='dev')\n",
      "\u001b[0m15:59:16  \n",
      "\u001b[0m15:59:16  1 of 2 START seed file dev.manual_book1 ........................................ [RUN]\n",
      "\u001b[0m15:59:23  1 of 2 OK loaded seed file dev.manual_book1 .................................... [\u001b[32mINSERT 7\u001b[0m in 6.78s]\n",
      "\u001b[0m15:59:23  2 of 2 START seed file dev.manual_book2 ........................................ [RUN]\n",
      "\u001b[0m15:59:30  2 of 2 OK loaded seed file dev.manual_book2 .................................... [\u001b[32mINSERT 5\u001b[0m in 6.23s]\n",
      "\u001b[0m15:59:30  \n",
      "\u001b[0m15:59:30  Finished running 2 seeds in 0 hours 0 minutes and 32.67 seconds (32.67s).\n",
      "\u001b[0m15:59:30  \n",
      "\u001b[0m15:59:30  \u001b[32mCompleted successfully\u001b[0m\n",
      "\u001b[0m15:59:30  \n",
      "\u001b[0m15:59:30  Done. PASS=2 WARN=0 ERROR=0 SKIP=0 TOTAL=2\n"
     ]
    }
   ],
   "source": [
    "!dbt seed  --profiles-dir .. --project-dir .."
   ]
  },
  {
   "cell_type": "code",
   "execution_count": 15,
   "metadata": {},
   "outputs": [
    {
     "name": "stdout",
     "output_type": "stream",
     "text": [
      "\u001b[0m16:16:10  Running with dbt=1.2.0\n",
      "\u001b[0m16:16:10  Found 15 models, 6 tests, 0 snapshots, 0 analyses, 482 macros, 0 operations, 2 seed files, 2 sources, 0 exposures, 0 metrics\n",
      "\u001b[0m16:16:10  \n",
      "\u001b[0m16:16:34  Concurrency: 1 threads (target='dev')\n",
      "\u001b[0m16:16:34  \n",
      "\u001b[0m16:16:34  1 of 15 START view model l10_staging.base_knoema_fx_rates ...................... [RUN]\n",
      "\u001b[0m16:16:39  1 of 15 OK created view model l10_staging.base_knoema_fx_rates ................. [\u001b[32mSUCCESS 1\u001b[0m in 4.90s]\n",
      "\u001b[0m16:16:39  2 of 15 START view model l10_staging.base_knoema_stock_history ................. [RUN]\n",
      "\u001b[0m16:16:43  2 of 15 OK created view model l10_staging.base_knoema_stock_history ............ [\u001b[32mSUCCESS 1\u001b[0m in 4.70s]\n",
      "\u001b[0m16:16:43  3 of 15 START view model l20_transform.tfm_book ................................ [RUN]\n",
      "\u001b[0m16:16:49  3 of 15 OK created view model l20_transform.tfm_book ........................... [\u001b[32mSUCCESS 1\u001b[0m in 5.32s]\n",
      "\u001b[0m16:16:49  4 of 15 START table model l20_transform.tfm_fx_rates ........................... [RUN]\n",
      "\u001b[0m16:16:59  4 of 15 OK created table model l20_transform.tfm_fx_rates ...................... [\u001b[32mSUCCESS 1\u001b[0m in 9.83s]\n",
      "\u001b[0m16:16:59  5 of 15 START view model l20_transform.tfm_knoema_stock_history ................ [RUN]\n",
      "\u001b[0m16:17:03  5 of 15 OK created view model l20_transform.tfm_knoema_stock_history ........... [\u001b[32mSUCCESS 1\u001b[0m in 4.50s]\n",
      "\u001b[0m16:17:03  6 of 15 START view model l20_transform.tfm_knoema_stock_history_alt ............ [RUN]\n",
      "\u001b[0m16:17:17  6 of 15 OK created view model l20_transform.tfm_knoema_stock_history_alt ....... [\u001b[32mSUCCESS 1\u001b[0m in 14.33s]\n",
      "\u001b[0m16:17:17  7 of 15 START view model l20_transform.tfm_stock_history ....................... [RUN]\n",
      "\u001b[0m16:17:22  7 of 15 OK created view model l20_transform.tfm_stock_history .................. [\u001b[32mSUCCESS 1\u001b[0m in 4.15s]\n",
      "\u001b[0m16:17:22  8 of 15 START view model l20_transform.tfm_stock_history_major_currency ........ [RUN]\n",
      "\u001b[0m16:17:26  8 of 15 OK created view model l20_transform.tfm_stock_history_major_currency ... [\u001b[32mSUCCESS 1\u001b[0m in 4.38s]\n",
      "\u001b[0m16:17:26  9 of 15 START view model l20_transform.tfm_daily_position ...................... [RUN]\n",
      "\u001b[0m16:17:31  9 of 15 OK created view model l20_transform.tfm_daily_position ................. [\u001b[32mSUCCESS 1\u001b[0m in 4.57s]\n",
      "\u001b[0m16:17:31  10 of 15 START view model l20_transform.tfm_daily_position_with_trades ......... [RUN]\n",
      "\u001b[0m16:17:36  10 of 15 OK created view model l20_transform.tfm_daily_position_with_trades .... [\u001b[32mSUCCESS 1\u001b[0m in 5.17s]\n",
      "\u001b[0m16:17:36  11 of 15 START view model l20_transform.tfm_trading_pnl ........................ [RUN]\n",
      "\u001b[0m16:17:41  11 of 15 OK created view model l20_transform.tfm_trading_pnl ................... [\u001b[32mSUCCESS 1\u001b[0m in 4.86s]\n",
      "\u001b[0m16:17:41  12 of 15 START incremental model l30_mart.fct_trading_pnl ...................... [RUN]\n",
      "\u001b[0m16:17:54  12 of 15 OK created incremental model l30_mart.fct_trading_pnl ................. [\u001b[32mSUCCESS 1\u001b[0m in 13.00s]\n",
      "\u001b[0m16:17:54  13 of 15 START view model l30_mart.fct_trading_pnl_finance_view ................ [RUN]\n",
      "\u001b[0m16:17:58  13 of 15 OK created view model l30_mart.fct_trading_pnl_finance_view ........... [\u001b[32mSUCCESS 1\u001b[0m in 4.40s]\n",
      "\u001b[0m16:17:58  14 of 15 START view model l30_mart.fct_trading_pnl_risk_view ................... [RUN]\n",
      "\u001b[0m16:18:02  14 of 15 OK created view model l30_mart.fct_trading_pnl_risk_view .............. [\u001b[32mSUCCESS 1\u001b[0m in 4.09s]\n",
      "\u001b[0m16:18:02  15 of 15 START view model l30_mart.fct_trading_pnl_treasury_view ............... [RUN]\n",
      "\u001b[0m16:18:07  15 of 15 OK created view model l30_mart.fct_trading_pnl_treasury_view .......... [\u001b[32mSUCCESS 1\u001b[0m in 4.44s]\n",
      "\u001b[0m16:18:07  \n",
      "\u001b[0m16:18:07  Finished running 13 view models, 1 table model, 1 incremental model in 0 hours 1 minutes and 56.18 seconds (116.18s).\n",
      "\u001b[0m16:18:07  \n",
      "\u001b[0m16:18:07  \u001b[32mCompleted successfully\u001b[0m\n",
      "\u001b[0m16:18:07  \n",
      "\u001b[0m16:18:07  Done. PASS=15 WARN=0 ERROR=0 SKIP=0 TOTAL=15\n"
     ]
    }
   ],
   "source": [
    "!dbt run  --profiles-dir .. --project-dir .."
   ]
  },
  {
   "cell_type": "code",
   "execution_count": 16,
   "metadata": {},
   "outputs": [
    {
     "name": "stdout",
     "output_type": "stream",
     "text": [
      "\u001b[0m16:18:23  Running with dbt=1.2.0\n",
      "\u001b[0m16:18:24  Found 15 models, 6 tests, 0 snapshots, 0 analyses, 482 macros, 0 operations, 2 seed files, 2 sources, 0 exposures, 0 metrics\n",
      "\u001b[0m16:18:24  \n",
      "\u001b[0m16:18:39  Concurrency: 1 threads (target='dev')\n",
      "\u001b[0m16:18:39  \n",
      "\u001b[0m16:18:39  1 of 6 START test not_null_tfm_book_instrument ................................. [RUN]\n",
      "\u001b[0m16:18:42  1 of 6 PASS not_null_tfm_book_instrument ....................................... [\u001b[32mPASS\u001b[0m in 3.27s]\n",
      "\u001b[0m16:18:42  2 of 6 START test not_null_tfm_fx_rates_currency_date .......................... [RUN]\n",
      "\u001b[0m16:18:46  2 of 6 PASS not_null_tfm_fx_rates_currency_date ................................ [\u001b[32mPASS\u001b[0m in 3.69s]\n",
      "\u001b[0m16:18:46  3 of 6 START test not_null_tfm_stock_history_company_symbol_date_stock_exchange_name  [RUN]\n",
      "\u001b[0m16:19:12  3 of 6 PASS not_null_tfm_stock_history_company_symbol_date_stock_exchange_name . [\u001b[32mPASS\u001b[0m in 26.60s]\n",
      "\u001b[0m16:19:12  4 of 6 START test relationships_tfm_book_instrument__company_symbol__ref_tfm_stock_history_  [RUN]\n",
      "\u001b[0m16:19:17  4 of 6 PASS relationships_tfm_book_instrument__company_symbol__ref_tfm_stock_history_  [\u001b[32mPASS\u001b[0m in 5.21s]\n",
      "\u001b[0m16:19:17  5 of 6 START test unique_tfm_fx_rates_currency_date ............................ [RUN]\n",
      "\u001b[0m16:19:21  5 of 6 PASS unique_tfm_fx_rates_currency_date .................................. [\u001b[32mPASS\u001b[0m in 3.96s]\n",
      "\u001b[0m16:19:21  6 of 6 START test unique_tfm_stock_history_company_symbol_date_stock_exchange_name  [RUN]\n",
      "\u001b[0m16:20:19  6 of 6 PASS unique_tfm_stock_history_company_symbol_date_stock_exchange_name ... [\u001b[32mPASS\u001b[0m in 57.37s]\n",
      "\u001b[0m16:20:19  \n",
      "\u001b[0m16:20:19  Finished running 6 tests in 0 hours 1 minutes and 55.03 seconds (115.03s).\n",
      "\u001b[0m16:20:19  \n",
      "\u001b[0m16:20:19  \u001b[32mCompleted successfully\u001b[0m\n",
      "\u001b[0m16:20:19  \n",
      "\u001b[0m16:20:19  Done. PASS=6 WARN=0 ERROR=0 SKIP=0 TOTAL=6\n"
     ]
    }
   ],
   "source": [
    "!dbt test  --profiles-dir .. --project-dir .."
   ]
  },
  {
   "cell_type": "code",
   "execution_count": null,
   "metadata": {},
   "outputs": [],
   "source": [
    "!dbt docs generate  --profiles-dir .. --project-dir .."
   ]
  },
  {
   "cell_type": "code",
   "execution_count": 18,
   "metadata": {},
   "outputs": [
    {
     "name": "stdout",
     "output_type": "stream",
     "text": [
      "\u001b[0m16:21:33  Running with dbt=1.2.0\n",
      "\u001b[0m16:21:33  Serving docs at 0.0.0.0:8080\n",
      "\u001b[0m16:21:33  To access from your browser, navigate to:  http://localhost:8080\n",
      "\u001b[0m16:21:33  \n",
      "\u001b[0m16:21:33  \n",
      "\u001b[0m16:21:33  Press Ctrl+C to exit.\n",
      "127.0.0.1 - - [05/Aug/2022 21:51:34] \"GET / HTTP/1.1\" 200 -\n",
      "127.0.0.1 - - [05/Aug/2022 21:51:35] \"GET /manifest.json?cb=1659716495450 HTTP/1.1\" 200 -\n",
      "127.0.0.1 - - [05/Aug/2022 21:51:35] \"GET /catalog.json?cb=1659716495450 HTTP/1.1\" 200 -\n",
      "^C\n"
     ]
    }
   ],
   "source": [
    "!dbt docs serve --profiles-dir .. --project-dir .."
   ]
  },
  {
   "cell_type": "code",
   "execution_count": null,
   "metadata": {},
   "outputs": [],
   "source": []
  }
 ],
 "metadata": {
  "kernelspec": {
   "display_name": "Python 3.9.7 ('env-spacy')",
   "language": "python",
   "name": "python3"
  },
  "language_info": {
   "codemirror_mode": {
    "name": "ipython",
    "version": 3
   },
   "file_extension": ".py",
   "mimetype": "text/x-python",
   "name": "python",
   "nbconvert_exporter": "python",
   "pygments_lexer": "ipython3",
   "version": "3.9.7"
  },
  "orig_nbformat": 4,
  "vscode": {
   "interpreter": {
    "hash": "343191058819caea96d5cde1bd3b1a75b4807623ce2cda0e1c8499e39ac847e3"
   }
  }
 },
 "nbformat": 4,
 "nbformat_minor": 2
}
