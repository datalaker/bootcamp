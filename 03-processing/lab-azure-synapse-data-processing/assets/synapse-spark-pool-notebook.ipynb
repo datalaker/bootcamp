{
  "cells": [
    {
      "cell_type": "code",
      "source": [
        "df = spark.read.load('abfss://synapse@sparshstorage1.dfs.core.windows.net/CSV/covid-data.csv',\r\n",
        "format='csv',\r\n",
        "header=True\r\n",
        ")\r\n",
        "display(df.limit(10))"
      ],
      "outputs": [
        {
          "output_type": "display_data",
          "data": {
            "application/vnd.livy.statement-meta+json": {
              "spark_pool": "sparshsparkpool",
              "session_id": "0",
              "statement_id": 1,
              "state": "finished",
              "livy_statement_state": "available",
              "queued_time": "2023-02-11T14:53:07.3799189Z",
              "session_start_time": "2023-02-11T14:53:07.4100071Z",
              "execution_start_time": "2023-02-11T14:56:53.5781142Z",
              "execution_finish_time": "2023-02-11T14:57:33.3392923Z",
              "spark_jobs": null
            },
            "text/plain": "StatementMeta(sparshsparkpool, 0, 1, Finished, Available)"
          },
          "metadata": {}
        },
        {
          "output_type": "display_data",
          "data": {
            "application/vnd.synapse.widget-view+json": {
              "widget_id": "b6e2cc5e-7d63-42d6-b851-764c9013c04c",
              "widget_type": "Synapse.DataFrame"
            },
            "text/plain": "SynapseWidget(Synapse.DataFrame, b6e2cc5e-7d63-42d6-b851-764c9013c04c)"
          },
          "metadata": {}
        }
      ],
      "execution_count": 1,
      "metadata": {
        "microsoft": {},
        "collapsed": false
      }
    },
    {
      "cell_type": "code",
      "source": [
        "df.createOrReplaceTempView(\"v1\")"
      ],
      "outputs": [
        {
          "output_type": "display_data",
          "data": {
            "application/vnd.livy.statement-meta+json": {
              "spark_pool": "sparshsparkpool",
              "session_id": "0",
              "statement_id": 3,
              "state": "finished",
              "livy_statement_state": "available",
              "queued_time": "2023-02-11T14:56:21.8592766Z",
              "session_start_time": null,
              "execution_start_time": "2023-02-11T14:57:51.0461522Z",
              "execution_finish_time": "2023-02-11T14:57:51.2198736Z",
              "spark_jobs": null
            },
            "text/plain": "StatementMeta(sparshsparkpool, 0, 3, Finished, Available)"
          },
          "metadata": {}
        }
      ],
      "execution_count": 3,
      "metadata": {
        "jupyter": {
          "source_hidden": false,
          "outputs_hidden": false
        },
        "nteract": {
          "transient": {
            "deleting": false
          }
        }
      }
    },
    {
      "cell_type": "code",
      "source": [
        "%%sql\n",
        "Describe v1;"
      ],
      "outputs": [
        {
          "output_type": "display_data",
          "data": {
            "application/vnd.livy.statement-meta+json": {
              "spark_pool": "sparshsparkpool",
              "session_id": "0",
              "statement_id": 4,
              "state": "finished",
              "livy_statement_state": "available",
              "queued_time": "2023-02-11T14:56:24.3589888Z",
              "session_start_time": null,
              "execution_start_time": "2023-02-11T14:57:51.3381996Z",
              "execution_finish_time": "2023-02-11T14:57:52.4535426Z",
              "spark_jobs": null
            },
            "text/plain": "StatementMeta(sparshsparkpool, 0, 4, Finished, Available)"
          },
          "metadata": {}
        },
        {
          "output_type": "execute_result",
          "execution_count": 4,
          "data": {
            "application/vnd.synapse.sparksql-result+json": {
              "schema": {
                "type": "struct",
                "fields": [
                  {
                    "name": "col_name",
                    "type": "string",
                    "nullable": false,
                    "metadata": {
                      "comment": "name of the column"
                    }
                  },
                  {
                    "name": "data_type",
                    "type": "string",
                    "nullable": false,
                    "metadata": {
                      "comment": "data type of the column"
                    }
                  },
                  {
                    "name": "comment",
                    "type": "string",
                    "nullable": true,
                    "metadata": {
                      "comment": "comment of the column"
                    }
                  }
                ]
              },
              "data": [
                [
                  "iso_code",
                  "string",
                  null
                ],
                [
                  "continent",
                  "string",
                  null
                ],
                [
                  "location",
                  "string",
                  null
                ],
                [
                  "date",
                  "string",
                  null
                ],
                [
                  "total_cases",
                  "string",
                  null
                ],
                [
                  "new_cases",
                  "string",
                  null
                ],
                [
                  "new_cases_smoothed",
                  "string",
                  null
                ],
                [
                  "total_deaths",
                  "string",
                  null
                ],
                [
                  "new_deaths",
                  "string",
                  null
                ],
                [
                  "new_deaths_smoothed",
                  "string",
                  null
                ],
                [
                  "total_cases_per_million",
                  "string",
                  null
                ],
                [
                  "new_cases_per_million",
                  "string",
                  null
                ],
                [
                  "new_cases_smoothed_per_million",
                  "string",
                  null
                ],
                [
                  "total_deaths_per_million",
                  "string",
                  null
                ],
                [
                  "new_deaths_per_million",
                  "string",
                  null
                ],
                [
                  "new_deaths_smoothed_per_million",
                  "string",
                  null
                ],
                [
                  "reproduction_rate",
                  "string",
                  null
                ],
                [
                  "icu_patients",
                  "string",
                  null
                ],
                [
                  "icu_patients_per_million",
                  "string",
                  null
                ],
                [
                  "hosp_patients",
                  "string",
                  null
                ],
                [
                  "hosp_patients_per_million",
                  "string",
                  null
                ],
                [
                  "total_tests_per_thousand",
                  "string",
                  null
                ],
                [
                  "new_tests_per_thousand",
                  "string",
                  null
                ],
                [
                  "new_tests_smoothed",
                  "string",
                  null
                ],
                [
                  "new_tests_smoothed_per_thousand",
                  "string",
                  null
                ],
                [
                  "positive_rate",
                  "string",
                  null
                ],
                [
                  "tests_per_case",
                  "string",
                  null
                ],
                [
                  "tests_units",
                  "string",
                  null
                ],
                [
                  "total_vaccinations",
                  "string",
                  null
                ],
                [
                  "people_vaccinated",
                  "string",
                  null
                ],
                [
                  "people_fully_vaccinated",
                  "string",
                  null
                ],
                [
                  "total_boosters",
                  "string",
                  null
                ],
                [
                  "new_vaccinations",
                  "string",
                  null
                ],
                [
                  "new_vaccinations_smoothed",
                  "string",
                  null
                ],
                [
                  "total_vaccinations_per_hundred",
                  "string",
                  null
                ],
                [
                  "people_vaccinated_per_hundred",
                  "string",
                  null
                ],
                [
                  "people_fully_vaccinated_per_hundred",
                  "string",
                  null
                ],
                [
                  "total_boosters_per_hundred",
                  "string",
                  null
                ],
                [
                  "new_vaccinations_smoothed_per_million",
                  "string",
                  null
                ],
                [
                  "new_people_vaccinated_smoothed",
                  "string",
                  null
                ],
                [
                  "new_people_vaccinated_smoothed_per_hundred",
                  "string",
                  null
                ],
                [
                  "stringency_index",
                  "string",
                  null
                ],
                [
                  "population",
                  "string",
                  null
                ],
                [
                  "population_density",
                  "string",
                  null
                ],
                [
                  "median_age",
                  "string",
                  null
                ],
                [
                  "aged_65_older",
                  "string",
                  null
                ],
                [
                  "aged_70_older",
                  "string",
                  null
                ],
                [
                  "gdp_per_capita",
                  "string",
                  null
                ],
                [
                  "extreme_poverty",
                  "string",
                  null
                ],
                [
                  "cardiovasc_death_rate",
                  "string",
                  null
                ],
                [
                  "diabetes_prevalence",
                  "string",
                  null
                ],
                [
                  "female_smokers",
                  "string",
                  null
                ],
                [
                  "male_smokers",
                  "string",
                  null
                ],
                [
                  "handwashing_facilities",
                  "string",
                  null
                ],
                [
                  "hospital_beds_per_thousand",
                  "string",
                  null
                ],
                [
                  "life_expectancy",
                  "string",
                  null
                ],
                [
                  "human_development_index",
                  "string",
                  null
                ],
                [
                  "excess_mortality_cumulative_absolute",
                  "string",
                  null
                ],
                [
                  "excess_mortality_cumulative",
                  "string",
                  null
                ],
                [
                  "excess_mortality",
                  "string",
                  null
                ],
                [
                  "excess_mortality_cumulative_per_million",
                  "string",
                  null
                ]
              ]
            },
            "text/plain": "<Spark SQL result set with 61 rows and 3 fields>"
          },
          "metadata": {}
        }
      ],
      "execution_count": 4,
      "metadata": {
        "jupyter": {
          "source_hidden": false,
          "outputs_hidden": false
        },
        "nteract": {
          "transient": {
            "deleting": false
          }
        },
        "microsoft": {
          "language": "sparksql"
        },
        "collapsed": false
      }
    },
    {
      "cell_type": "code",
      "source": [
        "%%sql\n",
        "Create database sparksqldb;\n",
        "Create or replace table sparksqldb.covid\n",
        "USING Delta\n",
        "AS\n",
        "Select date, continent,location, CAST(new_cases as int) as new_cases,\n",
        "CAST(new_deaths as int) as new_deaths from v1"
      ],
      "outputs": [
        {
          "output_type": "display_data",
          "data": {
            "application/vnd.livy.statement-meta+json": {
              "spark_pool": null,
              "session_id": "0",
              "statement_id": -1,
              "state": "finished",
              "livy_statement_state": "available",
              "queued_time": "2023-02-11T14:58:02.689284Z",
              "session_start_time": null,
              "execution_start_time": "2023-02-11T14:58:28.1215229Z",
              "execution_finish_time": "2023-02-11T14:58:28.1220432Z",
              "spark_jobs": null
            },
            "text/plain": "StatementMeta(, 0, -1, Finished, Available)"
          },
          "metadata": {}
        },
        {
          "output_type": "execute_result",
          "execution_count": 5,
          "data": {
            "application/vnd.synapse.sparksql-result+json": {
              "schema": {
                "type": "struct",
                "fields": []
              },
              "data": []
            },
            "text/plain": "<Spark SQL result set with 0 rows and 0 fields>"
          },
          "metadata": {}
        },
        {
          "output_type": "execute_result",
          "execution_count": 5,
          "data": {
            "application/vnd.synapse.sparksql-result+json": {
              "schema": {
                "type": "struct",
                "fields": []
              },
              "data": []
            },
            "text/plain": "<Spark SQL result set with 0 rows and 0 fields>"
          },
          "metadata": {}
        }
      ],
      "execution_count": 5,
      "metadata": {
        "jupyter": {
          "source_hidden": false,
          "outputs_hidden": false
        },
        "nteract": {
          "transient": {
            "deleting": false
          }
        },
        "microsoft": {
          "language": "sparksql"
        },
        "collapsed": false
      }
    },
    {
      "cell_type": "code",
      "source": [
        "%%sql\n",
        "Describe table sparksqldb.covid;"
      ],
      "outputs": [
        {
          "output_type": "display_data",
          "data": {
            "application/vnd.livy.statement-meta+json": {
              "spark_pool": "sparshsparkpool",
              "session_id": "0",
              "statement_id": 7,
              "state": "finished",
              "livy_statement_state": "available",
              "queued_time": "2023-02-11T14:58:54.9196234Z",
              "session_start_time": null,
              "execution_start_time": "2023-02-11T14:58:55.0575281Z",
              "execution_finish_time": "2023-02-11T14:58:56.1859872Z",
              "spark_jobs": null
            },
            "text/plain": "StatementMeta(sparshsparkpool, 0, 7, Finished, Available)"
          },
          "metadata": {}
        },
        {
          "output_type": "execute_result",
          "execution_count": 6,
          "data": {
            "application/vnd.synapse.sparksql-result+json": {
              "schema": {
                "type": "struct",
                "fields": [
                  {
                    "name": "col_name",
                    "type": "string",
                    "nullable": false,
                    "metadata": {
                      "comment": "name of the column"
                    }
                  },
                  {
                    "name": "data_type",
                    "type": "string",
                    "nullable": false,
                    "metadata": {
                      "comment": "data type of the column"
                    }
                  },
                  {
                    "name": "comment",
                    "type": "string",
                    "nullable": true,
                    "metadata": {
                      "comment": "comment of the column"
                    }
                  }
                ]
              },
              "data": [
                [
                  "date",
                  "string",
                  ""
                ],
                [
                  "continent",
                  "string",
                  ""
                ],
                [
                  "location",
                  "string",
                  ""
                ],
                [
                  "new_cases",
                  "int",
                  ""
                ],
                [
                  "new_deaths",
                  "int",
                  ""
                ],
                [
                  "",
                  "",
                  ""
                ],
                [
                  "# Partitioning",
                  "",
                  ""
                ],
                [
                  "Not partitioned",
                  "",
                  ""
                ]
              ]
            },
            "text/plain": "<Spark SQL result set with 8 rows and 3 fields>"
          },
          "metadata": {}
        }
      ],
      "execution_count": 6,
      "metadata": {
        "jupyter": {
          "source_hidden": false,
          "outputs_hidden": false
        },
        "nteract": {
          "transient": {
            "deleting": false
          }
        },
        "microsoft": {
          "language": "sparksql"
        },
        "collapsed": false
      }
    },
    {
      "cell_type": "code",
      "source": [
        "%%sql\n",
        "Delete from sparksqldb.covid where continent is NULL"
      ],
      "outputs": [
        {
          "output_type": "display_data",
          "data": {
            "application/vnd.livy.statement-meta+json": {
              "spark_pool": "sparshsparkpool",
              "session_id": "0",
              "statement_id": 8,
              "state": "finished",
              "livy_statement_state": "available",
              "queued_time": "2023-02-11T14:59:24.4685851Z",
              "session_start_time": null,
              "execution_start_time": "2023-02-11T14:59:24.5949843Z",
              "execution_finish_time": "2023-02-11T14:59:35.326119Z",
              "spark_jobs": null
            },
            "text/plain": "StatementMeta(sparshsparkpool, 0, 8, Finished, Available)"
          },
          "metadata": {}
        },
        {
          "output_type": "execute_result",
          "execution_count": 7,
          "data": {
            "application/vnd.synapse.sparksql-result+json": {
              "schema": {
                "type": "struct",
                "fields": []
              },
              "data": []
            },
            "text/plain": "<Spark SQL result set with 0 rows and 0 fields>"
          },
          "metadata": {}
        }
      ],
      "execution_count": 7,
      "metadata": {
        "jupyter": {
          "source_hidden": false,
          "outputs_hidden": false
        },
        "nteract": {
          "transient": {
            "deleting": false
          }
        },
        "microsoft": {
          "language": "sparksql"
        },
        "collapsed": false
      }
    },
    {
      "cell_type": "code",
      "source": [
        "%%sql\n",
        "DESCRIBE DETAIL sparksqldb.covid"
      ],
      "outputs": [
        {
          "output_type": "display_data",
          "data": {
            "application/vnd.livy.statement-meta+json": {
              "spark_pool": "sparshsparkpool",
              "session_id": "0",
              "statement_id": 9,
              "state": "finished",
              "livy_statement_state": "available",
              "queued_time": "2023-02-11T15:00:21.3782771Z",
              "session_start_time": null,
              "execution_start_time": "2023-02-11T15:00:21.5269735Z",
              "execution_finish_time": "2023-02-11T15:00:23.4008187Z",
              "spark_jobs": null
            },
            "text/plain": "StatementMeta(sparshsparkpool, 0, 9, Finished, Available)"
          },
          "metadata": {}
        },
        {
          "output_type": "execute_result",
          "execution_count": 8,
          "data": {
            "application/vnd.synapse.sparksql-result+json": {
              "schema": {
                "type": "struct",
                "fields": [
                  {
                    "name": "format",
                    "type": "string",
                    "nullable": true,
                    "metadata": {}
                  },
                  {
                    "name": "id",
                    "type": "string",
                    "nullable": true,
                    "metadata": {}
                  },
                  {
                    "name": "name",
                    "type": "string",
                    "nullable": true,
                    "metadata": {}
                  },
                  {
                    "name": "description",
                    "type": "string",
                    "nullable": true,
                    "metadata": {}
                  },
                  {
                    "name": "location",
                    "type": "string",
                    "nullable": true,
                    "metadata": {}
                  },
                  {
                    "name": "createdAt",
                    "type": "timestamp",
                    "nullable": true,
                    "metadata": {}
                  },
                  {
                    "name": "lastModified",
                    "type": "timestamp",
                    "nullable": true,
                    "metadata": {}
                  },
                  {
                    "name": "partitionColumns",
                    "type": {
                      "type": "array",
                      "elementType": "string",
                      "containsNull": true
                    },
                    "nullable": true,
                    "metadata": {}
                  },
                  {
                    "name": "numFiles",
                    "type": "long",
                    "nullable": true,
                    "metadata": {}
                  },
                  {
                    "name": "sizeInBytes",
                    "type": "long",
                    "nullable": true,
                    "metadata": {}
                  },
                  {
                    "name": "properties",
                    "type": {
                      "type": "map",
                      "keyType": "string",
                      "valueType": "string",
                      "valueContainsNull": true
                    },
                    "nullable": true,
                    "metadata": {}
                  },
                  {
                    "name": "minReaderVersion",
                    "type": "integer",
                    "nullable": true,
                    "metadata": {}
                  },
                  {
                    "name": "minWriterVersion",
                    "type": "integer",
                    "nullable": true,
                    "metadata": {}
                  }
                ]
              },
              "data": [
                [
                  "delta",
                  "8e1e159f-668e-4903-b118-8524828bdc74",
                  "sparksqldb.covid",
                  null,
                  "abfss://synapse@sparshstorage1.dfs.core.windows.net/synapse/workspaces/sparshadesynapse/warehouse/sparksqldb.db/covid",
                  "2023-02-11T14:58:08Z",
                  "2023-02-11T14:59:31Z",
                  [],
                  "7",
                  "366436",
                  {},
                  1,
                  2
                ]
              ]
            },
            "text/plain": "<Spark SQL result set with 1 rows and 13 fields>"
          },
          "metadata": {}
        }
      ],
      "execution_count": 8,
      "metadata": {
        "jupyter": {
          "source_hidden": false,
          "outputs_hidden": false
        },
        "nteract": {
          "transient": {
            "deleting": false
          }
        },
        "microsoft": {
          "language": "sparksql"
        },
        "collapsed": false
      }
    },
    {
      "cell_type": "code",
      "source": [
        "df2 =  spark.read.format(\"delta\").option(\"versionAsOf\", 0).load(\"/synapse/workspaces/sparshadesynapse/warehouse/sparksqldb.db/covid\")\n",
        "df2.createOrReplaceTempView(\"old_Data\")"
      ],
      "outputs": [
        {
          "output_type": "display_data",
          "data": {
            "application/vnd.livy.statement-meta+json": {
              "spark_pool": "sparshsparkpool",
              "session_id": "0",
              "statement_id": 10,
              "state": "finished",
              "livy_statement_state": "available",
              "queued_time": "2023-02-11T15:02:55.9379076Z",
              "session_start_time": null,
              "execution_start_time": "2023-02-11T15:02:56.1362433Z",
              "execution_finish_time": "2023-02-11T15:02:59.0389294Z",
              "spark_jobs": null
            },
            "text/plain": "StatementMeta(sparshsparkpool, 0, 10, Finished, Available)"
          },
          "metadata": {}
        }
      ],
      "execution_count": 9,
      "metadata": {
        "jupyter": {
          "source_hidden": false,
          "outputs_hidden": false
        },
        "nteract": {
          "transient": {
            "deleting": false
          }
        }
      }
    },
    {
      "cell_type": "code",
      "source": [
        "%%sql\n",
        "SELECT * FROM old_Data WHERE continent IS NULL LIMIT 10"
      ],
      "outputs": [
        {
          "output_type": "display_data",
          "data": {
            "application/vnd.livy.statement-meta+json": {
              "spark_pool": "sparshsparkpool",
              "session_id": "0",
              "statement_id": 12,
              "state": "finished",
              "livy_statement_state": "available",
              "queued_time": "2023-02-11T15:03:49.7288368Z",
              "session_start_time": null,
              "execution_start_time": "2023-02-11T15:03:49.8477815Z",
              "execution_finish_time": "2023-02-11T15:03:50.9596741Z",
              "spark_jobs": null
            },
            "text/plain": "StatementMeta(sparshsparkpool, 0, 12, Finished, Available)"
          },
          "metadata": {}
        },
        {
          "output_type": "execute_result",
          "execution_count": 11,
          "data": {
            "application/vnd.synapse.sparksql-result+json": {
              "schema": {
                "type": "struct",
                "fields": [
                  {
                    "name": "date",
                    "type": "string",
                    "nullable": true,
                    "metadata": {}
                  },
                  {
                    "name": "continent",
                    "type": "string",
                    "nullable": true,
                    "metadata": {}
                  },
                  {
                    "name": "location",
                    "type": "string",
                    "nullable": true,
                    "metadata": {}
                  },
                  {
                    "name": "new_cases",
                    "type": "integer",
                    "nullable": true,
                    "metadata": {}
                  },
                  {
                    "name": "new_deaths",
                    "type": "integer",
                    "nullable": true,
                    "metadata": {}
                  }
                ]
              },
              "data": [
                [
                  "1/1/2021",
                  null,
                  "South America",
                  45902,
                  1080
                ],
                [
                  "2/1/2021",
                  null,
                  "South America",
                  38823,
                  875
                ],
                [
                  "3/1/2021",
                  null,
                  "South America",
                  39551,
                  892
                ],
                [
                  "4/1/2021",
                  null,
                  "South America",
                  50539,
                  1199
                ],
                [
                  "5/1/2021",
                  null,
                  "South America",
                  95781,
                  1894
                ],
                [
                  "6/1/2021",
                  null,
                  "South America",
                  102853,
                  2043
                ],
                [
                  "7/1/2021",
                  null,
                  "South America",
                  128472,
                  2346
                ],
                [
                  "8/1/2021",
                  null,
                  "South America",
                  104665,
                  1932
                ],
                [
                  "9/1/2021",
                  null,
                  "South America",
                  87789,
                  1862
                ],
                [
                  "10/1/2021",
                  null,
                  "South America",
                  60822,
                  1231
                ]
              ]
            },
            "text/plain": "<Spark SQL result set with 10 rows and 5 fields>"
          },
          "metadata": {}
        }
      ],
      "execution_count": 11,
      "metadata": {
        "jupyter": {
          "source_hidden": false,
          "outputs_hidden": false
        },
        "nteract": {
          "transient": {
            "deleting": false
          }
        },
        "microsoft": {
          "language": "sparksql"
        },
        "collapsed": false
      }
    },
    {
      "cell_type": "code",
      "source": [],
      "outputs": [],
      "execution_count": null,
      "metadata": {
        "jupyter": {
          "source_hidden": false,
          "outputs_hidden": false
        },
        "nteract": {
          "transient": {
            "deleting": false
          }
        }
      }
    }
  ],
  "metadata": {
    "language_info": {
      "name": "python"
    },
    "kernelspec": {
      "name": "synapse_pyspark",
      "language": "Python",
      "display_name": "Synapse PySpark"
    },
    "kernel_info": {
      "name": "synapse_pyspark"
    },
    "save_output": true,
    "synapse_widget": {
      "version": "0.1",
      "state": {
        "b6e2cc5e-7d63-42d6-b851-764c9013c04c": {
          "type": "Synapse.DataFrame",
          "sync_state": {
            "table": {
              "rows": [
                {
                  "0": "CPV",
                  "1": "Africa",
                  "2": "Cape Verde",
                  "3": "10/2/2021",
                  "4": "14543",
                  "5": "64",
                  "6": "47",
                  "7": "138",
                  "8": "1",
                  "9": "0.429",
                  "10": "25881.783",
                  "11": "113.899",
                  "12": "83.645",
                  "13": "245.595",
                  "14": "1.78",
                  "15": "0.763",
                  "16": "0.83",
                  "22": "1.691",
                  "27": "tests performed",
                  "41": "59.26",
                  "42": "561901",
                  "43": "135.58",
                  "44": "25.7",
                  "45": "4.46",
                  "46": "3.437",
                  "47": "6222.554",
                  "49": "182.219",
                  "50": "2.42",
                  "51": "2.1",
                  "52": "16.5",
                  "54": "2.1",
                  "55": "72.98",
                  "56": "0.665"
                },
                {
                  "0": "CPV",
                  "1": "Africa",
                  "2": "Cape Verde",
                  "3": "11/2/2021",
                  "4": "14601",
                  "5": "58",
                  "6": "44.429",
                  "7": "138",
                  "8": "0",
                  "9": "0.429",
                  "10": "25985.004",
                  "11": "103.221",
                  "12": "79.068",
                  "13": "245.595",
                  "14": "0",
                  "15": "0.763",
                  "16": "0.84",
                  "27": "tests performed",
                  "41": "59.26",
                  "42": "561901",
                  "43": "135.58",
                  "44": "25.7",
                  "45": "4.46",
                  "46": "3.437",
                  "47": "6222.554",
                  "49": "182.219",
                  "50": "2.42",
                  "51": "2.1",
                  "52": "16.5",
                  "54": "2.1",
                  "55": "72.98",
                  "56": "0.665"
                },
                {
                  "0": "CPV",
                  "1": "Africa",
                  "2": "Cape Verde",
                  "3": "12/2/2021",
                  "4": "14647",
                  "5": "46",
                  "6": "48.714",
                  "7": "139",
                  "8": "1",
                  "9": "0.571",
                  "10": "26066.869",
                  "11": "81.865",
                  "12": "86.695",
                  "13": "247.375",
                  "14": "1.78",
                  "15": "1.017",
                  "16": "0.85",
                  "27": "tests performed",
                  "41": "59.26",
                  "42": "561901",
                  "43": "135.58",
                  "44": "25.7",
                  "45": "4.46",
                  "46": "3.437",
                  "47": "6222.554",
                  "49": "182.219",
                  "50": "2.42",
                  "51": "2.1",
                  "52": "16.5",
                  "54": "2.1",
                  "55": "72.98",
                  "56": "0.665"
                },
                {
                  "0": "CPV",
                  "1": "Africa",
                  "2": "Cape Verde",
                  "3": "13/2/2021",
                  "4": "14700",
                  "5": "53",
                  "6": "45.714",
                  "7": "139",
                  "8": "0",
                  "9": "0.571",
                  "10": "26161.192",
                  "11": "94.323",
                  "12": "81.356",
                  "13": "247.375",
                  "14": "0",
                  "15": "1.017",
                  "16": "0.86",
                  "22": "1.046",
                  "27": "tests performed",
                  "41": "59.26",
                  "42": "561901",
                  "43": "135.58",
                  "44": "25.7",
                  "45": "4.46",
                  "46": "3.437",
                  "47": "6222.554",
                  "49": "182.219",
                  "50": "2.42",
                  "51": "2.1",
                  "52": "16.5",
                  "54": "2.1",
                  "55": "72.98",
                  "56": "0.665"
                },
                {
                  "0": "CPV",
                  "1": "Africa",
                  "2": "Cape Verde",
                  "3": "14/2/2021",
                  "4": "14741",
                  "5": "41",
                  "6": "45.429",
                  "7": "139",
                  "8": "0",
                  "9": "0.571",
                  "10": "26234.159",
                  "11": "72.967",
                  "12": "80.848",
                  "13": "247.375",
                  "14": "0",
                  "15": "1.017",
                  "16": "0.87",
                  "22": "0.65",
                  "27": "tests performed",
                  "41": "59.26",
                  "42": "561901",
                  "43": "135.58",
                  "44": "25.7",
                  "45": "4.46",
                  "46": "3.437",
                  "47": "6222.554",
                  "49": "182.219",
                  "50": "2.42",
                  "51": "2.1",
                  "52": "16.5",
                  "54": "2.1",
                  "55": "72.98",
                  "56": "0.665"
                },
                {
                  "0": "CPV",
                  "1": "Africa",
                  "2": "Cape Verde",
                  "3": "15/2/2021",
                  "4": "14761",
                  "5": "20",
                  "6": "44.286",
                  "7": "139",
                  "8": "0",
                  "9": "0.429",
                  "10": "26269.752",
                  "11": "35.593",
                  "12": "78.814",
                  "13": "247.375",
                  "14": "0",
                  "15": "0.763",
                  "16": "0.88",
                  "22": "0.988",
                  "27": "tests performed",
                  "41": "59.26",
                  "42": "561901",
                  "43": "135.58",
                  "44": "25.7",
                  "45": "4.46",
                  "46": "3.437",
                  "47": "6222.554",
                  "49": "182.219",
                  "50": "2.42",
                  "51": "2.1",
                  "52": "16.5",
                  "54": "2.1",
                  "55": "72.98",
                  "56": "0.665"
                },
                {
                  "0": "CPV",
                  "1": "Africa",
                  "2": "Cape Verde",
                  "3": "16/2/2021",
                  "4": "14785",
                  "5": "24",
                  "6": "43.714",
                  "7": "140",
                  "8": "1",
                  "9": "0.429",
                  "10": "26312.464",
                  "11": "42.712",
                  "12": "77.797",
                  "13": "249.154",
                  "14": "1.78",
                  "15": "0.763",
                  "16": "0.89",
                  "22": "1",
                  "27": "tests performed",
                  "41": "59.26",
                  "42": "561901",
                  "43": "135.58",
                  "44": "25.7",
                  "45": "4.46",
                  "46": "3.437",
                  "47": "6222.554",
                  "49": "182.219",
                  "50": "2.42",
                  "51": "2.1",
                  "52": "16.5",
                  "54": "2.1",
                  "55": "72.98",
                  "56": "0.665"
                },
                {
                  "0": "CPV",
                  "1": "Africa",
                  "2": "Cape Verde",
                  "3": "17/2/2021",
                  "4": "14848",
                  "5": "63",
                  "6": "43.571",
                  "7": "141",
                  "8": "1",
                  "9": "0.429",
                  "10": "26424.584",
                  "11": "112.119",
                  "12": "77.543",
                  "13": "250.934",
                  "14": "1.78",
                  "15": "0.763",
                  "16": "0.91",
                  "22": "1.109",
                  "27": "tests performed",
                  "41": "59.26",
                  "42": "561901",
                  "43": "135.58",
                  "44": "25.7",
                  "45": "4.46",
                  "46": "3.437",
                  "47": "6222.554",
                  "49": "182.219",
                  "50": "2.42",
                  "51": "2.1",
                  "52": "16.5",
                  "54": "2.1",
                  "55": "72.98",
                  "56": "0.665"
                },
                {
                  "0": "CPV",
                  "1": "Africa",
                  "2": "Cape Verde",
                  "3": "18/2/2021",
                  "4": "14885",
                  "5": "37",
                  "6": "40.571",
                  "7": "142",
                  "8": "1",
                  "9": "0.571",
                  "10": "26490.432",
                  "11": "65.848",
                  "12": "72.204",
                  "13": "252.714",
                  "14": "1.78",
                  "15": "1.017",
                  "16": "0.93",
                  "27": "tests performed",
                  "41": "59.26",
                  "42": "561901",
                  "43": "135.58",
                  "44": "25.7",
                  "45": "4.46",
                  "46": "3.437",
                  "47": "6222.554",
                  "49": "182.219",
                  "50": "2.42",
                  "51": "2.1",
                  "52": "16.5",
                  "54": "2.1",
                  "55": "72.98",
                  "56": "0.665"
                },
                {
                  "0": "CPV",
                  "1": "Africa",
                  "2": "Cape Verde",
                  "3": "19/2/2021",
                  "4": "14948",
                  "5": "63",
                  "6": "43",
                  "7": "142",
                  "8": "0",
                  "9": "0.429",
                  "10": "26602.551",
                  "11": "112.119",
                  "12": "76.526",
                  "13": "252.714",
                  "14": "0",
                  "15": "0.763",
                  "16": "0.97",
                  "27": "tests performed",
                  "41": "59.26",
                  "42": "561901",
                  "43": "135.58",
                  "44": "25.7",
                  "45": "4.46",
                  "46": "3.437",
                  "47": "6222.554",
                  "49": "182.219",
                  "50": "2.42",
                  "51": "2.1",
                  "52": "16.5",
                  "54": "2.1",
                  "55": "72.98",
                  "56": "0.665"
                }
              ],
              "schema": [
                {
                  "key": "0",
                  "name": "iso_code",
                  "type": "string"
                },
                {
                  "key": "1",
                  "name": "continent",
                  "type": "string"
                },
                {
                  "key": "2",
                  "name": "location",
                  "type": "string"
                },
                {
                  "key": "3",
                  "name": "date",
                  "type": "string"
                },
                {
                  "key": "4",
                  "name": "total_cases",
                  "type": "string"
                },
                {
                  "key": "5",
                  "name": "new_cases",
                  "type": "string"
                },
                {
                  "key": "6",
                  "name": "new_cases_smoothed",
                  "type": "string"
                },
                {
                  "key": "7",
                  "name": "total_deaths",
                  "type": "string"
                },
                {
                  "key": "8",
                  "name": "new_deaths",
                  "type": "string"
                },
                {
                  "key": "9",
                  "name": "new_deaths_smoothed",
                  "type": "string"
                },
                {
                  "key": "10",
                  "name": "total_cases_per_million",
                  "type": "string"
                },
                {
                  "key": "11",
                  "name": "new_cases_per_million",
                  "type": "string"
                },
                {
                  "key": "12",
                  "name": "new_cases_smoothed_per_million",
                  "type": "string"
                },
                {
                  "key": "13",
                  "name": "total_deaths_per_million",
                  "type": "string"
                },
                {
                  "key": "14",
                  "name": "new_deaths_per_million",
                  "type": "string"
                },
                {
                  "key": "15",
                  "name": "new_deaths_smoothed_per_million",
                  "type": "string"
                },
                {
                  "key": "16",
                  "name": "reproduction_rate",
                  "type": "string"
                },
                {
                  "key": "17",
                  "name": "icu_patients",
                  "type": "string"
                },
                {
                  "key": "18",
                  "name": "icu_patients_per_million",
                  "type": "string"
                },
                {
                  "key": "19",
                  "name": "hosp_patients",
                  "type": "string"
                },
                {
                  "key": "20",
                  "name": "hosp_patients_per_million",
                  "type": "string"
                },
                {
                  "key": "21",
                  "name": "total_tests_per_thousand",
                  "type": "string"
                },
                {
                  "key": "22",
                  "name": "new_tests_per_thousand",
                  "type": "string"
                },
                {
                  "key": "23",
                  "name": "new_tests_smoothed",
                  "type": "string"
                },
                {
                  "key": "24",
                  "name": "new_tests_smoothed_per_thousand",
                  "type": "string"
                },
                {
                  "key": "25",
                  "name": "positive_rate",
                  "type": "string"
                },
                {
                  "key": "26",
                  "name": "tests_per_case",
                  "type": "string"
                },
                {
                  "key": "27",
                  "name": "tests_units",
                  "type": "string"
                },
                {
                  "key": "28",
                  "name": "total_vaccinations",
                  "type": "string"
                },
                {
                  "key": "29",
                  "name": "people_vaccinated",
                  "type": "string"
                },
                {
                  "key": "30",
                  "name": "people_fully_vaccinated",
                  "type": "string"
                },
                {
                  "key": "31",
                  "name": "total_boosters",
                  "type": "string"
                },
                {
                  "key": "32",
                  "name": "new_vaccinations",
                  "type": "string"
                },
                {
                  "key": "33",
                  "name": "new_vaccinations_smoothed",
                  "type": "string"
                },
                {
                  "key": "34",
                  "name": "total_vaccinations_per_hundred",
                  "type": "string"
                },
                {
                  "key": "35",
                  "name": "people_vaccinated_per_hundred",
                  "type": "string"
                },
                {
                  "key": "36",
                  "name": "people_fully_vaccinated_per_hundred",
                  "type": "string"
                },
                {
                  "key": "37",
                  "name": "total_boosters_per_hundred",
                  "type": "string"
                },
                {
                  "key": "38",
                  "name": "new_vaccinations_smoothed_per_million",
                  "type": "string"
                },
                {
                  "key": "39",
                  "name": "new_people_vaccinated_smoothed",
                  "type": "string"
                },
                {
                  "key": "40",
                  "name": "new_people_vaccinated_smoothed_per_hundred",
                  "type": "string"
                },
                {
                  "key": "41",
                  "name": "stringency_index",
                  "type": "string"
                },
                {
                  "key": "42",
                  "name": "population",
                  "type": "string"
                },
                {
                  "key": "43",
                  "name": "population_density",
                  "type": "string"
                },
                {
                  "key": "44",
                  "name": "median_age",
                  "type": "string"
                },
                {
                  "key": "45",
                  "name": "aged_65_older",
                  "type": "string"
                },
                {
                  "key": "46",
                  "name": "aged_70_older",
                  "type": "string"
                },
                {
                  "key": "47",
                  "name": "gdp_per_capita",
                  "type": "string"
                },
                {
                  "key": "48",
                  "name": "extreme_poverty",
                  "type": "string"
                },
                {
                  "key": "49",
                  "name": "cardiovasc_death_rate",
                  "type": "string"
                },
                {
                  "key": "50",
                  "name": "diabetes_prevalence",
                  "type": "string"
                },
                {
                  "key": "51",
                  "name": "female_smokers",
                  "type": "string"
                },
                {
                  "key": "52",
                  "name": "male_smokers",
                  "type": "string"
                },
                {
                  "key": "53",
                  "name": "handwashing_facilities",
                  "type": "string"
                },
                {
                  "key": "54",
                  "name": "hospital_beds_per_thousand",
                  "type": "string"
                },
                {
                  "key": "55",
                  "name": "life_expectancy",
                  "type": "string"
                },
                {
                  "key": "56",
                  "name": "human_development_index",
                  "type": "string"
                },
                {
                  "key": "57",
                  "name": "excess_mortality_cumulative_absolute",
                  "type": "string"
                },
                {
                  "key": "58",
                  "name": "excess_mortality_cumulative",
                  "type": "string"
                },
                {
                  "key": "59",
                  "name": "excess_mortality",
                  "type": "string"
                },
                {
                  "key": "60",
                  "name": "excess_mortality_cumulative_per_million",
                  "type": "string"
                }
              ],
              "truncated": false
            },
            "isSummary": false,
            "language": "scala"
          },
          "persist_state": {
            "view": {
              "type": "details",
              "tableOptions": {},
              "chartOptions": {
                "chartType": "bar",
                "aggregationType": "count",
                "categoryFieldKeys": [
                  "0"
                ],
                "seriesFieldKeys": [
                  "0"
                ],
                "isStacked": false
              }
            }
          }
        }
      }
    }
  },
  "nbformat": 4,
  "nbformat_minor": 2
}