{
 "cells": [
  {
   "cell_type": "code",
   "execution_count": 2,
   "metadata": {},
   "outputs": [
    {
     "name": "stdout",
     "output_type": "stream",
     "text": [
      "\u001b[0m09:41:42  Running with dbt=1.3.2\n",
      "\u001b[0m09:41:42  Partial parse save file not found. Starting full parse.\n",
      "\u001b[0m09:41:44  Found 5 models, 20 tests, 0 snapshots, 0 analyses, 303 macros, 0 operations, 3 seed files, 0 sources, 0 exposures, 0 metrics\n",
      "\u001b[0m09:41:44  \n",
      "\u001b[0m09:41:48  Concurrency: 1 threads (target='dev')\n",
      "\u001b[0m09:41:48  \n",
      "\u001b[0m09:41:48  1 of 3 START seed file MADCOW.raw_customers .................................... [RUN]\n",
      "\u001b[0m09:41:53  1 of 3 OK loaded seed file MADCOW.raw_customers ................................ [\u001b[32mINSERT 100\u001b[0m in 4.44s]\n",
      "\u001b[0m09:41:53  2 of 3 START seed file MADCOW.raw_orders ....................................... [RUN]\n",
      "\u001b[0m09:41:57  2 of 3 OK loaded seed file MADCOW.raw_orders ................................... [\u001b[32mINSERT 99\u001b[0m in 4.10s]\n",
      "\u001b[0m09:41:57  3 of 3 START seed file MADCOW.raw_payments ..................................... [RUN]\n",
      "\u001b[0m09:42:01  3 of 3 OK loaded seed file MADCOW.raw_payments ................................. [\u001b[32mINSERT 113\u001b[0m in 4.59s]\n",
      "\u001b[0m09:42:01  \n",
      "\u001b[0m09:42:01  Finished running 3 seeds in 0 hours 0 minutes and 17.63 seconds (17.63s).\n",
      "\u001b[0m09:42:01  \n",
      "\u001b[0m09:42:01  \u001b[32mCompleted successfully\u001b[0m\n",
      "\u001b[0m09:42:01  \n",
      "\u001b[0m09:42:01  Done. PASS=3 WARN=0 ERROR=0 SKIP=0 TOTAL=3\n"
     ]
    }
   ],
   "source": [
    "!dbt seed"
   ]
  },
  {
   "cell_type": "code",
   "execution_count": 3,
   "metadata": {},
   "outputs": [
    {
     "name": "stdout",
     "output_type": "stream",
     "text": [
      "\u001b[0m09:44:46  Running with dbt=1.3.2\n",
      "\u001b[0m09:44:46  Found 5 models, 20 tests, 0 snapshots, 0 analyses, 303 macros, 0 operations, 3 seed files, 0 sources, 0 exposures, 0 metrics\n",
      "\u001b[0m09:44:46  \n",
      "\u001b[0m09:44:50  Concurrency: 1 threads (target='dev')\n",
      "\u001b[0m09:44:50  \n",
      "\u001b[0m09:44:50  1 of 5 START python table model MADCOW.stg_customers ........................... [RUN]\n",
      "\u001b[0m09:44:59  1 of 5 OK created python table model MADCOW.stg_customers ...................... [\u001b[32mSUCCESS 1\u001b[0m in 9.07s]\n",
      "\u001b[0m09:44:59  2 of 5 START python table model MADCOW.stg_orders .............................. [RUN]\n",
      "\u001b[0m09:45:05  2 of 5 OK created python table model MADCOW.stg_orders ......................... [\u001b[32mSUCCESS 1\u001b[0m in 6.20s]\n",
      "\u001b[0m09:45:05  3 of 5 START python table model MADCOW.stg_payments ............................ [RUN]\n",
      "\u001b[0m09:45:10  3 of 5 OK created python table model MADCOW.stg_payments ....................... [\u001b[32mSUCCESS 1\u001b[0m in 4.73s]\n",
      "\u001b[0m09:45:10  4 of 5 START python table model MADCOW.customers ............................... [RUN]\n",
      "\u001b[0m09:45:18  4 of 5 OK created python table model MADCOW.customers .......................... [\u001b[32mSUCCESS 1\u001b[0m in 7.78s]\n",
      "\u001b[0m09:45:18  5 of 5 START python table model MADCOW.orders .................................. [RUN]\n",
      "\u001b[0m09:45:25  5 of 5 OK created python table model MADCOW.orders ............................. [\u001b[32mSUCCESS 1\u001b[0m in 6.56s]\n",
      "\u001b[0m09:45:25  \n",
      "\u001b[0m09:45:25  Finished running 5 table models in 0 hours 0 minutes and 38.63 seconds (38.63s).\n",
      "\u001b[0m09:45:25  \n",
      "\u001b[0m09:45:25  \u001b[32mCompleted successfully\u001b[0m\n",
      "\u001b[0m09:45:25  \n",
      "\u001b[0m09:45:25  Done. PASS=5 WARN=0 ERROR=0 SKIP=0 TOTAL=5\n"
     ]
    }
   ],
   "source": [
    "!dbt run"
   ]
  },
  {
   "cell_type": "code",
   "execution_count": null,
   "metadata": {},
   "outputs": [],
   "source": []
  }
 ],
 "metadata": {
  "kernelspec": {
   "display_name": "env-snow",
   "language": "python",
   "name": "python3"
  },
  "language_info": {
   "codemirror_mode": {
    "name": "ipython",
    "version": 3
   },
   "file_extension": ".py",
   "mimetype": "text/x-python",
   "name": "python",
   "nbconvert_exporter": "python",
   "pygments_lexer": "ipython3",
   "version": "3.8.13"
  },
  "orig_nbformat": 4,
  "vscode": {
   "interpreter": {
    "hash": "56a1ac3adb378e653a21dff9ebdc18cce0787fb994608cdea40d0604c77313fd"
   }
  }
 },
 "nbformat": 4,
 "nbformat_minor": 2
}
