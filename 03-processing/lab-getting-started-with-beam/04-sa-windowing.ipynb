{
 "cells": [
  {
   "attachments": {},
   "cell_type": "markdown",
   "metadata": {},
   "source": [
    "Sometimes, we want to aggregate data, like GroupByKey or Combine, only at certain intervals, like hourly or daily, instead of processing the entire PCollection of data only once.\n",
    "\n",
    "We might want to emit a moving average as we're processing data.\n",
    "\n",
    "Maybe we want to analyze the user experience for a certain task in a web app, it would be nice to get the app events by sessions of activity.\n",
    "\n",
    "Or we could be running a streaming pipeline, and there is no end to the data, so how can we aggregate data?\n",
    "\n",
    "Windows in Beam allow us to process only certain data intervals at a time. In this notebook, we go through different ways of windowing our pipeline."
   ]
  },
  {
   "attachments": {},
   "cell_type": "markdown",
   "metadata": {},
   "source": [
    "First, lets define some helper functions to simplify the rest of the examples.\n",
    "\n",
    "We have a transform to help us analyze an element alongside its window information, and we have another transform to help us analyze how many elements landed into each window. We use a custom DoFn to access that information.\n",
    "\n",
    "You don't need to understand these, you just need to know they exist 🙂."
   ]
  },
  {
   "cell_type": "code",
   "execution_count": 1,
   "metadata": {},
   "outputs": [],
   "source": [
    "import apache_beam as beam\n",
    "\n",
    "def human_readable_window(window) -> str:\n",
    "  \"\"\"Formats a window object into a human readable string.\"\"\"\n",
    "  if isinstance(window, beam.window.GlobalWindow):\n",
    "    return str(window)\n",
    "  return f'{window.start.to_utc_datetime()} - {window.end.to_utc_datetime()}'\n",
    "\n",
    "class PrintElementInfo(beam.DoFn):\n",
    "  \"\"\"Prints an element with its Window information.\"\"\"\n",
    "  def process(self, element, timestamp=beam.DoFn.TimestampParam, window=beam.DoFn.WindowParam):\n",
    "    print(f'[{human_readable_window(window)}] {timestamp.to_utc_datetime()} -- {element}')\n",
    "    yield element\n",
    "\n",
    "@beam.ptransform_fn\n",
    "def PrintWindowInfo(pcollection):\n",
    "  \"\"\"Prints the Window information with how many elements landed in that window.\"\"\"\n",
    "  class PrintCountsInfo(beam.DoFn):\n",
    "    def process(self, num_elements, window=beam.DoFn.WindowParam):\n",
    "      print(f'>> Window [{human_readable_window(window)}] has {num_elements} elements')\n",
    "      yield num_elements\n",
    "\n",
    "  return (\n",
    "      pcollection\n",
    "      | 'Count elements per window' >> beam.combiners.Count.Globally().without_defaults()\n",
    "      | 'Print counts info' >> beam.ParDo(PrintCountsInfo())\n",
    "  )"
   ]
  },
  {
   "attachments": {},
   "cell_type": "markdown",
   "metadata": {},
   "source": [
    "Now lets create some data to use in the examples.\n",
    "\n",
    "Windows define data intervals based on time, so we need to tell Apache Beam a timestamp for each element.\n",
    "\n",
    "We define a PTransform for convenience, so we can attach the timestamps automatically.\n",
    "\n",
    "Apache Beam requires us to provide the timestamp as Unix time, which is a way to represent a date and time as the number of seconds since January 1st, 1970.\n",
    "\n",
    "For our data, lets analyze some events about the seasons and moon phases for the year 2021, which might be useful for a gardening project.\n",
    "\n",
    "To attach timestamps to each element, we can Map each element and return a TimestmpedValue."
   ]
  },
  {
   "cell_type": "code",
   "execution_count": 2,
   "metadata": {},
   "outputs": [
    {
     "data": {
      "application/javascript": "\n        if (typeof window.interactive_beam_jquery == 'undefined') {\n          var jqueryScript = document.createElement('script');\n          jqueryScript.src = 'https://code.jquery.com/jquery-3.4.1.slim.min.js';\n          jqueryScript.type = 'text/javascript';\n          jqueryScript.onload = function() {\n            var datatableScript = document.createElement('script');\n            datatableScript.src = 'https://cdn.datatables.net/1.10.20/js/jquery.dataTables.min.js';\n            datatableScript.type = 'text/javascript';\n            datatableScript.onload = function() {\n              window.interactive_beam_jquery = jQuery.noConflict(true);\n              window.interactive_beam_jquery(document).ready(function($){\n                \n              });\n            }\n            document.head.appendChild(datatableScript);\n          };\n          document.head.appendChild(jqueryScript);\n        } else {\n          window.interactive_beam_jquery(document).ready(function($){\n            \n          });\n        }"
     },
     "metadata": {},
     "output_type": "display_data"
    },
    {
     "name": "stderr",
     "output_type": "stream",
     "text": [
      "WARNING:root:Make sure that locally built Python SDK docker image has Python 3.9 interpreter.\n"
     ]
    },
    {
     "name": "stdout",
     "output_type": "stream",
     "text": [
      "March Equinox 2021\n",
      "Super full moon\n",
      "Micro new moon\n",
      "Super full moon, total lunar eclipse\n",
      "June Solstice 2021\n",
      "Blue moon\n",
      "September Equinox 2021\n",
      "Super new moon\n",
      "Micro full moon, partial lunar eclipse\n",
      "Super new moon\n",
      "Micro full moon\n",
      "December Solstice 2021\n"
     ]
    }
   ],
   "source": [
    "import time\n",
    "from apache_beam.options.pipeline_options import PipelineOptions\n",
    "\n",
    "def to_unix_time(time_str: str, time_format='%Y-%m-%d %H:%M:%S') -> int:\n",
    "  \"\"\"Converts a time string into Unix time.\"\"\"\n",
    "  time_tuple = time.strptime(time_str, time_format)\n",
    "  return int(time.mktime(time_tuple))\n",
    "\n",
    "@beam.ptransform_fn\n",
    "@beam.typehints.with_input_types(beam.pvalue.PBegin)\n",
    "@beam.typehints.with_output_types(beam.window.TimestampedValue)\n",
    "def AstronomicalEvents(pipeline):\n",
    "  return (\n",
    "      pipeline\n",
    "      | 'Create data' >> beam.Create([\n",
    "          ('2021-03-20 03:37:00', 'March Equinox 2021'),\n",
    "          ('2021-04-26 22:31:00', 'Super full moon'),\n",
    "          ('2021-05-11 13:59:00', 'Micro new moon'),\n",
    "          ('2021-05-26 06:13:00', 'Super full moon, total lunar eclipse'),\n",
    "          ('2021-06-20 22:32:00', 'June Solstice 2021'),\n",
    "          ('2021-08-22 07:01:00', 'Blue moon'),\n",
    "          ('2021-09-22 14:21:00', 'September Equinox 2021'),\n",
    "          ('2021-11-04 15:14:00', 'Super new moon'),\n",
    "          ('2021-11-19 02:57:00', 'Micro full moon, partial lunar eclipse'),\n",
    "          ('2021-12-04 01:43:00', 'Super new moon'),\n",
    "          ('2021-12-18 10:35:00', 'Micro full moon'),\n",
    "          ('2021-12-21 09:59:00', 'December Solstice 2021'),\n",
    "      ])\n",
    "      | 'With timestamps' >> beam.MapTuple(\n",
    "          lambda timestamp, element:\n",
    "              beam.window.TimestampedValue(element, to_unix_time(timestamp))\n",
    "      )\n",
    "  )\n",
    "\n",
    "# Lets see how the data looks like.\n",
    "beam_options = PipelineOptions(flags=[], type_check_additional='all')\n",
    "with beam.Pipeline(options=beam_options) as pipeline:\n",
    "  (\n",
    "      pipeline\n",
    "      | 'Astronomical events' >> AstronomicalEvents()\n",
    "      | 'Print element' >> beam.Map(print)\n",
    "  )"
   ]
  },
  {
   "attachments": {},
   "cell_type": "markdown",
   "metadata": {},
   "source": [
    "ℹ️ After running this, it looks like the timestamps disappeared! They're actually still implicitly part of the element, just like the windowing information. If we need to access it, we can do so via a custom DoFn. Aggregation transforms use each element's timestamp along with the windowing we specified to create windows of elements."
   ]
  },
  {
   "attachments": {},
   "cell_type": "markdown",
   "metadata": {},
   "source": [
    "## Global window\n",
    "\n",
    "All pipelines use the GlobalWindow by default. This is a single window that covers the entire PCollection.\n",
    "\n",
    "In many cases, especially for batch pipelines, this is what we want since we want to analyze all the data that we have.\n",
    "\n",
    "ℹ️ GlobalWindow is not very useful in a streaming pipeline unless you only need element-wise transforms. Aggregations, like GroupByKey and Combine, need to process the entire window, but a streaming pipeline has no end, so they would never finish."
   ]
  },
  {
   "cell_type": "code",
   "execution_count": 3,
   "metadata": {},
   "outputs": [
    {
     "name": "stderr",
     "output_type": "stream",
     "text": [
      "WARNING:root:Make sure that locally built Python SDK docker image has Python 3.9 interpreter.\n"
     ]
    },
    {
     "name": "stdout",
     "output_type": "stream",
     "text": [
      "[GlobalWindow] 2021-03-19 22:07:00 -- March Equinox 2021\n",
      "[GlobalWindow] 2021-04-26 17:01:00 -- Super full moon\n",
      "[GlobalWindow] 2021-05-11 08:29:00 -- Micro new moon\n",
      "[GlobalWindow] 2021-05-26 00:43:00 -- Super full moon, total lunar eclipse\n",
      "[GlobalWindow] 2021-06-20 17:02:00 -- June Solstice 2021\n",
      "[GlobalWindow] 2021-08-22 01:31:00 -- Blue moon\n",
      "[GlobalWindow] 2021-09-22 08:51:00 -- September Equinox 2021\n",
      "[GlobalWindow] 2021-11-04 09:44:00 -- Super new moon\n",
      "[GlobalWindow] 2021-11-18 21:27:00 -- Micro full moon, partial lunar eclipse\n",
      "[GlobalWindow] 2021-12-03 20:13:00 -- Super new moon\n",
      "[GlobalWindow] 2021-12-18 05:05:00 -- Micro full moon\n",
      "[GlobalWindow] 2021-12-21 04:29:00 -- December Solstice 2021\n",
      ">> Window [GlobalWindow] has 12 elements\n"
     ]
    }
   ],
   "source": [
    "import apache_beam as beam\n",
    "\n",
    "# All elements fall into the GlobalWindow by default.\n",
    "with beam.Pipeline() as pipeline:\n",
    "  (\n",
    "      pipeline\n",
    "      | 'Astrolonomical events' >> AstronomicalEvents()\n",
    "      | 'Print element info' >> beam.ParDo(PrintElementInfo())\n",
    "      | 'Print window info' >> PrintWindowInfo()\n",
    "  )"
   ]
  },
  {
   "attachments": {},
   "cell_type": "markdown",
   "metadata": {},
   "source": [
    "![window1](https://user-images.githubusercontent.com/62965911/214569082-6b763e4c-cb90-4a51-893e-ea4fbccbcba1.png)"
   ]
  },
  {
   "attachments": {},
   "cell_type": "markdown",
   "metadata": {},
   "source": [
    "## Fixed time windows\n",
    "\n",
    "If we want to analyze our data hourly, daily, monthly, etc. We might want to create evenly spaced intervals.\n",
    "\n",
    "FixedWindows allow us to create fixed-sized windows. We only need to specify the window size in seconds.\n",
    "\n",
    "In Python, we can use timedelta to help us do the conversion of minutes, hours, or days for us.\n",
    "\n",
    "ℹ️ Some time deltas like a month cannot be so easily converted into seconds, since a month can have from 28 to 31 days. Sometimes using an estimate like 30 days in a month is enough.\n",
    "\n",
    "We must use the WindowInto transform to apply the kind of window we want."
   ]
  },
  {
   "cell_type": "code",
   "execution_count": 4,
   "metadata": {},
   "outputs": [
    {
     "name": "stdout",
     "output_type": "stream",
     "text": [
      "window_size: 7776000.0 seconds\n"
     ]
    },
    {
     "name": "stderr",
     "output_type": "stream",
     "text": [
      "WARNING:root:Make sure that locally built Python SDK docker image has Python 3.9 interpreter.\n"
     ]
    },
    {
     "name": "stdout",
     "output_type": "stream",
     "text": [
      "[2021-01-03 00:00:00 - 2021-04-03 00:00:00] 2021-03-19 22:07:00 -- March Equinox 2021\n",
      "[2021-04-03 00:00:00 - 2021-07-02 00:00:00] 2021-04-26 17:01:00 -- Super full moon\n",
      "[2021-04-03 00:00:00 - 2021-07-02 00:00:00] 2021-05-11 08:29:00 -- Micro new moon\n",
      "[2021-04-03 00:00:00 - 2021-07-02 00:00:00] 2021-05-26 00:43:00 -- Super full moon, total lunar eclipse\n",
      "[2021-04-03 00:00:00 - 2021-07-02 00:00:00] 2021-06-20 17:02:00 -- June Solstice 2021\n",
      "[2021-07-02 00:00:00 - 2021-09-30 00:00:00] 2021-08-22 01:31:00 -- Blue moon\n",
      "[2021-07-02 00:00:00 - 2021-09-30 00:00:00] 2021-09-22 08:51:00 -- September Equinox 2021\n",
      "[2021-09-30 00:00:00 - 2021-12-29 00:00:00] 2021-11-04 09:44:00 -- Super new moon\n",
      "[2021-09-30 00:00:00 - 2021-12-29 00:00:00] 2021-11-18 21:27:00 -- Micro full moon, partial lunar eclipse\n",
      "[2021-09-30 00:00:00 - 2021-12-29 00:00:00] 2021-12-03 20:13:00 -- Super new moon\n",
      "[2021-09-30 00:00:00 - 2021-12-29 00:00:00] 2021-12-18 05:05:00 -- Micro full moon\n",
      "[2021-09-30 00:00:00 - 2021-12-29 00:00:00] 2021-12-21 04:29:00 -- December Solstice 2021\n",
      ">> Window [2021-01-03 00:00:00 - 2021-04-03 00:00:00] has 1 elements\n",
      ">> Window [2021-04-03 00:00:00 - 2021-07-02 00:00:00] has 4 elements\n",
      ">> Window [2021-07-02 00:00:00 - 2021-09-30 00:00:00] has 2 elements\n",
      ">> Window [2021-09-30 00:00:00 - 2021-12-29 00:00:00] has 5 elements\n"
     ]
    }
   ],
   "source": [
    "import apache_beam as beam\n",
    "from datetime import timedelta\n",
    "\n",
    "# Fixed-sized windows of approximately 3 months.\n",
    "window_size = timedelta(days=3*30).total_seconds()  # in seconds\n",
    "print(f'window_size: {window_size} seconds')\n",
    "\n",
    "with beam.Pipeline() as pipeline:\n",
    "  elements = (\n",
    "      pipeline\n",
    "      | 'Astronomical events' >> AstronomicalEvents()\n",
    "      | 'Fixed windows' >> beam.WindowInto(beam.window.FixedWindows(window_size))\n",
    "      | 'Print element info' >> beam.ParDo(PrintElementInfo())\n",
    "      | 'Print window info' >> PrintWindowInfo()\n",
    "  )"
   ]
  },
  {
   "attachments": {},
   "cell_type": "markdown",
   "metadata": {},
   "source": [
    "![window2](https://user-images.githubusercontent.com/62965911/214569088-d4a95442-6e93-451e-b659-3f978d8999f4.png)"
   ]
  },
  {
   "attachments": {},
   "cell_type": "markdown",
   "metadata": {},
   "source": [
    "## Sliding time windows\n",
    "\n",
    "Maybe we want a fixed-sized window, but we don't want to wait until a window finishes so we can start the new one. We might want to calculate a moving average.\n",
    "\n",
    "For example, lets say we want to analyze our data for the last three months, but we want to have a monthly report. In other words, we want windows at a monthly frequency, but each window should cover the last three months.\n",
    "\n",
    "Sliding windows allow us to do just that. We need to specify the window size in seconds just like with FixedWindows. We also need to specify a window period in seconds, which is how often we want to emit each window."
   ]
  },
  {
   "cell_type": "code",
   "execution_count": 5,
   "metadata": {},
   "outputs": [
    {
     "name": "stdout",
     "output_type": "stream",
     "text": [
      "window_size:   7776000.0 seconds\n",
      "window_period: 2592000.0 seconds\n"
     ]
    },
    {
     "name": "stderr",
     "output_type": "stream",
     "text": [
      "WARNING:root:Make sure that locally built Python SDK docker image has Python 3.9 interpreter.\n"
     ]
    },
    {
     "name": "stdout",
     "output_type": "stream",
     "text": [
      "[2021-03-04 00:00:00 - 2021-06-02 00:00:00] 2021-03-19 22:07:00 -- March Equinox 2021\n",
      "[2021-02-02 00:00:00 - 2021-05-03 00:00:00] 2021-03-19 22:07:00 -- March Equinox 2021\n",
      "[2021-01-03 00:00:00 - 2021-04-03 00:00:00] 2021-03-19 22:07:00 -- March Equinox 2021\n",
      "[2021-04-03 00:00:00 - 2021-07-02 00:00:00] 2021-04-26 17:01:00 -- Super full moon\n",
      "[2021-03-04 00:00:00 - 2021-06-02 00:00:00] 2021-04-26 17:01:00 -- Super full moon\n",
      "[2021-02-02 00:00:00 - 2021-05-03 00:00:00] 2021-04-26 17:01:00 -- Super full moon\n",
      "[2021-05-03 00:00:00 - 2021-08-01 00:00:00] 2021-05-11 08:29:00 -- Micro new moon\n",
      "[2021-04-03 00:00:00 - 2021-07-02 00:00:00] 2021-05-11 08:29:00 -- Micro new moon\n",
      "[2021-03-04 00:00:00 - 2021-06-02 00:00:00] 2021-05-11 08:29:00 -- Micro new moon\n",
      "[2021-05-03 00:00:00 - 2021-08-01 00:00:00] 2021-05-26 00:43:00 -- Super full moon, total lunar eclipse\n",
      "[2021-04-03 00:00:00 - 2021-07-02 00:00:00] 2021-05-26 00:43:00 -- Super full moon, total lunar eclipse\n",
      "[2021-03-04 00:00:00 - 2021-06-02 00:00:00] 2021-05-26 00:43:00 -- Super full moon, total lunar eclipse\n",
      "[2021-06-02 00:00:00 - 2021-08-31 00:00:00] 2021-06-20 17:02:00 -- June Solstice 2021\n",
      "[2021-05-03 00:00:00 - 2021-08-01 00:00:00] 2021-06-20 17:02:00 -- June Solstice 2021\n",
      "[2021-04-03 00:00:00 - 2021-07-02 00:00:00] 2021-06-20 17:02:00 -- June Solstice 2021\n",
      "[2021-08-01 00:00:00 - 2021-10-30 00:00:00] 2021-08-22 01:31:00 -- Blue moon\n",
      "[2021-07-02 00:00:00 - 2021-09-30 00:00:00] 2021-08-22 01:31:00 -- Blue moon\n",
      "[2021-06-02 00:00:00 - 2021-08-31 00:00:00] 2021-08-22 01:31:00 -- Blue moon\n",
      "[2021-08-31 00:00:00 - 2021-11-29 00:00:00] 2021-09-22 08:51:00 -- September Equinox 2021\n",
      "[2021-08-01 00:00:00 - 2021-10-30 00:00:00] 2021-09-22 08:51:00 -- September Equinox 2021\n",
      "[2021-07-02 00:00:00 - 2021-09-30 00:00:00] 2021-09-22 08:51:00 -- September Equinox 2021\n",
      "[2021-10-30 00:00:00 - 2022-01-28 00:00:00] 2021-11-04 09:44:00 -- Super new moon\n",
      "[2021-09-30 00:00:00 - 2021-12-29 00:00:00] 2021-11-04 09:44:00 -- Super new moon\n",
      "[2021-08-31 00:00:00 - 2021-11-29 00:00:00] 2021-11-04 09:44:00 -- Super new moon\n",
      "[2021-10-30 00:00:00 - 2022-01-28 00:00:00] 2021-11-18 21:27:00 -- Micro full moon, partial lunar eclipse\n",
      "[2021-09-30 00:00:00 - 2021-12-29 00:00:00] 2021-11-18 21:27:00 -- Micro full moon, partial lunar eclipse\n",
      "[2021-08-31 00:00:00 - 2021-11-29 00:00:00] 2021-11-18 21:27:00 -- Micro full moon, partial lunar eclipse\n",
      "[2021-11-29 00:00:00 - 2022-02-27 00:00:00] 2021-12-03 20:13:00 -- Super new moon\n",
      "[2021-10-30 00:00:00 - 2022-01-28 00:00:00] 2021-12-03 20:13:00 -- Super new moon\n",
      "[2021-09-30 00:00:00 - 2021-12-29 00:00:00] 2021-12-03 20:13:00 -- Super new moon\n",
      "[2021-11-29 00:00:00 - 2022-02-27 00:00:00] 2021-12-18 05:05:00 -- Micro full moon\n",
      "[2021-10-30 00:00:00 - 2022-01-28 00:00:00] 2021-12-18 05:05:00 -- Micro full moon\n",
      "[2021-09-30 00:00:00 - 2021-12-29 00:00:00] 2021-12-18 05:05:00 -- Micro full moon\n",
      "[2021-11-29 00:00:00 - 2022-02-27 00:00:00] 2021-12-21 04:29:00 -- December Solstice 2021\n",
      "[2021-10-30 00:00:00 - 2022-01-28 00:00:00] 2021-12-21 04:29:00 -- December Solstice 2021\n",
      "[2021-09-30 00:00:00 - 2021-12-29 00:00:00] 2021-12-21 04:29:00 -- December Solstice 2021\n",
      ">> Window [2021-03-04 00:00:00 - 2021-06-02 00:00:00] has 4 elements\n",
      ">> Window [2021-02-02 00:00:00 - 2021-05-03 00:00:00] has 2 elements\n",
      ">> Window [2021-01-03 00:00:00 - 2021-04-03 00:00:00] has 1 elements\n",
      ">> Window [2021-04-03 00:00:00 - 2021-07-02 00:00:00] has 4 elements\n",
      ">> Window [2021-05-03 00:00:00 - 2021-08-01 00:00:00] has 3 elements\n",
      ">> Window [2021-06-02 00:00:00 - 2021-08-31 00:00:00] has 2 elements\n",
      ">> Window [2021-08-01 00:00:00 - 2021-10-30 00:00:00] has 2 elements\n",
      ">> Window [2021-07-02 00:00:00 - 2021-09-30 00:00:00] has 2 elements\n",
      ">> Window [2021-08-31 00:00:00 - 2021-11-29 00:00:00] has 3 elements\n",
      ">> Window [2021-10-30 00:00:00 - 2022-01-28 00:00:00] has 5 elements\n",
      ">> Window [2021-09-30 00:00:00 - 2021-12-29 00:00:00] has 5 elements\n",
      ">> Window [2021-11-29 00:00:00 - 2022-02-27 00:00:00] has 3 elements\n"
     ]
    }
   ],
   "source": [
    "import apache_beam as beam\n",
    "from datetime import timedelta\n",
    "\n",
    "# Sliding windows of approximately 3 months every month.\n",
    "window_size = timedelta(days=3*30).total_seconds()  # in seconds\n",
    "window_period = timedelta(days=30).total_seconds()  # in seconds\n",
    "print(f'window_size:   {window_size} seconds')\n",
    "print(f'window_period: {window_period} seconds')\n",
    "\n",
    "with beam.Pipeline() as pipeline:\n",
    "  (\n",
    "      pipeline\n",
    "      | 'Astronomical events' >> AstronomicalEvents()\n",
    "      | 'Sliding windows' >> beam.WindowInto(\n",
    "          beam.window.SlidingWindows(window_size, window_period)\n",
    "      )\n",
    "      | 'Print element info' >> beam.ParDo(PrintElementInfo())\n",
    "      | 'Print window info' >> PrintWindowInfo()\n",
    "  )"
   ]
  },
  {
   "attachments": {},
   "cell_type": "markdown",
   "metadata": {},
   "source": [
    "![window3](https://user-images.githubusercontent.com/62965911/214569091-17008f53-a81e-434d-af98-9fc1f965f0c5.png)"
   ]
  },
  {
   "attachments": {},
   "cell_type": "markdown",
   "metadata": {},
   "source": [
    "A thing to note with SlidingWindows is that one element might be processed multiple times because it might overlap in more than one window.\n",
    "\n",
    "In our example, the \"processing\" is done by PrintElementInfo which simply prints the element with its window information. For windows of three months every month, each element is processed three times, one time per window.\n",
    "\n",
    "In many cases, if we're just doing simple element-wise operations, this isn't generally an issue. But for more resource-intensive transformations, it might be a good idea to perform those transformations before doing the windowing."
   ]
  },
  {
   "cell_type": "code",
   "execution_count": 6,
   "metadata": {},
   "outputs": [
    {
     "name": "stderr",
     "output_type": "stream",
     "text": [
      "WARNING:root:Make sure that locally built Python SDK docker image has Python 3.9 interpreter.\n"
     ]
    },
    {
     "name": "stdout",
     "output_type": "stream",
     "text": [
      "window_size:   7776000.0 seconds\n",
      "window_period: 2592000.0 seconds\n",
      "[GlobalWindow] 2021-03-19 22:07:00 -- March Equinox 2021\n",
      "[GlobalWindow] 2021-04-26 17:01:00 -- Super full moon\n",
      "[GlobalWindow] 2021-05-11 08:29:00 -- Micro new moon\n",
      "[GlobalWindow] 2021-05-26 00:43:00 -- Super full moon, total lunar eclipse\n",
      "[GlobalWindow] 2021-06-20 17:02:00 -- June Solstice 2021\n",
      "[GlobalWindow] 2021-08-22 01:31:00 -- Blue moon\n",
      "[GlobalWindow] 2021-09-22 08:51:00 -- September Equinox 2021\n",
      "[GlobalWindow] 2021-11-04 09:44:00 -- Super new moon\n",
      "[GlobalWindow] 2021-11-18 21:27:00 -- Micro full moon, partial lunar eclipse\n",
      "[GlobalWindow] 2021-12-03 20:13:00 -- Super new moon\n",
      "[GlobalWindow] 2021-12-18 05:05:00 -- Micro full moon\n",
      "[GlobalWindow] 2021-12-21 04:29:00 -- December Solstice 2021\n",
      ">> Window [2021-03-04 00:00:00 - 2021-06-02 00:00:00] has 4 elements\n",
      ">> Window [2021-02-02 00:00:00 - 2021-05-03 00:00:00] has 2 elements\n",
      ">> Window [2021-01-03 00:00:00 - 2021-04-03 00:00:00] has 1 elements\n",
      ">> Window [2021-04-03 00:00:00 - 2021-07-02 00:00:00] has 4 elements\n",
      ">> Window [2021-05-03 00:00:00 - 2021-08-01 00:00:00] has 3 elements\n",
      ">> Window [2021-06-02 00:00:00 - 2021-08-31 00:00:00] has 2 elements\n",
      ">> Window [2021-08-01 00:00:00 - 2021-10-30 00:00:00] has 2 elements\n",
      ">> Window [2021-07-02 00:00:00 - 2021-09-30 00:00:00] has 2 elements\n",
      ">> Window [2021-08-31 00:00:00 - 2021-11-29 00:00:00] has 3 elements\n",
      ">> Window [2021-10-30 00:00:00 - 2022-01-28 00:00:00] has 5 elements\n",
      ">> Window [2021-09-30 00:00:00 - 2021-12-29 00:00:00] has 5 elements\n",
      ">> Window [2021-11-29 00:00:00 - 2022-02-27 00:00:00] has 3 elements\n"
     ]
    }
   ],
   "source": [
    "import apache_beam as beam\n",
    "from datetime import timedelta\n",
    "\n",
    "# Sliding windows of approximately 3 months every month.\n",
    "window_size = timedelta(days=3*30).total_seconds()  # in seconds\n",
    "window_period = timedelta(days=30).total_seconds()  # in seconds\n",
    "print(f'window_size:   {window_size} seconds')\n",
    "print(f'window_period: {window_period} seconds')\n",
    "\n",
    "with beam.Pipeline() as pipeline:\n",
    "  (\n",
    "      pipeline\n",
    "      | 'Astronomical events' >> AstronomicalEvents()\n",
    "      #------\n",
    "      # ℹ️ Here we're processing / printing the data before windowing.\n",
    "      | 'Print element info' >> beam.ParDo(PrintElementInfo())\n",
    "      | 'Sliding windows' >> beam.WindowInto(\n",
    "          beam.window.SlidingWindows(window_size, window_period)\n",
    "      )\n",
    "      #------\n",
    "      | 'Print window info' >> PrintWindowInfo()\n",
    "  )"
   ]
  },
  {
   "attachments": {},
   "cell_type": "markdown",
   "metadata": {},
   "source": [
    "## Session windows\n",
    "\n",
    "Maybe we don't want regular windows, but instead, have the windows reflect periods where activity happened.\n",
    "\n",
    "Sessions allow us to create those kinds of windows. We now have to specify a gap size in seconds, which is the maximum number of seconds of inactivity to close a session window.\n",
    "\n",
    "For example, if we specify a gap size of 30 days. The first event would open a new session window since there are no already opened windows. If the next event happens within the next 30 days or less, like 20 days after the previous event, the session window extends and covers that as well. If there are no new events for the next 30 days, the session window closes and is emitted."
   ]
  },
  {
   "cell_type": "code",
   "execution_count": 7,
   "metadata": {},
   "outputs": [
    {
     "name": "stderr",
     "output_type": "stream",
     "text": [
      "WARNING:root:Make sure that locally built Python SDK docker image has Python 3.9 interpreter.\n"
     ]
    },
    {
     "name": "stdout",
     "output_type": "stream",
     "text": [
      "gap_size: 2592000.0 seconds\n",
      "[2021-03-19 22:07:00 - 2021-04-18 22:07:00] 2021-03-19 22:07:00 -- March Equinox 2021\n",
      "[2021-04-26 17:01:00 - 2021-05-26 17:01:00] 2021-04-26 17:01:00 -- Super full moon\n",
      "[2021-05-11 08:29:00 - 2021-06-10 08:29:00] 2021-05-11 08:29:00 -- Micro new moon\n",
      "[2021-05-26 00:43:00 - 2021-06-25 00:43:00] 2021-05-26 00:43:00 -- Super full moon, total lunar eclipse\n",
      "[2021-06-20 17:02:00 - 2021-07-20 17:02:00] 2021-06-20 17:02:00 -- June Solstice 2021\n",
      "[2021-08-22 01:31:00 - 2021-09-21 01:31:00] 2021-08-22 01:31:00 -- Blue moon\n",
      "[2021-09-22 08:51:00 - 2021-10-22 08:51:00] 2021-09-22 08:51:00 -- September Equinox 2021\n",
      "[2021-11-04 09:44:00 - 2021-12-04 09:44:00] 2021-11-04 09:44:00 -- Super new moon\n",
      "[2021-11-18 21:27:00 - 2021-12-18 21:27:00] 2021-11-18 21:27:00 -- Micro full moon, partial lunar eclipse\n",
      "[2021-12-03 20:13:00 - 2022-01-02 20:13:00] 2021-12-03 20:13:00 -- Super new moon\n",
      "[2021-12-18 05:05:00 - 2022-01-17 05:05:00] 2021-12-18 05:05:00 -- Micro full moon\n",
      "[2021-12-21 04:29:00 - 2022-01-20 04:29:00] 2021-12-21 04:29:00 -- December Solstice 2021\n",
      ">> Window [2021-03-19 22:07:00 - 2021-04-18 22:07:00] has 1 elements\n",
      ">> Window [2021-04-26 17:01:00 - 2021-07-20 17:02:00] has 4 elements\n",
      ">> Window [2021-08-22 01:31:00 - 2021-09-21 01:31:00] has 1 elements\n",
      ">> Window [2021-09-22 08:51:00 - 2021-10-22 08:51:00] has 1 elements\n",
      ">> Window [2021-11-04 09:44:00 - 2022-01-20 04:29:00] has 5 elements\n"
     ]
    }
   ],
   "source": [
    "import apache_beam as beam\n",
    "from datetime import timedelta\n",
    "\n",
    "# Sessions divided by approximately 1 month gaps.\n",
    "gap_size = timedelta(days=30).total_seconds()  # in seconds\n",
    "print(f'gap_size: {gap_size} seconds')\n",
    "\n",
    "with beam.Pipeline() as pipeline:\n",
    "  (\n",
    "      pipeline\n",
    "      | 'Astronomical events' >> AstronomicalEvents()\n",
    "      | 'Session windows' >> beam.WindowInto(beam.window.Sessions(gap_size))\n",
    "      | 'Print element info' >> beam.ParDo(PrintElementInfo())\n",
    "      | 'Print window info' >> PrintWindowInfo()\n",
    "  )"
   ]
  },
  {
   "attachments": {},
   "cell_type": "markdown",
   "metadata": {},
   "source": [
    "![window4](https://user-images.githubusercontent.com/62965911/214569094-0a05a00f-ff24-4a13-a076-88ca103dddb2.png)"
   ]
  }
 ],
 "metadata": {
  "kernelspec": {
   "display_name": "env-spacy",
   "language": "python",
   "name": "python3"
  },
  "language_info": {
   "codemirror_mode": {
    "name": "ipython",
    "version": 3
   },
   "file_extension": ".py",
   "mimetype": "text/x-python",
   "name": "python",
   "nbconvert_exporter": "python",
   "pygments_lexer": "ipython3",
   "version": "3.9.7 (default, Sep 16 2021, 08:50:36) \n[Clang 10.0.0 ]"
  },
  "orig_nbformat": 4,
  "vscode": {
   "interpreter": {
    "hash": "343191058819caea96d5cde1bd3b1a75b4807623ce2cda0e1c8499e39ac847e3"
   }
  }
 },
 "nbformat": 4,
 "nbformat_minor": 2
}
