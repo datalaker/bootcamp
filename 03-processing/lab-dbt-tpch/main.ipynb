{
 "cells": [
  {
   "cell_type": "code",
   "execution_count": null,
   "metadata": {},
   "outputs": [],
   "source": [
    "!pip install dbt-snowflake"
   ]
  },
  {
   "cell_type": "markdown",
   "metadata": {},
   "source": [
    "## Setup Database Connections"
   ]
  },
  {
   "cell_type": "code",
   "execution_count": null,
   "metadata": {},
   "outputs": [],
   "source": [
    "%%writefile ../profiles.yml\n",
    "default:\n",
    "  outputs:\n",
    "    dev:\n",
    "      account: <>.us-east-1\n",
    "      database: dbt\n",
    "      password: <>\n",
    "      role: accountadmin\n",
    "      schema: dev\n",
    "      threads: 1\n",
    "      type: snowflake\n",
    "      user: sprsag\n",
    "      warehouse: compute_wh\n",
    "    prod:\n",
    "      account: srb04000.us-east-1\n",
    "      database: dbt\n",
    "      password: <>\n",
    "      role: accountadmin\n",
    "      schema: prod\n",
    "      threads: 1\n",
    "      type: snowflake\n",
    "      user: sprsag\n",
    "      warehouse: compute_wh\n",
    "  target: dev"
   ]
  },
  {
   "cell_type": "markdown",
   "metadata": {},
   "source": [
    "## Install Packages"
   ]
  },
  {
   "cell_type": "code",
   "execution_count": 3,
   "metadata": {},
   "outputs": [
    {
     "name": "stdout",
     "output_type": "stream",
     "text": [
      "Writing ../packages.yml\n"
     ]
    }
   ],
   "source": [
    "%%writefile ../packages.yml\n",
    "packages:\n",
    "  - package: dbt-labs/dbt_utils\n",
    "    version: 0.8.4"
   ]
  },
  {
   "cell_type": "code",
   "execution_count": 4,
   "metadata": {},
   "outputs": [
    {
     "name": "stdout",
     "output_type": "stream",
     "text": [
      "\u001b[0m14:40:35  Running with dbt=1.2.0\n",
      "\u001b[0m14:40:37  Installing dbt-labs/dbt_utils\n",
      "\u001b[0m14:40:38    Installed from version 0.8.4\n",
      "\u001b[0m14:40:38    Updated version available: 0.8.6\n",
      "\u001b[0m14:40:38  \n",
      "\u001b[0m14:40:38  Updates available for packages: ['dbt-labs/dbt_utils']                 \n",
      "Update your versions in packages.yml, then run dbt deps\n"
     ]
    }
   ],
   "source": [
    "!dbt deps --profiles-dir .. --project-dir .."
   ]
  },
  {
   "cell_type": "code",
   "execution_count": null,
   "metadata": {},
   "outputs": [],
   "source": [
    "!dbt debug  --profiles-dir .. --project-dir .."
   ]
  },
  {
   "cell_type": "code",
   "execution_count": 12,
   "metadata": {},
   "outputs": [
    {
     "name": "stdout",
     "output_type": "stream",
     "text": [
      "\u001b[0m15:09:28  Running with dbt=1.2.0\n",
      "\u001b[0m15:09:28  Found 7 models, 12 tests, 0 snapshots, 0 analyses, 480 macros, 0 operations, 1 seed file, 2 sources, 0 exposures, 0 metrics\n",
      "\u001b[0m15:09:28  \n",
      "\u001b[0m15:09:38  Concurrency: 1 threads (target='dev')\n",
      "\u001b[0m15:09:38  \n",
      "\u001b[0m15:09:38  1 of 1 START seed file dev.nations ............................................. [RUN]\n",
      "\u001b[0m15:09:44  1 of 1 OK loaded seed file dev.nations ......................................... [\u001b[32mINSERT 31\u001b[0m in 6.13s]\n",
      "\u001b[0m15:09:44  \n",
      "\u001b[0m15:09:44  Finished running 1 seed in 0 hours 0 minutes and 16.47 seconds (16.47s).\n",
      "\u001b[0m15:09:44  \n",
      "\u001b[0m15:09:44  \u001b[32mCompleted successfully\u001b[0m\n",
      "\u001b[0m15:09:44  \n",
      "\u001b[0m15:09:44  Done. PASS=1 WARN=0 ERROR=0 SKIP=0 TOTAL=1\n"
     ]
    }
   ],
   "source": [
    "!dbt seed  --profiles-dir .. --project-dir .."
   ]
  },
  {
   "cell_type": "code",
   "execution_count": 14,
   "metadata": {},
   "outputs": [
    {
     "name": "stdout",
     "output_type": "stream",
     "text": [
      "\u001b[0m15:10:35  Running with dbt=1.2.0\n",
      "\u001b[0m15:10:36  Found 7 models, 12 tests, 0 snapshots, 0 analyses, 480 macros, 0 operations, 1 seed file, 2 sources, 0 exposures, 0 metrics\n",
      "\u001b[0m15:10:36  \n",
      "\u001b[0m15:10:43  Concurrency: 1 threads (target='dev')\n",
      "\u001b[0m15:10:43  \n",
      "\u001b[0m15:10:43  1 of 7 START table model dev.my_first_dbt_model ................................ [RUN]\n",
      "\u001b[0m15:10:46  1 of 7 OK created table model dev.my_first_dbt_model ........................... [\u001b[32mSUCCESS 1\u001b[0m in 3.67s]\n",
      "\u001b[0m15:10:46  2 of 7 START view model dev.stg_tpch_line_items ................................ [RUN]\n",
      "\u001b[0m15:10:49  2 of 7 OK created view model dev.stg_tpch_line_items ........................... [\u001b[32mSUCCESS 1\u001b[0m in 2.75s]\n",
      "\u001b[0m15:10:49  3 of 7 START incremental model dev.stg_tpch_nations ............................ [RUN]\n",
      "\u001b[0m15:10:53  3 of 7 OK created incremental model dev.stg_tpch_nations ....................... [\u001b[32mSUCCESS 1\u001b[0m in 3.35s]\n",
      "\u001b[0m15:10:53  4 of 7 START view model dev.stg_tpch_orders .................................... [RUN]\n",
      "\u001b[0m15:10:56  4 of 7 OK created view model dev.stg_tpch_orders ............................... [\u001b[32mSUCCESS 1\u001b[0m in 3.26s]\n",
      "\u001b[0m15:10:56  5 of 7 START view model dev.my_second_dbt_model ................................ [RUN]\n",
      "\u001b[0m15:10:59  5 of 7 OK created view model dev.my_second_dbt_model ........................... [\u001b[32mSUCCESS 1\u001b[0m in 3.18s]\n",
      "\u001b[0m15:10:59  6 of 7 START table model dev.int_order_items ................................... [RUN]\n",
      "\u001b[0m15:11:13  6 of 7 OK created table model dev.int_order_items .............................. [\u001b[32mSUCCESS 1\u001b[0m in 13.61s]\n",
      "\u001b[0m15:11:13  7 of 7 START table model dev.fct_orders ........................................ [RUN]\n",
      "\u001b[0m15:11:20  7 of 7 OK created table model dev.fct_orders ................................... [\u001b[32mSUCCESS 1\u001b[0m in 7.00s]\n",
      "\u001b[0m15:11:20  \n",
      "\u001b[0m15:11:20  Finished running 3 table models, 3 view models, 1 incremental model in 0 hours 0 minutes and 43.88 seconds (43.88s).\n",
      "\u001b[0m15:11:20  \n",
      "\u001b[0m15:11:20  \u001b[32mCompleted successfully\u001b[0m\n",
      "\u001b[0m15:11:20  \n",
      "\u001b[0m15:11:20  Done. PASS=7 WARN=0 ERROR=0 SKIP=0 TOTAL=7\n"
     ]
    }
   ],
   "source": [
    "!dbt run  --profiles-dir .. --project-dir .."
   ]
  },
  {
   "cell_type": "code",
   "execution_count": 15,
   "metadata": {},
   "outputs": [
    {
     "name": "stdout",
     "output_type": "stream",
     "text": [
      "\u001b[0m15:12:00  Running with dbt=1.2.0\n",
      "\u001b[0m15:12:01  Found 7 models, 12 tests, 0 snapshots, 0 analyses, 480 macros, 0 operations, 1 seed file, 2 sources, 0 exposures, 0 metrics\n",
      "\u001b[0m15:12:01  \n",
      "\u001b[0m15:12:04  Concurrency: 1 threads (target='dev')\n",
      "\u001b[0m15:12:04  \n",
      "\u001b[0m15:12:04  1 of 12 START test accepted_values_fct_orders_status_code__P__O__F ............. [RUN]\n",
      "\u001b[0m15:12:08  1 of 12 PASS accepted_values_fct_orders_status_code__P__O__F ................... [\u001b[32mPASS\u001b[0m in 3.30s]\n",
      "\u001b[0m15:12:08  2 of 12 START test fct_orders_negative_discount_amount ......................... [RUN]\n",
      "\u001b[0m15:12:11  2 of 12 PASS fct_orders_negative_discount_amount ............................... [\u001b[32mPASS\u001b[0m in 3.68s]\n",
      "\u001b[0m15:12:11  3 of 12 START test not_null_fct_orders_order_key ............................... [RUN]\n",
      "\u001b[0m15:12:16  3 of 12 PASS not_null_fct_orders_order_key ..................................... [\u001b[32mPASS\u001b[0m in 4.26s]\n",
      "\u001b[0m15:12:16  4 of 12 START test not_null_my_first_dbt_model_id .............................. [RUN]\n",
      "\u001b[0m15:12:20  4 of 12 FAIL 1 not_null_my_first_dbt_model_id .................................. [\u001b[31mFAIL 1\u001b[0m in 4.44s]\n",
      "\u001b[0m15:12:20  5 of 12 START test not_null_my_second_dbt_model_id ............................. [RUN]\n",
      "\u001b[0m15:12:23  5 of 12 PASS not_null_my_second_dbt_model_id ................................... [\u001b[32mPASS\u001b[0m in 3.21s]\n",
      "\u001b[0m15:12:23  6 of 12 START test relationships_fct_orders_order_key__order_key__ref_stg_tpch_orders_  [RUN]\n",
      "\u001b[0m15:12:27  6 of 12 PASS relationships_fct_orders_order_key__order_key__ref_stg_tpch_orders_  [\u001b[32mPASS\u001b[0m in 3.17s]\n",
      "\u001b[0m15:12:27  7 of 12 START test source_not_null_tpch_orders_o_orderkey ...................... [RUN]\n",
      "\u001b[0m15:12:29  7 of 12 PASS source_not_null_tpch_orders_o_orderkey ............................ [\u001b[32mPASS\u001b[0m in 2.74s]\n",
      "\u001b[0m15:12:29  8 of 12 START test source_relationships_tpch_lineitem_l_orderkey__o_orderkey__source_tpch_orders_  [RUN]\n",
      "\u001b[0m15:12:32  8 of 12 PASS source_relationships_tpch_lineitem_l_orderkey__o_orderkey__source_tpch_orders_  [\u001b[32mPASS\u001b[0m in 2.86s]\n",
      "\u001b[0m15:12:32  9 of 12 START test source_unique_tpch_orders_o_orderkey ........................ [RUN]\n",
      "\u001b[0m15:12:35  9 of 12 PASS source_unique_tpch_orders_o_orderkey .............................. [\u001b[32mPASS\u001b[0m in 3.15s]\n",
      "\u001b[0m15:12:35  10 of 12 START test unique_fct_orders_order_key ................................ [RUN]\n",
      "\u001b[0m15:12:38  10 of 12 PASS unique_fct_orders_order_key ...................................... [\u001b[32mPASS\u001b[0m in 3.23s]\n",
      "\u001b[0m15:12:38  11 of 12 START test unique_my_first_dbt_model_id ............................... [RUN]\n",
      "\u001b[0m15:12:42  11 of 12 PASS unique_my_first_dbt_model_id ..................................... [\u001b[32mPASS\u001b[0m in 3.20s]\n",
      "\u001b[0m15:12:42  12 of 12 START test unique_my_second_dbt_model_id .............................. [RUN]\n",
      "\u001b[0m15:12:44  12 of 12 PASS unique_my_second_dbt_model_id .................................... [\u001b[32mPASS\u001b[0m in 2.75s]\n",
      "\u001b[0m15:12:44  \n",
      "\u001b[0m15:12:44  Finished running 12 tests in 0 hours 0 minutes and 43.51 seconds (43.51s).\n",
      "\u001b[0m15:12:44  \n",
      "\u001b[0m15:12:44  \u001b[31mCompleted with 1 error and 0 warnings:\u001b[0m\n",
      "\u001b[0m15:12:44  \n",
      "\u001b[0m15:12:44  \u001b[31mFailure in test not_null_my_first_dbt_model_id (models/example/schema.yml)\u001b[0m\n",
      "\u001b[0m15:12:44    Got 1 result, configured to fail if != 0\n",
      "\u001b[0m15:12:44  \n",
      "\u001b[0m15:12:44    compiled SQL at target/compiled/snowflake_workshop/models/example/schema.yml/not_null_my_first_dbt_model_id.sql\n",
      "\u001b[0m15:12:44  \n",
      "\u001b[0m15:12:44  Done. PASS=11 WARN=0 ERROR=1 SKIP=0 TOTAL=12\n"
     ]
    }
   ],
   "source": [
    "!dbt test  --profiles-dir .. --project-dir .."
   ]
  },
  {
   "cell_type": "code",
   "execution_count": null,
   "metadata": {},
   "outputs": [],
   "source": [
    "!dbt docs generate  --profiles-dir .. --project-dir .."
   ]
  },
  {
   "cell_type": "code",
   "execution_count": 18,
   "metadata": {},
   "outputs": [
    {
     "name": "stdout",
     "output_type": "stream",
     "text": [
      "\u001b[0m15:16:00  Running with dbt=1.2.0\n",
      "\u001b[0m15:16:00  Serving docs at 0.0.0.0:8080\n",
      "\u001b[0m15:16:00  To access from your browser, navigate to:  http://localhost:8080\n",
      "\u001b[0m15:16:00  \n",
      "\u001b[0m15:16:00  \n",
      "\u001b[0m15:16:00  Press Ctrl+C to exit.\n",
      "127.0.0.1 - - [05/Aug/2022 20:46:01] \"GET / HTTP/1.1\" 200 -\n",
      "127.0.0.1 - - [05/Aug/2022 20:46:02] \"GET /manifest.json?cb=1659712562429 HTTP/1.1\" 200 -\n",
      "127.0.0.1 - - [05/Aug/2022 20:46:02] \"GET /catalog.json?cb=1659712562429 HTTP/1.1\" 200 -\n",
      "^C\n"
     ]
    }
   ],
   "source": [
    "!dbt docs serve --profiles-dir .. --project-dir .."
   ]
  }
 ],
 "metadata": {
  "kernelspec": {
   "display_name": "Python 3.9.7 ('env-spacy')",
   "language": "python",
   "name": "python3"
  },
  "language_info": {
   "codemirror_mode": {
    "name": "ipython",
    "version": 3
   },
   "file_extension": ".py",
   "mimetype": "text/x-python",
   "name": "python",
   "nbconvert_exporter": "python",
   "pygments_lexer": "ipython3",
   "version": "3.9.7"
  },
  "orig_nbformat": 4,
  "vscode": {
   "interpreter": {
    "hash": "343191058819caea96d5cde1bd3b1a75b4807623ce2cda0e1c8499e39ac847e3"
   }
  }
 },
 "nbformat": 4,
 "nbformat_minor": 2
}
