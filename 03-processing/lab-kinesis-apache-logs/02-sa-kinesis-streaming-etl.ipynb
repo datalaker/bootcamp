{
 "cells": [
  {
   "attachments": {},
   "cell_type": "markdown",
   "metadata": {},
   "source": [
    "# Streaming ETL using Kinesis Firehose"
   ]
  },
  {
   "attachments": {},
   "cell_type": "markdown",
   "metadata": {},
   "source": [
    "![](https://user-images.githubusercontent.com/62965911/214810237-e3dc797d-4924-4e6c-b55c-6d66e7f89914.png)"
   ]
  },
  {
   "attachments": {},
   "cell_type": "markdown",
   "metadata": {},
   "source": [
    "To create the resources, use `https://aws-streaming-artifacts.s3.amazonaws.com/firehose-immersion-day/setup-json-env.yaml` template or [this](./FirehoseKinesisStreamETL/template.yml) one."
   ]
  },
  {
   "attachments": {},
   "cell_type": "markdown",
   "metadata": {},
   "source": [
    "### Send Apache access logs to Kinesis Firehose"
   ]
  },
  {
   "attachments": {},
   "cell_type": "markdown",
   "metadata": {},
   "source": [
    "We will use Kinesis Data Generator to send data to Kinesis Firehose. For this, use [this](./FirehoseKinesisStreamETL/datagen.yml) template.\n",
    "\n",
    "Use this template in the data generator:\n",
    "\n",
    "```\n",
    "{{internet.ip}} - {{name.firstName}} [{{date.now(\"DD/MMM/YYYY:HH:mm:ss ZZ\")}}] \"{{random.weightedArrayElement({\"weights\":[0.6,0.1,0.1,0.2],\"data\":[\"GET\",\"POST\",\"DELETE\",\"PUT\"]})}} {{random.arrayElement([\"/list\",\"/wp-content\",\"/wp-admin\",\"/explore\",\"/search/tag/list\",\"/app/main/posts\",\"/posts/posts/explore\"])}}\" {{random.weightedArrayElement({\"weights\": [0.9,0.04,0.02,0.04], \"data\":[\"200\",\"404\",\"500\",\"301\"]})}} {{random.number(10000)}}\n",
    "```\n",
    "\n",
    "![](https://user-images.githubusercontent.com/62965911/214810234-6656a7f8-68af-4546-90d1-65e74658bfcb.png)\n",
    "\n",
    "Check in S3:\n",
    "\n",
    "![](https://user-images.githubusercontent.com/62965911/214810247-aa62002f-b6c0-4471-90fb-de2eb166c6d0.png)"
   ]
  },
  {
   "attachments": {},
   "cell_type": "markdown",
   "metadata": {},
   "source": [
    "### Analyze data using Amazon Athena"
   ]
  },
  {
   "attachments": {},
   "cell_type": "markdown",
   "metadata": {},
   "source": [
    "Run this query in the query editor, replace the `<your-bucket-name>` with the name of your bucket:\n",
    "\n",
    "```\n",
    "CREATE EXTERNAL TABLE apache_logs_json(\n",
    "  client_ip string,\n",
    "  client_id string,\n",
    "  user_id string,\n",
    "  request_received_time string,\n",
    "  client_request string,\n",
    "  resource string,\n",
    "  version int,\n",
    "  status string,\n",
    "  returned_obj_size string\n",
    "  )\n",
    "ROW FORMAT SERDE\n",
    "  'org.openx.data.jsonserde.JsonSerDe'\n",
    "LOCATION\n",
    "  's3://<your-bucket-name>/access-logs-json/';\n",
    "```\n",
    "\n",
    "Query with the following command:\n",
    "\n",
    "```\n",
    "SELECT * FROM \"default\".\"apache_logs_json\" where status = '404';\n",
    "```\n",
    "\n",
    "![](https://user-images.githubusercontent.com/62965911/214810225-6cedb625-84aa-4e9e-99e9-706e50d80eb9.png)"
   ]
  },
  {
   "cell_type": "code",
   "execution_count": null,
   "metadata": {},
   "outputs": [],
   "source": []
  }
 ],
 "metadata": {
  "kernelspec": {
   "display_name": "env-spacy",
   "language": "python",
   "name": "python3"
  },
  "language_info": {
   "name": "python",
   "version": "3.9.7 (default, Sep 16 2021, 08:50:36) \n[Clang 10.0.0 ]"
  },
  "orig_nbformat": 4,
  "vscode": {
   "interpreter": {
    "hash": "343191058819caea96d5cde1bd3b1a75b4807623ce2cda0e1c8499e39ac847e3"
   }
  }
 },
 "nbformat": 4,
 "nbformat_minor": 2
}
