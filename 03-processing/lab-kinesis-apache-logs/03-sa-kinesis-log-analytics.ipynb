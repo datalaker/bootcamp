{
 "cells": [
  {
   "attachments": {},
   "cell_type": "markdown",
   "metadata": {},
   "source": [
    "# Log analytics with Kinesis Firehose"
   ]
  },
  {
   "attachments": {},
   "cell_type": "markdown",
   "metadata": {},
   "source": [
    "Log analytics is a use case that allows you to analyze log data from websites, mobile devices, servers, sensors, and more for a wide variety of applications such as security event monitoring, digital marketing, application monitoring, fraud detection, ad tech, gaming, and IoT. In this lab, you will learn how to ingest and deliver Apache logs to Amazon S3 using Amazon Kinesis Data Firehose without managing any infrastructure. You can then use Amazon Athena to query log files to understand access patterns and web site performance issues."
   ]
  },
  {
   "attachments": {},
   "cell_type": "markdown",
   "metadata": {},
   "source": [
    "![](https://user-images.githubusercontent.com/62965911/214810320-b27f4355-6f05-4f31-8b1c-4ef8a7b31983.png)"
   ]
  },
  {
   "attachments": {},
   "cell_type": "markdown",
   "metadata": {},
   "source": [
    "To create the resources, use `https://aws-streaming-artifacts.s3.amazonaws.com/firehose-immersion-day/setup-tsv-env.yaml` template or [this](./LogAnalyticsFirehose/template.yml) one."
   ]
  },
  {
   "attachments": {},
   "cell_type": "markdown",
   "metadata": {},
   "source": [
    "### Send Apache access logs to Kinesis Firehose"
   ]
  },
  {
   "attachments": {},
   "cell_type": "markdown",
   "metadata": {},
   "source": [
    "We will use Kinesis Data Generator to send data to Kinesis Firehose. For this, use [this](./LogAnalyticsFirehose/datagen.yml) template.\n",
    "\n",
    "Use this template in the data generator:\n",
    "\n",
    "```\n",
    "{{internet.ip}} - {{name.firstName}} [{{date.now(\"DD/MMM/YYYY:HH:mm:ss ZZ\")}}] \"{{random.weightedArrayElement({\"weights\":[0.6,0.1,0.1,0.2],\"data\":[\"GET\",\"POST\",\"DELETE\",\"PUT\"]})}} {{random.arrayElement([\"/list\",\"/wp-content\",\"/wp-admin\",\"/explore\",\"/search/tag/list\",\"/app/main/posts\",\"/posts/posts/explore\"])}}\" {{random.weightedArrayElement({\"weights\": [0.9,0.04,0.02,0.04], \"data\":[\"200\",\"404\",\"500\",\"301\"]})}} {{random.number(10000)}}\n",
    "```\n",
    "\n",
    "![](https://user-images.githubusercontent.com/62965911/214810299-73b241b6-e364-4963-8b50-fca73201dc30.png)\n",
    "\n",
    "Check in S3:\n",
    "\n",
    "![](https://user-images.githubusercontent.com/62965911/214810306-d372b25a-cd83-44fb-9db0-700dc76c739f.png)"
   ]
  },
  {
   "attachments": {},
   "cell_type": "markdown",
   "metadata": {},
   "source": [
    "### Analyze data using Amazon Athena\n",
    "\n",
    "Run this query in the query editor, replace the `<your-bucket-name>` with the name of your bucket:\n",
    "\n",
    "```\n",
    "CREATE EXTERNAL TABLE apache_logs(\n",
    "  client_ip string,\n",
    "  client_id string,\n",
    "  user_id string,\n",
    "  request_received_time string,\n",
    "  client_request string,\n",
    "  server_status string,\n",
    "  returned_obj_size string\n",
    "  )\n",
    "ROW FORMAT SERDE\n",
    "   'com.amazonaws.glue.serde.GrokSerDe'\n",
    "WITH SERDEPROPERTIES (\n",
    "   'input.format'='^%{IPV4:client_ip} %{DATA:client_id} %{USERNAME:user_id} %{GREEDYDATA:request_received_time} %{QUOTEDSTRING:client_request} %{DATA:server_status} %{DATA: returned_obj_size}$'\n",
    "   )\n",
    "STORED AS INPUTFORMAT\n",
    "   'org.apache.hadoop.mapred.TextInputFormat'\n",
    "OUTPUTFORMAT\n",
    "   'org.apache.hadoop.hive.ql.io.HiveIgnoreKeyTextOutputFormat'\n",
    "LOCATION\n",
    "   's3://<your-bucket-name>/access-logs-tsv/';\n",
    "```\n",
    "\n",
    "Query with the following command:\n",
    "\n",
    "```\n",
    "SELECT * FROM \"default\".\"apache_logs\" limit 10;\n",
    "```\n",
    "\n",
    "![](https://user-images.githubusercontent.com/62965911/214810287-513b8d91-3229-4f01-82b1-170fd3326221.png)"
   ]
  },
  {
   "cell_type": "markdown",
   "metadata": {},
   "source": []
  }
 ],
 "metadata": {
  "kernelspec": {
   "display_name": "Python 3",
   "language": "python",
   "name": "python3"
  },
  "language_info": {
   "name": "python",
   "version": "3.9.10 (v3.9.10:f2f3f53782, Jan 13 2022, 17:02:14) \n[Clang 6.0 (clang-600.0.57)]"
  },
  "orig_nbformat": 4,
  "vscode": {
   "interpreter": {
    "hash": "aee8b7b246df8f9039afb4144a1f6fd8d2ca17a180786b69acc140d282b71a49"
   }
  }
 },
 "nbformat": 4,
 "nbformat_minor": 2
}
