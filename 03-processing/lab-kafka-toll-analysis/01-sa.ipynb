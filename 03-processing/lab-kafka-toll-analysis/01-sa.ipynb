{
 "cells": [
  {
   "attachments": {},
   "cell_type": "markdown",
   "metadata": {},
   "source": [
    "# Data streaming pipeline with Kafka for livetolldata"
   ]
  },
  {
   "cell_type": "code",
   "execution_count": 5,
   "metadata": {},
   "outputs": [],
   "source": [
    "import boto3\n",
    "import json\n",
    "from datetime import datetime\n",
    "from kafka import KafkaConsumer\n",
    "import mysql.connector\n",
    "import pandas as pd"
   ]
  },
  {
   "cell_type": "code",
   "execution_count": 2,
   "metadata": {},
   "outputs": [],
   "source": [
    "DATA_PATH = \"./data\""
   ]
  },
  {
   "cell_type": "code",
   "execution_count": 3,
   "metadata": {},
   "outputs": [],
   "source": [
    "def get_secret(secret_name, region_name=\"us-east-1\"):\n",
    "    session = boto3.session.Session()\n",
    "    client = session.client(\n",
    "        service_name='secretsmanager',\n",
    "        region_name=region_name)\n",
    "    get_secret_value_response = client.get_secret_value(SecretId=secret_name)\n",
    "    get_secret_value_response = json.loads(get_secret_value_response['SecretString'])\n",
    "    return get_secret_value_response"
   ]
  },
  {
   "cell_type": "code",
   "execution_count": 4,
   "metadata": {},
   "outputs": [],
   "source": [
    "creds = get_secret(\"wysde\")\n",
    "USERNAME = creds[\"RDS_MYSQL_USERNAME\"]\n",
    "PASSWORD = creds[\"RDS_MYSQL_PASSWORD\"]\n",
    "HOST = creds[\"RDS_MYSQL_HOST\"]\n",
    "\n",
    "TOPIC = 'toll'\n",
    "DATABASE = 'tolldata'"
   ]
  },
  {
   "cell_type": "code",
   "execution_count": null,
   "metadata": {},
   "outputs": [],
   "source": [
    "# Creating database and schema (use terminal if your notebook do not support input)\n",
    "!mysql --host=$HOST --user=$USERNAME --port=3306 --password < data/schema.sql"
   ]
  },
  {
   "cell_type": "code",
   "execution_count": null,
   "metadata": {},
   "outputs": [],
   "source": [
    "# Starting Kafka service (use terminal)\n",
    "!zookeeper-server-start.sh ~/kafka_2.12-3.2.0/config/zookeeper.properties\n",
    "\n",
    "!kafka-server-start.sh ~/kafka_2.12-3.2.0/config/server.properties"
   ]
  },
  {
   "cell_type": "code",
   "execution_count": 9,
   "metadata": {},
   "outputs": [
    {
     "name": "stdout",
     "output_type": "stream",
     "text": [
      "Created topic toll.\n"
     ]
    }
   ],
   "source": [
    "# Create a topic named toll\n",
    "!kafka-topics.sh --create --topic toll --bootstrap-server localhost:9092"
   ]
  },
  {
   "cell_type": "code",
   "execution_count": null,
   "metadata": {},
   "outputs": [],
   "source": [
    "# Execute Python producer and consumer scripts on a new terminal\n",
    "!python src/producer.py"
   ]
  },
  {
   "attachments": {},
   "cell_type": "markdown",
   "metadata": {},
   "source": [
    "## Consumer"
   ]
  },
  {
   "attachments": {},
   "cell_type": "markdown",
   "metadata": {},
   "source": [
    "Streaming data consumer"
   ]
  },
  {
   "cell_type": "code",
   "execution_count": 12,
   "metadata": {},
   "outputs": [
    {
     "name": "stdout",
     "output_type": "stream",
     "text": [
      "Connecting to the database\n",
      "Connected to database\n"
     ]
    }
   ],
   "source": [
    "print(\"Connecting to the database\")\n",
    "try:\n",
    "    connection = mysql.connector.connect(host=HOST, database=DATABASE, user=USERNAME, password=PASSWORD)\n",
    "except Exception:\n",
    "    print(\"Could not connect to database. Please check credentials\")\n",
    "else:\n",
    "    print(\"Connected to database\")\n",
    "cursor = connection.cursor()"
   ]
  },
  {
   "cell_type": "code",
   "execution_count": 13,
   "metadata": {},
   "outputs": [
    {
     "name": "stdout",
     "output_type": "stream",
     "text": [
      "Connecting to Kafka\n",
      "Connected to Kafka\n"
     ]
    }
   ],
   "source": [
    "print(\"Connecting to Kafka\")\n",
    "consumer = KafkaConsumer(TOPIC)\n",
    "print(\"Connected to Kafka\")"
   ]
  },
  {
   "cell_type": "code",
   "execution_count": 15,
   "metadata": {},
   "outputs": [
    {
     "name": "stdout",
     "output_type": "stream",
     "text": [
      "Reading messages from the topic toll\n",
      "A car was inserted into the database\n",
      "A car was inserted into the database\n",
      "A car was inserted into the database\n",
      "A car was inserted into the database\n",
      "A car was inserted into the database\n",
      "A car was inserted into the database\n",
      "A car was inserted into the database\n"
     ]
    }
   ],
   "source": [
    "print(f\"Reading messages from the topic {TOPIC}\")\n",
    "\n",
    "for msg in consumer:\n",
    "    # Extract information from kafka\n",
    "    message = msg.value.decode(\"utf-8\")\n",
    "    \n",
    "    # Split message into several columns\n",
    "    (timestamp, vehcile_id, vehicle_type, plaza_id) = message.split(\",\")\n",
    "\n",
    "    # Transform the date format to suit the database schema\n",
    "    dateobj = datetime.strptime(timestamp, '%a %b %d %H:%M:%S %Y')\n",
    "    timestamp = dateobj.strftime(\"%Y-%m-%d %H:%M:%S\")\n",
    "\n",
    "    # Loading data into the mysql database table\n",
    "    sql = \"insert into livetolldata values(%s,%s,%s,%s)\"\n",
    "    result = cursor.execute(sql, (timestamp, vehcile_id, vehicle_type, plaza_id))\n",
    "    print(f\"A {vehicle_type} was inserted into the database\")\n",
    "    connection.commit()"
   ]
  },
  {
   "cell_type": "code",
   "execution_count": null,
   "metadata": {},
   "outputs": [],
   "source": [
    "connection.close()"
   ]
  },
  {
   "cell_type": "code",
   "execution_count": 7,
   "metadata": {},
   "outputs": [
    {
     "data": {
      "text/html": [
       "<div>\n",
       "<style scoped>\n",
       "    .dataframe tbody tr th:only-of-type {\n",
       "        vertical-align: middle;\n",
       "    }\n",
       "\n",
       "    .dataframe tbody tr th {\n",
       "        vertical-align: top;\n",
       "    }\n",
       "\n",
       "    .dataframe thead th {\n",
       "        text-align: right;\n",
       "    }\n",
       "</style>\n",
       "<table border=\"1\" class=\"dataframe\">\n",
       "  <thead>\n",
       "    <tr style=\"text-align: right;\">\n",
       "      <th></th>\n",
       "      <th>timestamp</th>\n",
       "      <th>vehicle_id</th>\n",
       "      <th>vehicle_type</th>\n",
       "      <th>toll_plaza_id</th>\n",
       "    </tr>\n",
       "  </thead>\n",
       "  <tbody>\n",
       "    <tr>\n",
       "      <th>0</th>\n",
       "      <td>2022-12-18 00:20:11</td>\n",
       "      <td>2514976</td>\n",
       "      <td>car</td>\n",
       "      <td>4001</td>\n",
       "    </tr>\n",
       "    <tr>\n",
       "      <th>1</th>\n",
       "      <td>2022-12-18 00:20:13</td>\n",
       "      <td>6995343</td>\n",
       "      <td>car</td>\n",
       "      <td>4006</td>\n",
       "    </tr>\n",
       "    <tr>\n",
       "      <th>2</th>\n",
       "      <td>2022-12-18 00:20:14</td>\n",
       "      <td>2462246</td>\n",
       "      <td>car</td>\n",
       "      <td>4006</td>\n",
       "    </tr>\n",
       "    <tr>\n",
       "      <th>3</th>\n",
       "      <td>2022-12-18 00:20:15</td>\n",
       "      <td>4392503</td>\n",
       "      <td>car</td>\n",
       "      <td>4010</td>\n",
       "    </tr>\n",
       "    <tr>\n",
       "      <th>4</th>\n",
       "      <td>2022-12-18 00:20:16</td>\n",
       "      <td>5229321</td>\n",
       "      <td>car</td>\n",
       "      <td>4003</td>\n",
       "    </tr>\n",
       "    <tr>\n",
       "      <th>5</th>\n",
       "      <td>2022-12-18 00:20:18</td>\n",
       "      <td>1181848</td>\n",
       "      <td>car</td>\n",
       "      <td>4004</td>\n",
       "    </tr>\n",
       "    <tr>\n",
       "      <th>6</th>\n",
       "      <td>2022-12-18 00:21:00</td>\n",
       "      <td>1649677</td>\n",
       "      <td>car</td>\n",
       "      <td>4003</td>\n",
       "    </tr>\n",
       "    <tr>\n",
       "      <th>7</th>\n",
       "      <td>2022-12-18 00:21:01</td>\n",
       "      <td>9259551</td>\n",
       "      <td>car</td>\n",
       "      <td>4007</td>\n",
       "    </tr>\n",
       "    <tr>\n",
       "      <th>8</th>\n",
       "      <td>2022-12-18 00:21:01</td>\n",
       "      <td>6624235</td>\n",
       "      <td>car</td>\n",
       "      <td>4005</td>\n",
       "    </tr>\n",
       "    <tr>\n",
       "      <th>9</th>\n",
       "      <td>2022-12-18 00:21:01</td>\n",
       "      <td>4604311</td>\n",
       "      <td>car</td>\n",
       "      <td>4009</td>\n",
       "    </tr>\n",
       "  </tbody>\n",
       "</table>\n",
       "</div>"
      ],
      "text/plain": [
       "            timestamp  vehicle_id vehicle_type  toll_plaza_id\n",
       "0 2022-12-18 00:20:11     2514976          car           4001\n",
       "1 2022-12-18 00:20:13     6995343          car           4006\n",
       "2 2022-12-18 00:20:14     2462246          car           4006\n",
       "3 2022-12-18 00:20:15     4392503          car           4010\n",
       "4 2022-12-18 00:20:16     5229321          car           4003\n",
       "5 2022-12-18 00:20:18     1181848          car           4004\n",
       "6 2022-12-18 00:21:00     1649677          car           4003\n",
       "7 2022-12-18 00:21:01     9259551          car           4007\n",
       "8 2022-12-18 00:21:01     6624235          car           4005\n",
       "9 2022-12-18 00:21:01     4604311          car           4009"
      ]
     },
     "execution_count": 7,
     "metadata": {},
     "output_type": "execute_result"
    }
   ],
   "source": [
    "# Verifying if data was loaded successfully on a new terminal\n",
    "connection_string = \"mysql+pymysql://%s:%s@%s:%s/%s\" % (USERNAME, PASSWORD, HOST, \"3306\", DATABASE)\n",
    "\n",
    "conn = mysql.connector.connect(host=HOST, user=USERNAME, passwd=PASSWORD, db=DATABASE, charset='utf8mb4')\n",
    "\n",
    "pd.read_sql_query(\"\"\"select * from livetolldata limit 10\"\"\", conn)"
   ]
  },
  {
   "cell_type": "code",
   "execution_count": null,
   "metadata": {},
   "outputs": [],
   "source": [
    "print(\"Successfully completed Data Pipeline\")"
   ]
  }
 ],
 "metadata": {
  "kernelspec": {
   "display_name": "Python 3",
   "language": "python",
   "name": "python3"
  },
  "language_info": {
   "codemirror_mode": {
    "name": "ipython",
    "version": 3
   },
   "file_extension": ".py",
   "mimetype": "text/x-python",
   "name": "python",
   "nbconvert_exporter": "python",
   "pygments_lexer": "ipython3",
   "version": "3.9.10 (v3.9.10:f2f3f53782, Jan 13 2022, 17:02:14) \n[Clang 6.0 (clang-600.0.57)]"
  },
  "orig_nbformat": 4,
  "vscode": {
   "interpreter": {
    "hash": "aee8b7b246df8f9039afb4144a1f6fd8d2ca17a180786b69acc140d282b71a49"
   }
  }
 },
 "nbformat": 4,
 "nbformat_minor": 2
}
