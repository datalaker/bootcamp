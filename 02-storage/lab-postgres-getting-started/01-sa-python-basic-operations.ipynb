{
 "cells": [
  {
   "attachments": {},
   "cell_type": "markdown",
   "metadata": {},
   "source": [
    "## Connect via Python and Create a new database named `mydb`"
   ]
  },
  {
   "cell_type": "code",
   "execution_count": null,
   "metadata": {},
   "outputs": [],
   "source": [
    "import os\n",
    "import pandas as pd\n",
    "from sqlalchemy import create_engine\n",
    "\n",
    "POSTGRES_USERNAME = ''\n",
    "POSTGRES_PASSWORD = ''\n",
    "POSTGRES_ENDPOINT = ''\n",
    "POSTGRES_DATABASE = ''\n",
    "\n",
    "CONN = f\"postgresql://{POSTGRES_USERNAME}:{POSTGRES_PASSWORD}@{POSTGRES_ENDPOINT}:5432/{POSTGRES_DATABASE}\"\n",
    "\n",
    "engine = create_engine(CONN)\n",
    "\n",
    "conn = engine.connect()\n",
    "\n",
    "try: \n",
    "    conn.execution_options(isolation_level=\"AUTOCOMMIT\").execute(\"CREATE DATABASE mydb\")\n",
    "except Exception as e:\n",
    "    print(e)\n",
    "finally:\n",
    "    conn.close()"
   ]
  },
  {
   "attachments": {},
   "cell_type": "markdown",
   "metadata": {},
   "source": [
    "## Create the following table schema into the database"
   ]
  },
  {
   "attachments": {},
   "cell_type": "markdown",
   "metadata": {},
   "source": [
    "| field name | data type |\n",
    "| ---------- | --------- |\n",
    "| student_id | integer |\n",
    "| name | varchar |\n",
    "| age | integer |\n",
    "| gender | varchar |\n",
    "| subject | varchar |\n",
    "| marks | integer |"
   ]
  },
  {
   "cell_type": "code",
   "execution_count": null,
   "metadata": {},
   "outputs": [],
   "source": [
    "conn = engine.connect()\n",
    "\n",
    "try: \n",
    "    conn.execute(\"CREATE TABLE IF NOT EXISTS students (student_id int, name varchar,\\\n",
    "    age int, gender varchar, subject varchar, marks int);\")\n",
    "except Exception as e: \n",
    "    print(\"Error: Issue creating table\")\n",
    "    print(e)\n",
    "finally:\n",
    "    conn.close()"
   ]
  },
  {
   "attachments": {},
   "cell_type": "markdown",
   "metadata": {},
   "source": [
    "## Insert the following two rows in the table"
   ]
  },
  {
   "attachments": {},
   "cell_type": "markdown",
   "metadata": {},
   "source": [
    "- First Row:  1, \"Raj\", 23, \"Male\", \"Python\", 85\n",
    "- Second Row: 2, \"Priya\", 22, \"Female\", \"Python\", 86"
   ]
  },
  {
   "cell_type": "code",
   "execution_count": null,
   "metadata": {},
   "outputs": [],
   "source": [
    "conn = engine.connect()\n",
    "\n",
    "try: \n",
    "    conn.execute(\"INSERT INTO students (student_id, name, age, gender, subject, marks) \\\n",
    "                 VALUES (%s, %s, %s, %s, %s, %s)\", \\\n",
    "                 (1, \"Raj\", 23, \"Male\", \"Python\", 85))\n",
    "    conn.execute(\"INSERT INTO students (student_id, name, age, gender, subject, marks) \\\n",
    "                  VALUES (%s, %s, %s, %s, %s, %s)\",\n",
    "                  ( 2, \"Priya\", 22, \"Female\", \"Python\", 86))\n",
    "except Exception as e: \n",
    "    print(\"Error: Inserting Rows\")\n",
    "    print (e)\n",
    "finally:\n",
    "    conn.close()"
   ]
  },
  {
   "attachments": {},
   "cell_type": "markdown",
   "metadata": {},
   "source": [
    "## Retrieve the results and print"
   ]
  },
  {
   "attachments": {},
   "cell_type": "markdown",
   "metadata": {},
   "source": [
    "### **Method 1: Using connection fetch method**"
   ]
  },
  {
   "cell_type": "code",
   "execution_count": null,
   "metadata": {},
   "outputs": [],
   "source": [
    "conn = engine.connect()\n",
    "\n",
    "try: \n",
    "    result = conn.execute(\"SELECT * FROM students;\")\n",
    "except Exception as e: \n",
    "    print(\"Error: select *\")\n",
    "    print(e)\n",
    "\n",
    "row = result.fetchone()\n",
    "while row:\n",
    "    print(row)\n",
    "    row = result.fetchone()"
   ]
  },
  {
   "attachments": {},
   "cell_type": "markdown",
   "metadata": {},
   "source": [
    "### **Method 2: Using Pandas**"
   ]
  },
  {
   "cell_type": "code",
   "execution_count": null,
   "metadata": {},
   "outputs": [],
   "source": [
    "conn = engine.connect()\n",
    "pd.read_sql(\"SELECT * FROM students\", con=conn)"
   ]
  },
  {
   "attachments": {},
   "cell_type": "markdown",
   "metadata": {},
   "source": [
    "## Perform CRUD operations on a sample music data"
   ]
  },
  {
   "cell_type": "code",
   "execution_count": null,
   "metadata": {},
   "outputs": [],
   "source": [
    "query = \"\"\"\n",
    "CREATE TABLE Music (\n",
    "    Artist VARCHAR(20) NOT NULL, \n",
    "    SongTitle VARCHAR(30) NOT NULL,\n",
    "    AlbumTitle VARCHAR(25),\n",
    "    Year INT,\n",
    "    Price FLOAT,\n",
    "    Genre VARCHAR(10),\n",
    "    CriticRating FLOAT,\n",
    "    Tags TEXT,\n",
    "    PRIMARY KEY(Artist, SongTitle)\n",
    ");\n",
    "\"\"\""
   ]
  },
  {
   "cell_type": "code",
   "execution_count": null,
   "metadata": {},
   "outputs": [],
   "source": [
    "conn = engine.connect()\n",
    "\n",
    "try: \n",
    "    result = conn.execute(query)\n",
    "except Exception as e: \n",
    "    print(e)"
   ]
  },
  {
   "cell_type": "code",
   "execution_count": null,
   "metadata": {},
   "outputs": [],
   "source": [
    "query = \"\"\"\n",
    "INSERT INTO Music \n",
    "    (Artist, SongTitle, AlbumTitle, \n",
    "    Year, Price, Genre, CriticRating, \n",
    "    Tags)\n",
    "VALUES(\n",
    "    'No One You Know', 'Call Me Today', 'Somewhat Famous',\n",
    "    2015, 2.14, 'Country', 7.8,\n",
    "    '{\"Composers\": [\"Smith\", \"Jones\", \"Davis\"],\"LengthInSeconds\": 214}'\n",
    ");\n",
    "INSERT INTO Music \n",
    "    (Artist, SongTitle, AlbumTitle, \n",
    "    Price, Genre, CriticRating)\n",
    "VALUES(\n",
    "    'No One You Know', 'My Dog Spot', 'Hey Now',\n",
    "    1.98, 'Country', 8.4\n",
    ");\n",
    "INSERT INTO Music \n",
    "    (Artist, SongTitle, AlbumTitle, \n",
    "    Price, Genre)\n",
    "VALUES(\n",
    "    'The Acme Band', 'Look Out, World', 'The Buck Starts Here',\n",
    "    0.99, 'Rock'\n",
    ");\n",
    "INSERT INTO Music \n",
    "    (Artist, SongTitle, AlbumTitle, \n",
    "    Price, Genre, \n",
    "    Tags)\n",
    "VALUES(\n",
    "    'The Acme Band', 'Still In Love', 'The Buck Starts Here',\n",
    "    2.47, 'Rock', \n",
    "    '{\"radioStationsPlaying\": [\"KHCR\", \"KBQX\", \"WTNR\", \"WJJH\"], \"tourDates\": { \"Seattle\": \"20150625\", \"Cleveland\": \"20150630\"}, \"rotation\": Heavy}'\n",
    ");\n",
    "\"\"\""
   ]
  },
  {
   "cell_type": "code",
   "execution_count": null,
   "metadata": {},
   "outputs": [],
   "source": [
    "conn = engine.connect()\n",
    "\n",
    "try: \n",
    "    result = conn.execute(query)\n",
    "except Exception as e: \n",
    "    print(e)"
   ]
  },
  {
   "cell_type": "code",
   "execution_count": null,
   "metadata": {},
   "outputs": [],
   "source": [
    "query = \"\"\"\n",
    "SELECT * FROM Music;\n",
    "\"\"\"\n",
    "\n",
    "conn = engine.connect()\n",
    "pd.read_sql(query, conn)"
   ]
  },
  {
   "cell_type": "code",
   "execution_count": null,
   "metadata": {},
   "outputs": [],
   "source": [
    "query = \"\"\"\n",
    "SELECT * FROM Music\n",
    "WHERE Artist='No One You Know';\n",
    "\"\"\"\n",
    "\n",
    "conn = engine.connect()\n",
    "pd.read_sql(query, conn)"
   ]
  },
  {
   "cell_type": "code",
   "execution_count": null,
   "metadata": {},
   "outputs": [],
   "source": [
    "query = \"\"\"\n",
    "SELECT * FROM Music\n",
    "WHERE Artist='No One You Know' AND SongTitle LIKE 'Call%%';\n",
    "\"\"\"\n",
    "\n",
    "conn = engine.connect()\n",
    "pd.read_sql(query, conn)"
   ]
  },
  {
   "cell_type": "code",
   "execution_count": null,
   "metadata": {},
   "outputs": [],
   "source": [
    "query = \"\"\"\n",
    "SELECT * FROM Music\n",
    "WHERE Artist='No One You Know' AND SongTitle LIKE '%%Today%%'\n",
    "AND Price > 1.00;\n",
    "\"\"\"\n",
    "\n",
    "conn = engine.connect()\n",
    "pd.read_sql(query, conn)"
   ]
  },
  {
   "cell_type": "code",
   "execution_count": null,
   "metadata": {},
   "outputs": [],
   "source": [
    "query = \"\"\"\n",
    "UPDATE Music\n",
    "SET Genre = 'Disco'\n",
    "WHERE Artist = 'The Acme Band' AND SongTitle = 'Still In Love';\n",
    "\"\"\"\n",
    "\n",
    "conn = engine.connect()\n",
    "\n",
    "try: \n",
    "    conn.execute(query)\n",
    "except Exception as e: \n",
    "    print(e)"
   ]
  },
  {
   "cell_type": "code",
   "execution_count": null,
   "metadata": {},
   "outputs": [],
   "source": [
    "query = \"\"\"\n",
    "SELECT * FROM Music;\n",
    "\"\"\"\n",
    "\n",
    "conn = engine.connect()\n",
    "pd.read_sql(query, conn)"
   ]
  },
  {
   "cell_type": "code",
   "execution_count": null,
   "metadata": {},
   "outputs": [],
   "source": [
    "query = \"\"\"\n",
    "DELETE FROM Music\n",
    "WHERE Artist = 'The Acme Band' AND SongTitle = 'Look Out, World';\n",
    "\"\"\"\n",
    "\n",
    "conn = engine.connect()\n",
    "\n",
    "try: \n",
    "    conn.execute(query)\n",
    "except Exception as e: \n",
    "    print(e)"
   ]
  },
  {
   "cell_type": "code",
   "execution_count": null,
   "metadata": {},
   "outputs": [],
   "source": [
    "query = \"\"\"\n",
    "SELECT * FROM Music;\n",
    "\"\"\"\n",
    "\n",
    "conn = engine.connect()\n",
    "pd.read_sql(query, conn)"
   ]
  },
  {
   "cell_type": "code",
   "execution_count": null,
   "metadata": {},
   "outputs": [],
   "source": [
    "query = \"\"\"\n",
    "DROP TABLE Music;\n",
    "\"\"\"\n",
    "\n",
    "conn = engine.connect()\n",
    "\n",
    "try: \n",
    "    conn.execute(query)\n",
    "except Exception as e: \n",
    "    print(e)"
   ]
  },
  {
   "attachments": {},
   "cell_type": "markdown",
   "metadata": {},
   "source": [
    "## Download and insert data from a csv file into the database"
   ]
  },
  {
   "cell_type": "code",
   "execution_count": null,
   "metadata": {},
   "outputs": [],
   "source": [
    "!wget -q --show-progress https://github.com/RecoHut-Datasets/retail_general/raw/main/sample_superstore.csv"
   ]
  },
  {
   "cell_type": "code",
   "execution_count": null,
   "metadata": {},
   "outputs": [],
   "source": [
    "!head sample_superstore.csv"
   ]
  },
  {
   "cell_type": "code",
   "execution_count": null,
   "metadata": {},
   "outputs": [],
   "source": [
    "data = pd.read_csv('sample_superstore.csv')"
   ]
  },
  {
   "cell_type": "code",
   "execution_count": null,
   "metadata": {},
   "outputs": [],
   "source": [
    "data.to_sql('superstore',\n",
    "            con=engine,\n",
    "            if_exists='replace',\n",
    "            index=False,\n",
    "            method='multi')"
   ]
  },
  {
   "cell_type": "code",
   "execution_count": null,
   "metadata": {},
   "outputs": [],
   "source": [
    "conn = engine.connect()\n",
    "pd.read_sql(\"SELECT * FROM superstore LIMIT 10\", con=conn)"
   ]
  }
 ],
 "metadata": {
  "kernelspec": {
   "display_name": "Python 3",
   "language": "python",
   "name": "python3"
  },
  "language_info": {
   "name": "python",
   "version": "3.9.10"
  },
  "orig_nbformat": 4,
  "vscode": {
   "interpreter": {
    "hash": "aee8b7b246df8f9039afb4144a1f6fd8d2ca17a180786b69acc140d282b71a49"
   }
  }
 },
 "nbformat": 4,
 "nbformat_minor": 2
}
