{
 "cells": [
  {
   "attachments": {},
   "cell_type": "markdown",
   "metadata": {},
   "source": [
    "## Connect"
   ]
  },
  {
   "cell_type": "code",
   "execution_count": null,
   "metadata": {},
   "outputs": [],
   "source": [
    "import pandas as pd\n",
    "import psycopg2\n",
    "import boto3\n",
    "import json\n",
    "from sqlalchemy import create_engine\n",
    "from sqlalchemy import text"
   ]
  },
  {
   "cell_type": "code",
   "execution_count": null,
   "metadata": {},
   "outputs": [],
   "source": [
    "def get_secret(secret_name='wysde'):\n",
    "    region_name = \"us-east-1\"\n",
    "    session = boto3.session.Session()\n",
    "    client = session.client(\n",
    "        service_name='secretsmanager',\n",
    "        region_name=region_name)\n",
    "    get_secret_value_response = client.get_secret_value(SecretId=secret_name)\n",
    "    get_secret_value_response = json.loads(get_secret_value_response['SecretString'])\n",
    "    return get_secret_value_response\n",
    "\n",
    "secret_vals = get_secret()\n",
    "\n",
    "redshift_endpoint = secret_vals['REDSHIFT_HOST']\n",
    "redshift_user = secret_vals['REDSHIFT_USERNAME']\n",
    "redshift_pass = secret_vals['REDSHIFT_PASSWORD']\n",
    "port = 5439\n",
    "dbname = \"dev\"\n",
    "\n",
    "engine_string = \"postgresql+psycopg2://%s:%s@%s:%d/%s\" \\\n",
    "% (redshift_user, redshift_pass, redshift_endpoint, port, dbname)\n",
    "engine = create_engine(engine_string)"
   ]
  },
  {
   "cell_type": "code",
   "execution_count": null,
   "metadata": {},
   "outputs": [],
   "source": [
    "query = \"\"\"\n",
    "SELECT *\n",
    "FROM pg_catalog.pg_tables\n",
    "WHERE schemaname != 'pg_catalog' AND \n",
    "    schemaname != 'information_schema';\n",
    "\"\"\"\n",
    "df = pd.read_sql_query(text(query), engine)\n",
    "\n",
    "query = \"\"\"\n",
    "SELECT * FROM \"dev\".\"public\".\"users\";\n",
    "\"\"\"\n",
    "df = pd.read_sql_query(text(query), engine)"
   ]
  },
  {
   "attachments": {},
   "cell_type": "markdown",
   "metadata": {},
   "source": [
    "## Taxi Data Process and Save to Redshift using AWS Wrangler"
   ]
  },
  {
   "cell_type": "code",
   "execution_count": null,
   "metadata": {},
   "outputs": [],
   "source": [
    "! pip install psycopg2-binary awscli boto3 awswrangler"
   ]
  },
  {
   "cell_type": "code",
   "execution_count": null,
   "metadata": {},
   "outputs": [],
   "source": [
    "import os\n",
    "import boto3\n",
    "import json\n",
    "from time import time\n",
    "\n",
    "import psycopg2\n",
    "import pandas as pd\n",
    "from sqlalchemy import create_engine\n",
    "import awswrangler as wr\n",
    "\n",
    "\n",
    "SECRET_NAME = \"wysde\"\n",
    "URL = \"https://d37ci6vzurychx.cloudfront.net/trip-data/yellow_tripdata_2022-01.parquet\"\n",
    "INFILE = \"yellow_tripdata_2022-01.parquet\"\n",
    "S3_PATH = \"s3://wysde/taxi\"\n",
    "DB_NAME = \"dev\"\n",
    "TABLE_NAME = \"yellow_tripdata_2022_01\"\n",
    "CONN_NAME = \"aws-data-wrangler-redshift-dev\"\n",
    "\n",
    "CONN = wr.redshift.connect(CONN_NAME)\n",
    "\n",
    "os.system(f\"wget {URL} -O {INFILE}\")\n",
    "wr.s3.upload(local_file=INFILE, path=S3_PATH+\"/\"+INFILE)\n",
    "dfs = wr.s3.read_parquet(path=S3_PATH+\"/\"+INFILE, chunked=100000)\n",
    "\n",
    "for df in dfs:\n",
    "    df.tpep_pickup_datetime = pd.to_datetime(df.tpep_pickup_datetime)\n",
    "    df.tpep_dropoff_datetime = pd.to_datetime(df.tpep_dropoff_datetime)\n",
    "    wr.redshift.copy(\n",
    "        df=df,\n",
    "        path=S3_PATH+\"/\"+INFILE,\n",
    "        con=CONN,\n",
    "        schema='public',\n",
    "        table=TABLE_NAME,\n",
    "        mode=\"upsert\",\n",
    "        primary_keys=[\"VendorID\"]\n",
    "    )"
   ]
  }
 ],
 "metadata": {
  "language_info": {
   "name": "python"
  },
  "orig_nbformat": 4
 },
 "nbformat": 4,
 "nbformat_minor": 2
}
