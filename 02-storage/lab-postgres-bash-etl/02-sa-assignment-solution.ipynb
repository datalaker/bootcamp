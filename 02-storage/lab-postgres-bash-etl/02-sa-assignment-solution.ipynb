{
 "cells": [
  {
   "attachments": {},
   "cell_type": "markdown",
   "metadata": {},
   "source": [
    "## Solution"
   ]
  },
  {
   "attachments": {},
   "cell_type": "markdown",
   "metadata": {},
   "source": [
    "**Task 1: Start the Postgres server.**\n",
    "\n",
    "```sh\n",
    "start_postgres\n",
    "```"
   ]
  },
  {
   "attachments": {},
   "cell_type": "markdown",
   "metadata": {},
   "source": [
    "**Task 2: Create the table.**\n",
    "\n",
    "Create a table named `access_log` to store the timestamp, latitude, longitude and visitorid.\n",
    "\n",
    "```sh\n",
    "psql --username=<username> --host=<hostname>\n",
    "\\c postgres;\n",
    "```\n",
    "\n",
    "Once you connect to the database, run the command to create the table called 'access_log':\n",
    "\n",
    "```sh\n",
    "CREATE TABLE access_log(timestamp TIMESTAMP, latitude float, longitude float, visitor_id char(37));\n",
    "```\n",
    "\n",
    "Once you receive the confirmation message 'CREATE TABLE', quit from psql:\n",
    "\n",
    "```sh\n",
    "\\q\n",
    "```"
   ]
  },
  {
   "attachments": {},
   "cell_type": "markdown",
   "metadata": {},
   "source": [
    "**Task 3. Unzip the gzip file.**\n",
    "\n",
    "Run the gunzip command to unzip the .gz file and extract the .txt file.\n",
    "\n",
    "```sh\n",
    "# Unzip the file to extract the .txt file.\n",
    "cd data\n",
    "gunzip -f web-server-access-log.txt.gz\n",
    "```\n",
    "\n",
    "The **-f** option of gunzip is to overwrite the file if it already exists."
   ]
  },
  {
   "attachments": {},
   "cell_type": "markdown",
   "metadata": {},
   "source": [
    "**Task 4. Extract required fields from the file.**\n",
    "\n",
    "Extract timestamp, latitude, longitude and visitorid which are the first four fields from the file using the `cut` command.\n",
    "\n",
    "The columns in the web-server-access-log.txt file is delimited by '#'.\n",
    "\n",
    "```sh\n",
    "# Extract phase\n",
    "cd data\n",
    "echo \"Extracting data\"\n",
    "cut -d\"#\" -f1-4 web-server-access-log.txt > extracted-data.txt\n",
    "```"
   ]
  },
  {
   "attachments": {},
   "cell_type": "markdown",
   "metadata": {},
   "source": [
    "**Task 5. Transform the data into CSV format.**\n",
    "\n",
    "The extracted columns are separated by the original \"#\" delimiter.\n",
    "\n",
    "We need to convert this into a \",\" delimited file.\n",
    "\n",
    "Use 'tr' command for transformation.\n",
    "\n",
    "```sh\n",
    "# Transform phase\n",
    "echo \"Transforming data\"\n",
    "\n",
    "# read the extracted data and replace the colons with commas.\n",
    "tr \"#\"  \",\"  < extracted-data.txt > transformed-data.csv\n",
    "```"
   ]
  },
  {
   "attachments": {},
   "cell_type": "markdown",
   "metadata": {},
   "source": [
    "**Task 6. Load the data into the table `access_log` in PostgreSQL**\n",
    "\n",
    "PostgreSQL command to copy data from a CSV file to a table is `COPY`.\n",
    "\n",
    "The basic structure of the command is,\n",
    "\n",
    "```sh\n",
    "COPY table_name FROM 'filename' DELIMITERS 'delimiter_character' FORMAT;\n",
    "```\n",
    "\n",
    "The file comes with a header. So use the 'HEADER' option in the 'COPY' command.\n",
    "\n",
    "Invoke this command from the shellscript, by sending it as input to 'psql' filter command.\n",
    "\n",
    "```sh\n",
    "# Load phase\n",
    "echo \"Loading data\"\n",
    "\n",
    "# Send the instructions to connect to 'postgres' and\n",
    "# copy the file to the table 'access_log' through command pipeline.\n",
    "echo \"\\c postgres;\\COPY access_log  FROM 'data/transformed-data.csv' DELIMITERS ',' CSV HEADER;\"  | psql --username=<username> --host=<hostname>\n",
    "```\n",
    "\n",
    "Run the command below at the shell prompt to verify that the table accesss_log is populated with the data.\n",
    "\n",
    "```sh\n",
    "echo '\\c postgres; \\\\SELECT * from access_log;'  | psql --username=postgres --host=localhost\n",
    "```\n",
    "\n",
    "You should see the records displayed on screen."
   ]
  }
 ],
 "metadata": {
  "kernelspec": {
   "display_name": "Python 3",
   "language": "python",
   "name": "python3"
  },
  "language_info": {
   "name": "python",
   "version": "3.9.10 (v3.9.10:f2f3f53782, Jan 13 2022, 17:02:14) \n[Clang 6.0 (clang-600.0.57)]"
  },
  "orig_nbformat": 4,
  "vscode": {
   "interpreter": {
    "hash": "aee8b7b246df8f9039afb4144a1f6fd8d2ca17a180786b69acc140d282b71a49"
   }
  }
 },
 "nbformat": 4,
 "nbformat_minor": 2
}
