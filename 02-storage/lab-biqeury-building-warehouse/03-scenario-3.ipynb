{
 "cells": [
  {
   "attachments": {},
   "cell_type": "markdown",
   "metadata": {},
   "source": [
    "# Scenario 3 - Exercise"
   ]
  },
  {
   "attachments": {},
   "cell_type": "markdown",
   "metadata": {},
   "source": [
    "## create dim table regions"
   ]
  },
  {
   "cell_type": "code",
   "execution_count": null,
   "metadata": {},
   "outputs": [],
   "source": [
    "from google.cloud import bigquery\n",
    "\n",
    "# TODO : Change to your project id\n",
    "PROJECT_ID = \"sparsh-data-eng-on-gcp\"\n",
    "TARGET_TABLE_ID = \"{}.dwh_bikesharing.dim_regions\".format(PROJECT_ID)\n",
    "\n",
    "\n",
    "def create_dim_table(PROJECT_ID, TARGET_TABLE_ID):\n",
    "    client = bigquery.Client()\n",
    "    job_config = bigquery.QueryJobConfig(\n",
    "        destination=TARGET_TABLE_ID,\n",
    "        write_disposition='WRITE_TRUNCATE')\n",
    "\n",
    "    sql = \"\"\"SELECT CAST(region_id AS STRING) as region_id, name\n",
    "          FROM `{}.raw_bikesharing.regions` regions\n",
    "          ;\"\"\".format(PROJECT_ID)\n",
    "\n",
    "    query_job = client.query(sql, job_config=job_config)\n",
    "\n",
    "    try:\n",
    "        query_job.result()\n",
    "        print(\"Query success\")\n",
    "    except Exception as exception:\n",
    "        print(exception)"
   ]
  },
  {
   "cell_type": "code",
   "execution_count": null,
   "metadata": {},
   "outputs": [],
   "source": [
    "create_dim_table(PROJECT_ID, TARGET_TABLE_ID)"
   ]
  },
  {
   "attachments": {},
   "cell_type": "markdown",
   "metadata": {},
   "source": [
    "## Create fact table daily by gender region"
   ]
  },
  {
   "cell_type": "code",
   "execution_count": null,
   "metadata": {},
   "outputs": [],
   "source": [
    "import sys\n",
    "from google.cloud import bigquery\n",
    "\n",
    "# TODO : Change to your project id\n",
    "PROJECT_ID = \"sparsh-data-eng-on-gcp\"\n",
    "target_table_id = \"{PROJECT_ID}.dwh_bikesharing.fact_region_gender_daily\".format(\n",
    "    PROJECT_ID)\n",
    "\n",
    "\n",
    "def create_fact_table(PROJECT_ID, target_table_id):\n",
    "    load_date = sys.argv[1]  # date format : yyyy-mm-dd\n",
    "    print(\"\\nLoad date:\", load_date)\n",
    "\n",
    "    client = bigquery.Client()\n",
    "    job_config = bigquery.QueryJobConfig(\n",
    "        destination=target_table_id,\n",
    "        write_disposition='WRITE_APPEND')\n",
    "\n",
    "    sql = \"\"\"SELECT DATE(start_date) as trip_date,\n",
    "                region_id,\n",
    "                member_gender,\n",
    "                COUNT(trip_id) as total_trips\n",
    "                FROM `{PROJECT_ID}.raw_bikesharing.trips` trips\n",
    "                JOIN `{PROJECT_ID}.raw_bikesharing.stations` stations\n",
    "                ON trips.start_station_id = stations.station_id\n",
    "                WHERE DATE(start_date) = DATE('{load_date}') AND member_gender IS NOT NULL\n",
    "                GROUP BY trip_date, region_id, member_gender\n",
    "                ;\"\"\".format(PROJECT_ID=PROJECT_ID, load_date=load_date)\n",
    "\n",
    "    query_job = client.query(sql, job_config=job_config)\n",
    "\n",
    "    try:\n",
    "        query_job.result()\n",
    "        print(\"Query success\")\n",
    "    except Exception as exception:\n",
    "        print(exception)"
   ]
  },
  {
   "cell_type": "code",
   "execution_count": null,
   "metadata": {},
   "outputs": [],
   "source": [
    "create_fact_table(PROJECT_ID, target_table_id)"
   ]
  },
  {
   "attachments": {},
   "cell_type": "markdown",
   "metadata": {},
   "source": [
    "## Answers"
   ]
  },
  {
   "cell_type": "code",
   "execution_count": null,
   "metadata": {
    "vscode": {
     "languageId": "sql"
    }
   },
   "outputs": [],
   "source": [
    "SELECT\n",
    "name as region_name, total_trips\n",
    "FROM `sparsh-data-eng-on-gcp.dwh_bikesharing.fact_region_gender_daily`fact\n",
    "JOIN `sparsh-data-eng-on-gcp.dwh_bikesharing.dim_regions` dim\n",
    "ON fact.region_id = dim.region_id\n",
    "WHERE DATE(trip_date) = DATE('2018-01-02')\n",
    "AND member_gender = 'Female'\n",
    "ORDER BY total_trips desc\n",
    "LIMIT 3;"
   ]
  }
 ],
 "metadata": {
  "kernelspec": {
   "display_name": "Python 3",
   "language": "python",
   "name": "python3"
  },
  "language_info": {
   "name": "python",
   "version": "3.9.10"
  },
  "orig_nbformat": 4,
  "vscode": {
   "interpreter": {
    "hash": "aee8b7b246df8f9039afb4144a1f6fd8d2ca17a180786b69acc140d282b71a49"
   }
  }
 },
 "nbformat": 4,
 "nbformat_minor": 2
}
