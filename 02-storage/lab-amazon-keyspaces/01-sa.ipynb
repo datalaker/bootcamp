{
 "cells": [
  {
   "cell_type": "code",
   "execution_count": null,
   "metadata": {},
   "outputs": [],
   "source": [
    "from cassandra.cluster import Cluster\n",
    "from ssl import SSLContext, PROTOCOL_TLSv1_2 , CERT_REQUIRED\n",
    "from cassandra.auth import PlainTextAuthProvider\n",
    "\n",
    "ssl_context = SSLContext(PROTOCOL_TLSv1_2 )\n",
    "ssl_context.load_verify_locations('sf-class2-root.crt')\n",
    "ssl_context.verify_mode = CERT_REQUIRED\n",
    "auth_provider = PlainTextAuthProvider(username='cassandra-keyspace-at-684199068947', password='')\n",
    "cluster = Cluster(['cassandra.us-east-1.amazonaws.com'], ssl_context=ssl_context, auth_provider=auth_provider, port=9142)\n",
    "session = cluster.connect()\n",
    "r = session.execute('select * from system_schema.keyspaces')\n",
    "print(r.current_rows)"
   ]
  },
  {
   "cell_type": "code",
   "execution_count": null,
   "metadata": {},
   "outputs": [],
   "source": [
    "!mkdir -p ~/.cassandra\n",
    "!curl https://certs.secureserver.net/repository/sf-class2-root.crt -O ~/.cassandra/sf-class2-root.crt"
   ]
  },
  {
   "cell_type": "code",
   "execution_count": 4,
   "metadata": {},
   "outputs": [
    {
     "name": "stdout",
     "output_type": "stream",
     "text": [
      "Writing /Users/sparshagarwal/.cassandra/cqlshrc\n"
     ]
    }
   ],
   "source": [
    "%%writefile ~/.cassandra/cqlshrc\n",
    "[connection]\n",
    "port = 9142\n",
    "factory = cqlshlib.ssl.ssl_transport_factory\n",
    "\n",
    "[ssl]\n",
    "validate = true\n",
    "certfile =  ~/.cassandra/sf-class2-root.crt\n",
    "version = TLSv1_2\n",
    "\n",
    "[copy]\n",
    "NUMPROCESSES=16\n",
    "MAXATTEMPTS=25\n",
    "\n",
    "[copy-from]\n",
    "CHUNKSIZE=30\n",
    "INGESTRATE=1500\n",
    "MAXINSERTERRORS=-1\n",
    "MAXPARSEERRORS=-1\n",
    "MINBATCHSIZE=1\n",
    "MAXBATCHSIZE=10\n",
    "\n",
    "[csv]\n",
    "field_size_limit=999999"
   ]
  },
  {
   "cell_type": "code",
   "execution_count": null,
   "metadata": {},
   "outputs": [],
   "source": [
    "cqlsh cassandra.us-east-1.amazonaws.com 9142 -u \"cassandra-keyspace-at-684199068947\" -p \"\" --ssl"
   ]
  },
  {
   "cell_type": "code",
   "execution_count": 7,
   "metadata": {},
   "outputs": [
    {
     "data": {
      "text/plain": [
       "[Row(keyspace_name='system_schema', durable_writes=True, replication=OrderedMapSerializedKey([('class', 'com.amazonaws.cassandra.DefaultReplication')])),\n",
       " Row(keyspace_name='system_schema_mcs', durable_writes=True, replication=OrderedMapSerializedKey([('class', 'com.amazonaws.cassandra.DefaultReplication')])),\n",
       " Row(keyspace_name='system', durable_writes=True, replication=OrderedMapSerializedKey([('class', 'com.amazonaws.cassandra.DefaultReplication')])),\n",
       " Row(keyspace_name='system_multiregion_info', durable_writes=True, replication=OrderedMapSerializedKey([('class', 'com.amazonaws.cassandra.DefaultReplication')])),\n",
       " Row(keyspace_name='flights', durable_writes=True, replication=OrderedMapSerializedKey([('class', 'com.amazonaws.cassandra.DefaultReplication')])),\n",
       " Row(keyspace_name='tutorialkeyspace', durable_writes=True, replication=OrderedMapSerializedKey([('class', 'com.amazonaws.cassandra.DefaultReplication')]))]"
      ]
     },
     "execution_count": 7,
     "metadata": {},
     "output_type": "execute_result"
    }
   ],
   "source": [
    "r = session.execute('select * from system_schema.keyspaces')\n",
    "r.current_rows"
   ]
  }
 ],
 "metadata": {
  "kernelspec": {
   "display_name": "Python 3.9.7 ('env-spacy')",
   "language": "python",
   "name": "python3"
  },
  "language_info": {
   "codemirror_mode": {
    "name": "ipython",
    "version": 3
   },
   "file_extension": ".py",
   "mimetype": "text/x-python",
   "name": "python",
   "nbconvert_exporter": "python",
   "pygments_lexer": "ipython3",
   "version": "3.9.7 (default, Sep 16 2021, 08:50:36) \n[Clang 10.0.0 ]"
  },
  "orig_nbformat": 4,
  "vscode": {
   "interpreter": {
    "hash": "343191058819caea96d5cde1bd3b1a75b4807623ce2cda0e1c8499e39ac847e3"
   }
  }
 },
 "nbformat": 4,
 "nbformat_minor": 2
}
